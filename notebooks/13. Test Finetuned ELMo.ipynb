{
 "cells": [
  {
   "cell_type": "code",
   "execution_count": 1,
   "metadata": {},
   "outputs": [
    {
     "name": "stderr",
     "output_type": "stream",
     "text": [
      "2018-08-27 16:09:04.740 DEBUG in 'matplotlib.backends'['__init__'] at line 90: backend module://ipykernel.pylab.backend_inline version unknown\n"
     ]
    }
   ],
   "source": [
    "import tensorflow as tf\n",
    "import tensorflow_hub as hub\n",
    "import numpy as np\n",
    "import matplotlib.pyplot as plt\n",
    "from sklearn.metrics import f1_score\n",
    "from typing import *\n",
    "import copy\n",
    "from deeppavlov.dataset_readers.ontonotes_reader import OntonotesReader"
   ]
  },
  {
   "cell_type": "code",
   "execution_count": 2,
   "metadata": {},
   "outputs": [
    {
     "name": "stderr",
     "output_type": "stream",
     "text": [
      "2018-08-27 16:09:04.819 INFO in 'summarizer.preprocessing.cleaner'['textcleaner'] at line 37: 'pattern' package not found; tag filters are not available for English\n"
     ]
    }
   ],
   "source": [
    "from src.fewshot_ner_viz_component.data_processing import *\n",
    "from src.fewshot_ner_viz_component.utils import *\n",
    "from src.fewshot_ner_viz_component.fewshot_ner_binary_classifier import *"
   ]
  },
  {
   "cell_type": "code",
   "execution_count": 3,
   "metadata": {},
   "outputs": [
    {
     "name": "stdout",
     "output_type": "stream",
     "text": [
      "Num of train sentences: 75187\n",
      "Num of valid sentences: 9603\n",
      "Num of test sentences: 9479\n",
      "[(['Actions', 'had', 'to', 'be', 'taken', 'to', 'break', 'through', 'the', 'blockade', '.'], ['O', 'O', 'O', 'O', 'O', 'O', 'O', 'O', 'O', 'O', 'O']), (['On', 'a', 'night', 'in', 'late', 'July', '1940', ',', 'the', 'atmosphere', 'in', 'Zhuanbi', 'Village', 'in', 'Shaanxi', 'was', 'unusual', '.'], ['O', 'B-DATE', 'I-DATE', 'I-DATE', 'I-DATE', 'I-DATE', 'I-DATE', 'O', 'O', 'O', 'O', 'B-GPE', 'I-GPE', 'O', 'B-GPE', 'O', 'O', 'O']), (['Villager', 'Xiao', 'Jianghe', 'has', 'a', 'vivid', 'memory', 'of', 'this', 'piece', 'of', 'history', '.'], ['O', 'B-PERSON', 'I-PERSON', 'O', 'O', 'O', 'O', 'O', 'O', 'O', 'O', 'O', 'O']), (['On', 'that', 'dark', 'night', ',', 'everyone', 'was', 'sleeping', 'when', 'human', 'voices', 'and', 'neighing', 'horses', 'were', 'heard', 'within', 'the', 'village', '.'], ['O', 'B-TIME', 'I-TIME', 'I-TIME', 'O', 'O', 'O', 'O', 'O', 'O', 'O', 'O', 'O', 'O', 'O', 'O', 'O', 'O', 'O', 'O']), (['People', 'all', 'got', 'up', '.'], ['O', 'O', 'O', 'O', 'O']), (['Did', 'something', 'happen', '?'], ['O', 'O', 'O', 'O']), (['Some', 'folks', 'got', 'up', '.'], ['O', 'O', 'O', 'O', 'O']), (['Opening', 'the', 'street', 'gate', ',', 'they', 'saw', 'a', 'soldier', 'standing', 'by', 'the', 'gate', '.'], ['O', 'O', 'O', 'O', 'O', 'O', 'O', 'O', 'O', 'O', 'O', 'O', 'O', 'O']), (['Folks', ',', 'go', 'back', ',', 'go', 'back', ',', 'nothing', 'is', 'wrong', '.'], ['O', 'O', 'O', 'O', 'O', 'O', 'O', 'O', 'O', 'O', 'O', 'O']), (['Our', 'troops', 'are', 'just', 'going', 'to', 'stay', 'here', 'for', 'the', 'night', '.'], ['O', 'O', 'O', 'O', 'O', 'O', 'O', 'O', 'O', 'O', 'O', 'O'])]\n",
      "Num of train sentences: 12195\n",
      "Num of valid sentences: 1553\n",
      "Num of test sentences: 1573\n"
     ]
    }
   ],
   "source": [
    "dataset_orig = read_data()\n",
    "ne_type = 'PERSON'\n",
    "dataset = filter_dataset_by_ne_types(dataset_orig, ne_type)"
   ]
  },
  {
   "cell_type": "code",
   "execution_count": 4,
   "metadata": {},
   "outputs": [],
   "source": [
    "tf.reset_default_graph()\n",
    "sess = tf.Session()"
   ]
  },
  {
   "cell_type": "code",
   "execution_count": 5,
   "metadata": {},
   "outputs": [],
   "source": [
    "class ElmoEmbedder():\n",
    "    def __init__(self, custom_weights=False, weights: list = [], trainable_cells=False, restore_path:str=None):\n",
    "        self.custom_weights = custom_weights\n",
    "        self.weights = weights\n",
    "        module_path = \"https://tfhub.dev/google/elmo/{}\".format(1 if trainable_cells else 2)\n",
    "        self.elmo = hub.Module(module_path, trainable=True)\n",
    "        sess = tf.Session()\n",
    "        sess.run(tf.global_variables_initializer())\n",
    "        self.sess = sess\n",
    "        elmo_vars = [v.name for v in tf.trainable_variables()]\n",
    "        elmo_vars_dict = {v.name: v for v in tf.trainable_variables()}\n",
    "        if restore_path:\n",
    "            print('Restoring finetuned ELMo params from {}'.format(restore_path))\n",
    "            saver = tf.train.Saver(elmo_vars_dict)\n",
    "            saver.restore(sess, restore_path)\n",
    "        self.elmo_vars = elmo_vars\n",
    "\n",
    "    def get_tokens_embeddings(self, tokens_input: list, tokens_length:list=None, res_as_dict=False):\n",
    "        if not tokens_length:\n",
    "            if isinstance(tokens_input[0], list):\n",
    "                tokens_length = [len(seq) for seq in tokens_input]\n",
    "            else:\n",
    "                tokens_length = len(tokens_input)\n",
    "        elmo_res = self.elmo(\n",
    "                        inputs={\n",
    "                            \"tokens\": tokens_input,\n",
    "                            \"sequence_len\": tokens_length\n",
    "                        },\n",
    "                        signature=\"tokens\",\n",
    "                        as_dict=True)\n",
    "        embeddings_sum = elmo_res[\"elmo\"]\n",
    "        word_emb = elmo_res[\"word_emb\"]\n",
    "        embeddings_layer1 = elmo_res[\"lstm_outputs1\"]\n",
    "        embeddings_layer2 = elmo_res[\"lstm_outputs2\"]\n",
    "        embeddings_sum, word_emb, embeddings_layer1, embeddings_layer2 = self.sess.run([embeddings_sum, word_emb, embeddings_layer1, embeddings_layer2])\n",
    "        word_emb = np.concatenate((word_emb, word_emb), axis=-1)\n",
    "        if res_as_dict:\n",
    "            return {'word': word_emb, 'layer1': embeddings_layer1, 'layer2': embeddings_layer2}\n",
    "        # print(embeddings_sum.shape)\n",
    "        # print(embeddings_layer1.shape)\n",
    "        # print(embeddings_layer2.shape)\n",
    "        embeddings = embeddings_sum\n",
    "        if self.custom_weights:\n",
    "            if len(self.weights) == 2:\n",
    "                embeddings = embeddings_layer1*self.weights[0] + embeddings_layer2*self.weights[1]\n",
    "            elif len(self.weights) == 3:\n",
    "                embeddings = word_emb*self.weights[0] + embeddings_layer1*self.weights[1] + embeddings_layer2*self.weights[2]\n",
    "        return embeddings"
   ]
  },
  {
   "cell_type": "code",
   "execution_count": 6,
   "metadata": {},
   "outputs": [],
   "source": [
    "class CompositeEmbedder():\n",
    "    def __init__(self, use_elmo=True, elmo_scale=1., cap_scale=1., use_cap_feat=False, use_glove=False, elmo_params={}):\n",
    "        self.use_elmo = use_elmo\n",
    "        self.elmo_scale = elmo_scale\n",
    "        self.cap_scale = cap_scale\n",
    "        self.use_cap_feat = use_cap_feat\n",
    "        self.use_glove = use_glove\n",
    "        if self.use_elmo:\n",
    "            self.elmo = ElmoEmbedder(**elmo_params)\n",
    "        if self.use_cap_feat:\n",
    "            self.cap_prep = CapitalizationPreprocessor()\n",
    "        if self.use_glove:\n",
    "            self.glove = GloVeEmbedder('embeddings/glove.6B/glove.6B.100d.txt', pad_zero=True)\n",
    "        self.embed_size = self.embed(['hehe']).shape[-1]\n",
    "\n",
    "    def embed(self, tokens: list, res_as_dict=False):\n",
    "        if isinstance(tokens[0], str):\n",
    "            tokens = [tokens]\n",
    "        # Get ELMo embeddings\n",
    "        if self.use_elmo:\n",
    "            tokens_input = add_padding(tokens)\n",
    "            tokens_length = get_tokens_len(tokens)\n",
    "            elmo_embed = self.elmo.get_tokens_embeddings(tokens_input, tokens_length)\n",
    "            embeddings = elmo_embed\n",
    "            embeddings *= self.elmo_scale\n",
    "            embed_size = embeddings.shape[-1]\n",
    "#             print(embeddings.shape)\n",
    "#             print(embed_size)\n",
    "\n",
    "        # Use capitalization features\n",
    "        if self.use_cap_feat:\n",
    "#             print('Use capitalization features')\n",
    "            cap_features = self.cap_prep(tokens)*self.cap_scale\n",
    "    #         print(cap_features)\n",
    "#             print(cap_features.shape)\n",
    "            embeddings = np.concatenate((embeddings, cap_features), axis=2)\n",
    "            embed_size = embeddings.shape[-1]\n",
    "#             print(embeddings.shape)\n",
    "\n",
    "        # Use GloVe embeddings\n",
    "        if self.use_glove:\n",
    "#             print('Use GloVe')\n",
    "\n",
    "            glove_embed = self.glove(to_lower_case(tokens))\n",
    "            glove_embed = np.array(glove_embed)\n",
    "            if not self.use_elmo:\n",
    "                embeddings = glove_embed\n",
    "            else:\n",
    "                embeddings = np.concatenate((embeddings, glove_embed), axis=2)\n",
    "            embed_size = embeddings.shape[-1]\n",
    "#             print(embeddings.shape)\n",
    "\n",
    "        if res_as_dict:\n",
    "            return {'elmo': elmo_embed, 'cap': cap_features, 'glove': glove_embed}\n",
    "        return embeddings"
   ]
  },
  {
   "cell_type": "code",
   "execution_count": 7,
   "metadata": {},
   "outputs": [],
   "source": [
    "# elmo = hub.Module(\"https://tfhub.dev/google/elmo/1\", trainable=True)"
   ]
  },
  {
   "cell_type": "code",
   "execution_count": 8,
   "metadata": {},
   "outputs": [],
   "source": [
    "# elmo_vars = [v.name for v in tf.trainable_variables()]\n",
    "# print(elmo_vars)\n",
    "# elmo_vars_dict = {v.name: v for v in tf.trainable_variables()}\n",
    "# saver = tf.train.Saver(elmo_vars_dict)\n",
    "# saver.restore(sess, \"./tmp/elmo.ckpt\")"
   ]
  },
  {
   "cell_type": "code",
   "execution_count": 9,
   "metadata": {},
   "outputs": [
    {
     "name": "stdout",
     "output_type": "stream",
     "text": [
      "INFO:tensorflow:Using /tmp/tfhub_modules to cache modules.\n"
     ]
    },
    {
     "name": "stderr",
     "output_type": "stream",
     "text": [
      "2018-08-27 16:09:08.370 INFO in 'tensorflow'['tf_logging'] at line 159: Using /tmp/tfhub_modules to cache modules.\n"
     ]
    },
    {
     "name": "stdout",
     "output_type": "stream",
     "text": [
      "Restoring finetuned ELMo params from ./tmp/elmo.ckpt\n",
      "INFO:tensorflow:Restoring parameters from ./tmp/elmo.ckpt\n"
     ]
    },
    {
     "name": "stderr",
     "output_type": "stream",
     "text": [
      "2018-08-27 16:09:08.954 INFO in 'tensorflow'['tf_logging'] at line 115: Restoring parameters from ./tmp/elmo.ckpt\n"
     ]
    },
    {
     "name": "stdout",
     "output_type": "stream",
     "text": [
      "INFO:tensorflow:Saver not created because there are no variables in the graph to restore\n"
     ]
    },
    {
     "name": "stderr",
     "output_type": "stream",
     "text": [
      "2018-08-27 16:09:09.542 INFO in 'tensorflow'['tf_logging'] at line 115: Saver not created because there are no variables in the graph to restore\n"
     ]
    }
   ],
   "source": [
    "embedder2 = CompositeEmbedder(use_elmo=True, elmo_scale=1, cap_scale=1, use_cap_feat=False, use_glove=False, elmo_params={'trainable_cells': True, 'restore_path': \"./tmp/elmo.ckpt\"})"
   ]
  },
  {
   "cell_type": "code",
   "execution_count": 10,
   "metadata": {},
   "outputs": [
    {
     "name": "stdout",
     "output_type": "stream",
     "text": [
      "INFO:tensorflow:Saver not created because there are no variables in the graph to restore\n"
     ]
    },
    {
     "name": "stderr",
     "output_type": "stream",
     "text": [
      "2018-08-27 16:09:11.486 INFO in 'tensorflow'['tf_logging'] at line 115: Saver not created because there are no variables in the graph to restore\n"
     ]
    }
   ],
   "source": [
    "embedder1 = CompositeEmbedder(use_elmo=True, elmo_scale=1, cap_scale=1, use_cap_feat=False, use_glove=False, elmo_params={'trainable_cells': True})"
   ]
  },
  {
   "cell_type": "code",
   "execution_count": 11,
   "metadata": {},
   "outputs": [],
   "source": [
    "N_EXAMPLES = 10\n",
    "N_TEST_SENTENCES = 100\n",
    "MODELS = ['ne_centroid', 'svm']\n",
    "MODEL_PARAMS = {'ne_centroid': {'sim_type': 'cosine'},\n",
    "               'ne_nearest': {'sim_type': 'cosine'},\n",
    "               'weighted_kNN': {'k': 1, 'metric': 'cosine', 'use_class_weights': False, 'use_sim_weights': True},\n",
    "               'centroid_kNN': {'k': 10, 'metric': 'dot_prod', 'use_class_weights': False},\n",
    "               'svm': {}}\n",
    "USE_CV = False"
   ]
  },
  {
   "cell_type": "code",
   "execution_count": 12,
   "metadata": {},
   "outputs": [
    {
     "name": "stdout",
     "output_type": "stream",
     "text": [
      "Embedder: Initial\n",
      "Train\n",
      "INFO:tensorflow:Saver not created because there are no variables in the graph to restore\n"
     ]
    },
    {
     "name": "stderr",
     "output_type": "stream",
     "text": [
      "2018-08-27 16:09:12.221 INFO in 'tensorflow'['tf_logging'] at line 115: Saver not created because there are no variables in the graph to restore\n"
     ]
    },
    {
     "name": "stdout",
     "output_type": "stream",
     "text": [
      "INFO:tensorflow:Saver not created because there are no variables in the graph to restore\n"
     ]
    },
    {
     "name": "stderr",
     "output_type": "stream",
     "text": [
      "2018-08-27 16:09:13.416 INFO in 'tensorflow'['tf_logging'] at line 115: Saver not created because there are no variables in the graph to restore\n"
     ]
    },
    {
     "name": "stdout",
     "output_type": "stream",
     "text": [
      "NE centroid similarity model\n",
      "SVM classifier model\n",
      "Embedder: Fine_tuned\n",
      "Train\n",
      "INFO:tensorflow:Saver not created because there are no variables in the graph to restore\n"
     ]
    },
    {
     "name": "stderr",
     "output_type": "stream",
     "text": [
      "2018-08-27 16:09:15.802 INFO in 'tensorflow'['tf_logging'] at line 115: Saver not created because there are no variables in the graph to restore\n"
     ]
    },
    {
     "name": "stdout",
     "output_type": "stream",
     "text": [
      "INFO:tensorflow:Saver not created because there are no variables in the graph to restore\n"
     ]
    },
    {
     "name": "stderr",
     "output_type": "stream",
     "text": [
      "2018-08-27 16:09:16.845 INFO in 'tensorflow'['tf_logging'] at line 115: Saver not created because there are no variables in the graph to restore\n"
     ]
    },
    {
     "name": "stdout",
     "output_type": "stream",
     "text": [
      "NE centroid similarity model\n",
      "SVM classifier model\n"
     ]
    }
   ],
   "source": [
    "tokens_train,tags_train = get_data_sample(dataset['train'], N_EXAMPLES)\n",
    "tokens_test,tags_test = get_data_sample(dataset['test'], min(N_TEST_SENTENCES, len(dataset['test'])))\n",
    "y_test = np.array([1 if t == 'T' else 0 for seq in tags_test for t in seq])\n",
    "f1_scores = {}\n",
    "sims = {}\n",
    "embedder_names = ['Initial', 'Fine_tuned']\n",
    "for i, embedder in enumerate([embedder1, embedder2]):\n",
    "    print('Embedder: {}'.format(embedder_names[i]))\n",
    "    ner_bin_clf = FewshotNerBinaryClassifier(embedder)\n",
    "    ner_bin_clf.train_on_batch(tokens_train, tags_train)\n",
    "    results = ner_bin_clf.predict(tokens_test, MODELS, MODEL_PARAMS)\n",
    "    f1_scores[embedder_names[i]] = {}\n",
    "    for model in MODELS:\n",
    "        if results[model].get('sim'):\n",
    "            sims[embedder_names[i]] = flatten_sim(results[model]['sim'])['cosine']\n",
    "        pred = results[model]['pred']\n",
    "        f1 = f1_score(y_test, pred)\n",
    "        f1_scores[embedder_names[i]][model] = f1"
   ]
  },
  {
   "cell_type": "code",
   "execution_count": 13,
   "metadata": {},
   "outputs": [
    {
     "name": "stdout",
     "output_type": "stream",
     "text": [
      "{'Initial': {'ne_centroid': 0.7064439140811457, 'svm': 0.875283446712018}, 'Fine_tuned': {'ne_centroid': 0.8483516483516483, 'svm': 0.8798185941043084}}\n"
     ]
    }
   ],
   "source": [
    "print(f1_scores)"
   ]
  },
  {
   "cell_type": "code",
   "execution_count": 14,
   "metadata": {},
   "outputs": [
    {
     "name": "stderr",
     "output_type": "stream",
     "text": [
      "2018-08-27 16:09:18.770 DEBUG in 'matplotlib.font_manager'['font_manager'] at line 1346: findfont: Matching :family=sans-serif:style=normal:variant=normal:weight=normal:stretch=normal:size=10.0 to DejaVu Sans ('/home/clement/virtenv/env/lib/python3.6/site-packages/matplotlib/mpl-data/fonts/ttf/DejaVuSans.ttf') with score of 0.050000\n",
      "2018-08-27 16:09:18.790 DEBUG in 'matplotlib.font_manager'['font_manager'] at line 1346: findfont: Matching :family=sans-serif:style=normal:variant=normal:weight=normal:stretch=normal:size=12.0 to DejaVu Sans ('/home/clement/virtenv/env/lib/python3.6/site-packages/matplotlib/mpl-data/fonts/ttf/DejaVuSans.ttf') with score of 0.050000\n"
     ]
    },
    {
     "data": {
      "image/png": "[encoded data removed]",
      "text/plain": [
       "<Figure size 504x360 with 1 Axes>"
      ]
     },
     "metadata": {},
     "output_type": "display_data"
    }
   ],
   "source": [
    "plotPDE(sims[embedder_names[0]], y_test, 'Initial ELMo')"
   ]
  },
  {
   "cell_type": "code",
   "execution_count": 15,
   "metadata": {},
   "outputs": [
    {
     "data": {
      "image/png": "[encoded data removed]",
      "text/plain": [
       "<Figure size 504x360 with 1 Axes>"
      ]
     },
     "metadata": {},
     "output_type": "display_data"
    }
   ],
   "source": [
    "plotPDE(sims[embedder_names[1]], y_test, 'Finetuned ELMo')"
   ]
  },
  {
   "cell_type": "code",
   "execution_count": null,
   "metadata": {},
   "outputs": [],
   "source": []
  }
 ],
 "metadata": {
  "kernelspec": {
   "display_name": "Python 3",
   "language": "python",
   "name": "python3"
  },
  "language_info": {
   "codemirror_mode": {
    "name": "ipython",
    "version": 3
   },
   "file_extension": ".py",
   "mimetype": "text/x-python",
   "name": "python",
   "nbconvert_exporter": "python",
   "pygments_lexer": "ipython3",
   "version": "3.6.5"
  }
 },
 "nbformat": 4,
 "nbformat_minor": 2
}
