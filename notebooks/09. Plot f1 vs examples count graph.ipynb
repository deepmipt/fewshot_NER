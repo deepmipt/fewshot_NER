{
 "cells": [
  {
   "cell_type": "code",
   "execution_count": 1,
   "metadata": {},
   "outputs": [
    {
     "name": "stderr",
     "output_type": "stream",
     "text": [
      "/home/kostrovskiy/prog/AI/NLP/DeepPavlov/env/lib/python3.6/site-packages/h5py/__init__.py:36: FutureWarning: Conversion of the second argument of issubdtype from `float` to `np.floating` is deprecated. In future, it will be treated as `np.float64 == np.dtype(float).type`.\n",
      "  from ._conv import register_converters as _register_converters\n",
      "Using TensorFlow backend.\n",
      "[nltk_data] Downloading package punkt to\n",
      "[nltk_data]     /home/kostrovskiy/nltk_data...\n",
      "[nltk_data]   Package punkt is already up-to-date!\n",
      "[nltk_data] Downloading package stopwords to\n",
      "[nltk_data]     /home/kostrovskiy/nltk_data...\n",
      "[nltk_data]   Package stopwords is already up-to-date!\n",
      "[nltk_data] Downloading package perluniprops to\n",
      "[nltk_data]     /home/kostrovskiy/nltk_data...\n",
      "[nltk_data]   Package perluniprops is already up-to-date!\n",
      "[nltk_data] Downloading package nonbreaking_prefixes to\n",
      "[nltk_data]     /home/kostrovskiy/nltk_data...\n",
      "[nltk_data]   Package nonbreaking_prefixes is already up-to-date!\n",
      "2018-09-11 13:58:04.359 DEBUG in 'gensim.models.doc2vec'['doc2vec'] at line 73: Fast version of gensim.models.doc2vec is being used\n",
      "2018-09-11 13:58:04.372 INFO in 'summa.preprocessing.cleaner'['textcleaner'] at line 20: 'pattern' package not found; tag filters are not available for English\n",
      "2018-09-11 13:58:17.181 DEBUG in 'matplotlib.backends'['__init__'] at line 90: backend module://ipykernel.pylab.backend_inline version unknown\n"
     ]
    }
   ],
   "source": [
    "import copy\n",
    "import os\n",
    "import numpy as np\n",
    "import matplotlib.pyplot as plt\n",
    "from sklearn.metrics import f1_score\n",
    "import tensorflow as tf\n",
    "import deeppavlov\n",
    "from deeppavlov.dataset_readers.ontonotes_reader import OntonotesReader\n",
    "\n",
    "from deeppavlov.models.embedders.glove_embedder import GloVeEmbedder"
   ]
  },
  {
   "cell_type": "code",
   "execution_count": 2,
   "metadata": {},
   "outputs": [],
   "source": [
    "from src.fewshot_ner_viz_component.fewshot_ner_binary_classifier import FewshotNerBinaryClassifier, CompositeEmbedder\n",
    "from src.fewshot_ner_viz_component.data_processing import *"
   ]
  },
  {
   "cell_type": "markdown",
   "metadata": {},
   "source": [
    "### Configuration parameters"
   ]
  },
  {
   "cell_type": "code",
   "execution_count": 3,
   "metadata": {},
   "outputs": [],
   "source": [
    "NE_TYPE = 'PERSON'\n",
    "N_EXAMPLES = list(range(1, 11))\n",
    "N_EXAMPLES = list(range(5, 11))\n",
    "# N_EXAMPLES.extend([20,30,40,50,60,70,80,90,100])\n",
    "N_EXAMPLES = list(range(10, 101, 10))\n",
    "N_EXAMPLES = list(range(10, 101, 10)) + list(range(200, 1001, 100))\n",
    "N_TEST_SENTENCES = 100\n",
    "N_SAMPLES = 10\n",
    "# MODELS = ['ne_centroid', 'ne_nearest', 'weighted_kNN', 'centroid_kNN', 'svm']\n",
    "MODELS = ['ne_centroid', 'ne_nearest', 'weighted_kNN', 'centroid_kNN', 'svm']\n",
    "MODELS = ['ne_centroid', 'weighted_kNN', 'centroid_kNN', 'svm']\n",
    "MODELS = ['svm', 'crf', 'logreg']\n",
    "MODELS_COMPOSE = MODELS\n",
    "MODEL_PARAMS = {'ne_centroid': {'sim_type': 'cosine'},\n",
    "               'ne_nearest': {'sim_type': 'cosine'},\n",
    "               'weighted_kNN': {'k': 1, 'metric': 'cosine', 'use_class_weights': False, 'use_sim_weights': True},\n",
    "               'centroid_kNN': {'k': 10, 'metric': 'dot_prod', 'use_class_weights': False},\n",
    "               'svm': {},\n",
    "               'crf': {'c2': 0, 'c1': 0}}"
   ]
  },
  {
   "cell_type": "code",
   "execution_count": 4,
   "metadata": {},
   "outputs": [
    {
     "name": "stdout",
     "output_type": "stream",
     "text": [
      "Num of train sentences: 75187\n",
      "Num of valid sentences: 9603\n",
      "Num of test sentences: 9479\n",
      "[(['Actions', 'had', 'to', 'be', 'taken', 'to', 'break', 'through', 'the', 'blockade', '.'], ['O', 'O', 'O', 'O', 'O', 'O', 'O', 'O', 'O', 'O', 'O']), (['On', 'a', 'night', 'in', 'late', 'July', '1940', ',', 'the', 'atmosphere', 'in', 'Zhuanbi', 'Village', 'in', 'Shaanxi', 'was', 'unusual', '.'], ['O', 'B-DATE', 'I-DATE', 'I-DATE', 'I-DATE', 'I-DATE', 'I-DATE', 'O', 'O', 'O', 'O', 'B-GPE', 'I-GPE', 'O', 'B-GPE', 'O', 'O', 'O']), (['Villager', 'Xiao', 'Jianghe', 'has', 'a', 'vivid', 'memory', 'of', 'this', 'piece', 'of', 'history', '.'], ['O', 'B-PERSON', 'I-PERSON', 'O', 'O', 'O', 'O', 'O', 'O', 'O', 'O', 'O', 'O']), (['On', 'that', 'dark', 'night', ',', 'everyone', 'was', 'sleeping', 'when', 'human', 'voices', 'and', 'neighing', 'horses', 'were', 'heard', 'within', 'the', 'village', '.'], ['O', 'B-TIME', 'I-TIME', 'I-TIME', 'O', 'O', 'O', 'O', 'O', 'O', 'O', 'O', 'O', 'O', 'O', 'O', 'O', 'O', 'O', 'O']), (['People', 'all', 'got', 'up', '.'], ['O', 'O', 'O', 'O', 'O']), (['Did', 'something', 'happen', '?'], ['O', 'O', 'O', 'O']), (['Some', 'folks', 'got', 'up', '.'], ['O', 'O', 'O', 'O', 'O']), (['Opening', 'the', 'street', 'gate', ',', 'they', 'saw', 'a', 'soldier', 'standing', 'by', 'the', 'gate', '.'], ['O', 'O', 'O', 'O', 'O', 'O', 'O', 'O', 'O', 'O', 'O', 'O', 'O', 'O']), (['Folks', ',', 'go', 'back', ',', 'go', 'back', ',', 'nothing', 'is', 'wrong', '.'], ['O', 'O', 'O', 'O', 'O', 'O', 'O', 'O', 'O', 'O', 'O', 'O']), (['Our', 'troops', 'are', 'just', 'going', 'to', 'stay', 'here', 'for', 'the', 'night', '.'], ['O', 'O', 'O', 'O', 'O', 'O', 'O', 'O', 'O', 'O', 'O', 'O'])]\n"
     ]
    }
   ],
   "source": [
    "dataset_orig = read_data()"
   ]
  },
  {
   "cell_type": "code",
   "execution_count": 5,
   "metadata": {},
   "outputs": [
    {
     "name": "stdout",
     "output_type": "stream",
     "text": [
      "INFO:tensorflow:Using /tmp/tfhub_modules to cache modules.\n"
     ]
    },
    {
     "name": "stderr",
     "output_type": "stream",
     "text": [
      "2018-09-11 13:58:20.543 INFO in 'tensorflow'['tf_logging'] at line 160: Using /tmp/tfhub_modules to cache modules.\n"
     ]
    },
    {
     "name": "stdout",
     "output_type": "stream",
     "text": [
      "INFO:tensorflow:Initialize variable module/aggregation/scaling:0 from checkpoint b'/tmp/tfhub_modules/9bb74bc86f9caffc8c47dd7b33ec4bb354d9602d/variables/variables' with aggregation/scaling\n"
     ]
    },
    {
     "name": "stderr",
     "output_type": "stream",
     "text": [
      "2018-09-11 13:58:21.497 INFO in 'tensorflow'['tf_logging'] at line 116: Initialize variable module/aggregation/scaling:0 from checkpoint b'/tmp/tfhub_modules/9bb74bc86f9caffc8c47dd7b33ec4bb354d9602d/variables/variables' with aggregation/scaling\n"
     ]
    },
    {
     "name": "stdout",
     "output_type": "stream",
     "text": [
      "INFO:tensorflow:Initialize variable module/aggregation/weights:0 from checkpoint b'/tmp/tfhub_modules/9bb74bc86f9caffc8c47dd7b33ec4bb354d9602d/variables/variables' with aggregation/weights\n"
     ]
    },
    {
     "name": "stderr",
     "output_type": "stream",
     "text": [
      "2018-09-11 13:58:21.503 INFO in 'tensorflow'['tf_logging'] at line 116: Initialize variable module/aggregation/weights:0 from checkpoint b'/tmp/tfhub_modules/9bb74bc86f9caffc8c47dd7b33ec4bb354d9602d/variables/variables' with aggregation/weights\n"
     ]
    },
    {
     "name": "stdout",
     "output_type": "stream",
     "text": [
      "INFO:tensorflow:Initialize variable module/bilm/CNN/W_cnn_0:0 from checkpoint b'/tmp/tfhub_modules/9bb74bc86f9caffc8c47dd7b33ec4bb354d9602d/variables/variables' with bilm/CNN/W_cnn_0\n"
     ]
    },
    {
     "name": "stderr",
     "output_type": "stream",
     "text": [
      "2018-09-11 13:58:21.511 INFO in 'tensorflow'['tf_logging'] at line 116: Initialize variable module/bilm/CNN/W_cnn_0:0 from checkpoint b'/tmp/tfhub_modules/9bb74bc86f9caffc8c47dd7b33ec4bb354d9602d/variables/variables' with bilm/CNN/W_cnn_0\n"
     ]
    },
    {
     "name": "stdout",
     "output_type": "stream",
     "text": [
      "INFO:tensorflow:Initialize variable module/bilm/CNN/W_cnn_1:0 from checkpoint b'/tmp/tfhub_modules/9bb74bc86f9caffc8c47dd7b33ec4bb354d9602d/variables/variables' with bilm/CNN/W_cnn_1\n"
     ]
    },
    {
     "name": "stderr",
     "output_type": "stream",
     "text": [
      "2018-09-11 13:58:21.519 INFO in 'tensorflow'['tf_logging'] at line 116: Initialize variable module/bilm/CNN/W_cnn_1:0 from checkpoint b'/tmp/tfhub_modules/9bb74bc86f9caffc8c47dd7b33ec4bb354d9602d/variables/variables' with bilm/CNN/W_cnn_1\n"
     ]
    },
    {
     "name": "stdout",
     "output_type": "stream",
     "text": [
      "INFO:tensorflow:Initialize variable module/bilm/CNN/W_cnn_2:0 from checkpoint b'/tmp/tfhub_modules/9bb74bc86f9caffc8c47dd7b33ec4bb354d9602d/variables/variables' with bilm/CNN/W_cnn_2\n"
     ]
    },
    {
     "name": "stderr",
     "output_type": "stream",
     "text": [
      "2018-09-11 13:58:21.526 INFO in 'tensorflow'['tf_logging'] at line 116: Initialize variable module/bilm/CNN/W_cnn_2:0 from checkpoint b'/tmp/tfhub_modules/9bb74bc86f9caffc8c47dd7b33ec4bb354d9602d/variables/variables' with bilm/CNN/W_cnn_2\n"
     ]
    },
    {
     "name": "stdout",
     "output_type": "stream",
     "text": [
      "INFO:tensorflow:Initialize variable module/bilm/CNN/W_cnn_3:0 from checkpoint b'/tmp/tfhub_modules/9bb74bc86f9caffc8c47dd7b33ec4bb354d9602d/variables/variables' with bilm/CNN/W_cnn_3\n"
     ]
    },
    {
     "name": "stderr",
     "output_type": "stream",
     "text": [
      "2018-09-11 13:58:21.532 INFO in 'tensorflow'['tf_logging'] at line 116: Initialize variable module/bilm/CNN/W_cnn_3:0 from checkpoint b'/tmp/tfhub_modules/9bb74bc86f9caffc8c47dd7b33ec4bb354d9602d/variables/variables' with bilm/CNN/W_cnn_3\n"
     ]
    },
    {
     "name": "stdout",
     "output_type": "stream",
     "text": [
      "INFO:tensorflow:Initialize variable module/bilm/CNN/W_cnn_4:0 from checkpoint b'/tmp/tfhub_modules/9bb74bc86f9caffc8c47dd7b33ec4bb354d9602d/variables/variables' with bilm/CNN/W_cnn_4\n"
     ]
    },
    {
     "name": "stderr",
     "output_type": "stream",
     "text": [
      "2018-09-11 13:58:21.537 INFO in 'tensorflow'['tf_logging'] at line 116: Initialize variable module/bilm/CNN/W_cnn_4:0 from checkpoint b'/tmp/tfhub_modules/9bb74bc86f9caffc8c47dd7b33ec4bb354d9602d/variables/variables' with bilm/CNN/W_cnn_4\n"
     ]
    },
    {
     "name": "stdout",
     "output_type": "stream",
     "text": [
      "INFO:tensorflow:Initialize variable module/bilm/CNN/W_cnn_5:0 from checkpoint b'/tmp/tfhub_modules/9bb74bc86f9caffc8c47dd7b33ec4bb354d9602d/variables/variables' with bilm/CNN/W_cnn_5\n"
     ]
    },
    {
     "name": "stderr",
     "output_type": "stream",
     "text": [
      "2018-09-11 13:58:21.543 INFO in 'tensorflow'['tf_logging'] at line 116: Initialize variable module/bilm/CNN/W_cnn_5:0 from checkpoint b'/tmp/tfhub_modules/9bb74bc86f9caffc8c47dd7b33ec4bb354d9602d/variables/variables' with bilm/CNN/W_cnn_5\n"
     ]
    },
    {
     "name": "stdout",
     "output_type": "stream",
     "text": [
      "INFO:tensorflow:Initialize variable module/bilm/CNN/W_cnn_6:0 from checkpoint b'/tmp/tfhub_modules/9bb74bc86f9caffc8c47dd7b33ec4bb354d9602d/variables/variables' with bilm/CNN/W_cnn_6\n"
     ]
    },
    {
     "name": "stderr",
     "output_type": "stream",
     "text": [
      "2018-09-11 13:58:21.549 INFO in 'tensorflow'['tf_logging'] at line 116: Initialize variable module/bilm/CNN/W_cnn_6:0 from checkpoint b'/tmp/tfhub_modules/9bb74bc86f9caffc8c47dd7b33ec4bb354d9602d/variables/variables' with bilm/CNN/W_cnn_6\n"
     ]
    },
    {
     "name": "stdout",
     "output_type": "stream",
     "text": [
      "INFO:tensorflow:Initialize variable module/bilm/CNN/b_cnn_0:0 from checkpoint b'/tmp/tfhub_modules/9bb74bc86f9caffc8c47dd7b33ec4bb354d9602d/variables/variables' with bilm/CNN/b_cnn_0\n"
     ]
    },
    {
     "name": "stderr",
     "output_type": "stream",
     "text": [
      "2018-09-11 13:58:21.557 INFO in 'tensorflow'['tf_logging'] at line 116: Initialize variable module/bilm/CNN/b_cnn_0:0 from checkpoint b'/tmp/tfhub_modules/9bb74bc86f9caffc8c47dd7b33ec4bb354d9602d/variables/variables' with bilm/CNN/b_cnn_0\n"
     ]
    },
    {
     "name": "stdout",
     "output_type": "stream",
     "text": [
      "INFO:tensorflow:Initialize variable module/bilm/CNN/b_cnn_1:0 from checkpoint b'/tmp/tfhub_modules/9bb74bc86f9caffc8c47dd7b33ec4bb354d9602d/variables/variables' with bilm/CNN/b_cnn_1\n"
     ]
    },
    {
     "name": "stderr",
     "output_type": "stream",
     "text": [
      "2018-09-11 13:58:21.564 INFO in 'tensorflow'['tf_logging'] at line 116: Initialize variable module/bilm/CNN/b_cnn_1:0 from checkpoint b'/tmp/tfhub_modules/9bb74bc86f9caffc8c47dd7b33ec4bb354d9602d/variables/variables' with bilm/CNN/b_cnn_1\n"
     ]
    },
    {
     "name": "stdout",
     "output_type": "stream",
     "text": [
      "INFO:tensorflow:Initialize variable module/bilm/CNN/b_cnn_2:0 from checkpoint b'/tmp/tfhub_modules/9bb74bc86f9caffc8c47dd7b33ec4bb354d9602d/variables/variables' with bilm/CNN/b_cnn_2\n"
     ]
    },
    {
     "name": "stderr",
     "output_type": "stream",
     "text": [
      "2018-09-11 13:58:21.570 INFO in 'tensorflow'['tf_logging'] at line 116: Initialize variable module/bilm/CNN/b_cnn_2:0 from checkpoint b'/tmp/tfhub_modules/9bb74bc86f9caffc8c47dd7b33ec4bb354d9602d/variables/variables' with bilm/CNN/b_cnn_2\n"
     ]
    },
    {
     "name": "stdout",
     "output_type": "stream",
     "text": [
      "INFO:tensorflow:Initialize variable module/bilm/CNN/b_cnn_3:0 from checkpoint b'/tmp/tfhub_modules/9bb74bc86f9caffc8c47dd7b33ec4bb354d9602d/variables/variables' with bilm/CNN/b_cnn_3\n"
     ]
    },
    {
     "name": "stderr",
     "output_type": "stream",
     "text": [
      "2018-09-11 13:58:21.575 INFO in 'tensorflow'['tf_logging'] at line 116: Initialize variable module/bilm/CNN/b_cnn_3:0 from checkpoint b'/tmp/tfhub_modules/9bb74bc86f9caffc8c47dd7b33ec4bb354d9602d/variables/variables' with bilm/CNN/b_cnn_3\n"
     ]
    },
    {
     "name": "stdout",
     "output_type": "stream",
     "text": [
      "INFO:tensorflow:Initialize variable module/bilm/CNN/b_cnn_4:0 from checkpoint b'/tmp/tfhub_modules/9bb74bc86f9caffc8c47dd7b33ec4bb354d9602d/variables/variables' with bilm/CNN/b_cnn_4\n"
     ]
    },
    {
     "name": "stderr",
     "output_type": "stream",
     "text": [
      "2018-09-11 13:58:21.580 INFO in 'tensorflow'['tf_logging'] at line 116: Initialize variable module/bilm/CNN/b_cnn_4:0 from checkpoint b'/tmp/tfhub_modules/9bb74bc86f9caffc8c47dd7b33ec4bb354d9602d/variables/variables' with bilm/CNN/b_cnn_4\n"
     ]
    },
    {
     "name": "stdout",
     "output_type": "stream",
     "text": [
      "INFO:tensorflow:Initialize variable module/bilm/CNN/b_cnn_5:0 from checkpoint b'/tmp/tfhub_modules/9bb74bc86f9caffc8c47dd7b33ec4bb354d9602d/variables/variables' with bilm/CNN/b_cnn_5\n"
     ]
    },
    {
     "name": "stderr",
     "output_type": "stream",
     "text": [
      "2018-09-11 13:58:21.589 INFO in 'tensorflow'['tf_logging'] at line 116: Initialize variable module/bilm/CNN/b_cnn_5:0 from checkpoint b'/tmp/tfhub_modules/9bb74bc86f9caffc8c47dd7b33ec4bb354d9602d/variables/variables' with bilm/CNN/b_cnn_5\n"
     ]
    },
    {
     "name": "stdout",
     "output_type": "stream",
     "text": [
      "INFO:tensorflow:Initialize variable module/bilm/CNN/b_cnn_6:0 from checkpoint b'/tmp/tfhub_modules/9bb74bc86f9caffc8c47dd7b33ec4bb354d9602d/variables/variables' with bilm/CNN/b_cnn_6\n"
     ]
    },
    {
     "name": "stderr",
     "output_type": "stream",
     "text": [
      "2018-09-11 13:58:21.596 INFO in 'tensorflow'['tf_logging'] at line 116: Initialize variable module/bilm/CNN/b_cnn_6:0 from checkpoint b'/tmp/tfhub_modules/9bb74bc86f9caffc8c47dd7b33ec4bb354d9602d/variables/variables' with bilm/CNN/b_cnn_6\n"
     ]
    },
    {
     "name": "stdout",
     "output_type": "stream",
     "text": [
      "INFO:tensorflow:Initialize variable module/bilm/CNN_high_0/W_carry:0 from checkpoint b'/tmp/tfhub_modules/9bb74bc86f9caffc8c47dd7b33ec4bb354d9602d/variables/variables' with bilm/CNN_high_0/W_carry\n"
     ]
    },
    {
     "name": "stderr",
     "output_type": "stream",
     "text": [
      "2018-09-11 13:58:21.602 INFO in 'tensorflow'['tf_logging'] at line 116: Initialize variable module/bilm/CNN_high_0/W_carry:0 from checkpoint b'/tmp/tfhub_modules/9bb74bc86f9caffc8c47dd7b33ec4bb354d9602d/variables/variables' with bilm/CNN_high_0/W_carry\n"
     ]
    },
    {
     "name": "stdout",
     "output_type": "stream",
     "text": [
      "INFO:tensorflow:Initialize variable module/bilm/CNN_high_0/W_transform:0 from checkpoint b'/tmp/tfhub_modules/9bb74bc86f9caffc8c47dd7b33ec4bb354d9602d/variables/variables' with bilm/CNN_high_0/W_transform\n"
     ]
    },
    {
     "name": "stderr",
     "output_type": "stream",
     "text": [
      "2018-09-11 13:58:21.608 INFO in 'tensorflow'['tf_logging'] at line 116: Initialize variable module/bilm/CNN_high_0/W_transform:0 from checkpoint b'/tmp/tfhub_modules/9bb74bc86f9caffc8c47dd7b33ec4bb354d9602d/variables/variables' with bilm/CNN_high_0/W_transform\n"
     ]
    },
    {
     "name": "stdout",
     "output_type": "stream",
     "text": [
      "INFO:tensorflow:Initialize variable module/bilm/CNN_high_0/b_carry:0 from checkpoint b'/tmp/tfhub_modules/9bb74bc86f9caffc8c47dd7b33ec4bb354d9602d/variables/variables' with bilm/CNN_high_0/b_carry\n"
     ]
    },
    {
     "name": "stderr",
     "output_type": "stream",
     "text": [
      "2018-09-11 13:58:21.614 INFO in 'tensorflow'['tf_logging'] at line 116: Initialize variable module/bilm/CNN_high_0/b_carry:0 from checkpoint b'/tmp/tfhub_modules/9bb74bc86f9caffc8c47dd7b33ec4bb354d9602d/variables/variables' with bilm/CNN_high_0/b_carry\n"
     ]
    },
    {
     "name": "stdout",
     "output_type": "stream",
     "text": [
      "INFO:tensorflow:Initialize variable module/bilm/CNN_high_0/b_transform:0 from checkpoint b'/tmp/tfhub_modules/9bb74bc86f9caffc8c47dd7b33ec4bb354d9602d/variables/variables' with bilm/CNN_high_0/b_transform\n"
     ]
    },
    {
     "name": "stderr",
     "output_type": "stream",
     "text": [
      "2018-09-11 13:58:21.621 INFO in 'tensorflow'['tf_logging'] at line 116: Initialize variable module/bilm/CNN_high_0/b_transform:0 from checkpoint b'/tmp/tfhub_modules/9bb74bc86f9caffc8c47dd7b33ec4bb354d9602d/variables/variables' with bilm/CNN_high_0/b_transform\n"
     ]
    },
    {
     "name": "stdout",
     "output_type": "stream",
     "text": [
      "INFO:tensorflow:Initialize variable module/bilm/CNN_high_1/W_carry:0 from checkpoint b'/tmp/tfhub_modules/9bb74bc86f9caffc8c47dd7b33ec4bb354d9602d/variables/variables' with bilm/CNN_high_1/W_carry\n"
     ]
    },
    {
     "name": "stderr",
     "output_type": "stream",
     "text": [
      "2018-09-11 13:58:21.628 INFO in 'tensorflow'['tf_logging'] at line 116: Initialize variable module/bilm/CNN_high_1/W_carry:0 from checkpoint b'/tmp/tfhub_modules/9bb74bc86f9caffc8c47dd7b33ec4bb354d9602d/variables/variables' with bilm/CNN_high_1/W_carry\n"
     ]
    },
    {
     "name": "stdout",
     "output_type": "stream",
     "text": [
      "INFO:tensorflow:Initialize variable module/bilm/CNN_high_1/W_transform:0 from checkpoint b'/tmp/tfhub_modules/9bb74bc86f9caffc8c47dd7b33ec4bb354d9602d/variables/variables' with bilm/CNN_high_1/W_transform\n"
     ]
    },
    {
     "name": "stderr",
     "output_type": "stream",
     "text": [
      "2018-09-11 13:58:21.634 INFO in 'tensorflow'['tf_logging'] at line 116: Initialize variable module/bilm/CNN_high_1/W_transform:0 from checkpoint b'/tmp/tfhub_modules/9bb74bc86f9caffc8c47dd7b33ec4bb354d9602d/variables/variables' with bilm/CNN_high_1/W_transform\n"
     ]
    },
    {
     "name": "stdout",
     "output_type": "stream",
     "text": [
      "INFO:tensorflow:Initialize variable module/bilm/CNN_high_1/b_carry:0 from checkpoint b'/tmp/tfhub_modules/9bb74bc86f9caffc8c47dd7b33ec4bb354d9602d/variables/variables' with bilm/CNN_high_1/b_carry\n"
     ]
    },
    {
     "name": "stderr",
     "output_type": "stream",
     "text": [
      "2018-09-11 13:58:21.641 INFO in 'tensorflow'['tf_logging'] at line 116: Initialize variable module/bilm/CNN_high_1/b_carry:0 from checkpoint b'/tmp/tfhub_modules/9bb74bc86f9caffc8c47dd7b33ec4bb354d9602d/variables/variables' with bilm/CNN_high_1/b_carry\n"
     ]
    },
    {
     "name": "stdout",
     "output_type": "stream",
     "text": [
      "INFO:tensorflow:Initialize variable module/bilm/CNN_high_1/b_transform:0 from checkpoint b'/tmp/tfhub_modules/9bb74bc86f9caffc8c47dd7b33ec4bb354d9602d/variables/variables' with bilm/CNN_high_1/b_transform\n"
     ]
    },
    {
     "name": "stderr",
     "output_type": "stream",
     "text": [
      "2018-09-11 13:58:21.649 INFO in 'tensorflow'['tf_logging'] at line 116: Initialize variable module/bilm/CNN_high_1/b_transform:0 from checkpoint b'/tmp/tfhub_modules/9bb74bc86f9caffc8c47dd7b33ec4bb354d9602d/variables/variables' with bilm/CNN_high_1/b_transform\n"
     ]
    },
    {
     "name": "stdout",
     "output_type": "stream",
     "text": [
      "INFO:tensorflow:Initialize variable module/bilm/CNN_proj/W_proj:0 from checkpoint b'/tmp/tfhub_modules/9bb74bc86f9caffc8c47dd7b33ec4bb354d9602d/variables/variables' with bilm/CNN_proj/W_proj\n"
     ]
    },
    {
     "name": "stderr",
     "output_type": "stream",
     "text": [
      "2018-09-11 13:58:21.657 INFO in 'tensorflow'['tf_logging'] at line 116: Initialize variable module/bilm/CNN_proj/W_proj:0 from checkpoint b'/tmp/tfhub_modules/9bb74bc86f9caffc8c47dd7b33ec4bb354d9602d/variables/variables' with bilm/CNN_proj/W_proj\n"
     ]
    },
    {
     "name": "stdout",
     "output_type": "stream",
     "text": [
      "INFO:tensorflow:Initialize variable module/bilm/CNN_proj/b_proj:0 from checkpoint b'/tmp/tfhub_modules/9bb74bc86f9caffc8c47dd7b33ec4bb354d9602d/variables/variables' with bilm/CNN_proj/b_proj\n"
     ]
    },
    {
     "name": "stderr",
     "output_type": "stream",
     "text": [
      "2018-09-11 13:58:21.666 INFO in 'tensorflow'['tf_logging'] at line 116: Initialize variable module/bilm/CNN_proj/b_proj:0 from checkpoint b'/tmp/tfhub_modules/9bb74bc86f9caffc8c47dd7b33ec4bb354d9602d/variables/variables' with bilm/CNN_proj/b_proj\n"
     ]
    },
    {
     "name": "stdout",
     "output_type": "stream",
     "text": [
      "INFO:tensorflow:Initialize variable module/bilm/RNN_0/RNN/MultiRNNCell/Cell0/rnn/lstm_cell/bias:0 from checkpoint b'/tmp/tfhub_modules/9bb74bc86f9caffc8c47dd7b33ec4bb354d9602d/variables/variables' with bilm/RNN_0/RNN/MultiRNNCell/Cell0/rnn/lstm_cell/bias\n"
     ]
    },
    {
     "name": "stderr",
     "output_type": "stream",
     "text": [
      "2018-09-11 13:58:21.672 INFO in 'tensorflow'['tf_logging'] at line 116: Initialize variable module/bilm/RNN_0/RNN/MultiRNNCell/Cell0/rnn/lstm_cell/bias:0 from checkpoint b'/tmp/tfhub_modules/9bb74bc86f9caffc8c47dd7b33ec4bb354d9602d/variables/variables' with bilm/RNN_0/RNN/MultiRNNCell/Cell0/rnn/lstm_cell/bias\n"
     ]
    },
    {
     "name": "stdout",
     "output_type": "stream",
     "text": [
      "INFO:tensorflow:Initialize variable module/bilm/RNN_0/RNN/MultiRNNCell/Cell0/rnn/lstm_cell/kernel:0 from checkpoint b'/tmp/tfhub_modules/9bb74bc86f9caffc8c47dd7b33ec4bb354d9602d/variables/variables' with bilm/RNN_0/RNN/MultiRNNCell/Cell0/rnn/lstm_cell/kernel\n"
     ]
    },
    {
     "name": "stderr",
     "output_type": "stream",
     "text": [
      "2018-09-11 13:58:21.678 INFO in 'tensorflow'['tf_logging'] at line 116: Initialize variable module/bilm/RNN_0/RNN/MultiRNNCell/Cell0/rnn/lstm_cell/kernel:0 from checkpoint b'/tmp/tfhub_modules/9bb74bc86f9caffc8c47dd7b33ec4bb354d9602d/variables/variables' with bilm/RNN_0/RNN/MultiRNNCell/Cell0/rnn/lstm_cell/kernel\n"
     ]
    },
    {
     "name": "stdout",
     "output_type": "stream",
     "text": [
      "INFO:tensorflow:Initialize variable module/bilm/RNN_0/RNN/MultiRNNCell/Cell0/rnn/lstm_cell/projection/kernel:0 from checkpoint b'/tmp/tfhub_modules/9bb74bc86f9caffc8c47dd7b33ec4bb354d9602d/variables/variables' with bilm/RNN_0/RNN/MultiRNNCell/Cell0/rnn/lstm_cell/projection/kernel\n"
     ]
    },
    {
     "name": "stderr",
     "output_type": "stream",
     "text": [
      "2018-09-11 13:58:21.684 INFO in 'tensorflow'['tf_logging'] at line 116: Initialize variable module/bilm/RNN_0/RNN/MultiRNNCell/Cell0/rnn/lstm_cell/projection/kernel:0 from checkpoint b'/tmp/tfhub_modules/9bb74bc86f9caffc8c47dd7b33ec4bb354d9602d/variables/variables' with bilm/RNN_0/RNN/MultiRNNCell/Cell0/rnn/lstm_cell/projection/kernel\n"
     ]
    },
    {
     "name": "stdout",
     "output_type": "stream",
     "text": [
      "INFO:tensorflow:Initialize variable module/bilm/RNN_0/RNN/MultiRNNCell/Cell1/rnn/lstm_cell/bias:0 from checkpoint b'/tmp/tfhub_modules/9bb74bc86f9caffc8c47dd7b33ec4bb354d9602d/variables/variables' with bilm/RNN_0/RNN/MultiRNNCell/Cell1/rnn/lstm_cell/bias\n"
     ]
    },
    {
     "name": "stderr",
     "output_type": "stream",
     "text": [
      "2018-09-11 13:58:21.691 INFO in 'tensorflow'['tf_logging'] at line 116: Initialize variable module/bilm/RNN_0/RNN/MultiRNNCell/Cell1/rnn/lstm_cell/bias:0 from checkpoint b'/tmp/tfhub_modules/9bb74bc86f9caffc8c47dd7b33ec4bb354d9602d/variables/variables' with bilm/RNN_0/RNN/MultiRNNCell/Cell1/rnn/lstm_cell/bias\n"
     ]
    },
    {
     "name": "stdout",
     "output_type": "stream",
     "text": [
      "INFO:tensorflow:Initialize variable module/bilm/RNN_0/RNN/MultiRNNCell/Cell1/rnn/lstm_cell/kernel:0 from checkpoint b'/tmp/tfhub_modules/9bb74bc86f9caffc8c47dd7b33ec4bb354d9602d/variables/variables' with bilm/RNN_0/RNN/MultiRNNCell/Cell1/rnn/lstm_cell/kernel\n"
     ]
    },
    {
     "name": "stderr",
     "output_type": "stream",
     "text": [
      "2018-09-11 13:58:21.699 INFO in 'tensorflow'['tf_logging'] at line 116: Initialize variable module/bilm/RNN_0/RNN/MultiRNNCell/Cell1/rnn/lstm_cell/kernel:0 from checkpoint b'/tmp/tfhub_modules/9bb74bc86f9caffc8c47dd7b33ec4bb354d9602d/variables/variables' with bilm/RNN_0/RNN/MultiRNNCell/Cell1/rnn/lstm_cell/kernel\n"
     ]
    },
    {
     "name": "stdout",
     "output_type": "stream",
     "text": [
      "INFO:tensorflow:Initialize variable module/bilm/RNN_0/RNN/MultiRNNCell/Cell1/rnn/lstm_cell/projection/kernel:0 from checkpoint b'/tmp/tfhub_modules/9bb74bc86f9caffc8c47dd7b33ec4bb354d9602d/variables/variables' with bilm/RNN_0/RNN/MultiRNNCell/Cell1/rnn/lstm_cell/projection/kernel\n"
     ]
    },
    {
     "name": "stderr",
     "output_type": "stream",
     "text": [
      "2018-09-11 13:58:21.708 INFO in 'tensorflow'['tf_logging'] at line 116: Initialize variable module/bilm/RNN_0/RNN/MultiRNNCell/Cell1/rnn/lstm_cell/projection/kernel:0 from checkpoint b'/tmp/tfhub_modules/9bb74bc86f9caffc8c47dd7b33ec4bb354d9602d/variables/variables' with bilm/RNN_0/RNN/MultiRNNCell/Cell1/rnn/lstm_cell/projection/kernel\n"
     ]
    },
    {
     "name": "stdout",
     "output_type": "stream",
     "text": [
      "INFO:tensorflow:Initialize variable module/bilm/RNN_1/RNN/MultiRNNCell/Cell0/rnn/lstm_cell/bias:0 from checkpoint b'/tmp/tfhub_modules/9bb74bc86f9caffc8c47dd7b33ec4bb354d9602d/variables/variables' with bilm/RNN_1/RNN/MultiRNNCell/Cell0/rnn/lstm_cell/bias\n"
     ]
    },
    {
     "name": "stderr",
     "output_type": "stream",
     "text": [
      "2018-09-11 13:58:21.716 INFO in 'tensorflow'['tf_logging'] at line 116: Initialize variable module/bilm/RNN_1/RNN/MultiRNNCell/Cell0/rnn/lstm_cell/bias:0 from checkpoint b'/tmp/tfhub_modules/9bb74bc86f9caffc8c47dd7b33ec4bb354d9602d/variables/variables' with bilm/RNN_1/RNN/MultiRNNCell/Cell0/rnn/lstm_cell/bias\n"
     ]
    },
    {
     "name": "stdout",
     "output_type": "stream",
     "text": [
      "INFO:tensorflow:Initialize variable module/bilm/RNN_1/RNN/MultiRNNCell/Cell0/rnn/lstm_cell/kernel:0 from checkpoint b'/tmp/tfhub_modules/9bb74bc86f9caffc8c47dd7b33ec4bb354d9602d/variables/variables' with bilm/RNN_1/RNN/MultiRNNCell/Cell0/rnn/lstm_cell/kernel\n"
     ]
    },
    {
     "name": "stderr",
     "output_type": "stream",
     "text": [
      "2018-09-11 13:58:21.728 INFO in 'tensorflow'['tf_logging'] at line 116: Initialize variable module/bilm/RNN_1/RNN/MultiRNNCell/Cell0/rnn/lstm_cell/kernel:0 from checkpoint b'/tmp/tfhub_modules/9bb74bc86f9caffc8c47dd7b33ec4bb354d9602d/variables/variables' with bilm/RNN_1/RNN/MultiRNNCell/Cell0/rnn/lstm_cell/kernel\n"
     ]
    },
    {
     "name": "stdout",
     "output_type": "stream",
     "text": [
      "INFO:tensorflow:Initialize variable module/bilm/RNN_1/RNN/MultiRNNCell/Cell0/rnn/lstm_cell/projection/kernel:0 from checkpoint b'/tmp/tfhub_modules/9bb74bc86f9caffc8c47dd7b33ec4bb354d9602d/variables/variables' with bilm/RNN_1/RNN/MultiRNNCell/Cell0/rnn/lstm_cell/projection/kernel\n"
     ]
    },
    {
     "name": "stderr",
     "output_type": "stream",
     "text": [
      "2018-09-11 13:58:21.738 INFO in 'tensorflow'['tf_logging'] at line 116: Initialize variable module/bilm/RNN_1/RNN/MultiRNNCell/Cell0/rnn/lstm_cell/projection/kernel:0 from checkpoint b'/tmp/tfhub_modules/9bb74bc86f9caffc8c47dd7b33ec4bb354d9602d/variables/variables' with bilm/RNN_1/RNN/MultiRNNCell/Cell0/rnn/lstm_cell/projection/kernel\n"
     ]
    },
    {
     "name": "stdout",
     "output_type": "stream",
     "text": [
      "INFO:tensorflow:Initialize variable module/bilm/RNN_1/RNN/MultiRNNCell/Cell1/rnn/lstm_cell/bias:0 from checkpoint b'/tmp/tfhub_modules/9bb74bc86f9caffc8c47dd7b33ec4bb354d9602d/variables/variables' with bilm/RNN_1/RNN/MultiRNNCell/Cell1/rnn/lstm_cell/bias\n"
     ]
    },
    {
     "name": "stderr",
     "output_type": "stream",
     "text": [
      "2018-09-11 13:58:21.750 INFO in 'tensorflow'['tf_logging'] at line 116: Initialize variable module/bilm/RNN_1/RNN/MultiRNNCell/Cell1/rnn/lstm_cell/bias:0 from checkpoint b'/tmp/tfhub_modules/9bb74bc86f9caffc8c47dd7b33ec4bb354d9602d/variables/variables' with bilm/RNN_1/RNN/MultiRNNCell/Cell1/rnn/lstm_cell/bias\n"
     ]
    },
    {
     "name": "stdout",
     "output_type": "stream",
     "text": [
      "INFO:tensorflow:Initialize variable module/bilm/RNN_1/RNN/MultiRNNCell/Cell1/rnn/lstm_cell/kernel:0 from checkpoint b'/tmp/tfhub_modules/9bb74bc86f9caffc8c47dd7b33ec4bb354d9602d/variables/variables' with bilm/RNN_1/RNN/MultiRNNCell/Cell1/rnn/lstm_cell/kernel\n"
     ]
    },
    {
     "name": "stderr",
     "output_type": "stream",
     "text": [
      "2018-09-11 13:58:21.762 INFO in 'tensorflow'['tf_logging'] at line 116: Initialize variable module/bilm/RNN_1/RNN/MultiRNNCell/Cell1/rnn/lstm_cell/kernel:0 from checkpoint b'/tmp/tfhub_modules/9bb74bc86f9caffc8c47dd7b33ec4bb354d9602d/variables/variables' with bilm/RNN_1/RNN/MultiRNNCell/Cell1/rnn/lstm_cell/kernel\n"
     ]
    },
    {
     "name": "stdout",
     "output_type": "stream",
     "text": [
      "INFO:tensorflow:Initialize variable module/bilm/RNN_1/RNN/MultiRNNCell/Cell1/rnn/lstm_cell/projection/kernel:0 from checkpoint b'/tmp/tfhub_modules/9bb74bc86f9caffc8c47dd7b33ec4bb354d9602d/variables/variables' with bilm/RNN_1/RNN/MultiRNNCell/Cell1/rnn/lstm_cell/projection/kernel\n"
     ]
    },
    {
     "name": "stderr",
     "output_type": "stream",
     "text": [
      "2018-09-11 13:58:21.772 INFO in 'tensorflow'['tf_logging'] at line 116: Initialize variable module/bilm/RNN_1/RNN/MultiRNNCell/Cell1/rnn/lstm_cell/projection/kernel:0 from checkpoint b'/tmp/tfhub_modules/9bb74bc86f9caffc8c47dd7b33ec4bb354d9602d/variables/variables' with bilm/RNN_1/RNN/MultiRNNCell/Cell1/rnn/lstm_cell/projection/kernel\n"
     ]
    },
    {
     "name": "stdout",
     "output_type": "stream",
     "text": [
      "INFO:tensorflow:Initialize variable module/bilm/char_embed:0 from checkpoint b'/tmp/tfhub_modules/9bb74bc86f9caffc8c47dd7b33ec4bb354d9602d/variables/variables' with bilm/char_embed\n"
     ]
    },
    {
     "name": "stderr",
     "output_type": "stream",
     "text": [
      "2018-09-11 13:58:21.781 INFO in 'tensorflow'['tf_logging'] at line 116: Initialize variable module/bilm/char_embed:0 from checkpoint b'/tmp/tfhub_modules/9bb74bc86f9caffc8c47dd7b33ec4bb354d9602d/variables/variables' with bilm/char_embed\n",
      "2018-09-11 13:58:28.883 INFO in 'deeppavlov.models.embedders.glove_embedder'['glove_embedder'] at line 60: [loading embeddings from `/home/kostrovskiy/prog/AI/NLP/DeepPavlov/download/embeddings/glove.6B/glove.6B.100d.txt`]\n",
      "2018-09-11 13:58:28.884 INFO in 'gensim.models.keyedvectors'['keyedvectors'] at line 204: loading projection weights from /home/kostrovskiy/prog/AI/NLP/DeepPavlov/download/embeddings/glove.6B/glove.6B.100d.txt\n",
      "2018-09-11 13:58:28.884 DEBUG in 'smart_open.smart_open_lib'['smart_open_lib'] at line 176: {'kw': {}, 'mode': 'rb', 'uri': '/home/kostrovskiy/prog/AI/NLP/DeepPavlov/download/embeddings/glove.6B/glove.6B.100d.txt'}\n",
      "2018-09-11 13:59:03.80 INFO in 'gensim.models.keyedvectors'['keyedvectors'] at line 266: loaded (400000, 100) matrix from /home/kostrovskiy/prog/AI/NLP/DeepPavlov/download/embeddings/glove.6B/glove.6B.100d.txt\n"
     ]
    }
   ],
   "source": [
    "# embedder = CompositeEmbedder(use_elmo=True, elmo_scale=1, cap_scale=1, use_cap_feat=True, use_glove=True, elmo_params={'trainable_cells': True, 'restore_path': \"./tmp/elmo.ckpt\"})\n",
    "embedder = CompositeEmbedder(use_elmo=True, elmo_scale=1, cap_scale=1, use_cap_feat=True, use_glove=True)\n",
    "# embedder = CompositeEmbedder(use_elmo=False, elmo_scale=1, cap_scale=1, use_cap_feat=False, use_glove=False, use_fastText=True)"
   ]
  },
  {
   "cell_type": "code",
   "execution_count": null,
   "metadata": {},
   "outputs": [
    {
     "name": "stdout",
     "output_type": "stream",
     "text": [
      "NE type: PERSON\n",
      "Num of train sentences: 12195\n",
      "Num of valid sentences: 1553\n",
      "Num of test sentences: 1573\n",
      "++++++++ Number of example sentences: 10 ++++++++\n",
      "Sample 1\n",
      "{'algorithm': 'lbfgs', 'c1': 0, 'c2': 0}\n",
      "Train\n",
      "# ne: 22, # tokens: 238\n",
      "n_samples: 238\n",
      "SVM classifier model\n",
      "CRF classifier model\n",
      "LogReg classifier model\n",
      "F1 scores: {'svm': 0.8625336927223719, 'crf': 0.8362573099415205, 'logreg': 0.8402366863905325}\n",
      "svm F1: mean = 0.8625336927223719 std = 0.0\n",
      "svm F1: mean_chunk = 0.7449392712550608 std_chunk = 0.0\n",
      "crf F1: mean = 0.8362573099415205 std = 0.0\n",
      "crf F1: mean_chunk = 0.7407407407407406 std_chunk = 0.0\n",
      "logreg F1: mean = 0.8402366863905325 std = 0.0\n",
      "logreg F1: mean_chunk = 0.6844444444444443 std_chunk = 0.0\n",
      "++++++++ Number of example sentences: 20 ++++++++\n",
      "Sample 1\n",
      "{'algorithm': 'lbfgs', 'c1': 0, 'c2': 0}\n",
      "Train\n",
      "# ne: 35, # tokens: 468\n",
      "n_samples: 468\n",
      "SVM classifier model\n",
      "CRF classifier model\n",
      "LogReg classifier model\n",
      "F1 scores: {'svm': 0.8658008658008659, 'crf': 0.9002320185614849, 'logreg': 0.8995433789954338}\n",
      "svm F1: mean = 0.8658008658008659 std = 0.0\n",
      "svm F1: mean_chunk = 0.7517730496453902 std_chunk = 0.0\n",
      "crf F1: mean = 0.9002320185614849 std = 0.0\n",
      "crf F1: mean_chunk = 0.8301886792452831 std_chunk = 0.0\n",
      "logreg F1: mean = 0.8995433789954338 std = 0.0\n",
      "logreg F1: mean_chunk = 0.8265682656826568 std_chunk = 0.0\n",
      "++++++++ Number of example sentences: 30 ++++++++\n",
      "Sample 1\n",
      "{'algorithm': 'lbfgs', 'c1': 0, 'c2': 0}\n",
      "Train\n",
      "# ne: 62, # tokens: 705\n",
      "n_samples: 705\n",
      "SVM classifier model\n",
      "CRF classifier model\n",
      "LogReg classifier model\n",
      "F1 scores: {'svm': 0.8842105263157893, 'crf': 0.88, 'logreg': 0.8814317673378077}\n",
      "svm F1: mean = 0.8842105263157893 std = 0.0\n",
      "svm F1: mean_chunk = 0.8201438848920862 std_chunk = 0.0\n",
      "crf F1: mean = 0.88 std = 0.0\n",
      "crf F1: mean_chunk = 0.8396946564885497 std_chunk = 0.0\n",
      "logreg F1: mean = 0.8814317673378077 std = 0.0\n",
      "logreg F1: mean_chunk = 0.8257575757575758 std_chunk = 0.0\n",
      "++++++++ Number of example sentences: 40 ++++++++\n",
      "Sample 1\n",
      "{'algorithm': 'lbfgs', 'c1': 0, 'c2': 0}\n",
      "Train\n",
      "# ne: 100, # tokens: 1068\n",
      "n_samples: 1068\n",
      "SVM classifier model\n",
      "CRF classifier model\n",
      "LogReg classifier model\n",
      "F1 scores: {'svm': 0.8784648187633263, 'crf': 0.8959276018099547, 'logreg': 0.8848758465011287}\n",
      "svm F1: mean = 0.8784648187633263 std = 0.0\n",
      "svm F1: mean_chunk = 0.7896678966789668 std_chunk = 0.0\n",
      "crf F1: mean = 0.8959276018099547 std = 0.0\n",
      "crf F1: mean_chunk = 0.7804878048780489 std_chunk = 0.0\n",
      "logreg F1: mean = 0.8848758465011287 std = 0.0\n",
      "logreg F1: mean_chunk = 0.7843137254901962 std_chunk = 0.0\n",
      "++++++++ Number of example sentences: 50 ++++++++\n",
      "Sample 1\n",
      "{'algorithm': 'lbfgs', 'c1': 0, 'c2': 0}\n",
      "Train\n",
      "# ne: 100, # tokens: 1333\n",
      "n_samples: 1333\n",
      "SVM classifier model\n",
      "CRF classifier model\n",
      "LogReg classifier model\n",
      "F1 scores: {'svm': 0.8552915766738661, 'crf': 0.8780487804878048, 'logreg': 0.8899297423887588}\n",
      "svm F1: mean = 0.8552915766738661 std = 0.0\n",
      "svm F1: mean_chunk = 0.768166089965398 std_chunk = 0.0\n",
      "crf F1: mean = 0.8780487804878048 std = 0.0\n",
      "crf F1: mean_chunk = 0.8225806451612904 std_chunk = 0.0\n",
      "logreg F1: mean = 0.8899297423887588 std = 0.0\n",
      "logreg F1: mean_chunk = 0.7969924812030075 std_chunk = 0.0\n",
      "++++++++ Number of example sentences: 60 ++++++++\n",
      "Sample 1\n",
      "{'algorithm': 'lbfgs', 'c1': 0, 'c2': 0}\n",
      "Train\n",
      "# ne: 122, # tokens: 1446\n",
      "n_samples: 1446\n",
      "SVM classifier model\n",
      "CRF classifier model\n",
      "LogReg classifier model\n",
      "F1 scores: {'svm': 0.8938053097345133, 'crf': 0.9039812646370023, 'logreg': 0.9205607476635514}\n",
      "svm F1: mean = 0.8938053097345133 std = 0.0\n",
      "svm F1: mean_chunk = 0.7889273356401384 std_chunk = 0.0\n",
      "crf F1: mean = 0.9039812646370023 std = 0.0\n",
      "crf F1: mean_chunk = 0.8372093023255814 std_chunk = 0.0\n",
      "logreg F1: mean = 0.9205607476635514 std = 0.0\n",
      "logreg F1: mean_chunk = 0.8384615384615384 std_chunk = 0.0\n",
      "++++++++ Number of example sentences: 70 ++++++++\n",
      "Sample 1\n",
      "{'algorithm': 'lbfgs', 'c1': 0, 'c2': 0}\n",
      "Train\n",
      "# ne: 128, # tokens: 1648\n",
      "n_samples: 1648\n",
      "SVM classifier model\n",
      "CRF classifier model\n",
      "LogReg classifier model\n",
      "F1 scores: {'svm': 0.9041095890410958, 'crf': 0.906474820143885, 'logreg': 0.9060240963855422}\n",
      "svm F1: mean = 0.9041095890410958 std = 0.0\n",
      "svm F1: mean_chunk = 0.7575757575757575 std_chunk = 0.0\n",
      "crf F1: mean = 0.906474820143885 std = 0.0\n",
      "crf F1: mean_chunk = 0.8354430379746836 std_chunk = 0.0\n",
      "logreg F1: mean = 0.9060240963855422 std = 0.0\n",
      "logreg F1: mean_chunk = 0.7808764940239046 std_chunk = 0.0\n",
      "++++++++ Number of example sentences: 80 ++++++++\n",
      "Sample 1\n",
      "{'algorithm': 'lbfgs', 'c1': 0, 'c2': 0}\n",
      "Train\n",
      "# ne: 154, # tokens: 1796\n",
      "n_samples: 1796\n",
      "SVM classifier model\n",
      "CRF classifier model\n",
      "LogReg classifier model\n",
      "F1 scores: {'svm': 0.8957055214723926, 'crf': 0.891832229580574, 'logreg': 0.887912087912088}\n",
      "svm F1: mean = 0.8957055214723926 std = 0.0\n",
      "svm F1: mean_chunk = 0.8014184397163122 std_chunk = 0.0\n",
      "crf F1: mean = 0.891832229580574 std = 0.0\n",
      "crf F1: mean_chunk = 0.7968749999999999 std_chunk = 0.0\n",
      "logreg F1: mean = 0.887912087912088 std = 0.0\n",
      "logreg F1: mean_chunk = 0.7799227799227799 std_chunk = 0.0\n",
      "++++++++ Number of example sentences: 90 ++++++++\n",
      "Sample 1\n",
      "{'algorithm': 'lbfgs', 'c1': 0, 'c2': 0}\n",
      "Train\n",
      "# ne: 184, # tokens: 2243\n",
      "n_samples: 2243\n",
      "SVM classifier model\n",
      "CRF classifier model\n",
      "LogReg classifier model\n",
      "F1 scores: {'svm': 0.8852459016393442, 'crf': 0.9309462915601022, 'logreg': 0.9430051813471502}\n",
      "svm F1: mean = 0.8852459016393442 std = 0.0\n",
      "svm F1: mean_chunk = 0.769811320754717 std_chunk = 0.0\n",
      "crf F1: mean = 0.9309462915601022 std = 0.0\n",
      "crf F1: mean_chunk = 0.8354430379746836 std_chunk = 0.0\n",
      "logreg F1: mean = 0.9430051813471502 std = 0.0\n",
      "logreg F1: mean_chunk = 0.8760330578512396 std_chunk = 0.0\n",
      "++++++++ Number of example sentences: 100 ++++++++\n",
      "Sample 1\n",
      "{'algorithm': 'lbfgs', 'c1': 0, 'c2': 0}\n",
      "Train\n",
      "# ne: 203, # tokens: 2393\n",
      "n_samples: 2393\n",
      "SVM classifier model\n",
      "CRF classifier model\n",
      "LogReg classifier model\n",
      "F1 scores: {'svm': 0.8726513569937369, 'crf': 0.8738738738738738, 'logreg': 0.9046563192904656}\n",
      "svm F1: mean = 0.8726513569937369 std = 0.0\n",
      "svm F1: mean_chunk = 0.8153310104529616 std_chunk = 0.0\n",
      "crf F1: mean = 0.8738738738738738 std = 0.0\n",
      "crf F1: mean_chunk = 0.7984790874524715 std_chunk = 0.0\n",
      "logreg F1: mean = 0.9046563192904656 std = 0.0\n",
      "logreg F1: mean_chunk = 0.8205128205128205 std_chunk = 0.0\n",
      "++++++++ Number of example sentences: 200 ++++++++\n",
      "Sample 1\n",
      "{'algorithm': 'lbfgs', 'c1': 0, 'c2': 0}\n",
      "Train\n",
      "# ne: 448, # tokens: 4918\n",
      "n_samples: 4918\n",
      "SVM classifier model\n",
      "CRF classifier model\n",
      "LogReg classifier model\n",
      "F1 scores: {'svm': 0.88641425389755, 'crf': 0.9126213592233009, 'logreg': 0.9362745098039216}\n",
      "svm F1: mean = 0.88641425389755 std = 0.0\n",
      "svm F1: mean_chunk = 0.7925925925925926 std_chunk = 0.0\n",
      "crf F1: mean = 0.9126213592233009 std = 0.0\n",
      "crf F1: mean_chunk = 0.7786885245901639 std_chunk = 0.0\n",
      "logreg F1: mean = 0.9362745098039216 std = 0.0\n",
      "logreg F1: mean_chunk = 0.819277108433735 std_chunk = 0.0\n",
      "++++++++ Number of example sentences: 300 ++++++++\n",
      "Sample 1\n",
      "{'algorithm': 'lbfgs', 'c1': 0, 'c2': 0}\n",
      "Train\n"
     ]
    }
   ],
   "source": [
    "from collections import defaultdict\n",
    "f1_scores = {}\n",
    "print('NE type: {}'.format(NE_TYPE))\n",
    "dataset = filter_dataset_by_ne_types(dataset_orig, NE_TYPE, preserveBIO=True)\n",
    "for n_ex in N_EXAMPLES:\n",
    "    print('++++++++ Number of example sentences: {} ++++++++'.format(n_ex))\n",
    "    f1_scores[n_ex] = {}\n",
    "    for model in MODELS:\n",
    "        f1_scores[n_ex][model] = {'values':[], 'values_chunk':[]}\n",
    "    for idx_sample in range(N_SAMPLES):\n",
    "        print('Sample {}'.format(idx_sample+1))\n",
    "        tokens_train,tags_train = get_data_sample(dataset['train'], n_ex)\n",
    "        tags_train = removeBIOFromTags(tags_train)\n",
    "        tokens_test,tags_test = get_data_sample(dataset['test'], N_TEST_SENTENCES)\n",
    "        tags_test_bio = tags_test\n",
    "        tags_test_bio_flat = flatten_list(tags_test_bio)\n",
    "        tags_test = removeBIOFromTags(tags_test)\n",
    "        y_test = np.array([1 if t == 'T' else 0 for seq in tags_test for t in seq])\n",
    "        ner_bin_clf = FewshotNerBinaryClassifier(embedder, use_crf=True, use_logreg=True, model_params=MODEL_PARAMS)\n",
    "        ner_bin_clf.train_on_batch(tokens_train, tags_train)\n",
    "        results = ner_bin_clf.predict(tokens_test, MODELS, MODEL_PARAMS)\n",
    "        pred_avg = np.zeros(y_test.size)\n",
    "        n_models_avg = 0\n",
    "        for model in MODELS:\n",
    "            pred = results[model]['pred']\n",
    "#             if model in MODELS_COMPOSE:   \n",
    "#                 pred_avg += pred\n",
    "#                 n_models_avg += 1\n",
    "            f1 = f1_score(y_test, pred)\n",
    "            f1_scores[n_ex][model]['values'].append(f1)\n",
    "            # chunk-wise f1\n",
    "            pred_tags_bio = predToTags(pred, accountBIO=True)\n",
    "            f1_chunk = precision_recall_f1_chunks(tags_test_bio_flat, pred_tags_bio, print_results=False)['__total__']['f1']/100\n",
    "            f1_scores[n_ex][model]['values_chunk'].append(f1_chunk)\n",
    "#         pred_avg /= n_models_avg\n",
    "#         pred_avg[pred_avg >= 0.5] = 1\n",
    "#         pred_avg[pred_avg < 0.5] = 0\n",
    "#         f1 = f1_score(y_test, pred_avg)\n",
    "#         pred_tags_bio_avg = predToTags(pred_avg, accountBIO=True)\n",
    "#         f1_chunk = precision_recall_f1_chunks(tags_test_bio_flat, pred_tags_bio_avg, print_results=False)['__total__']['f1']/100\n",
    "#         f1_scores[n_ex]['compose']['values'].append(f1)\n",
    "#         f1_scores[n_ex]['compose']['values_chunk'].append(f1_chunk)\n",
    "        \n",
    "        cur_f1_scores_dict = {k: f1_scores[n_ex][k]['values'][-1] for k in f1_scores[n_ex].keys()}\n",
    "        print('F1 scores: {}'.format(cur_f1_scores_dict))\n",
    "        \n",
    "        del ner_bin_clf\n",
    "    for model in MODELS:\n",
    "        f1_scores[n_ex][model]['mean'] = np.mean(f1_scores[n_ex][model]['values'])\n",
    "        f1_scores[n_ex][model]['std'] = np.std(f1_scores[n_ex][model]['values'])\n",
    "        f1_scores[n_ex][model]['mean_chunk'] = np.mean(f1_scores[n_ex][model]['values_chunk'])\n",
    "        f1_scores[n_ex][model]['std_chunk'] = np.std(f1_scores[n_ex][model]['values_chunk'])\n",
    "        print('{} F1: mean = {} std = {}'.format(model, f1_scores[n_ex][model]['mean'], f1_scores[n_ex][model]['std']))\n",
    "        print('{} F1: mean_chunk = {} std_chunk = {}'.format(model, f1_scores[n_ex][model]['mean_chunk'], f1_scores[n_ex][model]['std_chunk']))"
   ]
  },
  {
   "cell_type": "code",
   "execution_count": null,
   "metadata": {},
   "outputs": [],
   "source": [
    "f1_by_model = {}\n",
    "f1_chunk_by_model = {}\n",
    "for n_ex, results in f1_scores.items():\n",
    "    for model in results.keys():\n",
    "        if not f1_by_model.get(model):  \n",
    "            f1_by_model[model] = []\n",
    "            f1_chunk_by_model[model] = []\n",
    "        f1_by_model[model].append(results[model]['mean'])\n",
    "        f1_chunk_by_model[model].append(results[model]['mean_chunk'])"
   ]
  },
  {
   "cell_type": "code",
   "execution_count": null,
   "metadata": {},
   "outputs": [],
   "source": [
    "markers = ['^', 'o', 's', 'x', 'v', '*', '<', '>']\n",
    "# markers = ['^', 'v', 'o', 's']\n",
    "fig = plt.figure()\n",
    "i = 0\n",
    "for model, f1_scores_list in f1_by_model.items():\n",
    "    ax = plt.semilogx(N_EXAMPLES, f1_scores_list, marker=markers[i], label=model)\n",
    "    i += 1\n",
    "plt.grid()\n",
    "plt.xticks(N_EXAMPLES)\n",
    "plt.yticks(np.arange(0.8,0.95,0.1))\n",
    "plt.xlabel('# examples')\n",
    "plt.ylabel('F1 score')\n",
    "plt.legend()\n",
    "plt.title('Average F1 scores')"
   ]
  },
  {
   "cell_type": "markdown",
   "metadata": {},
   "source": [
    "### Token-wise vs chunk-wise F1 scores"
   ]
  },
  {
   "cell_type": "code",
   "execution_count": null,
   "metadata": {},
   "outputs": [],
   "source": [
    "fig = plt.figure()\n",
    "plt.plot(N_EXAMPLES, f1_by_model['svm'], marker='s', c='b', label='token-wise')\n",
    "plt.plot(N_EXAMPLES, f1_chunk_by_model['svm'], marker='o', c='r', label='chunk-wise')\n",
    "plt.grid()\n",
    "plt.xticks(N_EXAMPLES)\n",
    "plt.xlabel('# examples')\n",
    "plt.ylabel('F1 score')\n",
    "plt.legend()\n",
    "plt.title('Average F1 scores for SVM: token-wise vs chunk-wise')"
   ]
  },
  {
   "cell_type": "code",
   "execution_count": null,
   "metadata": {},
   "outputs": [],
   "source": [
    "fig = plt.figure()\n",
    "plt.plot(N_EXAMPLES, f1_by_model['weighted_kNN'], marker='s', c='b', label='token-wise')\n",
    "plt.plot(N_EXAMPLES, f1_chunk_by_model['weighted_kNN'], marker='o', c='r', label='chunk-wise')\n",
    "plt.grid()\n",
    "plt.xticks(N_EXAMPLES)\n",
    "plt.xlabel('# examples')\n",
    "plt.ylabel('F1 score')\n",
    "plt.legend()\n",
    "plt.title('Average F1 scores for kNN: token-wise vs chunk-wise')"
   ]
  },
  {
   "cell_type": "code",
   "execution_count": null,
   "metadata": {},
   "outputs": [],
   "source": []
  }
 ],
 "metadata": {
  "kernelspec": {
   "display_name": "Python 3",
   "language": "python",
   "name": "python3"
  },
  "language_info": {
   "codemirror_mode": {
    "name": "ipython",
    "version": 3
   },
   "file_extension": ".py",
   "mimetype": "text/x-python",
   "name": "python",
   "nbconvert_exporter": "python",
   "pygments_lexer": "ipython3",
   "version": "3.6.5"
  }
 },
 "nbformat": 4,
 "nbformat_minor": 2
}
