{
 "cells": [
  {
   "cell_type": "code",
   "execution_count": 1,
   "metadata": {},
   "outputs": [
    {
     "name": "stderr",
     "output_type": "stream",
     "text": [
      "/home/kostrovskiy/prog/AI/NLP/DeepPavlov/env/lib/python3.6/site-packages/h5py/__init__.py:36: FutureWarning: Conversion of the second argument of issubdtype from `float` to `np.floating` is deprecated. In future, it will be treated as `np.float64 == np.dtype(float).type`.\n",
      "  from ._conv import register_converters as _register_converters\n",
      "Using TensorFlow backend.\n",
      "[nltk_data] Downloading package punkt to\n",
      "[nltk_data]     /home/kostrovskiy/nltk_data...\n",
      "[nltk_data]   Package punkt is already up-to-date!\n",
      "[nltk_data] Downloading package stopwords to\n",
      "[nltk_data]     /home/kostrovskiy/nltk_data...\n",
      "[nltk_data]   Package stopwords is already up-to-date!\n",
      "[nltk_data] Downloading package perluniprops to\n",
      "[nltk_data]     /home/kostrovskiy/nltk_data...\n",
      "[nltk_data]   Package perluniprops is already up-to-date!\n",
      "[nltk_data] Downloading package nonbreaking_prefixes to\n",
      "[nltk_data]     /home/kostrovskiy/nltk_data...\n",
      "[nltk_data]   Package nonbreaking_prefixes is already up-to-date!\n",
      "2018-09-03 19:19:32.342 DEBUG in 'gensim.models.doc2vec'['doc2vec'] at line 73: Fast version of gensim.models.doc2vec is being used\n",
      "2018-09-03 19:19:32.381 INFO in 'summa.preprocessing.cleaner'['textcleaner'] at line 20: 'pattern' package not found; tag filters are not available for English\n",
      "2018-09-03 19:19:43.31 DEBUG in 'matplotlib.backends'['__init__'] at line 90: backend module://ipykernel.pylab.backend_inline version unknown\n"
     ]
    }
   ],
   "source": [
    "import copy\n",
    "import os\n",
    "import numpy as np\n",
    "import matplotlib.pyplot as plt\n",
    "from sklearn.metrics import f1_score\n",
    "import tensorflow as tf\n",
    "import deeppavlov\n",
    "from deeppavlov.dataset_readers.ontonotes_reader import OntonotesReader\n",
    "\n",
    "from deeppavlov.models.embedders.glove_embedder import GloVeEmbedder"
   ]
  },
  {
   "cell_type": "code",
   "execution_count": 2,
   "metadata": {},
   "outputs": [],
   "source": [
    "from src.fewshot_ner_viz_component.fewshot_ner_binary_classifier import FewshotNerBinaryClassifier, CompositeEmbedder\n",
    "from src.fewshot_ner_viz_component.data_processing import *"
   ]
  },
  {
   "cell_type": "markdown",
   "metadata": {},
   "source": [
    "### Configuration parameters"
   ]
  },
  {
   "cell_type": "code",
   "execution_count": 3,
   "metadata": {},
   "outputs": [],
   "source": [
    "NE_TYPE = 'PERSON'\n",
    "N_EXAMPLES = list(range(1, 11))\n",
    "N_EXAMPLES = list(range(5, 11))\n",
    "# N_EXAMPLES.extend([20,30,40,50,60,70,80,90,100])\n",
    "# N_EXAMPLES = list(range(10, 101, 10))\n",
    "# N_EXAMPLES = list(range(1, 5))\n",
    "N_TEST_SENTENCES = 100\n",
    "N_SAMPLES = 1\n",
    "# MODELS = ['ne_centroid', 'ne_nearest', 'weighted_kNN', 'centroid_kNN', 'svm']\n",
    "MODELS = ['ne_centroid', 'ne_nearest', 'weighted_kNN', 'centroid_kNN', 'svm']\n",
    "MODELS = ['ne_centroid', 'weighted_kNN', 'centroid_kNN', 'svm']\n",
    "MODELS = ['svm']\n",
    "# MODELS = ['ne_centroid', 'weighted_kNN', 'centroid_kNN', 'svm']\n",
    "MODEL_PARAMS = {'ne_centroid': {'sim_type': 'cosine'},\n",
    "               'ne_nearest': {'sim_type': 'cosine'},\n",
    "               'weighted_kNN': {'k': 1, 'metric': 'cosine', 'use_class_weights': False, 'use_sim_weights': True},\n",
    "               'centroid_kNN': {'k': 10, 'metric': 'dot_prod', 'use_class_weights': False},\n",
    "               'svm': {}}"
   ]
  },
  {
   "cell_type": "code",
   "execution_count": 4,
   "metadata": {},
   "outputs": [
    {
     "name": "stdout",
     "output_type": "stream",
     "text": [
      "Num of train sentences: 75187\n",
      "Num of valid sentences: 9603\n",
      "Num of test sentences: 9479\n",
      "[(['Actions', 'had', 'to', 'be', 'taken', 'to', 'break', 'through', 'the', 'blockade', '.'], ['O', 'O', 'O', 'O', 'O', 'O', 'O', 'O', 'O', 'O', 'O']), (['On', 'a', 'night', 'in', 'late', 'July', '1940', ',', 'the', 'atmosphere', 'in', 'Zhuanbi', 'Village', 'in', 'Shaanxi', 'was', 'unusual', '.'], ['O', 'B-DATE', 'I-DATE', 'I-DATE', 'I-DATE', 'I-DATE', 'I-DATE', 'O', 'O', 'O', 'O', 'B-GPE', 'I-GPE', 'O', 'B-GPE', 'O', 'O', 'O']), (['Villager', 'Xiao', 'Jianghe', 'has', 'a', 'vivid', 'memory', 'of', 'this', 'piece', 'of', 'history', '.'], ['O', 'B-PERSON', 'I-PERSON', 'O', 'O', 'O', 'O', 'O', 'O', 'O', 'O', 'O', 'O']), (['On', 'that', 'dark', 'night', ',', 'everyone', 'was', 'sleeping', 'when', 'human', 'voices', 'and', 'neighing', 'horses', 'were', 'heard', 'within', 'the', 'village', '.'], ['O', 'B-TIME', 'I-TIME', 'I-TIME', 'O', 'O', 'O', 'O', 'O', 'O', 'O', 'O', 'O', 'O', 'O', 'O', 'O', 'O', 'O', 'O']), (['People', 'all', 'got', 'up', '.'], ['O', 'O', 'O', 'O', 'O']), (['Did', 'something', 'happen', '?'], ['O', 'O', 'O', 'O']), (['Some', 'folks', 'got', 'up', '.'], ['O', 'O', 'O', 'O', 'O']), (['Opening', 'the', 'street', 'gate', ',', 'they', 'saw', 'a', 'soldier', 'standing', 'by', 'the', 'gate', '.'], ['O', 'O', 'O', 'O', 'O', 'O', 'O', 'O', 'O', 'O', 'O', 'O', 'O', 'O']), (['Folks', ',', 'go', 'back', ',', 'go', 'back', ',', 'nothing', 'is', 'wrong', '.'], ['O', 'O', 'O', 'O', 'O', 'O', 'O', 'O', 'O', 'O', 'O', 'O']), (['Our', 'troops', 'are', 'just', 'going', 'to', 'stay', 'here', 'for', 'the', 'night', '.'], ['O', 'O', 'O', 'O', 'O', 'O', 'O', 'O', 'O', 'O', 'O', 'O'])]\n"
     ]
    }
   ],
   "source": [
    "dataset_orig = read_data()"
   ]
  },
  {
   "cell_type": "code",
   "execution_count": 5,
   "metadata": {},
   "outputs": [
    {
     "name": "stderr",
     "output_type": "stream",
     "text": [
      "2018-09-03 19:19:45.252 INFO in 'deeppavlov.models.embedders.fasttext_embedder'['fasttext_embedder'] at line 69: [loading embeddings from `/home/kostrovskiy/prog/AI/NLP/DeepPavlov/download/embeddings/wiki.en.bin`]\n"
     ]
    }
   ],
   "source": [
    "# embedder = CompositeEmbedder(use_elmo=True, elmo_scale=1, cap_scale=1, use_cap_feat=True, use_glove=True, elmo_params={'trainable_cells': True, 'restore_path': \"./tmp/elmo.ckpt\"})\n",
    "# embedder = CompositeEmbedder(use_elmo=True, elmo_scale=1, cap_scale=1, use_cap_feat=True, use_glove=True)\n",
    "embedder = CompositeEmbedder(use_elmo=False, elmo_scale=1, cap_scale=1, use_cap_feat=False, use_glove=False, use_fastText=True)"
   ]
  },
  {
   "cell_type": "code",
   "execution_count": 6,
   "metadata": {},
   "outputs": [
    {
     "name": "stdout",
     "output_type": "stream",
     "text": [
      "NE type: PERSON\n",
      "Num of train sentences: 12195\n",
      "Num of valid sentences: 1553\n",
      "Num of test sentences: 1573\n",
      "++++++++ Number of example sentences: 5 ++++++++\n",
      "Sample 1\n",
      "Train\n",
      "# ne: 13, # tokens: 126\n",
      "n_samples: 126\n",
      "SVM classifier model\n",
      "F1 scores: {'svm': 0.3057851239669422}\n",
      "svm F1: mean = 0.3057851239669422 std = 0.0\n",
      "svm F1: mean_chunk = 0.16249999999999998 std_chunk = 0.0\n",
      "++++++++ Number of example sentences: 6 ++++++++\n",
      "Sample 1\n",
      "Train\n",
      "# ne: 11, # tokens: 153\n",
      "n_samples: 153\n",
      "SVM classifier model\n",
      "F1 scores: {'svm': 0.2162162162162162}\n",
      "svm F1: mean = 0.2162162162162162 std = 0.0\n",
      "svm F1: mean_chunk = 0.08917197452229299 std_chunk = 0.0\n",
      "++++++++ Number of example sentences: 7 ++++++++\n",
      "Sample 1\n",
      "Train\n",
      "# ne: 13, # tokens: 247\n",
      "n_samples: 247\n",
      "SVM classifier model\n",
      "F1 scores: {'svm': 0.6461538461538462}\n",
      "svm F1: mean = 0.6461538461538462 std = 0.0\n",
      "svm F1: mean_chunk = 0.4761904761904761 std_chunk = 0.0\n",
      "++++++++ Number of example sentences: 8 ++++++++\n",
      "Sample 1\n",
      "Train\n",
      "# ne: 12, # tokens: 178\n",
      "n_samples: 178\n",
      "SVM classifier model\n",
      "F1 scores: {'svm': 0.581081081081081}\n",
      "svm F1: mean = 0.581081081081081 std = 0.0\n",
      "svm F1: mean_chunk = 0.4383561643835616 std_chunk = 0.0\n",
      "++++++++ Number of example sentences: 9 ++++++++\n",
      "Sample 1\n",
      "Train\n",
      "# ne: 21, # tokens: 251\n",
      "n_samples: 251\n",
      "SVM classifier model\n",
      "F1 scores: {'svm': 0.6255319148936171}\n",
      "svm F1: mean = 0.6255319148936171 std = 0.0\n",
      "svm F1: mean_chunk = 0.43125 std_chunk = 0.0\n",
      "++++++++ Number of example sentences: 10 ++++++++\n",
      "Sample 1\n",
      "Train\n",
      "# ne: 18, # tokens: 170\n",
      "n_samples: 170\n",
      "SVM classifier model\n",
      "F1 scores: {'svm': 0.29304029304029305}\n",
      "svm F1: mean = 0.29304029304029305 std = 0.0\n",
      "svm F1: mean_chunk = 0.16184971098265893 std_chunk = 0.0\n"
     ]
    }
   ],
   "source": [
    "from collections import defaultdict\n",
    "f1_scores = {}\n",
    "print('NE type: {}'.format(NE_TYPE))\n",
    "dataset = filter_dataset_by_ne_types(dataset_orig, NE_TYPE, preserveBIO=True)\n",
    "for n_ex in N_EXAMPLES:\n",
    "    print('++++++++ Number of example sentences: {} ++++++++'.format(n_ex))\n",
    "    f1_scores[n_ex] = {}\n",
    "    for model in MODELS:\n",
    "        f1_scores[n_ex][model] = {'values':[], 'values_chunk':[]}\n",
    "    for idx_sample in range(N_SAMPLES):\n",
    "        print('Sample {}'.format(idx_sample+1))\n",
    "        tokens_train,tags_train = get_data_sample(dataset['train'], n_ex)\n",
    "        tags_train = removeBIOFromTags(tags_train)\n",
    "        tokens_test,tags_test = get_data_sample(dataset['test'], N_TEST_SENTENCES)\n",
    "        tags_test_bio = tags_test\n",
    "        tags_test_bio_flat = flatten_list(tags_test_bio)\n",
    "        tags_test = removeBIOFromTags(tags_test)\n",
    "        y_test = np.array([1 if t == 'T' else 0 for seq in tags_test for t in seq])\n",
    "        ner_bin_clf = FewshotNerBinaryClassifier(embedder)\n",
    "        ner_bin_clf.train_on_batch(tokens_train, tags_train)\n",
    "        results = ner_bin_clf.predict(tokens_test, MODELS, MODEL_PARAMS)\n",
    "        pred_avg = np.zeros(y_test.size)\n",
    "        n_models_avg = 0\n",
    "        for model in MODELS:\n",
    "            pred = results[model]['pred']\n",
    "            if model in ['ne_centroid', 'weighted_kNN', 'centroid_kNN', 'svm']:   \n",
    "                pred_avg += pred\n",
    "                n_models_avg += 1\n",
    "            f1 = f1_score(y_test, pred)\n",
    "            f1_scores[n_ex][model]['values'].append(f1)\n",
    "            # chunk-wise f1\n",
    "            pred_tags_bio = predToTags(pred, accountBIO=True)\n",
    "            f1_chunk = precision_recall_f1_chunks(tags_test_bio_flat, pred_tags_bio, print_results=False)['__total__']['f1']/100\n",
    "            f1_scores[n_ex][model]['values_chunk'].append(f1_chunk)\n",
    "        pred_avg /= n_models_avg\n",
    "        \n",
    "        cur_f1_scores_dict = {k: f1_scores[n_ex][k]['values'][-1] for k in f1_scores[n_ex].keys()}\n",
    "        print('F1 scores: {}'.format(cur_f1_scores_dict))\n",
    "        \n",
    "        del ner_bin_clf\n",
    "    for model in MODELS:\n",
    "        f1_scores[n_ex][model]['mean'] = np.mean(f1_scores[n_ex][model]['values'])\n",
    "        f1_scores[n_ex][model]['std'] = np.std(f1_scores[n_ex][model]['values'])\n",
    "        f1_scores[n_ex][model]['mean_chunk'] = np.mean(f1_scores[n_ex][model]['values_chunk'])\n",
    "        f1_scores[n_ex][model]['std_chunk'] = np.std(f1_scores[n_ex][model]['values_chunk'])\n",
    "        print('{} F1: mean = {} std = {}'.format(model, f1_scores[n_ex][model]['mean'], f1_scores[n_ex][model]['std']))\n",
    "        print('{} F1: mean_chunk = {} std_chunk = {}'.format(model, f1_scores[n_ex][model]['mean_chunk'], f1_scores[n_ex][model]['std_chunk']))"
   ]
  },
  {
   "cell_type": "code",
   "execution_count": 7,
   "metadata": {},
   "outputs": [],
   "source": [
    "f1_by_model = {}\n",
    "f1_chunk_by_model = {}\n",
    "for n_ex, results in f1_scores.items():\n",
    "    for model in results.keys():\n",
    "        if not f1_by_model.get(model):  \n",
    "            f1_by_model[model] = []\n",
    "            f1_chunk_by_model[model] = []\n",
    "        f1_by_model[model].append(results[model]['mean'])\n",
    "        f1_chunk_by_model[model].append(results[model]['mean_chunk'])"
   ]
  },
  {
   "cell_type": "code",
   "execution_count": 8,
   "metadata": {},
   "outputs": [
    {
     "data": {
      "text/plain": [
       "Text(0.5,1,'Average F1 scores')"
      ]
     },
     "execution_count": 8,
     "metadata": {},
     "output_type": "execute_result"
    },
    {
     "name": "stderr",
     "output_type": "stream",
     "text": [
      "2018-09-03 19:21:19.626 DEBUG in 'matplotlib.font_manager'['font_manager'] at line 1343: findfont: Matching :family=sans-serif:style=normal:variant=normal:weight=normal:stretch=normal:size=10.0 to DejaVu Sans ('/home/kostrovskiy/anaconda3/lib/python3.6/site-packages/matplotlib/mpl-data/fonts/ttf/DejaVuSans.ttf') with score of 0.050000\n",
      "2018-09-03 19:21:19.722 DEBUG in 'matplotlib.font_manager'['font_manager'] at line 1343: findfont: Matching :family=sans-serif:style=normal:variant=normal:weight=normal:stretch=normal:size=12.0 to DejaVu Sans ('/home/kostrovskiy/anaconda3/lib/python3.6/site-packages/matplotlib/mpl-data/fonts/ttf/DejaVuSans.ttf') with score of 0.050000\n"
     ]
    },
    {
     "data": {
      "image/png": "[encoded data removed]",
      "text/plain": [
       "<Figure size 432x288 with 1 Axes>"
      ]
     },
     "metadata": {},
     "output_type": "display_data"
    }
   ],
   "source": [
    "markers = ['^', 'x', 'v', 'o', 's']\n",
    "markers = ['^', 'v', 'o', 's']\n",
    "fig = plt.figure()\n",
    "i = 0\n",
    "for model, f1_scores_list in f1_by_model.items():\n",
    "    ax = plt.plot(N_EXAMPLES, f1_scores_list, marker=markers[i], label=model)\n",
    "    i += 1\n",
    "plt.grid()\n",
    "plt.xticks(N_EXAMPLES)\n",
    "plt.yticks(np.arange(0,0.95,0.1))\n",
    "plt.xlabel('# examples')\n",
    "plt.ylabel('F1 score')\n",
    "plt.legend()\n",
    "plt.title('Average F1 scores')"
   ]
  },
  {
   "cell_type": "markdown",
   "metadata": {},
   "source": [
    "### Token-wise vs chunk-wise F1 scores"
   ]
  },
  {
   "cell_type": "code",
   "execution_count": 9,
   "metadata": {},
   "outputs": [
    {
     "data": {
      "text/plain": [
       "Text(0.5,1,'Average F1 scores for SVM: token-wise vs chunk-wise')"
      ]
     },
     "execution_count": 9,
     "metadata": {},
     "output_type": "execute_result"
    },
    {
     "data": {
      "image/png": "[encoded data removed]",
      "text/plain": [
       "<Figure size 432x288 with 1 Axes>"
      ]
     },
     "metadata": {},
     "output_type": "display_data"
    }
   ],
   "source": [
    "fig = plt.figure()\n",
    "plt.plot(N_EXAMPLES, f1_by_model['svm'], marker='s', c='b', label='token-wise')\n",
    "plt.plot(N_EXAMPLES, f1_chunk_by_model['svm'], marker='o', c='r', label='chunk-wise')\n",
    "plt.grid()\n",
    "plt.xticks(N_EXAMPLES)\n",
    "plt.xlabel('# examples')\n",
    "plt.ylabel('F1 score')\n",
    "plt.legend()\n",
    "plt.title('Average F1 scores for SVM: token-wise vs chunk-wise')"
   ]
  },
  {
   "cell_type": "code",
   "execution_count": 10,
   "metadata": {},
   "outputs": [
    {
     "ename": "KeyError",
     "evalue": "'weighted_kNN'",
     "output_type": "error",
     "traceback": [
      "\u001b[0;31m---------------------------------------------------------------------------\u001b[0m",
      "\u001b[0;31mKeyError\u001b[0m                                  Traceback (most recent call last)",
      "\u001b[0;32m<ipython-input-10-c199ed0df54d>\u001b[0m in \u001b[0;36m<module>\u001b[0;34m()\u001b[0m\n\u001b[1;32m      1\u001b[0m \u001b[0mfig\u001b[0m \u001b[0;34m=\u001b[0m \u001b[0mplt\u001b[0m\u001b[0;34m.\u001b[0m\u001b[0mfigure\u001b[0m\u001b[0;34m(\u001b[0m\u001b[0;34m)\u001b[0m\u001b[0;34m\u001b[0m\u001b[0m\n\u001b[0;32m----> 2\u001b[0;31m \u001b[0mplt\u001b[0m\u001b[0;34m.\u001b[0m\u001b[0mplot\u001b[0m\u001b[0;34m(\u001b[0m\u001b[0mN_EXAMPLES\u001b[0m\u001b[0;34m,\u001b[0m \u001b[0mf1_by_model\u001b[0m\u001b[0;34m[\u001b[0m\u001b[0;34m'weighted_kNN'\u001b[0m\u001b[0;34m]\u001b[0m\u001b[0;34m,\u001b[0m \u001b[0mmarker\u001b[0m\u001b[0;34m=\u001b[0m\u001b[0;34m's'\u001b[0m\u001b[0;34m,\u001b[0m \u001b[0mc\u001b[0m\u001b[0;34m=\u001b[0m\u001b[0;34m'b'\u001b[0m\u001b[0;34m,\u001b[0m \u001b[0mlabel\u001b[0m\u001b[0;34m=\u001b[0m\u001b[0;34m'token-wise'\u001b[0m\u001b[0;34m)\u001b[0m\u001b[0;34m\u001b[0m\u001b[0m\n\u001b[0m\u001b[1;32m      3\u001b[0m \u001b[0mplt\u001b[0m\u001b[0;34m.\u001b[0m\u001b[0mplot\u001b[0m\u001b[0;34m(\u001b[0m\u001b[0mN_EXAMPLES\u001b[0m\u001b[0;34m,\u001b[0m \u001b[0mf1_chunk_by_model\u001b[0m\u001b[0;34m[\u001b[0m\u001b[0;34m'weighted_kNN'\u001b[0m\u001b[0;34m]\u001b[0m\u001b[0;34m,\u001b[0m \u001b[0mmarker\u001b[0m\u001b[0;34m=\u001b[0m\u001b[0;34m'o'\u001b[0m\u001b[0;34m,\u001b[0m \u001b[0mc\u001b[0m\u001b[0;34m=\u001b[0m\u001b[0;34m'r'\u001b[0m\u001b[0;34m,\u001b[0m \u001b[0mlabel\u001b[0m\u001b[0;34m=\u001b[0m\u001b[0;34m'chunk-wise'\u001b[0m\u001b[0;34m)\u001b[0m\u001b[0;34m\u001b[0m\u001b[0m\n\u001b[1;32m      4\u001b[0m \u001b[0mplt\u001b[0m\u001b[0;34m.\u001b[0m\u001b[0mgrid\u001b[0m\u001b[0;34m(\u001b[0m\u001b[0;34m)\u001b[0m\u001b[0;34m\u001b[0m\u001b[0m\n\u001b[1;32m      5\u001b[0m \u001b[0mplt\u001b[0m\u001b[0;34m.\u001b[0m\u001b[0mxticks\u001b[0m\u001b[0;34m(\u001b[0m\u001b[0mN_EXAMPLES\u001b[0m\u001b[0;34m)\u001b[0m\u001b[0;34m\u001b[0m\u001b[0m\n",
      "\u001b[0;31mKeyError\u001b[0m: 'weighted_kNN'"
     ]
    },
    {
     "data": {
      "text/plain": [
       "<Figure size 432x288 with 0 Axes>"
      ]
     },
     "metadata": {},
     "output_type": "display_data"
    }
   ],
   "source": [
    "fig = plt.figure()\n",
    "plt.plot(N_EXAMPLES, f1_by_model['weighted_kNN'], marker='s', c='b', label='token-wise')\n",
    "plt.plot(N_EXAMPLES, f1_chunk_by_model['weighted_kNN'], marker='o', c='r', label='chunk-wise')\n",
    "plt.grid()\n",
    "plt.xticks(N_EXAMPLES)\n",
    "plt.xlabel('# examples')\n",
    "plt.ylabel('F1 score')\n",
    "plt.legend()\n",
    "plt.title('Average F1 scores for kNN: token-wise vs chunk-wise')"
   ]
  },
  {
   "cell_type": "code",
   "execution_count": null,
   "metadata": {},
   "outputs": [],
   "source": []
  }
 ],
 "metadata": {
  "kernelspec": {
   "display_name": "Python 3",
   "language": "python",
   "name": "python3"
  },
  "language_info": {
   "codemirror_mode": {
    "name": "ipython",
    "version": 3
   },
   "file_extension": ".py",
   "mimetype": "text/x-python",
   "name": "python",
   "nbconvert_exporter": "python",
   "pygments_lexer": "ipython3",
   "version": "3.6.5"
  }
 },
 "nbformat": 4,
 "nbformat_minor": 2
}
