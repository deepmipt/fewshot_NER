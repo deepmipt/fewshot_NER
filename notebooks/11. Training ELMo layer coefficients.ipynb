{
 "cells": [
  {
   "cell_type": "code",
   "execution_count": 42,
   "metadata": {
    "scrolled": true
   },
   "outputs": [],
   "source": [
    "import tensorflow as tf\n",
    "import tensorflow_hub as hub\n",
    "import numpy as np\n",
    "import matplotlib.pyplot as plt\n",
    "from sklearn.metrics import f1_score"
   ]
  },
  {
   "cell_type": "code",
   "execution_count": 43,
   "metadata": {},
   "outputs": [],
   "source": [
    "from src.fewshot_ner_viz_component.data_processing import *\n",
    "from src.fewshot_ner_viz_component.utils import *"
   ]
  },
  {
   "cell_type": "code",
   "execution_count": 44,
   "metadata": {},
   "outputs": [],
   "source": [
    "TRAIN_ALL_ELMO_PARAMS = 1"
   ]
  },
  {
   "cell_type": "code",
   "execution_count": 45,
   "metadata": {},
   "outputs": [],
   "source": [
    "tf.reset_default_graph()"
   ]
  },
  {
   "cell_type": "code",
   "execution_count": 46,
   "metadata": {},
   "outputs": [],
   "source": [
    "sess = tf.Session()"
   ]
  },
  {
   "cell_type": "code",
   "execution_count": 47,
   "metadata": {},
   "outputs": [],
   "source": [
    "# tf_vars = tf.trainable_variables()\n",
    "# [v for v in tf_vars if 'my_var_name' in v.name][0]"
   ]
  },
  {
   "cell_type": "code",
   "execution_count": 48,
   "metadata": {},
   "outputs": [],
   "source": [
    "module_path = \"https://tfhub.dev/google/elmo/{}\".format(1 if TRAIN_ALL_ELMO_PARAMS else 2)\n",
    "elmo = hub.Module(module_path, trainable=True)"
   ]
  },
  {
   "cell_type": "code",
   "execution_count": 49,
   "metadata": {},
   "outputs": [],
   "source": [
    "file_writer = tf.summary.FileWriter('./graph/elmo', tf.get_default_graph())"
   ]
  },
  {
   "cell_type": "code",
   "execution_count": 50,
   "metadata": {
    "scrolled": true
   },
   "outputs": [
    {
     "name": "stdout",
     "output_type": "stream",
     "text": [
      "[<tf.Variable 'module/bilm/RNN_0/RNN/MultiRNNCell/Cell0/rnn/lstm_cell/kernel:0' shape=(1024, 16384) dtype=float32>, <tf.Variable 'module/bilm/RNN_0/RNN/MultiRNNCell/Cell0/rnn/lstm_cell/bias:0' shape=(16384,) dtype=float32>, <tf.Variable 'module/bilm/RNN_0/RNN/MultiRNNCell/Cell0/rnn/lstm_cell/projection/kernel:0' shape=(4096, 512) dtype=float32>, <tf.Variable 'module/bilm/RNN_0/RNN/MultiRNNCell/Cell1/rnn/lstm_cell/kernel:0' shape=(1024, 16384) dtype=float32>, <tf.Variable 'module/bilm/RNN_0/RNN/MultiRNNCell/Cell1/rnn/lstm_cell/bias:0' shape=(16384,) dtype=float32>, <tf.Variable 'module/bilm/RNN_0/RNN/MultiRNNCell/Cell1/rnn/lstm_cell/projection/kernel:0' shape=(4096, 512) dtype=float32>, <tf.Variable 'module/bilm/RNN_1/RNN/MultiRNNCell/Cell0/rnn/lstm_cell/kernel:0' shape=(1024, 16384) dtype=float32>, <tf.Variable 'module/bilm/RNN_1/RNN/MultiRNNCell/Cell0/rnn/lstm_cell/bias:0' shape=(16384,) dtype=float32>, <tf.Variable 'module/bilm/RNN_1/RNN/MultiRNNCell/Cell0/rnn/lstm_cell/projection/kernel:0' shape=(4096, 512) dtype=float32>, <tf.Variable 'module/bilm/RNN_1/RNN/MultiRNNCell/Cell1/rnn/lstm_cell/kernel:0' shape=(1024, 16384) dtype=float32>, <tf.Variable 'module/bilm/RNN_1/RNN/MultiRNNCell/Cell1/rnn/lstm_cell/bias:0' shape=(16384,) dtype=float32>, <tf.Variable 'module/bilm/RNN_1/RNN/MultiRNNCell/Cell1/rnn/lstm_cell/projection/kernel:0' shape=(4096, 512) dtype=float32>, <tf.Variable 'module/aggregation/weights:0' shape=(3,) dtype=float32>, <tf.Variable 'module/aggregation/scaling:0' shape=() dtype=float32>]\n",
      "{'layer_coefficients': <tf.Variable 'module/aggregation/weights:0' shape=(3,) dtype=float32>, 'scaling': <tf.Variable 'module/aggregation/scaling:0' shape=() dtype=float32>}\n"
     ]
    }
   ],
   "source": [
    "print(tf.trainable_variables())\n",
    "elmo_vars = tf.trainable_variables()\n",
    "vars_dict = {v.name:v for v in tf.trainable_variables()}\n",
    "if(len(tf.trainable_variables()) > 0):\n",
    "    elmo_params = {'layer_coefficients': tf.trainable_variables()[-2], 'scaling': tf.trainable_variables()[-1]}\n",
    "    print(elmo_params)"
   ]
  },
  {
   "cell_type": "code",
   "execution_count": 51,
   "metadata": {},
   "outputs": [
    {
     "name": "stdout",
     "output_type": "stream",
     "text": [
      "{'module/bilm/RNN_0/RNN/MultiRNNCell/Cell0/rnn/lstm_cell/kernel:0': <tf.Variable 'module/bilm/RNN_0/RNN/MultiRNNCell/Cell0/rnn/lstm_cell/kernel:0' shape=(1024, 16384) dtype=float32>, 'module/bilm/RNN_0/RNN/MultiRNNCell/Cell0/rnn/lstm_cell/bias:0': <tf.Variable 'module/bilm/RNN_0/RNN/MultiRNNCell/Cell0/rnn/lstm_cell/bias:0' shape=(16384,) dtype=float32>, 'module/bilm/RNN_0/RNN/MultiRNNCell/Cell0/rnn/lstm_cell/projection/kernel:0': <tf.Variable 'module/bilm/RNN_0/RNN/MultiRNNCell/Cell0/rnn/lstm_cell/projection/kernel:0' shape=(4096, 512) dtype=float32>, 'module/bilm/RNN_0/RNN/MultiRNNCell/Cell1/rnn/lstm_cell/kernel:0': <tf.Variable 'module/bilm/RNN_0/RNN/MultiRNNCell/Cell1/rnn/lstm_cell/kernel:0' shape=(1024, 16384) dtype=float32>, 'module/bilm/RNN_0/RNN/MultiRNNCell/Cell1/rnn/lstm_cell/bias:0': <tf.Variable 'module/bilm/RNN_0/RNN/MultiRNNCell/Cell1/rnn/lstm_cell/bias:0' shape=(16384,) dtype=float32>, 'module/bilm/RNN_0/RNN/MultiRNNCell/Cell1/rnn/lstm_cell/projection/kernel:0': <tf.Variable 'module/bilm/RNN_0/RNN/MultiRNNCell/Cell1/rnn/lstm_cell/projection/kernel:0' shape=(4096, 512) dtype=float32>, 'module/bilm/RNN_1/RNN/MultiRNNCell/Cell0/rnn/lstm_cell/kernel:0': <tf.Variable 'module/bilm/RNN_1/RNN/MultiRNNCell/Cell0/rnn/lstm_cell/kernel:0' shape=(1024, 16384) dtype=float32>, 'module/bilm/RNN_1/RNN/MultiRNNCell/Cell0/rnn/lstm_cell/bias:0': <tf.Variable 'module/bilm/RNN_1/RNN/MultiRNNCell/Cell0/rnn/lstm_cell/bias:0' shape=(16384,) dtype=float32>, 'module/bilm/RNN_1/RNN/MultiRNNCell/Cell0/rnn/lstm_cell/projection/kernel:0': <tf.Variable 'module/bilm/RNN_1/RNN/MultiRNNCell/Cell0/rnn/lstm_cell/projection/kernel:0' shape=(4096, 512) dtype=float32>, 'module/bilm/RNN_1/RNN/MultiRNNCell/Cell1/rnn/lstm_cell/kernel:0': <tf.Variable 'module/bilm/RNN_1/RNN/MultiRNNCell/Cell1/rnn/lstm_cell/kernel:0' shape=(1024, 16384) dtype=float32>, 'module/bilm/RNN_1/RNN/MultiRNNCell/Cell1/rnn/lstm_cell/bias:0': <tf.Variable 'module/bilm/RNN_1/RNN/MultiRNNCell/Cell1/rnn/lstm_cell/bias:0' shape=(16384,) dtype=float32>, 'module/bilm/RNN_1/RNN/MultiRNNCell/Cell1/rnn/lstm_cell/projection/kernel:0': <tf.Variable 'module/bilm/RNN_1/RNN/MultiRNNCell/Cell1/rnn/lstm_cell/projection/kernel:0' shape=(4096, 512) dtype=float32>, 'module/aggregation/weights:0': <tf.Variable 'module/aggregation/weights:0' shape=(3,) dtype=float32>, 'module/aggregation/scaling:0': <tf.Variable 'module/aggregation/scaling:0' shape=() dtype=float32>}\n"
     ]
    }
   ],
   "source": [
    "print(vars_dict)"
   ]
  },
  {
   "cell_type": "code",
   "execution_count": 52,
   "metadata": {},
   "outputs": [],
   "source": [
    "if TRAIN_ALL_ELMO_PARAMS:\n",
    "    cell0_kernel = vars_dict['module/bilm/RNN_0/RNN/MultiRNNCell/Cell0/rnn/lstm_cell/kernel:0']\n",
    "    cell1_kernel = vars_dict['module/bilm/RNN_0/RNN/MultiRNNCell/Cell1/rnn/lstm_cell/kernel:0']"
   ]
  },
  {
   "cell_type": "code",
   "execution_count": 53,
   "metadata": {},
   "outputs": [],
   "source": [
    "# for variable in tf.trainable_variables():\n",
    "#     print(sess.run(variable))"
   ]
  },
  {
   "cell_type": "markdown",
   "metadata": {},
   "source": [
    "### Prepare data"
   ]
  },
  {
   "cell_type": "code",
   "execution_count": 54,
   "metadata": {},
   "outputs": [
    {
     "name": "stdout",
     "output_type": "stream",
     "text": [
      "Num of train sentences: 75187\n",
      "Num of valid sentences: 9603\n",
      "Num of test sentences: 9479\n",
      "[(['Actions', 'had', 'to', 'be', 'taken', 'to', 'break', 'through', 'the', 'blockade', '.'], ['O', 'O', 'O', 'O', 'O', 'O', 'O', 'O', 'O', 'O', 'O']), (['On', 'a', 'night', 'in', 'late', 'July', '1940', ',', 'the', 'atmosphere', 'in', 'Zhuanbi', 'Village', 'in', 'Shaanxi', 'was', 'unusual', '.'], ['O', 'B-DATE', 'I-DATE', 'I-DATE', 'I-DATE', 'I-DATE', 'I-DATE', 'O', 'O', 'O', 'O', 'B-GPE', 'I-GPE', 'O', 'B-GPE', 'O', 'O', 'O']), (['Villager', 'Xiao', 'Jianghe', 'has', 'a', 'vivid', 'memory', 'of', 'this', 'piece', 'of', 'history', '.'], ['O', 'B-PERSON', 'I-PERSON', 'O', 'O', 'O', 'O', 'O', 'O', 'O', 'O', 'O', 'O']), (['On', 'that', 'dark', 'night', ',', 'everyone', 'was', 'sleeping', 'when', 'human', 'voices', 'and', 'neighing', 'horses', 'were', 'heard', 'within', 'the', 'village', '.'], ['O', 'B-TIME', 'I-TIME', 'I-TIME', 'O', 'O', 'O', 'O', 'O', 'O', 'O', 'O', 'O', 'O', 'O', 'O', 'O', 'O', 'O', 'O']), (['People', 'all', 'got', 'up', '.'], ['O', 'O', 'O', 'O', 'O']), (['Did', 'something', 'happen', '?'], ['O', 'O', 'O', 'O']), (['Some', 'folks', 'got', 'up', '.'], ['O', 'O', 'O', 'O', 'O']), (['Opening', 'the', 'street', 'gate', ',', 'they', 'saw', 'a', 'soldier', 'standing', 'by', 'the', 'gate', '.'], ['O', 'O', 'O', 'O', 'O', 'O', 'O', 'O', 'O', 'O', 'O', 'O', 'O', 'O']), (['Folks', ',', 'go', 'back', ',', 'go', 'back', ',', 'nothing', 'is', 'wrong', '.'], ['O', 'O', 'O', 'O', 'O', 'O', 'O', 'O', 'O', 'O', 'O', 'O']), (['Our', 'troops', 'are', 'just', 'going', 'to', 'stay', 'here', 'for', 'the', 'night', '.'], ['O', 'O', 'O', 'O', 'O', 'O', 'O', 'O', 'O', 'O', 'O', 'O'])]\n",
      "Num of train sentences: 12195\n",
      "Num of valid sentences: 1553\n",
      "Num of test sentences: 1573\n"
     ]
    }
   ],
   "source": [
    "dataset_orig = read_data()\n",
    "ne_type = 'PERSON'\n",
    "dataset = filter_dataset_by_ne_types(dataset_orig, ne_type)"
   ]
  },
  {
   "cell_type": "markdown",
   "metadata": {},
   "source": [
    "### Define computational graph"
   ]
  },
  {
   "cell_type": "code",
   "execution_count": 55,
   "metadata": {},
   "outputs": [
    {
     "name": "stdout",
     "output_type": "stream",
     "text": [
      "INFO:tensorflow:Saver not created because there are no variables in the graph to restore\n"
     ]
    },
    {
     "name": "stderr",
     "output_type": "stream",
     "text": [
      "2018-08-24 17:02:02.214 INFO in 'tensorflow'['tf_logging'] at line 115: Saver not created because there are no variables in the graph to restore\n"
     ]
    }
   ],
   "source": [
    "tokens_input = tf.placeholder(shape=[None, None], dtype=tf.string)\n",
    "tokens_length = tf.placeholder(shape=[None], dtype=tf.int32)\n",
    "y = tf.placeholder(shape=[None, None], dtype=tf.float32)\n",
    "\n",
    "embeddings = elmo(inputs={\"tokens\": tokens_input,\n",
    "                          \"sequence_len\": tokens_length},\n",
    "                  signature=\"tokens\",\n",
    "                  as_dict=True)['elmo']\n",
    "\n",
    "net = embeddings\n",
    "# inp = tf.layers.dropout(inp, rate=0.5)\n",
    "regularizer = tf.contrib.layers.l2_regularizer(scale=0.001)\n",
    "# net = tf.layers.dense(net, 300, kernel_regularizer=regularizer)\n",
    "# net = tf.layers.dense(net, 300, kernel_regularizer=regularizer)\n",
    "out = tf.layers.dense(net, 1, kernel_regularizer=regularizer)\n",
    "prob = tf.nn.sigmoid(out)\n",
    "loss_tensor = tf.nn.sigmoid_cross_entropy_with_logits(labels=tf.expand_dims(y, axis=-1), logits=out)\n",
    "loss_tensor = tf.squeeze(loss_tensor)\n",
    "mask = tf.sequence_mask(lengths=tokens_length, dtype=tf.float32)\n",
    "loss_tensor *= mask\n",
    "loss = tf.reduce_mean(loss_tensor)"
   ]
  },
  {
   "cell_type": "code",
   "execution_count": 56,
   "metadata": {},
   "outputs": [
    {
     "name": "stdout",
     "output_type": "stream",
     "text": [
      "[<tf.Variable 'dense/kernel:0' shape=(1024, 1) dtype=float32_ref>, <tf.Variable 'dense/bias:0' shape=(1,) dtype=float32_ref>]\n"
     ]
    }
   ],
   "source": [
    "all_vars = tf.trainable_variables()\n",
    "model_vars = [v for v in all_vars if v not in elmo_vars]\n",
    "print(model_vars)\n",
    "vars_dict = {v.name:v for v in tf.trainable_variables()}"
   ]
  },
  {
   "cell_type": "code",
   "execution_count": 57,
   "metadata": {},
   "outputs": [],
   "source": [
    "optimizer = tf.train.AdamOptimizer(learning_rate=0.001)\n",
    "train_op_all = optimizer.minimize(loss)\n",
    "train_op_model = optimizer.minimize(loss, var_list=model_vars)"
   ]
  },
  {
   "cell_type": "code",
   "execution_count": 58,
   "metadata": {},
   "outputs": [],
   "source": [
    "def predict_labels(prob: np.ndarray, threshold=0.5):\n",
    "    labels = np.zeros(prob.shape)\n",
    "    labels[prob > threshold] = 1\n",
    "    return labels\n",
    "def flat_array(a: np.ndarray):\n",
    "#     return np.reshape(a, a.size)\n",
    "    return a.flatten()\n",
    "def calc_f1(y, pred_prob):\n",
    "    return f1_score(flat_array(y), flat_array(predict_labels(pred_prob)))"
   ]
  },
  {
   "cell_type": "code",
   "execution_count": 59,
   "metadata": {},
   "outputs": [],
   "source": [
    "def tags2binaryPadded(tags:list):\n",
    "    if isinstance(tags[0], str):\n",
    "        tags = [tags]\n",
    "    n_sentences = len(tags)\n",
    "    tokens_length = get_tokens_len(tags)\n",
    "    max_len = np.max(tokens_length)\n",
    "    tokens_length = np.tile(np.expand_dims(tokens_length, -1), (1,max_len))\n",
    "    y = np.zeros((n_sentences, max_len))\n",
    "    range_ar = np.tile(np.arange(1, max_len+1, 1), (n_sentences, 1))\n",
    "    for i, sen in enumerate(tags):\n",
    "        for j, tag in enumerate(sen):\n",
    "            if tags[i][j] != 'O':\n",
    "                y[i][j] = 1\n",
    "#     y[range_ar > tokens_length] = -1\n",
    "    return y"
   ]
  },
  {
   "cell_type": "code",
   "execution_count": 60,
   "metadata": {},
   "outputs": [],
   "source": [
    "def get_batch(dataset, batch_size=None):\n",
    "    if not batch_size:\n",
    "        batch_size = len(dataset)\n",
    "    tokens, tags = get_data_sample(dataset, batch_size)\n",
    "    tokens_length = get_tokens_len(tokens)\n",
    "    tokens = add_padding(tokens)\n",
    "    y = tags2binaryPadded(tags)\n",
    "    return tokens, tags, tokens_length, y"
   ]
  },
  {
   "cell_type": "code",
   "execution_count": 61,
   "metadata": {},
   "outputs": [],
   "source": [
    "tokens_batch, tags_batch, tokens_len_batch, y_batch = get_batch(dataset['train'], 4)"
   ]
  },
  {
   "cell_type": "code",
   "execution_count": 62,
   "metadata": {},
   "outputs": [],
   "source": [
    "# print(tokens_batch)"
   ]
  },
  {
   "cell_type": "code",
   "execution_count": 63,
   "metadata": {},
   "outputs": [],
   "source": [
    "# print(tags_batch)"
   ]
  },
  {
   "cell_type": "code",
   "execution_count": 64,
   "metadata": {},
   "outputs": [],
   "source": [
    "# print(y_batch)"
   ]
  },
  {
   "cell_type": "code",
   "execution_count": 65,
   "metadata": {},
   "outputs": [],
   "source": [
    "valid_sen_size = 100\n",
    "tokens_valid, tags_valid, tokens_len_valid, y_valid = get_batch(dataset['valid'], valid_sen_size)\n",
    "feed_valid = {tokens_input: tokens_valid, tokens_length: tokens_len_valid, y: y_valid}"
   ]
  },
  {
   "cell_type": "code",
   "execution_count": 66,
   "metadata": {},
   "outputs": [],
   "source": [
    "# Initialize variables\n",
    "sess.run(tf.global_variables_initializer())"
   ]
  },
  {
   "cell_type": "code",
   "execution_count": 67,
   "metadata": {},
   "outputs": [
    {
     "name": "stdout",
     "output_type": "stream",
     "text": [
      "[array([0., 0., 0.], dtype=float32), 1.0]\n"
     ]
    }
   ],
   "source": [
    "print(sess.run([elmo_params['layer_coefficients'], elmo_params['scaling']]))"
   ]
  },
  {
   "cell_type": "code",
   "execution_count": 68,
   "metadata": {},
   "outputs": [
    {
     "name": "stdout",
     "output_type": "stream",
     "text": [
      "315.50433\n",
      "269.67868\n",
      "(1024, 16384)\n",
      "(1024, 16384)\n"
     ]
    }
   ],
   "source": [
    "if TRAIN_ALL_ELMO_PARAMS:\n",
    "    cell0_kernel_val0 = cell0_kernel.eval(session=sess)\n",
    "    cell1_kernel_val0 = cell1_kernel.eval(session=sess)\n",
    "    print(np.linalg.norm(cell0_kernel_val0))\n",
    "    print(np.linalg.norm(cell1_kernel_val0))\n",
    "    print(cell0_kernel_val0.shape)\n",
    "    print(cell1_kernel_val0.shape)"
   ]
  },
  {
   "cell_type": "code",
   "execution_count": 69,
   "metadata": {},
   "outputs": [],
   "source": [
    "# assign_op = elmo_params['layer_coefficients'].assign(np.array([1./3, 1./3, 1./3]))\n",
    "# sess.run(assign_op)"
   ]
  },
  {
   "cell_type": "code",
   "execution_count": 70,
   "metadata": {},
   "outputs": [],
   "source": [
    "# print(sess.run([elmo_params['layer_coefficients'], elmo_params['scaling']]))"
   ]
  },
  {
   "cell_type": "code",
   "execution_count": 71,
   "metadata": {},
   "outputs": [],
   "source": [
    "def print_elmo_params():\n",
    "    print('ELMo weights:')\n",
    "    print(sess.run([elmo_params['layer_coefficients'], elmo_params['scaling']]))"
   ]
  },
  {
   "cell_type": "code",
   "execution_count": 72,
   "metadata": {},
   "outputs": [
    {
     "name": "stdout",
     "output_type": "stream",
     "text": [
      "Step 1/300\n",
      "Train loss = 0.5990773439407349\n",
      "Train F1 score = 0.18181818181818182\n",
      "ELMo weights:\n",
      "Coefficients = [0. 0. 0.], scale = 1.0\n",
      "ELMo cells change per step: cell0: 0.00%, cell1: 0.00%\n",
      "Valid loss = 0.15798191726207733\n",
      "Valid F1 score = 0.13317757009345796\n",
      "Step 2/300\n",
      "Step 3/300\n",
      "Step 4/300\n",
      "Step 5/300\n",
      "Train loss = 0.3960040211677551\n",
      "Train F1 score = 0.28571428571428575\n",
      "ELMo weights:\n",
      "Coefficients = [0. 0. 0.], scale = 1.0\n",
      "ELMo cells change per step: cell0: 0.00%, cell1: 0.00%\n",
      "Step 6/300\n",
      "Step 7/300\n",
      "Step 8/300\n",
      "Step 9/300\n",
      "Step 10/300\n",
      "Train loss = 0.4236142039299011\n",
      "Train F1 score = 0.1111111111111111\n",
      "ELMo weights:\n",
      "Coefficients = [0. 0. 0.], scale = 1.0\n",
      "ELMo cells change per step: cell0: 0.00%, cell1: 0.00%\n",
      "Valid loss = 0.12269383668899536\n",
      "Valid F1 score = 0.22304832713754646\n",
      "Step 11/300\n",
      "Step 12/300\n",
      "Step 13/300\n",
      "Step 14/300\n"
     ]
    },
    {
     "name": "stderr",
     "output_type": "stream",
     "text": [
      "/home/clement/virtenv/env/lib/python3.6/site-packages/sklearn/metrics/classification.py:1135: UndefinedMetricWarning: F-score is ill-defined and being set to 0.0 due to no predicted samples.\n",
      "  'precision', 'predicted', average, warn_for)\n"
     ]
    },
    {
     "name": "stdout",
     "output_type": "stream",
     "text": [
      "Step 15/300\n",
      "Train loss = 0.3575887084007263\n",
      "Train F1 score = 0.0\n",
      "ELMo weights:\n",
      "Coefficients = [0. 0. 0.], scale = 1.0\n",
      "ELMo cells change per step: cell0: 0.00%, cell1: 0.00%\n",
      "Step 16/300\n",
      "Step 17/300\n",
      "Step 18/300\n",
      "Step 19/300\n",
      "Step 20/300\n",
      "Train loss = 0.3664196729660034\n",
      "Train F1 score = 0.0\n",
      "ELMo weights:\n",
      "Coefficients = [0. 0. 0.], scale = 1.0\n",
      "ELMo cells change per step: cell0: 0.00%, cell1: 0.00%\n",
      "Valid loss = 0.09352946281433105\n",
      "Valid F1 score = 0.369077306733167\n",
      "Step 21/300\n",
      "Step 22/300\n",
      "Step 23/300\n",
      "Step 24/300\n",
      "Step 25/300\n",
      "Train loss = 0.37170085310935974\n",
      "Train F1 score = 0.2857142857142857\n",
      "ELMo weights:\n",
      "Coefficients = [0. 0. 0.], scale = 1.0\n",
      "ELMo cells change per step: cell0: 0.00%, cell1: 0.00%\n",
      "Step 26/300\n",
      "Step 27/300\n",
      "Step 28/300\n",
      "Step 29/300\n",
      "Step 30/300\n",
      "Train loss = 0.244896799325943\n",
      "Train F1 score = 0.4\n",
      "ELMo weights:\n",
      "Coefficients = [0. 0. 0.], scale = 1.0\n",
      "ELMo cells change per step: cell0: 0.00%, cell1: 0.00%\n",
      "Valid loss = 0.07586058229207993\n",
      "Valid F1 score = 0.4867724867724868\n",
      "Step 31/300\n",
      "Step 32/300\n",
      "Step 33/300\n",
      "Step 34/300\n",
      "Step 35/300\n",
      "Train loss = 0.3367511034011841\n",
      "Train F1 score = 0.5714285714285715\n",
      "ELMo weights:\n",
      "Coefficients = [0. 0. 0.], scale = 1.0\n",
      "ELMo cells change per step: cell0: 0.00%, cell1: 0.00%\n",
      "Step 36/300\n",
      "Step 37/300\n",
      "Step 38/300\n",
      "Step 39/300\n",
      "Step 40/300\n",
      "Train loss = 0.15594877302646637\n",
      "Train F1 score = 0.0\n",
      "ELMo weights:\n",
      "Coefficients = [0. 0. 0.], scale = 1.0\n",
      "ELMo cells change per step: cell0: 0.00%, cell1: 0.00%\n",
      "Valid loss = 0.06375416368246078\n",
      "Valid F1 score = 0.5857519788918205\n",
      "Step 41/300\n",
      "Step 42/300\n",
      "Step 43/300\n",
      "Step 44/300\n",
      "Step 45/300\n",
      "Train loss = 0.24326996505260468\n",
      "Train F1 score = 0.888888888888889\n",
      "ELMo weights:\n",
      "Coefficients = [0. 0. 0.], scale = 1.0\n",
      "ELMo cells change per step: cell0: 0.00%, cell1: 0.00%\n",
      "Step 46/300\n",
      "Step 47/300\n",
      "Step 48/300\n",
      "Step 49/300\n",
      "Step 50/300\n",
      "Train loss = 0.1814650595188141\n",
      "Train F1 score = 0.7272727272727273\n",
      "ELMo weights:\n",
      "Coefficients = [0. 0. 0.], scale = 1.0\n",
      "ELMo cells change per step: cell0: 0.00%, cell1: 0.00%\n",
      "Valid loss = 0.05496184527873993\n",
      "Valid F1 score = 0.6493506493506493\n",
      "Step 51/300\n",
      "Step 52/300\n",
      "Step 53/300\n",
      "Step 54/300\n",
      "Step 55/300\n",
      "Train loss = 0.11390635371208191\n",
      "Train F1 score = 0.8\n",
      "ELMo weights:\n",
      "Coefficients = [0. 0. 0.], scale = 1.0\n",
      "ELMo cells change per step: cell0: 0.00%, cell1: 0.00%\n",
      "Step 56/300\n",
      "Step 57/300\n",
      "Step 58/300\n",
      "Step 59/300\n",
      "Step 60/300\n",
      "Train loss = 0.12352033704519272\n",
      "Train F1 score = 0.5454545454545454\n",
      "ELMo weights:\n",
      "Coefficients = [0. 0. 0.], scale = 1.0\n",
      "ELMo cells change per step: cell0: 0.00%, cell1: 0.00%\n",
      "Valid loss = 0.049093637615442276\n",
      "Valid F1 score = 0.7240506329113923\n",
      "Step 61/300\n",
      "Step 62/300\n",
      "Step 63/300\n",
      "Step 64/300\n",
      "Step 65/300\n",
      "Train loss = 0.09309512376785278\n",
      "Train F1 score = 0.6666666666666666\n",
      "ELMo weights:\n",
      "Coefficients = [0. 0. 0.], scale = 1.0\n",
      "ELMo cells change per step: cell0: 0.00%, cell1: 0.00%\n",
      "Step 66/300\n",
      "Step 67/300\n",
      "Step 68/300\n",
      "Step 69/300\n",
      "Step 70/300\n",
      "Train loss = 0.0773061215877533\n",
      "Train F1 score = 1.0\n",
      "ELMo weights:\n",
      "Coefficients = [0. 0. 0.], scale = 1.0\n",
      "ELMo cells change per step: cell0: 0.00%, cell1: 0.00%\n",
      "Valid loss = 0.0448729544878006\n",
      "Valid F1 score = 0.7826086956521738\n",
      "Step 71/300\n",
      "Step 72/300\n",
      "Step 73/300\n",
      "Step 74/300\n",
      "Step 75/300\n",
      "Train loss = 0.20390313863754272\n",
      "Train F1 score = 0.8000000000000002\n",
      "ELMo weights:\n",
      "Coefficients = [0. 0. 0.], scale = 1.0\n",
      "ELMo cells change per step: cell0: 0.00%, cell1: 0.00%\n",
      "Step 76/300\n",
      "Step 77/300\n",
      "Step 78/300\n",
      "Step 79/300\n",
      "Step 80/300\n",
      "Train loss = 0.12914679944515228\n",
      "Train F1 score = 0.6666666666666666\n",
      "ELMo weights:\n",
      "Coefficients = [0. 0. 0.], scale = 1.0\n",
      "ELMo cells change per step: cell0: 0.00%, cell1: 0.00%\n",
      "Valid loss = 0.04098822921514511\n",
      "Valid F1 score = 0.7855421686746988\n",
      "Step 81/300\n",
      "Step 82/300\n",
      "Step 83/300\n",
      "Step 84/300\n",
      "Step 85/300\n",
      "Train loss = 0.13202036917209625\n",
      "Train F1 score = 0.6666666666666666\n",
      "ELMo weights:\n",
      "Coefficients = [0. 0. 0.], scale = 1.0\n",
      "ELMo cells change per step: cell0: 0.00%, cell1: 0.00%\n",
      "Step 86/300\n",
      "Step 87/300\n",
      "Step 88/300\n",
      "Step 89/300\n",
      "Step 90/300\n",
      "Train loss = 0.06494612246751785\n",
      "Train F1 score = 0.8571428571428571\n",
      "ELMo weights:\n",
      "Coefficients = [0. 0. 0.], scale = 1.0\n",
      "ELMo cells change per step: cell0: 0.00%, cell1: 0.00%\n",
      "Valid loss = 0.037652209401130676\n",
      "Valid F1 score = 0.8009592326139087\n",
      "Step 91/300\n",
      "Step 92/300\n",
      "Step 93/300\n",
      "Step 94/300\n",
      "Step 95/300\n",
      "Train loss = 0.12028228491544724\n",
      "Train F1 score = 0.8\n",
      "ELMo weights:\n",
      "Coefficients = [0. 0. 0.], scale = 1.0\n",
      "ELMo cells change per step: cell0: 0.00%, cell1: 0.00%\n",
      "Step 96/300\n",
      "Step 97/300\n",
      "Step 98/300\n",
      "Step 99/300\n",
      "Step 100/300\n",
      "Train loss = 0.17535264790058136\n",
      "Train F1 score = 0.4\n",
      "ELMo weights:\n",
      "Coefficients = [0. 0. 0.], scale = 1.0\n",
      "ELMo cells change per step: cell0: 0.00%, cell1: 0.00%\n",
      "Valid loss = 0.03502478078007698\n",
      "Valid F1 score = 0.8160377358490566\n",
      "Step 101/300\n",
      "START FINETUNING ELMo\n",
      "Step 102/300\n",
      "Step 103/300\n",
      "Step 104/300\n",
      "Step 105/300\n",
      "Train loss = 0.18818598985671997\n",
      "Train F1 score = 0.75\n",
      "ELMo weights:\n",
      "Coefficients = [-0.00507756 -0.00355685  0.00480401], scale = 1.0049026012420654\n",
      "ELMo cells change per step: cell0: 1.15%, cell1: 1.30%\n",
      "Step 106/300\n",
      "Step 107/300\n",
      "Step 108/300\n",
      "Step 109/300\n",
      "Step 110/300\n",
      "Train loss = 0.018460122868418694\n",
      "Train F1 score = 1.0\n",
      "ELMo weights:\n",
      "Coefficients = [-2.7245085e-03 -9.3801646e-07  1.6481563e-03], scale = 1.0032355785369873\n",
      "ELMo cells change per step: cell0: 1.03%, cell1: 0.99%\n",
      "Valid loss = 0.03504772111773491\n",
      "Valid F1 score = 0.861995753715499\n",
      "Step 111/300\n",
      "Step 112/300\n",
      "Step 113/300\n",
      "Step 114/300\n",
      "Step 115/300\n",
      "Train loss = 0.003221592865884304\n",
      "Train F1 score = 1.0\n",
      "ELMo weights:\n",
      "Coefficients = [ 0.00175606  0.00475568 -0.00316501], scale = 0.998917818069458\n",
      "ELMo cells change per step: cell0: 0.81%, cell1: 0.64%\n",
      "Step 116/300\n",
      "Step 117/300\n",
      "Step 118/300\n",
      "Step 119/300\n",
      "Step 120/300\n",
      "Train loss = 0.00025722620193846524\n",
      "Train F1 score = 1.0\n",
      "ELMo weights:\n",
      "Coefficients = [ 0.00523611  0.00843692 -0.00689557], scale = 0.9955253601074219\n",
      "ELMo cells change per step: cell0: 0.67%, cell1: 0.45%\n",
      "Valid loss = 0.05399903655052185\n",
      "Valid F1 score = 0.7611940298507462\n",
      "Step 121/300\n",
      "Step 122/300\n",
      "Step 123/300\n",
      "Step 124/300\n",
      "Step 125/300\n",
      "Train loss = 0.0133097218349576\n",
      "Train F1 score = 0.9090909090909091\n",
      "ELMo weights:\n",
      "Coefficients = [ 0.01030975  0.01233445 -0.01162378], scale = 0.991241455078125\n",
      "ELMo cells change per step: cell0: 0.63%, cell1: 0.33%\n",
      "Step 126/300\n",
      "Step 127/300\n",
      "Step 128/300\n",
      "Step 129/300\n",
      "Step 130/300\n",
      "Train loss = 0.11776280403137207\n",
      "Train F1 score = 0.6666666666666666\n",
      "ELMo weights:\n",
      "Coefficients = [ 0.01445162  0.01493741 -0.01522398], scale = 0.9875105023384094\n",
      "ELMo cells change per step: cell0: 0.50%, cell1: 0.25%\n",
      "Valid loss = 0.035237494856119156\n",
      "Valid F1 score = 0.8612244897959183\n",
      "Step 131/300\n",
      "Step 132/300\n",
      "Step 133/300\n",
      "Step 134/300\n",
      "Step 135/300\n",
      "Train loss = 0.0009371116757392883\n",
      "Train F1 score = 1.0\n",
      "ELMo weights:\n",
      "Coefficients = [ 0.01848461  0.01596456 -0.01804084], scale = 0.9831525087356567\n",
      "ELMo cells change per step: cell0: 0.36%, cell1: 0.18%\n",
      "Step 136/300\n",
      "Step 137/300\n",
      "Step 138/300\n",
      "Step 139/300\n",
      "Step 140/300\n",
      "Train loss = 0.02086443081498146\n",
      "Train F1 score = 0.9090909090909091\n",
      "ELMo weights:\n",
      "Coefficients = [ 0.02312941  0.01975702 -0.02248443], scale = 0.9789355397224426\n",
      "ELMo cells change per step: cell0: 0.41%, cell1: 0.25%\n",
      "Valid loss = 0.028950653970241547\n",
      "Valid F1 score = 0.8693957115009747\n",
      "Step 141/300\n",
      "Step 142/300\n",
      "Step 143/300\n",
      "Step 144/300\n",
      "Step 145/300\n",
      "Train loss = 0.051808327436447144\n",
      "Train F1 score = 0.8571428571428571\n",
      "ELMo weights:\n",
      "Coefficients = [ 0.02643854  0.02195228 -0.02533221], scale = 0.9760503768920898\n",
      "ELMo cells change per step: cell0: 0.47%, cell1: 0.36%\n",
      "Step 146/300\n",
      "Step 147/300\n",
      "Step 148/300\n",
      "Step 149/300\n",
      "Step 150/300\n",
      "Train loss = 0.6951707005500793\n",
      "Train F1 score = 0.2\n",
      "ELMo weights:\n",
      "Coefficients = [ 0.03182901  0.02316632 -0.02898202], scale = 0.9704859852790833\n",
      "ELMo cells change per step: cell0: 1.51%, cell1: 1.37%\n",
      "Valid loss = 0.12574553489685059\n",
      "Valid F1 score = 0.56973293768546\n",
      "Step 151/300\n",
      "Step 152/300\n",
      "Step 153/300\n",
      "Step 154/300\n",
      "Step 155/300\n",
      "Train loss = 0.2504566013813019\n",
      "Train F1 score = 0.5\n",
      "ELMo weights:\n",
      "Coefficients = [ 0.04050641  0.02978043 -0.03691567], scale = 0.9619437456130981\n",
      "ELMo cells change per step: cell0: 0.90%, cell1: 0.92%\n",
      "Step 156/300\n",
      "Step 157/300\n",
      "Step 158/300\n",
      "Step 159/300\n",
      "Step 160/300\n",
      "Train loss = 0.4070223271846771\n",
      "Train F1 score = 0.8\n",
      "ELMo weights:\n",
      "Coefficients = [ 0.04834715  0.03518701 -0.04501686], scale = 0.9542757272720337\n",
      "ELMo cells change per step: cell0: 0.56%, cell1: 0.70%\n",
      "Valid loss = 0.23348043859004974\n",
      "Valid F1 score = 0.6273885350318471\n",
      "Step 161/300\n"
     ]
    },
    {
     "name": "stdout",
     "output_type": "stream",
     "text": [
      "Step 162/300\n",
      "Step 163/300\n",
      "Step 164/300\n",
      "Step 165/300\n",
      "Train loss = 0.20750316977500916\n",
      "Train F1 score = 0.5\n",
      "ELMo weights:\n",
      "Coefficients = [ 0.0558515   0.03438013 -0.05198459], scale = 0.9468861222267151\n",
      "ELMo cells change per step: cell0: 0.34%, cell1: 0.47%\n",
      "Step 166/300\n",
      "Step 167/300\n",
      "Step 168/300\n",
      "Step 169/300\n",
      "Step 170/300\n",
      "Train loss = 0.0339282862842083\n",
      "Train F1 score = 0.923076923076923\n",
      "ELMo weights:\n",
      "Coefficients = [ 0.06236743  0.03468477 -0.05856427], scale = 0.9409354329109192\n",
      "ELMo cells change per step: cell0: 0.21%, cell1: 0.33%\n",
      "Valid loss = 0.03862747177481651\n",
      "Valid F1 score = 0.8125\n",
      "Step 171/300\n",
      "Step 172/300\n",
      "Step 173/300\n",
      "Step 174/300\n",
      "Step 175/300\n",
      "Train loss = 0.051127806305885315\n",
      "Train F1 score = 0.8\n",
      "ELMo weights:\n",
      "Coefficients = [ 0.06683799  0.03499591 -0.06314357], scale = 0.9369228482246399\n",
      "ELMo cells change per step: cell0: 0.13%, cell1: 0.22%\n",
      "Step 176/300\n",
      "Step 177/300\n",
      "Step 178/300\n",
      "Step 179/300\n",
      "Step 180/300\n",
      "Train loss = 0.006711234804242849\n",
      "Train F1 score = 1.0\n",
      "ELMo weights:\n",
      "Coefficients = [ 0.06975061  0.03562344 -0.0663825 ], scale = 0.9342734217643738\n",
      "ELMo cells change per step: cell0: 0.08%, cell1: 0.18%\n",
      "Valid loss = 0.03349284082651138\n",
      "Valid F1 score = 0.841897233201581\n",
      "Step 181/300\n",
      "Step 182/300\n",
      "Step 183/300\n",
      "Step 184/300\n",
      "Step 185/300\n",
      "Train loss = 0.023160237818956375\n",
      "Train F1 score = 1.0\n",
      "ELMo weights:\n",
      "Coefficients = [ 0.07153203  0.03623162 -0.06849915], scale = 0.9326355457305908\n",
      "ELMo cells change per step: cell0: 0.05%, cell1: 0.12%\n",
      "Step 186/300\n",
      "Step 187/300\n",
      "Step 188/300\n",
      "Step 189/300\n",
      "Step 190/300\n",
      "Train loss = 0.04400870203971863\n",
      "Train F1 score = 0.6666666666666666\n",
      "ELMo weights:\n",
      "Coefficients = [ 0.07253939  0.03660003 -0.069711  ], scale = 0.9317384362220764\n",
      "ELMo cells change per step: cell0: 0.04%, cell1: 0.08%\n",
      "Valid loss = 0.02777567133307457\n",
      "Valid F1 score = 0.8646288209606987\n",
      "Step 191/300\n",
      "Step 192/300\n",
      "Step 193/300\n",
      "Step 194/300\n",
      "Step 195/300\n",
      "Train loss = 0.09161223471164703\n",
      "Train F1 score = 0.888888888888889\n",
      "ELMo weights:\n",
      "Coefficients = [ 0.07387687  0.03709851 -0.07132237], scale = 0.9305495023727417\n",
      "ELMo cells change per step: cell0: 0.03%, cell1: 0.09%\n",
      "Step 196/300\n",
      "Step 197/300\n",
      "Step 198/300\n",
      "Step 199/300\n",
      "Step 200/300\n",
      "Train loss = 0.02327677421271801\n",
      "Train F1 score = 0.923076923076923\n",
      "ELMo weights:\n",
      "Coefficients = [ 0.0748325   0.03743665 -0.07246225], scale = 0.9297279119491577\n",
      "ELMo cells change per step: cell0: 0.02%, cell1: 0.06%\n",
      "Valid loss = 0.02168457955121994\n",
      "Valid F1 score = 0.8773388773388773\n",
      "Step 201/300\n",
      "Step 202/300\n",
      "Step 203/300\n",
      "Step 204/300\n",
      "Step 205/300\n",
      "Train loss = 0.019112255424261093\n",
      "Train F1 score = 0.923076923076923\n",
      "ELMo weights:\n",
      "Coefficients = [ 0.07522073  0.03763619 -0.07296292], scale = 0.9293651580810547\n",
      "ELMo cells change per step: cell0: 0.01%, cell1: 0.10%\n",
      "Step 206/300\n",
      "Step 207/300\n",
      "Step 208/300\n",
      "Step 209/300\n",
      "Step 210/300\n",
      "Train loss = 0.13663265109062195\n",
      "Train F1 score = 0.5714285714285715\n",
      "ELMo weights:\n",
      "Coefficients = [ 0.07605487  0.03839497 -0.07421758], scale = 0.9285380840301514\n",
      "ELMo cells change per step: cell0: 0.03%, cell1: 0.20%\n",
      "Valid loss = 0.023537637665867805\n",
      "Valid F1 score = 0.8381374722838137\n",
      "Step 211/300\n",
      "Step 212/300\n",
      "Step 213/300\n",
      "Step 214/300\n",
      "Step 215/300\n",
      "Train loss = 0.09919881820678711\n",
      "Train F1 score = 0.6666666666666666\n",
      "ELMo weights:\n",
      "Coefficients = [ 0.07750867  0.03823996 -0.07551448], scale = 0.9272541999816895\n",
      "ELMo cells change per step: cell0: 0.03%, cell1: 0.16%\n",
      "Step 216/300\n",
      "Step 217/300\n",
      "Step 218/300\n",
      "Step 219/300\n",
      "Step 220/300\n",
      "Train loss = 0.13719044625759125\n",
      "Train F1 score = 0.8571428571428571\n",
      "ELMo weights:\n",
      "Coefficients = [ 0.07858952  0.03813842 -0.07648681], scale = 0.9262830018997192\n",
      "ELMo cells change per step: cell0: 0.03%, cell1: 0.14%\n",
      "Valid loss = 0.021390216425061226\n",
      "Valid F1 score = 0.8344988344988346\n",
      "Step 221/300\n",
      "Step 222/300\n",
      "Step 223/300\n",
      "Step 224/300\n",
      "Step 225/300\n",
      "Train loss = 0.006572200916707516\n",
      "Train F1 score = 1.0\n",
      "ELMo weights:\n",
      "Coefficients = [ 0.07982888  0.03821258 -0.07771469], scale = 0.9251447916030884\n",
      "ELMo cells change per step: cell0: 0.02%, cell1: 0.09%\n",
      "Step 226/300\n",
      "Step 227/300\n",
      "Step 228/300\n",
      "Step 229/300\n",
      "Step 230/300\n",
      "Train loss = 0.007192378863692284\n",
      "Train F1 score = 1.0\n",
      "ELMo weights:\n",
      "Coefficients = [ 0.08058753  0.03845248 -0.07858181], scale = 0.9244664907455444\n",
      "ELMo cells change per step: cell0: 0.02%, cell1: 0.06%\n",
      "Valid loss = 0.017636191099882126\n",
      "Valid F1 score = 0.8803418803418803\n",
      "Step 231/300\n",
      "Step 232/300\n",
      "Step 233/300\n",
      "Step 234/300\n",
      "Step 235/300\n",
      "Train loss = 0.01647104136645794\n",
      "Train F1 score = 1.0\n",
      "ELMo weights:\n",
      "Coefficients = [ 0.08093394  0.03871953 -0.07907146], scale = 0.9242075681686401\n",
      "ELMo cells change per step: cell0: 0.01%, cell1: 0.06%\n",
      "Step 236/300\n",
      "Step 237/300\n",
      "Step 238/300\n",
      "Step 239/300\n",
      "Step 240/300\n",
      "Train loss = 0.14427901804447174\n",
      "Train F1 score = 0.75\n",
      "ELMo weights:\n",
      "Coefficients = [ 0.08106437  0.03838965 -0.07899882], scale = 0.9240666031837463\n",
      "ELMo cells change per step: cell0: 0.02%, cell1: 0.08%\n",
      "Valid loss = 0.02319381944835186\n",
      "Valid F1 score = 0.7931034482758621\n",
      "Step 241/300\n",
      "Step 242/300\n",
      "Step 243/300\n",
      "Step 244/300\n",
      "Step 245/300\n",
      "Train loss = 0.0010649139294400811\n",
      "Train F1 score = 1.0\n",
      "ELMo weights:\n",
      "Coefficients = [ 0.0814923   0.03901668 -0.07977889], scale = 0.9237295985221863\n",
      "ELMo cells change per step: cell0: 0.03%, cell1: 0.08%\n",
      "Step 246/300\n",
      "Step 247/300\n",
      "Step 248/300\n",
      "Step 249/300\n",
      "Step 250/300\n",
      "Train loss = 0.026342518627643585\n",
      "Train F1 score = 0.8\n",
      "ELMo weights:\n",
      "Coefficients = [ 0.08189739  0.03977826 -0.08061671], scale = 0.9234033823013306\n",
      "ELMo cells change per step: cell0: 0.02%, cell1: 0.05%\n",
      "Valid loss = 0.016637038439512253\n",
      "Valid F1 score = 0.883720930232558\n",
      "Step 251/300\n",
      "Step 252/300\n",
      "Step 253/300\n",
      "Step 254/300\n",
      "Step 255/300\n",
      "Train loss = 0.10397147387266159\n",
      "Train F1 score = 0.888888888888889\n",
      "ELMo weights:\n",
      "Coefficients = [ 0.08207385  0.04024342 -0.08106119], scale = 0.9231392741203308\n",
      "ELMo cells change per step: cell0: 0.01%, cell1: 0.04%\n",
      "Step 256/300\n",
      "Step 257/300\n",
      "Step 258/300\n",
      "Step 259/300\n",
      "Step 260/300\n",
      "Train loss = 0.010875108651816845\n",
      "Train F1 score = 1.0\n",
      "ELMo weights:\n",
      "Coefficients = [ 0.08244173  0.04091927 -0.08181076], scale = 0.9227334856987\n",
      "ELMo cells change per step: cell0: 0.03%, cell1: 0.12%\n",
      "Valid loss = 0.019090823829174042\n",
      "Valid F1 score = 0.884\n",
      "Step 261/300\n",
      "Step 262/300\n",
      "Step 263/300\n",
      "Step 264/300\n",
      "Step 265/300\n",
      "Train loss = 0.02315754070878029\n",
      "Train F1 score = 1.0\n",
      "ELMo weights:\n",
      "Coefficients = [ 0.0824529   0.04139942 -0.08210679], scale = 0.9227302074432373\n",
      "ELMo cells change per step: cell0: 0.02%, cell1: 0.08%\n",
      "Step 266/300\n",
      "Step 267/300\n",
      "Step 268/300\n",
      "Step 269/300\n",
      "Step 270/300\n",
      "Train loss = 0.01575668901205063\n",
      "Train F1 score = 1.0\n",
      "ELMo weights:\n",
      "Coefficients = [ 0.08240094  0.04172636 -0.08225124], scale = 0.9227293729782104\n",
      "ELMo cells change per step: cell0: 0.02%, cell1: 0.08%\n",
      "Valid loss = 0.017034824937582016\n",
      "Valid F1 score = 0.8924302788844622\n",
      "Step 271/300\n",
      "Step 272/300\n",
      "Step 273/300\n",
      "Step 274/300\n",
      "Step 275/300\n",
      "Train loss = 0.07646768540143967\n",
      "Train F1 score = 0.9090909090909091\n",
      "ELMo weights:\n",
      "Coefficients = [ 0.08256976  0.04174703 -0.08242241], scale = 0.9225192666053772\n",
      "ELMo cells change per step: cell0: 0.02%, cell1: 0.10%\n",
      "Step 276/300\n",
      "Step 277/300\n",
      "Step 278/300\n",
      "Step 279/300\n",
      "Step 280/300\n",
      "Train loss = 0.04495207220315933\n",
      "Train F1 score = 0.9090909090909091\n",
      "ELMo weights:\n",
      "Coefficients = [ 0.08282855  0.04135042 -0.08243117], scale = 0.9222390651702881\n",
      "ELMo cells change per step: cell0: 0.01%, cell1: 0.07%\n",
      "Valid loss = 0.014671102166175842\n",
      "Valid F1 score = 0.9006622516556292\n",
      "Step 281/300\n",
      "Step 282/300\n",
      "Step 283/300\n",
      "Step 284/300\n",
      "Step 285/300\n",
      "Train loss = 0.005433342419564724\n",
      "Train F1 score = 1.0\n",
      "ELMo weights:\n",
      "Coefficients = [ 0.08354139  0.0408839  -0.08282653], scale = 0.9213801622390747\n",
      "ELMo cells change per step: cell0: 0.03%, cell1: 0.10%\n",
      "Step 286/300\n",
      "Step 287/300\n",
      "Step 288/300\n",
      "Step 289/300\n",
      "Step 290/300\n",
      "Train loss = 0.1695508062839508\n",
      "Train F1 score = 0.8000000000000002\n",
      "ELMo weights:\n",
      "Coefficients = [ 0.08444681  0.04068707 -0.08356202], scale = 0.9202749729156494\n",
      "ELMo cells change per step: cell0: 0.02%, cell1: 0.12%\n",
      "Valid loss = 0.01734364964067936\n",
      "Valid F1 score = 0.8629213483146068\n",
      "Step 291/300\n",
      "Step 292/300\n",
      "Step 293/300\n",
      "Step 294/300\n",
      "Step 295/300\n",
      "Train loss = 0.05228866636753082\n",
      "Train F1 score = 0.7499999999999999\n",
      "ELMo weights:\n",
      "Coefficients = [ 0.08563389  0.04124024 -0.08500303], scale = 0.9191181659698486\n",
      "ELMo cells change per step: cell0: 0.03%, cell1: 0.11%\n",
      "Step 296/300\n"
     ]
    },
    {
     "name": "stdout",
     "output_type": "stream",
     "text": [
      "Step 297/300\n",
      "Step 298/300\n",
      "Step 299/300\n",
      "Step 300/300\n",
      "Train loss = 0.011031320318579674\n",
      "Train F1 score = 1.0\n",
      "ELMo weights:\n",
      "Coefficients = [ 0.08653649  0.04220517 -0.08641932], scale = 0.9182690978050232\n",
      "ELMo cells change per step: cell0: 0.05%, cell1: 0.16%\n",
      "Valid loss = 0.017028113827109337\n",
      "Valid F1 score = 0.8955823293172691\n"
     ]
    }
   ],
   "source": [
    "num_steps = 300\n",
    "n_steps_model_train = 100   # number of steps at the beginning then only model is trained\n",
    "# num_steps = 10\n",
    "batch_size = 4\n",
    "display_step = 5\n",
    "valid_step = 10\n",
    "losses = {'train': [], 'valid': []}\n",
    "f1_scores = {'train': [], 'valid': []}\n",
    "best_valid_f1 = 0\n",
    "d_elmo_cells_list = {'cell0':[], 'cell1':[]}\n",
    "train_op = train_op_model\n",
    "for step in range(1, num_steps+1):\n",
    "    print('Step {}/{}'.format(step, num_steps))\n",
    "    if step == n_steps_model_train+1:\n",
    "        train_op = train_op_all\n",
    "        print('START FINETUNING ELMo')\n",
    "    tokens_batch, tags_batch, tokens_len_batch, y_batch = get_batch(dataset['train'], batch_size)\n",
    "    feed = {tokens_input: tokens_batch, tokens_length: tokens_len_batch, y: y_batch}\n",
    "    if TRAIN_ALL_ELMO_PARAMS:\n",
    "        cell0_kernel_val1 = cell0_kernel.eval(session=sess)\n",
    "        cell1_kernel_val1 = cell1_kernel.eval(session=sess)\n",
    "    # Train\n",
    "    with tf.variable_scope('', reuse=tf.AUTO_REUSE):\n",
    "        loss_cur, prob_cur, _ = sess.run([loss, prob, train_op], feed_dict=feed)\n",
    "        f1_train = calc_f1(y_batch, prob_cur)\n",
    "    losses['train'].append(loss_cur)\n",
    "    f1_scores['train'].append(f1_train)\n",
    "    if TRAIN_ALL_ELMO_PARAMS:\n",
    "        cell0_kernel_val2 = cell0_kernel.eval(session=sess)\n",
    "        cell1_kernel_val2 = cell1_kernel.eval(session=sess)\n",
    "        d_cell0_kernel = np.linalg.norm(cell0_kernel_val2 - cell0_kernel_val1)/np.linalg.norm(cell0_kernel_val1)\n",
    "        d_cell1_kernel = np.linalg.norm(cell1_kernel_val2 - cell1_kernel_val1)/np.linalg.norm(cell1_kernel_val1)\n",
    "        d_elmo_cells_list['cell0'].append(d_cell0_kernel)\n",
    "        d_elmo_cells_list['cell1'].append(d_cell1_kernel)\n",
    "#     print('ELMo cells change per step: cell0: {}, cell1: {}'.format(d_cell0_kernel, d_cell1_kernel))\n",
    "    # Validate\n",
    "    with tf.variable_scope('', reuse=tf.AUTO_REUSE):\n",
    "        loss_valid, prob_valid = sess.run([loss, prob], feed_dict=feed_valid)\n",
    "        f1_valid = calc_f1(y_valid, prob_valid)\n",
    "    # Get elmo params\n",
    "    with tf.variable_scope('', reuse=tf.AUTO_REUSE):\n",
    "        layer_coeff, scale = sess.run([elmo_params['layer_coefficients'], elmo_params['scaling']])\n",
    "    if f1_valid > best_valid_f1:\n",
    "        best_valid_f1 = f1_valid\n",
    "        elmo_params_best = {'layer_coefficients': layer_coeff, 'scaling': scale}\n",
    "    losses['valid'].append(loss_valid)\n",
    "    f1_scores['valid'].append(f1_valid) \n",
    "    if step % display_step == 0 or step == 1:\n",
    "        print('Train loss = {}'.format(losses['train'][-1]))\n",
    "        print('Train F1 score = {}'.format(f1_scores['train'][-1]))\n",
    "        with tf.variable_scope('', reuse=tf.AUTO_REUSE):\n",
    "            print('ELMo weights:')\n",
    "            print('Coefficients = {}, scale = {}'.format(layer_coeff, scale))\n",
    "        if TRAIN_ALL_ELMO_PARAMS:\n",
    "            print('ELMo cells change per step: cell0: {:.2f}%, cell1: {:.2f}%'.format(d_cell0_kernel*100, d_cell1_kernel*100))\n",
    "        \n",
    "    if step % valid_step == 0 or step == 1:\n",
    "        print('Valid loss = {}'.format(losses['valid'][-1]))\n",
    "        print('Valid F1 score = {}'.format(f1_scores['valid'][-1]))"
   ]
  },
  {
   "cell_type": "code",
   "execution_count": 73,
   "metadata": {},
   "outputs": [
    {
     "data": {
      "text/plain": [
       "<matplotlib.legend.Legend at 0x7f76de2f4c88>"
      ]
     },
     "execution_count": 73,
     "metadata": {},
     "output_type": "execute_result"
    },
    {
     "data": {
      "image/png": "[encoded data removed]",
      "text/plain": [
       "<Figure size 432x288 with 1 Axes>"
      ]
     },
     "metadata": {},
     "output_type": "display_data"
    }
   ],
   "source": [
    "# Plot learning curve\n",
    "plt.figure()\n",
    "steps = np.arange(1, num_steps+1, 1)\n",
    "plt.plot(steps, losses['train'], c='b', label='train')\n",
    "plt.plot(steps, losses['valid'], c='r', label='valid')\n",
    "plt.xlabel('iter')\n",
    "plt.ylabel('loss')\n",
    "plt.grid()\n",
    "plt.legend()"
   ]
  },
  {
   "cell_type": "code",
   "execution_count": 74,
   "metadata": {},
   "outputs": [
    {
     "data": {
      "text/plain": [
       "<matplotlib.legend.Legend at 0x7f76de2a63c8>"
      ]
     },
     "execution_count": 74,
     "metadata": {},
     "output_type": "execute_result"
    },
    {
     "data": {
      "image/png": "[encoded data removed]",
      "text/plain": [
       "<Figure size 432x288 with 1 Axes>"
      ]
     },
     "metadata": {},
     "output_type": "display_data"
    }
   ],
   "source": [
    "# Plot F1 scores\n",
    "plt.figure()\n",
    "steps = np.arange(1, num_steps+1, 1)\n",
    "plt.plot(steps, f1_scores['train'], c='b', label='train')\n",
    "plt.plot(steps, f1_scores['valid'], c='r', label='valid')\n",
    "plt.xlabel('iter')\n",
    "plt.ylabel('F1')\n",
    "plt.grid()\n",
    "plt.legend()"
   ]
  },
  {
   "cell_type": "code",
   "execution_count": 75,
   "metadata": {},
   "outputs": [
    {
     "data": {
      "image/png": "[encoded data removed]",
      "text/plain": [
       "<Figure size 432x288 with 1 Axes>"
      ]
     },
     "metadata": {},
     "output_type": "display_data"
    }
   ],
   "source": [
    "# Plot elmo cells changes per step\n",
    "if TRAIN_ALL_ELMO_PARAMS:\n",
    "    plt.figure()\n",
    "    steps = np.arange(1, num_steps+1, 1)\n",
    "    plt.plot(steps, np.array(d_elmo_cells_list['cell0'])*100, c='b', label='cell0')\n",
    "    plt.plot(steps, np.array(d_elmo_cells_list['cell1'])*100, c='r', label='cell1')\n",
    "    plt.xlabel('iter')\n",
    "    plt.ylabel('d_weights(%)')\n",
    "    plt.grid()\n",
    "    plt.legend()"
   ]
  },
  {
   "cell_type": "code",
   "execution_count": 76,
   "metadata": {},
   "outputs": [],
   "source": [
    "file_writer = tf.summary.FileWriter('./graph/all', tf.get_default_graph())"
   ]
  },
  {
   "cell_type": "code",
   "execution_count": 77,
   "metadata": {},
   "outputs": [
    {
     "name": "stdout",
     "output_type": "stream",
     "text": [
      "Best F1 score on validation: 90.67\n",
      "Learned ELMo layer combination weights:\n",
      "[1.0018864  0.96138704 0.84934336]\n"
     ]
    }
   ],
   "source": [
    "print('Best F1 score on validation: {:.2f}'.format(best_valid_f1*100))\n",
    "elmo_layer_coeff = np.exp(elmo_params_best['layer_coefficients'])*elmo_params_best['scaling']\n",
    "print('Learned ELMo layer combination weights:')\n",
    "print(elmo_layer_coeff)"
   ]
  },
  {
   "cell_type": "markdown",
   "metadata": {},
   "source": [
    "#### Test model"
   ]
  },
  {
   "cell_type": "code",
   "execution_count": 78,
   "metadata": {},
   "outputs": [],
   "source": [
    "# tokens_test, tags_test, tokens_len_test, y_test = get_batch(dataset['test'])\n",
    "# feed_test = {tokens_input: tokens_test, tokens_length: tokens_len_test, y: y_test}"
   ]
  },
  {
   "cell_type": "code",
   "execution_count": 79,
   "metadata": {},
   "outputs": [],
   "source": [
    "# def get_batch_gen(dataset, shuffle=False, batch_size=None):\n",
    "#     indices = len(dataset)\n",
    "#     k = 0\n",
    "#     while k < len(indices):\n",
    "#         top = k + batch_size if k + batch_size < len(indices) or len(indices)-1\n",
    "#         batch = dataset[indices[k:top]]\n",
    "#         yield \n",
    "#         k += batch_size"
   ]
  },
  {
   "cell_type": "code",
   "execution_count": 80,
   "metadata": {},
   "outputs": [],
   "source": [
    "# with tf.variable_scope('', reuse=tf.AUTO_REUSE):\n",
    "#     loss_test, prob_test = sess.run([loss, prob], feed_dict=feed_test)\n",
    "#     f1_test = calc_f1(y_test, prob_test)"
   ]
  },
  {
   "cell_type": "code",
   "execution_count": 81,
   "metadata": {},
   "outputs": [],
   "source": [
    "# print(len(dataset['test']))"
   ]
  },
  {
   "cell_type": "code",
   "execution_count": 82,
   "metadata": {},
   "outputs": [],
   "source": [
    "# print('Test F1 = {:.2f}'.format(f1_test*100))"
   ]
  }
 ],
 "metadata": {
  "kernelspec": {
   "display_name": "Python 3",
   "language": "python",
   "name": "python3"
  },
  "language_info": {
   "codemirror_mode": {
    "name": "ipython",
    "version": 3
   },
   "file_extension": ".py",
   "mimetype": "text/x-python",
   "name": "python",
   "nbconvert_exporter": "python",
   "pygments_lexer": "ipython3",
   "version": "3.6.5"
  }
 },
 "nbformat": 4,
 "nbformat_minor": 2
}
