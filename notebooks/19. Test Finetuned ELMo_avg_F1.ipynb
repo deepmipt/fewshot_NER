{
 "cells": [
  {
   "cell_type": "code",
   "execution_count": 1,
   "metadata": {},
   "outputs": [
    {
     "name": "stderr",
     "output_type": "stream",
     "text": [
      "2018-09-04 13:09:12.711 DEBUG in 'matplotlib.backends'['__init__'] at line 90: backend module://ipykernel.pylab.backend_inline version unknown\n"
     ]
    }
   ],
   "source": [
    "import tensorflow as tf\n",
    "import tensorflow_hub as hub\n",
    "import numpy as np\n",
    "import matplotlib.pyplot as plt\n",
    "from sklearn.metrics import f1_score\n",
    "from typing import *\n",
    "import copy\n",
    "from deeppavlov.dataset_readers.ontonotes_reader import OntonotesReader"
   ]
  },
  {
   "cell_type": "code",
   "execution_count": 2,
   "metadata": {},
   "outputs": [
    {
     "name": "stderr",
     "output_type": "stream",
     "text": [
      "2018-09-04 13:09:12.801 INFO in 'summarizer.preprocessing.cleaner'['textcleaner'] at line 37: 'pattern' package not found; tag filters are not available for English\n"
     ]
    }
   ],
   "source": [
    "from src.fewshot_ner_viz_component.data_processing import *\n",
    "from src.fewshot_ner_viz_component.utils import *\n",
    "from src.fewshot_ner_viz_component.fewshot_ner_binary_classifier import *"
   ]
  },
  {
   "cell_type": "code",
   "execution_count": 3,
   "metadata": {
    "scrolled": true
   },
   "outputs": [
    {
     "name": "stdout",
     "output_type": "stream",
     "text": [
      "Num of train sentences: 75187\n",
      "Num of valid sentences: 9603\n",
      "Num of test sentences: 9479\n",
      "[(['Actions', 'had', 'to', 'be', 'taken', 'to', 'break', 'through', 'the', 'blockade', '.'], ['O', 'O', 'O', 'O', 'O', 'O', 'O', 'O', 'O', 'O', 'O']), (['On', 'a', 'night', 'in', 'late', 'July', '1940', ',', 'the', 'atmosphere', 'in', 'Zhuanbi', 'Village', 'in', 'Shaanxi', 'was', 'unusual', '.'], ['O', 'B-DATE', 'I-DATE', 'I-DATE', 'I-DATE', 'I-DATE', 'I-DATE', 'O', 'O', 'O', 'O', 'B-GPE', 'I-GPE', 'O', 'B-GPE', 'O', 'O', 'O']), (['Villager', 'Xiao', 'Jianghe', 'has', 'a', 'vivid', 'memory', 'of', 'this', 'piece', 'of', 'history', '.'], ['O', 'B-PERSON', 'I-PERSON', 'O', 'O', 'O', 'O', 'O', 'O', 'O', 'O', 'O', 'O']), (['On', 'that', 'dark', 'night', ',', 'everyone', 'was', 'sleeping', 'when', 'human', 'voices', 'and', 'neighing', 'horses', 'were', 'heard', 'within', 'the', 'village', '.'], ['O', 'B-TIME', 'I-TIME', 'I-TIME', 'O', 'O', 'O', 'O', 'O', 'O', 'O', 'O', 'O', 'O', 'O', 'O', 'O', 'O', 'O', 'O']), (['People', 'all', 'got', 'up', '.'], ['O', 'O', 'O', 'O', 'O']), (['Did', 'something', 'happen', '?'], ['O', 'O', 'O', 'O']), (['Some', 'folks', 'got', 'up', '.'], ['O', 'O', 'O', 'O', 'O']), (['Opening', 'the', 'street', 'gate', ',', 'they', 'saw', 'a', 'soldier', 'standing', 'by', 'the', 'gate', '.'], ['O', 'O', 'O', 'O', 'O', 'O', 'O', 'O', 'O', 'O', 'O', 'O', 'O', 'O']), (['Folks', ',', 'go', 'back', ',', 'go', 'back', ',', 'nothing', 'is', 'wrong', '.'], ['O', 'O', 'O', 'O', 'O', 'O', 'O', 'O', 'O', 'O', 'O', 'O']), (['Our', 'troops', 'are', 'just', 'going', 'to', 'stay', 'here', 'for', 'the', 'night', '.'], ['O', 'O', 'O', 'O', 'O', 'O', 'O', 'O', 'O', 'O', 'O', 'O'])]\n",
      "Num of train sentences: 12195\n",
      "Num of valid sentences: 1553\n",
      "Num of test sentences: 1573\n"
     ]
    }
   ],
   "source": [
    "dataset_orig = read_data()\n",
    "ne_type = 'PERSON'\n",
    "dataset = filter_dataset_by_ne_types(dataset_orig, ne_type)"
   ]
  },
  {
   "cell_type": "code",
   "execution_count": 4,
   "metadata": {},
   "outputs": [],
   "source": [
    "N_EXAMPLES = 10\n",
    "N_TEST_SENTENCES = 100\n",
    "N_SAMPLES = 10\n",
    "MODELS = ['ne_centroid', 'weighted_kNN', 'centroid_kNN', 'svm']\n",
    "# MODELS = ['svm']\n",
    "MODEL_PARAMS = {'ne_centroid': {'sim_type': 'cosine'},\n",
    "               'ne_nearest': {'sim_type': 'cosine'},\n",
    "               'weighted_kNN': {'k': 1, 'metric': 'cosine', 'use_class_weights': False, 'use_sim_weights': True},\n",
    "               'centroid_kNN': {'k': 10, 'metric': 'dot_prod', 'use_class_weights': False},\n",
    "               'svm': {}}"
   ]
  },
  {
   "cell_type": "markdown",
   "metadata": {},
   "source": [
    "### Make samples"
   ]
  },
  {
   "cell_type": "code",
   "execution_count": 5,
   "metadata": {},
   "outputs": [],
   "source": [
    "data_samples = []\n",
    "for i in range(N_SAMPLES):\n",
    "    tokens_train,tags_train = get_data_sample(dataset['train'], N_EXAMPLES)\n",
    "    tokens_test,tags_test = get_data_sample(dataset['test'], min(N_TEST_SENTENCES, len(dataset['test'])))\n",
    "    y_test = np.array([1 if t == 'T' else 0 for seq in tags_test for t in seq])\n",
    "    data_samples.append({'train': {'tokens': tokens_train, 'tags': tags_train}, 'test': {'tokens': tokens_test, 'tags': tags_test, 'y': y_test}})"
   ]
  },
  {
   "cell_type": "markdown",
   "metadata": {},
   "source": [
    "### Prepare embedder params"
   ]
  },
  {
   "cell_type": "code",
   "execution_count": 6,
   "metadata": {},
   "outputs": [],
   "source": [
    "embedder_params=[{'elmo_params': {'trainable_cells': False}, 'name': 'Default ELMo', 'label': 'default'},\n",
    "             {'elmo_params': {'trainable_cells': False, 'restore_path': \"./model_params/elmo.ckpt\"}, 'name': 'Learned ELMo layer aggregation coefficients', 'label': 'elmo_coef'},\n",
    "             {'elmo_params': {'trainable_cells': True, 'restore_path': \"./model_params/elmo.ckpt\"}, 'name': 'ELMo coefficients + cell params', 'label': 'elmo_coef_and_cells'}]"
   ]
  },
  {
   "cell_type": "code",
   "execution_count": 7,
   "metadata": {},
   "outputs": [
    {
     "name": "stdout",
     "output_type": "stream",
     "text": [
      "============ Default ELMo ============\n",
      "INFO:tensorflow:Using /tmp/tfhub_modules to cache modules.\n"
     ]
    },
    {
     "name": "stderr",
     "output_type": "stream",
     "text": [
      "2018-09-04 13:09:15.811 INFO in 'tensorflow'['tf_logging'] at line 159: Using /tmp/tfhub_modules to cache modules.\n"
     ]
    },
    {
     "name": "stdout",
     "output_type": "stream",
     "text": [
      "INFO:tensorflow:Saver not created because there are no variables in the graph to restore\n"
     ]
    },
    {
     "name": "stderr",
     "output_type": "stream",
     "text": [
      "2018-09-04 13:09:16.988 INFO in 'tensorflow'['tf_logging'] at line 115: Saver not created because there are no variables in the graph to restore\n"
     ]
    },
    {
     "name": "stdout",
     "output_type": "stream",
     "text": [
      "Sample 1/10\n",
      "Train\n",
      "INFO:tensorflow:Saver not created because there are no variables in the graph to restore\n"
     ]
    },
    {
     "name": "stderr",
     "output_type": "stream",
     "text": [
      "2018-09-04 13:09:18.68 INFO in 'tensorflow'['tf_logging'] at line 115: Saver not created because there are no variables in the graph to restore\n"
     ]
    },
    {
     "name": "stdout",
     "output_type": "stream",
     "text": [
      "# ne: 29, # tokens: 212\n",
      "n_samples: 212\n",
      "INFO:tensorflow:Saver not created because there are no variables in the graph to restore\n"
     ]
    },
    {
     "name": "stderr",
     "output_type": "stream",
     "text": [
      "2018-09-04 13:09:19.149 INFO in 'tensorflow'['tf_logging'] at line 115: Saver not created because there are no variables in the graph to restore\n"
     ]
    },
    {
     "name": "stdout",
     "output_type": "stream",
     "text": [
      "NE centroid similarity model\n",
      "SVM classifier model\n",
      "Weighted kNN model\n",
      "k = 1, metric: cosine\n",
      "[====================] 100%\n",
      "NE centroid + words kNN similarity model\n",
      "k = 10, metric: dot_prod\n",
      "[====================] 100%\n",
      "Model: ne_centroid, F1 (tokens) = 73.60\n",
      "Model: weighted_kNN, F1 (tokens) = 66.44\n",
      "Model: centroid_kNN, F1 (tokens) = 85.23\n",
      "Model: svm, F1 (tokens) = 83.40\n",
      "Sample 2/10\n",
      "Train\n",
      "INFO:tensorflow:Saver not created because there are no variables in the graph to restore\n"
     ]
    },
    {
     "name": "stderr",
     "output_type": "stream",
     "text": [
      "2018-09-04 13:09:55.170 INFO in 'tensorflow'['tf_logging'] at line 115: Saver not created because there are no variables in the graph to restore\n"
     ]
    },
    {
     "name": "stdout",
     "output_type": "stream",
     "text": [
      "# ne: 21, # tokens: 326\n",
      "n_samples: 326\n",
      "INFO:tensorflow:Saver not created because there are no variables in the graph to restore\n"
     ]
    },
    {
     "name": "stderr",
     "output_type": "stream",
     "text": [
      "2018-09-04 13:09:56.521 INFO in 'tensorflow'['tf_logging'] at line 115: Saver not created because there are no variables in the graph to restore\n"
     ]
    },
    {
     "name": "stdout",
     "output_type": "stream",
     "text": [
      "NE centroid similarity model\n",
      "SVM classifier model\n",
      "Weighted kNN model\n",
      "k = 1, metric: cosine\n",
      "[====================] 100%\n",
      "NE centroid + words kNN similarity model\n",
      "k = 10, metric: dot_prod\n",
      "[====================] 100%\n",
      "Model: ne_centroid, F1 (tokens) = 78.22\n",
      "Model: weighted_kNN, F1 (tokens) = 84.17\n",
      "Model: centroid_kNN, F1 (tokens) = 86.61\n",
      "Model: svm, F1 (tokens) = 85.22\n",
      "Sample 3/10\n",
      "Train\n",
      "INFO:tensorflow:Saver not created because there are no variables in the graph to restore\n"
     ]
    },
    {
     "name": "stderr",
     "output_type": "stream",
     "text": [
      "2018-09-04 13:10:46.130 INFO in 'tensorflow'['tf_logging'] at line 115: Saver not created because there are no variables in the graph to restore\n"
     ]
    },
    {
     "name": "stdout",
     "output_type": "stream",
     "text": [
      "# ne: 18, # tokens: 320\n",
      "n_samples: 320\n",
      "INFO:tensorflow:Saver not created because there are no variables in the graph to restore\n"
     ]
    },
    {
     "name": "stderr",
     "output_type": "stream",
     "text": [
      "2018-09-04 13:10:47.221 INFO in 'tensorflow'['tf_logging'] at line 115: Saver not created because there are no variables in the graph to restore\n"
     ]
    },
    {
     "name": "stdout",
     "output_type": "stream",
     "text": [
      "NE centroid similarity model\n",
      "SVM classifier model\n",
      "Weighted kNN model\n",
      "k = 1, metric: cosine\n",
      "[====================] 100%\n",
      "NE centroid + words kNN similarity model\n",
      "k = 10, metric: dot_prod\n",
      "[====================] 100%\n",
      "Model: ne_centroid, F1 (tokens) = 67.74\n",
      "Model: weighted_kNN, F1 (tokens) = 78.34\n",
      "Model: centroid_kNN, F1 (tokens) = 77.54\n",
      "Model: svm, F1 (tokens) = 82.94\n",
      "Sample 4/10\n",
      "Train\n",
      "INFO:tensorflow:Saver not created because there are no variables in the graph to restore\n"
     ]
    },
    {
     "name": "stderr",
     "output_type": "stream",
     "text": [
      "2018-09-04 13:11:30.606 INFO in 'tensorflow'['tf_logging'] at line 115: Saver not created because there are no variables in the graph to restore\n"
     ]
    },
    {
     "name": "stdout",
     "output_type": "stream",
     "text": [
      "# ne: 17, # tokens: 176\n",
      "n_samples: 176\n",
      "INFO:tensorflow:Saver not created because there are no variables in the graph to restore\n"
     ]
    },
    {
     "name": "stderr",
     "output_type": "stream",
     "text": [
      "2018-09-04 13:11:31.661 INFO in 'tensorflow'['tf_logging'] at line 115: Saver not created because there are no variables in the graph to restore\n"
     ]
    },
    {
     "name": "stdout",
     "output_type": "stream",
     "text": [
      "NE centroid similarity model\n",
      "SVM classifier model\n",
      "Weighted kNN model\n",
      "k = 1, metric: cosine\n",
      "[====================] 100%\n",
      "NE centroid + words kNN similarity model\n",
      "k = 10, metric: dot_prod\n",
      "[====================] 100%\n",
      "Model: ne_centroid, F1 (tokens) = 77.48\n",
      "Model: weighted_kNN, F1 (tokens) = 83.63\n",
      "Model: centroid_kNN, F1 (tokens) = 89.95\n",
      "Model: svm, F1 (tokens) = 87.00\n",
      "Sample 5/10\n",
      "Train\n",
      "INFO:tensorflow:Saver not created because there are no variables in the graph to restore\n"
     ]
    },
    {
     "name": "stderr",
     "output_type": "stream",
     "text": [
      "2018-09-04 13:12:03.41 INFO in 'tensorflow'['tf_logging'] at line 115: Saver not created because there are no variables in the graph to restore\n"
     ]
    },
    {
     "name": "stdout",
     "output_type": "stream",
     "text": [
      "# ne: 17, # tokens: 232\n",
      "n_samples: 232\n",
      "INFO:tensorflow:Saver not created because there are no variables in the graph to restore\n"
     ]
    },
    {
     "name": "stderr",
     "output_type": "stream",
     "text": [
      "2018-09-04 13:12:04.261 INFO in 'tensorflow'['tf_logging'] at line 115: Saver not created because there are no variables in the graph to restore\n"
     ]
    },
    {
     "name": "stdout",
     "output_type": "stream",
     "text": [
      "NE centroid similarity model\n",
      "SVM classifier model\n",
      "Weighted kNN model\n",
      "k = 1, metric: cosine\n",
      "[====================] 100%\n",
      "NE centroid + words kNN similarity model\n",
      "k = 10, metric: dot_prod\n",
      "[====================] 100%\n",
      "Model: ne_centroid, F1 (tokens) = 80.43\n",
      "Model: weighted_kNN, F1 (tokens) = 85.85\n",
      "Model: centroid_kNN, F1 (tokens) = 85.92\n",
      "Model: svm, F1 (tokens) = 89.32\n",
      "Sample 6/10\n",
      "Train\n",
      "INFO:tensorflow:Saver not created because there are no variables in the graph to restore\n"
     ]
    },
    {
     "name": "stderr",
     "output_type": "stream",
     "text": [
      "2018-09-04 13:12:42.949 INFO in 'tensorflow'['tf_logging'] at line 115: Saver not created because there are no variables in the graph to restore\n"
     ]
    },
    {
     "name": "stdout",
     "output_type": "stream",
     "text": [
      "# ne: 21, # tokens: 259\n",
      "n_samples: 259\n",
      "INFO:tensorflow:Saver not created because there are no variables in the graph to restore\n"
     ]
    },
    {
     "name": "stderr",
     "output_type": "stream",
     "text": [
      "2018-09-04 13:12:44.218 INFO in 'tensorflow'['tf_logging'] at line 115: Saver not created because there are no variables in the graph to restore\n"
     ]
    },
    {
     "name": "stdout",
     "output_type": "stream",
     "text": [
      "NE centroid similarity model\n",
      "SVM classifier model\n",
      "Weighted kNN model\n",
      "k = 1, metric: cosine\n",
      "[====================] 100%\n",
      "NE centroid + words kNN similarity model\n",
      "k = 10, metric: dot_prod\n",
      "[====================] 100%\n",
      "Model: ne_centroid, F1 (tokens) = 81.39\n",
      "Model: weighted_kNN, F1 (tokens) = 83.54\n",
      "Model: centroid_kNN, F1 (tokens) = 89.85\n",
      "Model: svm, F1 (tokens) = 90.26\n",
      "Sample 7/10\n",
      "Train\n",
      "INFO:tensorflow:Saver not created because there are no variables in the graph to restore\n"
     ]
    },
    {
     "name": "stderr",
     "output_type": "stream",
     "text": [
      "2018-09-04 13:13:26.271 INFO in 'tensorflow'['tf_logging'] at line 115: Saver not created because there are no variables in the graph to restore\n"
     ]
    },
    {
     "name": "stdout",
     "output_type": "stream",
     "text": [
      "# ne: 23, # tokens: 252\n",
      "n_samples: 252\n",
      "INFO:tensorflow:Saver not created because there are no variables in the graph to restore\n"
     ]
    },
    {
     "name": "stderr",
     "output_type": "stream",
     "text": [
      "2018-09-04 13:13:27.663 INFO in 'tensorflow'['tf_logging'] at line 115: Saver not created because there are no variables in the graph to restore\n"
     ]
    },
    {
     "name": "stdout",
     "output_type": "stream",
     "text": [
      "NE centroid similarity model\n",
      "SVM classifier model\n",
      "Weighted kNN model\n",
      "k = 1, metric: cosine\n",
      "[====================] 100%\n",
      "NE centroid + words kNN similarity model\n",
      "k = 10, metric: dot_prod\n",
      "[====================] 100%\n",
      "Model: ne_centroid, F1 (tokens) = 77.85\n",
      "Model: weighted_kNN, F1 (tokens) = 80.90\n",
      "Model: centroid_kNN, F1 (tokens) = 85.39\n",
      "Model: svm, F1 (tokens) = 84.53\n",
      "Sample 8/10\n",
      "Train\n",
      "INFO:tensorflow:Saver not created because there are no variables in the graph to restore\n"
     ]
    },
    {
     "name": "stderr",
     "output_type": "stream",
     "text": [
      "2018-09-04 13:14:11.607 INFO in 'tensorflow'['tf_logging'] at line 115: Saver not created because there are no variables in the graph to restore\n"
     ]
    },
    {
     "name": "stdout",
     "output_type": "stream",
     "text": [
      "# ne: 21, # tokens: 206\n",
      "n_samples: 206\n",
      "INFO:tensorflow:Saver not created because there are no variables in the graph to restore\n"
     ]
    },
    {
     "name": "stderr",
     "output_type": "stream",
     "text": [
      "2018-09-04 13:14:13.234 INFO in 'tensorflow'['tf_logging'] at line 115: Saver not created because there are no variables in the graph to restore\n"
     ]
    },
    {
     "name": "stdout",
     "output_type": "stream",
     "text": [
      "NE centroid similarity model\n",
      "SVM classifier model\n",
      "Weighted kNN model\n",
      "k = 1, metric: cosine\n",
      "[====================] 100%\n",
      "NE centroid + words kNN similarity model\n",
      "k = 10, metric: dot_prod\n",
      "[====================] 100%\n",
      "Model: ne_centroid, F1 (tokens) = 78.07\n",
      "Model: weighted_kNN, F1 (tokens) = 80.89\n",
      "Model: centroid_kNN, F1 (tokens) = 85.43\n",
      "Model: svm, F1 (tokens) = 87.56\n",
      "Sample 9/10\n",
      "Train\n",
      "INFO:tensorflow:Saver not created because there are no variables in the graph to restore\n"
     ]
    },
    {
     "name": "stderr",
     "output_type": "stream",
     "text": [
      "2018-09-04 13:14:45.464 INFO in 'tensorflow'['tf_logging'] at line 115: Saver not created because there are no variables in the graph to restore\n"
     ]
    },
    {
     "name": "stdout",
     "output_type": "stream",
     "text": [
      "# ne: 15, # tokens: 209\n",
      "n_samples: 209\n",
      "INFO:tensorflow:Saver not created because there are no variables in the graph to restore\n"
     ]
    },
    {
     "name": "stderr",
     "output_type": "stream",
     "text": [
      "2018-09-04 13:14:46.925 INFO in 'tensorflow'['tf_logging'] at line 115: Saver not created because there are no variables in the graph to restore\n"
     ]
    },
    {
     "name": "stdout",
     "output_type": "stream",
     "text": [
      "NE centroid similarity model\n",
      "SVM classifier model\n",
      "Weighted kNN model\n",
      "k = 1, metric: cosine\n",
      "[====================] 100%\n",
      "NE centroid + words kNN similarity model\n",
      "k = 10, metric: dot_prod\n",
      "[====================] 100%\n",
      "Model: ne_centroid, F1 (tokens) = 78.26\n",
      "Model: weighted_kNN, F1 (tokens) = 85.51\n",
      "Model: centroid_kNN, F1 (tokens) = 88.04\n",
      "Model: svm, F1 (tokens) = 89.43\n",
      "Sample 10/10\n",
      "Train\n",
      "INFO:tensorflow:Saver not created because there are no variables in the graph to restore\n"
     ]
    },
    {
     "name": "stderr",
     "output_type": "stream",
     "text": [
      "2018-09-04 13:15:20.210 INFO in 'tensorflow'['tf_logging'] at line 115: Saver not created because there are no variables in the graph to restore\n"
     ]
    },
    {
     "name": "stdout",
     "output_type": "stream",
     "text": [
      "# ne: 23, # tokens: 277\n",
      "n_samples: 277\n",
      "INFO:tensorflow:Saver not created because there are no variables in the graph to restore\n"
     ]
    },
    {
     "name": "stderr",
     "output_type": "stream",
     "text": [
      "2018-09-04 13:15:21.816 INFO in 'tensorflow'['tf_logging'] at line 115: Saver not created because there are no variables in the graph to restore\n"
     ]
    },
    {
     "name": "stdout",
     "output_type": "stream",
     "text": [
      "NE centroid similarity model\n",
      "SVM classifier model\n",
      "Weighted kNN model\n",
      "k = 1, metric: cosine\n",
      "[====================] 100%\n",
      "NE centroid + words kNN similarity model\n",
      "k = 10, metric: dot_prod\n",
      "[====================] 100%\n",
      "Model: ne_centroid, F1 (tokens) = 67.57\n",
      "Model: weighted_kNN, F1 (tokens) = 83.54\n",
      "Model: centroid_kNN, F1 (tokens) = 87.53\n",
      "Model: svm, F1 (tokens) = 93.91\n",
      "Average F1 scores:\n",
      "Model: ne_centroid, avg F1 (tokens) = 76.06\n",
      "Model: weighted_kNN, avg F1 (tokens) = 81.28\n",
      "Model: centroid_kNN, avg F1 (tokens) = 86.15\n",
      "Model: svm, avg F1 (tokens) = 87.36\n",
      "============ Learned ELMo layer aggregation coefficients ============\n",
      "Restoring finetuned ELMo params from ./model_params/elmo.ckpt\n",
      "INFO:tensorflow:Restoring parameters from ./model_params/elmo.ckpt\n"
     ]
    },
    {
     "name": "stderr",
     "output_type": "stream",
     "text": [
      "2018-09-04 13:16:08.943 INFO in 'tensorflow'['tf_logging'] at line 115: Restoring parameters from ./model_params/elmo.ckpt\n"
     ]
    },
    {
     "name": "stdout",
     "output_type": "stream",
     "text": [
      "INFO:tensorflow:Saver not created because there are no variables in the graph to restore\n"
     ]
    },
    {
     "name": "stderr",
     "output_type": "stream",
     "text": [
      "2018-09-04 13:16:09.479 INFO in 'tensorflow'['tf_logging'] at line 115: Saver not created because there are no variables in the graph to restore\n"
     ]
    },
    {
     "name": "stdout",
     "output_type": "stream",
     "text": [
      "Sample 1/10\n",
      "Train\n",
      "INFO:tensorflow:Saver not created because there are no variables in the graph to restore\n"
     ]
    },
    {
     "name": "stderr",
     "output_type": "stream",
     "text": [
      "2018-09-04 13:16:10.341 INFO in 'tensorflow'['tf_logging'] at line 115: Saver not created because there are no variables in the graph to restore\n"
     ]
    },
    {
     "name": "stdout",
     "output_type": "stream",
     "text": [
      "# ne: 29, # tokens: 212\n",
      "n_samples: 212\n",
      "INFO:tensorflow:Saver not created because there are no variables in the graph to restore\n"
     ]
    },
    {
     "name": "stderr",
     "output_type": "stream",
     "text": [
      "2018-09-04 13:16:11.449 INFO in 'tensorflow'['tf_logging'] at line 115: Saver not created because there are no variables in the graph to restore\n"
     ]
    },
    {
     "name": "stdout",
     "output_type": "stream",
     "text": [
      "NE centroid similarity model\n",
      "SVM classifier model\n",
      "Weighted kNN model\n",
      "k = 1, metric: cosine\n",
      "[====================] 100%\n",
      "NE centroid + words kNN similarity model\n",
      "k = 10, metric: dot_prod\n",
      "[====================] 100%\n",
      "Model: ne_centroid, F1 (tokens) = 80.53\n",
      "Model: weighted_kNN, F1 (tokens) = 65.31\n",
      "Model: centroid_kNN, F1 (tokens) = 84.98\n",
      "Model: svm, F1 (tokens) = 84.26\n",
      "Sample 2/10\n",
      "Train\n",
      "INFO:tensorflow:Saver not created because there are no variables in the graph to restore\n"
     ]
    },
    {
     "name": "stderr",
     "output_type": "stream",
     "text": [
      "2018-09-04 13:16:47.957 INFO in 'tensorflow'['tf_logging'] at line 115: Saver not created because there are no variables in the graph to restore\n"
     ]
    },
    {
     "name": "stdout",
     "output_type": "stream",
     "text": [
      "# ne: 21, # tokens: 326\n",
      "n_samples: 326\n",
      "INFO:tensorflow:Saver not created because there are no variables in the graph to restore\n"
     ]
    },
    {
     "name": "stderr",
     "output_type": "stream",
     "text": [
      "2018-09-04 13:16:49.173 INFO in 'tensorflow'['tf_logging'] at line 115: Saver not created because there are no variables in the graph to restore\n"
     ]
    },
    {
     "name": "stdout",
     "output_type": "stream",
     "text": [
      "NE centroid similarity model\n",
      "SVM classifier model\n",
      "Weighted kNN model\n",
      "k = 1, metric: cosine\n",
      "[====================] 100%\n",
      "NE centroid + words kNN similarity model\n",
      "k = 10, metric: dot_prod\n",
      "[====================] 100%\n",
      "Model: ne_centroid, F1 (tokens) = 80.50\n",
      "Model: weighted_kNN, F1 (tokens) = 83.88\n",
      "Model: centroid_kNN, F1 (tokens) = 87.11\n",
      "Model: svm, F1 (tokens) = 84.93\n",
      "Sample 3/10\n",
      "Train\n",
      "INFO:tensorflow:Saver not created because there are no variables in the graph to restore\n"
     ]
    },
    {
     "name": "stderr",
     "output_type": "stream",
     "text": [
      "2018-09-04 13:17:40.719 INFO in 'tensorflow'['tf_logging'] at line 115: Saver not created because there are no variables in the graph to restore\n"
     ]
    },
    {
     "name": "stdout",
     "output_type": "stream",
     "text": [
      "# ne: 18, # tokens: 320\n",
      "n_samples: 320\n",
      "INFO:tensorflow:Saver not created because there are no variables in the graph to restore\n"
     ]
    },
    {
     "name": "stderr",
     "output_type": "stream",
     "text": [
      "2018-09-04 13:17:41.887 INFO in 'tensorflow'['tf_logging'] at line 115: Saver not created because there are no variables in the graph to restore\n"
     ]
    },
    {
     "name": "stdout",
     "output_type": "stream",
     "text": [
      "NE centroid similarity model\n",
      "SVM classifier model\n",
      "Weighted kNN model\n",
      "k = 1, metric: cosine\n",
      "[====================] 100%\n",
      "NE centroid + words kNN similarity model\n",
      "k = 10, metric: dot_prod\n",
      "[====================] 100%\n",
      "Model: ne_centroid, F1 (tokens) = 72.68\n",
      "Model: weighted_kNN, F1 (tokens) = 80.23\n",
      "Model: centroid_kNN, F1 (tokens) = 78.05\n",
      "Model: svm, F1 (tokens) = 82.80\n",
      "Sample 4/10\n",
      "Train\n",
      "INFO:tensorflow:Saver not created because there are no variables in the graph to restore\n"
     ]
    },
    {
     "name": "stderr",
     "output_type": "stream",
     "text": [
      "2018-09-04 13:18:28.281 INFO in 'tensorflow'['tf_logging'] at line 115: Saver not created because there are no variables in the graph to restore\n"
     ]
    },
    {
     "name": "stdout",
     "output_type": "stream",
     "text": [
      "# ne: 17, # tokens: 176\n",
      "n_samples: 176\n",
      "INFO:tensorflow:Saver not created because there are no variables in the graph to restore\n"
     ]
    },
    {
     "name": "stderr",
     "output_type": "stream",
     "text": [
      "2018-09-04 13:18:29.448 INFO in 'tensorflow'['tf_logging'] at line 115: Saver not created because there are no variables in the graph to restore\n"
     ]
    },
    {
     "name": "stdout",
     "output_type": "stream",
     "text": [
      "NE centroid similarity model\n",
      "SVM classifier model\n",
      "Weighted kNN model\n",
      "k = 1, metric: cosine\n",
      "[====================] 100%\n",
      "NE centroid + words kNN similarity model\n",
      "k = 10, metric: dot_prod\n",
      "[====================] 100%\n",
      "Model: ne_centroid, F1 (tokens) = 80.64\n",
      "Model: weighted_kNN, F1 (tokens) = 84.90\n",
      "Model: centroid_kNN, F1 (tokens) = 89.74\n",
      "Model: svm, F1 (tokens) = 85.91\n",
      "Sample 5/10\n",
      "Train\n",
      "INFO:tensorflow:Saver not created because there are no variables in the graph to restore\n"
     ]
    },
    {
     "name": "stderr",
     "output_type": "stream",
     "text": [
      "2018-09-04 13:19:00.147 INFO in 'tensorflow'['tf_logging'] at line 115: Saver not created because there are no variables in the graph to restore\n"
     ]
    },
    {
     "name": "stdout",
     "output_type": "stream",
     "text": [
      "# ne: 17, # tokens: 232\n",
      "n_samples: 232\n",
      "INFO:tensorflow:Saver not created because there are no variables in the graph to restore\n"
     ]
    },
    {
     "name": "stderr",
     "output_type": "stream",
     "text": [
      "2018-09-04 13:19:01.551 INFO in 'tensorflow'['tf_logging'] at line 115: Saver not created because there are no variables in the graph to restore\n"
     ]
    },
    {
     "name": "stdout",
     "output_type": "stream",
     "text": [
      "NE centroid similarity model\n",
      "SVM classifier model\n",
      "Weighted kNN model\n",
      "k = 1, metric: cosine\n",
      "[====================] 100%\n",
      "NE centroid + words kNN similarity model\n",
      "k = 10, metric: dot_prod\n",
      "[====================] 100%\n",
      "Model: ne_centroid, F1 (tokens) = 82.11\n",
      "Model: weighted_kNN, F1 (tokens) = 86.94\n",
      "Model: centroid_kNN, F1 (tokens) = 84.33\n",
      "Model: svm, F1 (tokens) = 88.73\n",
      "Sample 6/10\n",
      "Train\n",
      "INFO:tensorflow:Saver not created because there are no variables in the graph to restore\n"
     ]
    },
    {
     "name": "stderr",
     "output_type": "stream",
     "text": [
      "2018-09-04 13:19:41.751 INFO in 'tensorflow'['tf_logging'] at line 115: Saver not created because there are no variables in the graph to restore\n"
     ]
    },
    {
     "name": "stdout",
     "output_type": "stream",
     "text": [
      "# ne: 21, # tokens: 259\n",
      "n_samples: 259\n",
      "INFO:tensorflow:Saver not created because there are no variables in the graph to restore\n"
     ]
    },
    {
     "name": "stderr",
     "output_type": "stream",
     "text": [
      "2018-09-04 13:19:43.76 INFO in 'tensorflow'['tf_logging'] at line 115: Saver not created because there are no variables in the graph to restore\n"
     ]
    },
    {
     "name": "stdout",
     "output_type": "stream",
     "text": [
      "NE centroid similarity model\n",
      "SVM classifier model\n",
      "Weighted kNN model\n",
      "k = 1, metric: cosine\n",
      "[====================] 100%\n",
      "NE centroid + words kNN similarity model\n",
      "k = 10, metric: dot_prod\n",
      "[====================] 100%\n",
      "Model: ne_centroid, F1 (tokens) = 81.93\n",
      "Model: weighted_kNN, F1 (tokens) = 83.08\n",
      "Model: centroid_kNN, F1 (tokens) = 92.91\n",
      "Model: svm, F1 (tokens) = 88.37\n",
      "Sample 7/10\n",
      "Train\n",
      "INFO:tensorflow:Saver not created because there are no variables in the graph to restore\n"
     ]
    },
    {
     "name": "stderr",
     "output_type": "stream",
     "text": [
      "2018-09-04 13:20:26.765 INFO in 'tensorflow'['tf_logging'] at line 115: Saver not created because there are no variables in the graph to restore\n"
     ]
    },
    {
     "name": "stdout",
     "output_type": "stream",
     "text": [
      "# ne: 23, # tokens: 252\n",
      "n_samples: 252\n",
      "INFO:tensorflow:Saver not created because there are no variables in the graph to restore\n"
     ]
    },
    {
     "name": "stderr",
     "output_type": "stream",
     "text": [
      "2018-09-04 13:20:28.123 INFO in 'tensorflow'['tf_logging'] at line 115: Saver not created because there are no variables in the graph to restore\n"
     ]
    },
    {
     "name": "stdout",
     "output_type": "stream",
     "text": [
      "NE centroid similarity model\n",
      "SVM classifier model\n",
      "Weighted kNN model\n",
      "k = 1, metric: cosine\n",
      "[====================] 100%\n",
      "NE centroid + words kNN similarity model\n",
      "k = 10, metric: dot_prod\n",
      "[====================] 100%\n",
      "Model: ne_centroid, F1 (tokens) = 78.81\n",
      "Model: weighted_kNN, F1 (tokens) = 80.82\n",
      "Model: centroid_kNN, F1 (tokens) = 84.48\n",
      "Model: svm, F1 (tokens) = 82.77\n",
      "Sample 8/10\n",
      "Train\n",
      "INFO:tensorflow:Saver not created because there are no variables in the graph to restore\n"
     ]
    },
    {
     "name": "stderr",
     "output_type": "stream",
     "text": [
      "2018-09-04 13:21:13.688 INFO in 'tensorflow'['tf_logging'] at line 115: Saver not created because there are no variables in the graph to restore\n"
     ]
    },
    {
     "name": "stdout",
     "output_type": "stream",
     "text": [
      "# ne: 21, # tokens: 206\n",
      "n_samples: 206\n",
      "INFO:tensorflow:Saver not created because there are no variables in the graph to restore\n"
     ]
    },
    {
     "name": "stderr",
     "output_type": "stream",
     "text": [
      "2018-09-04 13:21:15.546 INFO in 'tensorflow'['tf_logging'] at line 115: Saver not created because there are no variables in the graph to restore\n"
     ]
    },
    {
     "name": "stdout",
     "output_type": "stream",
     "text": [
      "NE centroid similarity model\n",
      "SVM classifier model\n",
      "Weighted kNN model\n",
      "k = 1, metric: cosine\n",
      "[====================] 100%\n",
      "NE centroid + words kNN similarity model\n",
      "k = 10, metric: dot_prod\n",
      "[====================] 100%\n",
      "Model: ne_centroid, F1 (tokens) = 78.28\n",
      "Model: weighted_kNN, F1 (tokens) = 80.63\n",
      "Model: centroid_kNN, F1 (tokens) = 86.14\n",
      "Model: svm, F1 (tokens) = 85.91\n",
      "Sample 9/10\n",
      "Train\n",
      "INFO:tensorflow:Saver not created because there are no variables in the graph to restore\n"
     ]
    },
    {
     "name": "stderr",
     "output_type": "stream",
     "text": [
      "2018-09-04 13:21:46.717 INFO in 'tensorflow'['tf_logging'] at line 115: Saver not created because there are no variables in the graph to restore\n"
     ]
    },
    {
     "name": "stdout",
     "output_type": "stream",
     "text": [
      "# ne: 15, # tokens: 209\n",
      "n_samples: 209\n",
      "INFO:tensorflow:Saver not created because there are no variables in the graph to restore\n"
     ]
    },
    {
     "name": "stderr",
     "output_type": "stream",
     "text": [
      "2018-09-04 13:21:48.557 INFO in 'tensorflow'['tf_logging'] at line 115: Saver not created because there are no variables in the graph to restore\n"
     ]
    },
    {
     "name": "stdout",
     "output_type": "stream",
     "text": [
      "NE centroid similarity model\n",
      "SVM classifier model\n",
      "Weighted kNN model\n",
      "k = 1, metric: cosine\n",
      "[====================] 100%\n",
      "NE centroid + words kNN similarity model\n",
      "k = 10, metric: dot_prod\n",
      "[====================] 100%\n",
      "Model: ne_centroid, F1 (tokens) = 81.00\n",
      "Model: weighted_kNN, F1 (tokens) = 85.92\n",
      "Model: centroid_kNN, F1 (tokens) = 87.74\n",
      "Model: svm, F1 (tokens) = 89.52\n",
      "Sample 10/10\n",
      "Train\n",
      "INFO:tensorflow:Saver not created because there are no variables in the graph to restore\n"
     ]
    },
    {
     "name": "stderr",
     "output_type": "stream",
     "text": [
      "2018-09-04 13:22:24.445 INFO in 'tensorflow'['tf_logging'] at line 115: Saver not created because there are no variables in the graph to restore\n"
     ]
    },
    {
     "name": "stdout",
     "output_type": "stream",
     "text": [
      "# ne: 23, # tokens: 277\n",
      "n_samples: 277\n",
      "INFO:tensorflow:Saver not created because there are no variables in the graph to restore\n"
     ]
    },
    {
     "name": "stderr",
     "output_type": "stream",
     "text": [
      "2018-09-04 13:22:26.79 INFO in 'tensorflow'['tf_logging'] at line 115: Saver not created because there are no variables in the graph to restore\n"
     ]
    },
    {
     "name": "stdout",
     "output_type": "stream",
     "text": [
      "NE centroid similarity model\n",
      "SVM classifier model\n",
      "Weighted kNN model\n",
      "k = 1, metric: cosine\n",
      "[====================] 100%\n",
      "NE centroid + words kNN similarity model\n",
      "k = 10, metric: dot_prod\n",
      "[====================] 100%\n",
      "Model: ne_centroid, F1 (tokens) = 69.31\n",
      "Model: weighted_kNN, F1 (tokens) = 84.36\n",
      "Model: centroid_kNN, F1 (tokens) = 88.11\n",
      "Model: svm, F1 (tokens) = 92.64\n",
      "Average F1 scores:\n",
      "Model: ne_centroid, avg F1 (tokens) = 78.58\n",
      "Model: weighted_kNN, avg F1 (tokens) = 81.61\n",
      "Model: centroid_kNN, avg F1 (tokens) = 86.36\n",
      "Model: svm, avg F1 (tokens) = 86.58\n",
      "============ ELMo coefficients + cell params ============\n",
      "Restoring finetuned ELMo params from ./model_params/elmo.ckpt\n",
      "INFO:tensorflow:Restoring parameters from ./model_params/elmo.ckpt\n"
     ]
    },
    {
     "name": "stderr",
     "output_type": "stream",
     "text": [
      "2018-09-04 13:23:12.993 INFO in 'tensorflow'['tf_logging'] at line 115: Restoring parameters from ./model_params/elmo.ckpt\n"
     ]
    },
    {
     "name": "stdout",
     "output_type": "stream",
     "text": [
      "INFO:tensorflow:Saver not created because there are no variables in the graph to restore\n"
     ]
    },
    {
     "name": "stderr",
     "output_type": "stream",
     "text": [
      "2018-09-04 13:23:13.697 INFO in 'tensorflow'['tf_logging'] at line 115: Saver not created because there are no variables in the graph to restore\n"
     ]
    },
    {
     "name": "stdout",
     "output_type": "stream",
     "text": [
      "Sample 1/10\n",
      "Train\n",
      "INFO:tensorflow:Saver not created because there are no variables in the graph to restore\n"
     ]
    },
    {
     "name": "stderr",
     "output_type": "stream",
     "text": [
      "2018-09-04 13:23:14.598 INFO in 'tensorflow'['tf_logging'] at line 115: Saver not created because there are no variables in the graph to restore\n"
     ]
    },
    {
     "name": "stdout",
     "output_type": "stream",
     "text": [
      "# ne: 29, # tokens: 212\n",
      "n_samples: 212\n",
      "INFO:tensorflow:Saver not created because there are no variables in the graph to restore\n"
     ]
    },
    {
     "name": "stderr",
     "output_type": "stream",
     "text": [
      "2018-09-04 13:23:15.717 INFO in 'tensorflow'['tf_logging'] at line 115: Saver not created because there are no variables in the graph to restore\n"
     ]
    },
    {
     "name": "stdout",
     "output_type": "stream",
     "text": [
      "NE centroid similarity model\n",
      "SVM classifier model\n",
      "Weighted kNN model\n",
      "k = 1, metric: cosine\n",
      "[====================] 100%\n",
      "NE centroid + words kNN similarity model\n",
      "k = 10, metric: dot_prod\n",
      "[====================] 100%\n",
      "Model: ne_centroid, F1 (tokens) = 83.47\n",
      "Model: weighted_kNN, F1 (tokens) = 75.39\n",
      "Model: centroid_kNN, F1 (tokens) = 88.52\n",
      "Model: svm, F1 (tokens) = 81.38\n",
      "Sample 2/10\n",
      "Train\n",
      "INFO:tensorflow:Saver not created because there are no variables in the graph to restore\n"
     ]
    },
    {
     "name": "stderr",
     "output_type": "stream",
     "text": [
      "2018-09-04 13:23:53.992 INFO in 'tensorflow'['tf_logging'] at line 115: Saver not created because there are no variables in the graph to restore\n"
     ]
    },
    {
     "name": "stdout",
     "output_type": "stream",
     "text": [
      "# ne: 21, # tokens: 326\n",
      "n_samples: 326\n",
      "INFO:tensorflow:Saver not created because there are no variables in the graph to restore\n"
     ]
    },
    {
     "name": "stderr",
     "output_type": "stream",
     "text": [
      "2018-09-04 13:23:55.168 INFO in 'tensorflow'['tf_logging'] at line 115: Saver not created because there are no variables in the graph to restore\n"
     ]
    },
    {
     "name": "stdout",
     "output_type": "stream",
     "text": [
      "NE centroid similarity model\n",
      "SVM classifier model\n",
      "Weighted kNN model\n",
      "k = 1, metric: cosine\n",
      "[====================] 100%\n",
      "NE centroid + words kNN similarity model\n",
      "k = 10, metric: dot_prod\n",
      "[====================] 100%\n",
      "Model: ne_centroid, F1 (tokens) = 85.95\n",
      "Model: weighted_kNN, F1 (tokens) = 85.47\n",
      "Model: centroid_kNN, F1 (tokens) = 85.12\n",
      "Model: svm, F1 (tokens) = 84.25\n",
      "Sample 3/10\n",
      "Train\n",
      "INFO:tensorflow:Saver not created because there are no variables in the graph to restore\n"
     ]
    },
    {
     "name": "stderr",
     "output_type": "stream",
     "text": [
      "2018-09-04 13:24:46.250 INFO in 'tensorflow'['tf_logging'] at line 115: Saver not created because there are no variables in the graph to restore\n"
     ]
    },
    {
     "name": "stdout",
     "output_type": "stream",
     "text": [
      "# ne: 18, # tokens: 320\n",
      "n_samples: 320\n",
      "INFO:tensorflow:Saver not created because there are no variables in the graph to restore\n"
     ]
    },
    {
     "name": "stderr",
     "output_type": "stream",
     "text": [
      "2018-09-04 13:24:47.385 INFO in 'tensorflow'['tf_logging'] at line 115: Saver not created because there are no variables in the graph to restore\n"
     ]
    },
    {
     "name": "stdout",
     "output_type": "stream",
     "text": [
      "NE centroid similarity model\n",
      "SVM classifier model\n",
      "Weighted kNN model\n",
      "k = 1, metric: cosine\n",
      "[====================] 100%\n",
      "NE centroid + words kNN similarity model\n",
      "k = 10, metric: dot_prod\n",
      "[====================] 100%\n",
      "Model: ne_centroid, F1 (tokens) = 84.70\n",
      "Model: weighted_kNN, F1 (tokens) = 88.52\n",
      "Model: centroid_kNN, F1 (tokens) = 86.59\n",
      "Model: svm, F1 (tokens) = 86.04\n",
      "Sample 4/10\n",
      "Train\n",
      "INFO:tensorflow:Saver not created because there are no variables in the graph to restore\n"
     ]
    },
    {
     "name": "stderr",
     "output_type": "stream",
     "text": [
      "2018-09-04 13:25:32.967 INFO in 'tensorflow'['tf_logging'] at line 115: Saver not created because there are no variables in the graph to restore\n"
     ]
    },
    {
     "name": "stdout",
     "output_type": "stream",
     "text": [
      "# ne: 17, # tokens: 176\n",
      "n_samples: 176\n",
      "INFO:tensorflow:Saver not created because there are no variables in the graph to restore\n"
     ]
    },
    {
     "name": "stderr",
     "output_type": "stream",
     "text": [
      "2018-09-04 13:25:34.149 INFO in 'tensorflow'['tf_logging'] at line 115: Saver not created because there are no variables in the graph to restore\n"
     ]
    },
    {
     "name": "stdout",
     "output_type": "stream",
     "text": [
      "NE centroid similarity model\n",
      "SVM classifier model\n",
      "Weighted kNN model\n",
      "k = 1, metric: cosine\n",
      "[====================] 100%\n",
      "NE centroid + words kNN similarity model\n",
      "k = 10, metric: dot_prod\n",
      "[====================] 100%\n",
      "Model: ne_centroid, F1 (tokens) = 87.67\n",
      "Model: weighted_kNN, F1 (tokens) = 90.99\n",
      "Model: centroid_kNN, F1 (tokens) = 85.90\n",
      "Model: svm, F1 (tokens) = 85.84\n",
      "Sample 5/10\n",
      "Train\n",
      "INFO:tensorflow:Saver not created because there are no variables in the graph to restore\n"
     ]
    },
    {
     "name": "stderr",
     "output_type": "stream",
     "text": [
      "2018-09-04 13:26:05.148 INFO in 'tensorflow'['tf_logging'] at line 115: Saver not created because there are no variables in the graph to restore\n"
     ]
    },
    {
     "name": "stdout",
     "output_type": "stream",
     "text": [
      "# ne: 17, # tokens: 232\n",
      "n_samples: 232\n",
      "INFO:tensorflow:Saver not created because there are no variables in the graph to restore\n"
     ]
    },
    {
     "name": "stderr",
     "output_type": "stream",
     "text": [
      "2018-09-04 13:26:06.710 INFO in 'tensorflow'['tf_logging'] at line 115: Saver not created because there are no variables in the graph to restore\n"
     ]
    },
    {
     "name": "stdout",
     "output_type": "stream",
     "text": [
      "NE centroid similarity model\n",
      "SVM classifier model\n",
      "Weighted kNN model\n",
      "k = 1, metric: cosine\n",
      "[====================] 100%\n",
      "NE centroid + words kNN similarity model\n",
      "k = 10, metric: dot_prod\n",
      "[====================] 100%\n",
      "Model: ne_centroid, F1 (tokens) = 91.04\n",
      "Model: weighted_kNN, F1 (tokens) = 91.57\n",
      "Model: centroid_kNN, F1 (tokens) = 78.46\n",
      "Model: svm, F1 (tokens) = 90.26\n",
      "Sample 6/10\n",
      "Train\n",
      "INFO:tensorflow:Saver not created because there are no variables in the graph to restore\n"
     ]
    },
    {
     "name": "stderr",
     "output_type": "stream",
     "text": [
      "2018-09-04 13:26:46.781 INFO in 'tensorflow'['tf_logging'] at line 115: Saver not created because there are no variables in the graph to restore\n"
     ]
    },
    {
     "name": "stdout",
     "output_type": "stream",
     "text": [
      "# ne: 21, # tokens: 259\n",
      "n_samples: 259\n",
      "INFO:tensorflow:Saver not created because there are no variables in the graph to restore\n"
     ]
    },
    {
     "name": "stderr",
     "output_type": "stream",
     "text": [
      "2018-09-04 13:26:48.110 INFO in 'tensorflow'['tf_logging'] at line 115: Saver not created because there are no variables in the graph to restore\n"
     ]
    },
    {
     "name": "stdout",
     "output_type": "stream",
     "text": [
      "NE centroid similarity model\n",
      "SVM classifier model\n",
      "Weighted kNN model\n",
      "k = 1, metric: cosine\n",
      "[====================] 100%\n",
      "NE centroid + words kNN similarity model\n",
      "k = 10, metric: dot_prod\n",
      "[====================] 100%\n",
      "Model: ne_centroid, F1 (tokens) = 89.83\n",
      "Model: weighted_kNN, F1 (tokens) = 89.36\n",
      "Model: centroid_kNN, F1 (tokens) = 88.09\n",
      "Model: svm, F1 (tokens) = 90.52\n",
      "Sample 7/10\n",
      "Train\n",
      "INFO:tensorflow:Saver not created because there are no variables in the graph to restore\n"
     ]
    },
    {
     "name": "stderr",
     "output_type": "stream",
     "text": [
      "2018-09-04 13:27:31.214 INFO in 'tensorflow'['tf_logging'] at line 115: Saver not created because there are no variables in the graph to restore\n"
     ]
    },
    {
     "name": "stdout",
     "output_type": "stream",
     "text": [
      "# ne: 23, # tokens: 252\n",
      "n_samples: 252\n",
      "INFO:tensorflow:Saver not created because there are no variables in the graph to restore\n"
     ]
    },
    {
     "name": "stderr",
     "output_type": "stream",
     "text": [
      "2018-09-04 13:27:32.630 INFO in 'tensorflow'['tf_logging'] at line 115: Saver not created because there are no variables in the graph to restore\n"
     ]
    },
    {
     "name": "stdout",
     "output_type": "stream",
     "text": [
      "NE centroid similarity model\n",
      "SVM classifier model\n",
      "Weighted kNN model\n",
      "k = 1, metric: cosine\n",
      "[====================] 100%\n",
      "NE centroid + words kNN similarity model\n",
      "k = 10, metric: dot_prod\n",
      "[====================] 100%\n",
      "Model: ne_centroid, F1 (tokens) = 85.59\n",
      "Model: weighted_kNN, F1 (tokens) = 83.50\n",
      "Model: centroid_kNN, F1 (tokens) = 83.06\n",
      "Model: svm, F1 (tokens) = 83.75\n",
      "Sample 8/10\n",
      "Train\n",
      "INFO:tensorflow:Saver not created because there are no variables in the graph to restore\n"
     ]
    },
    {
     "name": "stderr",
     "output_type": "stream",
     "text": [
      "2018-09-04 13:28:17.227 INFO in 'tensorflow'['tf_logging'] at line 115: Saver not created because there are no variables in the graph to restore\n"
     ]
    },
    {
     "name": "stdout",
     "output_type": "stream",
     "text": [
      "# ne: 21, # tokens: 206\n",
      "n_samples: 206\n",
      "INFO:tensorflow:Saver not created because there are no variables in the graph to restore\n"
     ]
    },
    {
     "name": "stderr",
     "output_type": "stream",
     "text": [
      "2018-09-04 13:28:18.806 INFO in 'tensorflow'['tf_logging'] at line 115: Saver not created because there are no variables in the graph to restore\n"
     ]
    },
    {
     "name": "stdout",
     "output_type": "stream",
     "text": [
      "NE centroid similarity model\n",
      "SVM classifier model\n",
      "Weighted kNN model\n",
      "k = 1, metric: cosine\n",
      "[====================] 100%\n",
      "NE centroid + words kNN similarity model\n",
      "k = 10, metric: dot_prod\n",
      "[====================] 100%\n",
      "Model: ne_centroid, F1 (tokens) = 88.74\n",
      "Model: weighted_kNN, F1 (tokens) = 87.53\n",
      "Model: centroid_kNN, F1 (tokens) = 91.99\n",
      "Model: svm, F1 (tokens) = 89.93\n",
      "Sample 9/10\n",
      "Train\n",
      "INFO:tensorflow:Saver not created because there are no variables in the graph to restore\n"
     ]
    },
    {
     "name": "stderr",
     "output_type": "stream",
     "text": [
      "2018-09-04 13:28:51.415 INFO in 'tensorflow'['tf_logging'] at line 115: Saver not created because there are no variables in the graph to restore\n"
     ]
    },
    {
     "name": "stdout",
     "output_type": "stream",
     "text": [
      "# ne: 15, # tokens: 209\n",
      "n_samples: 209\n",
      "INFO:tensorflow:Saver not created because there are no variables in the graph to restore\n"
     ]
    },
    {
     "name": "stderr",
     "output_type": "stream",
     "text": [
      "2018-09-04 13:28:52.918 INFO in 'tensorflow'['tf_logging'] at line 115: Saver not created because there are no variables in the graph to restore\n"
     ]
    },
    {
     "name": "stdout",
     "output_type": "stream",
     "text": [
      "NE centroid similarity model\n",
      "SVM classifier model\n",
      "Weighted kNN model\n",
      "k = 1, metric: cosine\n",
      "[====================] 100%\n",
      "NE centroid + words kNN similarity model\n",
      "k = 10, metric: dot_prod\n",
      "[====================] 100%\n",
      "Model: ne_centroid, F1 (tokens) = 90.12\n",
      "Model: weighted_kNN, F1 (tokens) = 89.51\n",
      "Model: centroid_kNN, F1 (tokens) = 86.17\n",
      "Model: svm, F1 (tokens) = 89.52\n",
      "Sample 10/10\n",
      "Train\n",
      "INFO:tensorflow:Saver not created because there are no variables in the graph to restore\n"
     ]
    },
    {
     "name": "stderr",
     "output_type": "stream",
     "text": [
      "2018-09-04 13:29:28.100 INFO in 'tensorflow'['tf_logging'] at line 115: Saver not created because there are no variables in the graph to restore\n"
     ]
    },
    {
     "name": "stdout",
     "output_type": "stream",
     "text": [
      "# ne: 23, # tokens: 277\n",
      "n_samples: 277\n",
      "INFO:tensorflow:Saver not created because there are no variables in the graph to restore\n"
     ]
    },
    {
     "name": "stderr",
     "output_type": "stream",
     "text": [
      "2018-09-04 13:29:29.741 INFO in 'tensorflow'['tf_logging'] at line 115: Saver not created because there are no variables in the graph to restore\n"
     ]
    },
    {
     "name": "stdout",
     "output_type": "stream",
     "text": [
      "NE centroid similarity model\n",
      "SVM classifier model\n",
      "Weighted kNN model\n",
      "k = 1, metric: cosine\n",
      "[====================] 100%\n",
      "NE centroid + words kNN similarity model\n",
      "k = 10, metric: dot_prod\n",
      "[====================] 100%\n",
      "Model: ne_centroid, F1 (tokens) = 90.75\n",
      "Model: weighted_kNN, F1 (tokens) = 89.07\n",
      "Model: centroid_kNN, F1 (tokens) = 90.25\n",
      "Model: svm, F1 (tokens) = 92.53\n",
      "Average F1 scores:\n",
      "Model: ne_centroid, avg F1 (tokens) = 87.79\n",
      "Model: weighted_kNN, avg F1 (tokens) = 87.09\n",
      "Model: centroid_kNN, avg F1 (tokens) = 86.42\n",
      "Model: svm, avg F1 (tokens) = 87.40\n"
     ]
    }
   ],
   "source": [
    "f1_scores = {}\n",
    "sims = {}\n",
    "for i, embedder_params_cur in enumerate(embedder_params):\n",
    "    print('============ {} ============'.format(embedder_params_cur['name']))\n",
    "    elmo_params = embedder_params_cur['elmo_params']\n",
    "    label = embedder_params_cur['label']\n",
    "    tf.reset_default_graph()\n",
    "    embedder = CompositeEmbedder(use_elmo=True, elmo_scale=1, cap_scale=1, use_cap_feat=False, use_glove=False, elmo_params=elmo_params)\n",
    "    f1_scores[label] = {}\n",
    "    for model in MODELS:\n",
    "        f1_scores[label][model] = {'vals': [], 'avg': 0}\n",
    "    for j, data_sample in enumerate(data_samples):\n",
    "        print('Sample {}/{}'.format(j+1, N_SAMPLES))\n",
    "        tokens_train = data_sample['train']['tokens']\n",
    "        tags_train = data_sample['train']['tags']\n",
    "        tokens_test = data_sample['test']['tokens']\n",
    "        tags_test = data_sample['test']['tags']\n",
    "        y_test = data_sample['test']['y']\n",
    "        ner_bin_clf = FewshotNerBinaryClassifier(embedder)\n",
    "        ner_bin_clf.train_on_batch(tokens_train, tags_train)\n",
    "        results = ner_bin_clf.predict(tokens_test, MODELS, MODEL_PARAMS)\n",
    "        for model in MODELS:    \n",
    "            pred = results[model]['pred']\n",
    "            f1 = f1_score(y_test, pred)\n",
    "            f1_scores[label][model]['vals'].append(f1)\n",
    "            print('Model: {}, F1 (tokens) = {:.2f}'.format(model, f1*100))\n",
    "    print('Average F1 scores:')\n",
    "    for model in MODELS:\n",
    "        f1_avg = np.mean(f1_scores[label][model]['vals'])\n",
    "        f1_scores[label][model]['avg'] = f1_avg\n",
    "        print('Model: {}, avg F1 (tokens) = {:.2f}'.format(model, f1_avg*100))"
   ]
  },
  {
   "cell_type": "code",
   "execution_count": 8,
   "metadata": {},
   "outputs": [
    {
     "name": "stdout",
     "output_type": "stream",
     "text": [
      "{'default': {'ne_centroid': {'vals': [0.736, 0.7822410147991543, 0.6774193548387096, 0.7747747747747749, 0.8042895442359248, 0.8138957816377171, 0.778494623655914, 0.780701754385965, 0.7826086956521738, 0.6756756756756755], 'avg': 0.7606101219656008}, 'weighted_kNN': {'vals': [0.6643835616438357, 0.8416666666666667, 0.7833827893175075, 0.836283185840708, 0.8585131894484412, 0.8354430379746836, 0.8089887640449438, 0.8088888888888888, 0.8551401869158879, 0.8353909465020577], 'avg': 0.812808121724362}, 'centroid_kNN': {'vals': [0.8523002421307506, 0.8660714285714286, 0.7753846153846154, 0.8995215311004785, 0.8591885441527446, 0.8984771573604061, 0.8539325842696629, 0.8542713567839195, 0.8803827751196172, 0.8752941176470588], 'avg': 0.8614824352520681}, 'svm': {'vals': [0.8340425531914893, 0.8522483940042828, 0.8294117647058824, 0.8699551569506727, 0.8932038834951457, 0.9026128266033254, 0.8453159041394337, 0.8755760368663594, 0.8943488943488944, 0.9391304347826086], 'avg': 0.8735845849088093}}, 'elmo_coef': {'ne_centroid': {'vals': [0.8052516411378556, 0.8050314465408805, 0.7267759562841529, 0.8063781321184509, 0.8210526315789474, 0.819277108433735, 0.788135593220339, 0.7827956989247312, 0.8099547511312217, 0.6931216931216931], 'avg': 0.7857774652492007}, 'weighted_kNN': {'vals': [0.653061224489796, 0.8388429752066116, 0.8023255813953489, 0.849015317286652, 0.8693586698337293, 0.8308457711442786, 0.8081936685288641, 0.8063063063063063, 0.8591549295774648, 0.8436213991769547], 'avg': 0.8160725842946007}, 'centroid_kNN': {'vals': [0.8497652582159624, 0.8711111111111112, 0.7804878048780488, 0.8973747016706445, 0.8433179723502304, 0.9290953545232274, 0.8448275862068965, 0.8613861386138614, 0.8773584905660377, 0.8811188811188811], 'avg': 0.8635843299254902}, 'svm': {'vals': [0.8425531914893618, 0.8492569002123143, 0.8279883381924198, 0.8590604026845639, 0.8872901678657074, 0.8837209302325582, 0.8277310924369748, 0.8590604026845639, 0.8952380952380953, 0.9264069264069263], 'avg': 0.8658306447443487}}, 'elmo_coef_and_cells': {'ne_centroid': {'vals': [0.834710743801653, 0.859538784067086, 0.8469945355191256, 0.8767123287671232, 0.9104116222760289, 0.8983451536643025, 0.8559139784946238, 0.8873563218390804, 0.9012048192771084, 0.907488986784141], 'avg': 0.8778677274490272}, 'weighted_kNN': {'vals': [0.7539062499999999, 0.8547008547008548, 0.8851540616246498, 0.9099307159353349, 0.9156626506024096, 0.8936170212765957, 0.8349514563106796, 0.8752941176470588, 0.8951406649616368, 0.890721649484536], 'avg': 0.8709079442543756}, 'centroid_kNN': {'vals': [0.8852459016393444, 0.8511530398322853, 0.8659217877094972, 0.8590308370044052, 0.7845528455284552, 0.8808988764044944, 0.8306451612903225, 0.919908466819222, 0.8616780045351473, 0.902542372881356], 'avg': 0.8641577293644529}, 'svm': {'vals': [0.813765182186235, 0.8425357873210635, 0.8603988603988605, 0.8584070796460177, 0.9026128266033254, 0.9052132701421802, 0.8374999999999999, 0.8992974238875879, 0.8952380952380953, 0.9253112033195021], 'avg': 0.8740279728742868}}}\n"
     ]
    }
   ],
   "source": [
    "print(f1_scores)"
   ]
  },
  {
   "cell_type": "code",
   "execution_count": 9,
   "metadata": {},
   "outputs": [
    {
     "name": "stdout",
     "output_type": "stream",
     "text": [
      "MODEL   \tdefault \telmo_coef\telmo_coef_and_cells\n",
      "ne_centroid\t76.06   \t78.58   \t87.79   \n",
      "weighted_kNN\t81.28   \t81.61   \t87.09   \n",
      "centroid_kNN\t86.15   \t86.36   \t86.42   \n",
      "svm     \t87.36   \t86.58   \t87.40   \n"
     ]
    }
   ],
   "source": [
    "labels = [par['label'] for par in embedder_params]\n",
    "print('{:<8s}\\t{:<8s}\\t{:<8s}\\t{:<8s}'.format('MODEL', embedder_params[0]['label'], embedder_params[1]['label'], embedder_params[2]['label']))\n",
    "for model in MODELS:\n",
    "    print('{:<8s}\\t{:<8.2f}\\t{:<8.2f}\\t{:<8.2f}'.format(model, f1_scores[labels[0]][model]['avg']*100, f1_scores[labels[1]][model]['avg']*100, f1_scores[labels[2]][model]['avg']*100))"
   ]
  },
  {
   "cell_type": "code",
   "execution_count": null,
   "metadata": {},
   "outputs": [],
   "source": []
  }
 ],
 "metadata": {
  "kernelspec": {
   "display_name": "Python 3",
   "language": "python",
   "name": "python3"
  },
  "language_info": {
   "codemirror_mode": {
    "name": "ipython",
    "version": 3
   },
   "file_extension": ".py",
   "mimetype": "text/x-python",
   "name": "python",
   "nbconvert_exporter": "python",
   "pygments_lexer": "ipython3",
   "version": "3.6.5"
  }
 },
 "nbformat": 4,
 "nbformat_minor": 2
}
