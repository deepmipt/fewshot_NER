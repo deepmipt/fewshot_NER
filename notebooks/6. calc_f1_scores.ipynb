{
 "cells": [
  {
   "cell_type": "code",
   "execution_count": 1,
   "metadata": {},
   "outputs": [
    {
     "name": "stderr",
     "output_type": "stream",
     "text": [
      "/home/kostrovskiy/prog/AI/NLP/DeepPavlov/env/lib/python3.6/site-packages/h5py/__init__.py:36: FutureWarning: Conversion of the second argument of issubdtype from `float` to `np.floating` is deprecated. In future, it will be treated as `np.float64 == np.dtype(float).type`.\n",
      "  from ._conv import register_converters as _register_converters\n",
      "Using TensorFlow backend.\n",
      "[nltk_data] Downloading package punkt to\n",
      "[nltk_data]     /home/kostrovskiy/nltk_data...\n",
      "[nltk_data]   Package punkt is already up-to-date!\n",
      "[nltk_data] Downloading package stopwords to\n",
      "[nltk_data]     /home/kostrovskiy/nltk_data...\n",
      "[nltk_data]   Package stopwords is already up-to-date!\n",
      "[nltk_data] Downloading package perluniprops to\n",
      "[nltk_data]     /home/kostrovskiy/nltk_data...\n",
      "[nltk_data]   Package perluniprops is already up-to-date!\n",
      "[nltk_data] Downloading package nonbreaking_prefixes to\n",
      "[nltk_data]     /home/kostrovskiy/nltk_data...\n",
      "[nltk_data]   Package nonbreaking_prefixes is already up-to-date!\n",
      "2018-08-21 16:11:02.654 DEBUG in 'gensim.models.doc2vec'['doc2vec'] at line 73: Fast version of gensim.models.doc2vec is being used\n",
      "2018-08-21 16:11:02.666 INFO in 'summa.preprocessing.cleaner'['textcleaner'] at line 20: 'pattern' package not found; tag filters are not available for English\n",
      "2018-08-21 16:11:12.570 DEBUG in 'matplotlib.backends'['__init__'] at line 90: backend module://ipykernel.pylab.backend_inline version unknown\n"
     ]
    }
   ],
   "source": [
    "import copy\n",
    "import os\n",
    "import numpy as np\n",
    "import matplotlib.pyplot as plt\n",
    "from sklearn.metrics import f1_score\n",
    "import tensorflow as tf\n",
    "import deeppavlov\n",
    "from deeppavlov.dataset_readers.ontonotes_reader import OntonotesReader\n",
    "\n",
    "from deeppavlov.models.embedders.glove_embedder import GloVeEmbedder"
   ]
  },
  {
   "cell_type": "code",
   "execution_count": 2,
   "metadata": {},
   "outputs": [],
   "source": [
    "from src.fewshot_ner_viz_component.fewshot_ner_binary_classifier import *\n",
    "from src.fewshot_ner_viz_component.data_processing import *\n",
    "from src.fewshot_ner_viz_component.utils import *"
   ]
  },
  {
   "cell_type": "markdown",
   "metadata": {},
   "source": [
    "### Configuration parameters"
   ]
  },
  {
   "cell_type": "code",
   "execution_count": 3,
   "metadata": {},
   "outputs": [],
   "source": [
    "NE_TYPES = ['PERSON']\n",
    "# NE_TYPES = ['PERSON', 'GPE', 'ORG', 'LOC']\n",
    "NE_TYPES = ['GPE','DATE','ORG','EVENT','LOC','FAC','CARDINAL','QUANTITY','NORP','ORDINAL','WORK_OF_ART','PERSON']\n",
    "NE_TYPES = ['EVENT','LOC','FAC','CARDINAL','QUANTITY','NORP','ORDINAL','WORK_OF_ART','PERSON']\n",
    "N_EXAMPLES = 10\n",
    "N_TEST_SENTENCES = 100\n",
    "N_SAMPLES = 10\n",
    "MODELS = ['ne_centroid', 'ne_nearest', 'weighted_kNN', 'centroid_kNN', 'svm']\n",
    "# MODELS = ['ne_centroid', 'ne_nearest']\n",
    "MODELS = ['svm']\n",
    "MODEL_PARAMS = {'ne_centroid': {'sim_type': 'cosine'},\n",
    "               'ne_nearest': {'sim_type': 'cosine'},\n",
    "               'weighted_kNN': {'k': 1, 'metric': 'cosine', 'use_class_weights': False, 'use_sim_weights': True},\n",
    "               'centroid_kNN': {'k': 10, 'metric': 'dot_prod', 'use_class_weights': False},\n",
    "               'svm': {}}\n",
    "USE_CV = False"
   ]
  },
  {
   "cell_type": "code",
   "execution_count": 4,
   "metadata": {},
   "outputs": [
    {
     "name": "stdout",
     "output_type": "stream",
     "text": [
      "Num of train sentences: 75187\n",
      "Num of valid sentences: 9603\n",
      "Num of test sentences: 9479\n",
      "[(['Actions', 'had', 'to', 'be', 'taken', 'to', 'break', 'through', 'the', 'blockade', '.'], ['O', 'O', 'O', 'O', 'O', 'O', 'O', 'O', 'O', 'O', 'O']), (['On', 'a', 'night', 'in', 'late', 'July', '1940', ',', 'the', 'atmosphere', 'in', 'Zhuanbi', 'Village', 'in', 'Shaanxi', 'was', 'unusual', '.'], ['O', 'B-DATE', 'I-DATE', 'I-DATE', 'I-DATE', 'I-DATE', 'I-DATE', 'O', 'O', 'O', 'O', 'B-GPE', 'I-GPE', 'O', 'B-GPE', 'O', 'O', 'O']), (['Villager', 'Xiao', 'Jianghe', 'has', 'a', 'vivid', 'memory', 'of', 'this', 'piece', 'of', 'history', '.'], ['O', 'B-PERSON', 'I-PERSON', 'O', 'O', 'O', 'O', 'O', 'O', 'O', 'O', 'O', 'O']), (['On', 'that', 'dark', 'night', ',', 'everyone', 'was', 'sleeping', 'when', 'human', 'voices', 'and', 'neighing', 'horses', 'were', 'heard', 'within', 'the', 'village', '.'], ['O', 'B-TIME', 'I-TIME', 'I-TIME', 'O', 'O', 'O', 'O', 'O', 'O', 'O', 'O', 'O', 'O', 'O', 'O', 'O', 'O', 'O', 'O']), (['People', 'all', 'got', 'up', '.'], ['O', 'O', 'O', 'O', 'O']), (['Did', 'something', 'happen', '?'], ['O', 'O', 'O', 'O']), (['Some', 'folks', 'got', 'up', '.'], ['O', 'O', 'O', 'O', 'O']), (['Opening', 'the', 'street', 'gate', ',', 'they', 'saw', 'a', 'soldier', 'standing', 'by', 'the', 'gate', '.'], ['O', 'O', 'O', 'O', 'O', 'O', 'O', 'O', 'O', 'O', 'O', 'O', 'O', 'O']), (['Folks', ',', 'go', 'back', ',', 'go', 'back', ',', 'nothing', 'is', 'wrong', '.'], ['O', 'O', 'O', 'O', 'O', 'O', 'O', 'O', 'O', 'O', 'O', 'O']), (['Our', 'troops', 'are', 'just', 'going', 'to', 'stay', 'here', 'for', 'the', 'night', '.'], ['O', 'O', 'O', 'O', 'O', 'O', 'O', 'O', 'O', 'O', 'O', 'O'])]\n"
     ]
    }
   ],
   "source": [
    "dataset_orig = read_data()"
   ]
  },
  {
   "cell_type": "code",
   "execution_count": 5,
   "metadata": {},
   "outputs": [
    {
     "name": "stdout",
     "output_type": "stream",
     "text": [
      "INFO:tensorflow:Using /tmp/tfhub_modules to cache modules.\n"
     ]
    },
    {
     "name": "stderr",
     "output_type": "stream",
     "text": [
      "2018-08-21 16:11:14.879 INFO in 'tensorflow'['tf_logging'] at line 160: Using /tmp/tfhub_modules to cache modules.\n"
     ]
    },
    {
     "name": "stdout",
     "output_type": "stream",
     "text": [
      "INFO:tensorflow:Initialize variable module/aggregation/scaling:0 from checkpoint b'/tmp/tfhub_modules/9bb74bc86f9caffc8c47dd7b33ec4bb354d9602d/variables/variables' with aggregation/scaling\n"
     ]
    },
    {
     "name": "stderr",
     "output_type": "stream",
     "text": [
      "2018-08-21 16:11:15.440 INFO in 'tensorflow'['tf_logging'] at line 116: Initialize variable module/aggregation/scaling:0 from checkpoint b'/tmp/tfhub_modules/9bb74bc86f9caffc8c47dd7b33ec4bb354d9602d/variables/variables' with aggregation/scaling\n"
     ]
    },
    {
     "name": "stdout",
     "output_type": "stream",
     "text": [
      "INFO:tensorflow:Initialize variable module/aggregation/weights:0 from checkpoint b'/tmp/tfhub_modules/9bb74bc86f9caffc8c47dd7b33ec4bb354d9602d/variables/variables' with aggregation/weights\n"
     ]
    },
    {
     "name": "stderr",
     "output_type": "stream",
     "text": [
      "2018-08-21 16:11:15.447 INFO in 'tensorflow'['tf_logging'] at line 116: Initialize variable module/aggregation/weights:0 from checkpoint b'/tmp/tfhub_modules/9bb74bc86f9caffc8c47dd7b33ec4bb354d9602d/variables/variables' with aggregation/weights\n"
     ]
    },
    {
     "name": "stdout",
     "output_type": "stream",
     "text": [
      "INFO:tensorflow:Initialize variable module/bilm/CNN/W_cnn_0:0 from checkpoint b'/tmp/tfhub_modules/9bb74bc86f9caffc8c47dd7b33ec4bb354d9602d/variables/variables' with bilm/CNN/W_cnn_0\n"
     ]
    },
    {
     "name": "stderr",
     "output_type": "stream",
     "text": [
      "2018-08-21 16:11:15.454 INFO in 'tensorflow'['tf_logging'] at line 116: Initialize variable module/bilm/CNN/W_cnn_0:0 from checkpoint b'/tmp/tfhub_modules/9bb74bc86f9caffc8c47dd7b33ec4bb354d9602d/variables/variables' with bilm/CNN/W_cnn_0\n"
     ]
    },
    {
     "name": "stdout",
     "output_type": "stream",
     "text": [
      "INFO:tensorflow:Initialize variable module/bilm/CNN/W_cnn_1:0 from checkpoint b'/tmp/tfhub_modules/9bb74bc86f9caffc8c47dd7b33ec4bb354d9602d/variables/variables' with bilm/CNN/W_cnn_1\n"
     ]
    },
    {
     "name": "stderr",
     "output_type": "stream",
     "text": [
      "2018-08-21 16:11:15.459 INFO in 'tensorflow'['tf_logging'] at line 116: Initialize variable module/bilm/CNN/W_cnn_1:0 from checkpoint b'/tmp/tfhub_modules/9bb74bc86f9caffc8c47dd7b33ec4bb354d9602d/variables/variables' with bilm/CNN/W_cnn_1\n"
     ]
    },
    {
     "name": "stdout",
     "output_type": "stream",
     "text": [
      "INFO:tensorflow:Initialize variable module/bilm/CNN/W_cnn_2:0 from checkpoint b'/tmp/tfhub_modules/9bb74bc86f9caffc8c47dd7b33ec4bb354d9602d/variables/variables' with bilm/CNN/W_cnn_2\n"
     ]
    },
    {
     "name": "stderr",
     "output_type": "stream",
     "text": [
      "2018-08-21 16:11:15.467 INFO in 'tensorflow'['tf_logging'] at line 116: Initialize variable module/bilm/CNN/W_cnn_2:0 from checkpoint b'/tmp/tfhub_modules/9bb74bc86f9caffc8c47dd7b33ec4bb354d9602d/variables/variables' with bilm/CNN/W_cnn_2\n"
     ]
    },
    {
     "name": "stdout",
     "output_type": "stream",
     "text": [
      "INFO:tensorflow:Initialize variable module/bilm/CNN/W_cnn_3:0 from checkpoint b'/tmp/tfhub_modules/9bb74bc86f9caffc8c47dd7b33ec4bb354d9602d/variables/variables' with bilm/CNN/W_cnn_3\n"
     ]
    },
    {
     "name": "stderr",
     "output_type": "stream",
     "text": [
      "2018-08-21 16:11:15.474 INFO in 'tensorflow'['tf_logging'] at line 116: Initialize variable module/bilm/CNN/W_cnn_3:0 from checkpoint b'/tmp/tfhub_modules/9bb74bc86f9caffc8c47dd7b33ec4bb354d9602d/variables/variables' with bilm/CNN/W_cnn_3\n"
     ]
    },
    {
     "name": "stdout",
     "output_type": "stream",
     "text": [
      "INFO:tensorflow:Initialize variable module/bilm/CNN/W_cnn_4:0 from checkpoint b'/tmp/tfhub_modules/9bb74bc86f9caffc8c47dd7b33ec4bb354d9602d/variables/variables' with bilm/CNN/W_cnn_4\n"
     ]
    },
    {
     "name": "stderr",
     "output_type": "stream",
     "text": [
      "2018-08-21 16:11:15.482 INFO in 'tensorflow'['tf_logging'] at line 116: Initialize variable module/bilm/CNN/W_cnn_4:0 from checkpoint b'/tmp/tfhub_modules/9bb74bc86f9caffc8c47dd7b33ec4bb354d9602d/variables/variables' with bilm/CNN/W_cnn_4\n"
     ]
    },
    {
     "name": "stdout",
     "output_type": "stream",
     "text": [
      "INFO:tensorflow:Initialize variable module/bilm/CNN/W_cnn_5:0 from checkpoint b'/tmp/tfhub_modules/9bb74bc86f9caffc8c47dd7b33ec4bb354d9602d/variables/variables' with bilm/CNN/W_cnn_5\n"
     ]
    },
    {
     "name": "stderr",
     "output_type": "stream",
     "text": [
      "2018-08-21 16:11:15.489 INFO in 'tensorflow'['tf_logging'] at line 116: Initialize variable module/bilm/CNN/W_cnn_5:0 from checkpoint b'/tmp/tfhub_modules/9bb74bc86f9caffc8c47dd7b33ec4bb354d9602d/variables/variables' with bilm/CNN/W_cnn_5\n"
     ]
    },
    {
     "name": "stdout",
     "output_type": "stream",
     "text": [
      "INFO:tensorflow:Initialize variable module/bilm/CNN/W_cnn_6:0 from checkpoint b'/tmp/tfhub_modules/9bb74bc86f9caffc8c47dd7b33ec4bb354d9602d/variables/variables' with bilm/CNN/W_cnn_6\n"
     ]
    },
    {
     "name": "stderr",
     "output_type": "stream",
     "text": [
      "2018-08-21 16:11:15.494 INFO in 'tensorflow'['tf_logging'] at line 116: Initialize variable module/bilm/CNN/W_cnn_6:0 from checkpoint b'/tmp/tfhub_modules/9bb74bc86f9caffc8c47dd7b33ec4bb354d9602d/variables/variables' with bilm/CNN/W_cnn_6\n"
     ]
    },
    {
     "name": "stdout",
     "output_type": "stream",
     "text": [
      "INFO:tensorflow:Initialize variable module/bilm/CNN/b_cnn_0:0 from checkpoint b'/tmp/tfhub_modules/9bb74bc86f9caffc8c47dd7b33ec4bb354d9602d/variables/variables' with bilm/CNN/b_cnn_0\n"
     ]
    },
    {
     "name": "stderr",
     "output_type": "stream",
     "text": [
      "2018-08-21 16:11:15.500 INFO in 'tensorflow'['tf_logging'] at line 116: Initialize variable module/bilm/CNN/b_cnn_0:0 from checkpoint b'/tmp/tfhub_modules/9bb74bc86f9caffc8c47dd7b33ec4bb354d9602d/variables/variables' with bilm/CNN/b_cnn_0\n"
     ]
    },
    {
     "name": "stdout",
     "output_type": "stream",
     "text": [
      "INFO:tensorflow:Initialize variable module/bilm/CNN/b_cnn_1:0 from checkpoint b'/tmp/tfhub_modules/9bb74bc86f9caffc8c47dd7b33ec4bb354d9602d/variables/variables' with bilm/CNN/b_cnn_1\n"
     ]
    },
    {
     "name": "stderr",
     "output_type": "stream",
     "text": [
      "2018-08-21 16:11:15.505 INFO in 'tensorflow'['tf_logging'] at line 116: Initialize variable module/bilm/CNN/b_cnn_1:0 from checkpoint b'/tmp/tfhub_modules/9bb74bc86f9caffc8c47dd7b33ec4bb354d9602d/variables/variables' with bilm/CNN/b_cnn_1\n"
     ]
    },
    {
     "name": "stdout",
     "output_type": "stream",
     "text": [
      "INFO:tensorflow:Initialize variable module/bilm/CNN/b_cnn_2:0 from checkpoint b'/tmp/tfhub_modules/9bb74bc86f9caffc8c47dd7b33ec4bb354d9602d/variables/variables' with bilm/CNN/b_cnn_2\n"
     ]
    },
    {
     "name": "stderr",
     "output_type": "stream",
     "text": [
      "2018-08-21 16:11:15.511 INFO in 'tensorflow'['tf_logging'] at line 116: Initialize variable module/bilm/CNN/b_cnn_2:0 from checkpoint b'/tmp/tfhub_modules/9bb74bc86f9caffc8c47dd7b33ec4bb354d9602d/variables/variables' with bilm/CNN/b_cnn_2\n"
     ]
    },
    {
     "name": "stdout",
     "output_type": "stream",
     "text": [
      "INFO:tensorflow:Initialize variable module/bilm/CNN/b_cnn_3:0 from checkpoint b'/tmp/tfhub_modules/9bb74bc86f9caffc8c47dd7b33ec4bb354d9602d/variables/variables' with bilm/CNN/b_cnn_3\n"
     ]
    },
    {
     "name": "stderr",
     "output_type": "stream",
     "text": [
      "2018-08-21 16:11:15.517 INFO in 'tensorflow'['tf_logging'] at line 116: Initialize variable module/bilm/CNN/b_cnn_3:0 from checkpoint b'/tmp/tfhub_modules/9bb74bc86f9caffc8c47dd7b33ec4bb354d9602d/variables/variables' with bilm/CNN/b_cnn_3\n"
     ]
    },
    {
     "name": "stdout",
     "output_type": "stream",
     "text": [
      "INFO:tensorflow:Initialize variable module/bilm/CNN/b_cnn_4:0 from checkpoint b'/tmp/tfhub_modules/9bb74bc86f9caffc8c47dd7b33ec4bb354d9602d/variables/variables' with bilm/CNN/b_cnn_4\n"
     ]
    },
    {
     "name": "stderr",
     "output_type": "stream",
     "text": [
      "2018-08-21 16:11:15.523 INFO in 'tensorflow'['tf_logging'] at line 116: Initialize variable module/bilm/CNN/b_cnn_4:0 from checkpoint b'/tmp/tfhub_modules/9bb74bc86f9caffc8c47dd7b33ec4bb354d9602d/variables/variables' with bilm/CNN/b_cnn_4\n"
     ]
    },
    {
     "name": "stdout",
     "output_type": "stream",
     "text": [
      "INFO:tensorflow:Initialize variable module/bilm/CNN/b_cnn_5:0 from checkpoint b'/tmp/tfhub_modules/9bb74bc86f9caffc8c47dd7b33ec4bb354d9602d/variables/variables' with bilm/CNN/b_cnn_5\n"
     ]
    },
    {
     "name": "stderr",
     "output_type": "stream",
     "text": [
      "2018-08-21 16:11:15.529 INFO in 'tensorflow'['tf_logging'] at line 116: Initialize variable module/bilm/CNN/b_cnn_5:0 from checkpoint b'/tmp/tfhub_modules/9bb74bc86f9caffc8c47dd7b33ec4bb354d9602d/variables/variables' with bilm/CNN/b_cnn_5\n"
     ]
    },
    {
     "name": "stdout",
     "output_type": "stream",
     "text": [
      "INFO:tensorflow:Initialize variable module/bilm/CNN/b_cnn_6:0 from checkpoint b'/tmp/tfhub_modules/9bb74bc86f9caffc8c47dd7b33ec4bb354d9602d/variables/variables' with bilm/CNN/b_cnn_6\n"
     ]
    },
    {
     "name": "stderr",
     "output_type": "stream",
     "text": [
      "2018-08-21 16:11:15.536 INFO in 'tensorflow'['tf_logging'] at line 116: Initialize variable module/bilm/CNN/b_cnn_6:0 from checkpoint b'/tmp/tfhub_modules/9bb74bc86f9caffc8c47dd7b33ec4bb354d9602d/variables/variables' with bilm/CNN/b_cnn_6\n"
     ]
    },
    {
     "name": "stdout",
     "output_type": "stream",
     "text": [
      "INFO:tensorflow:Initialize variable module/bilm/CNN_high_0/W_carry:0 from checkpoint b'/tmp/tfhub_modules/9bb74bc86f9caffc8c47dd7b33ec4bb354d9602d/variables/variables' with bilm/CNN_high_0/W_carry\n"
     ]
    },
    {
     "name": "stderr",
     "output_type": "stream",
     "text": [
      "2018-08-21 16:11:15.543 INFO in 'tensorflow'['tf_logging'] at line 116: Initialize variable module/bilm/CNN_high_0/W_carry:0 from checkpoint b'/tmp/tfhub_modules/9bb74bc86f9caffc8c47dd7b33ec4bb354d9602d/variables/variables' with bilm/CNN_high_0/W_carry\n"
     ]
    },
    {
     "name": "stdout",
     "output_type": "stream",
     "text": [
      "INFO:tensorflow:Initialize variable module/bilm/CNN_high_0/W_transform:0 from checkpoint b'/tmp/tfhub_modules/9bb74bc86f9caffc8c47dd7b33ec4bb354d9602d/variables/variables' with bilm/CNN_high_0/W_transform\n"
     ]
    },
    {
     "name": "stderr",
     "output_type": "stream",
     "text": [
      "2018-08-21 16:11:15.551 INFO in 'tensorflow'['tf_logging'] at line 116: Initialize variable module/bilm/CNN_high_0/W_transform:0 from checkpoint b'/tmp/tfhub_modules/9bb74bc86f9caffc8c47dd7b33ec4bb354d9602d/variables/variables' with bilm/CNN_high_0/W_transform\n"
     ]
    },
    {
     "name": "stdout",
     "output_type": "stream",
     "text": [
      "INFO:tensorflow:Initialize variable module/bilm/CNN_high_0/b_carry:0 from checkpoint b'/tmp/tfhub_modules/9bb74bc86f9caffc8c47dd7b33ec4bb354d9602d/variables/variables' with bilm/CNN_high_0/b_carry\n"
     ]
    },
    {
     "name": "stderr",
     "output_type": "stream",
     "text": [
      "2018-08-21 16:11:15.559 INFO in 'tensorflow'['tf_logging'] at line 116: Initialize variable module/bilm/CNN_high_0/b_carry:0 from checkpoint b'/tmp/tfhub_modules/9bb74bc86f9caffc8c47dd7b33ec4bb354d9602d/variables/variables' with bilm/CNN_high_0/b_carry\n"
     ]
    },
    {
     "name": "stdout",
     "output_type": "stream",
     "text": [
      "INFO:tensorflow:Initialize variable module/bilm/CNN_high_0/b_transform:0 from checkpoint b'/tmp/tfhub_modules/9bb74bc86f9caffc8c47dd7b33ec4bb354d9602d/variables/variables' with bilm/CNN_high_0/b_transform\n"
     ]
    },
    {
     "name": "stderr",
     "output_type": "stream",
     "text": [
      "2018-08-21 16:11:15.569 INFO in 'tensorflow'['tf_logging'] at line 116: Initialize variable module/bilm/CNN_high_0/b_transform:0 from checkpoint b'/tmp/tfhub_modules/9bb74bc86f9caffc8c47dd7b33ec4bb354d9602d/variables/variables' with bilm/CNN_high_0/b_transform\n"
     ]
    },
    {
     "name": "stdout",
     "output_type": "stream",
     "text": [
      "INFO:tensorflow:Initialize variable module/bilm/CNN_high_1/W_carry:0 from checkpoint b'/tmp/tfhub_modules/9bb74bc86f9caffc8c47dd7b33ec4bb354d9602d/variables/variables' with bilm/CNN_high_1/W_carry\n"
     ]
    },
    {
     "name": "stderr",
     "output_type": "stream",
     "text": [
      "2018-08-21 16:11:15.574 INFO in 'tensorflow'['tf_logging'] at line 116: Initialize variable module/bilm/CNN_high_1/W_carry:0 from checkpoint b'/tmp/tfhub_modules/9bb74bc86f9caffc8c47dd7b33ec4bb354d9602d/variables/variables' with bilm/CNN_high_1/W_carry\n"
     ]
    },
    {
     "name": "stdout",
     "output_type": "stream",
     "text": [
      "INFO:tensorflow:Initialize variable module/bilm/CNN_high_1/W_transform:0 from checkpoint b'/tmp/tfhub_modules/9bb74bc86f9caffc8c47dd7b33ec4bb354d9602d/variables/variables' with bilm/CNN_high_1/W_transform\n"
     ]
    },
    {
     "name": "stderr",
     "output_type": "stream",
     "text": [
      "2018-08-21 16:11:15.580 INFO in 'tensorflow'['tf_logging'] at line 116: Initialize variable module/bilm/CNN_high_1/W_transform:0 from checkpoint b'/tmp/tfhub_modules/9bb74bc86f9caffc8c47dd7b33ec4bb354d9602d/variables/variables' with bilm/CNN_high_1/W_transform\n"
     ]
    },
    {
     "name": "stdout",
     "output_type": "stream",
     "text": [
      "INFO:tensorflow:Initialize variable module/bilm/CNN_high_1/b_carry:0 from checkpoint b'/tmp/tfhub_modules/9bb74bc86f9caffc8c47dd7b33ec4bb354d9602d/variables/variables' with bilm/CNN_high_1/b_carry\n"
     ]
    },
    {
     "name": "stderr",
     "output_type": "stream",
     "text": [
      "2018-08-21 16:11:15.586 INFO in 'tensorflow'['tf_logging'] at line 116: Initialize variable module/bilm/CNN_high_1/b_carry:0 from checkpoint b'/tmp/tfhub_modules/9bb74bc86f9caffc8c47dd7b33ec4bb354d9602d/variables/variables' with bilm/CNN_high_1/b_carry\n"
     ]
    },
    {
     "name": "stdout",
     "output_type": "stream",
     "text": [
      "INFO:tensorflow:Initialize variable module/bilm/CNN_high_1/b_transform:0 from checkpoint b'/tmp/tfhub_modules/9bb74bc86f9caffc8c47dd7b33ec4bb354d9602d/variables/variables' with bilm/CNN_high_1/b_transform\n"
     ]
    },
    {
     "name": "stderr",
     "output_type": "stream",
     "text": [
      "2018-08-21 16:11:15.592 INFO in 'tensorflow'['tf_logging'] at line 116: Initialize variable module/bilm/CNN_high_1/b_transform:0 from checkpoint b'/tmp/tfhub_modules/9bb74bc86f9caffc8c47dd7b33ec4bb354d9602d/variables/variables' with bilm/CNN_high_1/b_transform\n"
     ]
    },
    {
     "name": "stdout",
     "output_type": "stream",
     "text": [
      "INFO:tensorflow:Initialize variable module/bilm/CNN_proj/W_proj:0 from checkpoint b'/tmp/tfhub_modules/9bb74bc86f9caffc8c47dd7b33ec4bb354d9602d/variables/variables' with bilm/CNN_proj/W_proj\n"
     ]
    },
    {
     "name": "stderr",
     "output_type": "stream",
     "text": [
      "2018-08-21 16:11:15.598 INFO in 'tensorflow'['tf_logging'] at line 116: Initialize variable module/bilm/CNN_proj/W_proj:0 from checkpoint b'/tmp/tfhub_modules/9bb74bc86f9caffc8c47dd7b33ec4bb354d9602d/variables/variables' with bilm/CNN_proj/W_proj\n"
     ]
    },
    {
     "name": "stdout",
     "output_type": "stream",
     "text": [
      "INFO:tensorflow:Initialize variable module/bilm/CNN_proj/b_proj:0 from checkpoint b'/tmp/tfhub_modules/9bb74bc86f9caffc8c47dd7b33ec4bb354d9602d/variables/variables' with bilm/CNN_proj/b_proj\n"
     ]
    },
    {
     "name": "stderr",
     "output_type": "stream",
     "text": [
      "2018-08-21 16:11:15.605 INFO in 'tensorflow'['tf_logging'] at line 116: Initialize variable module/bilm/CNN_proj/b_proj:0 from checkpoint b'/tmp/tfhub_modules/9bb74bc86f9caffc8c47dd7b33ec4bb354d9602d/variables/variables' with bilm/CNN_proj/b_proj\n"
     ]
    },
    {
     "name": "stdout",
     "output_type": "stream",
     "text": [
      "INFO:tensorflow:Initialize variable module/bilm/RNN_0/RNN/MultiRNNCell/Cell0/rnn/lstm_cell/bias:0 from checkpoint b'/tmp/tfhub_modules/9bb74bc86f9caffc8c47dd7b33ec4bb354d9602d/variables/variables' with bilm/RNN_0/RNN/MultiRNNCell/Cell0/rnn/lstm_cell/bias\n"
     ]
    },
    {
     "name": "stderr",
     "output_type": "stream",
     "text": [
      "2018-08-21 16:11:15.612 INFO in 'tensorflow'['tf_logging'] at line 116: Initialize variable module/bilm/RNN_0/RNN/MultiRNNCell/Cell0/rnn/lstm_cell/bias:0 from checkpoint b'/tmp/tfhub_modules/9bb74bc86f9caffc8c47dd7b33ec4bb354d9602d/variables/variables' with bilm/RNN_0/RNN/MultiRNNCell/Cell0/rnn/lstm_cell/bias\n"
     ]
    },
    {
     "name": "stdout",
     "output_type": "stream",
     "text": [
      "INFO:tensorflow:Initialize variable module/bilm/RNN_0/RNN/MultiRNNCell/Cell0/rnn/lstm_cell/kernel:0 from checkpoint b'/tmp/tfhub_modules/9bb74bc86f9caffc8c47dd7b33ec4bb354d9602d/variables/variables' with bilm/RNN_0/RNN/MultiRNNCell/Cell0/rnn/lstm_cell/kernel\n"
     ]
    },
    {
     "name": "stderr",
     "output_type": "stream",
     "text": [
      "2018-08-21 16:11:15.618 INFO in 'tensorflow'['tf_logging'] at line 116: Initialize variable module/bilm/RNN_0/RNN/MultiRNNCell/Cell0/rnn/lstm_cell/kernel:0 from checkpoint b'/tmp/tfhub_modules/9bb74bc86f9caffc8c47dd7b33ec4bb354d9602d/variables/variables' with bilm/RNN_0/RNN/MultiRNNCell/Cell0/rnn/lstm_cell/kernel\n"
     ]
    },
    {
     "name": "stdout",
     "output_type": "stream",
     "text": [
      "INFO:tensorflow:Initialize variable module/bilm/RNN_0/RNN/MultiRNNCell/Cell0/rnn/lstm_cell/projection/kernel:0 from checkpoint b'/tmp/tfhub_modules/9bb74bc86f9caffc8c47dd7b33ec4bb354d9602d/variables/variables' with bilm/RNN_0/RNN/MultiRNNCell/Cell0/rnn/lstm_cell/projection/kernel\n"
     ]
    },
    {
     "name": "stderr",
     "output_type": "stream",
     "text": [
      "2018-08-21 16:11:15.624 INFO in 'tensorflow'['tf_logging'] at line 116: Initialize variable module/bilm/RNN_0/RNN/MultiRNNCell/Cell0/rnn/lstm_cell/projection/kernel:0 from checkpoint b'/tmp/tfhub_modules/9bb74bc86f9caffc8c47dd7b33ec4bb354d9602d/variables/variables' with bilm/RNN_0/RNN/MultiRNNCell/Cell0/rnn/lstm_cell/projection/kernel\n"
     ]
    },
    {
     "name": "stdout",
     "output_type": "stream",
     "text": [
      "INFO:tensorflow:Initialize variable module/bilm/RNN_0/RNN/MultiRNNCell/Cell1/rnn/lstm_cell/bias:0 from checkpoint b'/tmp/tfhub_modules/9bb74bc86f9caffc8c47dd7b33ec4bb354d9602d/variables/variables' with bilm/RNN_0/RNN/MultiRNNCell/Cell1/rnn/lstm_cell/bias\n"
     ]
    },
    {
     "name": "stderr",
     "output_type": "stream",
     "text": [
      "2018-08-21 16:11:15.631 INFO in 'tensorflow'['tf_logging'] at line 116: Initialize variable module/bilm/RNN_0/RNN/MultiRNNCell/Cell1/rnn/lstm_cell/bias:0 from checkpoint b'/tmp/tfhub_modules/9bb74bc86f9caffc8c47dd7b33ec4bb354d9602d/variables/variables' with bilm/RNN_0/RNN/MultiRNNCell/Cell1/rnn/lstm_cell/bias\n"
     ]
    },
    {
     "name": "stdout",
     "output_type": "stream",
     "text": [
      "INFO:tensorflow:Initialize variable module/bilm/RNN_0/RNN/MultiRNNCell/Cell1/rnn/lstm_cell/kernel:0 from checkpoint b'/tmp/tfhub_modules/9bb74bc86f9caffc8c47dd7b33ec4bb354d9602d/variables/variables' with bilm/RNN_0/RNN/MultiRNNCell/Cell1/rnn/lstm_cell/kernel\n"
     ]
    },
    {
     "name": "stderr",
     "output_type": "stream",
     "text": [
      "2018-08-21 16:11:15.638 INFO in 'tensorflow'['tf_logging'] at line 116: Initialize variable module/bilm/RNN_0/RNN/MultiRNNCell/Cell1/rnn/lstm_cell/kernel:0 from checkpoint b'/tmp/tfhub_modules/9bb74bc86f9caffc8c47dd7b33ec4bb354d9602d/variables/variables' with bilm/RNN_0/RNN/MultiRNNCell/Cell1/rnn/lstm_cell/kernel\n"
     ]
    },
    {
     "name": "stdout",
     "output_type": "stream",
     "text": [
      "INFO:tensorflow:Initialize variable module/bilm/RNN_0/RNN/MultiRNNCell/Cell1/rnn/lstm_cell/projection/kernel:0 from checkpoint b'/tmp/tfhub_modules/9bb74bc86f9caffc8c47dd7b33ec4bb354d9602d/variables/variables' with bilm/RNN_0/RNN/MultiRNNCell/Cell1/rnn/lstm_cell/projection/kernel\n"
     ]
    },
    {
     "name": "stderr",
     "output_type": "stream",
     "text": [
      "2018-08-21 16:11:15.646 INFO in 'tensorflow'['tf_logging'] at line 116: Initialize variable module/bilm/RNN_0/RNN/MultiRNNCell/Cell1/rnn/lstm_cell/projection/kernel:0 from checkpoint b'/tmp/tfhub_modules/9bb74bc86f9caffc8c47dd7b33ec4bb354d9602d/variables/variables' with bilm/RNN_0/RNN/MultiRNNCell/Cell1/rnn/lstm_cell/projection/kernel\n"
     ]
    },
    {
     "name": "stdout",
     "output_type": "stream",
     "text": [
      "INFO:tensorflow:Initialize variable module/bilm/RNN_1/RNN/MultiRNNCell/Cell0/rnn/lstm_cell/bias:0 from checkpoint b'/tmp/tfhub_modules/9bb74bc86f9caffc8c47dd7b33ec4bb354d9602d/variables/variables' with bilm/RNN_1/RNN/MultiRNNCell/Cell0/rnn/lstm_cell/bias\n"
     ]
    },
    {
     "name": "stderr",
     "output_type": "stream",
     "text": [
      "2018-08-21 16:11:15.653 INFO in 'tensorflow'['tf_logging'] at line 116: Initialize variable module/bilm/RNN_1/RNN/MultiRNNCell/Cell0/rnn/lstm_cell/bias:0 from checkpoint b'/tmp/tfhub_modules/9bb74bc86f9caffc8c47dd7b33ec4bb354d9602d/variables/variables' with bilm/RNN_1/RNN/MultiRNNCell/Cell0/rnn/lstm_cell/bias\n"
     ]
    },
    {
     "name": "stdout",
     "output_type": "stream",
     "text": [
      "INFO:tensorflow:Initialize variable module/bilm/RNN_1/RNN/MultiRNNCell/Cell0/rnn/lstm_cell/kernel:0 from checkpoint b'/tmp/tfhub_modules/9bb74bc86f9caffc8c47dd7b33ec4bb354d9602d/variables/variables' with bilm/RNN_1/RNN/MultiRNNCell/Cell0/rnn/lstm_cell/kernel\n"
     ]
    },
    {
     "name": "stderr",
     "output_type": "stream",
     "text": [
      "2018-08-21 16:11:15.660 INFO in 'tensorflow'['tf_logging'] at line 116: Initialize variable module/bilm/RNN_1/RNN/MultiRNNCell/Cell0/rnn/lstm_cell/kernel:0 from checkpoint b'/tmp/tfhub_modules/9bb74bc86f9caffc8c47dd7b33ec4bb354d9602d/variables/variables' with bilm/RNN_1/RNN/MultiRNNCell/Cell0/rnn/lstm_cell/kernel\n"
     ]
    },
    {
     "name": "stdout",
     "output_type": "stream",
     "text": [
      "INFO:tensorflow:Initialize variable module/bilm/RNN_1/RNN/MultiRNNCell/Cell0/rnn/lstm_cell/projection/kernel:0 from checkpoint b'/tmp/tfhub_modules/9bb74bc86f9caffc8c47dd7b33ec4bb354d9602d/variables/variables' with bilm/RNN_1/RNN/MultiRNNCell/Cell0/rnn/lstm_cell/projection/kernel\n"
     ]
    },
    {
     "name": "stderr",
     "output_type": "stream",
     "text": [
      "2018-08-21 16:11:15.667 INFO in 'tensorflow'['tf_logging'] at line 116: Initialize variable module/bilm/RNN_1/RNN/MultiRNNCell/Cell0/rnn/lstm_cell/projection/kernel:0 from checkpoint b'/tmp/tfhub_modules/9bb74bc86f9caffc8c47dd7b33ec4bb354d9602d/variables/variables' with bilm/RNN_1/RNN/MultiRNNCell/Cell0/rnn/lstm_cell/projection/kernel\n"
     ]
    },
    {
     "name": "stdout",
     "output_type": "stream",
     "text": [
      "INFO:tensorflow:Initialize variable module/bilm/RNN_1/RNN/MultiRNNCell/Cell1/rnn/lstm_cell/bias:0 from checkpoint b'/tmp/tfhub_modules/9bb74bc86f9caffc8c47dd7b33ec4bb354d9602d/variables/variables' with bilm/RNN_1/RNN/MultiRNNCell/Cell1/rnn/lstm_cell/bias\n"
     ]
    },
    {
     "name": "stderr",
     "output_type": "stream",
     "text": [
      "2018-08-21 16:11:15.674 INFO in 'tensorflow'['tf_logging'] at line 116: Initialize variable module/bilm/RNN_1/RNN/MultiRNNCell/Cell1/rnn/lstm_cell/bias:0 from checkpoint b'/tmp/tfhub_modules/9bb74bc86f9caffc8c47dd7b33ec4bb354d9602d/variables/variables' with bilm/RNN_1/RNN/MultiRNNCell/Cell1/rnn/lstm_cell/bias\n"
     ]
    },
    {
     "name": "stdout",
     "output_type": "stream",
     "text": [
      "INFO:tensorflow:Initialize variable module/bilm/RNN_1/RNN/MultiRNNCell/Cell1/rnn/lstm_cell/kernel:0 from checkpoint b'/tmp/tfhub_modules/9bb74bc86f9caffc8c47dd7b33ec4bb354d9602d/variables/variables' with bilm/RNN_1/RNN/MultiRNNCell/Cell1/rnn/lstm_cell/kernel\n"
     ]
    },
    {
     "name": "stderr",
     "output_type": "stream",
     "text": [
      "2018-08-21 16:11:15.681 INFO in 'tensorflow'['tf_logging'] at line 116: Initialize variable module/bilm/RNN_1/RNN/MultiRNNCell/Cell1/rnn/lstm_cell/kernel:0 from checkpoint b'/tmp/tfhub_modules/9bb74bc86f9caffc8c47dd7b33ec4bb354d9602d/variables/variables' with bilm/RNN_1/RNN/MultiRNNCell/Cell1/rnn/lstm_cell/kernel\n"
     ]
    },
    {
     "name": "stdout",
     "output_type": "stream",
     "text": [
      "INFO:tensorflow:Initialize variable module/bilm/RNN_1/RNN/MultiRNNCell/Cell1/rnn/lstm_cell/projection/kernel:0 from checkpoint b'/tmp/tfhub_modules/9bb74bc86f9caffc8c47dd7b33ec4bb354d9602d/variables/variables' with bilm/RNN_1/RNN/MultiRNNCell/Cell1/rnn/lstm_cell/projection/kernel\n"
     ]
    },
    {
     "name": "stderr",
     "output_type": "stream",
     "text": [
      "2018-08-21 16:11:15.689 INFO in 'tensorflow'['tf_logging'] at line 116: Initialize variable module/bilm/RNN_1/RNN/MultiRNNCell/Cell1/rnn/lstm_cell/projection/kernel:0 from checkpoint b'/tmp/tfhub_modules/9bb74bc86f9caffc8c47dd7b33ec4bb354d9602d/variables/variables' with bilm/RNN_1/RNN/MultiRNNCell/Cell1/rnn/lstm_cell/projection/kernel\n"
     ]
    },
    {
     "name": "stdout",
     "output_type": "stream",
     "text": [
      "INFO:tensorflow:Initialize variable module/bilm/char_embed:0 from checkpoint b'/tmp/tfhub_modules/9bb74bc86f9caffc8c47dd7b33ec4bb354d9602d/variables/variables' with bilm/char_embed\n"
     ]
    },
    {
     "name": "stderr",
     "output_type": "stream",
     "text": [
      "2018-08-21 16:11:15.696 INFO in 'tensorflow'['tf_logging'] at line 116: Initialize variable module/bilm/char_embed:0 from checkpoint b'/tmp/tfhub_modules/9bb74bc86f9caffc8c47dd7b33ec4bb354d9602d/variables/variables' with bilm/char_embed\n",
      "2018-08-21 16:11:19.488 INFO in 'deeppavlov.models.embedders.glove_embedder'['glove_embedder'] at line 60: [loading embeddings from `/home/kostrovskiy/prog/AI/NLP/DeepPavlov/download/embeddings/glove.6B/glove.6B.100d.txt`]\n",
      "2018-08-21 16:11:19.489 INFO in 'gensim.models.keyedvectors'['keyedvectors'] at line 204: loading projection weights from /home/kostrovskiy/prog/AI/NLP/DeepPavlov/download/embeddings/glove.6B/glove.6B.100d.txt\n",
      "2018-08-21 16:11:19.490 DEBUG in 'smart_open.smart_open_lib'['smart_open_lib'] at line 176: {'kw': {}, 'mode': 'rb', 'uri': '/home/kostrovskiy/prog/AI/NLP/DeepPavlov/download/embeddings/glove.6B/glove.6B.100d.txt'}\n",
      "2018-08-21 16:11:48.840 INFO in 'gensim.models.keyedvectors'['keyedvectors'] at line 266: loaded (400000, 100) matrix from /home/kostrovskiy/prog/AI/NLP/DeepPavlov/download/embeddings/glove.6B/glove.6B.100d.txt\n"
     ]
    }
   ],
   "source": [
    "embedder = CompositeEmbedder(use_elmo=True, elmo_scale=1, cap_scale=1, use_cap_feat=True, use_glove=True)"
   ]
  },
  {
   "cell_type": "code",
   "execution_count": 6,
   "metadata": {
    "scrolled": true
   },
   "outputs": [
    {
     "name": "stdout",
     "output_type": "stream",
     "text": [
      "NE type: EVENT\n",
      "Num of train sentences: 681\n",
      "Num of valid sentences: 127\n",
      "Num of test sentences: 56\n",
      "Sample 1\n",
      "Train\n",
      "SVM classifier model\n",
      "F1 scores: {'svm': 0.7529976019184653}\n",
      "F1 chunk scores: {'svm': 0.40251572327044016}\n",
      "Sample 2\n",
      "Train\n",
      "SVM classifier model\n",
      "F1 scores: {'svm': 0.7358916478555305}\n",
      "F1 chunk scores: {'svm': 0.4418604651162791}\n",
      "Sample 3\n",
      "Train\n",
      "SVM classifier model\n",
      "F1 scores: {'svm': 0.6960352422907489}\n",
      "F1 chunk scores: {'svm': 0.3958333333333334}\n",
      "Sample 4\n",
      "Train\n",
      "SVM classifier model\n",
      "F1 scores: {'svm': 0.6997389033942559}\n",
      "F1 chunk scores: {'svm': 0.24324324324324323}\n",
      "Sample 5\n",
      "Train\n",
      "SVM classifier model\n",
      "F1 scores: {'svm': 0.7409470752089136}\n",
      "F1 chunk scores: {'svm': 0.34013605442176875}\n",
      "Sample 6\n",
      "Train\n",
      "SVM classifier model\n",
      "F1 scores: {'svm': 0.7371007371007371}\n",
      "F1 chunk scores: {'svm': 0.36585365853658536}\n",
      "Sample 7\n",
      "Train\n",
      "SVM classifier model\n",
      "F1 scores: {'svm': 0.7750677506775067}\n",
      "F1 chunk scores: {'svm': 0.42758620689655175}\n",
      "Sample 8\n",
      "Train\n",
      "SVM classifier model\n",
      "F1 scores: {'svm': 0.6980198019801981}\n",
      "F1 chunk scores: {'svm': 0.32369942196531787}\n",
      "Sample 9\n",
      "Train\n",
      "SVM classifier model\n",
      "F1 scores: {'svm': 0.7475728155339805}\n",
      "F1 chunk scores: {'svm': 0.4125}\n",
      "Sample 10\n",
      "Train\n",
      "SVM classifier model\n",
      "F1 scores: {'svm': 0.684863523573201}\n",
      "F1 chunk scores: {'svm': 0.34090909090909094}\n",
      "svm F1: mean = 0.7268235099533538 std = 0.028464431387008216\n",
      "NE type: LOC\n",
      "Num of train sentences: 1312\n",
      "Num of valid sentences: 179\n",
      "Num of test sentences: 150\n",
      "Sample 1\n",
      "Train\n",
      "SVM classifier model\n",
      "F1 scores: {'svm': 0.7026194144838213}\n",
      "F1 chunk scores: {'svm': 0.5454545454545454}\n",
      "Sample 2\n",
      "Train\n",
      "SVM classifier model\n",
      "F1 scores: {'svm': 0.6666666666666667}\n",
      "F1 chunk scores: {'svm': 0.46719160104986884}\n",
      "Sample 3\n",
      "Train\n",
      "SVM classifier model\n",
      "F1 scores: {'svm': 0.6533333333333333}\n",
      "F1 chunk scores: {'svm': 0.4491017964071856}\n",
      "Sample 4\n",
      "Train\n",
      "SVM classifier model\n",
      "F1 scores: {'svm': 0.6329113924050632}\n",
      "F1 chunk scores: {'svm': 0.41346153846153855}\n",
      "Sample 5\n",
      "Train\n",
      "SVM classifier model\n",
      "F1 scores: {'svm': 0.6355421686746988}\n",
      "F1 chunk scores: {'svm': 0.4147727272727273}\n",
      "Sample 6\n",
      "Train\n",
      "SVM classifier model\n",
      "F1 scores: {'svm': 0.6621160409556314}\n",
      "F1 chunk scores: {'svm': 0.4161849710982659}\n",
      "Sample 7\n",
      "Train\n",
      "SVM classifier model\n",
      "F1 scores: {'svm': 0.6403940886699508}\n",
      "F1 chunk scores: {'svm': 0.43956043956043955}\n",
      "Sample 8\n",
      "Train\n",
      "SVM classifier model\n",
      "F1 scores: {'svm': 0.687813021702838}\n",
      "F1 chunk scores: {'svm': 0.4676923076923076}\n",
      "Sample 9\n",
      "Train\n",
      "SVM classifier model\n",
      "F1 scores: {'svm': 0.6003210272873194}\n",
      "F1 chunk scores: {'svm': 0.39560439560439553}\n",
      "Sample 10\n",
      "Train\n",
      "SVM classifier model\n",
      "F1 scores: {'svm': 0.6905132192846034}\n",
      "F1 chunk scores: {'svm': 0.48338368580060426}\n",
      "svm F1: mean = 0.6572230373463925 std = 0.029690463516772618\n",
      "NE type: FAC\n",
      "Num of train sentences: 765\n",
      "Num of valid sentences: 104\n",
      "Num of test sentences: 101\n",
      "Sample 1\n",
      "Train\n",
      "SVM classifier model\n",
      "F1 scores: {'svm': 0.7533092659446449}\n",
      "F1 chunk scores: {'svm': 0.5221932114882507}\n",
      "Sample 2\n",
      "Train\n",
      "SVM classifier model\n",
      "F1 scores: {'svm': 0.7090909090909091}\n",
      "F1 chunk scores: {'svm': 0.47887323943661975}\n",
      "Sample 3\n",
      "Train\n",
      "SVM classifier model\n",
      "F1 scores: {'svm': 0.7027027027027026}\n",
      "F1 chunk scores: {'svm': 0.4878048780487805}\n",
      "Sample 4\n",
      "Train\n",
      "SVM classifier model\n",
      "F1 scores: {'svm': 0.7139303482587066}\n",
      "F1 chunk scores: {'svm': 0.4802110817941952}\n",
      "Sample 5\n",
      "Train\n",
      "SVM classifier model\n",
      "F1 scores: {'svm': 0.6969026548672567}\n",
      "F1 chunk scores: {'svm': 0.47317073170731705}\n",
      "Sample 6\n",
      "Train\n",
      "SVM classifier model\n",
      "F1 scores: {'svm': 0.7071583514099783}\n",
      "F1 chunk scores: {'svm': 0.497584541062802}\n",
      "Sample 7\n",
      "Train\n",
      "SVM classifier model\n",
      "F1 scores: {'svm': 0.7035398230088495}\n",
      "F1 chunk scores: {'svm': 0.5164556962025316}\n",
      "Sample 8\n",
      "Train\n",
      "SVM classifier model\n",
      "F1 scores: {'svm': 0.7342657342657344}\n",
      "F1 chunk scores: {'svm': 0.5}\n",
      "Sample 9\n",
      "Train\n",
      "SVM classifier model\n",
      "F1 scores: {'svm': 0.7414880201765447}\n",
      "F1 chunk scores: {'svm': 0.49275362318840576}\n",
      "Sample 10\n",
      "Train\n",
      "SVM classifier model\n",
      "F1 scores: {'svm': 0.7309523809523809}\n",
      "F1 chunk scores: {'svm': 0.5193370165745856}\n",
      "svm F1: mean = 0.7193340190677707 std = 0.018206182667735486\n",
      "NE type: CARDINAL\n",
      "Num of train sentences: 5791\n",
      "Num of valid sentences: 736\n",
      "Num of test sentences: 772\n",
      "Sample 1\n",
      "Train\n",
      "SVM classifier model\n",
      "F1 scores: {'svm': 0.7733990147783251}\n",
      "F1 chunk scores: {'svm': 0.6216216216216215}\n",
      "Sample 2\n",
      "Train\n",
      "SVM classifier model\n",
      "F1 scores: {'svm': 0.8096885813148789}\n",
      "F1 chunk scores: {'svm': 0.7322834645669292}\n",
      "Sample 3\n",
      "Train\n",
      "SVM classifier model\n",
      "F1 scores: {'svm': 0.7375}\n",
      "F1 chunk scores: {'svm': 0.640625}\n",
      "Sample 4\n",
      "Train\n",
      "SVM classifier model\n",
      "F1 scores: {'svm': 0.691131498470948}\n",
      "F1 chunk scores: {'svm': 0.5882352941176471}\n",
      "Sample 5\n",
      "Train\n",
      "SVM classifier model\n",
      "F1 scores: {'svm': 0.7701492537313434}\n",
      "F1 chunk scores: {'svm': 0.6397058823529411}\n",
      "Sample 6\n",
      "Train\n",
      "SVM classifier model\n",
      "F1 scores: {'svm': 0.8200589970501475}\n",
      "F1 chunk scores: {'svm': 0.706766917293233}\n",
      "Sample 7\n",
      "Train\n",
      "SVM classifier model\n",
      "F1 scores: {'svm': 0.7627627627627628}\n",
      "F1 chunk scores: {'svm': 0.6528925619834712}\n",
      "Sample 8\n",
      "Train\n",
      "SVM classifier model\n",
      "F1 scores: {'svm': 0.746268656716418}\n",
      "F1 chunk scores: {'svm': 0.6412213740458016}\n",
      "Sample 9\n",
      "Train\n",
      "SVM classifier model\n",
      "F1 scores: {'svm': 0.7537993920972644}\n",
      "F1 chunk scores: {'svm': 0.6494464944649446}\n",
      "Sample 10\n",
      "Train\n",
      "SVM classifier model\n",
      "F1 scores: {'svm': 0.7155963302752294}\n",
      "F1 chunk scores: {'svm': 0.6264150943396227}\n",
      "svm F1: mean = 0.7580354487197318 std = 0.03711525446964061\n",
      "NE type: QUANTITY\n",
      "Num of train sentences: 553\n",
      "Num of valid sentences: 79\n",
      "Num of test sentences: 86\n",
      "Sample 1\n",
      "Train\n",
      "SVM classifier model\n",
      "F1 scores: {'svm': 0.736024844720497}\n",
      "F1 chunk scores: {'svm': 0.3576642335766423}\n",
      "Sample 2\n",
      "Train\n",
      "SVM classifier model\n",
      "F1 scores: {'svm': 0.7603550295857988}\n",
      "F1 chunk scores: {'svm': 0.4269662921348314}\n",
      "Sample 3\n",
      "Train\n",
      "SVM classifier model\n",
      "F1 scores: {'svm': 0.800557880055788}\n",
      "F1 chunk scores: {'svm': 0.5259259259259259}\n",
      "Sample 4\n",
      "Train\n",
      "SVM classifier model\n",
      "F1 scores: {'svm': 0.8166915052160952}\n",
      "F1 chunk scores: {'svm': 0.5378787878787878}\n",
      "Sample 5\n",
      "Train\n",
      "SVM classifier model\n",
      "F1 scores: {'svm': 0.7860394537177541}\n",
      "F1 chunk scores: {'svm': 0.39583333333333337}\n",
      "Sample 6\n",
      "Train\n",
      "SVM classifier model\n",
      "F1 scores: {'svm': 0.7960893854748603}\n",
      "F1 chunk scores: {'svm': 0.5259259259259259}\n",
      "Sample 7\n",
      "Train\n",
      "SVM classifier model\n",
      "F1 scores: {'svm': 0.8066465256797581}\n",
      "F1 chunk scores: {'svm': 0.49624060150375937}\n",
      "Sample 8\n",
      "Train\n",
      "SVM classifier model\n",
      "F1 scores: {'svm': 0.7994056463595839}\n",
      "F1 chunk scores: {'svm': 0.48872180451127817}\n",
      "Sample 9\n",
      "Train\n",
      "SVM classifier model\n",
      "F1 scores: {'svm': 0.7669616519174043}\n",
      "F1 chunk scores: {'svm': 0.35135135135135137}\n",
      "Sample 10\n",
      "Train\n",
      "SVM classifier model\n",
      "F1 scores: {'svm': 0.8113475177304965}\n",
      "F1 chunk scores: {'svm': 0.5559845559845559}\n",
      "svm F1: mean = 0.7880119440458035 std = 0.02445678804361024\n",
      "NE type: NORP\n",
      "Num of train sentences: 5297\n",
      "Num of valid sentences: 686\n",
      "Num of test sentences: 671\n",
      "Sample 1\n",
      "Train\n",
      "SVM classifier model\n",
      "F1 scores: {'svm': 0.8118081180811807}\n",
      "F1 chunk scores: {'svm': 0.7836734693877552}\n",
      "Sample 2\n",
      "Train\n",
      "SVM classifier model\n",
      "F1 scores: {'svm': 0.8456375838926175}\n",
      "F1 chunk scores: {'svm': 0.7940074906367042}\n",
      "Sample 3\n",
      "Train\n",
      "SVM classifier model\n",
      "F1 scores: {'svm': 0.8506493506493505}\n",
      "F1 chunk scores: {'svm': 0.7881040892193311}\n",
      "Sample 4\n",
      "Train\n",
      "SVM classifier model\n",
      "F1 scores: {'svm': 0.7592592592592592}\n",
      "F1 chunk scores: {'svm': 0.7030716723549487}\n",
      "Sample 5\n",
      "Train\n",
      "SVM classifier model\n",
      "F1 scores: {'svm': 0.7958477508650519}\n",
      "F1 chunk scores: {'svm': 0.7547169811320755}\n",
      "Sample 6\n",
      "Train\n",
      "SVM classifier model\n",
      "F1 scores: {'svm': 0.7621776504297995}\n",
      "F1 chunk scores: {'svm': 0.6996699669966996}\n",
      "Sample 7\n",
      "Train\n",
      "SVM classifier model\n",
      "F1 scores: {'svm': 0.8543046357615894}\n",
      "F1 chunk scores: {'svm': 0.7732342007434942}\n",
      "Sample 8\n",
      "Train\n",
      "SVM classifier model\n",
      "F1 scores: {'svm': 0.8222996515679442}\n",
      "F1 chunk scores: {'svm': 0.77992277992278}\n",
      "Sample 9\n",
      "Train\n",
      "SVM classifier model\n",
      "F1 scores: {'svm': 0.8111888111888111}\n",
      "F1 chunk scores: {'svm': 0.7644787644787644}\n",
      "Sample 10\n",
      "Train\n",
      "SVM classifier model\n",
      "F1 scores: {'svm': 0.8773234200743495}\n",
      "F1 chunk scores: {'svm': 0.84375}\n",
      "svm F1: mean = 0.8190496231769954 std = 0.03717074652812029\n",
      "NE type: ORDINAL\n",
      "Num of train sentences: 1502\n",
      "Num of valid sentences: 210\n",
      "Num of test sentences: 184\n",
      "Sample 1\n",
      "Train\n"
     ]
    },
    {
     "name": "stdout",
     "output_type": "stream",
     "text": [
      "SVM classifier model\n",
      "F1 scores: {'svm': 0.937799043062201}\n",
      "F1 chunk scores: {'svm': 0.9411764705882352}\n",
      "Sample 2\n",
      "Train\n",
      "SVM classifier model\n",
      "F1 scores: {'svm': 0.9289099526066351}\n",
      "F1 chunk scores: {'svm': 0.9371980676328504}\n",
      "Sample 3\n",
      "Train\n",
      "SVM classifier model\n",
      "F1 scores: {'svm': 0.937799043062201}\n",
      "F1 chunk scores: {'svm': 0.9371980676328502}\n",
      "Sample 4\n",
      "Train\n",
      "SVM classifier model\n",
      "F1 scores: {'svm': 0.9519230769230769}\n",
      "F1 chunk scores: {'svm': 0.9514563106796118}\n",
      "Sample 5\n",
      "Train\n",
      "SVM classifier model\n",
      "F1 scores: {'svm': 0.9363636363636363}\n",
      "F1 chunk scores: {'svm': 0.9308755760368663}\n",
      "Sample 6\n",
      "Train\n",
      "SVM classifier model\n",
      "F1 scores: {'svm': 0.9528301886792453}\n",
      "F1 chunk scores: {'svm': 0.9519230769230768}\n",
      "Sample 7\n",
      "Train\n",
      "SVM classifier model\n",
      "F1 scores: {'svm': 0.967741935483871}\n",
      "F1 chunk scores: {'svm': 0.958139534883721}\n",
      "Sample 8\n",
      "Train\n",
      "SVM classifier model\n",
      "F1 scores: {'svm': 0.9556650246305419}\n",
      "F1 chunk scores: {'svm': 0.9651741293532338}\n",
      "Sample 9\n",
      "Train\n",
      "SVM classifier model\n",
      "F1 scores: {'svm': 0.9532710280373832}\n",
      "F1 chunk scores: {'svm': 0.9478672985781992}\n",
      "Sample 10\n",
      "Train\n",
      "SVM classifier model\n",
      "F1 scores: {'svm': 0.9289099526066351}\n",
      "F1 chunk scores: {'svm': 0.9320388349514563}\n",
      "svm F1: mean = 0.9451212881455426 std = 0.012265869778176182\n",
      "NE type: WORK_OF_ART\n",
      "Num of train sentences: 854\n",
      "Num of valid sentences: 129\n",
      "Num of test sentences: 142\n",
      "Sample 1\n",
      "Train\n",
      "SVM classifier model\n",
      "F1 scores: {'svm': 0.7314439946018894}\n",
      "F1 chunk scores: {'svm': 0.4645161290322581}\n",
      "Sample 2\n",
      "Train\n",
      "SVM classifier model\n",
      "F1 scores: {'svm': 0.6978508217446271}\n",
      "F1 chunk scores: {'svm': 0.36950146627565983}\n",
      "Sample 3\n",
      "Train\n",
      "SVM classifier model\n",
      "F1 scores: {'svm': 0.6527777777777778}\n",
      "F1 chunk scores: {'svm': 0.3465045592705167}\n",
      "Sample 4\n",
      "Train\n",
      "SVM classifier model\n",
      "F1 scores: {'svm': 0.7294938917975567}\n",
      "F1 chunk scores: {'svm': 0.3809523809523809}\n",
      "Sample 5\n",
      "Train\n",
      "SVM classifier model\n",
      "F1 scores: {'svm': 0.6846361185983827}\n",
      "F1 chunk scores: {'svm': 0.2064056939501779}\n",
      "Sample 6\n",
      "Train\n",
      "SVM classifier model\n",
      "F1 scores: {'svm': 0.7777777777777777}\n",
      "F1 chunk scores: {'svm': 0.44368600682593856}\n",
      "Sample 7\n",
      "Train\n",
      "SVM classifier model\n",
      "F1 scores: {'svm': 0.6821917808219179}\n",
      "F1 chunk scores: {'svm': 0.21639344262295082}\n",
      "Sample 8\n",
      "Train\n",
      "SVM classifier model\n",
      "F1 scores: {'svm': 0.6480304955527318}\n",
      "F1 chunk scores: {'svm': 0.20218579234972675}\n",
      "Sample 9\n",
      "Train\n",
      "SVM classifier model\n",
      "F1 scores: {'svm': 0.6340852130325815}\n",
      "F1 chunk scores: {'svm': 0.192090395480226}\n",
      "Sample 10\n",
      "Train\n",
      "SVM classifier model\n",
      "F1 scores: {'svm': 0.7017994858611826}\n",
      "F1 chunk scores: {'svm': 0.29900332225913623}\n",
      "svm F1: mean = 0.6940087357566426 std = 0.04169605513380963\n",
      "NE type: PERSON\n",
      "Num of train sentences: 12195\n",
      "Num of valid sentences: 1553\n",
      "Num of test sentences: 1573\n",
      "Sample 1\n",
      "Train\n",
      "SVM classifier model\n",
      "F1 scores: {'svm': 0.903061224489796}\n",
      "F1 chunk scores: {'svm': 0.7931034482758621}\n",
      "Sample 2\n",
      "Train\n",
      "SVM classifier model\n",
      "F1 scores: {'svm': 0.8191721132897604}\n",
      "F1 chunk scores: {'svm': 0.6690140845070423}\n",
      "Sample 3\n",
      "Train\n",
      "SVM classifier model\n",
      "F1 scores: {'svm': 0.8618266978922716}\n",
      "F1 chunk scores: {'svm': 0.7661290322580645}\n",
      "Sample 4\n",
      "Train\n",
      "SVM classifier model\n",
      "F1 scores: {'svm': 0.8951048951048951}\n",
      "F1 chunk scores: {'svm': 0.7799227799227799}\n",
      "Sample 5\n",
      "Train\n",
      "SVM classifier model\n",
      "F1 scores: {'svm': 0.8689956331877731}\n",
      "F1 chunk scores: {'svm': 0.7293233082706767}\n",
      "Sample 6\n",
      "Train\n",
      "SVM classifier model\n",
      "F1 scores: {'svm': 0.8577235772357723}\n",
      "F1 chunk scores: {'svm': 0.738255033557047}\n",
      "Sample 7\n",
      "Train\n",
      "SVM classifier model\n",
      "F1 scores: {'svm': 0.8519362186788155}\n",
      "F1 chunk scores: {'svm': 0.7067669172932333}\n",
      "Sample 8\n",
      "Train\n",
      "SVM classifier model\n",
      "F1 scores: {'svm': 0.8808510638297873}\n",
      "F1 chunk scores: {'svm': 0.7234042553191489}\n",
      "Sample 9\n",
      "Train\n",
      "SVM classifier model\n",
      "F1 scores: {'svm': 0.8986784140969163}\n",
      "F1 chunk scores: {'svm': 0.782006920415225}\n",
      "Sample 10\n",
      "Train\n",
      "SVM classifier model\n",
      "F1 scores: {'svm': 0.8280254777070063}\n",
      "F1 chunk scores: {'svm': 0.695364238410596}\n",
      "svm F1: mean = 0.8665375315512793 std = 0.027264936140505153\n"
     ]
    }
   ],
   "source": [
    "from collections import defaultdict\n",
    "f1_scores = {}\n",
    "th_list = {}\n",
    "for ne_type in NE_TYPES:\n",
    "    print('NE type: {}'.format(ne_type))\n",
    "    dataset = filter_dataset_by_ne_types(dataset_orig, ne_type, preserveBIO=True)\n",
    "    f1_scores[ne_type] = {}\n",
    "    th_list[ne_type] = {'ne_centroid':[], 'ne_nearest':[]}\n",
    "    for model in MODELS:\n",
    "        f1_scores[ne_type][model] = {'values':[], 'values_chunk':[]}\n",
    "#     f1_scores[ne_type]['avg'] = {'values':[]}'ne_centroid', 'ne_nearest'\n",
    "    for idx_sample in range(N_SAMPLES):\n",
    "        print('Sample {}'.format(idx_sample+1))\n",
    "        tokens_train,tags_train = get_data_sample(dataset['train'], N_EXAMPLES)\n",
    "        tags_train = removeBIOFromTags(tags_train)\n",
    "        tokens_test,tags_test = get_data_sample(dataset['test'], min(N_TEST_SENTENCES, len(dataset['test'])))\n",
    "        tags_test_bio = tags_test\n",
    "        tags_test_bio_flat = flatten_list(tags_test_bio)\n",
    "        tags_test = removeBIOFromTags(tags_test)\n",
    "        y_test = np.array([1 if t == 'T' else 0 for seq in tags_test for t in seq])\n",
    "        ner_bin_clf = FewshotNerBinaryClassifier(embedder)\n",
    "        ner_bin_clf.train_on_batch(tokens_train, tags_train)\n",
    "        results = ner_bin_clf.predict(tokens_test, MODELS, MODEL_PARAMS)\n",
    "        if USE_CV:\n",
    "            cv_res = select_sim_thresholds_with_cv(tokens_train,tags_train, embedder)\n",
    "        pred_avg = np.zeros(y_test.size)\n",
    "        n_models_avg = 0\n",
    "        for model in MODELS:\n",
    "            if model in ['ne_centroid', 'ne_nearest'] and USE_CV:\n",
    "                pred= pred_class_labels_bin(flat_sim_one_type(results[model]['sim'], sim_type='cosine'), cv_res[model]['threshold'])\n",
    "                th_list[ne_type][model].append(cv_res[model]['threshold'])\n",
    "            else:\n",
    "                pred = results[model]['pred']\n",
    "            pred_tags_bio = predToTags(pred, accountBIO=True)\n",
    "            if model in ['ne_centroid', 'weighted_kNN', 'centroid_kNN', 'svm']:   \n",
    "                pred_avg += pred\n",
    "                n_models_avg += 1\n",
    "            f1 = f1_score(y_test, pred)\n",
    "#             print(tags_test_bio)\n",
    "#             print(pred_tags_bio)\n",
    "            f1_chunk = precision_recall_f1_chunks(tags_test_bio_flat, pred_tags_bio, print_results=False)['__total__']['f1']/100\n",
    "            f1_scores[ne_type][model]['values'].append(f1)\n",
    "            f1_scores[ne_type][model]['values_chunk'].append(f1_chunk)\n",
    "        pred_avg /= n_models_avg\n",
    "#         pred_avg = np.array(map(lambda x: 1 if x >= 0.5 else 0, pred_avg))\n",
    "#         f1 = f1_score(y_test, pred_avg)\n",
    "#         f1_scores[ne_type]['avg']['values'].append(f1)\n",
    "        cur_f1_scores_dict = {k: f1_scores[ne_type][k]['values'][-1] for k in f1_scores[ne_type].keys()}\n",
    "        print('F1 scores: {}'.format(cur_f1_scores_dict))\n",
    "        cur_f1_scores_dict = {k: f1_scores[ne_type][k]['values_chunk'][-1] for k in f1_scores[ne_type].keys()}\n",
    "        print('F1 chunk scores: {}'.format(cur_f1_scores_dict))                                          \n",
    "    for model in MODELS:\n",
    "        f1_scores[ne_type][model]['mean'] = np.mean(f1_scores[ne_type][model]['values'])\n",
    "        f1_scores[ne_type][model]['std'] = np.std(f1_scores[ne_type][model]['values'])\n",
    "        print('{} F1: mean = {} std = {}'.format(model, f1_scores[ne_type][model]['mean'], f1_scores[ne_type][model]['std']))\n",
    "        f1_scores[ne_type][model]['mean_chunk'] = np.mean(f1_scores[ne_type][model]['values_chunk'])\n",
    "        f1_scores[ne_type][model]['std_chunk'] = np.std(f1_scores[ne_type][model]['values_chunk'])\n",
    "        if model in ['ne_centroid', 'ne_nearest'] and USE_CV:\n",
    "            th_list[ne_type][model] = np.mean(th_list[ne_type][model])"
   ]
  },
  {
   "cell_type": "markdown",
   "metadata": {},
   "source": [
    "### Print results"
   ]
  },
  {
   "cell_type": "code",
   "execution_count": 7,
   "metadata": {},
   "outputs": [
    {
     "name": "stdout",
     "output_type": "stream",
     "text": [
      "MODEL   \tMEAN    \tSTD     \tMEAN_CHUNK\tSTD_CHUNK\n",
      "---------------EVENT---------------\n",
      "svm     \t72.68   \t2.85    \t36.94   \t5.65    \n",
      "---------------LOC---------------\n",
      "svm     \t65.72   \t2.97    \t44.92   \t4.20    \n",
      "---------------FAC---------------\n",
      "svm     \t71.93   \t1.82    \t49.68   \t1.67    \n",
      "---------------CARDINAL---------------\n",
      "svm     \t75.80   \t3.71    \t64.99   \t3.93    \n",
      "---------------QUANTITY---------------\n",
      "svm     \t78.80   \t2.45    \t46.62   \t7.29    \n",
      "---------------NORP---------------\n",
      "svm     \t81.90   \t3.72    \t76.85   \t4.04    \n",
      "---------------ORDINAL---------------\n",
      "svm     \t94.51   \t1.23    \t94.53   \t1.09    \n",
      "---------------WORK_OF_ART---------------\n",
      "svm     \t69.40   \t4.17    \t31.21   \t9.84    \n",
      "---------------PERSON---------------\n",
      "svm     \t86.65   \t2.73    \t73.83   \t3.92    \n"
     ]
    }
   ],
   "source": [
    "print('{:<8s}\\t{:<8s}\\t{:<8s}\\t{:<8s}\\t{:<8s}'.format('MODEL', 'MEAN', 'STD', 'MEAN_CHUNK', 'STD_CHUNK'))\n",
    "for ne_type in NE_TYPES:\n",
    "    print('---------------{}---------------'.format(ne_type))\n",
    "    for model in MODELS:\n",
    "        print('{:<8s}\\t{:<8.2f}\\t{:<8.2f}\\t{:<8.2f}\\t{:<8.2f}'.format(model, f1_scores[ne_type][model]['mean']*100, f1_scores[ne_type][model]['std']*100,\n",
    "                                                f1_scores[ne_type][model]['mean_chunk']*100, f1_scores[ne_type][model]['std_chunk']*100))"
   ]
  },
  {
   "cell_type": "code",
   "execution_count": 8,
   "metadata": {},
   "outputs": [],
   "source": [
    "if USE_CV:\n",
    "    print('Thresholds chosen with cross-validation:')\n",
    "    print(th_list)"
   ]
  },
  {
   "cell_type": "code",
   "execution_count": null,
   "metadata": {},
   "outputs": [],
   "source": []
  }
 ],
 "metadata": {
  "kernelspec": {
   "display_name": "Python 3",
   "language": "python",
   "name": "python3"
  },
  "language_info": {
   "codemirror_mode": {
    "name": "ipython",
    "version": 3
   },
   "file_extension": ".py",
   "mimetype": "text/x-python",
   "name": "python",
   "nbconvert_exporter": "python",
   "pygments_lexer": "ipython3",
   "version": "3.6.5"
  }
 },
 "nbformat": 4,
 "nbformat_minor": 2
}
