{
 "cells": [
  {
   "cell_type": "code",
   "execution_count": 1,
   "metadata": {},
   "outputs": [
    {
     "name": "stderr",
     "output_type": "stream",
     "text": [
      "2018-08-27 16:50:14.687 INFO in 'summarizer.preprocessing.cleaner'['textcleaner'] at line 37: 'pattern' package not found; tag filters are not available for English\n",
      "2018-08-27 16:50:14.693 DEBUG in 'matplotlib.backends'['__init__'] at line 90: backend module://ipykernel.pylab.backend_inline version unknown\n"
     ]
    }
   ],
   "source": [
    "import copy\n",
    "import os\n",
    "import numpy as np\n",
    "import matplotlib.pyplot as plt\n",
    "from sklearn.metrics import f1_score\n",
    "import tensorflow as tf\n",
    "import deeppavlov\n",
    "from deeppavlov.dataset_readers.ontonotes_reader import OntonotesReader\n",
    "\n",
    "from deeppavlov.models.embedders.glove_embedder import GloVeEmbedder"
   ]
  },
  {
   "cell_type": "code",
   "execution_count": 2,
   "metadata": {},
   "outputs": [],
   "source": [
    "from src.fewshot_ner_viz_component.fewshot_ner_binary_classifier import *\n",
    "from src.fewshot_ner_viz_component.data_processing import *\n",
    "from src.fewshot_ner_viz_component.utils import *"
   ]
  },
  {
   "cell_type": "markdown",
   "metadata": {},
   "source": [
    "### Configuration parameters"
   ]
  },
  {
   "cell_type": "code",
   "execution_count": 3,
   "metadata": {},
   "outputs": [],
   "source": [
    "NE_TYPES = ['PERSON']\n",
    "# NE_TYPES = ['PERSON', 'GPE', 'ORG', 'LOC']\n",
    "# NE_TYPES = ['GPE','DATE','ORG','EVENT','LOC','FAC','CARDINAL','QUANTITY','NORP','ORDINAL','WORK_OF_ART','PERSON']\n",
    "# NE_TYPES = ['EVENT','LOC','FAC','CARDINAL','QUANTITY','NORP','ORDINAL','WORK_OF_ART','PERSON']\n",
    "N_EXAMPLES = 1\n",
    "N_TEST_SENTENCES = 100\n",
    "N_SAMPLES = 10\n",
    "MODELS = ['ne_centroid', 'ne_nearest', 'weighted_kNN', 'centroid_kNN', 'svm']\n",
    "# MODELS = ['ne_centroid', 'ne_nearest']\n",
    "MODELS = ['ne_centroid', 'weighted_kNN', 'svm']\n",
    "MODEL_PARAMS = {'ne_centroid': {'sim_type': 'cosine'},\n",
    "               'ne_nearest': {'sim_type': 'cosine'},\n",
    "               'weighted_kNN': {'k': 2, 'metric': 'cosine', 'use_class_weights': False, 'use_sim_weights': True},\n",
    "               'centroid_kNN': {'k': 10, 'metric': 'dot_prod', 'use_class_weights': False},\n",
    "               'svm': {}}\n",
    "USE_CV = False"
   ]
  },
  {
   "cell_type": "code",
   "execution_count": 4,
   "metadata": {},
   "outputs": [
    {
     "name": "stdout",
     "output_type": "stream",
     "text": [
      "Num of train sentences: 75187\n",
      "Num of valid sentences: 9603\n",
      "Num of test sentences: 9479\n",
      "[(['Actions', 'had', 'to', 'be', 'taken', 'to', 'break', 'through', 'the', 'blockade', '.'], ['O', 'O', 'O', 'O', 'O', 'O', 'O', 'O', 'O', 'O', 'O']), (['On', 'a', 'night', 'in', 'late', 'July', '1940', ',', 'the', 'atmosphere', 'in', 'Zhuanbi', 'Village', 'in', 'Shaanxi', 'was', 'unusual', '.'], ['O', 'B-DATE', 'I-DATE', 'I-DATE', 'I-DATE', 'I-DATE', 'I-DATE', 'O', 'O', 'O', 'O', 'B-GPE', 'I-GPE', 'O', 'B-GPE', 'O', 'O', 'O']), (['Villager', 'Xiao', 'Jianghe', 'has', 'a', 'vivid', 'memory', 'of', 'this', 'piece', 'of', 'history', '.'], ['O', 'B-PERSON', 'I-PERSON', 'O', 'O', 'O', 'O', 'O', 'O', 'O', 'O', 'O', 'O']), (['On', 'that', 'dark', 'night', ',', 'everyone', 'was', 'sleeping', 'when', 'human', 'voices', 'and', 'neighing', 'horses', 'were', 'heard', 'within', 'the', 'village', '.'], ['O', 'B-TIME', 'I-TIME', 'I-TIME', 'O', 'O', 'O', 'O', 'O', 'O', 'O', 'O', 'O', 'O', 'O', 'O', 'O', 'O', 'O', 'O']), (['People', 'all', 'got', 'up', '.'], ['O', 'O', 'O', 'O', 'O']), (['Did', 'something', 'happen', '?'], ['O', 'O', 'O', 'O']), (['Some', 'folks', 'got', 'up', '.'], ['O', 'O', 'O', 'O', 'O']), (['Opening', 'the', 'street', 'gate', ',', 'they', 'saw', 'a', 'soldier', 'standing', 'by', 'the', 'gate', '.'], ['O', 'O', 'O', 'O', 'O', 'O', 'O', 'O', 'O', 'O', 'O', 'O', 'O', 'O']), (['Folks', ',', 'go', 'back', ',', 'go', 'back', ',', 'nothing', 'is', 'wrong', '.'], ['O', 'O', 'O', 'O', 'O', 'O', 'O', 'O', 'O', 'O', 'O', 'O']), (['Our', 'troops', 'are', 'just', 'going', 'to', 'stay', 'here', 'for', 'the', 'night', '.'], ['O', 'O', 'O', 'O', 'O', 'O', 'O', 'O', 'O', 'O', 'O', 'O'])]\n"
     ]
    }
   ],
   "source": [
    "dataset_orig = read_data()"
   ]
  },
  {
   "cell_type": "code",
   "execution_count": 5,
   "metadata": {},
   "outputs": [
    {
     "name": "stdout",
     "output_type": "stream",
     "text": [
      "INFO:tensorflow:Using /tmp/tfhub_modules to cache modules.\n"
     ]
    },
    {
     "name": "stderr",
     "output_type": "stream",
     "text": [
      "2018-08-27 16:50:15.739 INFO in 'tensorflow'['tf_logging'] at line 159: Using /tmp/tfhub_modules to cache modules.\n"
     ]
    },
    {
     "name": "stdout",
     "output_type": "stream",
     "text": [
      "Restoring finetuned ELMo params from ./tmp/elmo.ckpt\n",
      "INFO:tensorflow:Restoring parameters from ./tmp/elmo.ckpt\n"
     ]
    },
    {
     "name": "stderr",
     "output_type": "stream",
     "text": [
      "2018-08-27 16:50:16.516 INFO in 'tensorflow'['tf_logging'] at line 115: Restoring parameters from ./tmp/elmo.ckpt\n",
      "2018-08-27 16:50:16.755 INFO in 'deeppavlov.models.embedders.glove_embedder'['glove_embedder'] at line 96: [loading embeddings from `/home/clement/DeepPavlov/download/embeddings/glove.6B/glove.6B.100d.txt`]\n",
      "2018-08-27 16:50:16.755 INFO in 'gensim.models.utils_any2vec'['utils_any2vec'] at line 170: loading projection weights from /home/clement/DeepPavlov/download/embeddings/glove.6B/glove.6B.100d.txt\n",
      "2018-08-27 16:50:16.755 DEBUG in 'smart_open.smart_open_lib'['smart_open_lib'] at line 176: {'kw': {}, 'mode': 'rb', 'uri': '/home/clement/DeepPavlov/download/embeddings/glove.6B/glove.6B.100d.txt'}\n",
      "2018-08-27 16:50:39.228 INFO in 'gensim.models.utils_any2vec'['utils_any2vec'] at line 232: loaded (400000, 100) matrix from /home/clement/DeepPavlov/download/embeddings/glove.6B/glove.6B.100d.txt\n"
     ]
    },
    {
     "name": "stdout",
     "output_type": "stream",
     "text": [
      "INFO:tensorflow:Saver not created because there are no variables in the graph to restore\n"
     ]
    },
    {
     "name": "stderr",
     "output_type": "stream",
     "text": [
      "2018-08-27 16:50:39.418 INFO in 'tensorflow'['tf_logging'] at line 115: Saver not created because there are no variables in the graph to restore\n"
     ]
    }
   ],
   "source": [
    "embedder = CompositeEmbedder(use_elmo=True, elmo_scale=1, cap_scale=1, use_cap_feat=True, use_glove=True, elmo_params={'trainable_cells': True, 'restore_path': \"./tmp/elmo.ckpt\"})"
   ]
  },
  {
   "cell_type": "code",
   "execution_count": 6,
   "metadata": {
    "scrolled": true
   },
   "outputs": [
    {
     "name": "stdout",
     "output_type": "stream",
     "text": [
      "NE type: PERSON\n",
      "Num of train sentences: 12195\n",
      "Num of valid sentences: 1553\n",
      "Num of test sentences: 1573\n",
      "Sample 1\n",
      "Train\n",
      "INFO:tensorflow:Saver not created because there are no variables in the graph to restore\n"
     ]
    },
    {
     "name": "stderr",
     "output_type": "stream",
     "text": [
      "2018-08-27 16:50:42.689 INFO in 'tensorflow'['tf_logging'] at line 115: Saver not created because there are no variables in the graph to restore\n"
     ]
    },
    {
     "name": "stdout",
     "output_type": "stream",
     "text": [
      "INFO:tensorflow:Saver not created because there are no variables in the graph to restore\n"
     ]
    },
    {
     "name": "stderr",
     "output_type": "stream",
     "text": [
      "2018-08-27 16:50:43.573 INFO in 'tensorflow'['tf_logging'] at line 115: Saver not created because there are no variables in the graph to restore\n"
     ]
    },
    {
     "name": "stdout",
     "output_type": "stream",
     "text": [
      "NE centroid similarity model\n",
      "SVM classifier model\n",
      "Weighted kNN model\n",
      "k = 2, metric: cosine\n",
      "[====================] 100%\n",
      "F1 scores: {'ne_centroid': 0.7380281690140846, 'weighted_kNN': 0.6935779816513762, 'svm': 0.6412698412698412}\n",
      "F1 chunk scores: {'ne_centroid': 0.6434782608695652, 'weighted_kNN': 0.5149700598802396, 'svm': 0.6057692307692308}\n",
      "Sample 2\n",
      "Train\n",
      "INFO:tensorflow:Saver not created because there are no variables in the graph to restore\n"
     ]
    },
    {
     "name": "stderr",
     "output_type": "stream",
     "text": [
      "2018-08-27 16:50:47.548 INFO in 'tensorflow'['tf_logging'] at line 115: Saver not created because there are no variables in the graph to restore\n"
     ]
    },
    {
     "name": "stdout",
     "output_type": "stream",
     "text": [
      "INFO:tensorflow:Saver not created because there are no variables in the graph to restore\n"
     ]
    },
    {
     "name": "stderr",
     "output_type": "stream",
     "text": [
      "2018-08-27 16:50:48.359 INFO in 'tensorflow'['tf_logging'] at line 115: Saver not created because there are no variables in the graph to restore\n"
     ]
    },
    {
     "name": "stdout",
     "output_type": "stream",
     "text": [
      "NE centroid similarity model\n",
      "SVM classifier model\n",
      "Weighted kNN model\n",
      "k = 2, metric: cosine\n",
      "[====================] 100%\n",
      "F1 scores: {'ne_centroid': 0.6158730158730159, 'weighted_kNN': 0.8109452736318408, 'svm': 0.5136986301369864}\n",
      "F1 chunk scores: {'ne_centroid': 0.4756756756756757, 'weighted_kNN': 0.6239316239316239, 'svm': 0.378698224852071}\n",
      "Sample 3\n",
      "Train\n",
      "INFO:tensorflow:Saver not created because there are no variables in the graph to restore\n"
     ]
    },
    {
     "name": "stderr",
     "output_type": "stream",
     "text": [
      "2018-08-27 16:50:52.798 INFO in 'tensorflow'['tf_logging'] at line 115: Saver not created because there are no variables in the graph to restore\n"
     ]
    },
    {
     "name": "stdout",
     "output_type": "stream",
     "text": [
      "INFO:tensorflow:Saver not created because there are no variables in the graph to restore\n"
     ]
    },
    {
     "name": "stderr",
     "output_type": "stream",
     "text": [
      "2018-08-27 16:50:53.874 INFO in 'tensorflow'['tf_logging'] at line 115: Saver not created because there are no variables in the graph to restore\n"
     ]
    },
    {
     "name": "stdout",
     "output_type": "stream",
     "text": [
      "NE centroid similarity model\n",
      "SVM classifier model\n",
      "Weighted kNN model\n",
      "k = 2, metric: cosine\n",
      "[====================] 100%\n",
      "F1 scores: {'ne_centroid': 0.6775956284153005, 'weighted_kNN': 0.7223382045929018, 'svm': 0.08733624454148473}\n",
      "F1 chunk scores: {'ne_centroid': 0.48559670781893005, 'weighted_kNN': 0.5514950166112957, 'svm': 0.07936507936507937}\n",
      "Sample 4\n",
      "Train\n",
      "INFO:tensorflow:Saver not created because there are no variables in the graph to restore\n"
     ]
    },
    {
     "name": "stderr",
     "output_type": "stream",
     "text": [
      "2018-08-27 16:50:58.96 INFO in 'tensorflow'['tf_logging'] at line 115: Saver not created because there are no variables in the graph to restore\n"
     ]
    },
    {
     "name": "stdout",
     "output_type": "stream",
     "text": [
      "INFO:tensorflow:Saver not created because there are no variables in the graph to restore\n"
     ]
    },
    {
     "name": "stderr",
     "output_type": "stream",
     "text": [
      "2018-08-27 16:50:59.5 INFO in 'tensorflow'['tf_logging'] at line 115: Saver not created because there are no variables in the graph to restore\n"
     ]
    },
    {
     "name": "stdout",
     "output_type": "stream",
     "text": [
      "NE centroid similarity model\n",
      "SVM classifier model\n",
      "Weighted kNN model\n",
      "k = 2, metric: cosine\n",
      "[====================] 100%\n",
      "F1 scores: {'ne_centroid': 0.7193877551020408, 'weighted_kNN': 0.731958762886598, 'svm': 0.5806451612903226}\n",
      "F1 chunk scores: {'ne_centroid': 0.5042016806722689, 'weighted_kNN': 0.48437500000000006, 'svm': 0.4}\n",
      "Sample 5\n",
      "Train\n",
      "INFO:tensorflow:Saver not created because there are no variables in the graph to restore\n"
     ]
    },
    {
     "name": "stderr",
     "output_type": "stream",
     "text": [
      "2018-08-27 16:51:03.296 INFO in 'tensorflow'['tf_logging'] at line 115: Saver not created because there are no variables in the graph to restore\n"
     ]
    },
    {
     "name": "stdout",
     "output_type": "stream",
     "text": [
      "INFO:tensorflow:Saver not created because there are no variables in the graph to restore\n"
     ]
    },
    {
     "name": "stderr",
     "output_type": "stream",
     "text": [
      "2018-08-27 16:51:04.309 INFO in 'tensorflow'['tf_logging'] at line 115: Saver not created because there are no variables in the graph to restore\n"
     ]
    },
    {
     "name": "stdout",
     "output_type": "stream",
     "text": [
      "NE centroid similarity model\n",
      "SVM classifier model\n",
      "Weighted kNN model\n",
      "k = 2, metric: cosine\n",
      "[====================] 100%\n",
      "F1 scores: {'ne_centroid': 0.6964285714285714, 'weighted_kNN': 0.6355140186915887, 'svm': 0.3448275862068966}\n",
      "F1 chunk scores: {'ne_centroid': 0.4385964912280702, 'weighted_kNN': 0.3348017621145374, 'svm': 0.14201183431952663}\n",
      "Sample 6\n",
      "Train\n",
      "INFO:tensorflow:Saver not created because there are no variables in the graph to restore\n"
     ]
    },
    {
     "name": "stderr",
     "output_type": "stream",
     "text": [
      "2018-08-27 16:51:11.240 INFO in 'tensorflow'['tf_logging'] at line 115: Saver not created because there are no variables in the graph to restore\n"
     ]
    },
    {
     "name": "stdout",
     "output_type": "stream",
     "text": [
      "INFO:tensorflow:Saver not created because there are no variables in the graph to restore\n"
     ]
    },
    {
     "name": "stderr",
     "output_type": "stream",
     "text": [
      "2018-08-27 16:51:12.286 INFO in 'tensorflow'['tf_logging'] at line 115: Saver not created because there are no variables in the graph to restore\n"
     ]
    },
    {
     "name": "stdout",
     "output_type": "stream",
     "text": [
      "NE centroid similarity model\n",
      "SVM classifier model\n",
      "Weighted kNN model\n",
      "k = 2, metric: cosine\n",
      "[====================] 100%\n",
      "F1 scores: {'ne_centroid': 0.11764705882352941, 'weighted_kNN': 0.8685714285714285, 'svm': 0.5399239543726235}\n",
      "F1 chunk scores: {'ne_centroid': 0.13636363636363635, 'weighted_kNN': 0.752136752136752, 'svm': 0.3867403314917127}\n",
      "Sample 7\n",
      "Train\n",
      "INFO:tensorflow:Saver not created because there are no variables in the graph to restore\n"
     ]
    },
    {
     "name": "stderr",
     "output_type": "stream",
     "text": [
      "2018-08-27 16:51:17.255 INFO in 'tensorflow'['tf_logging'] at line 115: Saver not created because there are no variables in the graph to restore\n"
     ]
    },
    {
     "name": "stdout",
     "output_type": "stream",
     "text": [
      "INFO:tensorflow:Saver not created because there are no variables in the graph to restore\n"
     ]
    },
    {
     "name": "stderr",
     "output_type": "stream",
     "text": [
      "2018-08-27 16:51:18.359 INFO in 'tensorflow'['tf_logging'] at line 115: Saver not created because there are no variables in the graph to restore\n"
     ]
    },
    {
     "name": "stdout",
     "output_type": "stream",
     "text": [
      "NE centroid similarity model\n",
      "SVM classifier model\n",
      "Weighted kNN model\n",
      "k = 2, metric: cosine\n",
      "[====================] 100%\n",
      "F1 scores: {'ne_centroid': 0.7034883720930234, 'weighted_kNN': 0.7846481876332623, 'svm': 0.8054794520547945}\n",
      "F1 chunk scores: {'ne_centroid': 0.5188679245283019, 'weighted_kNN': 0.4980842911877395, 'svm': 0.68141592920354}\n",
      "Sample 8\n",
      "Train\n",
      "INFO:tensorflow:Saver not created because there are no variables in the graph to restore\n"
     ]
    },
    {
     "name": "stderr",
     "output_type": "stream",
     "text": [
      "2018-08-27 16:51:25.605 INFO in 'tensorflow'['tf_logging'] at line 115: Saver not created because there are no variables in the graph to restore\n"
     ]
    },
    {
     "name": "stdout",
     "output_type": "stream",
     "text": [
      "INFO:tensorflow:Saver not created because there are no variables in the graph to restore\n"
     ]
    },
    {
     "name": "stderr",
     "output_type": "stream",
     "text": [
      "2018-08-27 16:51:26.734 INFO in 'tensorflow'['tf_logging'] at line 115: Saver not created because there are no variables in the graph to restore\n"
     ]
    },
    {
     "name": "stdout",
     "output_type": "stream",
     "text": [
      "NE centroid similarity model\n",
      "SVM classifier model\n",
      "Weighted kNN model\n",
      "k = 2, metric: cosine\n",
      "[====================] 100%\n",
      "F1 scores: {'ne_centroid': 0.647887323943662, 'weighted_kNN': 0.7909090909090909, 'svm': 0.0}\n",
      "F1 chunk scores: {'ne_centroid': 0.3589743589743589, 'weighted_kNN': 0.6132404181184669, 'svm': 0.0}\n",
      "Sample 9\n",
      "Train\n"
     ]
    },
    {
     "name": "stderr",
     "output_type": "stream",
     "text": [
      "/home/clement/virtenv/env/lib/python3.6/site-packages/sklearn/metrics/classification.py:1135: UndefinedMetricWarning: F-score is ill-defined and being set to 0.0 due to no predicted samples.\n",
      "  'precision', 'predicted', average, warn_for)\n"
     ]
    },
    {
     "name": "stdout",
     "output_type": "stream",
     "text": [
      "INFO:tensorflow:Saver not created because there are no variables in the graph to restore\n"
     ]
    },
    {
     "name": "stderr",
     "output_type": "stream",
     "text": [
      "2018-08-27 16:51:30.927 INFO in 'tensorflow'['tf_logging'] at line 115: Saver not created because there are no variables in the graph to restore\n"
     ]
    },
    {
     "name": "stdout",
     "output_type": "stream",
     "text": [
      "INFO:tensorflow:Saver not created because there are no variables in the graph to restore\n"
     ]
    },
    {
     "name": "stderr",
     "output_type": "stream",
     "text": [
      "2018-08-27 16:51:32.176 INFO in 'tensorflow'['tf_logging'] at line 115: Saver not created because there are no variables in the graph to restore\n"
     ]
    },
    {
     "name": "stdout",
     "output_type": "stream",
     "text": [
      "NE centroid similarity model\n",
      "SVM classifier model\n",
      "Weighted kNN model\n",
      "k = 2, metric: cosine\n",
      "[====================] 100%\n",
      "F1 scores: {'ne_centroid': 0.6732026143790849, 'weighted_kNN': 0.6796116504854369, 'svm': 0.37398373983739835}\n",
      "F1 chunk scores: {'ne_centroid': 0.4820512820512821, 'weighted_kNN': 0.35454545454545455, 'svm': 0.2666666666666667}\n",
      "Sample 10\n",
      "Train\n",
      "INFO:tensorflow:Saver not created because there are no variables in the graph to restore\n"
     ]
    },
    {
     "name": "stderr",
     "output_type": "stream",
     "text": [
      "2018-08-27 16:51:37.548 INFO in 'tensorflow'['tf_logging'] at line 115: Saver not created because there are no variables in the graph to restore\n"
     ]
    },
    {
     "name": "stdout",
     "output_type": "stream",
     "text": [
      "INFO:tensorflow:Saver not created because there are no variables in the graph to restore\n"
     ]
    },
    {
     "name": "stderr",
     "output_type": "stream",
     "text": [
      "2018-08-27 16:51:38.836 INFO in 'tensorflow'['tf_logging'] at line 115: Saver not created because there are no variables in the graph to restore\n"
     ]
    },
    {
     "name": "stdout",
     "output_type": "stream",
     "text": [
      "NE centroid similarity model\n",
      "SVM classifier model\n",
      "Weighted kNN model\n",
      "k = 2, metric: cosine\n",
      "[====================] 100%\n",
      "F1 scores: {'ne_centroid': 0.8175182481751825, 'weighted_kNN': 0.8432203389830508, 'svm': 0.8525345622119815}\n",
      "F1 chunk scores: {'ne_centroid': 0.6192468619246863, 'weighted_kNN': 0.5683453237410072, 'svm': 0.6718749999999999}\n",
      "ne_centroid F1: mean = 0.6407056757247496 std = 0.1818371261797493\n",
      "weighted_kNN F1: mean = 0.7561294938036575 std = 0.0716223081964162\n",
      "svm F1: mean = 0.47396991719223297 std = 0.2644456459579353\n"
     ]
    }
   ],
   "source": [
    "from collections import defaultdict\n",
    "f1_scores = {}\n",
    "th_list = {}\n",
    "for ne_type in NE_TYPES:\n",
    "    print('NE type: {}'.format(ne_type))\n",
    "    dataset = filter_dataset_by_ne_types(dataset_orig, ne_type, preserveBIO=True)\n",
    "    f1_scores[ne_type] = {}\n",
    "    th_list[ne_type] = {'ne_centroid':[], 'ne_nearest':[]}\n",
    "    for model in MODELS:\n",
    "        f1_scores[ne_type][model] = {'values':[], 'values_chunk':[]}\n",
    "#     f1_scores[ne_type]['avg'] = {'values':[]}'ne_centroid', 'ne_nearest'\n",
    "    for idx_sample in range(N_SAMPLES):\n",
    "        print('Sample {}'.format(idx_sample+1))\n",
    "        tokens_train,tags_train = get_data_sample(dataset['train'], N_EXAMPLES)\n",
    "        tags_train = removeBIOFromTags(tags_train)\n",
    "        tokens_test,tags_test = get_data_sample(dataset['test'], min(N_TEST_SENTENCES, len(dataset['test'])))\n",
    "        tags_test_bio = tags_test\n",
    "        tags_test_bio_flat = flatten_list(tags_test_bio)\n",
    "        tags_test = removeBIOFromTags(tags_test)\n",
    "        y_test = np.array([1 if t == 'T' else 0 for seq in tags_test for t in seq])\n",
    "        ner_bin_clf = FewshotNerBinaryClassifier(embedder)\n",
    "        ner_bin_clf.train_on_batch(tokens_train, tags_train)\n",
    "        results = ner_bin_clf.predict(tokens_test, MODELS, MODEL_PARAMS)\n",
    "        if USE_CV:\n",
    "            cv_res = select_sim_thresholds_with_cv(tokens_train,tags_train, embedder)\n",
    "        pred_avg = np.zeros(y_test.size)\n",
    "        n_models_avg = 0\n",
    "        for model in MODELS:\n",
    "            if model in ['ne_centroid', 'ne_nearest'] and USE_CV:\n",
    "                pred= pred_class_labels_bin(flat_sim_one_type(results[model]['sim'], sim_type='cosine'), cv_res[model]['threshold'])\n",
    "                th_list[ne_type][model].append(cv_res[model]['threshold'])\n",
    "            else:\n",
    "                pred = results[model]['pred']\n",
    "            pred_tags_bio = predToTags(pred, accountBIO=True)\n",
    "            if model in ['ne_centroid', 'weighted_kNN', 'centroid_kNN', 'svm']:   \n",
    "                pred_avg += pred\n",
    "                n_models_avg += 1\n",
    "            f1 = f1_score(y_test, pred)\n",
    "#             print(tags_test_bio)\n",
    "#             print(pred_tags_bio)\n",
    "            f1_chunk = precision_recall_f1_chunks(tags_test_bio_flat, pred_tags_bio, print_results=False)['__total__']['f1']/100\n",
    "            f1_scores[ne_type][model]['values'].append(f1)\n",
    "            f1_scores[ne_type][model]['values_chunk'].append(f1_chunk)\n",
    "        pred_avg /= n_models_avg\n",
    "#         pred_avg = np.array(map(lambda x: 1 if x >= 0.5 else 0, pred_avg))\n",
    "#         f1 = f1_score(y_test, pred_avg)\n",
    "#         f1_scores[ne_type]['avg']['values'].append(f1)\n",
    "        cur_f1_scores_dict = {k: f1_scores[ne_type][k]['values'][-1] for k in f1_scores[ne_type].keys()}\n",
    "        print('F1 scores: {}'.format(cur_f1_scores_dict))\n",
    "        cur_f1_scores_dict = {k: f1_scores[ne_type][k]['values_chunk'][-1] for k in f1_scores[ne_type].keys()}\n",
    "        print('F1 chunk scores: {}'.format(cur_f1_scores_dict))                                          \n",
    "    for model in MODELS:\n",
    "        f1_scores[ne_type][model]['mean'] = np.mean(f1_scores[ne_type][model]['values'])\n",
    "        f1_scores[ne_type][model]['std'] = np.std(f1_scores[ne_type][model]['values'])\n",
    "        print('{} F1: mean = {} std = {}'.format(model, f1_scores[ne_type][model]['mean'], f1_scores[ne_type][model]['std']))\n",
    "        f1_scores[ne_type][model]['mean_chunk'] = np.mean(f1_scores[ne_type][model]['values_chunk'])\n",
    "        f1_scores[ne_type][model]['std_chunk'] = np.std(f1_scores[ne_type][model]['values_chunk'])\n",
    "        if model in ['ne_centroid', 'ne_nearest'] and USE_CV:\n",
    "            th_list[ne_type][model] = np.mean(th_list[ne_type][model])"
   ]
  },
  {
   "cell_type": "markdown",
   "metadata": {},
   "source": [
    "### Print results"
   ]
  },
  {
   "cell_type": "code",
   "execution_count": 7,
   "metadata": {},
   "outputs": [
    {
     "name": "stdout",
     "output_type": "stream",
     "text": [
      "MODEL   \tMEAN    \tSTD     \tMEAN_CHUNK\tSTD_CHUNK\n",
      "---------------PERSON---------------\n",
      "ne_centroid\t64.07   \t18.18   \t46.63   \t13.45   \n",
      "weighted_kNN\t75.61   \t7.16    \t52.96   \t11.80   \n",
      "svm     \t47.40   \t26.44   \t36.13   \t22.98   \n"
     ]
    }
   ],
   "source": [
    "print('{:<8s}\\t{:<8s}\\t{:<8s}\\t{:<8s}\\t{:<8s}'.format('MODEL', 'MEAN', 'STD', 'MEAN_CHUNK', 'STD_CHUNK'))\n",
    "for ne_type in NE_TYPES:\n",
    "    print('---------------{}---------------'.format(ne_type))\n",
    "    for model in MODELS:\n",
    "        print('{:<8s}\\t{:<8.2f}\\t{:<8.2f}\\t{:<8.2f}\\t{:<8.2f}'.format(model, f1_scores[ne_type][model]['mean']*100, f1_scores[ne_type][model]['std']*100,\n",
    "                                                f1_scores[ne_type][model]['mean_chunk']*100, f1_scores[ne_type][model]['std_chunk']*100))"
   ]
  },
  {
   "cell_type": "code",
   "execution_count": 8,
   "metadata": {},
   "outputs": [],
   "source": [
    "if USE_CV:\n",
    "    print('Thresholds chosen with cross-validation:')\n",
    "    print(th_list)"
   ]
  },
  {
   "cell_type": "code",
   "execution_count": null,
   "metadata": {},
   "outputs": [],
   "source": []
  }
 ],
 "metadata": {
  "kernelspec": {
   "display_name": "Python 3",
   "language": "python",
   "name": "python3"
  },
  "language_info": {
   "codemirror_mode": {
    "name": "ipython",
    "version": 3
   },
   "file_extension": ".py",
   "mimetype": "text/x-python",
   "name": "python",
   "nbconvert_exporter": "python",
   "pygments_lexer": "ipython3",
   "version": "3.6.5"
  }
 },
 "nbformat": 4,
 "nbformat_minor": 2
}
