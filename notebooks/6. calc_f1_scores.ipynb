{
 "cells": [
  {
   "cell_type": "code",
   "execution_count": 1,
   "metadata": {},
   "outputs": [
    {
     "name": "stderr",
     "output_type": "stream",
     "text": [
      "/home/kostrovskiy/prog/AI/NLP/DeepPavlov/env/lib/python3.6/site-packages/h5py/__init__.py:36: FutureWarning: Conversion of the second argument of issubdtype from `float` to `np.floating` is deprecated. In future, it will be treated as `np.float64 == np.dtype(float).type`.\n",
      "  from ._conv import register_converters as _register_converters\n",
      "Using TensorFlow backend.\n",
      "[nltk_data] Downloading package punkt to\n",
      "[nltk_data]     /home/kostrovskiy/nltk_data...\n",
      "[nltk_data]   Package punkt is already up-to-date!\n",
      "[nltk_data] Downloading package stopwords to\n",
      "[nltk_data]     /home/kostrovskiy/nltk_data...\n",
      "[nltk_data]   Package stopwords is already up-to-date!\n",
      "[nltk_data] Downloading package perluniprops to\n",
      "[nltk_data]     /home/kostrovskiy/nltk_data...\n",
      "[nltk_data]   Package perluniprops is already up-to-date!\n",
      "[nltk_data] Downloading package nonbreaking_prefixes to\n",
      "[nltk_data]     /home/kostrovskiy/nltk_data...\n",
      "[nltk_data]   Package nonbreaking_prefixes is already up-to-date!\n",
      "2018-08-15 15:35:46.991 DEBUG in 'gensim.models.doc2vec'['doc2vec'] at line 73: Fast version of gensim.models.doc2vec is being used\n",
      "2018-08-15 15:35:46.997 INFO in 'summa.preprocessing.cleaner'['textcleaner'] at line 20: 'pattern' package not found; tag filters are not available for English\n",
      "2018-08-15 15:35:52.918 DEBUG in 'matplotlib.backends'['__init__'] at line 90: backend module://ipykernel.pylab.backend_inline version unknown\n"
     ]
    }
   ],
   "source": [
    "import copy\n",
    "import os\n",
    "import numpy as np\n",
    "import matplotlib.pyplot as plt\n",
    "from sklearn.metrics import f1_score\n",
    "import tensorflow as tf\n",
    "import deeppavlov\n",
    "from deeppavlov.dataset_readers.ontonotes_reader import OntonotesReader\n",
    "\n",
    "from deeppavlov.models.embedders.glove_embedder import GloVeEmbedder"
   ]
  },
  {
   "cell_type": "code",
   "execution_count": 2,
   "metadata": {},
   "outputs": [],
   "source": [
    "from src.fewshot_ner_viz_component.fewshot_ner_binary_classifier import FewshotNerBinaryClassifier, CompositeEmbedder\n",
    "from src.fewshot_ner_viz_component.data_processing import *"
   ]
  },
  {
   "cell_type": "markdown",
   "metadata": {},
   "source": [
    "### Configuration parameters"
   ]
  },
  {
   "cell_type": "code",
   "execution_count": 3,
   "metadata": {},
   "outputs": [],
   "source": [
    "NE_TYPES = ['PERSON']\n",
    "NE_TYPES = ['PERSON', 'GPE', 'ORG', 'LOC']\n",
    "N_EXAMPLES = 10\n",
    "N_TEST_SENTENCES = 100\n",
    "N_SAMPLES = 10\n",
    "MODELS = ['ne_centroid', 'ne_nearest', 'weighted_kNN', 'centroid_kNN', 'svm']\n",
    "MODEL_PARAMS = {'ne_centroid': {'sim_type': 'cosine'},\n",
    "               'ne_nearest': {'sim_type': 'cosine'},\n",
    "               'weighted_kNN': {'k': 1, 'metric': 'cosine', 'use_class_weights': False, 'use_sim_weights': True},\n",
    "               'centroid_kNN': {'k': 10, 'metric': 'dot_prod', 'use_class_weights': False},\n",
    "               'svm': {}}"
   ]
  },
  {
   "cell_type": "code",
   "execution_count": 4,
   "metadata": {},
   "outputs": [
    {
     "name": "stdout",
     "output_type": "stream",
     "text": [
      "Num of train sentences: 75187\n",
      "Num of valid sentences: 9603\n",
      "Num of test sentences: 9479\n",
      "[(['Actions', 'had', 'to', 'be', 'taken', 'to', 'break', 'through', 'the', 'blockade', '.'], ['O', 'O', 'O', 'O', 'O', 'O', 'O', 'O', 'O', 'O', 'O']), (['On', 'a', 'night', 'in', 'late', 'July', '1940', ',', 'the', 'atmosphere', 'in', 'Zhuanbi', 'Village', 'in', 'Shaanxi', 'was', 'unusual', '.'], ['O', 'B-DATE', 'I-DATE', 'I-DATE', 'I-DATE', 'I-DATE', 'I-DATE', 'O', 'O', 'O', 'O', 'B-GPE', 'I-GPE', 'O', 'B-GPE', 'O', 'O', 'O']), (['Villager', 'Xiao', 'Jianghe', 'has', 'a', 'vivid', 'memory', 'of', 'this', 'piece', 'of', 'history', '.'], ['O', 'B-PERSON', 'I-PERSON', 'O', 'O', 'O', 'O', 'O', 'O', 'O', 'O', 'O', 'O']), (['On', 'that', 'dark', 'night', ',', 'everyone', 'was', 'sleeping', 'when', 'human', 'voices', 'and', 'neighing', 'horses', 'were', 'heard', 'within', 'the', 'village', '.'], ['O', 'B-TIME', 'I-TIME', 'I-TIME', 'O', 'O', 'O', 'O', 'O', 'O', 'O', 'O', 'O', 'O', 'O', 'O', 'O', 'O', 'O', 'O']), (['People', 'all', 'got', 'up', '.'], ['O', 'O', 'O', 'O', 'O']), (['Did', 'something', 'happen', '?'], ['O', 'O', 'O', 'O']), (['Some', 'folks', 'got', 'up', '.'], ['O', 'O', 'O', 'O', 'O']), (['Opening', 'the', 'street', 'gate', ',', 'they', 'saw', 'a', 'soldier', 'standing', 'by', 'the', 'gate', '.'], ['O', 'O', 'O', 'O', 'O', 'O', 'O', 'O', 'O', 'O', 'O', 'O', 'O', 'O']), (['Folks', ',', 'go', 'back', ',', 'go', 'back', ',', 'nothing', 'is', 'wrong', '.'], ['O', 'O', 'O', 'O', 'O', 'O', 'O', 'O', 'O', 'O', 'O', 'O']), (['Our', 'troops', 'are', 'just', 'going', 'to', 'stay', 'here', 'for', 'the', 'night', '.'], ['O', 'O', 'O', 'O', 'O', 'O', 'O', 'O', 'O', 'O', 'O', 'O'])]\n"
     ]
    }
   ],
   "source": [
    "dataset_orig = read_data()"
   ]
  },
  {
   "cell_type": "code",
   "execution_count": 5,
   "metadata": {},
   "outputs": [
    {
     "name": "stdout",
     "output_type": "stream",
     "text": [
      "INFO:tensorflow:Using /tmp/tfhub_modules to cache modules.\n"
     ]
    },
    {
     "name": "stderr",
     "output_type": "stream",
     "text": [
      "2018-08-15 15:35:54.352 INFO in 'tensorflow'['tf_logging'] at line 160: Using /tmp/tfhub_modules to cache modules.\n"
     ]
    },
    {
     "name": "stdout",
     "output_type": "stream",
     "text": [
      "INFO:tensorflow:Initialize variable module/aggregation/scaling:0 from checkpoint b'/tmp/tfhub_modules/9bb74bc86f9caffc8c47dd7b33ec4bb354d9602d/variables/variables' with aggregation/scaling\n"
     ]
    },
    {
     "name": "stderr",
     "output_type": "stream",
     "text": [
      "2018-08-15 15:35:54.710 INFO in 'tensorflow'['tf_logging'] at line 116: Initialize variable module/aggregation/scaling:0 from checkpoint b'/tmp/tfhub_modules/9bb74bc86f9caffc8c47dd7b33ec4bb354d9602d/variables/variables' with aggregation/scaling\n"
     ]
    },
    {
     "name": "stdout",
     "output_type": "stream",
     "text": [
      "INFO:tensorflow:Initialize variable module/aggregation/weights:0 from checkpoint b'/tmp/tfhub_modules/9bb74bc86f9caffc8c47dd7b33ec4bb354d9602d/variables/variables' with aggregation/weights\n"
     ]
    },
    {
     "name": "stderr",
     "output_type": "stream",
     "text": [
      "2018-08-15 15:35:54.715 INFO in 'tensorflow'['tf_logging'] at line 116: Initialize variable module/aggregation/weights:0 from checkpoint b'/tmp/tfhub_modules/9bb74bc86f9caffc8c47dd7b33ec4bb354d9602d/variables/variables' with aggregation/weights\n"
     ]
    },
    {
     "name": "stdout",
     "output_type": "stream",
     "text": [
      "INFO:tensorflow:Initialize variable module/bilm/CNN/W_cnn_0:0 from checkpoint b'/tmp/tfhub_modules/9bb74bc86f9caffc8c47dd7b33ec4bb354d9602d/variables/variables' with bilm/CNN/W_cnn_0\n"
     ]
    },
    {
     "name": "stderr",
     "output_type": "stream",
     "text": [
      "2018-08-15 15:35:54.722 INFO in 'tensorflow'['tf_logging'] at line 116: Initialize variable module/bilm/CNN/W_cnn_0:0 from checkpoint b'/tmp/tfhub_modules/9bb74bc86f9caffc8c47dd7b33ec4bb354d9602d/variables/variables' with bilm/CNN/W_cnn_0\n"
     ]
    },
    {
     "name": "stdout",
     "output_type": "stream",
     "text": [
      "INFO:tensorflow:Initialize variable module/bilm/CNN/W_cnn_1:0 from checkpoint b'/tmp/tfhub_modules/9bb74bc86f9caffc8c47dd7b33ec4bb354d9602d/variables/variables' with bilm/CNN/W_cnn_1\n"
     ]
    },
    {
     "name": "stderr",
     "output_type": "stream",
     "text": [
      "2018-08-15 15:35:54.729 INFO in 'tensorflow'['tf_logging'] at line 116: Initialize variable module/bilm/CNN/W_cnn_1:0 from checkpoint b'/tmp/tfhub_modules/9bb74bc86f9caffc8c47dd7b33ec4bb354d9602d/variables/variables' with bilm/CNN/W_cnn_1\n"
     ]
    },
    {
     "name": "stdout",
     "output_type": "stream",
     "text": [
      "INFO:tensorflow:Initialize variable module/bilm/CNN/W_cnn_2:0 from checkpoint b'/tmp/tfhub_modules/9bb74bc86f9caffc8c47dd7b33ec4bb354d9602d/variables/variables' with bilm/CNN/W_cnn_2\n"
     ]
    },
    {
     "name": "stderr",
     "output_type": "stream",
     "text": [
      "2018-08-15 15:35:54.736 INFO in 'tensorflow'['tf_logging'] at line 116: Initialize variable module/bilm/CNN/W_cnn_2:0 from checkpoint b'/tmp/tfhub_modules/9bb74bc86f9caffc8c47dd7b33ec4bb354d9602d/variables/variables' with bilm/CNN/W_cnn_2\n"
     ]
    },
    {
     "name": "stdout",
     "output_type": "stream",
     "text": [
      "INFO:tensorflow:Initialize variable module/bilm/CNN/W_cnn_3:0 from checkpoint b'/tmp/tfhub_modules/9bb74bc86f9caffc8c47dd7b33ec4bb354d9602d/variables/variables' with bilm/CNN/W_cnn_3\n"
     ]
    },
    {
     "name": "stderr",
     "output_type": "stream",
     "text": [
      "2018-08-15 15:35:54.744 INFO in 'tensorflow'['tf_logging'] at line 116: Initialize variable module/bilm/CNN/W_cnn_3:0 from checkpoint b'/tmp/tfhub_modules/9bb74bc86f9caffc8c47dd7b33ec4bb354d9602d/variables/variables' with bilm/CNN/W_cnn_3\n"
     ]
    },
    {
     "name": "stdout",
     "output_type": "stream",
     "text": [
      "INFO:tensorflow:Initialize variable module/bilm/CNN/W_cnn_4:0 from checkpoint b'/tmp/tfhub_modules/9bb74bc86f9caffc8c47dd7b33ec4bb354d9602d/variables/variables' with bilm/CNN/W_cnn_4\n"
     ]
    },
    {
     "name": "stderr",
     "output_type": "stream",
     "text": [
      "2018-08-15 15:35:54.751 INFO in 'tensorflow'['tf_logging'] at line 116: Initialize variable module/bilm/CNN/W_cnn_4:0 from checkpoint b'/tmp/tfhub_modules/9bb74bc86f9caffc8c47dd7b33ec4bb354d9602d/variables/variables' with bilm/CNN/W_cnn_4\n"
     ]
    },
    {
     "name": "stdout",
     "output_type": "stream",
     "text": [
      "INFO:tensorflow:Initialize variable module/bilm/CNN/W_cnn_5:0 from checkpoint b'/tmp/tfhub_modules/9bb74bc86f9caffc8c47dd7b33ec4bb354d9602d/variables/variables' with bilm/CNN/W_cnn_5\n"
     ]
    },
    {
     "name": "stderr",
     "output_type": "stream",
     "text": [
      "2018-08-15 15:35:54.758 INFO in 'tensorflow'['tf_logging'] at line 116: Initialize variable module/bilm/CNN/W_cnn_5:0 from checkpoint b'/tmp/tfhub_modules/9bb74bc86f9caffc8c47dd7b33ec4bb354d9602d/variables/variables' with bilm/CNN/W_cnn_5\n"
     ]
    },
    {
     "name": "stdout",
     "output_type": "stream",
     "text": [
      "INFO:tensorflow:Initialize variable module/bilm/CNN/W_cnn_6:0 from checkpoint b'/tmp/tfhub_modules/9bb74bc86f9caffc8c47dd7b33ec4bb354d9602d/variables/variables' with bilm/CNN/W_cnn_6\n"
     ]
    },
    {
     "name": "stderr",
     "output_type": "stream",
     "text": [
      "2018-08-15 15:35:54.765 INFO in 'tensorflow'['tf_logging'] at line 116: Initialize variable module/bilm/CNN/W_cnn_6:0 from checkpoint b'/tmp/tfhub_modules/9bb74bc86f9caffc8c47dd7b33ec4bb354d9602d/variables/variables' with bilm/CNN/W_cnn_6\n"
     ]
    },
    {
     "name": "stdout",
     "output_type": "stream",
     "text": [
      "INFO:tensorflow:Initialize variable module/bilm/CNN/b_cnn_0:0 from checkpoint b'/tmp/tfhub_modules/9bb74bc86f9caffc8c47dd7b33ec4bb354d9602d/variables/variables' with bilm/CNN/b_cnn_0\n"
     ]
    },
    {
     "name": "stderr",
     "output_type": "stream",
     "text": [
      "2018-08-15 15:35:54.771 INFO in 'tensorflow'['tf_logging'] at line 116: Initialize variable module/bilm/CNN/b_cnn_0:0 from checkpoint b'/tmp/tfhub_modules/9bb74bc86f9caffc8c47dd7b33ec4bb354d9602d/variables/variables' with bilm/CNN/b_cnn_0\n"
     ]
    },
    {
     "name": "stdout",
     "output_type": "stream",
     "text": [
      "INFO:tensorflow:Initialize variable module/bilm/CNN/b_cnn_1:0 from checkpoint b'/tmp/tfhub_modules/9bb74bc86f9caffc8c47dd7b33ec4bb354d9602d/variables/variables' with bilm/CNN/b_cnn_1\n"
     ]
    },
    {
     "name": "stderr",
     "output_type": "stream",
     "text": [
      "2018-08-15 15:35:54.776 INFO in 'tensorflow'['tf_logging'] at line 116: Initialize variable module/bilm/CNN/b_cnn_1:0 from checkpoint b'/tmp/tfhub_modules/9bb74bc86f9caffc8c47dd7b33ec4bb354d9602d/variables/variables' with bilm/CNN/b_cnn_1\n"
     ]
    },
    {
     "name": "stdout",
     "output_type": "stream",
     "text": [
      "INFO:tensorflow:Initialize variable module/bilm/CNN/b_cnn_2:0 from checkpoint b'/tmp/tfhub_modules/9bb74bc86f9caffc8c47dd7b33ec4bb354d9602d/variables/variables' with bilm/CNN/b_cnn_2\n"
     ]
    },
    {
     "name": "stderr",
     "output_type": "stream",
     "text": [
      "2018-08-15 15:35:54.783 INFO in 'tensorflow'['tf_logging'] at line 116: Initialize variable module/bilm/CNN/b_cnn_2:0 from checkpoint b'/tmp/tfhub_modules/9bb74bc86f9caffc8c47dd7b33ec4bb354d9602d/variables/variables' with bilm/CNN/b_cnn_2\n"
     ]
    },
    {
     "name": "stdout",
     "output_type": "stream",
     "text": [
      "INFO:tensorflow:Initialize variable module/bilm/CNN/b_cnn_3:0 from checkpoint b'/tmp/tfhub_modules/9bb74bc86f9caffc8c47dd7b33ec4bb354d9602d/variables/variables' with bilm/CNN/b_cnn_3\n"
     ]
    },
    {
     "name": "stderr",
     "output_type": "stream",
     "text": [
      "2018-08-15 15:35:54.791 INFO in 'tensorflow'['tf_logging'] at line 116: Initialize variable module/bilm/CNN/b_cnn_3:0 from checkpoint b'/tmp/tfhub_modules/9bb74bc86f9caffc8c47dd7b33ec4bb354d9602d/variables/variables' with bilm/CNN/b_cnn_3\n"
     ]
    },
    {
     "name": "stdout",
     "output_type": "stream",
     "text": [
      "INFO:tensorflow:Initialize variable module/bilm/CNN/b_cnn_4:0 from checkpoint b'/tmp/tfhub_modules/9bb74bc86f9caffc8c47dd7b33ec4bb354d9602d/variables/variables' with bilm/CNN/b_cnn_4\n"
     ]
    },
    {
     "name": "stderr",
     "output_type": "stream",
     "text": [
      "2018-08-15 15:35:54.798 INFO in 'tensorflow'['tf_logging'] at line 116: Initialize variable module/bilm/CNN/b_cnn_4:0 from checkpoint b'/tmp/tfhub_modules/9bb74bc86f9caffc8c47dd7b33ec4bb354d9602d/variables/variables' with bilm/CNN/b_cnn_4\n"
     ]
    },
    {
     "name": "stdout",
     "output_type": "stream",
     "text": [
      "INFO:tensorflow:Initialize variable module/bilm/CNN/b_cnn_5:0 from checkpoint b'/tmp/tfhub_modules/9bb74bc86f9caffc8c47dd7b33ec4bb354d9602d/variables/variables' with bilm/CNN/b_cnn_5\n"
     ]
    },
    {
     "name": "stderr",
     "output_type": "stream",
     "text": [
      "2018-08-15 15:35:54.804 INFO in 'tensorflow'['tf_logging'] at line 116: Initialize variable module/bilm/CNN/b_cnn_5:0 from checkpoint b'/tmp/tfhub_modules/9bb74bc86f9caffc8c47dd7b33ec4bb354d9602d/variables/variables' with bilm/CNN/b_cnn_5\n"
     ]
    },
    {
     "name": "stdout",
     "output_type": "stream",
     "text": [
      "INFO:tensorflow:Initialize variable module/bilm/CNN/b_cnn_6:0 from checkpoint b'/tmp/tfhub_modules/9bb74bc86f9caffc8c47dd7b33ec4bb354d9602d/variables/variables' with bilm/CNN/b_cnn_6\n"
     ]
    },
    {
     "name": "stderr",
     "output_type": "stream",
     "text": [
      "2018-08-15 15:35:54.810 INFO in 'tensorflow'['tf_logging'] at line 116: Initialize variable module/bilm/CNN/b_cnn_6:0 from checkpoint b'/tmp/tfhub_modules/9bb74bc86f9caffc8c47dd7b33ec4bb354d9602d/variables/variables' with bilm/CNN/b_cnn_6\n"
     ]
    },
    {
     "name": "stdout",
     "output_type": "stream",
     "text": [
      "INFO:tensorflow:Initialize variable module/bilm/CNN_high_0/W_carry:0 from checkpoint b'/tmp/tfhub_modules/9bb74bc86f9caffc8c47dd7b33ec4bb354d9602d/variables/variables' with bilm/CNN_high_0/W_carry\n"
     ]
    },
    {
     "name": "stderr",
     "output_type": "stream",
     "text": [
      "2018-08-15 15:35:54.817 INFO in 'tensorflow'['tf_logging'] at line 116: Initialize variable module/bilm/CNN_high_0/W_carry:0 from checkpoint b'/tmp/tfhub_modules/9bb74bc86f9caffc8c47dd7b33ec4bb354d9602d/variables/variables' with bilm/CNN_high_0/W_carry\n"
     ]
    },
    {
     "name": "stdout",
     "output_type": "stream",
     "text": [
      "INFO:tensorflow:Initialize variable module/bilm/CNN_high_0/W_transform:0 from checkpoint b'/tmp/tfhub_modules/9bb74bc86f9caffc8c47dd7b33ec4bb354d9602d/variables/variables' with bilm/CNN_high_0/W_transform\n"
     ]
    },
    {
     "name": "stderr",
     "output_type": "stream",
     "text": [
      "2018-08-15 15:35:54.825 INFO in 'tensorflow'['tf_logging'] at line 116: Initialize variable module/bilm/CNN_high_0/W_transform:0 from checkpoint b'/tmp/tfhub_modules/9bb74bc86f9caffc8c47dd7b33ec4bb354d9602d/variables/variables' with bilm/CNN_high_0/W_transform\n"
     ]
    },
    {
     "name": "stdout",
     "output_type": "stream",
     "text": [
      "INFO:tensorflow:Initialize variable module/bilm/CNN_high_0/b_carry:0 from checkpoint b'/tmp/tfhub_modules/9bb74bc86f9caffc8c47dd7b33ec4bb354d9602d/variables/variables' with bilm/CNN_high_0/b_carry\n"
     ]
    },
    {
     "name": "stderr",
     "output_type": "stream",
     "text": [
      "2018-08-15 15:35:54.832 INFO in 'tensorflow'['tf_logging'] at line 116: Initialize variable module/bilm/CNN_high_0/b_carry:0 from checkpoint b'/tmp/tfhub_modules/9bb74bc86f9caffc8c47dd7b33ec4bb354d9602d/variables/variables' with bilm/CNN_high_0/b_carry\n"
     ]
    },
    {
     "name": "stdout",
     "output_type": "stream",
     "text": [
      "INFO:tensorflow:Initialize variable module/bilm/CNN_high_0/b_transform:0 from checkpoint b'/tmp/tfhub_modules/9bb74bc86f9caffc8c47dd7b33ec4bb354d9602d/variables/variables' with bilm/CNN_high_0/b_transform\n"
     ]
    },
    {
     "name": "stderr",
     "output_type": "stream",
     "text": [
      "2018-08-15 15:35:54.838 INFO in 'tensorflow'['tf_logging'] at line 116: Initialize variable module/bilm/CNN_high_0/b_transform:0 from checkpoint b'/tmp/tfhub_modules/9bb74bc86f9caffc8c47dd7b33ec4bb354d9602d/variables/variables' with bilm/CNN_high_0/b_transform\n"
     ]
    },
    {
     "name": "stdout",
     "output_type": "stream",
     "text": [
      "INFO:tensorflow:Initialize variable module/bilm/CNN_high_1/W_carry:0 from checkpoint b'/tmp/tfhub_modules/9bb74bc86f9caffc8c47dd7b33ec4bb354d9602d/variables/variables' with bilm/CNN_high_1/W_carry\n"
     ]
    },
    {
     "name": "stderr",
     "output_type": "stream",
     "text": [
      "2018-08-15 15:35:54.845 INFO in 'tensorflow'['tf_logging'] at line 116: Initialize variable module/bilm/CNN_high_1/W_carry:0 from checkpoint b'/tmp/tfhub_modules/9bb74bc86f9caffc8c47dd7b33ec4bb354d9602d/variables/variables' with bilm/CNN_high_1/W_carry\n"
     ]
    },
    {
     "name": "stdout",
     "output_type": "stream",
     "text": [
      "INFO:tensorflow:Initialize variable module/bilm/CNN_high_1/W_transform:0 from checkpoint b'/tmp/tfhub_modules/9bb74bc86f9caffc8c47dd7b33ec4bb354d9602d/variables/variables' with bilm/CNN_high_1/W_transform\n"
     ]
    },
    {
     "name": "stderr",
     "output_type": "stream",
     "text": [
      "2018-08-15 15:35:54.853 INFO in 'tensorflow'['tf_logging'] at line 116: Initialize variable module/bilm/CNN_high_1/W_transform:0 from checkpoint b'/tmp/tfhub_modules/9bb74bc86f9caffc8c47dd7b33ec4bb354d9602d/variables/variables' with bilm/CNN_high_1/W_transform\n"
     ]
    },
    {
     "name": "stdout",
     "output_type": "stream",
     "text": [
      "INFO:tensorflow:Initialize variable module/bilm/CNN_high_1/b_carry:0 from checkpoint b'/tmp/tfhub_modules/9bb74bc86f9caffc8c47dd7b33ec4bb354d9602d/variables/variables' with bilm/CNN_high_1/b_carry\n"
     ]
    },
    {
     "name": "stderr",
     "output_type": "stream",
     "text": [
      "2018-08-15 15:35:54.859 INFO in 'tensorflow'['tf_logging'] at line 116: Initialize variable module/bilm/CNN_high_1/b_carry:0 from checkpoint b'/tmp/tfhub_modules/9bb74bc86f9caffc8c47dd7b33ec4bb354d9602d/variables/variables' with bilm/CNN_high_1/b_carry\n"
     ]
    },
    {
     "name": "stdout",
     "output_type": "stream",
     "text": [
      "INFO:tensorflow:Initialize variable module/bilm/CNN_high_1/b_transform:0 from checkpoint b'/tmp/tfhub_modules/9bb74bc86f9caffc8c47dd7b33ec4bb354d9602d/variables/variables' with bilm/CNN_high_1/b_transform\n"
     ]
    },
    {
     "name": "stderr",
     "output_type": "stream",
     "text": [
      "2018-08-15 15:35:54.866 INFO in 'tensorflow'['tf_logging'] at line 116: Initialize variable module/bilm/CNN_high_1/b_transform:0 from checkpoint b'/tmp/tfhub_modules/9bb74bc86f9caffc8c47dd7b33ec4bb354d9602d/variables/variables' with bilm/CNN_high_1/b_transform\n"
     ]
    },
    {
     "name": "stdout",
     "output_type": "stream",
     "text": [
      "INFO:tensorflow:Initialize variable module/bilm/CNN_proj/W_proj:0 from checkpoint b'/tmp/tfhub_modules/9bb74bc86f9caffc8c47dd7b33ec4bb354d9602d/variables/variables' with bilm/CNN_proj/W_proj\n"
     ]
    },
    {
     "name": "stderr",
     "output_type": "stream",
     "text": [
      "2018-08-15 15:35:54.874 INFO in 'tensorflow'['tf_logging'] at line 116: Initialize variable module/bilm/CNN_proj/W_proj:0 from checkpoint b'/tmp/tfhub_modules/9bb74bc86f9caffc8c47dd7b33ec4bb354d9602d/variables/variables' with bilm/CNN_proj/W_proj\n"
     ]
    },
    {
     "name": "stdout",
     "output_type": "stream",
     "text": [
      "INFO:tensorflow:Initialize variable module/bilm/CNN_proj/b_proj:0 from checkpoint b'/tmp/tfhub_modules/9bb74bc86f9caffc8c47dd7b33ec4bb354d9602d/variables/variables' with bilm/CNN_proj/b_proj\n"
     ]
    },
    {
     "name": "stderr",
     "output_type": "stream",
     "text": [
      "2018-08-15 15:35:54.879 INFO in 'tensorflow'['tf_logging'] at line 116: Initialize variable module/bilm/CNN_proj/b_proj:0 from checkpoint b'/tmp/tfhub_modules/9bb74bc86f9caffc8c47dd7b33ec4bb354d9602d/variables/variables' with bilm/CNN_proj/b_proj\n"
     ]
    },
    {
     "name": "stdout",
     "output_type": "stream",
     "text": [
      "INFO:tensorflow:Initialize variable module/bilm/RNN_0/RNN/MultiRNNCell/Cell0/rnn/lstm_cell/bias:0 from checkpoint b'/tmp/tfhub_modules/9bb74bc86f9caffc8c47dd7b33ec4bb354d9602d/variables/variables' with bilm/RNN_0/RNN/MultiRNNCell/Cell0/rnn/lstm_cell/bias\n"
     ]
    },
    {
     "name": "stderr",
     "output_type": "stream",
     "text": [
      "2018-08-15 15:35:54.886 INFO in 'tensorflow'['tf_logging'] at line 116: Initialize variable module/bilm/RNN_0/RNN/MultiRNNCell/Cell0/rnn/lstm_cell/bias:0 from checkpoint b'/tmp/tfhub_modules/9bb74bc86f9caffc8c47dd7b33ec4bb354d9602d/variables/variables' with bilm/RNN_0/RNN/MultiRNNCell/Cell0/rnn/lstm_cell/bias\n"
     ]
    },
    {
     "name": "stdout",
     "output_type": "stream",
     "text": [
      "INFO:tensorflow:Initialize variable module/bilm/RNN_0/RNN/MultiRNNCell/Cell0/rnn/lstm_cell/kernel:0 from checkpoint b'/tmp/tfhub_modules/9bb74bc86f9caffc8c47dd7b33ec4bb354d9602d/variables/variables' with bilm/RNN_0/RNN/MultiRNNCell/Cell0/rnn/lstm_cell/kernel\n"
     ]
    },
    {
     "name": "stderr",
     "output_type": "stream",
     "text": [
      "2018-08-15 15:35:54.892 INFO in 'tensorflow'['tf_logging'] at line 116: Initialize variable module/bilm/RNN_0/RNN/MultiRNNCell/Cell0/rnn/lstm_cell/kernel:0 from checkpoint b'/tmp/tfhub_modules/9bb74bc86f9caffc8c47dd7b33ec4bb354d9602d/variables/variables' with bilm/RNN_0/RNN/MultiRNNCell/Cell0/rnn/lstm_cell/kernel\n"
     ]
    },
    {
     "name": "stdout",
     "output_type": "stream",
     "text": [
      "INFO:tensorflow:Initialize variable module/bilm/RNN_0/RNN/MultiRNNCell/Cell0/rnn/lstm_cell/projection/kernel:0 from checkpoint b'/tmp/tfhub_modules/9bb74bc86f9caffc8c47dd7b33ec4bb354d9602d/variables/variables' with bilm/RNN_0/RNN/MultiRNNCell/Cell0/rnn/lstm_cell/projection/kernel\n"
     ]
    },
    {
     "name": "stderr",
     "output_type": "stream",
     "text": [
      "2018-08-15 15:35:54.900 INFO in 'tensorflow'['tf_logging'] at line 116: Initialize variable module/bilm/RNN_0/RNN/MultiRNNCell/Cell0/rnn/lstm_cell/projection/kernel:0 from checkpoint b'/tmp/tfhub_modules/9bb74bc86f9caffc8c47dd7b33ec4bb354d9602d/variables/variables' with bilm/RNN_0/RNN/MultiRNNCell/Cell0/rnn/lstm_cell/projection/kernel\n"
     ]
    },
    {
     "name": "stdout",
     "output_type": "stream",
     "text": [
      "INFO:tensorflow:Initialize variable module/bilm/RNN_0/RNN/MultiRNNCell/Cell1/rnn/lstm_cell/bias:0 from checkpoint b'/tmp/tfhub_modules/9bb74bc86f9caffc8c47dd7b33ec4bb354d9602d/variables/variables' with bilm/RNN_0/RNN/MultiRNNCell/Cell1/rnn/lstm_cell/bias\n"
     ]
    },
    {
     "name": "stderr",
     "output_type": "stream",
     "text": [
      "2018-08-15 15:35:54.907 INFO in 'tensorflow'['tf_logging'] at line 116: Initialize variable module/bilm/RNN_0/RNN/MultiRNNCell/Cell1/rnn/lstm_cell/bias:0 from checkpoint b'/tmp/tfhub_modules/9bb74bc86f9caffc8c47dd7b33ec4bb354d9602d/variables/variables' with bilm/RNN_0/RNN/MultiRNNCell/Cell1/rnn/lstm_cell/bias\n"
     ]
    },
    {
     "name": "stdout",
     "output_type": "stream",
     "text": [
      "INFO:tensorflow:Initialize variable module/bilm/RNN_0/RNN/MultiRNNCell/Cell1/rnn/lstm_cell/kernel:0 from checkpoint b'/tmp/tfhub_modules/9bb74bc86f9caffc8c47dd7b33ec4bb354d9602d/variables/variables' with bilm/RNN_0/RNN/MultiRNNCell/Cell1/rnn/lstm_cell/kernel\n"
     ]
    },
    {
     "name": "stderr",
     "output_type": "stream",
     "text": [
      "2018-08-15 15:35:54.912 INFO in 'tensorflow'['tf_logging'] at line 116: Initialize variable module/bilm/RNN_0/RNN/MultiRNNCell/Cell1/rnn/lstm_cell/kernel:0 from checkpoint b'/tmp/tfhub_modules/9bb74bc86f9caffc8c47dd7b33ec4bb354d9602d/variables/variables' with bilm/RNN_0/RNN/MultiRNNCell/Cell1/rnn/lstm_cell/kernel\n"
     ]
    },
    {
     "name": "stdout",
     "output_type": "stream",
     "text": [
      "INFO:tensorflow:Initialize variable module/bilm/RNN_0/RNN/MultiRNNCell/Cell1/rnn/lstm_cell/projection/kernel:0 from checkpoint b'/tmp/tfhub_modules/9bb74bc86f9caffc8c47dd7b33ec4bb354d9602d/variables/variables' with bilm/RNN_0/RNN/MultiRNNCell/Cell1/rnn/lstm_cell/projection/kernel\n"
     ]
    },
    {
     "name": "stderr",
     "output_type": "stream",
     "text": [
      "2018-08-15 15:35:54.918 INFO in 'tensorflow'['tf_logging'] at line 116: Initialize variable module/bilm/RNN_0/RNN/MultiRNNCell/Cell1/rnn/lstm_cell/projection/kernel:0 from checkpoint b'/tmp/tfhub_modules/9bb74bc86f9caffc8c47dd7b33ec4bb354d9602d/variables/variables' with bilm/RNN_0/RNN/MultiRNNCell/Cell1/rnn/lstm_cell/projection/kernel\n"
     ]
    },
    {
     "name": "stdout",
     "output_type": "stream",
     "text": [
      "INFO:tensorflow:Initialize variable module/bilm/RNN_1/RNN/MultiRNNCell/Cell0/rnn/lstm_cell/bias:0 from checkpoint b'/tmp/tfhub_modules/9bb74bc86f9caffc8c47dd7b33ec4bb354d9602d/variables/variables' with bilm/RNN_1/RNN/MultiRNNCell/Cell0/rnn/lstm_cell/bias\n"
     ]
    },
    {
     "name": "stderr",
     "output_type": "stream",
     "text": [
      "2018-08-15 15:35:54.925 INFO in 'tensorflow'['tf_logging'] at line 116: Initialize variable module/bilm/RNN_1/RNN/MultiRNNCell/Cell0/rnn/lstm_cell/bias:0 from checkpoint b'/tmp/tfhub_modules/9bb74bc86f9caffc8c47dd7b33ec4bb354d9602d/variables/variables' with bilm/RNN_1/RNN/MultiRNNCell/Cell0/rnn/lstm_cell/bias\n"
     ]
    },
    {
     "name": "stdout",
     "output_type": "stream",
     "text": [
      "INFO:tensorflow:Initialize variable module/bilm/RNN_1/RNN/MultiRNNCell/Cell0/rnn/lstm_cell/kernel:0 from checkpoint b'/tmp/tfhub_modules/9bb74bc86f9caffc8c47dd7b33ec4bb354d9602d/variables/variables' with bilm/RNN_1/RNN/MultiRNNCell/Cell0/rnn/lstm_cell/kernel\n"
     ]
    },
    {
     "name": "stderr",
     "output_type": "stream",
     "text": [
      "2018-08-15 15:35:54.936 INFO in 'tensorflow'['tf_logging'] at line 116: Initialize variable module/bilm/RNN_1/RNN/MultiRNNCell/Cell0/rnn/lstm_cell/kernel:0 from checkpoint b'/tmp/tfhub_modules/9bb74bc86f9caffc8c47dd7b33ec4bb354d9602d/variables/variables' with bilm/RNN_1/RNN/MultiRNNCell/Cell0/rnn/lstm_cell/kernel\n"
     ]
    },
    {
     "name": "stdout",
     "output_type": "stream",
     "text": [
      "INFO:tensorflow:Initialize variable module/bilm/RNN_1/RNN/MultiRNNCell/Cell0/rnn/lstm_cell/projection/kernel:0 from checkpoint b'/tmp/tfhub_modules/9bb74bc86f9caffc8c47dd7b33ec4bb354d9602d/variables/variables' with bilm/RNN_1/RNN/MultiRNNCell/Cell0/rnn/lstm_cell/projection/kernel\n"
     ]
    },
    {
     "name": "stderr",
     "output_type": "stream",
     "text": [
      "2018-08-15 15:35:54.941 INFO in 'tensorflow'['tf_logging'] at line 116: Initialize variable module/bilm/RNN_1/RNN/MultiRNNCell/Cell0/rnn/lstm_cell/projection/kernel:0 from checkpoint b'/tmp/tfhub_modules/9bb74bc86f9caffc8c47dd7b33ec4bb354d9602d/variables/variables' with bilm/RNN_1/RNN/MultiRNNCell/Cell0/rnn/lstm_cell/projection/kernel\n"
     ]
    },
    {
     "name": "stdout",
     "output_type": "stream",
     "text": [
      "INFO:tensorflow:Initialize variable module/bilm/RNN_1/RNN/MultiRNNCell/Cell1/rnn/lstm_cell/bias:0 from checkpoint b'/tmp/tfhub_modules/9bb74bc86f9caffc8c47dd7b33ec4bb354d9602d/variables/variables' with bilm/RNN_1/RNN/MultiRNNCell/Cell1/rnn/lstm_cell/bias\n"
     ]
    },
    {
     "name": "stderr",
     "output_type": "stream",
     "text": [
      "2018-08-15 15:35:54.947 INFO in 'tensorflow'['tf_logging'] at line 116: Initialize variable module/bilm/RNN_1/RNN/MultiRNNCell/Cell1/rnn/lstm_cell/bias:0 from checkpoint b'/tmp/tfhub_modules/9bb74bc86f9caffc8c47dd7b33ec4bb354d9602d/variables/variables' with bilm/RNN_1/RNN/MultiRNNCell/Cell1/rnn/lstm_cell/bias\n"
     ]
    },
    {
     "name": "stdout",
     "output_type": "stream",
     "text": [
      "INFO:tensorflow:Initialize variable module/bilm/RNN_1/RNN/MultiRNNCell/Cell1/rnn/lstm_cell/kernel:0 from checkpoint b'/tmp/tfhub_modules/9bb74bc86f9caffc8c47dd7b33ec4bb354d9602d/variables/variables' with bilm/RNN_1/RNN/MultiRNNCell/Cell1/rnn/lstm_cell/kernel\n"
     ]
    },
    {
     "name": "stderr",
     "output_type": "stream",
     "text": [
      "2018-08-15 15:35:54.953 INFO in 'tensorflow'['tf_logging'] at line 116: Initialize variable module/bilm/RNN_1/RNN/MultiRNNCell/Cell1/rnn/lstm_cell/kernel:0 from checkpoint b'/tmp/tfhub_modules/9bb74bc86f9caffc8c47dd7b33ec4bb354d9602d/variables/variables' with bilm/RNN_1/RNN/MultiRNNCell/Cell1/rnn/lstm_cell/kernel\n"
     ]
    },
    {
     "name": "stdout",
     "output_type": "stream",
     "text": [
      "INFO:tensorflow:Initialize variable module/bilm/RNN_1/RNN/MultiRNNCell/Cell1/rnn/lstm_cell/projection/kernel:0 from checkpoint b'/tmp/tfhub_modules/9bb74bc86f9caffc8c47dd7b33ec4bb354d9602d/variables/variables' with bilm/RNN_1/RNN/MultiRNNCell/Cell1/rnn/lstm_cell/projection/kernel\n"
     ]
    },
    {
     "name": "stderr",
     "output_type": "stream",
     "text": [
      "2018-08-15 15:35:54.960 INFO in 'tensorflow'['tf_logging'] at line 116: Initialize variable module/bilm/RNN_1/RNN/MultiRNNCell/Cell1/rnn/lstm_cell/projection/kernel:0 from checkpoint b'/tmp/tfhub_modules/9bb74bc86f9caffc8c47dd7b33ec4bb354d9602d/variables/variables' with bilm/RNN_1/RNN/MultiRNNCell/Cell1/rnn/lstm_cell/projection/kernel\n"
     ]
    },
    {
     "name": "stdout",
     "output_type": "stream",
     "text": [
      "INFO:tensorflow:Initialize variable module/bilm/char_embed:0 from checkpoint b'/tmp/tfhub_modules/9bb74bc86f9caffc8c47dd7b33ec4bb354d9602d/variables/variables' with bilm/char_embed\n"
     ]
    },
    {
     "name": "stderr",
     "output_type": "stream",
     "text": [
      "2018-08-15 15:35:54.966 INFO in 'tensorflow'['tf_logging'] at line 116: Initialize variable module/bilm/char_embed:0 from checkpoint b'/tmp/tfhub_modules/9bb74bc86f9caffc8c47dd7b33ec4bb354d9602d/variables/variables' with bilm/char_embed\n",
      "2018-08-15 15:35:55.440 INFO in 'deeppavlov.models.embedders.glove_embedder'['glove_embedder'] at line 60: [loading embeddings from `/home/kostrovskiy/prog/AI/NLP/DeepPavlov/download/embeddings/glove.6B/glove.6B.100d.txt`]\n",
      "2018-08-15 15:35:55.441 INFO in 'gensim.models.keyedvectors'['keyedvectors'] at line 204: loading projection weights from /home/kostrovskiy/prog/AI/NLP/DeepPavlov/download/embeddings/glove.6B/glove.6B.100d.txt\n",
      "2018-08-15 15:35:55.441 DEBUG in 'smart_open.smart_open_lib'['smart_open_lib'] at line 176: {'kw': {}, 'mode': 'rb', 'uri': '/home/kostrovskiy/prog/AI/NLP/DeepPavlov/download/embeddings/glove.6B/glove.6B.100d.txt'}\n",
      "2018-08-15 15:36:24.260 INFO in 'gensim.models.keyedvectors'['keyedvectors'] at line 266: loaded (400000, 100) matrix from /home/kostrovskiy/prog/AI/NLP/DeepPavlov/download/embeddings/glove.6B/glove.6B.100d.txt\n"
     ]
    }
   ],
   "source": [
    "embedder = CompositeEmbedder(use_elmo=True, elmo_scale=1, cap_scale=1, use_cap_feat=True, use_glove=True)"
   ]
  },
  {
   "cell_type": "code",
   "execution_count": 6,
   "metadata": {},
   "outputs": [
    {
     "name": "stdout",
     "output_type": "stream",
     "text": [
      "NE type: PERSON\n",
      "Num of train sentences: 12195\n",
      "Num of valid sentences: 1553\n",
      "Num of test sentences: 1573\n",
      "Sample 1\n",
      "Train\n",
      "NE centroid similarity model\n",
      "NE nearest similarity model\n",
      "SVM classifier model\n",
      "Weighted kNN model\n",
      "k = 1, metric: cosine\n",
      "[====================] 100%\n",
      "NE centroid + words kNN similarity model\n",
      "k = 10, metric: dot_prod\n",
      "[====================] 100%\n",
      "F1 scores: {'ne_centroid': 0.8144578313253013, 'ne_nearest': 0.32214765100671144, 'weighted_kNN': 0.8912133891213389, 'centroid_kNN': 0.8714285714285714, 'svm': 0.8806941431670282}\n",
      "Sample 2\n",
      "Train\n",
      "NE centroid similarity model\n",
      "NE nearest similarity model\n",
      "SVM classifier model\n",
      "Weighted kNN model\n",
      "k = 1, metric: cosine\n",
      "[====================] 100%\n",
      "NE centroid + words kNN similarity model\n",
      "k = 10, metric: dot_prod\n",
      "[====================] 100%\n",
      "F1 scores: {'ne_centroid': 0.562874251497006, 'ne_nearest': 0.3443708609271523, 'weighted_kNN': 0.8747433264887065, 'centroid_kNN': 0.8200000000000001, 'svm': 0.8733031674208145}\n",
      "Sample 3\n",
      "Train\n",
      "NE centroid similarity model\n",
      "NE nearest similarity model\n",
      "SVM classifier model\n",
      "Weighted kNN model\n",
      "k = 1, metric: cosine\n",
      "[====================] 100%\n",
      "NE centroid + words kNN similarity model\n",
      "k = 10, metric: dot_prod\n",
      "[====================] 100%\n",
      "F1 scores: {'ne_centroid': 0.7959183673469388, 'ne_nearest': 0.41295546558704455, 'weighted_kNN': 0.8756756756756756, 'centroid_kNN': 0.8571428571428571, 'svm': 0.8831168831168832}\n",
      "Sample 4\n",
      "Train\n",
      "NE centroid similarity model\n",
      "NE nearest similarity model\n",
      "SVM classifier model\n",
      "Weighted kNN model\n",
      "k = 1, metric: cosine\n",
      "[====================] 100%\n",
      "NE centroid + words kNN similarity model\n",
      "k = 10, metric: dot_prod\n",
      "[====================] 100%\n",
      "F1 scores: {'ne_centroid': 0.7024390243902439, 'ne_nearest': 0.22591362126245845, 'weighted_kNN': 0.787524366471735, 'centroid_kNN': 0.7731958762886598, 'svm': 0.8427672955974842}\n",
      "Sample 5\n",
      "Train\n",
      "NE centroid similarity model\n",
      "NE nearest similarity model\n",
      "SVM classifier model\n",
      "Weighted kNN model\n",
      "k = 1, metric: cosine\n",
      "[====================] 100%\n",
      "NE centroid + words kNN similarity model\n",
      "k = 10, metric: dot_prod\n",
      "[====================] 100%\n",
      "F1 scores: {'ne_centroid': 0.6199460916442049, 'ne_nearest': 0.2028985507246377, 'weighted_kNN': 0.7753303964757708, 'centroid_kNN': 0.7008086253369272, 'svm': 0.8121212121212121}\n",
      "Sample 6\n",
      "Train\n",
      "NE centroid similarity model\n",
      "NE nearest similarity model\n",
      "SVM classifier model\n",
      "Weighted kNN model\n",
      "k = 1, metric: cosine\n",
      "[====================] 100%\n",
      "NE centroid + words kNN similarity model\n",
      "k = 10, metric: dot_prod\n",
      "[====================] 100%\n",
      "F1 scores: {'ne_centroid': 0.7614213197969543, 'ne_nearest': 0.07305936073059362, 'weighted_kNN': 0.8571428571428572, 'centroid_kNN': 0.8645833333333333, 'svm': 0.8678304239401495}\n",
      "Sample 7\n",
      "Train\n",
      "NE centroid similarity model\n",
      "NE nearest similarity model\n",
      "SVM classifier model\n",
      "Weighted kNN model\n",
      "k = 1, metric: cosine\n",
      "[====================] 100%\n",
      "NE centroid + words kNN similarity model\n",
      "k = 10, metric: dot_prod\n",
      "[====================] 100%\n",
      "F1 scores: {'ne_centroid': 0.5714285714285715, 'ne_nearest': 0.2696629213483146, 'weighted_kNN': 0.8758169934640523, 'centroid_kNN': 0.8695652173913043, 'svm': 0.8716814159292036}\n",
      "Sample 8\n",
      "Train\n",
      "NE centroid similarity model\n",
      "NE nearest similarity model\n",
      "SVM classifier model\n",
      "Weighted kNN model\n",
      "k = 1, metric: cosine\n",
      "[====================] 100%\n",
      "NE centroid + words kNN similarity model\n",
      "k = 10, metric: dot_prod\n",
      "[====================] 100%\n",
      "F1 scores: {'ne_centroid': 0.3736263736263737, 'ne_nearest': 0.2464788732394366, 'weighted_kNN': 0.7967479674796748, 'centroid_kNN': 0.5732899022801303, 'svm': 0.8307692307692307}\n",
      "Sample 9\n",
      "Train\n",
      "NE centroid similarity model\n",
      "NE nearest similarity model\n",
      "SVM classifier model\n",
      "Weighted kNN model\n",
      "k = 1, metric: cosine\n",
      "[====================] 100%\n",
      "NE centroid + words kNN similarity model\n",
      "k = 10, metric: dot_prod\n",
      "[====================] 100%\n",
      "F1 scores: {'ne_centroid': 0.7512953367875649, 'ne_nearest': 0.183206106870229, 'weighted_kNN': 0.8639308855291576, 'centroid_kNN': 0.8695652173913043, 'svm': 0.8934240362811792}\n",
      "Sample 10\n",
      "Train\n",
      "NE centroid similarity model\n",
      "NE nearest similarity model\n",
      "SVM classifier model\n",
      "Weighted kNN model\n",
      "k = 1, metric: cosine\n",
      "[====================] 100%\n",
      "NE centroid + words kNN similarity model\n",
      "k = 10, metric: dot_prod\n",
      "[====================] 100%\n",
      "F1 scores: {'ne_centroid': 0.7828162291169452, 'ne_nearest': 0.19157088122605365, 'weighted_kNN': 0.8744394618834082, 'centroid_kNN': 0.787128712871287, 'svm': 0.8512585812356979}\n",
      "ne_centroid F1: mean = 0.6736223396960105 std = 0.13299392499082674\n",
      "ne_nearest F1: mean = 0.24722642929226316 std = 0.09108776242571755\n",
      "weighted_kNN F1: mean = 0.8472565319732377 std = 0.04088786821673402\n",
      "centroid_kNN F1: mean = 0.7986708313464376 std = 0.09204338880523044\n",
      "svm F1: mean = 0.8606966389578883 std = 0.024433360333011453\n",
      "NE type: GPE\n",
      "Num of train sentences: 10644\n",
      "Num of valid sentences: 1592\n",
      "Num of test sentences: 1573\n",
      "Sample 1\n",
      "Train\n",
      "NE centroid similarity model\n",
      "NE nearest similarity model\n",
      "SVM classifier model\n",
      "Weighted kNN model\n",
      "k = 1, metric: cosine\n",
      "[====================] 100%\n",
      "NE centroid + words kNN similarity model\n",
      "k = 10, metric: dot_prod\n",
      "[====================] 100%\n",
      "F1 scores: {'ne_centroid': 0.7780320366132722, 'ne_nearest': 0.4646464646464647, 'weighted_kNN': 0.75, 'centroid_kNN': 0.7365269461077844, 'svm': 0.7327935222672065}\n",
      "Sample 2\n",
      "Train\n",
      "NE centroid similarity model\n",
      "NE nearest similarity model\n",
      "SVM classifier model\n",
      "Weighted kNN model\n",
      "k = 1, metric: cosine\n",
      "[====================] 100%\n",
      "NE centroid + words kNN similarity model\n",
      "k = 10, metric: dot_prod\n",
      "[====================] 100%\n",
      "F1 scores: {'ne_centroid': 0.7902735562310031, 'ne_nearest': 0.6641509433962265, 'weighted_kNN': 0.7313432835820897, 'centroid_kNN': 0.774928774928775, 'svm': 0.8054794520547947}\n",
      "Sample 3\n",
      "Train\n",
      "NE centroid similarity model\n",
      "NE nearest similarity model\n",
      "SVM classifier model\n",
      "Weighted kNN model\n",
      "k = 1, metric: cosine\n",
      "[====================] 100%\n",
      "NE centroid + words kNN similarity model\n",
      "k = 10, metric: dot_prod\n",
      "[====================] 100%\n",
      "F1 scores: {'ne_centroid': 0.709480122324159, 'ne_nearest': 0.4085106382978723, 'weighted_kNN': 0.728110599078341, 'centroid_kNN': 0.7849462365591398, 'svm': 0.8}\n",
      "Sample 4\n",
      "Train\n",
      "NE centroid similarity model\n",
      "NE nearest similarity model\n",
      "SVM classifier model\n",
      "Weighted kNN model\n",
      "k = 1, metric: cosine\n",
      "[====================] 100%\n",
      "NE centroid + words kNN similarity model\n",
      "k = 10, metric: dot_prod\n",
      "[====================] 100%\n",
      "F1 scores: {'ne_centroid': 0.7455012853470437, 'ne_nearest': 0.41841004184100417, 'weighted_kNN': 0.7555555555555556, 'centroid_kNN': 0.6382978723404255, 'svm': 0.8268733850129198}\n",
      "Sample 5\n",
      "Train\n",
      "NE centroid similarity model\n",
      "NE nearest similarity model\n",
      "SVM classifier model\n",
      "Weighted kNN model\n",
      "k = 1, metric: cosine\n",
      "[====================] 100%\n",
      "NE centroid + words kNN similarity model\n",
      "k = 10, metric: dot_prod\n",
      "[====================] 100%\n",
      "F1 scores: {'ne_centroid': 0.7249190938511327, 'ne_nearest': 0.4375, 'weighted_kNN': 0.7202216066481995, 'centroid_kNN': 0.6881028938906752, 'svm': 0.743801652892562}\n",
      "Sample 6\n",
      "Train\n",
      "NE centroid similarity model\n",
      "NE nearest similarity model\n",
      "SVM classifier model\n",
      "Weighted kNN model\n",
      "k = 1, metric: cosine\n",
      "[====================] 100%\n",
      "NE centroid + words kNN similarity model\n",
      "k = 10, metric: dot_prod\n",
      "[====================] 100%\n",
      "F1 scores: {'ne_centroid': 0.7566137566137566, 'ne_nearest': 0.4591439688715953, 'weighted_kNN': 0.6869158878504672, 'centroid_kNN': 0.7323943661971831, 'svm': 0.770408163265306}\n",
      "Sample 7\n",
      "Train\n",
      "NE centroid similarity model\n",
      "NE nearest similarity model\n",
      "SVM classifier model\n",
      "Weighted kNN model\n",
      "k = 1, metric: cosine\n",
      "[====================] 100%\n",
      "NE centroid + words kNN similarity model\n",
      "k = 10, metric: dot_prod\n",
      "[====================] 100%\n",
      "F1 scores: {'ne_centroid': 0.6923076923076923, 'ne_nearest': 0.5273972602739726, 'weighted_kNN': 0.7214854111405835, 'centroid_kNN': 0.6869300911854103, 'svm': 0.7548209366391184}\n",
      "Sample 8\n",
      "Train\n",
      "NE centroid similarity model\n",
      "NE nearest similarity model\n",
      "SVM classifier model\n",
      "Weighted kNN model\n",
      "k = 1, metric: cosine\n",
      "[====================] 100%\n",
      "NE centroid + words kNN similarity model\n",
      "k = 10, metric: dot_prod\n",
      "[====================] 100%\n",
      "F1 scores: {'ne_centroid': 0.7267080745341615, 'ne_nearest': 0.49517684887459806, 'weighted_kNN': 0.7126436781609194, 'centroid_kNN': 0.7888888888888889, 'svm': 0.8146341463414635}\n",
      "Sample 9\n",
      "Train\n"
     ]
    },
    {
     "name": "stdout",
     "output_type": "stream",
     "text": [
      "NE centroid similarity model\n",
      "NE nearest similarity model\n",
      "SVM classifier model\n",
      "Weighted kNN model\n",
      "k = 1, metric: cosine\n",
      "[====================] 100%\n",
      "NE centroid + words kNN similarity model\n",
      "k = 10, metric: dot_prod\n",
      "[====================] 100%\n",
      "F1 scores: {'ne_centroid': 0.7089337175792507, 'ne_nearest': 0.33198380566801616, 'weighted_kNN': 0.6666666666666666, 'centroid_kNN': 0.7376623376623376, 'svm': 0.7342995169082126}\n",
      "Sample 10\n",
      "Train\n",
      "NE centroid similarity model\n",
      "NE nearest similarity model\n",
      "SVM classifier model\n",
      "Weighted kNN model\n",
      "k = 1, metric: cosine\n",
      "[====================] 100%\n",
      "NE centroid + words kNN similarity model\n",
      "k = 10, metric: dot_prod\n",
      "[====================] 100%\n",
      "F1 scores: {'ne_centroid': 0.7331670822942644, 'ne_nearest': 0.35146443514644354, 'weighted_kNN': 0.7548076923076923, 'centroid_kNN': 0.8208092485549133, 'svm': 0.8682170542635659}\n",
      "ne_centroid F1: mean = 0.7365936417695736 std = 0.02964126410506379\n",
      "ne_nearest F1: mean = 0.45583844070161933 std = 0.08964473748151745\n",
      "weighted_kNN F1: mean = 0.7227750380990516 std = 0.027365289068276157\n",
      "centroid_kNN F1: mean = 0.7389487656315532 std = 0.05298849943087887\n",
      "svm F1: mean = 0.7851327829645148 std = 0.042799450273879734\n",
      "NE type: ORG\n",
      "Num of train sentences: 9537\n",
      "Num of valid sentences: 1262\n",
      "Num of test sentences: 1230\n",
      "Sample 1\n",
      "Train\n",
      "NE centroid similarity model\n",
      "NE nearest similarity model\n",
      "SVM classifier model\n",
      "Weighted kNN model\n",
      "k = 1, metric: cosine\n",
      "[====================] 100%\n",
      "NE centroid + words kNN similarity model\n",
      "k = 10, metric: dot_prod\n",
      "[====================] 100%\n",
      "F1 scores: {'ne_centroid': 0.642409033877039, 'ne_nearest': 0.13333333333333333, 'weighted_kNN': 0.6308492201039863, 'centroid_kNN': 0.6292947558770343, 'svm': 0.7336122733612273}\n",
      "Sample 2\n",
      "Train\n",
      "NE centroid similarity model\n",
      "NE nearest similarity model\n",
      "SVM classifier model\n",
      "Weighted kNN model\n",
      "k = 1, metric: cosine\n",
      "[====================] 100%\n",
      "NE centroid + words kNN similarity model\n",
      "k = 10, metric: dot_prod\n",
      "[====================] 100%\n",
      "F1 scores: {'ne_centroid': 0.545673076923077, 'ne_nearest': 0.25157232704402516, 'weighted_kNN': 0.6842923794712287, 'centroid_kNN': 0.5258799171842651, 'svm': 0.7801418439716312}\n",
      "Sample 3\n",
      "Train\n",
      "NE centroid similarity model\n",
      "NE nearest similarity model\n",
      "SVM classifier model\n",
      "Weighted kNN model\n",
      "k = 1, metric: cosine\n",
      "[====================] 100%\n",
      "NE centroid + words kNN similarity model\n",
      "k = 10, metric: dot_prod\n",
      "[====================] 100%\n",
      "F1 scores: {'ne_centroid': 0.56021409455843, 'ne_nearest': 0.2379862700228833, 'weighted_kNN': 0.6917293233082706, 'centroid_kNN': 0.5492424242424242, 'svm': 0.7421236872812136}\n",
      "Sample 4\n",
      "Train\n",
      "NE centroid similarity model\n",
      "NE nearest similarity model\n",
      "SVM classifier model\n",
      "Weighted kNN model\n",
      "k = 1, metric: cosine\n",
      "[====================] 100%\n",
      "NE centroid + words kNN similarity model\n",
      "k = 10, metric: dot_prod\n",
      "[====================] 100%\n",
      "F1 scores: {'ne_centroid': 0.5434412265758092, 'ne_nearest': 0.1918819188191882, 'weighted_kNN': 0.6292749658002735, 'centroid_kNN': 0.3284823284823285, 'svm': 0.7445997458703939}\n",
      "Sample 5\n",
      "Train\n",
      "NE centroid similarity model\n",
      "NE nearest similarity model\n",
      "SVM classifier model\n",
      "Weighted kNN model\n",
      "k = 1, metric: cosine\n",
      "[====================] 100%\n",
      "NE centroid + words kNN similarity model\n",
      "k = 10, metric: dot_prod\n",
      "[====================] 100%\n",
      "F1 scores: {'ne_centroid': 0.6510067114093959, 'ne_nearest': 0.23320158102766797, 'weighted_kNN': 0.4827586206896552, 'centroid_kNN': 0.022099447513812154, 'svm': 0.7150259067357512}\n",
      "Sample 6\n",
      "Train\n",
      "NE centroid similarity model\n",
      "NE nearest similarity model\n",
      "SVM classifier model\n",
      "Weighted kNN model\n",
      "k = 1, metric: cosine\n",
      "[====================] 100%\n",
      "NE centroid + words kNN similarity model\n",
      "k = 10, metric: dot_prod\n",
      "[====================] 100%\n",
      "F1 scores: {'ne_centroid': 0.5296803652968037, 'ne_nearest': 0.1841432225063939, 'weighted_kNN': 0.6464088397790055, 'centroid_kNN': 0.5753968253968255, 'svm': 0.7291399229781771}\n",
      "Sample 7\n",
      "Train\n",
      "NE centroid similarity model\n",
      "NE nearest similarity model\n",
      "SVM classifier model\n",
      "Weighted kNN model\n",
      "k = 1, metric: cosine\n",
      "[====================] 100%\n",
      "NE centroid + words kNN similarity model\n",
      "k = 10, metric: dot_prod\n",
      "[====================] 100%\n",
      "F1 scores: {'ne_centroid': 0.5694444444444444, 'ne_nearest': 0.15718157181571818, 'weighted_kNN': 0.6869009584664537, 'centroid_kNN': 0.6178217821782178, 'svm': 0.7610350076103501}\n",
      "Sample 8\n",
      "Train\n",
      "NE centroid similarity model\n",
      "NE nearest similarity model\n",
      "SVM classifier model\n",
      "Weighted kNN model\n",
      "k = 1, metric: cosine\n",
      "[====================] 100%\n",
      "NE centroid + words kNN similarity model\n",
      "k = 10, metric: dot_prod\n",
      "[====================] 100%\n",
      "F1 scores: {'ne_centroid': 0.5691906005221932, 'ne_nearest': 0.21294363256784968, 'weighted_kNN': 0.6160849772382399, 'centroid_kNN': 0.32962138084632514, 'svm': 0.8022598870056498}\n",
      "Sample 9\n",
      "Train\n",
      "NE centroid similarity model\n",
      "NE nearest similarity model\n",
      "SVM classifier model\n",
      "Weighted kNN model\n",
      "k = 1, metric: cosine\n",
      "[====================] 100%\n",
      "NE centroid + words kNN similarity model\n",
      "k = 10, metric: dot_prod\n",
      "[====================] 100%\n",
      "F1 scores: {'ne_centroid': 0.5818639798488665, 'ne_nearest': 0.17209302325581394, 'weighted_kNN': 0.5994623655913978, 'centroid_kNN': 0.5971943887775552, 'svm': 0.6763925729442971}\n",
      "Sample 10\n",
      "Train\n",
      "NE centroid similarity model\n",
      "NE nearest similarity model\n",
      "SVM classifier model\n",
      "Weighted kNN model\n",
      "k = 1, metric: cosine\n",
      "[====================] 100%\n",
      "NE centroid + words kNN similarity model\n",
      "k = 10, metric: dot_prod\n",
      "[====================] 100%\n",
      "F1 scores: {'ne_centroid': 0.6263345195729536, 'ne_nearest': 0.2050113895216401, 'weighted_kNN': 0.6575342465753424, 'centroid_kNN': 0.4770240700218819, 'svm': 0.6948480845442536}\n",
      "ne_centroid F1: mean = 0.5819258053029012 std = 0.04088619273312522\n",
      "ne_nearest F1: mean = 0.1979348269914514 std = 0.03567773967800972\n",
      "weighted_kNN F1: mean = 0.6325295897023854 std = 0.058109149899313664\n",
      "centroid_kNN F1: mean = 0.46520573205206694 std = 0.18002297889815197\n",
      "svm F1: mean = 0.7379178932302946 std = 0.03574842463826211\n",
      "NE type: LOC\n",
      "Num of train sentences: 1312\n",
      "Num of valid sentences: 179\n",
      "Num of test sentences: 150\n",
      "Sample 1\n",
      "Train\n",
      "NE centroid similarity model\n",
      "NE nearest similarity model\n",
      "SVM classifier model\n",
      "Weighted kNN model\n",
      "k = 1, metric: cosine\n",
      "[====================] 100%\n",
      "NE centroid + words kNN similarity model\n",
      "k = 10, metric: dot_prod\n",
      "[====================] 100%\n",
      "F1 scores: {'ne_centroid': 0.5631929046563192, 'ne_nearest': 0.531328320802005, 'weighted_kNN': 0.6162361623616236, 'centroid_kNN': 0.5379746835443038, 'svm': 0.6705202312138728}\n",
      "Sample 2\n",
      "Train\n",
      "NE centroid similarity model\n",
      "NE nearest similarity model\n",
      "SVM classifier model\n",
      "Weighted kNN model\n",
      "k = 1, metric: cosine\n",
      "[====================] 100%\n",
      "NE centroid + words kNN similarity model\n",
      "k = 10, metric: dot_prod\n",
      "[====================] 100%\n",
      "F1 scores: {'ne_centroid': 0.5163297045101088, 'ne_nearest': 0.4578313253012048, 'weighted_kNN': 0.5843478260869566, 'centroid_kNN': 0.6010638297872342, 'svm': 0.6622734761120264}\n",
      "Sample 3\n",
      "Train\n",
      "NE centroid similarity model\n",
      "NE nearest similarity model\n",
      "SVM classifier model\n",
      "Weighted kNN model\n",
      "k = 1, metric: cosine\n",
      "[====================] 100%\n",
      "NE centroid + words kNN similarity model\n",
      "k = 10, metric: dot_prod\n",
      "[====================] 100%\n",
      "F1 scores: {'ne_centroid': 0.6229508196721311, 'ne_nearest': 0.4364508393285372, 'weighted_kNN': 0.6578947368421052, 'centroid_kNN': 0.6637744034707158, 'svm': 0.7140902872777019}\n",
      "Sample 4\n",
      "Train\n",
      "NE centroid similarity model\n",
      "NE nearest similarity model\n",
      "SVM classifier model\n",
      "Weighted kNN model\n",
      "k = 1, metric: cosine\n",
      "[====================] 100%\n",
      "NE centroid + words kNN similarity model\n",
      "k = 10, metric: dot_prod\n",
      "[====================] 100%\n",
      "F1 scores: {'ne_centroid': 0.6440129449838187, 'ne_nearest': 0.5116279069767442, 'weighted_kNN': 0.7024029574861369, 'centroid_kNN': 0.6713615023474179, 'svm': 0.7137809187279153}\n",
      "Sample 5\n",
      "Train\n",
      "NE centroid similarity model\n",
      "NE nearest similarity model\n",
      "SVM classifier model\n",
      "Weighted kNN model\n",
      "k = 1, metric: cosine\n",
      "[====================] 100%\n",
      "NE centroid + words kNN similarity model\n",
      "k = 10, metric: dot_prod\n",
      "[====================] 100%\n",
      "F1 scores: {'ne_centroid': 0.6527196652719665, 'ne_nearest': 0.4949494949494949, 'weighted_kNN': 0.6706586826347305, 'centroid_kNN': 0.6628352490421455, 'svm': 0.689075630252101}\n",
      "Sample 6\n",
      "Train\n"
     ]
    },
    {
     "name": "stdout",
     "output_type": "stream",
     "text": [
      "NE centroid similarity model\n",
      "NE nearest similarity model\n",
      "SVM classifier model\n",
      "Weighted kNN model\n",
      "k = 1, metric: cosine\n",
      "[====================] 100%\n",
      "NE centroid + words kNN similarity model\n",
      "k = 10, metric: dot_prod\n",
      "[====================] 100%\n",
      "F1 scores: {'ne_centroid': 0.5598958333333334, 'ne_nearest': 0.4078624078624079, 'weighted_kNN': 0.6625000000000001, 'centroid_kNN': 0.6229508196721312, 'svm': 0.6553191489361703}\n",
      "Sample 7\n",
      "Train\n",
      "NE centroid similarity model\n",
      "NE nearest similarity model\n",
      "SVM classifier model\n",
      "Weighted kNN model\n",
      "k = 1, metric: cosine\n",
      "[====================] 100%\n",
      "NE centroid + words kNN similarity model\n",
      "k = 10, metric: dot_prod\n",
      "[====================] 100%\n",
      "F1 scores: {'ne_centroid': 0.6178623718887262, 'ne_nearest': 0.3890577507598784, 'weighted_kNN': 0.5134649910233393, 'centroid_kNN': 0.6863157894736842, 'svm': 0.5897035881435256}\n",
      "Sample 8\n",
      "Train\n",
      "NE centroid similarity model\n",
      "NE nearest similarity model\n",
      "SVM classifier model\n",
      "Weighted kNN model\n",
      "k = 1, metric: cosine\n",
      "[====================] 100%\n",
      "NE centroid + words kNN similarity model\n",
      "k = 10, metric: dot_prod\n",
      "[====================] 100%\n",
      "F1 scores: {'ne_centroid': 0.6580226904376014, 'ne_nearest': 0.5809768637532133, 'weighted_kNN': 0.6408839779005524, 'centroid_kNN': 0.581453634085213, 'svm': 0.6998394863563403}\n",
      "Sample 9\n",
      "Train\n",
      "NE centroid similarity model\n",
      "NE nearest similarity model\n",
      "SVM classifier model\n",
      "Weighted kNN model\n",
      "k = 1, metric: cosine\n",
      "[====================] 100%\n",
      "NE centroid + words kNN similarity model\n",
      "k = 10, metric: dot_prod\n",
      "[====================] 100%\n",
      "F1 scores: {'ne_centroid': 0.5448613376835236, 'ne_nearest': 0.439882697947214, 'weighted_kNN': 0.5500794912559619, 'centroid_kNN': 0.5966587112171837, 'svm': 0.6237942122186495}\n",
      "Sample 10\n",
      "Train\n",
      "NE centroid similarity model\n",
      "NE nearest similarity model\n",
      "SVM classifier model\n",
      "Weighted kNN model\n",
      "k = 1, metric: cosine\n",
      "[====================] 100%\n",
      "NE centroid + words kNN similarity model\n",
      "k = 10, metric: dot_prod\n",
      "[====================] 100%\n",
      "F1 scores: {'ne_centroid': 0.6635802469135803, 'ne_nearest': 0.3987341772151899, 'weighted_kNN': 0.6474820143884892, 'centroid_kNN': 0.5967365967365967, 'svm': 0.7041800643086816}\n",
      "ne_centroid F1: mean = 0.6043428519351111 std = 0.050780784299417785\n",
      "ne_nearest F1: mean = 0.46487017848958895 std = 0.059867734837416926\n",
      "weighted_kNN F1: mean = 0.6245950839979896 std = 0.055769968573212564\n",
      "centroid_kNN F1: mean = 0.6221125219376626 std = 0.045176852219523875\n",
      "svm F1: mean = 0.6722577043546986 std = 0.038846218838407526\n"
     ]
    }
   ],
   "source": [
    "from collections import defaultdict\n",
    "f1_scores = {}\n",
    "for ne_type in NE_TYPES:\n",
    "    print('NE type: {}'.format(ne_type))\n",
    "    dataset = filter_dataset_by_ne_types(dataset_orig, ne_type)\n",
    "    f1_scores[ne_type] = {}\n",
    "    for model in MODELS:\n",
    "        f1_scores[ne_type][model] = {'values':[]}\n",
    "    for idx_sample in range(N_SAMPLES):\n",
    "        print('Sample {}'.format(idx_sample+1))\n",
    "        tokens_train,tags_train = get_data_sample(dataset['train'], N_EXAMPLES)\n",
    "        tokens_test,tags_test = get_data_sample(dataset['test'], N_TEST_SENTENCES)\n",
    "        y_test = np.array([1 if t == 'T' else 0 for seq in tags_test for t in seq])\n",
    "        ner_bin_clf = FewshotNerBinaryClassifier(embedder)\n",
    "        ner_bin_clf.train_on_batch(tokens_train, tags_train)\n",
    "        results = ner_bin_clf.predict(tokens_test, MODELS, MODEL_PARAMS)\n",
    "        pred_avg = np.zeros(y_test.size)\n",
    "        n_models_avg = 0\n",
    "        for model in MODELS:\n",
    "            pred = results[model]['pred']\n",
    "            if model in ['ne_centroid', 'weighted_kNN', 'centroid_kNN', 'svm']:   \n",
    "                pred_avg += pred\n",
    "                n_models_avg += 1\n",
    "            f1 = f1_score(y_test, pred)\n",
    "            f1_scores[ne_type][model]['values'].append(f1)\n",
    "        pred_avg /= n_models_avg\n",
    "        \n",
    "        cur_f1_scores_dict = {k: f1_scores[ne_type][k]['values'][-1] for k in f1_scores[ne_type].keys()}\n",
    "        print('F1 scores: {}'.format(cur_f1_scores_dict))\n",
    "    for model in MODELS:\n",
    "        f1_scores[ne_type][model]['mean'] = np.mean(f1_scores[ne_type][model]['values'])\n",
    "        f1_scores[ne_type][model]['std'] = np.std(f1_scores[ne_type][model]['values'])\n",
    "        print('{} F1: mean = {} std = {}'.format(model, f1_scores[ne_type][model]['mean'], f1_scores[ne_type][model]['std']))"
   ]
  },
  {
   "cell_type": "markdown",
   "metadata": {},
   "source": [
    "### Print results"
   ]
  },
  {
   "cell_type": "code",
   "execution_count": 7,
   "metadata": {},
   "outputs": [
    {
     "name": "stdout",
     "output_type": "stream",
     "text": [
      "MODEL   \tMEAN    \tSTD     \n",
      "---------------PERSON---------------\n",
      "ne_centroid\t67.36   \t13.30   \n",
      "ne_nearest\t24.72   \t9.11    \n",
      "weighted_kNN\t84.73   \t4.09    \n",
      "centroid_kNN\t79.87   \t9.20    \n",
      "svm     \t86.07   \t2.44    \n",
      "---------------GPE---------------\n",
      "ne_centroid\t73.66   \t2.96    \n",
      "ne_nearest\t45.58   \t8.96    \n",
      "weighted_kNN\t72.28   \t2.74    \n",
      "centroid_kNN\t73.89   \t5.30    \n",
      "svm     \t78.51   \t4.28    \n",
      "---------------ORG---------------\n",
      "ne_centroid\t58.19   \t4.09    \n",
      "ne_nearest\t19.79   \t3.57    \n",
      "weighted_kNN\t63.25   \t5.81    \n",
      "centroid_kNN\t46.52   \t18.00   \n",
      "svm     \t73.79   \t3.57    \n",
      "---------------LOC---------------\n",
      "ne_centroid\t60.43   \t5.08    \n",
      "ne_nearest\t46.49   \t5.99    \n",
      "weighted_kNN\t62.46   \t5.58    \n",
      "centroid_kNN\t62.21   \t4.52    \n",
      "svm     \t67.23   \t3.88    \n"
     ]
    }
   ],
   "source": [
    "print('{:<8s}\\t{:<8s}\\t{:<8s}'.format('MODEL', 'MEAN', 'STD'))\n",
    "for ne_type in NE_TYPES:\n",
    "    print('---------------{}---------------'.format(ne_type))\n",
    "    for model in MODELS:\n",
    "        print('{:<8s}\\t{:<8.2f}\\t{:<8.2f}'.format(model, f1_scores[ne_type][model]['mean']*100, f1_scores[ne_type][model]['std']*100))"
   ]
  },
  {
   "cell_type": "code",
   "execution_count": null,
   "metadata": {},
   "outputs": [],
   "source": []
  }
 ],
 "metadata": {
  "kernelspec": {
   "display_name": "Python 3",
   "language": "python",
   "name": "python3"
  },
  "language_info": {
   "codemirror_mode": {
    "name": "ipython",
    "version": 3
   },
   "file_extension": ".py",
   "mimetype": "text/x-python",
   "name": "python",
   "nbconvert_exporter": "python",
   "pygments_lexer": "ipython3",
   "version": "3.6.5"
  }
 },
 "nbformat": 4,
 "nbformat_minor": 2
}
