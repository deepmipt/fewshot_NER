{
 "cells": [
  {
   "cell_type": "code",
   "execution_count": 123,
   "metadata": {},
   "outputs": [],
   "source": [
    "import copy\n",
    "import os\n",
    "import numpy as np\n",
    "import matplotlib.pyplot as plt\n",
    "import tensorflow as tf\n",
    "import tensorflow_hub as hub\n",
    "import deeppavlov\n",
    "from deeppavlov.dataset_readers.ontonotes_reader import OntonotesReader\n",
    "from deeppavlov.models.preprocessors.capitalization import CapitalizationPreprocessor\n",
    "from deeppavlov.models.embedders.glove_embedder import GloVeEmbedder"
   ]
  },
  {
   "cell_type": "markdown",
   "metadata": {},
   "source": [
    "### Read data"
   ]
  },
  {
   "cell_type": "code",
   "execution_count": 124,
   "metadata": {},
   "outputs": [
    {
     "name": "stdout",
     "output_type": "stream",
     "text": [
      "dict_keys(['train', 'valid', 'test'])\n",
      "Num of train sentences: 75187\n",
      "Num of test sentences: 9479\n"
     ]
    }
   ],
   "source": [
    "reader = OntonotesReader()\n",
    "dataset = reader.read(data_path='data/')\n",
    "print(dataset.keys())\n",
    "print('Num of train sentences: {}'.format(len(dataset['train'])))\n",
    "print('Num of test sentences: {}'.format(len(dataset['test'])))"
   ]
  },
  {
   "cell_type": "markdown",
   "metadata": {},
   "source": [
    "### Select few examples"
   ]
  },
  {
   "cell_type": "code",
   "execution_count": 125,
   "metadata": {},
   "outputs": [
    {
     "name": "stdout",
     "output_type": "stream",
     "text": [
      "[(['Mr.', 'Bush', 'also', 'named', 'former', 'Cuban', 'refugee', 'Mel', 'Martinez', 'as', 'Secretary', 'of', 'Housing', 'and', 'Urban', 'Development', '.'], ['O', 'B-PERSON', 'O', 'O', 'O', 'B-NORP', 'O', 'B-PERSON', 'I-PERSON', 'O', 'O', 'O', 'B-ORG', 'I-ORG', 'I-ORG', 'I-ORG', 'O']), (['Currently', ',', 'the', 'degree', 'of', 'dependence', 'on', 'the', 'outside', 'of', 'China', \"'s\", 'economy', 'has', 'reached', '42', '%', ',', 'and', 'the', 'space', 'of', 'utilizing', 'overseas', 'markets', 'and', 'resources', 'is', 'in', 'the', 'process', 'of', 'expanding', ',', 'but', 'is', 'more', 'easily', 'subject', 'to', 'the', 'influences', 'of', 'the', 'international', 'environment', '.'], ['O', 'O', 'O', 'O', 'O', 'O', 'O', 'O', 'O', 'O', 'B-GPE', 'O', 'O', 'O', 'O', 'B-PERCENT', 'I-PERCENT', 'O', 'O', 'O', 'O', 'O', 'O', 'O', 'O', 'O', 'O', 'O', 'O', 'O', 'O', 'O', 'O', 'O', 'O', 'O', 'O', 'O', 'O', 'O', 'O', 'O', 'O', 'O', 'O', 'O', 'O']), (['But', 'whether', 'such', 'moves', 'can', 'win', 'back', 'the', 'confidence', 'of', 'East', 'Germans', ',', 'who', 'have', 'taken', 'to', 'the', 'streets', 'by', 'the', 'thousands', 'in', 'recent', 'weeks', 'to', 'demand', 'democratic', 'changes', ',', 'depends', 'largely', 'on', 'whether', 'they', 'feel', 'they', 'can', 'trust', 'Mr.', 'Krenz', '.'], ['O', 'O', 'O', 'O', 'O', 'O', 'O', 'O', 'O', 'O', 'B-NORP', 'I-NORP', 'O', 'O', 'O', 'O', 'O', 'O', 'O', 'O', 'O', 'B-CARDINAL', 'O', 'B-DATE', 'I-DATE', 'O', 'O', 'O', 'O', 'O', 'O', 'O', 'O', 'O', 'O', 'O', 'O', 'O', 'O', 'O', 'B-PERSON', 'O']), (['Andy', 'Cairns'], ['B-PERSON', 'I-PERSON']), (['I', 'totally', 'insist', 'on', 'it', '.'], ['O', 'O', 'O', 'O', 'O', 'O']), (['kind', 'of', 'threw', 'me', 'off'], ['O', 'O', 'O', 'O', 'O']), (['We', 'have', 'had', 'the', 'most', 'truthful', ',', 'constructive', ',', 'profound', 'negotiations', 'ever', 'to', 'be', 'held', 'since', 'this', 'phase', 'in', 'the', 'peace', 'talks', 'has', 'started', '.'], ['O', 'O', 'O', 'O', 'O', 'O', 'O', 'O', 'O', 'O', 'O', 'O', 'O', 'O', 'O', 'O', 'O', 'O', 'O', 'O', 'O', 'O', 'O', 'O', 'O']), (['How', 'much', 'of', 'the', 'ancient', 'form', 'of', 'the', 'festival', 'survives', ',', 'and', 'what', 'new', 'elements', 'have', 'been', 'added', 'in', 'our', 'time', '?'], ['O', 'O', 'O', 'O', 'O', 'O', 'O', 'O', 'O', 'O', 'O', 'O', 'O', 'O', 'O', 'O', 'O', 'O', 'O', 'O', 'O', 'O']), (['The', 'notice', 'pointed', 'out', 'that', 'the', 'general', 'goal', 'of', 'fostering', 'and', 'developing', 'the', 'talented', 'people', 'market', 'is', ':', 'to', 'realize', 'individuals', 'independently', 'choosing', 'occupations', ',', 'work', 'units', 'independently', 'choosing', 'personnel', ',', 'markets', 'adjusting', 'to', 'supply', 'and', 'demand', ',', 'social', 'services', 'improving', ',', 'and', 'social', 'security', 'strengthening', ',', 'and', 'let', 'the', 'market', 'play', 'a', 'foundational', 'role', 'in', 'the', 'allocation', 'of', 'talent', 'resources', 'under', 'the', 'macro-control', 'of', 'the', 'state', '.'], ['O', 'O', 'O', 'O', 'O', 'O', 'O', 'O', 'O', 'O', 'O', 'O', 'O', 'O', 'O', 'O', 'O', 'O', 'O', 'O', 'O', 'O', 'O', 'O', 'O', 'O', 'O', 'O', 'O', 'O', 'O', 'O', 'O', 'O', 'O', 'O', 'O', 'O', 'O', 'O', 'O', 'O', 'O', 'O', 'O', 'O', 'O', 'O', 'O', 'O', 'O', 'O', 'O', 'O', 'O', 'O', 'O', 'O', 'O', 'O', 'O', 'O', 'O', 'O', 'O', 'O', 'O', 'O']), (['Now', 'without', 'Saddam', 'Hussein', 'you', 'can', 'look', 'across', 'the', 'region', 'and', 'see', 'that', 'uh', 'a', 'lot', 'is', 'changing', 'thanks', 'to', 'the', 'President', \"'s\", 'democracy', 'uh', 'promotion', 'and', 'the', 'hard', 'work', 'of', 'people', 'in', 'those', 'countries', '/.'], ['O', 'O', 'B-PERSON', 'I-PERSON', 'O', 'O', 'O', 'O', 'O', 'O', 'O', 'O', 'O', 'O', 'O', 'O', 'O', 'O', 'O', 'O', 'O', 'O', 'O', 'O', 'O', 'O', 'O', 'O', 'O', 'O', 'O', 'O', 'O', 'O', 'O', 'O'])]\n"
     ]
    }
   ],
   "source": [
    "n_examples = 10\n",
    "np.random.seed(12)\n",
    "indices = np.random.choice(len(dataset['train']), size=n_examples)\n",
    "# indices = (10,20,30,40,50)\n",
    "examples = [dataset['train'][i] for i in indices]\n",
    "print(examples)"
   ]
  },
  {
   "cell_type": "markdown",
   "metadata": {},
   "source": [
    "### Split tokens and tags"
   ]
  },
  {
   "cell_type": "code",
   "execution_count": 126,
   "metadata": {},
   "outputs": [],
   "source": [
    "def split_tokens_tags(dataset: list):\n",
    "    tokens = []\n",
    "    tags = []\n",
    "    for sample in dataset:\n",
    "        tokens.append(sample[0])\n",
    "        tags.append(sample[1])\n",
    "    return tokens, tags"
   ]
  },
  {
   "cell_type": "code",
   "execution_count": 127,
   "metadata": {},
   "outputs": [],
   "source": [
    "tokens_train,tags_train = split_tokens_tags(examples)\n",
    "# print(tags_train)"
   ]
  },
  {
   "cell_type": "markdown",
   "metadata": {},
   "source": [
    "### Elmo wrapper class"
   ]
  },
  {
   "cell_type": "code",
   "execution_count": 128,
   "metadata": {},
   "outputs": [],
   "source": [
    "class ElmoEmbedder():\n",
    "    def __init__(self):\n",
    "        self.elmo = hub.Module(\"https://tfhub.dev/google/elmo/2\", trainable=True)\n",
    "        sess = tf.Session()\n",
    "        sess.run(tf.global_variables_initializer())\n",
    "        self.sess = sess\n",
    "\n",
    "    def get_tokens_embeddings(self, tokens_input: list, tokens_length:list=None):\n",
    "        if not tokens_length:\n",
    "            if isinstance(tokens_input[0], list):\n",
    "                tokens_length = [len(seq) for seq in tokens_input]\n",
    "            else:\n",
    "                tokens_length = len(tokens_input)\n",
    "        embeddings = self.elmo(\n",
    "                        inputs={\n",
    "                            \"tokens\": tokens_input,\n",
    "                            \"sequence_len\": tokens_length\n",
    "                        },\n",
    "                        signature=\"tokens\",\n",
    "                        as_dict=True)[\"elmo\"]\n",
    "        embeddings = self.sess.run([embeddings])\n",
    "        return embeddings[0]"
   ]
  },
  {
   "cell_type": "markdown",
   "metadata": {},
   "source": [
    "### Utility functions"
   ]
  },
  {
   "cell_type": "code",
   "execution_count": 129,
   "metadata": {},
   "outputs": [],
   "source": [
    "def tags2binary(tags, symb=True):\n",
    "    tags = copy.deepcopy(tags)\n",
    "    for seq in tags:\n",
    "        for i in range(len(seq)):\n",
    "            if symb:\n",
    "                if seq[i] != 'O':\n",
    "                    seq[i] = 'T'\n",
    "            else:\n",
    "                seq[i] = 1 if seq[i] != 'O' else 0\n",
    "    return tags"
   ]
  },
  {
   "cell_type": "code",
   "execution_count": 130,
   "metadata": {},
   "outputs": [],
   "source": [
    "def to_lower_case(tokens:list):\n",
    "    tokens_lower = []\n",
    "    for seq in tokens:\n",
    "        tokens_lower.append([])\n",
    "        for token in seq:\n",
    "            tokens_lower[-1].append(token.lower())\n",
    "    return tokens_lower"
   ]
  },
  {
   "cell_type": "code",
   "execution_count": 131,
   "metadata": {},
   "outputs": [],
   "source": [
    "def get_tokens_len(tokens):\n",
    "    if isinstance(tokens[0], str):\n",
    "        tokens = [tokens]\n",
    "    return [len(seq) for seq in tokens]"
   ]
  },
  {
   "cell_type": "code",
   "execution_count": 132,
   "metadata": {},
   "outputs": [],
   "source": [
    "def add_padding(tokens:list):\n",
    "    if isinstance(tokens[0], str):\n",
    "        return tokens, len(tokens)\n",
    "    elif isinstance(tokens[0], list):\n",
    "        tokens = copy.deepcopy(tokens)\n",
    "        max_len = 0\n",
    "        for seq in tokens:\n",
    "            if len(seq) > max_len:\n",
    "                max_len = len(seq)\n",
    "        for seq in tokens:\n",
    "            i = len(seq)\n",
    "            while i < max_len:\n",
    "                seq.append('')\n",
    "                i += 1\n",
    "        return tokens\n",
    "    else:\n",
    "        raise Exception('tokens should be either list of strings or list of lists of strings')"
   ]
  },
  {
   "cell_type": "code",
   "execution_count": 133,
   "metadata": {},
   "outputs": [],
   "source": [
    "def flatten_list(ar: list):\n",
    "    flat = []\n",
    "    for sublist in ar:\n",
    "        flat += sublist\n",
    "    return flat"
   ]
  },
  {
   "cell_type": "code",
   "execution_count": 134,
   "metadata": {},
   "outputs": [],
   "source": [
    "def select_list_elements(ar: list, indices: list):\n",
    "    return [ar[i] for i in indices]"
   ]
  },
  {
   "cell_type": "markdown",
   "metadata": {},
   "source": [
    "### Transform NER to binary classification"
   ]
  },
  {
   "cell_type": "code",
   "execution_count": 135,
   "metadata": {},
   "outputs": [],
   "source": [
    "tags_train = tags2binary(tags_train)"
   ]
  },
  {
   "cell_type": "markdown",
   "metadata": {},
   "source": [
    "### Main embedder"
   ]
  },
  {
   "cell_type": "code",
   "execution_count": 136,
   "metadata": {},
   "outputs": [],
   "source": [
    "class CompositeEmbedder():\n",
    "    def __init__(self, use_elmo=True, elmo_scale=1., use_cap_feat=False, use_glove=False):\n",
    "        self.use_elmo = use_elmo\n",
    "        self.elmo_scale = elmo_scale\n",
    "        self.use_cap_feat = use_cap_feat\n",
    "        self.use_glove = use_glove\n",
    "        if self.use_elmo:\n",
    "            self.elmo = ElmoEmbedder()\n",
    "        if self.use_cap_feat:\n",
    "            self.cap_prep = CapitalizationPreprocessor()\n",
    "        if self.use_glove:\n",
    "            self.glove = GloVeEmbedder('embeddings/glove.6B/glove.6B.100d.txt', pad_zero=True)\n",
    "        \n",
    "    def embed(self, tokens: list):\n",
    "        if isinstance(tokens[0], str):\n",
    "            tokens = [tokens]\n",
    "        # Get ELMo embeddings\n",
    "        if self.use_elmo:\n",
    "            tokens_input = add_padding(tokens)\n",
    "            tokens_length = get_tokens_len(tokens)\n",
    "            embeddings = self.elmo.get_tokens_embeddings(tokens_input, tokens_length)\n",
    "            embeddings *= self.elmo_scale\n",
    "            embed_size = embeddings.shape[-1]\n",
    "#             print(embeddings.shape)\n",
    "#             print(embed_size)\n",
    "\n",
    "        # Use capitalization features\n",
    "        if self.use_cap_feat:\n",
    "#             print('Use capitalization features')\n",
    "            cap_features = self.cap_prep(tokens)\n",
    "    #         print(cap_features)\n",
    "#             print(cap_features.shape)\n",
    "            embeddings = np.concatenate((embeddings, cap_features), axis=2)\n",
    "            embed_size = embeddings.shape[-1]\n",
    "#             print(embeddings.shape)\n",
    "\n",
    "        # Use GloVe embeddings\n",
    "        if self.use_glove:\n",
    "#             print('Use GloVe')\n",
    "            \n",
    "            glove_embed = self.glove(to_lower_case(tokens))\n",
    "            glove_embed = np.array(glove_embed)\n",
    "            if not self.use_elmo:\n",
    "                embeddings = glove_embed\n",
    "            else: \n",
    "                embeddings = np.concatenate((embeddings, glove_embed), axis=2)\n",
    "            embed_size = embeddings.shape[-1]\n",
    "#             print(embeddings.shape)\n",
    "        \n",
    "        return embeddings"
   ]
  },
  {
   "cell_type": "markdown",
   "metadata": {},
   "source": [
    "### Calculate similarity of embedding vector to some prototype (centroid or smth)"
   ]
  },
  {
   "cell_type": "code",
   "execution_count": 137,
   "metadata": {},
   "outputs": [],
   "source": [
    "def calc_sim(token_vec, ne_prototype)->dict:\n",
    "    sim = {}\n",
    "    sim['euc_dist'] = np.linalg.norm(token_vec - ne_prototype)\n",
    "    sim['dot_prod'] = np.dot(token_vec, ne_prototype)\n",
    "    sim['cosine'] = np.dot(token_vec, ne_prototype)/(np.linalg.norm(token_vec)*np.linalg.norm(ne_prototype)) if np.linalg.norm(ne_prototype) != 0 else 0\n",
    "    return sim"
   ]
  },
  {
   "cell_type": "code",
   "execution_count": 138,
   "metadata": {},
   "outputs": [],
   "source": [
    "def calc_sim_batch(tokens: list, embeddings: np.ndarray, ne_prototype: np.ndarray)->list:\n",
    "    sim_list = []\n",
    "    tokens_length = get_tokens_len(tokens)\n",
    "    for i in range(len(tokens_length)):\n",
    "        sim_list.append([])\n",
    "        for j in range(tokens_length[i]):\n",
    "            token_vec = embeddings[i,j,:]\n",
    "            sim_list[i].append(calc_sim(token_vec, ne_prototype))\n",
    "    return sim_list"
   ]
  },
  {
   "cell_type": "code",
   "execution_count": 139,
   "metadata": {},
   "outputs": [],
   "source": [
    "def flatten_sim(sim_list):\n",
    "    sims_flat = {'euc_dist': [], 'dot_prod': [], 'cosine': []}\n",
    "    for i in range(len(sim_list)):\n",
    "        for j in range(len(sim_list[i])):\n",
    "            for sim_type in ['euc_dist', 'dot_prod', 'cosine']:\n",
    "                sims_flat[sim_type].append(sim_list[i][j][sim_type])\n",
    "    for sim_type in ['euc_dist', 'dot_prod', 'cosine']:\n",
    "        sims_flat[sim_type] = np.array(sims_flat[sim_type])\n",
    "    return sims_flat"
   ]
  },
  {
   "cell_type": "markdown",
   "metadata": {},
   "source": [
    "### Calculate centroid for named entities embedding vectors"
   ]
  },
  {
   "cell_type": "code",
   "execution_count": 140,
   "metadata": {},
   "outputs": [],
   "source": [
    "def calc_ne_centroid_vec(tokens: list, tags: list, embeddings: np.ndarray=None, embedder: CompositeEmbedder=None):\n",
    "\n",
    "    # Calculate embeddings\n",
    "    if embedder != None:\n",
    "        embeddings = embedder.embed(tokens)\n",
    "\n",
    "    # Calculate average vector for ne-tags\n",
    "    embed_size = embeddings.shape[-1]\n",
    "    ne_prototype = np.zeros((embed_size,))\n",
    "    tokens_length = get_tokens_len(tokens)\n",
    "    n_ne_tags = 0\n",
    "    for i in range(len(tokens_length)):\n",
    "        for j in range(tokens_length[i]):\n",
    "            if tags[i][j] == 'T':\n",
    "                ne_prototype += embeddings[i,j,:].reshape((embed_size,))\n",
    "                n_ne_tags += 1\n",
    "    if n_ne_tags != 0:\n",
    "        ne_prototype /= n_ne_tags\n",
    "#     print('ne mean vector: {}'.format(ne_prototype))\n",
    "    \n",
    "    # Calculate similarities\n",
    "    sim_list = calc_sim_batch(tokens, embeddings, ne_prototype)\n",
    "\n",
    "    return ne_prototype, sim_list, embeddings"
   ]
  },
  {
   "cell_type": "markdown",
   "metadata": {},
   "source": [
    "### Calculate similarities of some test tokens to NE prototype"
   ]
  },
  {
   "cell_type": "code",
   "execution_count": 141,
   "metadata": {},
   "outputs": [],
   "source": [
    "def calc_sim_to_ne_prototype(tokens: list, ne_prototype: np.ndarray, embeddings: np.ndarray=None, embedder: CompositeEmbedder=None):\n",
    "    if isinstance(tokens[0], str):\n",
    "        tokens = [tokens]\n",
    "    \n",
    "    tokens_length = get_tokens_len(tokens)\n",
    "    \n",
    "    # Calculate embeddings\n",
    "    if embedder != None:\n",
    "        embeddings = embedder.embed(tokens)\n",
    "    \n",
    "    # Calculate similarities\n",
    "    sim_list = calc_sim_batch(tokens, embeddings, ne_prototype)\n",
    "    \n",
    "    return sim_list, embeddings"
   ]
  },
  {
   "cell_type": "code",
   "execution_count": 142,
   "metadata": {},
   "outputs": [
    {
     "name": "stdout",
     "output_type": "stream",
     "text": [
      "INFO:tensorflow:Initialize variable module_2/aggregation/scaling:0 from checkpoint b'/tmp/tfhub_modules/9bb74bc86f9caffc8c47dd7b33ec4bb354d9602d/variables/variables' with aggregation/scaling\n"
     ]
    },
    {
     "name": "stderr",
     "output_type": "stream",
     "text": [
      "2018-08-03 14:40:37.704 INFO in 'tensorflow'['tf_logging'] at line 116: Initialize variable module_2/aggregation/scaling:0 from checkpoint b'/tmp/tfhub_modules/9bb74bc86f9caffc8c47dd7b33ec4bb354d9602d/variables/variables' with aggregation/scaling\n"
     ]
    },
    {
     "name": "stdout",
     "output_type": "stream",
     "text": [
      "INFO:tensorflow:Initialize variable module_2/aggregation/weights:0 from checkpoint b'/tmp/tfhub_modules/9bb74bc86f9caffc8c47dd7b33ec4bb354d9602d/variables/variables' with aggregation/weights\n"
     ]
    },
    {
     "name": "stderr",
     "output_type": "stream",
     "text": [
      "2018-08-03 14:40:37.710 INFO in 'tensorflow'['tf_logging'] at line 116: Initialize variable module_2/aggregation/weights:0 from checkpoint b'/tmp/tfhub_modules/9bb74bc86f9caffc8c47dd7b33ec4bb354d9602d/variables/variables' with aggregation/weights\n"
     ]
    },
    {
     "name": "stdout",
     "output_type": "stream",
     "text": [
      "INFO:tensorflow:Initialize variable module_2/bilm/CNN/W_cnn_0:0 from checkpoint b'/tmp/tfhub_modules/9bb74bc86f9caffc8c47dd7b33ec4bb354d9602d/variables/variables' with bilm/CNN/W_cnn_0\n"
     ]
    },
    {
     "name": "stderr",
     "output_type": "stream",
     "text": [
      "2018-08-03 14:40:37.716 INFO in 'tensorflow'['tf_logging'] at line 116: Initialize variable module_2/bilm/CNN/W_cnn_0:0 from checkpoint b'/tmp/tfhub_modules/9bb74bc86f9caffc8c47dd7b33ec4bb354d9602d/variables/variables' with bilm/CNN/W_cnn_0\n"
     ]
    },
    {
     "name": "stdout",
     "output_type": "stream",
     "text": [
      "INFO:tensorflow:Initialize variable module_2/bilm/CNN/W_cnn_1:0 from checkpoint b'/tmp/tfhub_modules/9bb74bc86f9caffc8c47dd7b33ec4bb354d9602d/variables/variables' with bilm/CNN/W_cnn_1\n"
     ]
    },
    {
     "name": "stderr",
     "output_type": "stream",
     "text": [
      "2018-08-03 14:40:37.724 INFO in 'tensorflow'['tf_logging'] at line 116: Initialize variable module_2/bilm/CNN/W_cnn_1:0 from checkpoint b'/tmp/tfhub_modules/9bb74bc86f9caffc8c47dd7b33ec4bb354d9602d/variables/variables' with bilm/CNN/W_cnn_1\n"
     ]
    },
    {
     "name": "stdout",
     "output_type": "stream",
     "text": [
      "INFO:tensorflow:Initialize variable module_2/bilm/CNN/W_cnn_2:0 from checkpoint b'/tmp/tfhub_modules/9bb74bc86f9caffc8c47dd7b33ec4bb354d9602d/variables/variables' with bilm/CNN/W_cnn_2\n"
     ]
    },
    {
     "name": "stderr",
     "output_type": "stream",
     "text": [
      "2018-08-03 14:40:37.731 INFO in 'tensorflow'['tf_logging'] at line 116: Initialize variable module_2/bilm/CNN/W_cnn_2:0 from checkpoint b'/tmp/tfhub_modules/9bb74bc86f9caffc8c47dd7b33ec4bb354d9602d/variables/variables' with bilm/CNN/W_cnn_2\n"
     ]
    },
    {
     "name": "stdout",
     "output_type": "stream",
     "text": [
      "INFO:tensorflow:Initialize variable module_2/bilm/CNN/W_cnn_3:0 from checkpoint b'/tmp/tfhub_modules/9bb74bc86f9caffc8c47dd7b33ec4bb354d9602d/variables/variables' with bilm/CNN/W_cnn_3\n"
     ]
    },
    {
     "name": "stderr",
     "output_type": "stream",
     "text": [
      "2018-08-03 14:40:37.738 INFO in 'tensorflow'['tf_logging'] at line 116: Initialize variable module_2/bilm/CNN/W_cnn_3:0 from checkpoint b'/tmp/tfhub_modules/9bb74bc86f9caffc8c47dd7b33ec4bb354d9602d/variables/variables' with bilm/CNN/W_cnn_3\n"
     ]
    },
    {
     "name": "stdout",
     "output_type": "stream",
     "text": [
      "INFO:tensorflow:Initialize variable module_2/bilm/CNN/W_cnn_4:0 from checkpoint b'/tmp/tfhub_modules/9bb74bc86f9caffc8c47dd7b33ec4bb354d9602d/variables/variables' with bilm/CNN/W_cnn_4\n"
     ]
    },
    {
     "name": "stderr",
     "output_type": "stream",
     "text": [
      "2018-08-03 14:40:37.743 INFO in 'tensorflow'['tf_logging'] at line 116: Initialize variable module_2/bilm/CNN/W_cnn_4:0 from checkpoint b'/tmp/tfhub_modules/9bb74bc86f9caffc8c47dd7b33ec4bb354d9602d/variables/variables' with bilm/CNN/W_cnn_4\n"
     ]
    },
    {
     "name": "stdout",
     "output_type": "stream",
     "text": [
      "INFO:tensorflow:Initialize variable module_2/bilm/CNN/W_cnn_5:0 from checkpoint b'/tmp/tfhub_modules/9bb74bc86f9caffc8c47dd7b33ec4bb354d9602d/variables/variables' with bilm/CNN/W_cnn_5\n"
     ]
    },
    {
     "name": "stderr",
     "output_type": "stream",
     "text": [
      "2018-08-03 14:40:37.752 INFO in 'tensorflow'['tf_logging'] at line 116: Initialize variable module_2/bilm/CNN/W_cnn_5:0 from checkpoint b'/tmp/tfhub_modules/9bb74bc86f9caffc8c47dd7b33ec4bb354d9602d/variables/variables' with bilm/CNN/W_cnn_5\n"
     ]
    },
    {
     "name": "stdout",
     "output_type": "stream",
     "text": [
      "INFO:tensorflow:Initialize variable module_2/bilm/CNN/W_cnn_6:0 from checkpoint b'/tmp/tfhub_modules/9bb74bc86f9caffc8c47dd7b33ec4bb354d9602d/variables/variables' with bilm/CNN/W_cnn_6\n"
     ]
    },
    {
     "name": "stderr",
     "output_type": "stream",
     "text": [
      "2018-08-03 14:40:37.759 INFO in 'tensorflow'['tf_logging'] at line 116: Initialize variable module_2/bilm/CNN/W_cnn_6:0 from checkpoint b'/tmp/tfhub_modules/9bb74bc86f9caffc8c47dd7b33ec4bb354d9602d/variables/variables' with bilm/CNN/W_cnn_6\n"
     ]
    },
    {
     "name": "stdout",
     "output_type": "stream",
     "text": [
      "INFO:tensorflow:Initialize variable module_2/bilm/CNN/b_cnn_0:0 from checkpoint b'/tmp/tfhub_modules/9bb74bc86f9caffc8c47dd7b33ec4bb354d9602d/variables/variables' with bilm/CNN/b_cnn_0\n"
     ]
    },
    {
     "name": "stderr",
     "output_type": "stream",
     "text": [
      "2018-08-03 14:40:37.767 INFO in 'tensorflow'['tf_logging'] at line 116: Initialize variable module_2/bilm/CNN/b_cnn_0:0 from checkpoint b'/tmp/tfhub_modules/9bb74bc86f9caffc8c47dd7b33ec4bb354d9602d/variables/variables' with bilm/CNN/b_cnn_0\n"
     ]
    },
    {
     "name": "stdout",
     "output_type": "stream",
     "text": [
      "INFO:tensorflow:Initialize variable module_2/bilm/CNN/b_cnn_1:0 from checkpoint b'/tmp/tfhub_modules/9bb74bc86f9caffc8c47dd7b33ec4bb354d9602d/variables/variables' with bilm/CNN/b_cnn_1\n"
     ]
    },
    {
     "name": "stderr",
     "output_type": "stream",
     "text": [
      "2018-08-03 14:40:37.774 INFO in 'tensorflow'['tf_logging'] at line 116: Initialize variable module_2/bilm/CNN/b_cnn_1:0 from checkpoint b'/tmp/tfhub_modules/9bb74bc86f9caffc8c47dd7b33ec4bb354d9602d/variables/variables' with bilm/CNN/b_cnn_1\n"
     ]
    },
    {
     "name": "stdout",
     "output_type": "stream",
     "text": [
      "INFO:tensorflow:Initialize variable module_2/bilm/CNN/b_cnn_2:0 from checkpoint b'/tmp/tfhub_modules/9bb74bc86f9caffc8c47dd7b33ec4bb354d9602d/variables/variables' with bilm/CNN/b_cnn_2\n"
     ]
    },
    {
     "name": "stderr",
     "output_type": "stream",
     "text": [
      "2018-08-03 14:40:37.781 INFO in 'tensorflow'['tf_logging'] at line 116: Initialize variable module_2/bilm/CNN/b_cnn_2:0 from checkpoint b'/tmp/tfhub_modules/9bb74bc86f9caffc8c47dd7b33ec4bb354d9602d/variables/variables' with bilm/CNN/b_cnn_2\n"
     ]
    },
    {
     "name": "stdout",
     "output_type": "stream",
     "text": [
      "INFO:tensorflow:Initialize variable module_2/bilm/CNN/b_cnn_3:0 from checkpoint b'/tmp/tfhub_modules/9bb74bc86f9caffc8c47dd7b33ec4bb354d9602d/variables/variables' with bilm/CNN/b_cnn_3\n"
     ]
    },
    {
     "name": "stderr",
     "output_type": "stream",
     "text": [
      "2018-08-03 14:40:37.787 INFO in 'tensorflow'['tf_logging'] at line 116: Initialize variable module_2/bilm/CNN/b_cnn_3:0 from checkpoint b'/tmp/tfhub_modules/9bb74bc86f9caffc8c47dd7b33ec4bb354d9602d/variables/variables' with bilm/CNN/b_cnn_3\n"
     ]
    },
    {
     "name": "stdout",
     "output_type": "stream",
     "text": [
      "INFO:tensorflow:Initialize variable module_2/bilm/CNN/b_cnn_4:0 from checkpoint b'/tmp/tfhub_modules/9bb74bc86f9caffc8c47dd7b33ec4bb354d9602d/variables/variables' with bilm/CNN/b_cnn_4\n"
     ]
    },
    {
     "name": "stderr",
     "output_type": "stream",
     "text": [
      "2018-08-03 14:40:37.796 INFO in 'tensorflow'['tf_logging'] at line 116: Initialize variable module_2/bilm/CNN/b_cnn_4:0 from checkpoint b'/tmp/tfhub_modules/9bb74bc86f9caffc8c47dd7b33ec4bb354d9602d/variables/variables' with bilm/CNN/b_cnn_4\n"
     ]
    },
    {
     "name": "stdout",
     "output_type": "stream",
     "text": [
      "INFO:tensorflow:Initialize variable module_2/bilm/CNN/b_cnn_5:0 from checkpoint b'/tmp/tfhub_modules/9bb74bc86f9caffc8c47dd7b33ec4bb354d9602d/variables/variables' with bilm/CNN/b_cnn_5\n"
     ]
    },
    {
     "name": "stderr",
     "output_type": "stream",
     "text": [
      "2018-08-03 14:40:37.804 INFO in 'tensorflow'['tf_logging'] at line 116: Initialize variable module_2/bilm/CNN/b_cnn_5:0 from checkpoint b'/tmp/tfhub_modules/9bb74bc86f9caffc8c47dd7b33ec4bb354d9602d/variables/variables' with bilm/CNN/b_cnn_5\n"
     ]
    },
    {
     "name": "stdout",
     "output_type": "stream",
     "text": [
      "INFO:tensorflow:Initialize variable module_2/bilm/CNN/b_cnn_6:0 from checkpoint b'/tmp/tfhub_modules/9bb74bc86f9caffc8c47dd7b33ec4bb354d9602d/variables/variables' with bilm/CNN/b_cnn_6\n"
     ]
    },
    {
     "name": "stderr",
     "output_type": "stream",
     "text": [
      "2018-08-03 14:40:37.810 INFO in 'tensorflow'['tf_logging'] at line 116: Initialize variable module_2/bilm/CNN/b_cnn_6:0 from checkpoint b'/tmp/tfhub_modules/9bb74bc86f9caffc8c47dd7b33ec4bb354d9602d/variables/variables' with bilm/CNN/b_cnn_6\n"
     ]
    },
    {
     "name": "stdout",
     "output_type": "stream",
     "text": [
      "INFO:tensorflow:Initialize variable module_2/bilm/CNN_high_0/W_carry:0 from checkpoint b'/tmp/tfhub_modules/9bb74bc86f9caffc8c47dd7b33ec4bb354d9602d/variables/variables' with bilm/CNN_high_0/W_carry\n"
     ]
    },
    {
     "name": "stderr",
     "output_type": "stream",
     "text": [
      "2018-08-03 14:40:37.817 INFO in 'tensorflow'['tf_logging'] at line 116: Initialize variable module_2/bilm/CNN_high_0/W_carry:0 from checkpoint b'/tmp/tfhub_modules/9bb74bc86f9caffc8c47dd7b33ec4bb354d9602d/variables/variables' with bilm/CNN_high_0/W_carry\n"
     ]
    },
    {
     "name": "stdout",
     "output_type": "stream",
     "text": [
      "INFO:tensorflow:Initialize variable module_2/bilm/CNN_high_0/W_transform:0 from checkpoint b'/tmp/tfhub_modules/9bb74bc86f9caffc8c47dd7b33ec4bb354d9602d/variables/variables' with bilm/CNN_high_0/W_transform\n"
     ]
    },
    {
     "name": "stderr",
     "output_type": "stream",
     "text": [
      "2018-08-03 14:40:37.823 INFO in 'tensorflow'['tf_logging'] at line 116: Initialize variable module_2/bilm/CNN_high_0/W_transform:0 from checkpoint b'/tmp/tfhub_modules/9bb74bc86f9caffc8c47dd7b33ec4bb354d9602d/variables/variables' with bilm/CNN_high_0/W_transform\n"
     ]
    },
    {
     "name": "stdout",
     "output_type": "stream",
     "text": [
      "INFO:tensorflow:Initialize variable module_2/bilm/CNN_high_0/b_carry:0 from checkpoint b'/tmp/tfhub_modules/9bb74bc86f9caffc8c47dd7b33ec4bb354d9602d/variables/variables' with bilm/CNN_high_0/b_carry\n"
     ]
    },
    {
     "name": "stderr",
     "output_type": "stream",
     "text": [
      "2018-08-03 14:40:37.830 INFO in 'tensorflow'['tf_logging'] at line 116: Initialize variable module_2/bilm/CNN_high_0/b_carry:0 from checkpoint b'/tmp/tfhub_modules/9bb74bc86f9caffc8c47dd7b33ec4bb354d9602d/variables/variables' with bilm/CNN_high_0/b_carry\n"
     ]
    },
    {
     "name": "stdout",
     "output_type": "stream",
     "text": [
      "INFO:tensorflow:Initialize variable module_2/bilm/CNN_high_0/b_transform:0 from checkpoint b'/tmp/tfhub_modules/9bb74bc86f9caffc8c47dd7b33ec4bb354d9602d/variables/variables' with bilm/CNN_high_0/b_transform\n"
     ]
    },
    {
     "name": "stderr",
     "output_type": "stream",
     "text": [
      "2018-08-03 14:40:37.839 INFO in 'tensorflow'['tf_logging'] at line 116: Initialize variable module_2/bilm/CNN_high_0/b_transform:0 from checkpoint b'/tmp/tfhub_modules/9bb74bc86f9caffc8c47dd7b33ec4bb354d9602d/variables/variables' with bilm/CNN_high_0/b_transform\n"
     ]
    },
    {
     "name": "stdout",
     "output_type": "stream",
     "text": [
      "INFO:tensorflow:Initialize variable module_2/bilm/CNN_high_1/W_carry:0 from checkpoint b'/tmp/tfhub_modules/9bb74bc86f9caffc8c47dd7b33ec4bb354d9602d/variables/variables' with bilm/CNN_high_1/W_carry\n"
     ]
    },
    {
     "name": "stderr",
     "output_type": "stream",
     "text": [
      "2018-08-03 14:40:37.847 INFO in 'tensorflow'['tf_logging'] at line 116: Initialize variable module_2/bilm/CNN_high_1/W_carry:0 from checkpoint b'/tmp/tfhub_modules/9bb74bc86f9caffc8c47dd7b33ec4bb354d9602d/variables/variables' with bilm/CNN_high_1/W_carry\n"
     ]
    },
    {
     "name": "stdout",
     "output_type": "stream",
     "text": [
      "INFO:tensorflow:Initialize variable module_2/bilm/CNN_high_1/W_transform:0 from checkpoint b'/tmp/tfhub_modules/9bb74bc86f9caffc8c47dd7b33ec4bb354d9602d/variables/variables' with bilm/CNN_high_1/W_transform\n"
     ]
    },
    {
     "name": "stderr",
     "output_type": "stream",
     "text": [
      "2018-08-03 14:40:37.856 INFO in 'tensorflow'['tf_logging'] at line 116: Initialize variable module_2/bilm/CNN_high_1/W_transform:0 from checkpoint b'/tmp/tfhub_modules/9bb74bc86f9caffc8c47dd7b33ec4bb354d9602d/variables/variables' with bilm/CNN_high_1/W_transform\n"
     ]
    },
    {
     "name": "stdout",
     "output_type": "stream",
     "text": [
      "INFO:tensorflow:Initialize variable module_2/bilm/CNN_high_1/b_carry:0 from checkpoint b'/tmp/tfhub_modules/9bb74bc86f9caffc8c47dd7b33ec4bb354d9602d/variables/variables' with bilm/CNN_high_1/b_carry\n"
     ]
    },
    {
     "name": "stderr",
     "output_type": "stream",
     "text": [
      "2018-08-03 14:40:37.864 INFO in 'tensorflow'['tf_logging'] at line 116: Initialize variable module_2/bilm/CNN_high_1/b_carry:0 from checkpoint b'/tmp/tfhub_modules/9bb74bc86f9caffc8c47dd7b33ec4bb354d9602d/variables/variables' with bilm/CNN_high_1/b_carry\n"
     ]
    },
    {
     "name": "stdout",
     "output_type": "stream",
     "text": [
      "INFO:tensorflow:Initialize variable module_2/bilm/CNN_high_1/b_transform:0 from checkpoint b'/tmp/tfhub_modules/9bb74bc86f9caffc8c47dd7b33ec4bb354d9602d/variables/variables' with bilm/CNN_high_1/b_transform\n"
     ]
    },
    {
     "name": "stderr",
     "output_type": "stream",
     "text": [
      "2018-08-03 14:40:37.870 INFO in 'tensorflow'['tf_logging'] at line 116: Initialize variable module_2/bilm/CNN_high_1/b_transform:0 from checkpoint b'/tmp/tfhub_modules/9bb74bc86f9caffc8c47dd7b33ec4bb354d9602d/variables/variables' with bilm/CNN_high_1/b_transform\n"
     ]
    },
    {
     "name": "stdout",
     "output_type": "stream",
     "text": [
      "INFO:tensorflow:Initialize variable module_2/bilm/CNN_proj/W_proj:0 from checkpoint b'/tmp/tfhub_modules/9bb74bc86f9caffc8c47dd7b33ec4bb354d9602d/variables/variables' with bilm/CNN_proj/W_proj\n"
     ]
    },
    {
     "name": "stderr",
     "output_type": "stream",
     "text": [
      "2018-08-03 14:40:37.878 INFO in 'tensorflow'['tf_logging'] at line 116: Initialize variable module_2/bilm/CNN_proj/W_proj:0 from checkpoint b'/tmp/tfhub_modules/9bb74bc86f9caffc8c47dd7b33ec4bb354d9602d/variables/variables' with bilm/CNN_proj/W_proj\n"
     ]
    },
    {
     "name": "stdout",
     "output_type": "stream",
     "text": [
      "INFO:tensorflow:Initialize variable module_2/bilm/CNN_proj/b_proj:0 from checkpoint b'/tmp/tfhub_modules/9bb74bc86f9caffc8c47dd7b33ec4bb354d9602d/variables/variables' with bilm/CNN_proj/b_proj\n"
     ]
    },
    {
     "name": "stderr",
     "output_type": "stream",
     "text": [
      "2018-08-03 14:40:37.887 INFO in 'tensorflow'['tf_logging'] at line 116: Initialize variable module_2/bilm/CNN_proj/b_proj:0 from checkpoint b'/tmp/tfhub_modules/9bb74bc86f9caffc8c47dd7b33ec4bb354d9602d/variables/variables' with bilm/CNN_proj/b_proj\n"
     ]
    },
    {
     "name": "stdout",
     "output_type": "stream",
     "text": [
      "INFO:tensorflow:Initialize variable module_2/bilm/RNN_0/RNN/MultiRNNCell/Cell0/rnn/lstm_cell/bias:0 from checkpoint b'/tmp/tfhub_modules/9bb74bc86f9caffc8c47dd7b33ec4bb354d9602d/variables/variables' with bilm/RNN_0/RNN/MultiRNNCell/Cell0/rnn/lstm_cell/bias\n"
     ]
    },
    {
     "name": "stderr",
     "output_type": "stream",
     "text": [
      "2018-08-03 14:40:37.895 INFO in 'tensorflow'['tf_logging'] at line 116: Initialize variable module_2/bilm/RNN_0/RNN/MultiRNNCell/Cell0/rnn/lstm_cell/bias:0 from checkpoint b'/tmp/tfhub_modules/9bb74bc86f9caffc8c47dd7b33ec4bb354d9602d/variables/variables' with bilm/RNN_0/RNN/MultiRNNCell/Cell0/rnn/lstm_cell/bias\n"
     ]
    },
    {
     "name": "stdout",
     "output_type": "stream",
     "text": [
      "INFO:tensorflow:Initialize variable module_2/bilm/RNN_0/RNN/MultiRNNCell/Cell0/rnn/lstm_cell/kernel:0 from checkpoint b'/tmp/tfhub_modules/9bb74bc86f9caffc8c47dd7b33ec4bb354d9602d/variables/variables' with bilm/RNN_0/RNN/MultiRNNCell/Cell0/rnn/lstm_cell/kernel\n"
     ]
    },
    {
     "name": "stderr",
     "output_type": "stream",
     "text": [
      "2018-08-03 14:40:37.904 INFO in 'tensorflow'['tf_logging'] at line 116: Initialize variable module_2/bilm/RNN_0/RNN/MultiRNNCell/Cell0/rnn/lstm_cell/kernel:0 from checkpoint b'/tmp/tfhub_modules/9bb74bc86f9caffc8c47dd7b33ec4bb354d9602d/variables/variables' with bilm/RNN_0/RNN/MultiRNNCell/Cell0/rnn/lstm_cell/kernel\n"
     ]
    },
    {
     "name": "stdout",
     "output_type": "stream",
     "text": [
      "INFO:tensorflow:Initialize variable module_2/bilm/RNN_0/RNN/MultiRNNCell/Cell0/rnn/lstm_cell/projection/kernel:0 from checkpoint b'/tmp/tfhub_modules/9bb74bc86f9caffc8c47dd7b33ec4bb354d9602d/variables/variables' with bilm/RNN_0/RNN/MultiRNNCell/Cell0/rnn/lstm_cell/projection/kernel\n"
     ]
    },
    {
     "name": "stderr",
     "output_type": "stream",
     "text": [
      "2018-08-03 14:40:37.914 INFO in 'tensorflow'['tf_logging'] at line 116: Initialize variable module_2/bilm/RNN_0/RNN/MultiRNNCell/Cell0/rnn/lstm_cell/projection/kernel:0 from checkpoint b'/tmp/tfhub_modules/9bb74bc86f9caffc8c47dd7b33ec4bb354d9602d/variables/variables' with bilm/RNN_0/RNN/MultiRNNCell/Cell0/rnn/lstm_cell/projection/kernel\n"
     ]
    },
    {
     "name": "stdout",
     "output_type": "stream",
     "text": [
      "INFO:tensorflow:Initialize variable module_2/bilm/RNN_0/RNN/MultiRNNCell/Cell1/rnn/lstm_cell/bias:0 from checkpoint b'/tmp/tfhub_modules/9bb74bc86f9caffc8c47dd7b33ec4bb354d9602d/variables/variables' with bilm/RNN_0/RNN/MultiRNNCell/Cell1/rnn/lstm_cell/bias\n"
     ]
    },
    {
     "name": "stderr",
     "output_type": "stream",
     "text": [
      "2018-08-03 14:40:37.921 INFO in 'tensorflow'['tf_logging'] at line 116: Initialize variable module_2/bilm/RNN_0/RNN/MultiRNNCell/Cell1/rnn/lstm_cell/bias:0 from checkpoint b'/tmp/tfhub_modules/9bb74bc86f9caffc8c47dd7b33ec4bb354d9602d/variables/variables' with bilm/RNN_0/RNN/MultiRNNCell/Cell1/rnn/lstm_cell/bias\n"
     ]
    },
    {
     "name": "stdout",
     "output_type": "stream",
     "text": [
      "INFO:tensorflow:Initialize variable module_2/bilm/RNN_0/RNN/MultiRNNCell/Cell1/rnn/lstm_cell/kernel:0 from checkpoint b'/tmp/tfhub_modules/9bb74bc86f9caffc8c47dd7b33ec4bb354d9602d/variables/variables' with bilm/RNN_0/RNN/MultiRNNCell/Cell1/rnn/lstm_cell/kernel\n"
     ]
    },
    {
     "name": "stderr",
     "output_type": "stream",
     "text": [
      "2018-08-03 14:40:37.931 INFO in 'tensorflow'['tf_logging'] at line 116: Initialize variable module_2/bilm/RNN_0/RNN/MultiRNNCell/Cell1/rnn/lstm_cell/kernel:0 from checkpoint b'/tmp/tfhub_modules/9bb74bc86f9caffc8c47dd7b33ec4bb354d9602d/variables/variables' with bilm/RNN_0/RNN/MultiRNNCell/Cell1/rnn/lstm_cell/kernel\n"
     ]
    },
    {
     "name": "stdout",
     "output_type": "stream",
     "text": [
      "INFO:tensorflow:Initialize variable module_2/bilm/RNN_0/RNN/MultiRNNCell/Cell1/rnn/lstm_cell/projection/kernel:0 from checkpoint b'/tmp/tfhub_modules/9bb74bc86f9caffc8c47dd7b33ec4bb354d9602d/variables/variables' with bilm/RNN_0/RNN/MultiRNNCell/Cell1/rnn/lstm_cell/projection/kernel\n"
     ]
    },
    {
     "name": "stderr",
     "output_type": "stream",
     "text": [
      "2018-08-03 14:40:37.938 INFO in 'tensorflow'['tf_logging'] at line 116: Initialize variable module_2/bilm/RNN_0/RNN/MultiRNNCell/Cell1/rnn/lstm_cell/projection/kernel:0 from checkpoint b'/tmp/tfhub_modules/9bb74bc86f9caffc8c47dd7b33ec4bb354d9602d/variables/variables' with bilm/RNN_0/RNN/MultiRNNCell/Cell1/rnn/lstm_cell/projection/kernel\n"
     ]
    },
    {
     "name": "stdout",
     "output_type": "stream",
     "text": [
      "INFO:tensorflow:Initialize variable module_2/bilm/RNN_1/RNN/MultiRNNCell/Cell0/rnn/lstm_cell/bias:0 from checkpoint b'/tmp/tfhub_modules/9bb74bc86f9caffc8c47dd7b33ec4bb354d9602d/variables/variables' with bilm/RNN_1/RNN/MultiRNNCell/Cell0/rnn/lstm_cell/bias\n"
     ]
    },
    {
     "name": "stderr",
     "output_type": "stream",
     "text": [
      "2018-08-03 14:40:37.946 INFO in 'tensorflow'['tf_logging'] at line 116: Initialize variable module_2/bilm/RNN_1/RNN/MultiRNNCell/Cell0/rnn/lstm_cell/bias:0 from checkpoint b'/tmp/tfhub_modules/9bb74bc86f9caffc8c47dd7b33ec4bb354d9602d/variables/variables' with bilm/RNN_1/RNN/MultiRNNCell/Cell0/rnn/lstm_cell/bias\n"
     ]
    },
    {
     "name": "stdout",
     "output_type": "stream",
     "text": [
      "INFO:tensorflow:Initialize variable module_2/bilm/RNN_1/RNN/MultiRNNCell/Cell0/rnn/lstm_cell/kernel:0 from checkpoint b'/tmp/tfhub_modules/9bb74bc86f9caffc8c47dd7b33ec4bb354d9602d/variables/variables' with bilm/RNN_1/RNN/MultiRNNCell/Cell0/rnn/lstm_cell/kernel\n"
     ]
    },
    {
     "name": "stderr",
     "output_type": "stream",
     "text": [
      "2018-08-03 14:40:37.952 INFO in 'tensorflow'['tf_logging'] at line 116: Initialize variable module_2/bilm/RNN_1/RNN/MultiRNNCell/Cell0/rnn/lstm_cell/kernel:0 from checkpoint b'/tmp/tfhub_modules/9bb74bc86f9caffc8c47dd7b33ec4bb354d9602d/variables/variables' with bilm/RNN_1/RNN/MultiRNNCell/Cell0/rnn/lstm_cell/kernel\n"
     ]
    },
    {
     "name": "stdout",
     "output_type": "stream",
     "text": [
      "INFO:tensorflow:Initialize variable module_2/bilm/RNN_1/RNN/MultiRNNCell/Cell0/rnn/lstm_cell/projection/kernel:0 from checkpoint b'/tmp/tfhub_modules/9bb74bc86f9caffc8c47dd7b33ec4bb354d9602d/variables/variables' with bilm/RNN_1/RNN/MultiRNNCell/Cell0/rnn/lstm_cell/projection/kernel\n"
     ]
    },
    {
     "name": "stderr",
     "output_type": "stream",
     "text": [
      "2018-08-03 14:40:37.964 INFO in 'tensorflow'['tf_logging'] at line 116: Initialize variable module_2/bilm/RNN_1/RNN/MultiRNNCell/Cell0/rnn/lstm_cell/projection/kernel:0 from checkpoint b'/tmp/tfhub_modules/9bb74bc86f9caffc8c47dd7b33ec4bb354d9602d/variables/variables' with bilm/RNN_1/RNN/MultiRNNCell/Cell0/rnn/lstm_cell/projection/kernel\n"
     ]
    },
    {
     "name": "stdout",
     "output_type": "stream",
     "text": [
      "INFO:tensorflow:Initialize variable module_2/bilm/RNN_1/RNN/MultiRNNCell/Cell1/rnn/lstm_cell/bias:0 from checkpoint b'/tmp/tfhub_modules/9bb74bc86f9caffc8c47dd7b33ec4bb354d9602d/variables/variables' with bilm/RNN_1/RNN/MultiRNNCell/Cell1/rnn/lstm_cell/bias\n"
     ]
    },
    {
     "name": "stderr",
     "output_type": "stream",
     "text": [
      "2018-08-03 14:40:37.971 INFO in 'tensorflow'['tf_logging'] at line 116: Initialize variable module_2/bilm/RNN_1/RNN/MultiRNNCell/Cell1/rnn/lstm_cell/bias:0 from checkpoint b'/tmp/tfhub_modules/9bb74bc86f9caffc8c47dd7b33ec4bb354d9602d/variables/variables' with bilm/RNN_1/RNN/MultiRNNCell/Cell1/rnn/lstm_cell/bias\n"
     ]
    },
    {
     "name": "stdout",
     "output_type": "stream",
     "text": [
      "INFO:tensorflow:Initialize variable module_2/bilm/RNN_1/RNN/MultiRNNCell/Cell1/rnn/lstm_cell/kernel:0 from checkpoint b'/tmp/tfhub_modules/9bb74bc86f9caffc8c47dd7b33ec4bb354d9602d/variables/variables' with bilm/RNN_1/RNN/MultiRNNCell/Cell1/rnn/lstm_cell/kernel\n"
     ]
    },
    {
     "name": "stderr",
     "output_type": "stream",
     "text": [
      "2018-08-03 14:40:37.980 INFO in 'tensorflow'['tf_logging'] at line 116: Initialize variable module_2/bilm/RNN_1/RNN/MultiRNNCell/Cell1/rnn/lstm_cell/kernel:0 from checkpoint b'/tmp/tfhub_modules/9bb74bc86f9caffc8c47dd7b33ec4bb354d9602d/variables/variables' with bilm/RNN_1/RNN/MultiRNNCell/Cell1/rnn/lstm_cell/kernel\n"
     ]
    },
    {
     "name": "stdout",
     "output_type": "stream",
     "text": [
      "INFO:tensorflow:Initialize variable module_2/bilm/RNN_1/RNN/MultiRNNCell/Cell1/rnn/lstm_cell/projection/kernel:0 from checkpoint b'/tmp/tfhub_modules/9bb74bc86f9caffc8c47dd7b33ec4bb354d9602d/variables/variables' with bilm/RNN_1/RNN/MultiRNNCell/Cell1/rnn/lstm_cell/projection/kernel\n"
     ]
    },
    {
     "name": "stderr",
     "output_type": "stream",
     "text": [
      "2018-08-03 14:40:37.987 INFO in 'tensorflow'['tf_logging'] at line 116: Initialize variable module_2/bilm/RNN_1/RNN/MultiRNNCell/Cell1/rnn/lstm_cell/projection/kernel:0 from checkpoint b'/tmp/tfhub_modules/9bb74bc86f9caffc8c47dd7b33ec4bb354d9602d/variables/variables' with bilm/RNN_1/RNN/MultiRNNCell/Cell1/rnn/lstm_cell/projection/kernel\n"
     ]
    },
    {
     "name": "stdout",
     "output_type": "stream",
     "text": [
      "INFO:tensorflow:Initialize variable module_2/bilm/char_embed:0 from checkpoint b'/tmp/tfhub_modules/9bb74bc86f9caffc8c47dd7b33ec4bb354d9602d/variables/variables' with bilm/char_embed\n"
     ]
    },
    {
     "name": "stderr",
     "output_type": "stream",
     "text": [
      "2018-08-03 14:40:37.998 INFO in 'tensorflow'['tf_logging'] at line 116: Initialize variable module_2/bilm/char_embed:0 from checkpoint b'/tmp/tfhub_modules/9bb74bc86f9caffc8c47dd7b33ec4bb354d9602d/variables/variables' with bilm/char_embed\n",
      "2018-08-03 14:40:38.922 INFO in 'deeppavlov.models.embedders.glove_embedder'['glove_embedder'] at line 60: [loading embeddings from `/home/kostrovskiy/prog/AI/NLP/DeepPavlov/download/embeddings/glove.6B/glove.6B.100d.txt`]\n",
      "2018-08-03 14:40:38.923 INFO in 'gensim.models.keyedvectors'['keyedvectors'] at line 204: loading projection weights from /home/kostrovskiy/prog/AI/NLP/DeepPavlov/download/embeddings/glove.6B/glove.6B.100d.txt\n",
      "2018-08-03 14:40:38.924 DEBUG in 'smart_open.smart_open_lib'['smart_open_lib'] at line 176: {'kw': {}, 'mode': 'rb', 'uri': '/home/kostrovskiy/prog/AI/NLP/DeepPavlov/download/embeddings/glove.6B/glove.6B.100d.txt'}\n",
      "2018-08-03 14:41:08.976 INFO in 'gensim.models.keyedvectors'['keyedvectors'] at line 266: loaded (400000, 100) matrix from /home/kostrovskiy/prog/AI/NLP/DeepPavlov/download/embeddings/glove.6B/glove.6B.100d.txt\n"
     ]
    }
   ],
   "source": [
    "embedder = CompositeEmbedder(use_elmo=True, elmo_scale=1, use_cap_feat=True, use_glove=True)"
   ]
  },
  {
   "cell_type": "markdown",
   "metadata": {},
   "source": [
    "### Calculate NE centroid for given examples"
   ]
  },
  {
   "cell_type": "code",
   "execution_count": 143,
   "metadata": {},
   "outputs": [],
   "source": [
    "ne_prototype, _, _ = calc_ne_centroid_vec(tokens_train, tags_train, embedder=embedder)"
   ]
  },
  {
   "cell_type": "markdown",
   "metadata": {},
   "source": [
    "### Select some unlabeled examples from test set and estimate similarity to named entity for each token"
   ]
  },
  {
   "cell_type": "code",
   "execution_count": 144,
   "metadata": {},
   "outputs": [],
   "source": [
    "n_test_sentences = 10\n",
    "np.random.seed(44)\n",
    "indices_test = np.random.choice(len(dataset['test']), size=n_test_sentences)\n",
    "test_sentences = select_list_elements(dataset['test'], indices_test)\n",
    "tokens_test,tags_test = split_tokens_tags(test_sentences)\n",
    "# print(tokens_test)\n",
    "# print(tags_test)"
   ]
  },
  {
   "cell_type": "code",
   "execution_count": 145,
   "metadata": {},
   "outputs": [],
   "source": [
    "sim_list_test, _ = calc_sim_to_ne_prototype(tokens_test, ne_prototype, embedder=embedder)"
   ]
  },
  {
   "cell_type": "markdown",
   "metadata": {},
   "source": [
    "### Group similarities with tokens"
   ]
  },
  {
   "cell_type": "code",
   "execution_count": 146,
   "metadata": {},
   "outputs": [],
   "source": [
    "def zip_tokens_sim(tokens: list, sim_list: list, sim_type='cosine'):\n",
    "    tokens_sim = []\n",
    "    for i in range(len(tokens)):\n",
    "        tokens_sim.append([])\n",
    "        for j in range(len(tokens[i])):\n",
    "            tokens_sim[-1].append((tokens[i][j], sim_list[i][j][sim_type]))\n",
    "    return tokens_sim"
   ]
  },
  {
   "cell_type": "code",
   "execution_count": 147,
   "metadata": {},
   "outputs": [],
   "source": [
    "tokens_test_sim = zip_tokens_sim(tokens_test, sim_list_test)"
   ]
  },
  {
   "cell_type": "markdown",
   "metadata": {},
   "source": [
    "### Print test sentences with NE similarities estimation"
   ]
  },
  {
   "cell_type": "code",
   "execution_count": 148,
   "metadata": {},
   "outputs": [],
   "source": [
    "def decorate_ne_token(token, tag):\n",
    "    if tag == 'T':\n",
    "        token = '[[' + token + ']]'\n",
    "    return token\n",
    "def format_labeled_examples(tokens_input: list, tags_input: list):\n",
    "    s = '+++++++++ Input examples +++++++++\\n\\n'\n",
    "    for i in range(len(tokens_input)):\n",
    "        for j in range(len(tokens_input[i])):\n",
    "            s += decorate_ne_token(tokens_input[i][j], tags_input[i][j]) + ' '\n",
    "        s += '\\n\\n'\n",
    "    return s"
   ]
  },
  {
   "cell_type": "code",
   "execution_count": 149,
   "metadata": {},
   "outputs": [],
   "source": [
    "def format_inference_results(tokens_sim: list):\n",
    "    s = '+++++++++ Tests +++++++++\\n\\n'\n",
    "    for seq in tokens_sim:\n",
    "        for token, sim in seq:\n",
    "            s += '{}[{:.3f}]'.format(token, sim)\n",
    "            s += ' '\n",
    "        s += '\\n\\n'\n",
    "    return s"
   ]
  },
  {
   "cell_type": "code",
   "execution_count": 150,
   "metadata": {},
   "outputs": [
    {
     "name": "stdout",
     "output_type": "stream",
     "text": [
      "+++++++++ Input examples +++++++++\n",
      "\n",
      "Mr. [[Bush]] also named former [[Cuban]] refugee [[Mel]] [[Martinez]] as Secretary of [[Housing]] [[and]] [[Urban]] [[Development]] . \n",
      "\n",
      "Currently , the degree of dependence on the outside of [[China]] 's economy has reached [[42]] [[%]] , and the space of utilizing overseas markets and resources is in the process of expanding , but is more easily subject to the influences of the international environment . \n",
      "\n",
      "But whether such moves can win back the confidence of [[East]] [[Germans]] , who have taken to the streets by the [[thousands]] in [[recent]] [[weeks]] to demand democratic changes , depends largely on whether they feel they can trust Mr. [[Krenz]] . \n",
      "\n",
      "[[Andy]] [[Cairns]] \n",
      "\n",
      "I totally insist on it . \n",
      "\n",
      "kind of threw me off \n",
      "\n",
      "We have had the most truthful , constructive , profound negotiations ever to be held since this phase in the peace talks has started . \n",
      "\n",
      "How much of the ancient form of the festival survives , and what new elements have been added in our time ? \n",
      "\n",
      "The notice pointed out that the general goal of fostering and developing the talented people market is : to realize individuals independently choosing occupations , work units independently choosing personnel , markets adjusting to supply and demand , social services improving , and social security strengthening , and let the market play a foundational role in the allocation of talent resources under the macro-control of the state . \n",
      "\n",
      "Now without [[Saddam]] [[Hussein]] you can look across the region and see that uh a lot is changing thanks to the President 's democracy uh promotion and the hard work of people in those countries /. \n",
      "\n",
      "+++++++++ Tests +++++++++\n",
      "\n",
      "Mainland[0.323] China[0.438] shares[0.176] the[0.254] same[0.209] language[0.227] as[0.235] Taiwan[0.464] and[0.298] it[0.335] offers[0.167] attractive[0.233] investment[0.289] conditions[0.285] .[0.261] \n",
      "\n",
      "Remember[0.282] who[0.334] Janet[0.229] shared[0.235] the[0.196] stage[0.198] with[0.311] at[0.202] the[0.302] Superbowl[0.240] ?[0.203] \n",
      "\n",
      "Once[0.320] you[0.238] invoke[0.139] the[0.285] wrath[0.228] or[0.210] the[0.315] extreme[0.208] interest[0.246] of[0.211] a[0.312] federal[0.273] prosecutor[0.348] you[0.278] have[0.274] to[0.245] be[0.269] very[0.230] very[0.235] careful[0.261] /.[0.196] \n",
      "\n",
      "With[0.309] each[0.257] new[0.249] era[0.277] ,[0.324] role[0.269] models[0.304] change[0.314] .[0.257] \n",
      "\n",
      "The[0.329] FBI[0.297] message[0.217] went[0.180] to[0.217] three[0.360] Pentagon[0.346] agencies[0.353] ,[0.318] and[0.316] as[0.260] a[0.249] result[0.172] ,[0.309] the[0.334] visit[0.269] of[0.202] one[0.321] American[0.323] warship[0.269] to[0.227] Yemen[0.431] was[0.276] canceled[0.280] .[0.265] \n",
      "\n",
      "The[0.331] Bush[0.346] administration[0.345] ,[0.317] trying[0.290] to[0.260] blunt[0.233] growing[0.258] demands[0.308] from[0.277] Western[0.331] Europe[0.467] for[0.269] a[0.299] relaxation[0.217] of[0.181] controls[0.297] on[0.230] exports[0.341] to[0.237] the[0.355] Soviet[0.275] bloc[0.343] ,[0.336] is[0.286] questioning[0.212] whether[0.293] Italy[0.466] 's[0.222] Ing[0.201] .[0.313] C.[0.221] Olivetti[0.278] &[0.140] Co.[0.229] supplied[0.131] militarily[0.212] valuable[0.183] technology[0.306] to[0.234] the[0.382] Soviets[0.413] .[0.278] \n",
      "\n",
      "When[0.329] they[0.293] did[0.251] that[0.392] and[0.299] I[0.317] saw[0.245] them[0.387] and[0.313] I[0.313] told[0.210] them[0.363] in[0.237] a[0.245] voice[0.236] of[0.217] Milosevic[0.374] ,[0.308] ``[0.375] Ladies[0.292] and[0.245] gentleman[0.248] ,[0.317] I[0.319] am[0.243] definitely[0.210] finished[0.291] .[0.258] ''[0.276] \n",
      "\n",
      "Recapping[0.178] the[0.330] developments[0.334] of[0.204] this[0.284] disturbing[0.129] day[0.330] in[0.232] the[0.318] Middle[0.263] East[0.361] and[0.267] the[0.319] Arabian[0.207] Peninsula[0.287] --[0.290] at[0.267] least[0.257] six[0.338] American[0.320] sailors[0.282] are[0.242] dead[0.274] ,[0.290] 11[0.342] still[0.223] missing[0.273] and[0.247] 35[0.338] injured[0.266] after[0.236] what[0.281] intelligence[0.223] experts[0.245] say[0.234] was[0.198] a[0.227] well[0.166] -[0.221] planned[0.230] terrorist[0.237] bombing[0.246] that[0.247] ripped[0.117] a[0.223] 20[0.255] x[0.138] 40[0.264] -[0.186] foot[0.145] hole[0.139] in[0.210] the[0.290] Navy[0.265] destroyer[0.204] ``[0.287] USS[0.213] Cole[0.332] ''[0.252] in[0.225] the[0.285] Yemeni[0.241] port[0.195] of[0.147] Aden[0.366] .[0.246] \n",
      "\n",
      "Characters[0.310] proliferate[0.200] out[0.273] of[0.165] the[0.268] imagination[0.259] of[0.212] the[0.329] narrator[0.294] so[0.256] that[0.319] at[0.240] a[0.230] certain[0.178] point[0.225] ,[0.302] you[0.286] have[0.281] a[0.269] new[0.262] he[0.401] ,[0.325] you[0.324] have[0.285] a[0.277] new[0.254] she[0.381] ,[0.312] you[0.301] have[0.276] a[0.263] you[0.385] ,[0.302] and[0.301] each[0.263] one[0.349] of[0.199] these[0.322] characters[0.291] tells[0.167] stories[0.250] ,[0.292] each[0.211] story[0.232] of[0.189] which[0.305] is[0.245] designed[0.230] to[0.232] give[0.190] you[0.249] a[0.216] deeper[0.127] sense[0.172] of[0.198] the[0.285] richness[0.233] and[0.217] the[0.283] complexity[0.234] of[0.188] life[0.333] in[0.254] China[0.516] .[0.266] \n",
      "\n",
      "%uh[0.199] but[0.283] it[0.317] 's[0.208] a[0.208] lot[0.197] less[0.201] expensive[0.225] if[0.236] we[0.218] do[0.185] it[0.329] that[0.257] way[0.240] than[0.248] if[0.239] we[0.226] actually[0.176] make[0.225] my[0.227] parents[0.252] in[0.208] law[0.225] pay[0.193] it[0.356] ,[0.317] \n",
      "\n",
      "\n"
     ]
    }
   ],
   "source": [
    "text = ''\n",
    "text += format_labeled_examples(tokens_train, tags_train)\n",
    "text += format_inference_results(tokens_test_sim)\n",
    "print(text)"
   ]
  },
  {
   "cell_type": "markdown",
   "metadata": {},
   "source": [
    "### Visualize similarities tokens to NE"
   ]
  },
  {
   "cell_type": "code",
   "execution_count": 155,
   "metadata": {},
   "outputs": [],
   "source": [
    "from IPython.core.display import display, HTML"
   ]
  },
  {
   "cell_type": "code",
   "execution_count": 160,
   "metadata": {},
   "outputs": [],
   "source": [
    "def get_color(red=0, green=255, blue=0):\n",
    "    return {'r': red, 'g': green, 'b': blue}\n",
    "\n",
    "def get_rgba_str(color, alpha=1):\n",
    "    return 'rgba({},{},{},{})'.format(color['r'], color['g'], color['b'], alpha)\n",
    "\n",
    "def get_token_span_str(token, color, cf=1):\n",
    "    return '<span style=\"padding: 0.15em; margin-right: 4px; border-radius: 0.25em; background: {};\">{}</span>'.format(get_rgba_str(color, alpha=cf), token)\n",
    "\n",
    "def wrap_with_style(html):\n",
    "    return '<div style=\"line-height: 1.5em;\">{:s}</div>'.format(html)"
   ]
  },
  {
   "cell_type": "code",
   "execution_count": 161,
   "metadata": {},
   "outputs": [
    {
     "data": {
      "text/html": [
       "<span style=\"padding: 0.15em; margin-right: 4px; border-radius: 0.25em; background: rgba(0,255,0,0.7);\">token</span>"
      ],
      "text/plain": [
       "<IPython.core.display.HTML object>"
      ]
     },
     "metadata": {},
     "output_type": "display_data"
    }
   ],
   "source": [
    "bg_color = get_color(red=0, green=255, blue=0)\n",
    "display(HTML(get_token_span_str('token', bg_color, cf=0.7)))"
   ]
  },
  {
   "cell_type": "code",
   "execution_count": 166,
   "metadata": {},
   "outputs": [],
   "source": [
    "def get_colored_results_html(tokens_sim: list, color):\n",
    "    s = '<h3 style=\"margin-bottom:0.3em;\">Visualization of tokens to NE similarities on test set:</h3>'\n",
    "    for seq in tokens_sim:\n",
    "        for token, sim in seq:\n",
    "            s += get_token_span_str(token, color, cf=sim)\n",
    "#             s += ' '\n",
    "        s += '<br/><br/>'\n",
    "    return wrap_with_style(s)"
   ]
  },
  {
   "cell_type": "code",
   "execution_count": 167,
   "metadata": {},
   "outputs": [
    {
     "data": {
      "text/html": [
       "<div style=\"line-height: 1.5em;\"><h3 style=\"margin-bottom:0.3em;\">Visualization of tokens to NE similarities on test set:</h3><span style=\"padding: 0.15em; margin-right: 4px; border-radius: 0.25em; background: rgba(0,255,0,0.32278899376051806);\">Mainland</span><span style=\"padding: 0.15em; margin-right: 4px; border-radius: 0.25em; background: rgba(0,255,0,0.4382899199142897);\">China</span><span style=\"padding: 0.15em; margin-right: 4px; border-radius: 0.25em; background: rgba(0,255,0,0.1762044622891778);\">shares</span><span style=\"padding: 0.15em; margin-right: 4px; border-radius: 0.25em; background: rgba(0,255,0,0.25367477769658414);\">the</span><span style=\"padding: 0.15em; margin-right: 4px; border-radius: 0.25em; background: rgba(0,255,0,0.20889968650525156);\">same</span><span style=\"padding: 0.15em; margin-right: 4px; border-radius: 0.25em; background: rgba(0,255,0,0.22663139385746062);\">language</span><span style=\"padding: 0.15em; margin-right: 4px; border-radius: 0.25em; background: rgba(0,255,0,0.23520324965765427);\">as</span><span style=\"padding: 0.15em; margin-right: 4px; border-radius: 0.25em; background: rgba(0,255,0,0.463945493338398);\">Taiwan</span><span style=\"padding: 0.15em; margin-right: 4px; border-radius: 0.25em; background: rgba(0,255,0,0.2983977018365704);\">and</span><span style=\"padding: 0.15em; margin-right: 4px; border-radius: 0.25em; background: rgba(0,255,0,0.334977389342707);\">it</span><span style=\"padding: 0.15em; margin-right: 4px; border-radius: 0.25em; background: rgba(0,255,0,0.16725345298042124);\">offers</span><span style=\"padding: 0.15em; margin-right: 4px; border-radius: 0.25em; background: rgba(0,255,0,0.2327147139121119);\">attractive</span><span style=\"padding: 0.15em; margin-right: 4px; border-radius: 0.25em; background: rgba(0,255,0,0.2893129075882848);\">investment</span><span style=\"padding: 0.15em; margin-right: 4px; border-radius: 0.25em; background: rgba(0,255,0,0.2848961931493214);\">conditions</span><span style=\"padding: 0.15em; margin-right: 4px; border-radius: 0.25em; background: rgba(0,255,0,0.2608893867984594);\">.</span><br/><br/><span style=\"padding: 0.15em; margin-right: 4px; border-radius: 0.25em; background: rgba(0,255,0,0.2817998530810398);\">Remember</span><span style=\"padding: 0.15em; margin-right: 4px; border-radius: 0.25em; background: rgba(0,255,0,0.334283999242289);\">who</span><span style=\"padding: 0.15em; margin-right: 4px; border-radius: 0.25em; background: rgba(0,255,0,0.2288938328654729);\">Janet</span><span style=\"padding: 0.15em; margin-right: 4px; border-radius: 0.25em; background: rgba(0,255,0,0.23543500420194147);\">shared</span><span style=\"padding: 0.15em; margin-right: 4px; border-radius: 0.25em; background: rgba(0,255,0,0.1962639998897393);\">the</span><span style=\"padding: 0.15em; margin-right: 4px; border-radius: 0.25em; background: rgba(0,255,0,0.19832434446505445);\">stage</span><span style=\"padding: 0.15em; margin-right: 4px; border-radius: 0.25em; background: rgba(0,255,0,0.3109310265078414);\">with</span><span style=\"padding: 0.15em; margin-right: 4px; border-radius: 0.25em; background: rgba(0,255,0,0.2016295720523751);\">at</span><span style=\"padding: 0.15em; margin-right: 4px; border-radius: 0.25em; background: rgba(0,255,0,0.3024973742501465);\">the</span><span style=\"padding: 0.15em; margin-right: 4px; border-radius: 0.25em; background: rgba(0,255,0,0.23968602444162154);\">Superbowl</span><span style=\"padding: 0.15em; margin-right: 4px; border-radius: 0.25em; background: rgba(0,255,0,0.20260137728093958);\">?</span><br/><br/><span style=\"padding: 0.15em; margin-right: 4px; border-radius: 0.25em; background: rgba(0,255,0,0.32022918867620803);\">Once</span><span style=\"padding: 0.15em; margin-right: 4px; border-radius: 0.25em; background: rgba(0,255,0,0.23770649529371624);\">you</span><span style=\"padding: 0.15em; margin-right: 4px; border-radius: 0.25em; background: rgba(0,255,0,0.1385778799786338);\">invoke</span><span style=\"padding: 0.15em; margin-right: 4px; border-radius: 0.25em; background: rgba(0,255,0,0.2847986806089039);\">the</span><span style=\"padding: 0.15em; margin-right: 4px; border-radius: 0.25em; background: rgba(0,255,0,0.22848651805293313);\">wrath</span><span style=\"padding: 0.15em; margin-right: 4px; border-radius: 0.25em; background: rgba(0,255,0,0.21031078922712623);\">or</span><span style=\"padding: 0.15em; margin-right: 4px; border-radius: 0.25em; background: rgba(0,255,0,0.3149504496852024);\">the</span><span style=\"padding: 0.15em; margin-right: 4px; border-radius: 0.25em; background: rgba(0,255,0,0.2079177317607755);\">extreme</span><span style=\"padding: 0.15em; margin-right: 4px; border-radius: 0.25em; background: rgba(0,255,0,0.24560690285805703);\">interest</span><span style=\"padding: 0.15em; margin-right: 4px; border-radius: 0.25em; background: rgba(0,255,0,0.21110502183847182);\">of</span><span style=\"padding: 0.15em; margin-right: 4px; border-radius: 0.25em; background: rgba(0,255,0,0.3115689262127407);\">a</span><span style=\"padding: 0.15em; margin-right: 4px; border-radius: 0.25em; background: rgba(0,255,0,0.27312223117729656);\">federal</span><span style=\"padding: 0.15em; margin-right: 4px; border-radius: 0.25em; background: rgba(0,255,0,0.34792298137379735);\">prosecutor</span><span style=\"padding: 0.15em; margin-right: 4px; border-radius: 0.25em; background: rgba(0,255,0,0.27827229958238286);\">you</span><span style=\"padding: 0.15em; margin-right: 4px; border-radius: 0.25em; background: rgba(0,255,0,0.2744523844360141);\">have</span><span style=\"padding: 0.15em; margin-right: 4px; border-radius: 0.25em; background: rgba(0,255,0,0.24534103479509006);\">to</span><span style=\"padding: 0.15em; margin-right: 4px; border-radius: 0.25em; background: rgba(0,255,0,0.2687407261544412);\">be</span><span style=\"padding: 0.15em; margin-right: 4px; border-radius: 0.25em; background: rgba(0,255,0,0.23027808192191862);\">very</span><span style=\"padding: 0.15em; margin-right: 4px; border-radius: 0.25em; background: rgba(0,255,0,0.23527645700172564);\">very</span><span style=\"padding: 0.15em; margin-right: 4px; border-radius: 0.25em; background: rgba(0,255,0,0.2613429739554999);\">careful</span><span style=\"padding: 0.15em; margin-right: 4px; border-radius: 0.25em; background: rgba(0,255,0,0.19587121726112144);\">/.</span><br/><br/><span style=\"padding: 0.15em; margin-right: 4px; border-radius: 0.25em; background: rgba(0,255,0,0.3092477945587369);\">With</span><span style=\"padding: 0.15em; margin-right: 4px; border-radius: 0.25em; background: rgba(0,255,0,0.2573405359940757);\">each</span><span style=\"padding: 0.15em; margin-right: 4px; border-radius: 0.25em; background: rgba(0,255,0,0.24869605834272943);\">new</span><span style=\"padding: 0.15em; margin-right: 4px; border-radius: 0.25em; background: rgba(0,255,0,0.27714777792556705);\">era</span><span style=\"padding: 0.15em; margin-right: 4px; border-radius: 0.25em; background: rgba(0,255,0,0.32400668393958354);\">,</span><span style=\"padding: 0.15em; margin-right: 4px; border-radius: 0.25em; background: rgba(0,255,0,0.26866260218735866);\">role</span><span style=\"padding: 0.15em; margin-right: 4px; border-radius: 0.25em; background: rgba(0,255,0,0.30448274767508743);\">models</span><span style=\"padding: 0.15em; margin-right: 4px; border-radius: 0.25em; background: rgba(0,255,0,0.3136842597013662);\">change</span><span style=\"padding: 0.15em; margin-right: 4px; border-radius: 0.25em; background: rgba(0,255,0,0.2566784986416517);\">.</span><br/><br/><span style=\"padding: 0.15em; margin-right: 4px; border-radius: 0.25em; background: rgba(0,255,0,0.3293734505861878);\">The</span><span style=\"padding: 0.15em; margin-right: 4px; border-radius: 0.25em; background: rgba(0,255,0,0.29653136676155184);\">FBI</span><span style=\"padding: 0.15em; margin-right: 4px; border-radius: 0.25em; background: rgba(0,255,0,0.217216606240927);\">message</span><span style=\"padding: 0.15em; margin-right: 4px; border-radius: 0.25em; background: rgba(0,255,0,0.1797849774256518);\">went</span><span style=\"padding: 0.15em; margin-right: 4px; border-radius: 0.25em; background: rgba(0,255,0,0.2172847844386068);\">to</span><span style=\"padding: 0.15em; margin-right: 4px; border-radius: 0.25em; background: rgba(0,255,0,0.3604645963930222);\">three</span><span style=\"padding: 0.15em; margin-right: 4px; border-radius: 0.25em; background: rgba(0,255,0,0.34615768509292866);\">Pentagon</span><span style=\"padding: 0.15em; margin-right: 4px; border-radius: 0.25em; background: rgba(0,255,0,0.35255102661575854);\">agencies</span><span style=\"padding: 0.15em; margin-right: 4px; border-radius: 0.25em; background: rgba(0,255,0,0.317987701804416);\">,</span><span style=\"padding: 0.15em; margin-right: 4px; border-radius: 0.25em; background: rgba(0,255,0,0.3156448673277327);\">and</span><span style=\"padding: 0.15em; margin-right: 4px; border-radius: 0.25em; background: rgba(0,255,0,0.25985789622585476);\">as</span><span style=\"padding: 0.15em; margin-right: 4px; border-radius: 0.25em; background: rgba(0,255,0,0.24924855955842531);\">a</span><span style=\"padding: 0.15em; margin-right: 4px; border-radius: 0.25em; background: rgba(0,255,0,0.1719376975471998);\">result</span><span style=\"padding: 0.15em; margin-right: 4px; border-radius: 0.25em; background: rgba(0,255,0,0.3086738162630898);\">,</span><span style=\"padding: 0.15em; margin-right: 4px; border-radius: 0.25em; background: rgba(0,255,0,0.33400174007059835);\">the</span><span style=\"padding: 0.15em; margin-right: 4px; border-radius: 0.25em; background: rgba(0,255,0,0.26890439103671987);\">visit</span><span style=\"padding: 0.15em; margin-right: 4px; border-radius: 0.25em; background: rgba(0,255,0,0.20241898400115887);\">of</span><span style=\"padding: 0.15em; margin-right: 4px; border-radius: 0.25em; background: rgba(0,255,0,0.32142537839615726);\">one</span><span style=\"padding: 0.15em; margin-right: 4px; border-radius: 0.25em; background: rgba(0,255,0,0.3231479093319716);\">American</span><span style=\"padding: 0.15em; margin-right: 4px; border-radius: 0.25em; background: rgba(0,255,0,0.2686549534924735);\">warship</span><span style=\"padding: 0.15em; margin-right: 4px; border-radius: 0.25em; background: rgba(0,255,0,0.22718726159356423);\">to</span><span style=\"padding: 0.15em; margin-right: 4px; border-radius: 0.25em; background: rgba(0,255,0,0.4308677589767432);\">Yemen</span><span style=\"padding: 0.15em; margin-right: 4px; border-radius: 0.25em; background: rgba(0,255,0,0.2760799925130389);\">was</span><span style=\"padding: 0.15em; margin-right: 4px; border-radius: 0.25em; background: rgba(0,255,0,0.28000449489946827);\">canceled</span><span style=\"padding: 0.15em; margin-right: 4px; border-radius: 0.25em; background: rgba(0,255,0,0.26495335630001116);\">.</span><br/><br/><span style=\"padding: 0.15em; margin-right: 4px; border-radius: 0.25em; background: rgba(0,255,0,0.3305956494673818);\">The</span><span style=\"padding: 0.15em; margin-right: 4px; border-radius: 0.25em; background: rgba(0,255,0,0.3460492002728503);\">Bush</span><span style=\"padding: 0.15em; margin-right: 4px; border-radius: 0.25em; background: rgba(0,255,0,0.3445211641956012);\">administration</span><span style=\"padding: 0.15em; margin-right: 4px; border-radius: 0.25em; background: rgba(0,255,0,0.31728575907687145);\">,</span><span style=\"padding: 0.15em; margin-right: 4px; border-radius: 0.25em; background: rgba(0,255,0,0.2901449953023543);\">trying</span><span style=\"padding: 0.15em; margin-right: 4px; border-radius: 0.25em; background: rgba(0,255,0,0.2598976906278834);\">to</span><span style=\"padding: 0.15em; margin-right: 4px; border-radius: 0.25em; background: rgba(0,255,0,0.23342723627309667);\">blunt</span><span style=\"padding: 0.15em; margin-right: 4px; border-radius: 0.25em; background: rgba(0,255,0,0.2579886594471347);\">growing</span><span style=\"padding: 0.15em; margin-right: 4px; border-radius: 0.25em; background: rgba(0,255,0,0.3077059092679075);\">demands</span><span style=\"padding: 0.15em; margin-right: 4px; border-radius: 0.25em; background: rgba(0,255,0,0.27691492540530954);\">from</span><span style=\"padding: 0.15em; margin-right: 4px; border-radius: 0.25em; background: rgba(0,255,0,0.33072810615416737);\">Western</span><span style=\"padding: 0.15em; margin-right: 4px; border-radius: 0.25em; background: rgba(0,255,0,0.46728088095305603);\">Europe</span><span style=\"padding: 0.15em; margin-right: 4px; border-radius: 0.25em; background: rgba(0,255,0,0.26923586953753104);\">for</span><span style=\"padding: 0.15em; margin-right: 4px; border-radius: 0.25em; background: rgba(0,255,0,0.29909122394873455);\">a</span><span style=\"padding: 0.15em; margin-right: 4px; border-radius: 0.25em; background: rgba(0,255,0,0.2166024017289372);\">relaxation</span><span style=\"padding: 0.15em; margin-right: 4px; border-radius: 0.25em; background: rgba(0,255,0,0.18135588475250894);\">of</span><span style=\"padding: 0.15em; margin-right: 4px; border-radius: 0.25em; background: rgba(0,255,0,0.2974341680806833);\">controls</span><span style=\"padding: 0.15em; margin-right: 4px; border-radius: 0.25em; background: rgba(0,255,0,0.22976609211597437);\">on</span><span style=\"padding: 0.15em; margin-right: 4px; border-radius: 0.25em; background: rgba(0,255,0,0.34074858187295476);\">exports</span><span style=\"padding: 0.15em; margin-right: 4px; border-radius: 0.25em; background: rgba(0,255,0,0.2365636918600183);\">to</span><span style=\"padding: 0.15em; margin-right: 4px; border-radius: 0.25em; background: rgba(0,255,0,0.3547322968073862);\">the</span><span style=\"padding: 0.15em; margin-right: 4px; border-radius: 0.25em; background: rgba(0,255,0,0.27474638422067915);\">Soviet</span><span style=\"padding: 0.15em; margin-right: 4px; border-radius: 0.25em; background: rgba(0,255,0,0.34256795039973004);\">bloc</span><span style=\"padding: 0.15em; margin-right: 4px; border-radius: 0.25em; background: rgba(0,255,0,0.33598003286546674);\">,</span><span style=\"padding: 0.15em; margin-right: 4px; border-radius: 0.25em; background: rgba(0,255,0,0.2859336809500785);\">is</span><span style=\"padding: 0.15em; margin-right: 4px; border-radius: 0.25em; background: rgba(0,255,0,0.21187213791955756);\">questioning</span><span style=\"padding: 0.15em; margin-right: 4px; border-radius: 0.25em; background: rgba(0,255,0,0.29266906717431446);\">whether</span><span style=\"padding: 0.15em; margin-right: 4px; border-radius: 0.25em; background: rgba(0,255,0,0.46570979535603324);\">Italy</span><span style=\"padding: 0.15em; margin-right: 4px; border-radius: 0.25em; background: rgba(0,255,0,0.222313834488063);\">'s</span><span style=\"padding: 0.15em; margin-right: 4px; border-radius: 0.25em; background: rgba(0,255,0,0.2013255469312912);\">Ing</span><span style=\"padding: 0.15em; margin-right: 4px; border-radius: 0.25em; background: rgba(0,255,0,0.3126308821093285);\">.</span><span style=\"padding: 0.15em; margin-right: 4px; border-radius: 0.25em; background: rgba(0,255,0,0.22143775354948605);\">C.</span><span style=\"padding: 0.15em; margin-right: 4px; border-radius: 0.25em; background: rgba(0,255,0,0.2783368756384192);\">Olivetti</span><span style=\"padding: 0.15em; margin-right: 4px; border-radius: 0.25em; background: rgba(0,255,0,0.13996978078742164);\">&</span><span style=\"padding: 0.15em; margin-right: 4px; border-radius: 0.25em; background: rgba(0,255,0,0.2285204817458649);\">Co.</span><span style=\"padding: 0.15em; margin-right: 4px; border-radius: 0.25em; background: rgba(0,255,0,0.1312472106535667);\">supplied</span><span style=\"padding: 0.15em; margin-right: 4px; border-radius: 0.25em; background: rgba(0,255,0,0.21249400252606077);\">militarily</span><span style=\"padding: 0.15em; margin-right: 4px; border-radius: 0.25em; background: rgba(0,255,0,0.1831862970907541);\">valuable</span><span style=\"padding: 0.15em; margin-right: 4px; border-radius: 0.25em; background: rgba(0,255,0,0.3061911577358183);\">technology</span><span style=\"padding: 0.15em; margin-right: 4px; border-radius: 0.25em; background: rgba(0,255,0,0.23402509327544357);\">to</span><span style=\"padding: 0.15em; margin-right: 4px; border-radius: 0.25em; background: rgba(0,255,0,0.38248115511680325);\">the</span><span style=\"padding: 0.15em; margin-right: 4px; border-radius: 0.25em; background: rgba(0,255,0,0.4131745584468116);\">Soviets</span><span style=\"padding: 0.15em; margin-right: 4px; border-radius: 0.25em; background: rgba(0,255,0,0.27765551844001396);\">.</span><br/><br/><span style=\"padding: 0.15em; margin-right: 4px; border-radius: 0.25em; background: rgba(0,255,0,0.32930636603299235);\">When</span><span style=\"padding: 0.15em; margin-right: 4px; border-radius: 0.25em; background: rgba(0,255,0,0.2928182356280313);\">they</span><span style=\"padding: 0.15em; margin-right: 4px; border-radius: 0.25em; background: rgba(0,255,0,0.25134468313458747);\">did</span><span style=\"padding: 0.15em; margin-right: 4px; border-radius: 0.25em; background: rgba(0,255,0,0.39154108292384765);\">that</span><span style=\"padding: 0.15em; margin-right: 4px; border-radius: 0.25em; background: rgba(0,255,0,0.299203623389017);\">and</span><span style=\"padding: 0.15em; margin-right: 4px; border-radius: 0.25em; background: rgba(0,255,0,0.3174242213039999);\">I</span><span style=\"padding: 0.15em; margin-right: 4px; border-radius: 0.25em; background: rgba(0,255,0,0.24539581775196675);\">saw</span><span style=\"padding: 0.15em; margin-right: 4px; border-radius: 0.25em; background: rgba(0,255,0,0.38683453482287594);\">them</span><span style=\"padding: 0.15em; margin-right: 4px; border-radius: 0.25em; background: rgba(0,255,0,0.3127854424156513);\">and</span><span style=\"padding: 0.15em; margin-right: 4px; border-radius: 0.25em; background: rgba(0,255,0,0.31321954155662257);\">I</span><span style=\"padding: 0.15em; margin-right: 4px; border-radius: 0.25em; background: rgba(0,255,0,0.21033234901876058);\">told</span><span style=\"padding: 0.15em; margin-right: 4px; border-radius: 0.25em; background: rgba(0,255,0,0.36280028741992);\">them</span><span style=\"padding: 0.15em; margin-right: 4px; border-radius: 0.25em; background: rgba(0,255,0,0.23658580622750855);\">in</span><span style=\"padding: 0.15em; margin-right: 4px; border-radius: 0.25em; background: rgba(0,255,0,0.24546483732662822);\">a</span><span style=\"padding: 0.15em; margin-right: 4px; border-radius: 0.25em; background: rgba(0,255,0,0.23622713191378628);\">voice</span><span style=\"padding: 0.15em; margin-right: 4px; border-radius: 0.25em; background: rgba(0,255,0,0.2165641483056565);\">of</span><span style=\"padding: 0.15em; margin-right: 4px; border-radius: 0.25em; background: rgba(0,255,0,0.3739757473766853);\">Milosevic</span><span style=\"padding: 0.15em; margin-right: 4px; border-radius: 0.25em; background: rgba(0,255,0,0.3081512602644442);\">,</span><span style=\"padding: 0.15em; margin-right: 4px; border-radius: 0.25em; background: rgba(0,255,0,0.37478320550528244);\">``</span><span style=\"padding: 0.15em; margin-right: 4px; border-radius: 0.25em; background: rgba(0,255,0,0.2920315839907539);\">Ladies</span><span style=\"padding: 0.15em; margin-right: 4px; border-radius: 0.25em; background: rgba(0,255,0,0.24522173948865847);\">and</span><span style=\"padding: 0.15em; margin-right: 4px; border-radius: 0.25em; background: rgba(0,255,0,0.24762054404953926);\">gentleman</span><span style=\"padding: 0.15em; margin-right: 4px; border-radius: 0.25em; background: rgba(0,255,0,0.31729150231670733);\">,</span><span style=\"padding: 0.15em; margin-right: 4px; border-radius: 0.25em; background: rgba(0,255,0,0.3186271525894209);\">I</span><span style=\"padding: 0.15em; margin-right: 4px; border-radius: 0.25em; background: rgba(0,255,0,0.242883612432548);\">am</span><span style=\"padding: 0.15em; margin-right: 4px; border-radius: 0.25em; background: rgba(0,255,0,0.20968173990377598);\">definitely</span><span style=\"padding: 0.15em; margin-right: 4px; border-radius: 0.25em; background: rgba(0,255,0,0.2906516152728517);\">finished</span><span style=\"padding: 0.15em; margin-right: 4px; border-radius: 0.25em; background: rgba(0,255,0,0.25821380427265517);\">.</span><span style=\"padding: 0.15em; margin-right: 4px; border-radius: 0.25em; background: rgba(0,255,0,0.27601751225032456);\">''</span><br/><br/><span style=\"padding: 0.15em; margin-right: 4px; border-radius: 0.25em; background: rgba(0,255,0,0.17765943190798394);\">Recapping</span><span style=\"padding: 0.15em; margin-right: 4px; border-radius: 0.25em; background: rgba(0,255,0,0.3297030146839223);\">the</span><span style=\"padding: 0.15em; margin-right: 4px; border-radius: 0.25em; background: rgba(0,255,0,0.3335215633999619);\">developments</span><span style=\"padding: 0.15em; margin-right: 4px; border-radius: 0.25em; background: rgba(0,255,0,0.2039068138668605);\">of</span><span style=\"padding: 0.15em; margin-right: 4px; border-radius: 0.25em; background: rgba(0,255,0,0.28379494475853245);\">this</span><span style=\"padding: 0.15em; margin-right: 4px; border-radius: 0.25em; background: rgba(0,255,0,0.1289101919490804);\">disturbing</span><span style=\"padding: 0.15em; margin-right: 4px; border-radius: 0.25em; background: rgba(0,255,0,0.32986865022975687);\">day</span><span style=\"padding: 0.15em; margin-right: 4px; border-radius: 0.25em; background: rgba(0,255,0,0.23193151530568634);\">in</span><span style=\"padding: 0.15em; margin-right: 4px; border-radius: 0.25em; background: rgba(0,255,0,0.31840940325870176);\">the</span><span style=\"padding: 0.15em; margin-right: 4px; border-radius: 0.25em; background: rgba(0,255,0,0.2628019093391729);\">Middle</span><span style=\"padding: 0.15em; margin-right: 4px; border-radius: 0.25em; background: rgba(0,255,0,0.3605753040817258);\">East</span><span style=\"padding: 0.15em; margin-right: 4px; border-radius: 0.25em; background: rgba(0,255,0,0.26683608563922373);\">and</span><span style=\"padding: 0.15em; margin-right: 4px; border-radius: 0.25em; background: rgba(0,255,0,0.3188317697771981);\">the</span><span style=\"padding: 0.15em; margin-right: 4px; border-radius: 0.25em; background: rgba(0,255,0,0.20707315933097603);\">Arabian</span><span style=\"padding: 0.15em; margin-right: 4px; border-radius: 0.25em; background: rgba(0,255,0,0.28659266944323414);\">Peninsula</span><span style=\"padding: 0.15em; margin-right: 4px; border-radius: 0.25em; background: rgba(0,255,0,0.29046729320383624);\">--</span><span style=\"padding: 0.15em; margin-right: 4px; border-radius: 0.25em; background: rgba(0,255,0,0.26675124654330024);\">at</span><span style=\"padding: 0.15em; margin-right: 4px; border-radius: 0.25em; background: rgba(0,255,0,0.25667938923204875);\">least</span><span style=\"padding: 0.15em; margin-right: 4px; border-radius: 0.25em; background: rgba(0,255,0,0.33835266596263575);\">six</span><span style=\"padding: 0.15em; margin-right: 4px; border-radius: 0.25em; background: rgba(0,255,0,0.31952083756358446);\">American</span><span style=\"padding: 0.15em; margin-right: 4px; border-radius: 0.25em; background: rgba(0,255,0,0.28214093674129714);\">sailors</span><span style=\"padding: 0.15em; margin-right: 4px; border-radius: 0.25em; background: rgba(0,255,0,0.2415049130059764);\">are</span><span style=\"padding: 0.15em; margin-right: 4px; border-radius: 0.25em; background: rgba(0,255,0,0.2740119651629631);\">dead</span><span style=\"padding: 0.15em; margin-right: 4px; border-radius: 0.25em; background: rgba(0,255,0,0.2902868919011812);\">,</span><span style=\"padding: 0.15em; margin-right: 4px; border-radius: 0.25em; background: rgba(0,255,0,0.34162203668229574);\">11</span><span style=\"padding: 0.15em; margin-right: 4px; border-radius: 0.25em; background: rgba(0,255,0,0.22299724615256009);\">still</span><span style=\"padding: 0.15em; margin-right: 4px; border-radius: 0.25em; background: rgba(0,255,0,0.2726947827424185);\">missing</span><span style=\"padding: 0.15em; margin-right: 4px; border-radius: 0.25em; background: rgba(0,255,0,0.24687920316433615);\">and</span><span style=\"padding: 0.15em; margin-right: 4px; border-radius: 0.25em; background: rgba(0,255,0,0.33756864299158656);\">35</span><span style=\"padding: 0.15em; margin-right: 4px; border-radius: 0.25em; background: rgba(0,255,0,0.2663350378435817);\">injured</span><span style=\"padding: 0.15em; margin-right: 4px; border-radius: 0.25em; background: rgba(0,255,0,0.23643719794239104);\">after</span><span style=\"padding: 0.15em; margin-right: 4px; border-radius: 0.25em; background: rgba(0,255,0,0.2809104854961363);\">what</span><span style=\"padding: 0.15em; margin-right: 4px; border-radius: 0.25em; background: rgba(0,255,0,0.22323261868458902);\">intelligence</span><span style=\"padding: 0.15em; margin-right: 4px; border-radius: 0.25em; background: rgba(0,255,0,0.24495964350387917);\">experts</span><span style=\"padding: 0.15em; margin-right: 4px; border-radius: 0.25em; background: rgba(0,255,0,0.2342629611267765);\">say</span><span style=\"padding: 0.15em; margin-right: 4px; border-radius: 0.25em; background: rgba(0,255,0,0.19768420500979453);\">was</span><span style=\"padding: 0.15em; margin-right: 4px; border-radius: 0.25em; background: rgba(0,255,0,0.22683355547259865);\">a</span><span style=\"padding: 0.15em; margin-right: 4px; border-radius: 0.25em; background: rgba(0,255,0,0.16613019894441527);\">well</span><span style=\"padding: 0.15em; margin-right: 4px; border-radius: 0.25em; background: rgba(0,255,0,0.22099245814315946);\">-</span><span style=\"padding: 0.15em; margin-right: 4px; border-radius: 0.25em; background: rgba(0,255,0,0.2298320863570519);\">planned</span><span style=\"padding: 0.15em; margin-right: 4px; border-radius: 0.25em; background: rgba(0,255,0,0.23664128928054912);\">terrorist</span><span style=\"padding: 0.15em; margin-right: 4px; border-radius: 0.25em; background: rgba(0,255,0,0.246378675702765);\">bombing</span><span style=\"padding: 0.15em; margin-right: 4px; border-radius: 0.25em; background: rgba(0,255,0,0.24665901473074048);\">that</span><span style=\"padding: 0.15em; margin-right: 4px; border-radius: 0.25em; background: rgba(0,255,0,0.11692338600535329);\">ripped</span><span style=\"padding: 0.15em; margin-right: 4px; border-radius: 0.25em; background: rgba(0,255,0,0.22281582732080224);\">a</span><span style=\"padding: 0.15em; margin-right: 4px; border-radius: 0.25em; background: rgba(0,255,0,0.2553623601881165);\">20</span><span style=\"padding: 0.15em; margin-right: 4px; border-radius: 0.25em; background: rgba(0,255,0,0.1377131002276259);\">x</span><span style=\"padding: 0.15em; margin-right: 4px; border-radius: 0.25em; background: rgba(0,255,0,0.26383655873419437);\">40</span><span style=\"padding: 0.15em; margin-right: 4px; border-radius: 0.25em; background: rgba(0,255,0,0.18562385124802605);\">-</span><span style=\"padding: 0.15em; margin-right: 4px; border-radius: 0.25em; background: rgba(0,255,0,0.1448540314702945);\">foot</span><span style=\"padding: 0.15em; margin-right: 4px; border-radius: 0.25em; background: rgba(0,255,0,0.1393408238355534);\">hole</span><span style=\"padding: 0.15em; margin-right: 4px; border-radius: 0.25em; background: rgba(0,255,0,0.21028761373412067);\">in</span><span style=\"padding: 0.15em; margin-right: 4px; border-radius: 0.25em; background: rgba(0,255,0,0.29013362544593085);\">the</span><span style=\"padding: 0.15em; margin-right: 4px; border-radius: 0.25em; background: rgba(0,255,0,0.26472189595460766);\">Navy</span><span style=\"padding: 0.15em; margin-right: 4px; border-radius: 0.25em; background: rgba(0,255,0,0.20406229432545747);\">destroyer</span><span style=\"padding: 0.15em; margin-right: 4px; border-radius: 0.25em; background: rgba(0,255,0,0.2870854480520887);\">``</span><span style=\"padding: 0.15em; margin-right: 4px; border-radius: 0.25em; background: rgba(0,255,0,0.2125637731017089);\">USS</span><span style=\"padding: 0.15em; margin-right: 4px; border-radius: 0.25em; background: rgba(0,255,0,0.33232108841137725);\">Cole</span><span style=\"padding: 0.15em; margin-right: 4px; border-radius: 0.25em; background: rgba(0,255,0,0.2523326644065202);\">''</span><span style=\"padding: 0.15em; margin-right: 4px; border-radius: 0.25em; background: rgba(0,255,0,0.2253015352801896);\">in</span><span style=\"padding: 0.15em; margin-right: 4px; border-radius: 0.25em; background: rgba(0,255,0,0.2852143068109525);\">the</span><span style=\"padding: 0.15em; margin-right: 4px; border-radius: 0.25em; background: rgba(0,255,0,0.24141161281427134);\">Yemeni</span><span style=\"padding: 0.15em; margin-right: 4px; border-radius: 0.25em; background: rgba(0,255,0,0.1949097031556376);\">port</span><span style=\"padding: 0.15em; margin-right: 4px; border-radius: 0.25em; background: rgba(0,255,0,0.14719735702839737);\">of</span><span style=\"padding: 0.15em; margin-right: 4px; border-radius: 0.25em; background: rgba(0,255,0,0.36610023819111726);\">Aden</span><span style=\"padding: 0.15em; margin-right: 4px; border-radius: 0.25em; background: rgba(0,255,0,0.24585580064128126);\">.</span><br/><br/><span style=\"padding: 0.15em; margin-right: 4px; border-radius: 0.25em; background: rgba(0,255,0,0.3104296153674377);\">Characters</span><span style=\"padding: 0.15em; margin-right: 4px; border-radius: 0.25em; background: rgba(0,255,0,0.1999620084834293);\">proliferate</span><span style=\"padding: 0.15em; margin-right: 4px; border-radius: 0.25em; background: rgba(0,255,0,0.2729198485209391);\">out</span><span style=\"padding: 0.15em; margin-right: 4px; border-radius: 0.25em; background: rgba(0,255,0,0.16535675762350058);\">of</span><span style=\"padding: 0.15em; margin-right: 4px; border-radius: 0.25em; background: rgba(0,255,0,0.26781970855779774);\">the</span><span style=\"padding: 0.15em; margin-right: 4px; border-radius: 0.25em; background: rgba(0,255,0,0.2592556251879504);\">imagination</span><span style=\"padding: 0.15em; margin-right: 4px; border-radius: 0.25em; background: rgba(0,255,0,0.21221763736221966);\">of</span><span style=\"padding: 0.15em; margin-right: 4px; border-radius: 0.25em; background: rgba(0,255,0,0.3294769217085518);\">the</span><span style=\"padding: 0.15em; margin-right: 4px; border-radius: 0.25em; background: rgba(0,255,0,0.29411308516389456);\">narrator</span><span style=\"padding: 0.15em; margin-right: 4px; border-radius: 0.25em; background: rgba(0,255,0,0.25616298091025763);\">so</span><span style=\"padding: 0.15em; margin-right: 4px; border-radius: 0.25em; background: rgba(0,255,0,0.31872579429089004);\">that</span><span style=\"padding: 0.15em; margin-right: 4px; border-radius: 0.25em; background: rgba(0,255,0,0.24033074014559935);\">at</span><span style=\"padding: 0.15em; margin-right: 4px; border-radius: 0.25em; background: rgba(0,255,0,0.23003734613197319);\">a</span><span style=\"padding: 0.15em; margin-right: 4px; border-radius: 0.25em; background: rgba(0,255,0,0.17816470242829);\">certain</span><span style=\"padding: 0.15em; margin-right: 4px; border-radius: 0.25em; background: rgba(0,255,0,0.2249755115760889);\">point</span><span style=\"padding: 0.15em; margin-right: 4px; border-radius: 0.25em; background: rgba(0,255,0,0.30187286182767814);\">,</span><span style=\"padding: 0.15em; margin-right: 4px; border-radius: 0.25em; background: rgba(0,255,0,0.2863347081959154);\">you</span><span style=\"padding: 0.15em; margin-right: 4px; border-radius: 0.25em; background: rgba(0,255,0,0.2806133095314526);\">have</span><span style=\"padding: 0.15em; margin-right: 4px; border-radius: 0.25em; background: rgba(0,255,0,0.2685372235063278);\">a</span><span style=\"padding: 0.15em; margin-right: 4px; border-radius: 0.25em; background: rgba(0,255,0,0.26179266271439666);\">new</span><span style=\"padding: 0.15em; margin-right: 4px; border-radius: 0.25em; background: rgba(0,255,0,0.4013209691394219);\">he</span><span style=\"padding: 0.15em; margin-right: 4px; border-radius: 0.25em; background: rgba(0,255,0,0.32526951687749345);\">,</span><span style=\"padding: 0.15em; margin-right: 4px; border-radius: 0.25em; background: rgba(0,255,0,0.32385491509701225);\">you</span><span style=\"padding: 0.15em; margin-right: 4px; border-radius: 0.25em; background: rgba(0,255,0,0.28465994315494025);\">have</span><span style=\"padding: 0.15em; margin-right: 4px; border-radius: 0.25em; background: rgba(0,255,0,0.276954902079428);\">a</span><span style=\"padding: 0.15em; margin-right: 4px; border-radius: 0.25em; background: rgba(0,255,0,0.25390209168586664);\">new</span><span style=\"padding: 0.15em; margin-right: 4px; border-radius: 0.25em; background: rgba(0,255,0,0.38061365612913534);\">she</span><span style=\"padding: 0.15em; margin-right: 4px; border-radius: 0.25em; background: rgba(0,255,0,0.31234058685791954);\">,</span><span style=\"padding: 0.15em; margin-right: 4px; border-radius: 0.25em; background: rgba(0,255,0,0.3006190794904864);\">you</span><span style=\"padding: 0.15em; margin-right: 4px; border-radius: 0.25em; background: rgba(0,255,0,0.2760476218558148);\">have</span><span style=\"padding: 0.15em; margin-right: 4px; border-radius: 0.25em; background: rgba(0,255,0,0.26344933899126416);\">a</span><span style=\"padding: 0.15em; margin-right: 4px; border-radius: 0.25em; background: rgba(0,255,0,0.38518105819820586);\">you</span><span style=\"padding: 0.15em; margin-right: 4px; border-radius: 0.25em; background: rgba(0,255,0,0.3017012610857989);\">,</span><span style=\"padding: 0.15em; margin-right: 4px; border-radius: 0.25em; background: rgba(0,255,0,0.30067178171677283);\">and</span><span style=\"padding: 0.15em; margin-right: 4px; border-radius: 0.25em; background: rgba(0,255,0,0.26320300316448736);\">each</span><span style=\"padding: 0.15em; margin-right: 4px; border-radius: 0.25em; background: rgba(0,255,0,0.34870311715982943);\">one</span><span style=\"padding: 0.15em; margin-right: 4px; border-radius: 0.25em; background: rgba(0,255,0,0.19928473668434854);\">of</span><span style=\"padding: 0.15em; margin-right: 4px; border-radius: 0.25em; background: rgba(0,255,0,0.32199820284768965);\">these</span><span style=\"padding: 0.15em; margin-right: 4px; border-radius: 0.25em; background: rgba(0,255,0,0.2906359898833184);\">characters</span><span style=\"padding: 0.15em; margin-right: 4px; border-radius: 0.25em; background: rgba(0,255,0,0.16683620363607438);\">tells</span><span style=\"padding: 0.15em; margin-right: 4px; border-radius: 0.25em; background: rgba(0,255,0,0.2499310999439304);\">stories</span><span style=\"padding: 0.15em; margin-right: 4px; border-radius: 0.25em; background: rgba(0,255,0,0.2916541938666672);\">,</span><span style=\"padding: 0.15em; margin-right: 4px; border-radius: 0.25em; background: rgba(0,255,0,0.21062768032486373);\">each</span><span style=\"padding: 0.15em; margin-right: 4px; border-radius: 0.25em; background: rgba(0,255,0,0.23193724436911187);\">story</span><span style=\"padding: 0.15em; margin-right: 4px; border-radius: 0.25em; background: rgba(0,255,0,0.18902611788262336);\">of</span><span style=\"padding: 0.15em; margin-right: 4px; border-radius: 0.25em; background: rgba(0,255,0,0.3052129513247757);\">which</span><span style=\"padding: 0.15em; margin-right: 4px; border-radius: 0.25em; background: rgba(0,255,0,0.24466731381915788);\">is</span><span style=\"padding: 0.15em; margin-right: 4px; border-radius: 0.25em; background: rgba(0,255,0,0.2297655500910639);\">designed</span><span style=\"padding: 0.15em; margin-right: 4px; border-radius: 0.25em; background: rgba(0,255,0,0.23198884827742677);\">to</span><span style=\"padding: 0.15em; margin-right: 4px; border-radius: 0.25em; background: rgba(0,255,0,0.18978885054992709);\">give</span><span style=\"padding: 0.15em; margin-right: 4px; border-radius: 0.25em; background: rgba(0,255,0,0.24854993564597264);\">you</span><span style=\"padding: 0.15em; margin-right: 4px; border-radius: 0.25em; background: rgba(0,255,0,0.2161541294007548);\">a</span><span style=\"padding: 0.15em; margin-right: 4px; border-radius: 0.25em; background: rgba(0,255,0,0.1266875746883836);\">deeper</span><span style=\"padding: 0.15em; margin-right: 4px; border-radius: 0.25em; background: rgba(0,255,0,0.17226038219562914);\">sense</span><span style=\"padding: 0.15em; margin-right: 4px; border-radius: 0.25em; background: rgba(0,255,0,0.19842149784204755);\">of</span><span style=\"padding: 0.15em; margin-right: 4px; border-radius: 0.25em; background: rgba(0,255,0,0.2850482550680448);\">the</span><span style=\"padding: 0.15em; margin-right: 4px; border-radius: 0.25em; background: rgba(0,255,0,0.23273260511422422);\">richness</span><span style=\"padding: 0.15em; margin-right: 4px; border-radius: 0.25em; background: rgba(0,255,0,0.21659024226245185);\">and</span><span style=\"padding: 0.15em; margin-right: 4px; border-radius: 0.25em; background: rgba(0,255,0,0.2830010083356421);\">the</span><span style=\"padding: 0.15em; margin-right: 4px; border-radius: 0.25em; background: rgba(0,255,0,0.23417029199994832);\">complexity</span><span style=\"padding: 0.15em; margin-right: 4px; border-radius: 0.25em; background: rgba(0,255,0,0.18822817546273649);\">of</span><span style=\"padding: 0.15em; margin-right: 4px; border-radius: 0.25em; background: rgba(0,255,0,0.33274561544061315);\">life</span><span style=\"padding: 0.15em; margin-right: 4px; border-radius: 0.25em; background: rgba(0,255,0,0.25378892299535033);\">in</span><span style=\"padding: 0.15em; margin-right: 4px; border-radius: 0.25em; background: rgba(0,255,0,0.5156435262911407);\">China</span><span style=\"padding: 0.15em; margin-right: 4px; border-radius: 0.25em; background: rgba(0,255,0,0.2658373784435682);\">.</span><br/><br/><span style=\"padding: 0.15em; margin-right: 4px; border-radius: 0.25em; background: rgba(0,255,0,0.19943249841685343);\">%uh</span><span style=\"padding: 0.15em; margin-right: 4px; border-radius: 0.25em; background: rgba(0,255,0,0.2826360785610916);\">but</span><span style=\"padding: 0.15em; margin-right: 4px; border-radius: 0.25em; background: rgba(0,255,0,0.31669705680344923);\">it</span><span style=\"padding: 0.15em; margin-right: 4px; border-radius: 0.25em; background: rgba(0,255,0,0.20811100219861633);\">'s</span><span style=\"padding: 0.15em; margin-right: 4px; border-radius: 0.25em; background: rgba(0,255,0,0.20794214370488362);\">a</span><span style=\"padding: 0.15em; margin-right: 4px; border-radius: 0.25em; background: rgba(0,255,0,0.19720216779503227);\">lot</span><span style=\"padding: 0.15em; margin-right: 4px; border-radius: 0.25em; background: rgba(0,255,0,0.2006829750642465);\">less</span><span style=\"padding: 0.15em; margin-right: 4px; border-radius: 0.25em; background: rgba(0,255,0,0.2249404738515941);\">expensive</span><span style=\"padding: 0.15em; margin-right: 4px; border-radius: 0.25em; background: rgba(0,255,0,0.23631098484011218);\">if</span><span style=\"padding: 0.15em; margin-right: 4px; border-radius: 0.25em; background: rgba(0,255,0,0.21841957116726327);\">we</span><span style=\"padding: 0.15em; margin-right: 4px; border-radius: 0.25em; background: rgba(0,255,0,0.18509227622228414);\">do</span><span style=\"padding: 0.15em; margin-right: 4px; border-radius: 0.25em; background: rgba(0,255,0,0.3294779668213864);\">it</span><span style=\"padding: 0.15em; margin-right: 4px; border-radius: 0.25em; background: rgba(0,255,0,0.25680679157209596);\">that</span><span style=\"padding: 0.15em; margin-right: 4px; border-radius: 0.25em; background: rgba(0,255,0,0.23960121459530848);\">way</span><span style=\"padding: 0.15em; margin-right: 4px; border-radius: 0.25em; background: rgba(0,255,0,0.24781460293396723);\">than</span><span style=\"padding: 0.15em; margin-right: 4px; border-radius: 0.25em; background: rgba(0,255,0,0.23887058618021267);\">if</span><span style=\"padding: 0.15em; margin-right: 4px; border-radius: 0.25em; background: rgba(0,255,0,0.22639343234941545);\">we</span><span style=\"padding: 0.15em; margin-right: 4px; border-radius: 0.25em; background: rgba(0,255,0,0.176241086021396);\">actually</span><span style=\"padding: 0.15em; margin-right: 4px; border-radius: 0.25em; background: rgba(0,255,0,0.22457751710731222);\">make</span><span style=\"padding: 0.15em; margin-right: 4px; border-radius: 0.25em; background: rgba(0,255,0,0.22708877422621632);\">my</span><span style=\"padding: 0.15em; margin-right: 4px; border-radius: 0.25em; background: rgba(0,255,0,0.25202450271620874);\">parents</span><span style=\"padding: 0.15em; margin-right: 4px; border-radius: 0.25em; background: rgba(0,255,0,0.20826952000419957);\">in</span><span style=\"padding: 0.15em; margin-right: 4px; border-radius: 0.25em; background: rgba(0,255,0,0.22548359941235202);\">law</span><span style=\"padding: 0.15em; margin-right: 4px; border-radius: 0.25em; background: rgba(0,255,0,0.19272321664059758);\">pay</span><span style=\"padding: 0.15em; margin-right: 4px; border-radius: 0.25em; background: rgba(0,255,0,0.35607332069652625);\">it</span><span style=\"padding: 0.15em; margin-right: 4px; border-radius: 0.25em; background: rgba(0,255,0,0.3167992697994119);\">,</span><br/><br/></div>"
      ],
      "text/plain": [
       "<IPython.core.display.HTML object>"
      ]
     },
     "metadata": {},
     "output_type": "display_data"
    }
   ],
   "source": [
    "display(HTML(get_colored_results_html(tokens_test_sim, bg_color)))"
   ]
  },
  {
   "cell_type": "code",
   "execution_count": null,
   "metadata": {},
   "outputs": [],
   "source": []
  }
 ],
 "metadata": {
  "kernelspec": {
   "display_name": "Python 3",
   "language": "python",
   "name": "python3"
  },
  "language_info": {
   "codemirror_mode": {
    "name": "ipython",
    "version": 3
   },
   "file_extension": ".py",
   "mimetype": "text/x-python",
   "name": "python",
   "nbconvert_exporter": "python",
   "pygments_lexer": "ipython3",
   "version": "3.6.5"
  }
 },
 "nbformat": 4,
 "nbformat_minor": 2
}
