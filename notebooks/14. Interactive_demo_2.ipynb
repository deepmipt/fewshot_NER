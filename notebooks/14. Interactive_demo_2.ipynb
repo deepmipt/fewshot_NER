{
 "cells": [
  {
   "cell_type": "code",
   "execution_count": 1,
   "metadata": {},
   "outputs": [
    {
     "name": "stderr",
     "output_type": "stream",
     "text": [
      "[nltk_data] Downloading package punkt to /home/clement/nltk_data...\n",
      "[nltk_data]   Package punkt is already up-to-date!\n",
      "[nltk_data] Downloading package stopwords to\n",
      "[nltk_data]     /home/clement/nltk_data...\n",
      "[nltk_data]   Package stopwords is already up-to-date!\n",
      "[nltk_data] Downloading package perluniprops to\n",
      "[nltk_data]     /home/clement/nltk_data...\n",
      "[nltk_data]   Package perluniprops is already up-to-date!\n",
      "[nltk_data] Downloading package nonbreaking_prefixes to\n",
      "[nltk_data]     /home/clement/nltk_data...\n",
      "[nltk_data]   Package nonbreaking_prefixes is already up-to-date!\n"
     ]
    }
   ],
   "source": [
    "from deeppavlov.models.tokenizers.nltk_tokenizer import NLTKTokenizer"
   ]
  },
  {
   "cell_type": "code",
   "execution_count": 2,
   "metadata": {},
   "outputs": [
    {
     "name": "stderr",
     "output_type": "stream",
     "text": [
      "2018-08-27 19:17:16.0 DEBUG in 'matplotlib'['__init__'] at line 409: $HOME=/home/clement\n",
      "2018-08-27 19:17:16.1 DEBUG in 'matplotlib'['__init__'] at line 409: matplotlib data path /home/clement/virtenv/env/lib/python3.6/site-packages/matplotlib/mpl-data\n",
      "2018-08-27 19:17:16.4 DEBUG in 'matplotlib'['__init__'] at line 1156: loaded rc file /home/clement/virtenv/env/lib/python3.6/site-packages/matplotlib/mpl-data/matplotlibrc\n",
      "2018-08-27 19:17:16.5 DEBUG in 'matplotlib'['__init__'] at line 1879: matplotlib version 2.2.3\n",
      "2018-08-27 19:17:16.5 DEBUG in 'matplotlib'['__init__'] at line 1880: interactive is False\n",
      "2018-08-27 19:17:16.5 DEBUG in 'matplotlib'['__init__'] at line 1881: platform is linux\n",
      "2018-08-27 19:17:16.6 DEBUG in 'matplotlib'['__init__'] at line 1882: loaded modules: ['builtins', 'sys', '_frozen_importlib', '_imp', '_warnings', '_thread', '_weakref', '_frozen_importlib_external', '_io', 'marshal', 'posix', 'zipimport', 'encodings', 'codecs', '_codecs', 'encodings.aliases', 'encodings.utf_8', '_signal', '__main__', 'encodings.latin_1', 'io', 'abc', '_weakrefset', '_bootlocale', '_locale', 'site', 'os', 'errno', 'stat', '_stat', 'posixpath', 'genericpath', 'os.path', '_collections_abc', 'types', 'functools', '_functools', 'collections', 'operator', '_operator', 'keyword', 'heapq', '_heapq', 'itertools', 'reprlib', '_collections', 'weakref', 'collections.abc', 'importlib', 'importlib._bootstrap', 'importlib._bootstrap_external', 'warnings', 'importlib.util', 'importlib.abc', 'importlib.machinery', 'contextlib', 'mpl_toolkits', 'google', 'runpy', 'pkgutil', 'ipykernel', 'ipykernel._version', 'ipykernel.connect', '__future__', 'json', 'json.decoder', 're', 'enum', 'sre_compile', '_sre', 'sre_parse', 'sre_constants', 'copyreg', 'json.scanner', '_json', 'json.encoder', 'subprocess', 'time', 'signal', '_posixsubprocess', 'select', 'selectors', 'math', 'threading', 'traceback', 'linecache', 'tokenize', 'token', 'IPython', 'IPython.core', 'IPython.core.getipython', 'IPython.core.release', 'IPython.core.application', 'atexit', 'copy', 'glob', 'fnmatch', 'logging', 'string', '_string', 'shutil', 'zlib', 'bz2', '_compression', '_bz2', 'lzma', '_lzma', 'pwd', 'grp', 'traitlets', 'traitlets.traitlets', 'inspect', 'ast', '_ast', 'dis', 'opcode', '_opcode', 'six', 'struct', '_struct', 'traitlets.utils', 'traitlets.utils.getargspec', 'traitlets.utils.importstring', 'ipython_genutils', 'ipython_genutils._version', 'ipython_genutils.py3compat', 'ipython_genutils.encoding', 'locale', 'platform', 'traitlets.utils.sentinel', 'traitlets.utils.bunch', 'traitlets._version', 'traitlets.config', 'traitlets.config.application', 'decorator', 'traitlets.config.configurable', 'traitlets.config.loader', 'argparse', 'textwrap', 'gettext', 'ipython_genutils.path', 'random', 'hashlib', '_hashlib', '_blake2', '_sha3', 'bisect', '_bisect', '_random', 'ipython_genutils.text', 'ipython_genutils.importstring', 'IPython.core.crashhandler', 'pprint', 'IPython.core.ultratb', 'pydoc', 'urllib', 'urllib.parse', 'IPython.core.debugger', 'bdb', 'IPython.utils', 'IPython.utils.PyColorize', 'IPython.utils.coloransi', 'IPython.utils.ipstruct', 'IPython.utils.colorable', 'pygments', 'pygments.util', 'IPython.utils.py3compat', 'IPython.utils.encoding', 'IPython.core.excolors', 'IPython.testing', 'IPython.testing.skipdoctest', 'pdb', 'cmd', 'code', 'codeop', 'IPython.core.display_trap', 'IPython.utils.openpy', 'IPython.utils.path', 'IPython.utils.process', 'IPython.utils._process_posix', 'pexpect', 'pexpect.exceptions', 'pexpect.utils', 'pexpect.expect', 'pexpect.pty_spawn', 'pty', 'tty', 'termios', 'ptyprocess', 'ptyprocess.ptyprocess', 'fcntl', 'resource', 'ptyprocess.util', 'pexpect.spawnbase', 'pexpect.run', 'IPython.utils._process_common', 'shlex', 'IPython.utils.decorators', 'IPython.utils.data', 'IPython.utils.terminal', 'IPython.utils.sysinfo', 'IPython.utils._sysinfo', 'IPython.core.profiledir', 'IPython.paths', 'tempfile', 'IPython.utils.importstring', 'IPython.terminal', 'IPython.terminal.embed', 'IPython.core.compilerop', 'IPython.core.magic_arguments', 'IPython.core.error', 'IPython.utils.text', 'pathlib', 'ntpath', 'IPython.core.magic', 'getopt', 'IPython.core.oinspect', 'IPython.core.page', 'IPython.core.display', 'binascii', 'mimetypes', 'IPython.lib', 'IPython.lib.security', 'getpass', 'IPython.lib.pretty', 'datetime', '_datetime', 'IPython.utils.signatures', 'IPython.utils.dir2', 'IPython.utils.wildcard', 'pygments.lexers', 'pygments.lexers._mapping', 'pygments.modeline', 'pygments.plugin', 'pygments.lexers.python', 'pygments.lexer', 'pygments.filter', 'pygments.filters', 'pygments.token', 'pygments.regexopt', 'pygments.unistring', 'pygments.formatters', 'pygments.formatters._mapping', 'pygments.formatters.html', 'pygments.formatter', 'pygments.styles', 'IPython.core.inputsplitter', 'IPython.core.inputtransformer', 'IPython.core.splitinput', 'IPython.utils.tokenize2', 'IPython.core.interactiveshell', 'pickleshare', 'pickle', '_compat_pickle', '_pickle', 'IPython.core.prefilter', 'IPython.core.autocall', 'IPython.core.macro', 'IPython.core.alias', 'IPython.core.builtin_trap', 'IPython.core.events', 'backcall', 'backcall.backcall', 'IPython.core.displayhook', 'IPython.core.displaypub', 'IPython.core.extensions', 'IPython.core.formatters', 'IPython.utils.sentinel', 'IPython.core.history', 'sqlite3', 'sqlite3.dbapi2', '_sqlite3', 'IPython.core.logger', 'IPython.core.payload', 'IPython.core.usage', 'IPython.display', 'IPython.lib.display', 'html', 'html.entities', 'IPython.utils.io', 'IPython.utils.capture', 'IPython.utils.strdispatch', 'IPython.core.hooks', 'IPython.utils.syspathcontext', 'IPython.utils.tempdir', 'typing', 'typing.io', 'typing.re', 'IPython.utils.contexts', 'IPython.terminal.interactiveshell', 'prompt_toolkit', 'prompt_toolkit.interface', 'prompt_toolkit.application', 'prompt_toolkit.buffer', 'prompt_toolkit.auto_suggest', 'prompt_toolkit.filters', 'prompt_toolkit.filters.base', 'prompt_toolkit.utils', 'wcwidth', 'wcwidth.wcwidth', 'wcwidth.table_wide', 'wcwidth.table_zero', 'six.moves', 'prompt_toolkit.filters.cli', 'prompt_toolkit.enums', 'prompt_toolkit.key_binding', 'prompt_toolkit.key_binding.vi_state', 'prompt_toolkit.cache', 'prompt_toolkit.filters.types', 'prompt_toolkit.filters.utils', 'prompt_toolkit.clipboard', 'prompt_toolkit.clipboard.base', 'prompt_toolkit.selection', 'prompt_toolkit.clipboard.in_memory', 'prompt_toolkit.completion', 'prompt_toolkit.document', 'prompt_toolkit.history', 'prompt_toolkit.search_state', 'prompt_toolkit.validation', 'prompt_toolkit.buffer_mapping', 'prompt_toolkit.key_binding.bindings', 'prompt_toolkit.key_binding.bindings.basic', 'prompt_toolkit.keys', 'prompt_toolkit.layout', 'prompt_toolkit.layout.containers', 'prompt_toolkit.layout.controls', 'prompt_toolkit.mouse_events', 'prompt_toolkit.token', 'prompt_toolkit.layout.lexers', 'prompt_toolkit.layout.utils', 'prompt_toolkit.layout.processors', 'prompt_toolkit.reactive', 'prompt_toolkit.layout.screen', 'prompt_toolkit.layout.dimension', 'prompt_toolkit.layout.margins', 'prompt_toolkit.renderer', 'prompt_toolkit.layout.mouse_handlers', 'prompt_toolkit.output', 'prompt_toolkit.styles', 'prompt_toolkit.styles.base', 'prompt_toolkit.styles.defaults', 'prompt_toolkit.styles.from_dict', 'prompt_toolkit.styles.utils', 'prompt_toolkit.styles.from_pygments', 'pygments.style', 'pygments.styles.default', 'prompt_toolkit.key_binding.bindings.named_commands', 'prompt_toolkit.key_binding.bindings.completion', 'prompt_toolkit.key_binding.registry', 'prompt_toolkit.key_binding.input_processor', 'prompt_toolkit.key_binding.bindings.emacs', 'prompt_toolkit.key_binding.bindings.scroll', 'prompt_toolkit.key_binding.bindings.vi', 'prompt_toolkit.key_binding.digraphs', 'prompt_toolkit.key_binding.defaults', 'prompt_toolkit.eventloop', 'prompt_toolkit.eventloop.base', 'prompt_toolkit.eventloop.callbacks', 'prompt_toolkit.input', 'prompt_toolkit.terminal', 'prompt_toolkit.terminal.vt100_input', 'prompt_toolkit.shortcuts', 'prompt_toolkit.layout.menus', 'prompt_toolkit.layout.prompt', 'prompt_toolkit.layout.toolbars', 'prompt_toolkit.terminal.vt100_output', 'array', 'prompt_toolkit.key_binding.manager', 'IPython.terminal.debugger', 'IPython.core.completer', 'unicodedata', 'IPython.core.latex_symbols', 'IPython.utils.generics', 'simplegeneric', 'jedi', 'jedi.api', 'parso', 'parso.parser', 'parso.tree', 'parso._compatibility', 'parso.pgen2', 'parso.pgen2.generator', 'parso.pgen2.grammar_parser', 'parso.python', 'parso.python.tokenize', 'parso.python.token', 'parso.utils', 'parso.grammar', 'parso.python.diff', 'difflib', 'parso.python.parser', 'parso.python.tree', 'parso.python.prefix', 'parso.cache', 'gc', 'parso.python.errors', 'parso.normalizer', 'parso.python.pep8', 'jedi._compatibility', 'queue', 'jedi.parser_utils', 'jedi.debug', 'jedi.settings', 'jedi.cache', 'jedi.api.classes', 'jedi.evaluate', 'jedi.evaluate.utils', 'jedi.evaluate.imports', 'jedi.evaluate.sys_path', 'jedi.evaluate.cache', 'jedi.evaluate.base_context', 'jedi.common', 'jedi.common.context', 'jedi.evaluate.helpers', 'jedi.common.utils', 'jedi.evaluate.compiled', 'jedi.evaluate.compiled.context', 'jedi.evaluate.filters', 'jedi.evaluate.flow_analysis', 'jedi.evaluate.recursion', 'jedi.evaluate.lazy_context', 'jedi.evaluate.compiled.access', 'jedi.evaluate.compiled.getattr_static', 'jedi.evaluate.compiled.fake', 'jedi.evaluate.analysis', 'jedi.evaluate.context', 'jedi.evaluate.context.module', 'jedi.evaluate.context.klass', 'jedi.evaluate.context.function', 'jedi.evaluate.docstrings', 'jedi.evaluate.pep0484', 'jedi.evaluate.arguments', 'jedi.evaluate.context.iterable', 'jedi.evaluate.param', 'jedi.evaluate.context.asynchronous', 'jedi.evaluate.parser_cache', 'jedi.evaluate.context.instance', 'jedi.evaluate.syntax_tree', 'jedi.evaluate.finder', 'jedi.api.keywords', 'pydoc_data', 'pydoc_data.topics', 'jedi.api.interpreter', 'jedi.evaluate.compiled.mixed', 'jedi.api.helpers', 'jedi.api.completion', 'jedi.api.environment', 'filecmp', 'jedi.evaluate.compiled.subprocess', 'socket', '_socket', 'jedi.evaluate.compiled.subprocess.functions', 'jedi.api.exceptions', 'jedi.api.project', 'jedi.evaluate.usages', 'IPython.terminal.ptutils', 'IPython.terminal.shortcuts', 'IPython.terminal.magics', 'IPython.lib.clipboard', 'IPython.terminal.pt_inputhooks', 'IPython.terminal.prompts', 'IPython.terminal.ipapp', 'IPython.core.magics', 'IPython.core.magics.auto', 'IPython.core.magics.basic', 'IPython.core.magics.code', 'urllib.request', 'base64', 'email', 'http', 'http.client', 'email.parser', 'email.feedparser', 'email.errors', 'email._policybase', 'email.header', 'email.quoprimime', 'email.base64mime', 'email.charset', 'email.encoders', 'quopri', 'email.utils', 'email._parseaddr', 'calendar', 'email.message', 'uu', 'email._encoded_words', 'email.iterators', 'ssl', 'ipaddress', '_ssl', 'urllib.error', 'urllib.response', 'IPython.core.magics.config', 'IPython.core.magics.display', 'IPython.core.magics.execution', 'timeit', 'cProfile', '_lsprof', 'profile', 'optparse', 'pstats', 'IPython.utils.module_paths', 'imp', 'IPython.utils.timing', 'IPython.core.magics.extension', 'IPython.core.magics.history', 'IPython.core.magics.logging', 'IPython.core.magics.namespace', 'IPython.core.magics.osm', 'IPython.core.magics.pylab', 'IPython.core.pylabtools', 'IPython.core.magics.script', 'IPython.lib.backgroundjobs', 'IPython.core.shellapp', 'IPython.extensions', 'IPython.extensions.storemagic', 'IPython.utils.frame', 'jupyter_client', 'jupyter_client._version', 'jupyter_client.connect', 'zmq', 'ctypes', '_ctypes', 'ctypes._endian', 'zmq.backend', 'zmq.backend.select', 'zmq.backend.cython', 'cython_runtime', 'zmq.backend.cython.constants', '_cython_0_28_5', 'zmq.backend.cython.error', 'zmq.backend.cython.message', 'zmq.error', 'zmq.backend.cython.context', 'zmq.backend.cython.socket', 'zmq.backend.cython.utils', 'zmq.backend.cython._poll', 'zmq.backend.cython._version', 'zmq.backend.cython._device', 'zmq.sugar', 'zmq.sugar.constants', 'zmq.utils', 'zmq.utils.constant_names', 'zmq.sugar.context', 'zmq.sugar.attrsettr', 'zmq.sugar.socket', 'zmq.sugar.poll', 'zmq.utils.jsonapi', 'zmq.utils.strtypes', 'zmq.sugar.frame', 'zmq.sugar.tracker', 'zmq.sugar.version', 'zmq.sugar.stopwatch', 'jupyter_client.localinterfaces', 'jupyter_core', 'jupyter_core.version', 'jupyter_core.paths', 'jupyter_client.launcher', 'traitlets.log', 'jupyter_client.client', 'jupyter_client.channels', 'jupyter_client.channelsabc', 'jupyter_client.clientabc', 'jupyter_client.manager', 'jupyter_client.kernelspec', 'jupyter_client.managerabc', 'jupyter_client.blocking', 'jupyter_client.blocking.client', 'jupyter_client.blocking.channels', 'jupyter_client.multikernelmanager', 'uuid', 'ctypes.util', 'ipykernel.kernelapp', 'tornado', 'tornado.ioloop', 'numbers', 'tornado.concurrent', 'tornado.log', 'logging.handlers', 'tornado.escape', 'tornado.util', 'tornado.speedups', 'curses', '_curses', 'tornado.stack_context', 'concurrent', 'concurrent.futures', 'concurrent.futures._base', 'concurrent.futures.process', 'multiprocessing', 'multiprocessing.context', 'multiprocessing.process', 'multiprocessing.reduction', '__mp_main__', 'multiprocessing.connection', '_multiprocessing', 'multiprocessing.util', 'concurrent.futures.thread', 'asyncio', 'asyncio.base_events', 'asyncio.compat', 'asyncio.coroutines', 'asyncio.constants', 'asyncio.events', 'asyncio.base_futures', 'asyncio.log', 'asyncio.futures', 'asyncio.base_tasks', '_asyncio', 'asyncio.tasks', 'asyncio.locks', 'asyncio.protocols', 'asyncio.queues', 'asyncio.streams', 'asyncio.subprocess', 'asyncio.transports', 'asyncio.unix_events', 'asyncio.base_subprocess', 'asyncio.selector_events', 'asyncio.sslproto', 'tornado.platform', 'tornado.platform.auto', 'tornado.platform.posix', 'tornado.platform.common', 'tornado.platform.interface', 'zmq.eventloop', 'zmq.eventloop.ioloop', 'tornado.platform.asyncio', 'tornado.gen', 'zmq.eventloop.zmqstream', 'ipykernel.iostream', 'jupyter_client.session', 'hmac', 'jupyter_client.jsonutil', 'dateutil', 'dateutil._version', 'dateutil.parser', 'dateutil.parser._parser', 'decimal', '_decimal', 'dateutil.relativedelta', 'dateutil._common', 'dateutil.tz', 'dateutil.tz.tz', 'dateutil.tz._common', 'dateutil.tz._factories', 'dateutil.parser.isoparser', '_strptime', 'jupyter_client.adapter', 'ipykernel.heartbeat', 'ipykernel.ipkernel', 'IPython.utils.tokenutil', 'ipykernel.comm', 'ipykernel.comm.manager', 'ipykernel.comm.comm', 'ipykernel.kernelbase', 'ipykernel.jsonutil', 'ipykernel.zmqshell', 'IPython.core.payloadpage', 'ipykernel.displayhook', 'ipykernel.parentpoller', 'faulthandler', 'ipykernel.datapub', 'ipykernel.serialize', 'ipykernel.pickleutil', 'ipykernel.codeutil', 'IPython.core.completerlib', 'storemagic', 'ipywidgets', 'ipywidgets._version', 'ipywidgets.widgets', 'ipywidgets.widgets.widget', 'ipywidgets.widgets.domwidget', 'ipywidgets.widgets.trait_types', 'ipywidgets.widgets.widget_layout', 'ipywidgets.widgets.widget_style', 'ipywidgets.widgets.valuewidget', 'ipywidgets.widgets.widget_core', 'ipywidgets.widgets.widget_bool', 'ipywidgets.widgets.widget_description', 'ipywidgets.widgets.widget_button', 'ipywidgets.widgets.widget_box', 'ipywidgets.widgets.docutils', 'ipywidgets.widgets.widget_float', 'ipywidgets.widgets.widget_int', 'ipywidgets.widgets.widget_color', 'ipywidgets.widgets.widget_date', 'ipywidgets.widgets.widget_output', 'ipywidgets.widgets.widget_selection', 'ipywidgets.widgets.widget_selectioncontainer', 'ipywidgets.widgets.widget_string', 'ipywidgets.widgets.widget_controller', 'ipywidgets.widgets.interaction', 'ipywidgets.widgets.widget_link', 'ipywidgets.widgets.widget_media', 'deeppavlov', 'deeppavlov.models', 'deeppavlov.models.tokenizers', 'deeppavlov.models.tokenizers.nltk_tokenizer', 'nltk', 'nltk.internals', 'xml', 'xml.etree', 'xml.etree.cElementTree', 'xml.etree.ElementTree', 'xml.etree.ElementPath', 'pyexpat.errors', 'pyexpat.model', 'pyexpat', '_elementtree', 'nltk.compat', 'fractions', 'nltk.collocations', 'nltk.probability', 'nltk.util', 'six.moves.urllib', 'six.moves.urllib.request', 'nltk.collections', 'nltk.metrics', 'nltk.metrics.scores', 'scipy', 'numpy', 'numpy._globals', 'numpy.__config__', 'numpy.version', 'numpy._import_tools', 'numpy.add_newdocs', 'numpy.lib', 'numpy.lib.info', 'numpy.lib.type_check', 'numpy.core', 'numpy.core.info', 'numpy.core.multiarray', 'numpy.core.umath', 'numpy.core._internal', 'numpy.compat', 'numpy.compat._inspect', 'numpy.compat.py3k', 'numpy.core.numerictypes', 'numpy.core.numeric', 'numpy.core.fromnumeric', 'numpy.core._methods', 'numpy.core.arrayprint', 'numpy.core.defchararray', 'numpy.core.records', 'numpy.core.memmap', 'numpy.core.function_base', 'numpy.core.machar', 'numpy.core.getlimits', 'numpy.core.shape_base', 'numpy.core.einsumfunc', 'numpy.testing', 'unittest', 'unittest.result', 'unittest.util', 'unittest.case', 'unittest.suite', 'unittest.loader', 'unittest.main', 'unittest.runner', 'unittest.signals', 'numpy.testing.decorators', 'numpy.testing.nose_tools', 'numpy.testing.nose_tools.decorators', 'numpy.testing.nose_tools.utils', 'numpy.lib.utils', 'numpy.testing.nosetester', 'numpy.testing.nose_tools.nosetester', 'numpy.testing.utils', 'numpy.lib.ufunclike', 'numpy.lib.index_tricks', 'numpy.lib.function_base', 'numpy.lib.twodim_base', 'numpy.matrixlib', 'numpy.matrixlib.defmatrix', 'numpy.lib.stride_tricks', 'numpy.lib.mixins', 'numpy.lib.nanfunctions', 'numpy.lib.shape_base', 'numpy.lib.scimath', 'numpy.lib.polynomial', 'numpy.linalg', 'numpy.linalg.info', 'numpy.linalg.linalg', 'numpy.linalg.lapack_lite', 'numpy.linalg._umath_linalg', 'numpy.lib.arraysetops', 'numpy.lib.npyio', 'numpy.lib.format', 'numpy.lib._datasource', 'numpy.lib._iotools', 'numpy.lib.financial', 'numpy.lib.arrayterator', 'numpy.lib.arraypad', 'numpy.lib._version', 'numpy._distributor_init', 'numpy.fft', 'numpy.fft.info', 'numpy.fft.fftpack', 'numpy.fft.fftpack_lite', 'numpy.fft.helper', 'numpy.polynomial', 'numpy.polynomial.polynomial', 'numpy.polynomial.polyutils', 'numpy.polynomial._polybase', 'numpy.polynomial.chebyshev', 'numpy.polynomial.legendre', 'numpy.polynomial.hermite', 'numpy.polynomial.hermite_e', 'numpy.polynomial.laguerre', 'numpy.random', 'numpy.random.info', 'mtrand', 'numpy.random.mtrand', 'numpy.ctypeslib', 'numpy.ma', 'numpy.ma.core', 'numpy.ma.extras', 'scipy._distributor_init', 'scipy.__config__', 'scipy.version', 'scipy._lib', 'scipy._lib._testutils', 'scipy._lib._version', 'scipy._lib.six', 'scipy._lib._ccallback', 'scipy._lib._ccallback_c', 'scipy.stats', 'scipy.stats.stats', 'scipy.special', 'scipy.special.sf_error', '_cython_0_28_2', 'scipy.special._ufuncs', 'scipy.special._ufuncs_cxx', 'scipy.special.basic', 'scipy.special.specfun', 'scipy.special.orthogonal', 'scipy.linalg', 'scipy.linalg.linalg_version', 'scipy.linalg.misc', 'scipy.linalg.blas', 'scipy.linalg._fblas', 'scipy.linalg.lapack', 'scipy.linalg._flapack', 'scipy._lib._util', 'scipy.linalg.basic', 'scipy.linalg.flinalg', 'scipy.linalg._flinalg', 'scipy.linalg.decomp', 'scipy.linalg.decomp_svd', 'scipy.linalg._solve_toeplitz', 'scipy.linalg.decomp_lu', 'scipy.linalg._decomp_ldl', 'scipy.linalg.decomp_cholesky', 'scipy.linalg.decomp_qr', 'scipy.linalg._decomp_qz', 'scipy.linalg.decomp_schur', 'scipy.linalg._decomp_polar', 'scipy.linalg.matfuncs', 'scipy.linalg.special_matrices', 'scipy.linalg._expm_frechet', 'scipy.linalg._matfuncs_sqrtm', 'scipy.linalg._solvers', 'scipy.linalg._procrustes', 'scipy.linalg._decomp_update', 'scipy.linalg.cython_blas', 'scipy.linalg.cython_lapack', 'scipy.linalg._sketches', 'numpy.dual', 'scipy.special._comb', 'scipy.special._logsumexp', 'scipy.special.spfun_stats', 'scipy.special._ellip_harm', 'scipy.special._ellip_harm_2', 'scipy.special.lambertw', 'scipy.special._spherical_bessel', 'scipy.stats.distributions', 'scipy.stats._distn_infrastructure', 'scipy.misc', 'scipy.misc.doccer', 'scipy.misc.common', 'scipy.interpolate', 'scipy.interpolate.interpolate', 'scipy.interpolate.fitpack', 'scipy.interpolate._fitpack_impl', 'scipy.interpolate._fitpack', 'scipy.interpolate.dfitpack', 'scipy.interpolate._bsplines', 'scipy.interpolate._bspl', 'scipy.interpolate.polyint', 'scipy.interpolate._ppoly', 'scipy.interpolate.fitpack2', 'scipy.interpolate.interpnd', 'scipy.spatial', 'scipy.spatial.kdtree', 'scipy.sparse', 'scipy.sparse.base', 'scipy._lib._numpy_compat', 'scipy.sparse.sputils', 'scipy.sparse.csr', 'scipy.sparse._sparsetools', 'scipy.sparse.compressed', 'scipy.sparse.data', 'scipy.sparse.dia', 'scipy.sparse.csc', 'scipy.sparse.lil', 'scipy.sparse._csparsetools', 'scipy.sparse.dok', 'scipy.sparse.coo', 'scipy.sparse.bsr', 'scipy.sparse.construct', 'scipy.sparse.extract', 'scipy.sparse._matrix_io', 'scipy.sparse.csgraph', 'scipy.sparse.csgraph._laplacian', 'scipy.sparse.csgraph._shortest_path', 'scipy.sparse.csgraph._validation', 'scipy.sparse.csgraph._tools', 'scipy.sparse.csgraph._traversal', 'scipy.sparse.csgraph._min_spanning_tree', 'scipy.sparse.csgraph._reordering', 'scipy.spatial.ckdtree', 'scipy.spatial.qhull', 'scipy._lib.messagestream', 'scipy.spatial._spherical_voronoi', 'numpy.matlib', 'scipy.spatial._voronoi', 'scipy.spatial.distance', 'scipy.spatial._distance_wrap', 'scipy.spatial._hausdorff', 'scipy.spatial._plotutils', 'scipy._lib.decorator', 'scipy.spatial._procrustes', 'scipy.interpolate.rbf', 'scipy.interpolate._cubic', 'scipy.interpolate.ndgriddata', 'scipy.interpolate._pade', 'scipy.stats._distr_params', 'scipy.optimize', 'scipy.optimize.optimize', 'scipy.optimize.linesearch', 'scipy.optimize.minpack2', 'scipy.optimize._minimize', 'scipy.sparse.linalg', 'scipy.sparse.linalg.isolve', 'scipy.sparse.linalg.isolve.iterative', 'scipy.sparse.linalg.isolve._iterative', 'scipy.sparse.linalg.interface', 'scipy.sparse.linalg.isolve.utils', 'scipy._lib._threadsafety', 'scipy.sparse.linalg.isolve.minres', 'scipy.sparse.linalg.isolve.lgmres', 'scipy.sparse.linalg.isolve._gcrotmk', 'scipy.sparse.linalg.isolve.lsqr', 'scipy.sparse.linalg.isolve.lsmr', 'scipy.sparse.linalg.dsolve', 'scipy.sparse.linalg.dsolve.linsolve', 'scipy.sparse.linalg.dsolve._superlu', 'scipy.sparse.linalg.dsolve._add_newdocs', 'scipy.sparse.linalg.eigen', 'scipy.sparse.linalg.eigen.arpack', 'scipy.sparse.linalg.eigen.arpack.arpack', 'scipy.sparse.linalg.eigen.arpack._arpack', 'scipy.sparse.linalg.eigen.lobpcg', 'scipy.sparse.linalg.eigen.lobpcg.lobpcg', 'scipy.sparse.linalg.matfuncs', 'scipy.sparse.linalg._onenormest', 'scipy.sparse.linalg._norm', 'scipy.sparse.linalg._expm_multiply', 'scipy.optimize._trustregion_dogleg', 'scipy.optimize._trustregion', 'scipy.optimize._trustregion_ncg', 'scipy.optimize._trustregion_krylov', 'scipy.optimize._trlib', 'scipy.optimize._trlib._trlib', 'scipy.optimize._trustregion_exact', 'scipy.optimize._trustregion_constr', 'scipy.optimize._trustregion_constr.minimize_trustregion_constr', 'scipy.optimize._differentiable_functions', 'scipy.optimize._numdiff', 'scipy.optimize._group_columns', 'scipy.optimize._hessian_update_strategy', 'scipy.optimize._constraints', 'scipy.optimize._trustregion_constr.equality_constrained_sqp', 'scipy.optimize._trustregion_constr.projections', 'scipy.optimize._trustregion_constr.qp_subproblem', 'scipy.optimize._trustregion_constr.canonical_constraint', 'scipy.optimize._trustregion_constr.tr_interior_point', 'scipy.optimize._trustregion_constr.report', 'scipy.optimize.lbfgsb', 'scipy.optimize._lbfgsb', 'scipy.optimize.tnc', 'scipy.optimize.moduleTNC', 'scipy.optimize.cobyla', 'scipy.optimize._cobyla', 'scipy.optimize.slsqp', 'scipy.optimize._slsqp', 'scipy.optimize._root', 'scipy.optimize.minpack', 'scipy.optimize._minpack', 'scipy.optimize._lsq', 'scipy.optimize._lsq.least_squares', 'scipy.optimize._lsq.trf', 'scipy.optimize._lsq.common', 'scipy.optimize._lsq.dogbox', 'scipy.optimize._lsq.lsq_linear', 'scipy.optimize._lsq.trf_linear', 'scipy.optimize._lsq.givens_elimination', 'scipy.optimize._lsq.bvls', 'scipy.optimize._spectral', 'scipy.optimize.nonlin', 'scipy.optimize.zeros', 'scipy.optimize._zeros', 'scipy.optimize.nnls', 'scipy.optimize._nnls', 'scipy.optimize._basinhopping', 'scipy.optimize._linprog', 'scipy.optimize._linprog_ip', 'scipy.optimize._remove_redundancy', 'scipy.optimize._hungarian', 'scipy.optimize._differentialevolution', 'scipy.integrate', 'scipy.integrate.quadrature', 'scipy.integrate.odepack', 'scipy.integrate._odepack', 'scipy.integrate.quadpack', 'scipy.integrate._quadpack', 'scipy.integrate._ode', 'scipy.integrate.vode', 'scipy.integrate._dop', 'scipy.integrate.lsoda', 'scipy.integrate._bvp', 'scipy.integrate._ivp', 'scipy.integrate._ivp.ivp', 'scipy.integrate._ivp.bdf', 'scipy.integrate._ivp.common', 'scipy.integrate._ivp.base', 'scipy.integrate._ivp.radau', 'scipy.integrate._ivp.rk', 'scipy.integrate._ivp.lsoda', 'scipy.stats._constants', 'scipy.stats._continuous_distns', 'scipy.stats._stats', 'scipy.stats._tukeylambda_stats', 'scipy.stats._discrete_distns', 'scipy.stats.mstats_basic', 'scipy.stats._stats_mstats_common', 'scipy.stats.morestats', 'scipy.stats.statlib', 'scipy.stats.contingency', 'scipy.stats._binned_statistic', 'scipy.stats.kde', 'scipy.stats.mvn', 'scipy.stats.mstats', 'scipy.stats.mstats_extras', 'scipy.stats._multivariate', 'nltk.metrics.confusionmatrix', 'nltk.metrics.distance', 'nltk.metrics.paice', 'nltk.metrics.segmentation', 'nltk.metrics.agreement', 'nltk.metrics.association', 'nltk.metrics.spearman', 'nltk.metrics.aline', 'nltk.decorators', 'nltk.featstruct', 'nltk.sem', 'nltk.sem.util', 'nltk.sem.evaluate', 'nltk.sem.logic', 'nltk.sem.skolemize', 'nltk.sem.lfg', 'nltk.sem.relextract', 'nltk.sem.boxer', 'nltk.sem.drt', 'tkinter', '_tkinter', 'tkinter.constants', 'six.moves.tkinter', 'tkinter.font', 'six.moves.tkinter_font', 'nltk.grammar', 'nltk.text', 'nltk.tree', 'nltk.jsontags', 'nltk.chunk', 'nltk.data', 'zipfile', 'gzip', 'nltk.chunk.api', 'nltk.parse', 'nltk.parse.api', 'nltk.parse.chart', 'nltk.parse.featurechart', 'nltk.parse.earleychart', 'nltk.parse.pchart', 'nltk.parse.recursivedescent', 'nltk.parse.shiftreduce', 'nltk.parse.util', 'nltk.parse.viterbi', 'nltk.parse.dependencygraph', 'nltk.parse.projectivedependencyparser', 'nltk.parse.nonprojectivedependencyparser', 'nltk.parse.malt', 'nltk.parse.evaluate', 'nltk.parse.transitionparser', 'sklearn', 'sklearn.__check_build', 'sklearn.__check_build._check_build', 'sklearn.base', 'sklearn.externals', 'sklearn.externals.six', 'sklearn.externals.six.moves', 'sklearn.externals.six.moves.urllib_parse', 'sklearn.externals.six.moves.urllib.parse', 'sklearn.externals.six.moves.urllib_error', 'sklearn.externals.six.moves.urllib.error', 'sklearn.externals.six.moves.urllib_request', 'sklearn.externals.six.moves.urllib.request', 'sklearn.externals.six.moves.urllib_response', 'sklearn.externals.six.moves.urllib.response', 'sklearn.externals.six.moves.urllib_robotparser', 'sklearn.externals.six.moves.urllib.robotparser', 'sklearn.externals.six.moves.urllib', 'sklearn.utils', 'sklearn.utils.murmurhash', 'sklearn.utils.validation', 'sklearn.utils.fixes', 'sklearn.exceptions', 'sklearn.externals.joblib', 'sklearn.externals.joblib.memory', 'sklearn.externals.joblib.hashing', 'sklearn.externals.joblib._compat', 'sklearn.externals.joblib.func_inspect', 'sklearn.externals.joblib.logger', 'sklearn.externals.joblib.disk', 'sklearn.externals.joblib._memory_helpers', 'sklearn.externals.joblib.numpy_pickle', 'sklearn.externals.joblib.numpy_pickle_utils', 'sklearn.externals.joblib.numpy_pickle_compat', 'sklearn.externals.joblib.backports', 'distutils', '_virtualenv_distutils', 'distutils.dist', 'distutils.errors', 'distutils.fancy_getopt', 'distutils.util', 'distutils.dep_util', 'distutils.spawn', 'distutils.debug', 'distutils.log', 'distutils.sysconfig', 'distutils.version', 'sklearn.externals.joblib.parallel', 'sklearn.externals.joblib._multiprocessing_helpers', 'multiprocessing.synchronize', 'sklearn.externals.joblib.format_stack', 'sklearn.externals.joblib.my_exceptions', 'sklearn.externals.joblib._parallel_backends', 'sklearn.externals.joblib.pool', 'mmap', 'multiprocessing.pool', 'sklearn.utils.class_weight', 'sklearn.utils.deprecation', 'sklearn.datasets', 'sklearn.datasets.base', 'csv', '_csv', 'sklearn.datasets.covtype', 'sklearn.datasets.kddcup99', 'sklearn.datasets.mlcomp', 'sklearn.datasets.lfw', 'sklearn.datasets.twenty_newsgroups', 'tarfile', 'sklearn.feature_extraction', 'sklearn.feature_extraction.dict_vectorizer', 'sklearn.feature_extraction.hashing', 'sklearn.feature_extraction._hashing', 'sklearn.feature_extraction.image', 'sklearn.feature_extraction.text', 'sklearn.preprocessing', 'sklearn.preprocessing._function_transformer', 'sklearn.preprocessing.data', 'sklearn.utils.extmath', 'sklearn.utils._logistic_sigmoid', '_cython_0_27_1', 'sklearn.utils.sparsefuncs_fast', 'sklearn.utils.sparsefuncs', 'sklearn.preprocessing.label', 'sklearn.utils.multiclass', 'sklearn.preprocessing.imputation', 'sklearn.feature_extraction.stop_words', 'sklearn.datasets.mldata', 'scipy.io', 'scipy.io.matlab', 'scipy.io.matlab.mio', 'scipy.io.matlab.miobase', 'scipy.io.matlab.byteordercodes', 'scipy.io.matlab.mio4', 'scipy.io.matlab.mio_utils', 'scipy.io.matlab.mio5', 'scipy.io.matlab.mio5_utils', 'scipy.io.matlab.streams', 'scipy.io.matlab.mio5_params', 'scipy.io.netcdf', 'scipy.io._fortran', 'scipy.io.mmio', 'scipy.io.idl', 'scipy.io.harwell_boeing', 'scipy.io.harwell_boeing.hb', 'scipy.io.harwell_boeing._fortran_format_parser', 'sklearn.datasets.samples_generator', 'sklearn.utils.random', 'sklearn.utils._random', 'sklearn.datasets.svmlight_format', 'sklearn.datasets._svmlight_format', 'sklearn.datasets.olivetti_faces', 'sklearn.datasets.species_distributions', 'sklearn.datasets.california_housing', 'sklearn.datasets.rcv1', 'sklearn.svm', 'sklearn.svm.classes', 'sklearn.svm.base', 'sklearn.svm.libsvm', 'sklearn.svm.liblinear', 'sklearn.svm.libsvm_sparse', 'sklearn.linear_model', 'sklearn.linear_model.base', 'sklearn.utils.seq_dataset', 'sklearn.linear_model.bayes', 'sklearn.linear_model.least_angle', 'sklearn.utils.arrayfuncs', 'sklearn.model_selection', 'sklearn.model_selection._split', 'sklearn.model_selection._validation', 'sklearn.utils.metaestimators', 'sklearn.metrics', 'sklearn.metrics.ranking', 'sklearn.metrics.base', 'sklearn.metrics.classification', 'sklearn.metrics.cluster', 'sklearn.metrics.cluster.supervised', 'sklearn.metrics.cluster.expected_mutual_info_fast', 'sklearn.utils.lgamma', 'sklearn.metrics.cluster.unsupervised', 'sklearn.metrics.pairwise', 'sklearn.metrics.pairwise_fast', 'sklearn.metrics.cluster.bicluster', 'sklearn.utils.linear_assignment_', 'sklearn.metrics.regression', 'sklearn.metrics.scorer', 'sklearn.model_selection._search', 'sklearn.linear_model.coordinate_descent', 'sklearn.linear_model.cd_fast', 'sklearn.linear_model.huber', 'sklearn.linear_model.sgd_fast', 'sklearn.utils.weight_vector', 'sklearn.linear_model.stochastic_gradient', 'sklearn.linear_model.ridge', 'sklearn.linear_model.sag', 'sklearn.linear_model.sag_fast', 'sklearn.linear_model.logistic', 'sklearn.utils.optimize', 'sklearn.linear_model.omp', 'sklearn.linear_model.passive_aggressive', 'sklearn.linear_model.perceptron', 'sklearn.linear_model.randomized_l1', 'sklearn.feature_selection', 'sklearn.feature_selection.univariate_selection', 'sklearn.feature_selection.base', 'sklearn.feature_selection.variance_threshold', 'sklearn.feature_selection.rfe', 'sklearn.feature_selection.from_model', 'sklearn.feature_selection.mutual_info_', 'sklearn.neighbors', 'sklearn.neighbors.ball_tree', 'sklearn.neighbors.dist_metrics', 'sklearn.neighbors.typedefs', 'sklearn.neighbors.kd_tree', 'sklearn.neighbors.graph', 'sklearn.neighbors.base', 'sklearn.neighbors.unsupervised', 'sklearn.neighbors.classification', 'sklearn.neighbors.regression', 'sklearn.neighbors.nearest_centroid', 'sklearn.neighbors.kde', 'sklearn.neighbors.approximate', 'sklearn.random_projection', 'sklearn.neighbors.lof', 'sklearn.linear_model.ransac', 'sklearn.linear_model.theil_sen', 'sklearn.svm.bounds', 'nltk.parse.bllip', 'nltk.parse.corenlp', 'nltk.tokenize', 'nltk.tokenize.casual', 'nltk.tokenize.mwe', 'nltk.tokenize.api', 'nltk.tokenize.util', 'xml.sax', 'xml.sax.xmlreader', 'xml.sax.handler', 'xml.sax._exceptions', 'xml.sax.saxutils', 'nltk.tokenize.punkt', 'nltk.tokenize.regexp', 'nltk.tokenize.repp', 'nltk.tokenize.sexpr', 'nltk.tokenize.simple', 'nltk.tokenize.texttiling', 'nltk.tokenize.toktok', 'nltk.tokenize.treebank', 'nltk.tokenize.stanford_segmenter', 'nltk.chunk.util', 'nltk.tag', 'nltk.tag.api', 'nltk.tag.util', 'nltk.tag.sequential', 'nltk.classify', 'nltk.classify.api', 'nltk.classify.megam', 'nltk.classify.weka', 'nltk.classify.naivebayes', 'nltk.classify.positivenaivebayes', 'nltk.classify.decisiontree', 'nltk.classify.rte_classify', 'nltk.classify.util', 'nltk.classify.scikitlearn', 'nltk.classify.maxent', 'nltk.classify.tadm', 'nltk.classify.senna', 'nltk.classify.textcat', 'regex', '_regex_core', '_regex', 'nltk.tag.brill', 'nltk.tbl', 'nltk.tbl.template', 'nltk.tbl.feature', 'nltk.tbl.rule', 'nltk.tbl.erroranalysis', 'nltk.tag.brill_trainer', 'nltk.tag.tnt', 'nltk.tag.hunpos', 'nltk.tag.stanford', 'nltk.tag.hmm', 'nltk.tag.senna', 'nltk.tag.mapping', 'nltk.tag.crf', 'nltk.tag.perceptron', 'nltk.chunk.regexp', 'nltk.inference', 'nltk.inference.api', 'nltk.inference.mace', 'nltk.inference.prover9', 'nltk.inference.resolution', 'nltk.inference.tableau', 'nltk.inference.discourse', 'nltk.sem.glue', 'nltk.sem.linearlogic', 'nltk.translate', 'nltk.translate.api', 'nltk.translate.ibm_model', 'nltk.translate.ibm1', 'nltk.translate.ibm2', 'nltk.translate.ibm3', 'nltk.translate.ibm4', 'nltk.translate.ibm5', 'nltk.translate.bleu_score', 'nltk.translate.ribes_score', 'nltk.translate.metrics', 'nltk.translate.stack_decoder', 'nltk.stem', 'nltk.stem.api', 'nltk.stem.regexp', 'nltk.stem.lancaster', 'nltk.stem.isri', 'nltk.stem.porter', 'nltk.stem.snowball', 'nltk.corpus', 'nltk.corpus.util', 'nltk.corpus.reader', 'nltk.corpus.reader.plaintext', 'nltk.corpus.reader.util', 'nltk.corpus.reader.api', 'nltk.corpus.reader.tagged', 'nltk.corpus.reader.timit', 'nltk.corpus.reader.cmudict', 'nltk.corpus.reader.conll', 'nltk.corpus.reader.chunked', 'nltk.corpus.reader.bracket_parse', 'nltk.corpus.reader.wordlist', 'nltk.corpus.reader.xmldocs', 'nltk.corpus.reader.ppattach', 'nltk.corpus.reader.senseval', 'nltk.corpus.reader.ieer', 'nltk.corpus.reader.sinica_treebank', 'nltk.corpus.reader.indian', 'nltk.corpus.reader.toolbox', 'nltk.toolbox', 'nltk.corpus.reader.ycoe', 'nltk.corpus.reader.rte', 'nltk.corpus.reader.string_category', 'nltk.corpus.reader.propbank', 'nltk.corpus.reader.verbnet', 'nltk.corpus.reader.bnc', 'nltk.corpus.reader.nps_chat', 'nltk.corpus.reader.wordnet', 'nltk.corpus.reader.switchboard', 'nltk.corpus.reader.dependency', 'nltk.corpus.reader.nombank', 'nltk.corpus.reader.ipipan', 'nltk.corpus.reader.pl196x', 'nltk.corpus.reader.knbc', 'nltk.corpus.reader.chasen', 'nltk.corpus.reader.childes', 'nltk.corpus.reader.aligned', 'nltk.corpus.reader.lin', 'nltk.corpus.reader.semcor', 'nltk.corpus.reader.framenet', 'nltk.corpus.reader.udhr', 'nltk.corpus.reader.sentiwordnet', 'nltk.corpus.reader.twitter', 'nltk.corpus.reader.nkjp', 'nltk.corpus.reader.crubadan', 'nltk.corpus.reader.mte', 'nltk.corpus.reader.reviews', 'nltk.corpus.reader.opinion_lexicon', 'nltk.corpus.reader.pros_cons', 'nltk.corpus.reader.categorized_sents', 'nltk.corpus.reader.comparative_sents', 'nltk.corpus.reader.panlex_lite', 'nltk.stem.util', 'nltk.stem.wordnet', 'nltk.stem.rslp', 'nltk.lazyimport', 'nltk.cluster', 'nltk.cluster.util', 'nltk.cluster.api', 'nltk.cluster.kmeans', 'nltk.cluster.gaac', 'nltk.cluster.em', 'nltk.downloader', 'tkinter.messagebox', 'tkinter.commondialog', 'six.moves.tkinter_messagebox', 'nltk.draw', 'nltk.draw.cfg', 'nltk.draw.tree', 'nltk.draw.util', 'tkinter.filedialog', 'tkinter.dialog', 'six.moves.tkinter_tkfiledialog', 'nltk.draw.table', 'nltk.draw.dispersion', 'six.moves.urllib.error', 'nltk.ccg', 'nltk.ccg.combinator', 'nltk.ccg.api', 'nltk.ccg.chart', 'nltk.ccg.lexicon', 'nltk.ccg.logic', 'nltk.help', 'nltk.misc', 'nltk.misc.chomsky', 'nltk.misc.wordfinder', 'nltk.misc.minimalset', 'nltk.misc.babelfish', 'nltk.wsd', 'nltk.treetransforms', 'deeppavlov.core', 'deeppavlov.core.common', 'deeppavlov.core.common.prints', 'deeppavlov.core.models', 'deeppavlov.core.models.component', 'deeppavlov.core.common.registry', 'deeppavlov.core.common.log', 'logging.config', 'socketserver', 'deeppavlov.core.common.errors', 'encodings.idna', 'stringprep', 'src', 'src.tools', 'matplotlib', 'matplotlib.cbook', 'matplotlib.cbook.deprecation', 'matplotlib.cbook._backports', 'matplotlib.compat', 'matplotlib.compat.subprocess', 'matplotlib.rcsetup', 'matplotlib.testing', 'matplotlib.fontconfig_pattern', 'pyparsing', 'matplotlib.colors', 'matplotlib._color_data', 'cycler', 'matplotlib._version']\n"
     ]
    },
    {
     "name": "stderr",
     "output_type": "stream",
     "text": [
      "2018-08-27 19:17:16.24 DEBUG in 'matplotlib'['__init__'] at line 409: CACHEDIR=/home/clement/.cache/matplotlib\n",
      "2018-08-27 19:17:16.25 DEBUG in 'matplotlib.font_manager'['font_manager'] at line 1468: Using fontManager instance from /home/clement/.cache/matplotlib/fontList.json\n",
      "2018-08-27 19:17:16.76 DEBUG in 'matplotlib.backends'['__init__'] at line 90: backend module://ipykernel.pylab.backend_inline version unknown\n",
      "2018-08-27 19:17:16.779 INFO in 'summarizer.preprocessing.cleaner'['textcleaner'] at line 37: 'pattern' package not found; tag filters are not available for English\n",
      "2018-08-27 19:17:16.833 DEBUG in 'matplotlib.backends'['__init__'] at line 90: backend module://ipykernel.pylab.backend_inline version unknown\n"
     ]
    }
   ],
   "source": [
    "from src.fewshot_ner_viz_component.data_processing import *\n",
    "from src.fewshot_ner_viz_component.utils import *\n",
    "from src.fewshot_ner_viz_component.fewshot_ner_binary_classifier import *\n",
    "from src.fewshot_ner_viz_component.ne_sim_visualizer import *"
   ]
  },
  {
   "cell_type": "code",
   "execution_count": 3,
   "metadata": {},
   "outputs": [
    {
     "name": "stderr",
     "output_type": "stream",
     "text": [
      "2018-08-27 19:17:16.847 INFO in 'tensorflow'['tf_logging'] at line 159: Using /tmp/tfhub_modules to cache modules.\n",
      "2018-08-27 19:17:17.131 DEBUG in 'tensorflow'['tf_logging'] at line 100: Initialize variable module/aggregation/scaling:0 from checkpoint b'/tmp/tfhub_modules/0eadd30f548cbfd3065119697ded6bb381668285/variables/variables' with aggregation/scaling\n",
      "2018-08-27 19:17:17.134 DEBUG in 'tensorflow'['tf_logging'] at line 100: Initialize variable module/aggregation/weights:0 from checkpoint b'/tmp/tfhub_modules/0eadd30f548cbfd3065119697ded6bb381668285/variables/variables' with aggregation/weights\n",
      "2018-08-27 19:17:17.137 DEBUG in 'tensorflow'['tf_logging'] at line 100: Initialize variable module/bilm/CNN/W_cnn_0:0 from checkpoint b'/tmp/tfhub_modules/0eadd30f548cbfd3065119697ded6bb381668285/variables/variables' with bilm/CNN/W_cnn_0\n",
      "2018-08-27 19:17:17.139 DEBUG in 'tensorflow'['tf_logging'] at line 100: Initialize variable module/bilm/CNN/W_cnn_1:0 from checkpoint b'/tmp/tfhub_modules/0eadd30f548cbfd3065119697ded6bb381668285/variables/variables' with bilm/CNN/W_cnn_1\n",
      "2018-08-27 19:17:17.142 DEBUG in 'tensorflow'['tf_logging'] at line 100: Initialize variable module/bilm/CNN/W_cnn_2:0 from checkpoint b'/tmp/tfhub_modules/0eadd30f548cbfd3065119697ded6bb381668285/variables/variables' with bilm/CNN/W_cnn_2\n",
      "2018-08-27 19:17:17.145 DEBUG in 'tensorflow'['tf_logging'] at line 100: Initialize variable module/bilm/CNN/W_cnn_3:0 from checkpoint b'/tmp/tfhub_modules/0eadd30f548cbfd3065119697ded6bb381668285/variables/variables' with bilm/CNN/W_cnn_3\n",
      "2018-08-27 19:17:17.148 DEBUG in 'tensorflow'['tf_logging'] at line 100: Initialize variable module/bilm/CNN/W_cnn_4:0 from checkpoint b'/tmp/tfhub_modules/0eadd30f548cbfd3065119697ded6bb381668285/variables/variables' with bilm/CNN/W_cnn_4\n",
      "2018-08-27 19:17:17.151 DEBUG in 'tensorflow'['tf_logging'] at line 100: Initialize variable module/bilm/CNN/W_cnn_5:0 from checkpoint b'/tmp/tfhub_modules/0eadd30f548cbfd3065119697ded6bb381668285/variables/variables' with bilm/CNN/W_cnn_5\n",
      "2018-08-27 19:17:17.153 DEBUG in 'tensorflow'['tf_logging'] at line 100: Initialize variable module/bilm/CNN/W_cnn_6:0 from checkpoint b'/tmp/tfhub_modules/0eadd30f548cbfd3065119697ded6bb381668285/variables/variables' with bilm/CNN/W_cnn_6\n",
      "2018-08-27 19:17:17.155 DEBUG in 'tensorflow'['tf_logging'] at line 100: Initialize variable module/bilm/CNN/b_cnn_0:0 from checkpoint b'/tmp/tfhub_modules/0eadd30f548cbfd3065119697ded6bb381668285/variables/variables' with bilm/CNN/b_cnn_0\n",
      "2018-08-27 19:17:17.158 DEBUG in 'tensorflow'['tf_logging'] at line 100: Initialize variable module/bilm/CNN/b_cnn_1:0 from checkpoint b'/tmp/tfhub_modules/0eadd30f548cbfd3065119697ded6bb381668285/variables/variables' with bilm/CNN/b_cnn_1\n",
      "2018-08-27 19:17:17.160 DEBUG in 'tensorflow'['tf_logging'] at line 100: Initialize variable module/bilm/CNN/b_cnn_2:0 from checkpoint b'/tmp/tfhub_modules/0eadd30f548cbfd3065119697ded6bb381668285/variables/variables' with bilm/CNN/b_cnn_2\n",
      "2018-08-27 19:17:17.163 DEBUG in 'tensorflow'['tf_logging'] at line 100: Initialize variable module/bilm/CNN/b_cnn_3:0 from checkpoint b'/tmp/tfhub_modules/0eadd30f548cbfd3065119697ded6bb381668285/variables/variables' with bilm/CNN/b_cnn_3\n",
      "2018-08-27 19:17:17.165 DEBUG in 'tensorflow'['tf_logging'] at line 100: Initialize variable module/bilm/CNN/b_cnn_4:0 from checkpoint b'/tmp/tfhub_modules/0eadd30f548cbfd3065119697ded6bb381668285/variables/variables' with bilm/CNN/b_cnn_4\n",
      "2018-08-27 19:17:17.168 DEBUG in 'tensorflow'['tf_logging'] at line 100: Initialize variable module/bilm/CNN/b_cnn_5:0 from checkpoint b'/tmp/tfhub_modules/0eadd30f548cbfd3065119697ded6bb381668285/variables/variables' with bilm/CNN/b_cnn_5\n",
      "2018-08-27 19:17:17.170 DEBUG in 'tensorflow'['tf_logging'] at line 100: Initialize variable module/bilm/CNN/b_cnn_6:0 from checkpoint b'/tmp/tfhub_modules/0eadd30f548cbfd3065119697ded6bb381668285/variables/variables' with bilm/CNN/b_cnn_6\n",
      "2018-08-27 19:17:17.172 DEBUG in 'tensorflow'['tf_logging'] at line 100: Initialize variable module/bilm/CNN_high_0/W_carry:0 from checkpoint b'/tmp/tfhub_modules/0eadd30f548cbfd3065119697ded6bb381668285/variables/variables' with bilm/CNN_high_0/W_carry\n",
      "2018-08-27 19:17:17.175 DEBUG in 'tensorflow'['tf_logging'] at line 100: Initialize variable module/bilm/CNN_high_0/W_transform:0 from checkpoint b'/tmp/tfhub_modules/0eadd30f548cbfd3065119697ded6bb381668285/variables/variables' with bilm/CNN_high_0/W_transform\n",
      "2018-08-27 19:17:17.178 DEBUG in 'tensorflow'['tf_logging'] at line 100: Initialize variable module/bilm/CNN_high_0/b_carry:0 from checkpoint b'/tmp/tfhub_modules/0eadd30f548cbfd3065119697ded6bb381668285/variables/variables' with bilm/CNN_high_0/b_carry\n",
      "2018-08-27 19:17:17.182 DEBUG in 'tensorflow'['tf_logging'] at line 100: Initialize variable module/bilm/CNN_high_0/b_transform:0 from checkpoint b'/tmp/tfhub_modules/0eadd30f548cbfd3065119697ded6bb381668285/variables/variables' with bilm/CNN_high_0/b_transform\n",
      "2018-08-27 19:17:17.185 DEBUG in 'tensorflow'['tf_logging'] at line 100: Initialize variable module/bilm/CNN_high_1/W_carry:0 from checkpoint b'/tmp/tfhub_modules/0eadd30f548cbfd3065119697ded6bb381668285/variables/variables' with bilm/CNN_high_1/W_carry\n",
      "2018-08-27 19:17:17.187 DEBUG in 'tensorflow'['tf_logging'] at line 100: Initialize variable module/bilm/CNN_high_1/W_transform:0 from checkpoint b'/tmp/tfhub_modules/0eadd30f548cbfd3065119697ded6bb381668285/variables/variables' with bilm/CNN_high_1/W_transform\n",
      "2018-08-27 19:17:17.189 DEBUG in 'tensorflow'['tf_logging'] at line 100: Initialize variable module/bilm/CNN_high_1/b_carry:0 from checkpoint b'/tmp/tfhub_modules/0eadd30f548cbfd3065119697ded6bb381668285/variables/variables' with bilm/CNN_high_1/b_carry\n",
      "2018-08-27 19:17:17.192 DEBUG in 'tensorflow'['tf_logging'] at line 100: Initialize variable module/bilm/CNN_high_1/b_transform:0 from checkpoint b'/tmp/tfhub_modules/0eadd30f548cbfd3065119697ded6bb381668285/variables/variables' with bilm/CNN_high_1/b_transform\n",
      "2018-08-27 19:17:17.195 DEBUG in 'tensorflow'['tf_logging'] at line 100: Initialize variable module/bilm/CNN_proj/W_proj:0 from checkpoint b'/tmp/tfhub_modules/0eadd30f548cbfd3065119697ded6bb381668285/variables/variables' with bilm/CNN_proj/W_proj\n",
      "2018-08-27 19:17:17.198 DEBUG in 'tensorflow'['tf_logging'] at line 100: Initialize variable module/bilm/CNN_proj/b_proj:0 from checkpoint b'/tmp/tfhub_modules/0eadd30f548cbfd3065119697ded6bb381668285/variables/variables' with bilm/CNN_proj/b_proj\n",
      "2018-08-27 19:17:17.201 DEBUG in 'tensorflow'['tf_logging'] at line 100: Initialize variable module/bilm/RNN_0/RNN/MultiRNNCell/Cell0/rnn/lstm_cell/bias:0 from checkpoint b'/tmp/tfhub_modules/0eadd30f548cbfd3065119697ded6bb381668285/variables/variables' with bilm/RNN_0/RNN/MultiRNNCell/Cell0/rnn/lstm_cell/bias\n",
      "2018-08-27 19:17:17.203 DEBUG in 'tensorflow'['tf_logging'] at line 100: Initialize variable module/bilm/RNN_0/RNN/MultiRNNCell/Cell0/rnn/lstm_cell/kernel:0 from checkpoint b'/tmp/tfhub_modules/0eadd30f548cbfd3065119697ded6bb381668285/variables/variables' with bilm/RNN_0/RNN/MultiRNNCell/Cell0/rnn/lstm_cell/kernel\n",
      "2018-08-27 19:17:17.206 DEBUG in 'tensorflow'['tf_logging'] at line 100: Initialize variable module/bilm/RNN_0/RNN/MultiRNNCell/Cell0/rnn/lstm_cell/projection/kernel:0 from checkpoint b'/tmp/tfhub_modules/0eadd30f548cbfd3065119697ded6bb381668285/variables/variables' with bilm/RNN_0/RNN/MultiRNNCell/Cell0/rnn/lstm_cell/projection/kernel\n",
      "2018-08-27 19:17:17.210 DEBUG in 'tensorflow'['tf_logging'] at line 100: Initialize variable module/bilm/RNN_0/RNN/MultiRNNCell/Cell1/rnn/lstm_cell/bias:0 from checkpoint b'/tmp/tfhub_modules/0eadd30f548cbfd3065119697ded6bb381668285/variables/variables' with bilm/RNN_0/RNN/MultiRNNCell/Cell1/rnn/lstm_cell/bias\n",
      "2018-08-27 19:17:17.213 DEBUG in 'tensorflow'['tf_logging'] at line 100: Initialize variable module/bilm/RNN_0/RNN/MultiRNNCell/Cell1/rnn/lstm_cell/kernel:0 from checkpoint b'/tmp/tfhub_modules/0eadd30f548cbfd3065119697ded6bb381668285/variables/variables' with bilm/RNN_0/RNN/MultiRNNCell/Cell1/rnn/lstm_cell/kernel\n",
      "2018-08-27 19:17:17.217 DEBUG in 'tensorflow'['tf_logging'] at line 100: Initialize variable module/bilm/RNN_0/RNN/MultiRNNCell/Cell1/rnn/lstm_cell/projection/kernel:0 from checkpoint b'/tmp/tfhub_modules/0eadd30f548cbfd3065119697ded6bb381668285/variables/variables' with bilm/RNN_0/RNN/MultiRNNCell/Cell1/rnn/lstm_cell/projection/kernel\n"
     ]
    },
    {
     "name": "stderr",
     "output_type": "stream",
     "text": [
      "2018-08-27 19:17:17.219 DEBUG in 'tensorflow'['tf_logging'] at line 100: Initialize variable module/bilm/RNN_1/RNN/MultiRNNCell/Cell0/rnn/lstm_cell/bias:0 from checkpoint b'/tmp/tfhub_modules/0eadd30f548cbfd3065119697ded6bb381668285/variables/variables' with bilm/RNN_1/RNN/MultiRNNCell/Cell0/rnn/lstm_cell/bias\n",
      "2018-08-27 19:17:17.222 DEBUG in 'tensorflow'['tf_logging'] at line 100: Initialize variable module/bilm/RNN_1/RNN/MultiRNNCell/Cell0/rnn/lstm_cell/kernel:0 from checkpoint b'/tmp/tfhub_modules/0eadd30f548cbfd3065119697ded6bb381668285/variables/variables' with bilm/RNN_1/RNN/MultiRNNCell/Cell0/rnn/lstm_cell/kernel\n",
      "2018-08-27 19:17:17.225 DEBUG in 'tensorflow'['tf_logging'] at line 100: Initialize variable module/bilm/RNN_1/RNN/MultiRNNCell/Cell0/rnn/lstm_cell/projection/kernel:0 from checkpoint b'/tmp/tfhub_modules/0eadd30f548cbfd3065119697ded6bb381668285/variables/variables' with bilm/RNN_1/RNN/MultiRNNCell/Cell0/rnn/lstm_cell/projection/kernel\n",
      "2018-08-27 19:17:17.229 DEBUG in 'tensorflow'['tf_logging'] at line 100: Initialize variable module/bilm/RNN_1/RNN/MultiRNNCell/Cell1/rnn/lstm_cell/bias:0 from checkpoint b'/tmp/tfhub_modules/0eadd30f548cbfd3065119697ded6bb381668285/variables/variables' with bilm/RNN_1/RNN/MultiRNNCell/Cell1/rnn/lstm_cell/bias\n",
      "2018-08-27 19:17:17.231 DEBUG in 'tensorflow'['tf_logging'] at line 100: Initialize variable module/bilm/RNN_1/RNN/MultiRNNCell/Cell1/rnn/lstm_cell/kernel:0 from checkpoint b'/tmp/tfhub_modules/0eadd30f548cbfd3065119697ded6bb381668285/variables/variables' with bilm/RNN_1/RNN/MultiRNNCell/Cell1/rnn/lstm_cell/kernel\n",
      "2018-08-27 19:17:17.234 DEBUG in 'tensorflow'['tf_logging'] at line 100: Initialize variable module/bilm/RNN_1/RNN/MultiRNNCell/Cell1/rnn/lstm_cell/projection/kernel:0 from checkpoint b'/tmp/tfhub_modules/0eadd30f548cbfd3065119697ded6bb381668285/variables/variables' with bilm/RNN_1/RNN/MultiRNNCell/Cell1/rnn/lstm_cell/projection/kernel\n",
      "2018-08-27 19:17:17.236 DEBUG in 'tensorflow'['tf_logging'] at line 100: Initialize variable module/bilm/char_embed:0 from checkpoint b'/tmp/tfhub_modules/0eadd30f548cbfd3065119697ded6bb381668285/variables/variables' with bilm/char_embed\n",
      "2018-08-27 19:17:17.716 INFO in 'tensorflow'['tf_logging'] at line 115: Restoring parameters from ./tmp/elmo.ckpt\n"
     ]
    },
    {
     "name": "stdout",
     "output_type": "stream",
     "text": [
      "Restoring finetuned ELMo params from ./tmp/elmo.ckpt\n"
     ]
    },
    {
     "name": "stderr",
     "output_type": "stream",
     "text": [
      "2018-08-27 19:17:17.950 INFO in 'deeppavlov.models.embedders.glove_embedder'['glove_embedder'] at line 96: [loading embeddings from `/home/clement/DeepPavlov/download/embeddings/glove.6B/glove.6B.100d.txt`]\n",
      "2018-08-27 19:17:17.950 INFO in 'gensim.models.utils_any2vec'['utils_any2vec'] at line 170: loading projection weights from /home/clement/DeepPavlov/download/embeddings/glove.6B/glove.6B.100d.txt\n",
      "2018-08-27 19:17:17.951 DEBUG in 'smart_open.smart_open_lib'['smart_open_lib'] at line 176: {'kw': {}, 'mode': 'rb', 'uri': '/home/clement/DeepPavlov/download/embeddings/glove.6B/glove.6B.100d.txt'}\n",
      "2018-08-27 19:17:39.147 INFO in 'gensim.models.utils_any2vec'['utils_any2vec'] at line 232: loaded (400000, 100) matrix from /home/clement/DeepPavlov/download/embeddings/glove.6B/glove.6B.100d.txt\n",
      "2018-08-27 19:17:39.336 INFO in 'tensorflow'['tf_logging'] at line 115: Saver not created because there are no variables in the graph to restore\n"
     ]
    }
   ],
   "source": [
    "embedder = CompositeEmbedder(use_elmo=True, elmo_scale=1, use_cap_feat=True, use_glove=True, elmo_params={'trainable_cells': True, 'restore_path': \"./tmp/elmo.ckpt\"})"
   ]
  },
  {
   "cell_type": "code",
   "execution_count": 4,
   "metadata": {},
   "outputs": [],
   "source": [
    "# model = FewshotNerBinaryClassifier(embedder)"
   ]
  },
  {
   "cell_type": "code",
   "execution_count": 5,
   "metadata": {},
   "outputs": [],
   "source": [
    "def input_sentences(msg):\n",
    "    print('>> {}'.format(msg))\n",
    "    inp = ''\n",
    "    inputs = []\n",
    "    while inp != 'q':\n",
    "        inp = input('-> ')\n",
    "        if inp != 'q':\n",
    "            inputs.append(inp)\n",
    "    return inputs"
   ]
  },
  {
   "cell_type": "code",
   "execution_count": 6,
   "metadata": {},
   "outputs": [],
   "source": [
    "# inputs = input_sentences('Input examples placing NE inside square brackets. Input \"q\" at the end')"
   ]
  },
  {
   "cell_type": "code",
   "execution_count": 7,
   "metadata": {},
   "outputs": [],
   "source": [
    "# ne_list, inputs_clean = findNE(inputs)\n",
    "# print(inputs_clean)\n",
    "# print(ne_list)"
   ]
  },
  {
   "cell_type": "code",
   "execution_count": 8,
   "metadata": {},
   "outputs": [],
   "source": [
    "# from deeppavlov.models.tokenizers.spacy_tokenizer import StreamSpacyTokenizer\n",
    "# from deeppavlov.models.tokenizers.nltk_tokenizer import NLTKTokenizer\n",
    "# tokenizer = NLTKTokenizer()\n",
    "# tokens = tokenizer(inputs_clean)\n",
    "# tags = []\n",
    "# for i, sent in enumerate(tokens):\n",
    "#     tags.append([])\n",
    "#     for token in sent:\n",
    "#         tag = 'T' if token in ne_list[i] else 'O'\n",
    "#         tags[-1].append(tag)\n",
    "# print(tokens)\n",
    "# print(tags)"
   ]
  },
  {
   "cell_type": "code",
   "execution_count": 9,
   "metadata": {},
   "outputs": [],
   "source": [
    "# model.train_on_batch(tokens, tags)"
   ]
  },
  {
   "cell_type": "code",
   "execution_count": 10,
   "metadata": {},
   "outputs": [],
   "source": [
    "# inputs_test = input_sentences('Input test sentences. Input \"q\" at the end')"
   ]
  },
  {
   "cell_type": "code",
   "execution_count": 11,
   "metadata": {},
   "outputs": [],
   "source": [
    "# tokens_test = tokenizer(inputs_test)\n",
    "# print(tokens_test)"
   ]
  },
  {
   "cell_type": "code",
   "execution_count": 12,
   "metadata": {},
   "outputs": [],
   "source": [
    "# results = model(tokens_test)"
   ]
  },
  {
   "cell_type": "code",
   "execution_count": 28,
   "metadata": {},
   "outputs": [],
   "source": [
    "class NeSimVisualizer():\n",
    "    def __init__(self, color:dict=None):\n",
    "        self.bg_color = color if color != None else NeSimVisualizer.get_color()\n",
    "\n",
    "    @staticmethod\n",
    "    def get_color(red=0, green=255, blue=0):\n",
    "        return {'r': red, 'g': green, 'b': blue}\n",
    "\n",
    "    @staticmethod\n",
    "    def get_rgba_str(color, alpha=1):\n",
    "        return 'rgba({},{},{},{})'.format(color['r'], color['g'], color['b'], alpha)\n",
    "\n",
    "    @staticmethod\n",
    "    def get_token_span_str(token, color, cf=1):\n",
    "        return '<span style=\"padding: 0.15em; margin-right: 4px; border-radius: 0.25em; background: {};\">{}</span>'.format(NeSimVisualizer.get_rgba_str(color, alpha=cf), token)\n",
    "\n",
    "    @staticmethod\n",
    "    def wrap_with_style(html):\n",
    "        return '<div style=\"line-height: 1.5em; border: 2px solid black; padding: 5px;\">{:s}</div>'.format(html)\n",
    "\n",
    "    def sim_transform_lin(self, sim):\n",
    "        # similarity transformation for better visualization\n",
    "        return (sim - self.sim_min)/(self.sim_max - self.sim_min)\n",
    "\n",
    "    def sim_transform(self, sim, T=0.5):\n",
    "        # similarity transformation with temperature for better visualization\n",
    "        return (np.exp(sim/T) - np.exp(self.sim_min/T))/(np.exp(self.sim_max/T) - np.exp(self.sim_min/T))\n",
    "\n",
    "    @staticmethod\n",
    "    def color_from_gradient(color1, color2, coeff):\n",
    "        color = NeSimVisualizer.get_color(0, 0, 0)\n",
    "        for ch in color.keys():\n",
    "            color[ch] = color1[ch]*(1-coeff) + color2[ch]*coeff\n",
    "        return color\n",
    "\n",
    "    def get_colored_results_html(self, tokens_sim: list, color, transform_sim=True, T=0.5, title=''):\n",
    "        s = '<h3 style=\"margin-bottom:0.3em;\">{}</h3>'.format(title)\n",
    "        s += '<br/>'\n",
    "        for seq in tokens_sim:\n",
    "            for token, sim in seq:\n",
    "                if transform_sim:\n",
    "                    sim = self.sim_transform(sim, T)\n",
    "                alpha = sim\n",
    "                if isinstance(color, list):\n",
    "                    if len(color) > 1:\n",
    "                        color_display = NeSimVisualizer.color_from_gradient(color[0], color[1], sim)\n",
    "                        if sim < 0.5:\n",
    "                            alpha = 1 - sim*2\n",
    "                        else:\n",
    "                            alpha = (sim - 0.5)*2\n",
    "                    else:\n",
    "                        color_display = color[0]\n",
    "                else:\n",
    "                    color_display = color\n",
    "                s += NeSimVisualizer.get_token_span_str(token, color_display, cf=alpha)\n",
    "    #             s += ' '\n",
    "            s += '<br/><br/>'\n",
    "        return NeSimVisualizer.wrap_with_style(s)\n",
    "\n",
    "    def display_ne_sim(self, tokens, sim_list, transform=True, title=''):\n",
    "#         print(sim_list)\n",
    "        if isinstance(sim_list[0], list) and isinstance(sim_list[0][0], dict):\n",
    "            tokens_sim = zip_tokens_sim(tokens, sim_list)\n",
    "            sim_flat = flatten_sim(sim_list)\n",
    "            self.sim_min = np.min(sim_flat['cosine'])\n",
    "            self.sim_max = np.max(sim_flat['cosine'])\n",
    "        else:\n",
    "            tokens_sim = zip_tokens_sim_list(tokens, sim_list)\n",
    "        \n",
    "        display(HTML(self.get_colored_results_html(tokens_sim, color=self.bg_color, transform_sim=transform, title=title)))\n"
   ]
  },
  {
   "cell_type": "code",
   "execution_count": 29,
   "metadata": {},
   "outputs": [],
   "source": [
    "# bg_color = [NeSimVisualizer.get_color(255, 128, 0), NeSimVisualizer.get_color(0, 255, 0)]\n",
    "# viz = NeSimVisualizer(color=bg_color)\n",
    "# viz.display_ne_sim(tokens_test, results['probas'], transform=False, title='Visualization of token to NE similarities')"
   ]
  },
  {
   "cell_type": "code",
   "execution_count": 30,
   "metadata": {},
   "outputs": [],
   "source": [
    "def get_tokens_tags(sentences, ne_list, tokenizer=NLTKTokenizer()):\n",
    "    tokens = tokenizer(sentences)\n",
    "    tags = []\n",
    "    for i, sent in enumerate(tokens):\n",
    "        tags.append([])\n",
    "        for token in sent:\n",
    "            tag = 'T' if token in ne_list[i] else 'O'\n",
    "            tags[-1].append(tag)\n",
    "    return tokens, tags"
   ]
  },
  {
   "cell_type": "code",
   "execution_count": 35,
   "metadata": {},
   "outputs": [],
   "source": [
    "def make_demo():\n",
    "    model = FewshotNerBinaryClassifier(embedder)\n",
    "    inputs = input_sentences('Input examples placing NE inside square brackets. Input \"q\" at the end')\n",
    "    ne_list, inputs_clean = findNE(inputs)\n",
    "    tokenizer = NLTKTokenizer()\n",
    "    tokens_train, tags_train = get_tokens_tags(inputs_clean, ne_list, tokenizer)\n",
    "    viz_ex = NeSimVisualizer(color=NeSimVisualizer.get_color(244,50,244))\n",
    "    viz_ex.display_ne_sim(tokens_train, tags2binaryFlat(tags_train), transform=False, title='Example sentences:')\n",
    "    model.train_on_batch(tokens_train, tags_train )\n",
    "    inputs_test = input_sentences('Input test sentences. Input \"q\" at the end')\n",
    "    tokens_test = tokenizer(inputs_test)\n",
    "    results = model(tokens_test)\n",
    "    bg_color = [NeSimVisualizer.get_color(255, 128, 0), NeSimVisualizer.get_color(0, 255, 0)]\n",
    "    viz = NeSimVisualizer(color=bg_color)\n",
    "    viz.display_ne_sim(tokens_test, results['probas'], transform=False, title='Visualization of token to NE similarities')"
   ]
  },
  {
   "cell_type": "code",
   "execution_count": 37,
   "metadata": {},
   "outputs": [
    {
     "name": "stdout",
     "output_type": "stream",
     "text": [
      ">> Input examples placing NE inside square brackets. Input \"q\" at the end\n",
      "-> [paris] is the capital of [france]\n",
      "-> q\n"
     ]
    },
    {
     "data": {
      "text/html": [
       "<div style=\"line-height: 1.5em; border: 2px solid black; padding: 5px;\"><h3 style=\"margin-bottom:0.3em;\">Example sentences:</h3><br/><span style=\"padding: 0.15em; margin-right: 4px; border-radius: 0.25em; background: rgba(244,50,244,1);\">paris</span><span style=\"padding: 0.15em; margin-right: 4px; border-radius: 0.25em; background: rgba(244,50,244,0);\">is</span><span style=\"padding: 0.15em; margin-right: 4px; border-radius: 0.25em; background: rgba(244,50,244,0);\">the</span><span style=\"padding: 0.15em; margin-right: 4px; border-radius: 0.25em; background: rgba(244,50,244,0);\">capital</span><span style=\"padding: 0.15em; margin-right: 4px; border-radius: 0.25em; background: rgba(244,50,244,0);\">of</span><span style=\"padding: 0.15em; margin-right: 4px; border-radius: 0.25em; background: rgba(244,50,244,1);\">france</span><br/><br/></div>"
      ],
      "text/plain": [
       "<IPython.core.display.HTML object>"
      ]
     },
     "metadata": {},
     "output_type": "display_data"
    },
    {
     "name": "stdout",
     "output_type": "stream",
     "text": [
      "Train\n"
     ]
    },
    {
     "name": "stderr",
     "output_type": "stream",
     "text": [
      "2018-08-27 19:29:10.18 INFO in 'tensorflow'['tf_logging'] at line 115: Saver not created because there are no variables in the graph to restore\n"
     ]
    },
    {
     "name": "stdout",
     "output_type": "stream",
     "text": [
      ">> Input test sentences. Input \"q\" at the end\n",
      "-> moscow is the capital of russia\n",
      "-> q\n"
     ]
    },
    {
     "name": "stderr",
     "output_type": "stream",
     "text": [
      "2018-08-27 19:29:23.253 INFO in 'tensorflow'['tf_logging'] at line 115: Saver not created because there are no variables in the graph to restore\n"
     ]
    },
    {
     "name": "stdout",
     "output_type": "stream",
     "text": [
      "Weighted kNN model\n",
      "k = 1, metric: cosine\n",
      "[=================   ] 84%\n"
     ]
    },
    {
     "data": {
      "text/html": [
       "<div style=\"line-height: 1.5em; border: 2px solid black; padding: 5px;\"><h3 style=\"margin-bottom:0.3em;\">Visualization of token to NE similarities</h3><br/><span style=\"padding: 0.15em; margin-right: 4px; border-radius: 0.25em; background: rgba(0.0,255.0,0.0,1.0);\">moscow</span><span style=\"padding: 0.15em; margin-right: 4px; border-radius: 0.25em; background: rgba(255.0,128.0,0.0,1.0);\">is</span><span style=\"padding: 0.15em; margin-right: 4px; border-radius: 0.25em; background: rgba(255.0,128.0,0.0,1.0);\">the</span><span style=\"padding: 0.15em; margin-right: 4px; border-radius: 0.25em; background: rgba(255.0,128.0,0.0,1.0);\">capital</span><span style=\"padding: 0.15em; margin-right: 4px; border-radius: 0.25em; background: rgba(255.0,128.0,0.0,1.0);\">of</span><span style=\"padding: 0.15em; margin-right: 4px; border-radius: 0.25em; background: rgba(0.0,255.0,0.0,1.0);\">russia</span><br/><br/></div>"
      ],
      "text/plain": [
       "<IPython.core.display.HTML object>"
      ]
     },
     "metadata": {},
     "output_type": "display_data"
    }
   ],
   "source": [
    "make_demo()"
   ]
  },
  {
   "cell_type": "code",
   "execution_count": null,
   "metadata": {},
   "outputs": [],
   "source": []
  }
 ],
 "metadata": {
  "kernelspec": {
   "display_name": "Python 3",
   "language": "python",
   "name": "python3"
  },
  "language_info": {
   "codemirror_mode": {
    "name": "ipython",
    "version": 3
   },
   "file_extension": ".py",
   "mimetype": "text/x-python",
   "name": "python",
   "nbconvert_exporter": "python",
   "pygments_lexer": "ipython3",
   "version": "3.6.5"
  }
 },
 "nbformat": 4,
 "nbformat_minor": 2
}
