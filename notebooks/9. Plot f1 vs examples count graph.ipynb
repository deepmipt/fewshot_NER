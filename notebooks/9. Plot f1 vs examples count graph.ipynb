{
 "cells": [
  {
   "cell_type": "code",
   "execution_count": 1,
   "metadata": {},
   "outputs": [
    {
     "name": "stderr",
     "output_type": "stream",
     "text": [
      "/home/kostrovskiy/prog/AI/NLP/DeepPavlov/env/lib/python3.6/site-packages/h5py/__init__.py:36: FutureWarning: Conversion of the second argument of issubdtype from `float` to `np.floating` is deprecated. In future, it will be treated as `np.float64 == np.dtype(float).type`.\n",
      "  from ._conv import register_converters as _register_converters\n",
      "Using TensorFlow backend.\n",
      "[nltk_data] Downloading package punkt to\n",
      "[nltk_data]     /home/kostrovskiy/nltk_data...\n",
      "[nltk_data]   Package punkt is already up-to-date!\n",
      "[nltk_data] Downloading package stopwords to\n",
      "[nltk_data]     /home/kostrovskiy/nltk_data...\n",
      "[nltk_data]   Package stopwords is already up-to-date!\n",
      "[nltk_data] Downloading package perluniprops to\n",
      "[nltk_data]     /home/kostrovskiy/nltk_data...\n",
      "[nltk_data]   Package perluniprops is already up-to-date!\n",
      "[nltk_data] Downloading package nonbreaking_prefixes to\n",
      "[nltk_data]     /home/kostrovskiy/nltk_data...\n",
      "[nltk_data]   Package nonbreaking_prefixes is already up-to-date!\n",
      "2018-08-19 16:32:02.328 DEBUG in 'gensim.models.doc2vec'['doc2vec'] at line 73: Fast version of gensim.models.doc2vec is being used\n",
      "2018-08-19 16:32:02.333 INFO in 'summa.preprocessing.cleaner'['textcleaner'] at line 20: 'pattern' package not found; tag filters are not available for English\n",
      "2018-08-19 16:32:08.681 DEBUG in 'matplotlib.backends'['__init__'] at line 90: backend module://ipykernel.pylab.backend_inline version unknown\n"
     ]
    }
   ],
   "source": [
    "import copy\n",
    "import os\n",
    "import numpy as np\n",
    "import matplotlib.pyplot as plt\n",
    "from sklearn.metrics import f1_score\n",
    "import tensorflow as tf\n",
    "import deeppavlov\n",
    "from deeppavlov.dataset_readers.ontonotes_reader import OntonotesReader\n",
    "\n",
    "from deeppavlov.models.embedders.glove_embedder import GloVeEmbedder"
   ]
  },
  {
   "cell_type": "code",
   "execution_count": 2,
   "metadata": {},
   "outputs": [],
   "source": [
    "from src.fewshot_ner_viz_component.fewshot_ner_binary_classifier import FewshotNerBinaryClassifier, CompositeEmbedder\n",
    "from src.fewshot_ner_viz_component.data_processing import *"
   ]
  },
  {
   "cell_type": "markdown",
   "metadata": {},
   "source": [
    "### Configuration parameters"
   ]
  },
  {
   "cell_type": "code",
   "execution_count": 3,
   "metadata": {},
   "outputs": [],
   "source": [
    "NE_TYPE = 'PERSON'\n",
    "N_EXAMPLES = list(range(1, 11))\n",
    "# N_EXAMPLES = list(range(1, 5))\n",
    "N_TEST_SENTENCES = 100\n",
    "N_SAMPLES = 10\n",
    "MODELS = ['ne_centroid', 'ne_nearest', 'weighted_kNN', 'centroid_kNN', 'svm']\n",
    "MODEL_PARAMS = {'ne_centroid': {'sim_type': 'cosine'},\n",
    "               'ne_nearest': {'sim_type': 'cosine'},\n",
    "               'weighted_kNN': {'k': 1, 'metric': 'cosine', 'use_class_weights': False, 'use_sim_weights': True},\n",
    "               'centroid_kNN': {'k': 10, 'metric': 'dot_prod', 'use_class_weights': False},\n",
    "               'svm': {}}"
   ]
  },
  {
   "cell_type": "code",
   "execution_count": 4,
   "metadata": {},
   "outputs": [
    {
     "name": "stdout",
     "output_type": "stream",
     "text": [
      "Num of train sentences: 75187\n",
      "Num of valid sentences: 9603\n",
      "Num of test sentences: 9479\n",
      "[(['Actions', 'had', 'to', 'be', 'taken', 'to', 'break', 'through', 'the', 'blockade', '.'], ['O', 'O', 'O', 'O', 'O', 'O', 'O', 'O', 'O', 'O', 'O']), (['On', 'a', 'night', 'in', 'late', 'July', '1940', ',', 'the', 'atmosphere', 'in', 'Zhuanbi', 'Village', 'in', 'Shaanxi', 'was', 'unusual', '.'], ['O', 'B-DATE', 'I-DATE', 'I-DATE', 'I-DATE', 'I-DATE', 'I-DATE', 'O', 'O', 'O', 'O', 'B-GPE', 'I-GPE', 'O', 'B-GPE', 'O', 'O', 'O']), (['Villager', 'Xiao', 'Jianghe', 'has', 'a', 'vivid', 'memory', 'of', 'this', 'piece', 'of', 'history', '.'], ['O', 'B-PERSON', 'I-PERSON', 'O', 'O', 'O', 'O', 'O', 'O', 'O', 'O', 'O', 'O']), (['On', 'that', 'dark', 'night', ',', 'everyone', 'was', 'sleeping', 'when', 'human', 'voices', 'and', 'neighing', 'horses', 'were', 'heard', 'within', 'the', 'village', '.'], ['O', 'B-TIME', 'I-TIME', 'I-TIME', 'O', 'O', 'O', 'O', 'O', 'O', 'O', 'O', 'O', 'O', 'O', 'O', 'O', 'O', 'O', 'O']), (['People', 'all', 'got', 'up', '.'], ['O', 'O', 'O', 'O', 'O']), (['Did', 'something', 'happen', '?'], ['O', 'O', 'O', 'O']), (['Some', 'folks', 'got', 'up', '.'], ['O', 'O', 'O', 'O', 'O']), (['Opening', 'the', 'street', 'gate', ',', 'they', 'saw', 'a', 'soldier', 'standing', 'by', 'the', 'gate', '.'], ['O', 'O', 'O', 'O', 'O', 'O', 'O', 'O', 'O', 'O', 'O', 'O', 'O', 'O']), (['Folks', ',', 'go', 'back', ',', 'go', 'back', ',', 'nothing', 'is', 'wrong', '.'], ['O', 'O', 'O', 'O', 'O', 'O', 'O', 'O', 'O', 'O', 'O', 'O']), (['Our', 'troops', 'are', 'just', 'going', 'to', 'stay', 'here', 'for', 'the', 'night', '.'], ['O', 'O', 'O', 'O', 'O', 'O', 'O', 'O', 'O', 'O', 'O', 'O'])]\n"
     ]
    }
   ],
   "source": [
    "dataset_orig = read_data()"
   ]
  },
  {
   "cell_type": "code",
   "execution_count": 5,
   "metadata": {},
   "outputs": [
    {
     "name": "stdout",
     "output_type": "stream",
     "text": [
      "INFO:tensorflow:Using /tmp/tfhub_modules to cache modules.\n"
     ]
    },
    {
     "name": "stderr",
     "output_type": "stream",
     "text": [
      "2018-08-19 16:32:10.279 INFO in 'tensorflow'['tf_logging'] at line 160: Using /tmp/tfhub_modules to cache modules.\n"
     ]
    },
    {
     "name": "stdout",
     "output_type": "stream",
     "text": [
      "INFO:tensorflow:Initialize variable module/aggregation/scaling:0 from checkpoint b'/tmp/tfhub_modules/9bb74bc86f9caffc8c47dd7b33ec4bb354d9602d/variables/variables' with aggregation/scaling\n"
     ]
    },
    {
     "name": "stderr",
     "output_type": "stream",
     "text": [
      "2018-08-19 16:32:10.654 INFO in 'tensorflow'['tf_logging'] at line 116: Initialize variable module/aggregation/scaling:0 from checkpoint b'/tmp/tfhub_modules/9bb74bc86f9caffc8c47dd7b33ec4bb354d9602d/variables/variables' with aggregation/scaling\n"
     ]
    },
    {
     "name": "stdout",
     "output_type": "stream",
     "text": [
      "INFO:tensorflow:Initialize variable module/aggregation/weights:0 from checkpoint b'/tmp/tfhub_modules/9bb74bc86f9caffc8c47dd7b33ec4bb354d9602d/variables/variables' with aggregation/weights\n"
     ]
    },
    {
     "name": "stderr",
     "output_type": "stream",
     "text": [
      "2018-08-19 16:32:10.660 INFO in 'tensorflow'['tf_logging'] at line 116: Initialize variable module/aggregation/weights:0 from checkpoint b'/tmp/tfhub_modules/9bb74bc86f9caffc8c47dd7b33ec4bb354d9602d/variables/variables' with aggregation/weights\n"
     ]
    },
    {
     "name": "stdout",
     "output_type": "stream",
     "text": [
      "INFO:tensorflow:Initialize variable module/bilm/CNN/W_cnn_0:0 from checkpoint b'/tmp/tfhub_modules/9bb74bc86f9caffc8c47dd7b33ec4bb354d9602d/variables/variables' with bilm/CNN/W_cnn_0\n"
     ]
    },
    {
     "name": "stderr",
     "output_type": "stream",
     "text": [
      "2018-08-19 16:32:10.667 INFO in 'tensorflow'['tf_logging'] at line 116: Initialize variable module/bilm/CNN/W_cnn_0:0 from checkpoint b'/tmp/tfhub_modules/9bb74bc86f9caffc8c47dd7b33ec4bb354d9602d/variables/variables' with bilm/CNN/W_cnn_0\n"
     ]
    },
    {
     "name": "stdout",
     "output_type": "stream",
     "text": [
      "INFO:tensorflow:Initialize variable module/bilm/CNN/W_cnn_1:0 from checkpoint b'/tmp/tfhub_modules/9bb74bc86f9caffc8c47dd7b33ec4bb354d9602d/variables/variables' with bilm/CNN/W_cnn_1\n"
     ]
    },
    {
     "name": "stderr",
     "output_type": "stream",
     "text": [
      "2018-08-19 16:32:10.675 INFO in 'tensorflow'['tf_logging'] at line 116: Initialize variable module/bilm/CNN/W_cnn_1:0 from checkpoint b'/tmp/tfhub_modules/9bb74bc86f9caffc8c47dd7b33ec4bb354d9602d/variables/variables' with bilm/CNN/W_cnn_1\n"
     ]
    },
    {
     "name": "stdout",
     "output_type": "stream",
     "text": [
      "INFO:tensorflow:Initialize variable module/bilm/CNN/W_cnn_2:0 from checkpoint b'/tmp/tfhub_modules/9bb74bc86f9caffc8c47dd7b33ec4bb354d9602d/variables/variables' with bilm/CNN/W_cnn_2\n"
     ]
    },
    {
     "name": "stderr",
     "output_type": "stream",
     "text": [
      "2018-08-19 16:32:10.682 INFO in 'tensorflow'['tf_logging'] at line 116: Initialize variable module/bilm/CNN/W_cnn_2:0 from checkpoint b'/tmp/tfhub_modules/9bb74bc86f9caffc8c47dd7b33ec4bb354d9602d/variables/variables' with bilm/CNN/W_cnn_2\n"
     ]
    },
    {
     "name": "stdout",
     "output_type": "stream",
     "text": [
      "INFO:tensorflow:Initialize variable module/bilm/CNN/W_cnn_3:0 from checkpoint b'/tmp/tfhub_modules/9bb74bc86f9caffc8c47dd7b33ec4bb354d9602d/variables/variables' with bilm/CNN/W_cnn_3\n"
     ]
    },
    {
     "name": "stderr",
     "output_type": "stream",
     "text": [
      "2018-08-19 16:32:10.689 INFO in 'tensorflow'['tf_logging'] at line 116: Initialize variable module/bilm/CNN/W_cnn_3:0 from checkpoint b'/tmp/tfhub_modules/9bb74bc86f9caffc8c47dd7b33ec4bb354d9602d/variables/variables' with bilm/CNN/W_cnn_3\n"
     ]
    },
    {
     "name": "stdout",
     "output_type": "stream",
     "text": [
      "INFO:tensorflow:Initialize variable module/bilm/CNN/W_cnn_4:0 from checkpoint b'/tmp/tfhub_modules/9bb74bc86f9caffc8c47dd7b33ec4bb354d9602d/variables/variables' with bilm/CNN/W_cnn_4\n"
     ]
    },
    {
     "name": "stderr",
     "output_type": "stream",
     "text": [
      "2018-08-19 16:32:10.695 INFO in 'tensorflow'['tf_logging'] at line 116: Initialize variable module/bilm/CNN/W_cnn_4:0 from checkpoint b'/tmp/tfhub_modules/9bb74bc86f9caffc8c47dd7b33ec4bb354d9602d/variables/variables' with bilm/CNN/W_cnn_4\n"
     ]
    },
    {
     "name": "stdout",
     "output_type": "stream",
     "text": [
      "INFO:tensorflow:Initialize variable module/bilm/CNN/W_cnn_5:0 from checkpoint b'/tmp/tfhub_modules/9bb74bc86f9caffc8c47dd7b33ec4bb354d9602d/variables/variables' with bilm/CNN/W_cnn_5\n"
     ]
    },
    {
     "name": "stderr",
     "output_type": "stream",
     "text": [
      "2018-08-19 16:32:10.702 INFO in 'tensorflow'['tf_logging'] at line 116: Initialize variable module/bilm/CNN/W_cnn_5:0 from checkpoint b'/tmp/tfhub_modules/9bb74bc86f9caffc8c47dd7b33ec4bb354d9602d/variables/variables' with bilm/CNN/W_cnn_5\n"
     ]
    },
    {
     "name": "stdout",
     "output_type": "stream",
     "text": [
      "INFO:tensorflow:Initialize variable module/bilm/CNN/W_cnn_6:0 from checkpoint b'/tmp/tfhub_modules/9bb74bc86f9caffc8c47dd7b33ec4bb354d9602d/variables/variables' with bilm/CNN/W_cnn_6\n"
     ]
    },
    {
     "name": "stderr",
     "output_type": "stream",
     "text": [
      "2018-08-19 16:32:10.710 INFO in 'tensorflow'['tf_logging'] at line 116: Initialize variable module/bilm/CNN/W_cnn_6:0 from checkpoint b'/tmp/tfhub_modules/9bb74bc86f9caffc8c47dd7b33ec4bb354d9602d/variables/variables' with bilm/CNN/W_cnn_6\n"
     ]
    },
    {
     "name": "stdout",
     "output_type": "stream",
     "text": [
      "INFO:tensorflow:Initialize variable module/bilm/CNN/b_cnn_0:0 from checkpoint b'/tmp/tfhub_modules/9bb74bc86f9caffc8c47dd7b33ec4bb354d9602d/variables/variables' with bilm/CNN/b_cnn_0\n"
     ]
    },
    {
     "name": "stderr",
     "output_type": "stream",
     "text": [
      "2018-08-19 16:32:10.717 INFO in 'tensorflow'['tf_logging'] at line 116: Initialize variable module/bilm/CNN/b_cnn_0:0 from checkpoint b'/tmp/tfhub_modules/9bb74bc86f9caffc8c47dd7b33ec4bb354d9602d/variables/variables' with bilm/CNN/b_cnn_0\n"
     ]
    },
    {
     "name": "stdout",
     "output_type": "stream",
     "text": [
      "INFO:tensorflow:Initialize variable module/bilm/CNN/b_cnn_1:0 from checkpoint b'/tmp/tfhub_modules/9bb74bc86f9caffc8c47dd7b33ec4bb354d9602d/variables/variables' with bilm/CNN/b_cnn_1\n"
     ]
    },
    {
     "name": "stderr",
     "output_type": "stream",
     "text": [
      "2018-08-19 16:32:10.724 INFO in 'tensorflow'['tf_logging'] at line 116: Initialize variable module/bilm/CNN/b_cnn_1:0 from checkpoint b'/tmp/tfhub_modules/9bb74bc86f9caffc8c47dd7b33ec4bb354d9602d/variables/variables' with bilm/CNN/b_cnn_1\n"
     ]
    },
    {
     "name": "stdout",
     "output_type": "stream",
     "text": [
      "INFO:tensorflow:Initialize variable module/bilm/CNN/b_cnn_2:0 from checkpoint b'/tmp/tfhub_modules/9bb74bc86f9caffc8c47dd7b33ec4bb354d9602d/variables/variables' with bilm/CNN/b_cnn_2\n"
     ]
    },
    {
     "name": "stderr",
     "output_type": "stream",
     "text": [
      "2018-08-19 16:32:10.733 INFO in 'tensorflow'['tf_logging'] at line 116: Initialize variable module/bilm/CNN/b_cnn_2:0 from checkpoint b'/tmp/tfhub_modules/9bb74bc86f9caffc8c47dd7b33ec4bb354d9602d/variables/variables' with bilm/CNN/b_cnn_2\n"
     ]
    },
    {
     "name": "stdout",
     "output_type": "stream",
     "text": [
      "INFO:tensorflow:Initialize variable module/bilm/CNN/b_cnn_3:0 from checkpoint b'/tmp/tfhub_modules/9bb74bc86f9caffc8c47dd7b33ec4bb354d9602d/variables/variables' with bilm/CNN/b_cnn_3\n"
     ]
    },
    {
     "name": "stderr",
     "output_type": "stream",
     "text": [
      "2018-08-19 16:32:10.740 INFO in 'tensorflow'['tf_logging'] at line 116: Initialize variable module/bilm/CNN/b_cnn_3:0 from checkpoint b'/tmp/tfhub_modules/9bb74bc86f9caffc8c47dd7b33ec4bb354d9602d/variables/variables' with bilm/CNN/b_cnn_3\n"
     ]
    },
    {
     "name": "stdout",
     "output_type": "stream",
     "text": [
      "INFO:tensorflow:Initialize variable module/bilm/CNN/b_cnn_4:0 from checkpoint b'/tmp/tfhub_modules/9bb74bc86f9caffc8c47dd7b33ec4bb354d9602d/variables/variables' with bilm/CNN/b_cnn_4\n"
     ]
    },
    {
     "name": "stderr",
     "output_type": "stream",
     "text": [
      "2018-08-19 16:32:10.746 INFO in 'tensorflow'['tf_logging'] at line 116: Initialize variable module/bilm/CNN/b_cnn_4:0 from checkpoint b'/tmp/tfhub_modules/9bb74bc86f9caffc8c47dd7b33ec4bb354d9602d/variables/variables' with bilm/CNN/b_cnn_4\n"
     ]
    },
    {
     "name": "stdout",
     "output_type": "stream",
     "text": [
      "INFO:tensorflow:Initialize variable module/bilm/CNN/b_cnn_5:0 from checkpoint b'/tmp/tfhub_modules/9bb74bc86f9caffc8c47dd7b33ec4bb354d9602d/variables/variables' with bilm/CNN/b_cnn_5\n"
     ]
    },
    {
     "name": "stderr",
     "output_type": "stream",
     "text": [
      "2018-08-19 16:32:10.752 INFO in 'tensorflow'['tf_logging'] at line 116: Initialize variable module/bilm/CNN/b_cnn_5:0 from checkpoint b'/tmp/tfhub_modules/9bb74bc86f9caffc8c47dd7b33ec4bb354d9602d/variables/variables' with bilm/CNN/b_cnn_5\n"
     ]
    },
    {
     "name": "stdout",
     "output_type": "stream",
     "text": [
      "INFO:tensorflow:Initialize variable module/bilm/CNN/b_cnn_6:0 from checkpoint b'/tmp/tfhub_modules/9bb74bc86f9caffc8c47dd7b33ec4bb354d9602d/variables/variables' with bilm/CNN/b_cnn_6\n"
     ]
    },
    {
     "name": "stderr",
     "output_type": "stream",
     "text": [
      "2018-08-19 16:32:10.760 INFO in 'tensorflow'['tf_logging'] at line 116: Initialize variable module/bilm/CNN/b_cnn_6:0 from checkpoint b'/tmp/tfhub_modules/9bb74bc86f9caffc8c47dd7b33ec4bb354d9602d/variables/variables' with bilm/CNN/b_cnn_6\n"
     ]
    },
    {
     "name": "stdout",
     "output_type": "stream",
     "text": [
      "INFO:tensorflow:Initialize variable module/bilm/CNN_high_0/W_carry:0 from checkpoint b'/tmp/tfhub_modules/9bb74bc86f9caffc8c47dd7b33ec4bb354d9602d/variables/variables' with bilm/CNN_high_0/W_carry\n"
     ]
    },
    {
     "name": "stderr",
     "output_type": "stream",
     "text": [
      "2018-08-19 16:32:10.768 INFO in 'tensorflow'['tf_logging'] at line 116: Initialize variable module/bilm/CNN_high_0/W_carry:0 from checkpoint b'/tmp/tfhub_modules/9bb74bc86f9caffc8c47dd7b33ec4bb354d9602d/variables/variables' with bilm/CNN_high_0/W_carry\n"
     ]
    },
    {
     "name": "stdout",
     "output_type": "stream",
     "text": [
      "INFO:tensorflow:Initialize variable module/bilm/CNN_high_0/W_transform:0 from checkpoint b'/tmp/tfhub_modules/9bb74bc86f9caffc8c47dd7b33ec4bb354d9602d/variables/variables' with bilm/CNN_high_0/W_transform\n"
     ]
    },
    {
     "name": "stderr",
     "output_type": "stream",
     "text": [
      "2018-08-19 16:32:10.776 INFO in 'tensorflow'['tf_logging'] at line 116: Initialize variable module/bilm/CNN_high_0/W_transform:0 from checkpoint b'/tmp/tfhub_modules/9bb74bc86f9caffc8c47dd7b33ec4bb354d9602d/variables/variables' with bilm/CNN_high_0/W_transform\n"
     ]
    },
    {
     "name": "stdout",
     "output_type": "stream",
     "text": [
      "INFO:tensorflow:Initialize variable module/bilm/CNN_high_0/b_carry:0 from checkpoint b'/tmp/tfhub_modules/9bb74bc86f9caffc8c47dd7b33ec4bb354d9602d/variables/variables' with bilm/CNN_high_0/b_carry\n"
     ]
    },
    {
     "name": "stderr",
     "output_type": "stream",
     "text": [
      "2018-08-19 16:32:10.785 INFO in 'tensorflow'['tf_logging'] at line 116: Initialize variable module/bilm/CNN_high_0/b_carry:0 from checkpoint b'/tmp/tfhub_modules/9bb74bc86f9caffc8c47dd7b33ec4bb354d9602d/variables/variables' with bilm/CNN_high_0/b_carry\n"
     ]
    },
    {
     "name": "stdout",
     "output_type": "stream",
     "text": [
      "INFO:tensorflow:Initialize variable module/bilm/CNN_high_0/b_transform:0 from checkpoint b'/tmp/tfhub_modules/9bb74bc86f9caffc8c47dd7b33ec4bb354d9602d/variables/variables' with bilm/CNN_high_0/b_transform\n"
     ]
    },
    {
     "name": "stderr",
     "output_type": "stream",
     "text": [
      "2018-08-19 16:32:10.790 INFO in 'tensorflow'['tf_logging'] at line 116: Initialize variable module/bilm/CNN_high_0/b_transform:0 from checkpoint b'/tmp/tfhub_modules/9bb74bc86f9caffc8c47dd7b33ec4bb354d9602d/variables/variables' with bilm/CNN_high_0/b_transform\n"
     ]
    },
    {
     "name": "stdout",
     "output_type": "stream",
     "text": [
      "INFO:tensorflow:Initialize variable module/bilm/CNN_high_1/W_carry:0 from checkpoint b'/tmp/tfhub_modules/9bb74bc86f9caffc8c47dd7b33ec4bb354d9602d/variables/variables' with bilm/CNN_high_1/W_carry\n"
     ]
    },
    {
     "name": "stderr",
     "output_type": "stream",
     "text": [
      "2018-08-19 16:32:10.796 INFO in 'tensorflow'['tf_logging'] at line 116: Initialize variable module/bilm/CNN_high_1/W_carry:0 from checkpoint b'/tmp/tfhub_modules/9bb74bc86f9caffc8c47dd7b33ec4bb354d9602d/variables/variables' with bilm/CNN_high_1/W_carry\n"
     ]
    },
    {
     "name": "stdout",
     "output_type": "stream",
     "text": [
      "INFO:tensorflow:Initialize variable module/bilm/CNN_high_1/W_transform:0 from checkpoint b'/tmp/tfhub_modules/9bb74bc86f9caffc8c47dd7b33ec4bb354d9602d/variables/variables' with bilm/CNN_high_1/W_transform\n"
     ]
    },
    {
     "name": "stderr",
     "output_type": "stream",
     "text": [
      "2018-08-19 16:32:10.803 INFO in 'tensorflow'['tf_logging'] at line 116: Initialize variable module/bilm/CNN_high_1/W_transform:0 from checkpoint b'/tmp/tfhub_modules/9bb74bc86f9caffc8c47dd7b33ec4bb354d9602d/variables/variables' with bilm/CNN_high_1/W_transform\n"
     ]
    },
    {
     "name": "stdout",
     "output_type": "stream",
     "text": [
      "INFO:tensorflow:Initialize variable module/bilm/CNN_high_1/b_carry:0 from checkpoint b'/tmp/tfhub_modules/9bb74bc86f9caffc8c47dd7b33ec4bb354d9602d/variables/variables' with bilm/CNN_high_1/b_carry\n"
     ]
    },
    {
     "name": "stderr",
     "output_type": "stream",
     "text": [
      "2018-08-19 16:32:10.810 INFO in 'tensorflow'['tf_logging'] at line 116: Initialize variable module/bilm/CNN_high_1/b_carry:0 from checkpoint b'/tmp/tfhub_modules/9bb74bc86f9caffc8c47dd7b33ec4bb354d9602d/variables/variables' with bilm/CNN_high_1/b_carry\n"
     ]
    },
    {
     "name": "stdout",
     "output_type": "stream",
     "text": [
      "INFO:tensorflow:Initialize variable module/bilm/CNN_high_1/b_transform:0 from checkpoint b'/tmp/tfhub_modules/9bb74bc86f9caffc8c47dd7b33ec4bb354d9602d/variables/variables' with bilm/CNN_high_1/b_transform\n"
     ]
    },
    {
     "name": "stderr",
     "output_type": "stream",
     "text": [
      "2018-08-19 16:32:10.818 INFO in 'tensorflow'['tf_logging'] at line 116: Initialize variable module/bilm/CNN_high_1/b_transform:0 from checkpoint b'/tmp/tfhub_modules/9bb74bc86f9caffc8c47dd7b33ec4bb354d9602d/variables/variables' with bilm/CNN_high_1/b_transform\n"
     ]
    },
    {
     "name": "stdout",
     "output_type": "stream",
     "text": [
      "INFO:tensorflow:Initialize variable module/bilm/CNN_proj/W_proj:0 from checkpoint b'/tmp/tfhub_modules/9bb74bc86f9caffc8c47dd7b33ec4bb354d9602d/variables/variables' with bilm/CNN_proj/W_proj\n"
     ]
    },
    {
     "name": "stderr",
     "output_type": "stream",
     "text": [
      "2018-08-19 16:32:10.823 INFO in 'tensorflow'['tf_logging'] at line 116: Initialize variable module/bilm/CNN_proj/W_proj:0 from checkpoint b'/tmp/tfhub_modules/9bb74bc86f9caffc8c47dd7b33ec4bb354d9602d/variables/variables' with bilm/CNN_proj/W_proj\n"
     ]
    },
    {
     "name": "stdout",
     "output_type": "stream",
     "text": [
      "INFO:tensorflow:Initialize variable module/bilm/CNN_proj/b_proj:0 from checkpoint b'/tmp/tfhub_modules/9bb74bc86f9caffc8c47dd7b33ec4bb354d9602d/variables/variables' with bilm/CNN_proj/b_proj\n"
     ]
    },
    {
     "name": "stderr",
     "output_type": "stream",
     "text": [
      "2018-08-19 16:32:10.829 INFO in 'tensorflow'['tf_logging'] at line 116: Initialize variable module/bilm/CNN_proj/b_proj:0 from checkpoint b'/tmp/tfhub_modules/9bb74bc86f9caffc8c47dd7b33ec4bb354d9602d/variables/variables' with bilm/CNN_proj/b_proj\n"
     ]
    },
    {
     "name": "stdout",
     "output_type": "stream",
     "text": [
      "INFO:tensorflow:Initialize variable module/bilm/RNN_0/RNN/MultiRNNCell/Cell0/rnn/lstm_cell/bias:0 from checkpoint b'/tmp/tfhub_modules/9bb74bc86f9caffc8c47dd7b33ec4bb354d9602d/variables/variables' with bilm/RNN_0/RNN/MultiRNNCell/Cell0/rnn/lstm_cell/bias\n"
     ]
    },
    {
     "name": "stderr",
     "output_type": "stream",
     "text": [
      "2018-08-19 16:32:10.836 INFO in 'tensorflow'['tf_logging'] at line 116: Initialize variable module/bilm/RNN_0/RNN/MultiRNNCell/Cell0/rnn/lstm_cell/bias:0 from checkpoint b'/tmp/tfhub_modules/9bb74bc86f9caffc8c47dd7b33ec4bb354d9602d/variables/variables' with bilm/RNN_0/RNN/MultiRNNCell/Cell0/rnn/lstm_cell/bias\n"
     ]
    },
    {
     "name": "stdout",
     "output_type": "stream",
     "text": [
      "INFO:tensorflow:Initialize variable module/bilm/RNN_0/RNN/MultiRNNCell/Cell0/rnn/lstm_cell/kernel:0 from checkpoint b'/tmp/tfhub_modules/9bb74bc86f9caffc8c47dd7b33ec4bb354d9602d/variables/variables' with bilm/RNN_0/RNN/MultiRNNCell/Cell0/rnn/lstm_cell/kernel\n"
     ]
    },
    {
     "name": "stderr",
     "output_type": "stream",
     "text": [
      "2018-08-19 16:32:10.843 INFO in 'tensorflow'['tf_logging'] at line 116: Initialize variable module/bilm/RNN_0/RNN/MultiRNNCell/Cell0/rnn/lstm_cell/kernel:0 from checkpoint b'/tmp/tfhub_modules/9bb74bc86f9caffc8c47dd7b33ec4bb354d9602d/variables/variables' with bilm/RNN_0/RNN/MultiRNNCell/Cell0/rnn/lstm_cell/kernel\n"
     ]
    },
    {
     "name": "stdout",
     "output_type": "stream",
     "text": [
      "INFO:tensorflow:Initialize variable module/bilm/RNN_0/RNN/MultiRNNCell/Cell0/rnn/lstm_cell/projection/kernel:0 from checkpoint b'/tmp/tfhub_modules/9bb74bc86f9caffc8c47dd7b33ec4bb354d9602d/variables/variables' with bilm/RNN_0/RNN/MultiRNNCell/Cell0/rnn/lstm_cell/projection/kernel\n"
     ]
    },
    {
     "name": "stderr",
     "output_type": "stream",
     "text": [
      "2018-08-19 16:32:10.849 INFO in 'tensorflow'['tf_logging'] at line 116: Initialize variable module/bilm/RNN_0/RNN/MultiRNNCell/Cell0/rnn/lstm_cell/projection/kernel:0 from checkpoint b'/tmp/tfhub_modules/9bb74bc86f9caffc8c47dd7b33ec4bb354d9602d/variables/variables' with bilm/RNN_0/RNN/MultiRNNCell/Cell0/rnn/lstm_cell/projection/kernel\n"
     ]
    },
    {
     "name": "stdout",
     "output_type": "stream",
     "text": [
      "INFO:tensorflow:Initialize variable module/bilm/RNN_0/RNN/MultiRNNCell/Cell1/rnn/lstm_cell/bias:0 from checkpoint b'/tmp/tfhub_modules/9bb74bc86f9caffc8c47dd7b33ec4bb354d9602d/variables/variables' with bilm/RNN_0/RNN/MultiRNNCell/Cell1/rnn/lstm_cell/bias\n"
     ]
    },
    {
     "name": "stderr",
     "output_type": "stream",
     "text": [
      "2018-08-19 16:32:10.856 INFO in 'tensorflow'['tf_logging'] at line 116: Initialize variable module/bilm/RNN_0/RNN/MultiRNNCell/Cell1/rnn/lstm_cell/bias:0 from checkpoint b'/tmp/tfhub_modules/9bb74bc86f9caffc8c47dd7b33ec4bb354d9602d/variables/variables' with bilm/RNN_0/RNN/MultiRNNCell/Cell1/rnn/lstm_cell/bias\n"
     ]
    },
    {
     "name": "stdout",
     "output_type": "stream",
     "text": [
      "INFO:tensorflow:Initialize variable module/bilm/RNN_0/RNN/MultiRNNCell/Cell1/rnn/lstm_cell/kernel:0 from checkpoint b'/tmp/tfhub_modules/9bb74bc86f9caffc8c47dd7b33ec4bb354d9602d/variables/variables' with bilm/RNN_0/RNN/MultiRNNCell/Cell1/rnn/lstm_cell/kernel\n"
     ]
    },
    {
     "name": "stderr",
     "output_type": "stream",
     "text": [
      "2018-08-19 16:32:10.863 INFO in 'tensorflow'['tf_logging'] at line 116: Initialize variable module/bilm/RNN_0/RNN/MultiRNNCell/Cell1/rnn/lstm_cell/kernel:0 from checkpoint b'/tmp/tfhub_modules/9bb74bc86f9caffc8c47dd7b33ec4bb354d9602d/variables/variables' with bilm/RNN_0/RNN/MultiRNNCell/Cell1/rnn/lstm_cell/kernel\n"
     ]
    },
    {
     "name": "stdout",
     "output_type": "stream",
     "text": [
      "INFO:tensorflow:Initialize variable module/bilm/RNN_0/RNN/MultiRNNCell/Cell1/rnn/lstm_cell/projection/kernel:0 from checkpoint b'/tmp/tfhub_modules/9bb74bc86f9caffc8c47dd7b33ec4bb354d9602d/variables/variables' with bilm/RNN_0/RNN/MultiRNNCell/Cell1/rnn/lstm_cell/projection/kernel\n"
     ]
    },
    {
     "name": "stderr",
     "output_type": "stream",
     "text": [
      "2018-08-19 16:32:10.870 INFO in 'tensorflow'['tf_logging'] at line 116: Initialize variable module/bilm/RNN_0/RNN/MultiRNNCell/Cell1/rnn/lstm_cell/projection/kernel:0 from checkpoint b'/tmp/tfhub_modules/9bb74bc86f9caffc8c47dd7b33ec4bb354d9602d/variables/variables' with bilm/RNN_0/RNN/MultiRNNCell/Cell1/rnn/lstm_cell/projection/kernel\n"
     ]
    },
    {
     "name": "stdout",
     "output_type": "stream",
     "text": [
      "INFO:tensorflow:Initialize variable module/bilm/RNN_1/RNN/MultiRNNCell/Cell0/rnn/lstm_cell/bias:0 from checkpoint b'/tmp/tfhub_modules/9bb74bc86f9caffc8c47dd7b33ec4bb354d9602d/variables/variables' with bilm/RNN_1/RNN/MultiRNNCell/Cell0/rnn/lstm_cell/bias\n"
     ]
    },
    {
     "name": "stderr",
     "output_type": "stream",
     "text": [
      "2018-08-19 16:32:10.879 INFO in 'tensorflow'['tf_logging'] at line 116: Initialize variable module/bilm/RNN_1/RNN/MultiRNNCell/Cell0/rnn/lstm_cell/bias:0 from checkpoint b'/tmp/tfhub_modules/9bb74bc86f9caffc8c47dd7b33ec4bb354d9602d/variables/variables' with bilm/RNN_1/RNN/MultiRNNCell/Cell0/rnn/lstm_cell/bias\n"
     ]
    },
    {
     "name": "stdout",
     "output_type": "stream",
     "text": [
      "INFO:tensorflow:Initialize variable module/bilm/RNN_1/RNN/MultiRNNCell/Cell0/rnn/lstm_cell/kernel:0 from checkpoint b'/tmp/tfhub_modules/9bb74bc86f9caffc8c47dd7b33ec4bb354d9602d/variables/variables' with bilm/RNN_1/RNN/MultiRNNCell/Cell0/rnn/lstm_cell/kernel\n"
     ]
    },
    {
     "name": "stderr",
     "output_type": "stream",
     "text": [
      "2018-08-19 16:32:10.885 INFO in 'tensorflow'['tf_logging'] at line 116: Initialize variable module/bilm/RNN_1/RNN/MultiRNNCell/Cell0/rnn/lstm_cell/kernel:0 from checkpoint b'/tmp/tfhub_modules/9bb74bc86f9caffc8c47dd7b33ec4bb354d9602d/variables/variables' with bilm/RNN_1/RNN/MultiRNNCell/Cell0/rnn/lstm_cell/kernel\n"
     ]
    },
    {
     "name": "stdout",
     "output_type": "stream",
     "text": [
      "INFO:tensorflow:Initialize variable module/bilm/RNN_1/RNN/MultiRNNCell/Cell0/rnn/lstm_cell/projection/kernel:0 from checkpoint b'/tmp/tfhub_modules/9bb74bc86f9caffc8c47dd7b33ec4bb354d9602d/variables/variables' with bilm/RNN_1/RNN/MultiRNNCell/Cell0/rnn/lstm_cell/projection/kernel\n"
     ]
    },
    {
     "name": "stderr",
     "output_type": "stream",
     "text": [
      "2018-08-19 16:32:10.893 INFO in 'tensorflow'['tf_logging'] at line 116: Initialize variable module/bilm/RNN_1/RNN/MultiRNNCell/Cell0/rnn/lstm_cell/projection/kernel:0 from checkpoint b'/tmp/tfhub_modules/9bb74bc86f9caffc8c47dd7b33ec4bb354d9602d/variables/variables' with bilm/RNN_1/RNN/MultiRNNCell/Cell0/rnn/lstm_cell/projection/kernel\n"
     ]
    },
    {
     "name": "stdout",
     "output_type": "stream",
     "text": [
      "INFO:tensorflow:Initialize variable module/bilm/RNN_1/RNN/MultiRNNCell/Cell1/rnn/lstm_cell/bias:0 from checkpoint b'/tmp/tfhub_modules/9bb74bc86f9caffc8c47dd7b33ec4bb354d9602d/variables/variables' with bilm/RNN_1/RNN/MultiRNNCell/Cell1/rnn/lstm_cell/bias\n"
     ]
    },
    {
     "name": "stderr",
     "output_type": "stream",
     "text": [
      "2018-08-19 16:32:10.900 INFO in 'tensorflow'['tf_logging'] at line 116: Initialize variable module/bilm/RNN_1/RNN/MultiRNNCell/Cell1/rnn/lstm_cell/bias:0 from checkpoint b'/tmp/tfhub_modules/9bb74bc86f9caffc8c47dd7b33ec4bb354d9602d/variables/variables' with bilm/RNN_1/RNN/MultiRNNCell/Cell1/rnn/lstm_cell/bias\n"
     ]
    },
    {
     "name": "stdout",
     "output_type": "stream",
     "text": [
      "INFO:tensorflow:Initialize variable module/bilm/RNN_1/RNN/MultiRNNCell/Cell1/rnn/lstm_cell/kernel:0 from checkpoint b'/tmp/tfhub_modules/9bb74bc86f9caffc8c47dd7b33ec4bb354d9602d/variables/variables' with bilm/RNN_1/RNN/MultiRNNCell/Cell1/rnn/lstm_cell/kernel\n"
     ]
    },
    {
     "name": "stderr",
     "output_type": "stream",
     "text": [
      "2018-08-19 16:32:10.905 INFO in 'tensorflow'['tf_logging'] at line 116: Initialize variable module/bilm/RNN_1/RNN/MultiRNNCell/Cell1/rnn/lstm_cell/kernel:0 from checkpoint b'/tmp/tfhub_modules/9bb74bc86f9caffc8c47dd7b33ec4bb354d9602d/variables/variables' with bilm/RNN_1/RNN/MultiRNNCell/Cell1/rnn/lstm_cell/kernel\n"
     ]
    },
    {
     "name": "stdout",
     "output_type": "stream",
     "text": [
      "INFO:tensorflow:Initialize variable module/bilm/RNN_1/RNN/MultiRNNCell/Cell1/rnn/lstm_cell/projection/kernel:0 from checkpoint b'/tmp/tfhub_modules/9bb74bc86f9caffc8c47dd7b33ec4bb354d9602d/variables/variables' with bilm/RNN_1/RNN/MultiRNNCell/Cell1/rnn/lstm_cell/projection/kernel\n"
     ]
    },
    {
     "name": "stderr",
     "output_type": "stream",
     "text": [
      "2018-08-19 16:32:10.910 INFO in 'tensorflow'['tf_logging'] at line 116: Initialize variable module/bilm/RNN_1/RNN/MultiRNNCell/Cell1/rnn/lstm_cell/projection/kernel:0 from checkpoint b'/tmp/tfhub_modules/9bb74bc86f9caffc8c47dd7b33ec4bb354d9602d/variables/variables' with bilm/RNN_1/RNN/MultiRNNCell/Cell1/rnn/lstm_cell/projection/kernel\n"
     ]
    },
    {
     "name": "stdout",
     "output_type": "stream",
     "text": [
      "INFO:tensorflow:Initialize variable module/bilm/char_embed:0 from checkpoint b'/tmp/tfhub_modules/9bb74bc86f9caffc8c47dd7b33ec4bb354d9602d/variables/variables' with bilm/char_embed\n"
     ]
    },
    {
     "name": "stderr",
     "output_type": "stream",
     "text": [
      "2018-08-19 16:32:10.916 INFO in 'tensorflow'['tf_logging'] at line 116: Initialize variable module/bilm/char_embed:0 from checkpoint b'/tmp/tfhub_modules/9bb74bc86f9caffc8c47dd7b33ec4bb354d9602d/variables/variables' with bilm/char_embed\n",
      "2018-08-19 16:32:11.383 INFO in 'deeppavlov.models.embedders.glove_embedder'['glove_embedder'] at line 60: [loading embeddings from `/home/kostrovskiy/prog/AI/NLP/DeepPavlov/download/embeddings/glove.6B/glove.6B.100d.txt`]\n",
      "2018-08-19 16:32:11.383 INFO in 'gensim.models.keyedvectors'['keyedvectors'] at line 204: loading projection weights from /home/kostrovskiy/prog/AI/NLP/DeepPavlov/download/embeddings/glove.6B/glove.6B.100d.txt\n",
      "2018-08-19 16:32:11.384 DEBUG in 'smart_open.smart_open_lib'['smart_open_lib'] at line 176: {'kw': {}, 'mode': 'rb', 'uri': '/home/kostrovskiy/prog/AI/NLP/DeepPavlov/download/embeddings/glove.6B/glove.6B.100d.txt'}\n",
      "2018-08-19 16:32:40.390 INFO in 'gensim.models.keyedvectors'['keyedvectors'] at line 266: loaded (400000, 100) matrix from /home/kostrovskiy/prog/AI/NLP/DeepPavlov/download/embeddings/glove.6B/glove.6B.100d.txt\n"
     ]
    }
   ],
   "source": [
    "embedder = CompositeEmbedder(use_elmo=True, elmo_scale=1, cap_scale=1, use_cap_feat=True, use_glove=True)"
   ]
  },
  {
   "cell_type": "code",
   "execution_count": 6,
   "metadata": {},
   "outputs": [
    {
     "name": "stdout",
     "output_type": "stream",
     "text": [
      "NE type: PERSON\n",
      "Num of train sentences: 12195\n",
      "Num of valid sentences: 1553\n",
      "Num of test sentences: 1573\n",
      "++++++++ Number of example sentences: 1 ++++++++\n",
      "Sample 1\n",
      "Train\n",
      "NE centroid similarity model\n",
      "NE nearest similarity model\n",
      "SVM classifier model\n",
      "Weighted kNN model\n",
      "k = 1, metric: cosine\n",
      "[====================] 100%\n",
      "NE centroid + words kNN similarity model\n",
      "k = 10, metric: dot_prod\n",
      "[=                   ] 4%"
     ]
    },
    {
     "name": "stderr",
     "output_type": "stream",
     "text": [
      "/home/kostrovskiy/work/dialog_systems/research/ner_with_small_data/code/fewshot_ner/notebooks/src/fewshot_ner_viz_component/utils.py:156: RuntimeWarning: invalid value encountered in subtract\n",
      "  ar = (ar - ar_min)/(ar_max - ar_min)\n",
      "/home/kostrovskiy/work/dialog_systems/research/ner_with_small_data/code/fewshot_ner/notebooks/src/fewshot_ner_viz_component/utils.py:156: RuntimeWarning: invalid value encountered in true_divide\n",
      "  ar = (ar - ar_min)/(ar_max - ar_min)\n"
     ]
    },
    {
     "name": "stdout",
     "output_type": "stream",
     "text": [
      "[====================] 100%\n",
      "F1 scores: {'ne_centroid': 0.4444444444444444, 'ne_nearest': 0.4444444444444444, 'weighted_kNN': 0.840958605664488, 'centroid_kNN': 0.0, 'svm': 0.025210084033613446}\n",
      "Sample 2\n",
      "Train\n",
      "NE centroid similarity model\n",
      "NE nearest similarity model\n",
      "SVM classifier model\n",
      "Weighted kNN model\n",
      "k = 1, metric: cosine\n",
      "[====================] 100%\n",
      "NE centroid + words kNN similarity model\n",
      "k = 10, metric: dot_prod\n",
      "[====================] 100%\n",
      "F1 scores: {'ne_centroid': 0.39867109634551495, 'ne_nearest': 0.39867109634551495, 'weighted_kNN': 0.6385542168674698, 'centroid_kNN': 0.32275132275132273, 'svm': 0.0}\n",
      "Sample 3\n",
      "Train\n"
     ]
    },
    {
     "name": "stderr",
     "output_type": "stream",
     "text": [
      "/home/kostrovskiy/prog/AI/NLP/DeepPavlov/env/lib/python3.6/site-packages/sklearn/metrics/classification.py:1135: UndefinedMetricWarning: F-score is ill-defined and being set to 0.0 due to no predicted samples.\n",
      "  'precision', 'predicted', average, warn_for)\n"
     ]
    },
    {
     "name": "stdout",
     "output_type": "stream",
     "text": [
      "NE centroid similarity model\n",
      "NE nearest similarity model\n",
      "SVM classifier model\n",
      "Weighted kNN model\n",
      "k = 1, metric: cosine\n",
      "[====================] 100%\n",
      "NE centroid + words kNN similarity model\n",
      "k = 10, metric: dot_prod\n",
      "[====================] 100%\n",
      "F1 scores: {'ne_centroid': 0.541033434650456, 'ne_nearest': 0.621301775147929, 'weighted_kNN': 0.8177570093457944, 'centroid_kNN': 0.14107883817427383, 'svm': 0.21848739495798317}\n",
      "Sample 4\n",
      "Train\n",
      "NE centroid similarity model\n",
      "NE nearest similarity model\n",
      "SVM classifier model\n",
      "Weighted kNN model\n",
      "k = 1, metric: cosine\n",
      "[====================] 100%\n",
      "NE centroid + words kNN similarity model\n",
      "k = 10, metric: dot_prod\n",
      "[====================] 100%\n",
      "F1 scores: {'ne_centroid': 0.4027777777777778, 'ne_nearest': 0.4027777777777778, 'weighted_kNN': 0.751958224543081, 'centroid_kNN': 0.0, 'svm': 0.0}\n",
      "Sample 5\n",
      "Train\n",
      "NE centroid similarity model\n",
      "NE nearest similarity model\n",
      "SVM classifier model\n",
      "Weighted kNN model\n",
      "k = 1, metric: cosine\n",
      "[====================] 100%\n",
      "NE centroid + words kNN similarity model\n",
      "k = 10, metric: dot_prod\n",
      "[====================] 100%\n",
      "F1 scores: {'ne_centroid': 0.5820433436532507, 'ne_nearest': 0.5820433436532507, 'weighted_kNN': 0.6666666666666665, 'centroid_kNN': 0.5516129032258065, 'svm': 0.0}\n",
      "Sample 6\n",
      "Train\n",
      "NE centroid similarity model\n",
      "NE nearest similarity model\n",
      "SVM classifier model\n",
      "Weighted kNN model\n",
      "k = 1, metric: cosine\n",
      "[====================] 100%\n",
      "NE centroid + words kNN similarity model\n",
      "k = 10, metric: dot_prod\n",
      "[====================] 100%\n",
      "F1 scores: {'ne_centroid': 0.2704626334519573, 'ne_nearest': 0.1692307692307692, 'weighted_kNN': 0.7723214285714286, 'centroid_kNN': 0.040983606557377046, 'svm': 0.008474576271186442}\n",
      "Sample 7\n",
      "Train\n",
      "NE centroid similarity model\n",
      "NE nearest similarity model\n",
      "SVM classifier model\n",
      "Weighted kNN model\n",
      "k = 1, metric: cosine\n",
      "[====================] 100%\n",
      "NE centroid + words kNN similarity model\n",
      "k = 10, metric: dot_prod\n",
      "[====================] 100%\n",
      "F1 scores: {'ne_centroid': 0.4623376623376624, 'ne_nearest': 0.38650306748466257, 'weighted_kNN': 0.6113989637305699, 'centroid_kNN': 0.06666666666666668, 'svm': 0.07048458149779735}\n",
      "Sample 8\n",
      "Train\n",
      "NE centroid similarity model\n",
      "NE nearest similarity model\n",
      "SVM classifier model\n",
      "Weighted kNN model\n",
      "k = 1, metric: cosine\n",
      "[====================] 100%\n",
      "NE centroid + words kNN similarity model\n",
      "k = 10, metric: dot_prod\n",
      "[====================] 100%\n",
      "F1 scores: {'ne_centroid': 0.11952191235059763, 'ne_nearest': 0.10181818181818182, 'weighted_kNN': 0.6903353057199211, 'centroid_kNN': 0.6879271070615034, 'svm': 0.13765182186234817}\n",
      "Sample 9\n",
      "Train\n",
      "NE centroid similarity model\n",
      "NE nearest similarity model\n",
      "SVM classifier model\n",
      "Weighted kNN model\n",
      "k = 1, metric: cosine\n",
      "[====================] 100%\n",
      "NE centroid + words kNN similarity model\n",
      "k = 10, metric: dot_prod\n",
      "[====================] 100%\n",
      "F1 scores: {'ne_centroid': 0.5259259259259259, 'ne_nearest': 0.1339712918660287, 'weighted_kNN': 0.7945945945945946, 'centroid_kNN': 0.17741935483870966, 'svm': 0.35684647302904565}\n",
      "Sample 10\n",
      "Train\n",
      "NE centroid similarity model\n",
      "NE nearest similarity model\n",
      "SVM classifier model\n",
      "Weighted kNN model\n",
      "k = 1, metric: cosine\n",
      "[====================] 100%\n",
      "NE centroid + words kNN similarity model\n",
      "k = 10, metric: dot_prod\n",
      "[====================] 100%\n",
      "F1 scores: {'ne_centroid': 0.7363420427553444, 'ne_nearest': 0.6268656716417911, 'weighted_kNN': 0.754863813229572, 'centroid_kNN': 0.0, 'svm': 0.7609254498714653}\n",
      "ne_centroid F1: mean = 0.44835602736929314 std = 0.16122937858193667\n",
      "ne_nearest F1: mean = 0.386762741941035 std = 0.18626194017872685\n",
      "weighted_kNN F1: mean = 0.7339408828933586 std = 0.07411792847985377\n",
      "centroid_kNN F1: mean = 0.198843979927566 std = 0.23319618327525846\n",
      "svm F1: mean = 0.15780803815234395 std = 0.23014634156268307\n",
      "++++++++ Number of example sentences: 2 ++++++++\n",
      "Sample 1\n",
      "Train\n",
      "NE centroid similarity model\n",
      "NE nearest similarity model\n",
      "SVM classifier model\n",
      "Weighted kNN model\n",
      "k = 1, metric: cosine\n",
      "[====================] 100%\n",
      "NE centroid + words kNN similarity model\n",
      "k = 10, metric: dot_prod\n",
      "[====================] 100%\n",
      "F1 scores: {'ne_centroid': 0.2545454545454546, 'ne_nearest': 0.1621621621621622, 'weighted_kNN': 0.8035714285714285, 'centroid_kNN': 0.62015503875969, 'svm': 0.4501607717041801}\n",
      "Sample 2\n",
      "Train\n",
      "NE centroid similarity model\n",
      "NE nearest similarity model\n",
      "SVM classifier model\n",
      "Weighted kNN model\n",
      "k = 1, metric: cosine\n",
      "[====================] 100%\n",
      "NE centroid + words kNN similarity model\n",
      "k = 10, metric: dot_prod\n",
      "[====================] 100%\n",
      "F1 scores: {'ne_centroid': 0.425531914893617, 'ne_nearest': 0.3409090909090909, 'weighted_kNN': 0.7486910994764399, 'centroid_kNN': 0.7580645161290323, 'svm': 0.41025641025641024}\n",
      "Sample 3\n",
      "Train\n",
      "NE centroid similarity model\n",
      "NE nearest similarity model\n",
      "SVM classifier model\n",
      "Weighted kNN model\n",
      "k = 1, metric: cosine\n",
      "[====================] 100%\n",
      "NE centroid + words kNN similarity model\n",
      "k = 10, metric: dot_prod\n",
      "[====================] 100%\n",
      "F1 scores: {'ne_centroid': 0.20833333333333334, 'ne_nearest': 0.08968609865470852, 'weighted_kNN': 0.830188679245283, 'centroid_kNN': 0.75, 'svm': 0.4532374100719424}\n",
      "Sample 4\n",
      "Train\n",
      "NE centroid similarity model\n",
      "NE nearest similarity model\n",
      "SVM classifier model\n",
      "Weighted kNN model\n",
      "k = 1, metric: cosine\n",
      "[====================] 100%\n",
      "NE centroid + words kNN similarity model\n",
      "k = 10, metric: dot_prod\n",
      "[====================] 100%\n",
      "F1 scores: {'ne_centroid': 0.6289308176100629, 'ne_nearest': 0.21333333333333335, 'weighted_kNN': 0.7780678851174934, 'centroid_kNN': 0.8087167070217918, 'svm': 0.8133704735376045}\n",
      "Sample 5\n",
      "Train\n",
      "NE centroid similarity model\n",
      "NE nearest similarity model\n",
      "SVM classifier model\n",
      "Weighted kNN model\n",
      "k = 1, metric: cosine\n",
      "[====================] 100%\n",
      "NE centroid + words kNN similarity model\n",
      "k = 10, metric: dot_prod\n",
      "[====================] 100%\n",
      "F1 scores: {'ne_centroid': 0.48469387755102045, 'ne_nearest': 0.19742489270386268, 'weighted_kNN': 0.6569343065693432, 'centroid_kNN': 0.40476190476190477, 'svm': 0.653179190751445}\n",
      "Sample 6\n",
      "Train\n",
      "NE centroid similarity model\n",
      "NE nearest similarity model\n",
      "SVM classifier model\n",
      "Weighted kNN model\n",
      "k = 1, metric: cosine\n",
      "[====================] 100%\n",
      "NE centroid + words kNN similarity model\n",
      "k = 10, metric: dot_prod\n",
      "[====================] 100%\n",
      "F1 scores: {'ne_centroid': 0.5410334346504558, 'ne_nearest': 0.09053497942386832, 'weighted_kNN': 0.7655502392344498, 'centroid_kNN': 0.8024193548387096, 'svm': 0.8215962441314554}\n",
      "Sample 7\n",
      "Train\n",
      "NE centroid similarity model\n",
      "NE nearest similarity model\n",
      "SVM classifier model\n",
      "Weighted kNN model\n",
      "k = 1, metric: cosine\n",
      "[====================] 100%\n",
      "NE centroid + words kNN similarity model\n",
      "k = 10, metric: dot_prod\n",
      "[====================] 100%\n",
      "F1 scores: {'ne_centroid': 0.7298050139275766, 'ne_nearest': 0.037383177570093455, 'weighted_kNN': 0.8415841584158416, 'centroid_kNN': 0.7701863354037267, 'svm': 0.11659192825112108}\n",
      "Sample 8\n",
      "Train\n",
      "NE centroid similarity model\n",
      "NE nearest similarity model\n",
      "SVM classifier model\n",
      "Weighted kNN model\n",
      "k = 1, metric: cosine\n",
      "[====================] 100%\n",
      "NE centroid + words kNN similarity model\n",
      "k = 10, metric: dot_prod\n",
      "[====================] 100%\n",
      "F1 scores: {'ne_centroid': 0.31830238726790455, 'ne_nearest': 0.04065040650406505, 'weighted_kNN': 0.6758620689655173, 'centroid_kNN': 0.6902985074626866, 'svm': 0.15767634854771784}\n",
      "Sample 9\n",
      "Train\n",
      "NE centroid similarity model\n",
      "NE nearest similarity model\n",
      "SVM classifier model\n",
      "Weighted kNN model\n",
      "k = 1, metric: cosine\n",
      "[====================] 100%\n",
      "NE centroid + words kNN similarity model\n",
      "k = 10, metric: dot_prod\n",
      "[====================] 100%\n",
      "F1 scores: {'ne_centroid': 0.40131578947368424, 'ne_nearest': 0.19548872180451127, 'weighted_kNN': 0.7414448669201521, 'centroid_kNN': 0.6974789915966387, 'svm': 0.380952380952381}\n",
      "Sample 10\n",
      "Train\n",
      "NE centroid similarity model\n",
      "NE nearest similarity model\n",
      "SVM classifier model\n",
      "Weighted kNN model\n",
      "k = 1, metric: cosine\n",
      "[====================] 100%\n",
      "NE centroid + words kNN similarity model\n",
      "k = 10, metric: dot_prod\n",
      "[====================] 100%\n",
      "F1 scores: {'ne_centroid': 0.5382059800664452, 'ne_nearest': 0.44673539518900346, 'weighted_kNN': 0.577639751552795, 'centroid_kNN': 0.7188160676532771, 'svm': 0.2735042735042735}\n",
      "ne_centroid F1: mean = 0.45306980033195543 std = 0.15633369781061274\n",
      "ne_nearest F1: mean = 0.18143082582546993 std = 0.12446297395108913\n",
      "weighted_kNN F1: mean = 0.7419534484068744 std = 0.07874677223862132\n",
      "centroid_kNN F1: mean = 0.7020897423627457 std = 0.11272012050585972\n",
      "svm F1: mean = 0.4530525431708532 std = 0.2335450507542778\n",
      "++++++++ Number of example sentences: 3 ++++++++\n",
      "Sample 1\n",
      "Train\n"
     ]
    },
    {
     "name": "stdout",
     "output_type": "stream",
     "text": [
      "NE centroid similarity model\n",
      "NE nearest similarity model\n",
      "SVM classifier model\n",
      "Weighted kNN model\n",
      "k = 1, metric: cosine\n",
      "[====================] 100%\n",
      "NE centroid + words kNN similarity model\n",
      "k = 10, metric: dot_prod\n",
      "[====================] 100%\n",
      "F1 scores: {'ne_centroid': 0.6987341772151899, 'ne_nearest': 0.1417910447761194, 'weighted_kNN': 0.8397565922920893, 'centroid_kNN': 0.8528784648187632, 'svm': 0.8775981524249422}\n",
      "Sample 2\n",
      "Train\n",
      "NE centroid similarity model\n",
      "NE nearest similarity model\n",
      "SVM classifier model\n",
      "Weighted kNN model\n",
      "k = 1, metric: cosine\n",
      "[====================] 100%\n",
      "NE centroid + words kNN similarity model\n",
      "k = 10, metric: dot_prod\n",
      "[====================] 100%\n",
      "F1 scores: {'ne_centroid': 0.49446494464944646, 'ne_nearest': 0.3650793650793651, 'weighted_kNN': 0.8407960199004973, 'centroid_kNN': 0.8261851015801355, 'svm': 0.5652173913043478}\n",
      "Sample 3\n",
      "Train\n",
      "NE centroid similarity model\n",
      "NE nearest similarity model\n",
      "SVM classifier model\n",
      "Weighted kNN model\n",
      "k = 1, metric: cosine\n",
      "[====================] 100%\n",
      "NE centroid + words kNN similarity model\n",
      "k = 10, metric: dot_prod\n",
      "[====================] 100%\n",
      "F1 scores: {'ne_centroid': 0.5704225352112676, 'ne_nearest': 0.2743362831858407, 'weighted_kNN': 0.7465437788018435, 'centroid_kNN': 0.6573913043478261, 'svm': 0.8695652173913043}\n",
      "Sample 4\n",
      "Train\n",
      "NE centroid similarity model\n",
      "NE nearest similarity model\n",
      "SVM classifier model\n",
      "Weighted kNN model\n",
      "k = 1, metric: cosine\n",
      "[====================] 100%\n",
      "NE centroid + words kNN similarity model\n",
      "k = 10, metric: dot_prod\n",
      "[====================] 100%\n",
      "F1 scores: {'ne_centroid': 0.7877237851662404, 'ne_nearest': 0.5945945945945946, 'weighted_kNN': 0.8450704225352113, 'centroid_kNN': 0.8064516129032259, 'svm': 0.905759162303665}\n",
      "Sample 5\n",
      "Train\n",
      "NE centroid similarity model\n",
      "NE nearest similarity model\n",
      "SVM classifier model\n",
      "Weighted kNN model\n",
      "k = 1, metric: cosine\n",
      "[====================] 100%\n",
      "NE centroid + words kNN similarity model\n",
      "k = 10, metric: dot_prod\n",
      "[====================] 100%\n",
      "F1 scores: {'ne_centroid': 0.3088235294117647, 'ne_nearest': 0.12396694214876032, 'weighted_kNN': 0.7715736040609137, 'centroid_kNN': 0.7269503546099292, 'svm': 0.41114982578397213}\n",
      "Sample 6\n",
      "Train\n",
      "NE centroid similarity model\n",
      "NE nearest similarity model\n",
      "SVM classifier model\n",
      "Weighted kNN model\n",
      "k = 1, metric: cosine\n",
      "[====================] 100%\n",
      "NE centroid + words kNN similarity model\n",
      "k = 10, metric: dot_prod\n",
      "[====================] 100%\n",
      "F1 scores: {'ne_centroid': 0.32142857142857145, 'ne_nearest': 0.16666666666666669, 'weighted_kNN': 0.7807228915662651, 'centroid_kNN': 0.8436018957345971, 'svm': 0.4710144927536232}\n",
      "Sample 7\n",
      "Train\n",
      "NE centroid similarity model\n",
      "NE nearest similarity model\n",
      "SVM classifier model\n",
      "Weighted kNN model\n",
      "k = 1, metric: cosine\n",
      "[====================] 100%\n",
      "NE centroid + words kNN similarity model\n",
      "k = 10, metric: dot_prod\n",
      "[====================] 100%\n",
      "F1 scores: {'ne_centroid': 0.5862884160756502, 'ne_nearest': 0.09737827715355805, 'weighted_kNN': 0.7103594080338266, 'centroid_kNN': 0.7712665406427222, 'svm': 0.45871559633027525}\n",
      "Sample 8\n",
      "Train\n",
      "NE centroid similarity model\n",
      "NE nearest similarity model\n",
      "SVM classifier model\n",
      "Weighted kNN model\n",
      "k = 1, metric: cosine\n",
      "[====================] 100%\n",
      "NE centroid + words kNN similarity model\n",
      "k = 10, metric: dot_prod\n",
      "[====================] 100%\n",
      "F1 scores: {'ne_centroid': 0.5483870967741935, 'ne_nearest': 0.358974358974359, 'weighted_kNN': 0.8197530864197532, 'centroid_kNN': 0.8351648351648351, 'svm': 0.7113702623906706}\n",
      "Sample 9\n",
      "Train\n",
      "NE centroid similarity model\n",
      "NE nearest similarity model\n",
      "SVM classifier model\n",
      "Weighted kNN model\n",
      "k = 1, metric: cosine\n",
      "[====================] 100%\n",
      "NE centroid + words kNN similarity model\n",
      "k = 10, metric: dot_prod\n",
      "[====================] 100%\n",
      "F1 scores: {'ne_centroid': 0.7394209354120268, 'ne_nearest': 0.6333333333333333, 'weighted_kNN': 0.6950000000000001, 'centroid_kNN': 0.7592954990215264, 'svm': 0.6647727272727274}\n",
      "Sample 10\n",
      "Train\n",
      "NE centroid similarity model\n",
      "NE nearest similarity model\n",
      "SVM classifier model\n",
      "Weighted kNN model\n",
      "k = 1, metric: cosine\n",
      "[====================] 100%\n",
      "NE centroid + words kNN similarity model\n",
      "k = 10, metric: dot_prod\n",
      "[====================] 100%\n",
      "F1 scores: {'ne_centroid': 0.689075630252101, 'ne_nearest': 0.06451612903225806, 'weighted_kNN': 0.6421404682274248, 'centroid_kNN': 0.0, 'svm': 0.8549618320610688}\n",
      "ne_centroid F1: mean = 0.5744769621596453 std = 0.15591575266223265\n",
      "ne_nearest F1: mean = 0.2820636994944855 std = 0.19322412050672935\n",
      "weighted_kNN F1: mean = 0.7691716271837825 std = 0.0664679212522804\n",
      "centroid_kNN F1: mean = 0.707918560882356 std = 0.24290474478552979\n",
      "svm F1: mean = 0.6790124660016597 std = 0.1832654488639994\n",
      "++++++++ Number of example sentences: 4 ++++++++\n",
      "Sample 1\n",
      "Train\n",
      "NE centroid similarity model\n",
      "NE nearest similarity model\n",
      "SVM classifier model\n",
      "Weighted kNN model\n",
      "k = 1, metric: cosine\n",
      "[====================] 100%\n",
      "NE centroid + words kNN similarity model\n",
      "k = 10, metric: dot_prod\n",
      "[====================] 100%\n",
      "F1 scores: {'ne_centroid': 0.4742268041237113, 'ne_nearest': 0.21481481481481482, 'weighted_kNN': 0.6791808873720137, 'centroid_kNN': 0.7544204322200392, 'svm': 0.6647398843930636}\n",
      "Sample 2\n",
      "Train\n",
      "NE centroid similarity model\n",
      "NE nearest similarity model\n",
      "SVM classifier model\n",
      "Weighted kNN model\n",
      "k = 1, metric: cosine\n",
      "[====================] 100%\n",
      "NE centroid + words kNN similarity model\n",
      "k = 10, metric: dot_prod\n",
      "[====================] 100%\n",
      "F1 scores: {'ne_centroid': 0.5075445816186557, 'ne_nearest': 0.10830324909747292, 'weighted_kNN': 0.8039215686274509, 'centroid_kNN': 0.8451882845188284, 'svm': 0.8583333333333334}\n",
      "Sample 3\n",
      "Train\n",
      "NE centroid similarity model\n",
      "NE nearest similarity model\n",
      "SVM classifier model\n",
      "Weighted kNN model\n",
      "k = 1, metric: cosine\n",
      "[====================] 100%\n",
      "NE centroid + words kNN similarity model\n",
      "k = 10, metric: dot_prod\n",
      "[====================] 100%\n",
      "F1 scores: {'ne_centroid': 0.6234234234234234, 'ne_nearest': 0.19512195121951217, 'weighted_kNN': 0.7984189723320158, 'centroid_kNN': 0.8598130841121495, 'svm': 0.8631090487238979}\n",
      "Sample 4\n",
      "Train\n",
      "NE centroid similarity model\n",
      "NE nearest similarity model\n",
      "SVM classifier model\n",
      "Weighted kNN model\n",
      "k = 1, metric: cosine\n",
      "[====================] 100%\n",
      "NE centroid + words kNN similarity model\n",
      "k = 10, metric: dot_prod\n",
      "[====================] 100%\n",
      "F1 scores: {'ne_centroid': 0.6514285714285715, 'ne_nearest': 0.062222222222222234, 'weighted_kNN': 0.7562189054726367, 'centroid_kNN': 0.8272727272727273, 'svm': 0.7521865889212828}\n",
      "Sample 5\n",
      "Train\n",
      "NE centroid similarity model\n",
      "NE nearest similarity model\n",
      "SVM classifier model\n",
      "Weighted kNN model\n",
      "k = 1, metric: cosine\n",
      "[====================] 100%\n",
      "NE centroid + words kNN similarity model\n",
      "k = 10, metric: dot_prod\n",
      "[====================] 100%\n",
      "F1 scores: {'ne_centroid': 0.7855421686746988, 'ne_nearest': 0.27169811320754716, 'weighted_kNN': 0.782608695652174, 'centroid_kNN': 0.7786885245901639, 'svm': 0.830188679245283}\n",
      "Sample 6\n",
      "Train\n",
      "NE centroid similarity model\n",
      "NE nearest similarity model\n",
      "SVM classifier model\n",
      "Weighted kNN model\n",
      "k = 1, metric: cosine\n",
      "[====================] 100%\n",
      "NE centroid + words kNN similarity model\n",
      "k = 10, metric: dot_prod\n",
      "[====================] 100%\n",
      "F1 scores: {'ne_centroid': 0.7930174563591024, 'ne_nearest': 0.3096234309623431, 'weighted_kNN': 0.8637413394919169, 'centroid_kNN': 0.8211920529801324, 'svm': 0.878048780487805}\n",
      "Sample 7\n",
      "Train\n",
      "NE centroid similarity model\n",
      "NE nearest similarity model\n",
      "SVM classifier model\n",
      "Weighted kNN model\n",
      "k = 1, metric: cosine\n",
      "[====================] 100%\n",
      "NE centroid + words kNN similarity model\n",
      "k = 10, metric: dot_prod\n",
      "[====================] 100%\n",
      "F1 scores: {'ne_centroid': 0.5714285714285715, 'ne_nearest': 0.09401709401709402, 'weighted_kNN': 0.6578366445916115, 'centroid_kNN': 0.6666666666666666, 'svm': 0.8146453089244852}\n",
      "Sample 8\n",
      "Train\n",
      "NE centroid similarity model\n",
      "NE nearest similarity model\n",
      "SVM classifier model\n",
      "Weighted kNN model\n",
      "k = 1, metric: cosine\n",
      "[====================] 100%\n",
      "NE centroid + words kNN similarity model\n",
      "k = 10, metric: dot_prod\n",
      "[====================] 100%\n",
      "F1 scores: {'ne_centroid': 0.7680000000000001, 'ne_nearest': 0.09523809523809523, 'weighted_kNN': 0.8365384615384617, 'centroid_kNN': 0.810924369747899, 'svm': 0.8708133971291866}\n",
      "Sample 9\n",
      "Train\n"
     ]
    },
    {
     "name": "stdout",
     "output_type": "stream",
     "text": [
      "NE centroid similarity model\n",
      "NE nearest similarity model\n",
      "SVM classifier model\n",
      "Weighted kNN model\n",
      "k = 1, metric: cosine\n",
      "[====================] 100%\n",
      "NE centroid + words kNN similarity model\n",
      "k = 10, metric: dot_prod\n",
      "[====================] 100%\n",
      "F1 scores: {'ne_centroid': 0.6210826210826211, 'ne_nearest': 0.33587786259541985, 'weighted_kNN': 0.7242026266416511, 'centroid_kNN': 0.4483430799220274, 'svm': 0.8188585607940446}\n",
      "Sample 10\n",
      "Train\n",
      "NE centroid similarity model\n",
      "NE nearest similarity model\n",
      "SVM classifier model\n",
      "Weighted kNN model\n",
      "k = 1, metric: cosine\n",
      "[====================] 100%\n",
      "NE centroid + words kNN similarity model\n",
      "k = 10, metric: dot_prod\n",
      "[====================] 100%\n",
      "F1 scores: {'ne_centroid': 0.3561643835616438, 'ne_nearest': 0.1917808219178082, 'weighted_kNN': 0.7686424474187381, 'centroid_kNN': 0.7800000000000001, 'svm': 0.5581395348837209}\n",
      "ne_centroid F1: mean = 0.6151858581701 std = 0.13633656851024403\n",
      "ne_nearest F1: mean = 0.18786976552923296 std = 0.0916834532101924\n",
      "weighted_kNN F1: mean = 0.767131054913867 std = 0.061941648011726275\n",
      "centroid_kNN F1: mean = 0.7592509222030634 std = 0.11605989940207745\n",
      "svm F1: mean = 0.7909063116836104 std = 0.09910808239886595\n",
      "++++++++ Number of example sentences: 5 ++++++++\n",
      "Sample 1\n",
      "Train\n",
      "NE centroid similarity model\n",
      "NE nearest similarity model\n",
      "SVM classifier model\n",
      "Weighted kNN model\n",
      "k = 1, metric: cosine\n",
      "[====================] 100%\n",
      "NE centroid + words kNN similarity model\n",
      "k = 10, metric: dot_prod\n",
      "[====================] 100%\n",
      "F1 scores: {'ne_centroid': 0.7323943661971831, 'ne_nearest': 0.25, 'weighted_kNN': 0.7080459770114942, 'centroid_kNN': 0.7763496143958868, 'svm': 0.7896103896103895}\n",
      "Sample 2\n",
      "Train\n",
      "NE centroid similarity model\n",
      "NE nearest similarity model\n",
      "SVM classifier model\n",
      "Weighted kNN model\n",
      "k = 1, metric: cosine\n",
      "[====================] 100%\n",
      "NE centroid + words kNN similarity model\n",
      "k = 10, metric: dot_prod\n",
      "[====================] 100%\n",
      "F1 scores: {'ne_centroid': 0.6921119592875317, 'ne_nearest': 0.380327868852459, 'weighted_kNN': 0.7415254237288136, 'centroid_kNN': 0.8333333333333334, 'svm': 0.8584269662921348}\n",
      "Sample 3\n",
      "Train\n",
      "NE centroid similarity model\n",
      "NE nearest similarity model\n",
      "SVM classifier model\n",
      "Weighted kNN model\n",
      "k = 1, metric: cosine\n",
      "[====================] 100%\n",
      "NE centroid + words kNN similarity model\n",
      "k = 10, metric: dot_prod\n",
      "[====================] 100%\n",
      "F1 scores: {'ne_centroid': 0.6459627329192545, 'ne_nearest': 0.09523809523809523, 'weighted_kNN': 0.8286445012787724, 'centroid_kNN': 0.8066825775656324, 'svm': 0.8507462686567164}\n",
      "Sample 4\n",
      "Train\n",
      "NE centroid similarity model\n",
      "NE nearest similarity model\n",
      "SVM classifier model\n",
      "Weighted kNN model\n",
      "k = 1, metric: cosine\n",
      "[====================] 100%\n",
      "NE centroid + words kNN similarity model\n",
      "k = 10, metric: dot_prod\n",
      "[====================] 100%\n",
      "F1 scores: {'ne_centroid': 0.5599999999999999, 'ne_nearest': 0.18972332015810275, 'weighted_kNN': 0.7688984881209504, 'centroid_kNN': 0.863013698630137, 'svm': 0.8681818181818183}\n",
      "Sample 5\n",
      "Train\n",
      "NE centroid similarity model\n",
      "NE nearest similarity model\n",
      "SVM classifier model\n",
      "Weighted kNN model\n",
      "k = 1, metric: cosine\n",
      "[====================] 100%\n",
      "NE centroid + words kNN similarity model\n",
      "k = 10, metric: dot_prod\n",
      "[====================] 100%\n",
      "F1 scores: {'ne_centroid': 0.8050632911392405, 'ne_nearest': 0.3745019920318725, 'weighted_kNN': 0.845, 'centroid_kNN': 0.8564231738035265, 'svm': 0.8452088452088452}\n",
      "Sample 6\n",
      "Train\n",
      "NE centroid similarity model\n",
      "NE nearest similarity model\n",
      "SVM classifier model\n",
      "Weighted kNN model\n",
      "k = 1, metric: cosine\n",
      "[====================] 100%\n",
      "NE centroid + words kNN similarity model\n",
      "k = 10, metric: dot_prod\n",
      "[====================] 100%\n",
      "F1 scores: {'ne_centroid': 0.7245841035120147, 'ne_nearest': 0.673972602739726, 'weighted_kNN': 0.817155756207675, 'centroid_kNN': 0.8166666666666665, 'svm': 0.846846846846847}\n",
      "Sample 7\n",
      "Train\n",
      "NE centroid similarity model\n",
      "NE nearest similarity model\n",
      "SVM classifier model\n",
      "Weighted kNN model\n",
      "k = 1, metric: cosine\n",
      "[====================] 100%\n",
      "NE centroid + words kNN similarity model\n",
      "k = 10, metric: dot_prod\n",
      "[====================] 100%\n",
      "F1 scores: {'ne_centroid': 0.23430962343096234, 'ne_nearest': 0.16470588235294117, 'weighted_kNN': 0.7532467532467533, 'centroid_kNN': 0.7822014051522248, 'svm': 0.33962264150943394}\n",
      "Sample 8\n",
      "Train\n",
      "NE centroid similarity model\n",
      "NE nearest similarity model\n",
      "SVM classifier model\n",
      "Weighted kNN model\n",
      "k = 1, metric: cosine\n",
      "[====================] 100%\n",
      "NE centroid + words kNN similarity model\n",
      "k = 10, metric: dot_prod\n",
      "[====================] 100%\n",
      "F1 scores: {'ne_centroid': 0.43866171003717475, 'ne_nearest': 0.22314049586776857, 'weighted_kNN': 0.6653386454183267, 'centroid_kNN': 0.7652582159624413, 'svm': 0.7272727272727272}\n",
      "Sample 9\n",
      "Train\n",
      "NE centroid similarity model\n",
      "NE nearest similarity model\n",
      "SVM classifier model\n",
      "Weighted kNN model\n",
      "k = 1, metric: cosine\n",
      "[====================] 100%\n",
      "NE centroid + words kNN similarity model\n",
      "k = 10, metric: dot_prod\n",
      "[====================] 100%\n",
      "F1 scores: {'ne_centroid': 0.8050632911392405, 'ne_nearest': 0.3484848484848485, 'weighted_kNN': 0.823529411764706, 'centroid_kNN': 0.8465116279069768, 'svm': 0.8640776699029126}\n",
      "Sample 10\n",
      "Train\n",
      "NE centroid similarity model\n",
      "NE nearest similarity model\n",
      "SVM classifier model\n",
      "Weighted kNN model\n",
      "k = 1, metric: cosine\n",
      "[====================] 100%\n",
      "NE centroid + words kNN similarity model\n",
      "k = 10, metric: dot_prod\n",
      "[====================] 100%\n",
      "F1 scores: {'ne_centroid': 0.7468671679197996, 'ne_nearest': 0.41605839416058393, 'weighted_kNN': 0.8435374149659863, 'centroid_kNN': 0.8232848232848233, 'svm': 0.8672985781990522}\n",
      "ne_centroid F1: mean = 0.6385018245582402 std = 0.17200410316284184\n",
      "ne_nearest F1: mean = 0.31161534998863977 std = 0.15720370675311401\n",
      "weighted_kNN F1: mean = 0.7794922371743478 std = 0.058774954477326107\n",
      "centroid_kNN F1: mean = 0.8169725136701649 std = 0.03239725464902283\n",
      "svm F1: mean = 0.7857292751680877 std = 0.1545377443204523\n",
      "++++++++ Number of example sentences: 6 ++++++++\n",
      "Sample 1\n",
      "Train\n",
      "NE centroid similarity model\n",
      "NE nearest similarity model\n",
      "SVM classifier model\n",
      "Weighted kNN model\n",
      "k = 1, metric: cosine\n",
      "[====================] 100%\n",
      "NE centroid + words kNN similarity model\n",
      "k = 10, metric: dot_prod\n",
      "[====================] 100%\n",
      "F1 scores: {'ne_centroid': 0.7937336814621408, 'ne_nearest': 0.10628019323671499, 'weighted_kNN': 0.7760416666666666, 'centroid_kNN': 0.8407960199004973, 'svm': 0.8668407310704961}\n",
      "Sample 2\n",
      "Train\n",
      "NE centroid similarity model\n",
      "NE nearest similarity model\n",
      "SVM classifier model\n",
      "Weighted kNN model\n",
      "k = 1, metric: cosine\n",
      "[====================] 100%\n",
      "NE centroid + words kNN similarity model\n",
      "k = 10, metric: dot_prod\n",
      "[====================] 100%\n",
      "F1 scores: {'ne_centroid': 0.6028985507246377, 'ne_nearest': 0.1935483870967742, 'weighted_kNN': 0.7950310559006212, 'centroid_kNN': 0.8314606741573034, 'svm': 0.8600823045267489}\n",
      "Sample 3\n",
      "Train\n",
      "NE centroid similarity model\n",
      "NE nearest similarity model\n",
      "SVM classifier model\n",
      "Weighted kNN model\n",
      "k = 1, metric: cosine\n",
      "[====================] 100%\n",
      "NE centroid + words kNN similarity model\n",
      "k = 10, metric: dot_prod\n",
      "[====================] 100%\n",
      "F1 scores: {'ne_centroid': 0.6985915492957747, 'ne_nearest': 0.14746543778801843, 'weighted_kNN': 0.8295165394402036, 'centroid_kNN': 0.8429319371727748, 'svm': 0.849740932642487}\n",
      "Sample 4\n",
      "Train\n",
      "NE centroid similarity model\n",
      "NE nearest similarity model\n",
      "SVM classifier model\n",
      "Weighted kNN model\n",
      "k = 1, metric: cosine\n",
      "[====================] 100%\n",
      "NE centroid + words kNN similarity model\n",
      "k = 10, metric: dot_prod\n",
      "[====================] 100%\n",
      "F1 scores: {'ne_centroid': 0.5758157389635317, 'ne_nearest': 0.06477732793522267, 'weighted_kNN': 0.7625570776255709, 'centroid_kNN': 0.8531468531468531, 'svm': 0.8633093525179856}\n",
      "Sample 5\n",
      "Train\n",
      "NE centroid similarity model\n",
      "NE nearest similarity model\n",
      "SVM classifier model\n",
      "Weighted kNN model\n",
      "k = 1, metric: cosine\n",
      "[====================] 100%\n",
      "NE centroid + words kNN similarity model\n",
      "k = 10, metric: dot_prod\n",
      "[====================] 100%\n",
      "F1 scores: {'ne_centroid': 0.7386363636363636, 'ne_nearest': 0.11320754716981131, 'weighted_kNN': 0.8544152744630072, 'centroid_kNN': 0.8703703703703703, 'svm': 0.8982630272952853}\n",
      "Sample 6\n",
      "Train\n",
      "NE centroid similarity model\n",
      "NE nearest similarity model\n"
     ]
    },
    {
     "name": "stdout",
     "output_type": "stream",
     "text": [
      "SVM classifier model\n",
      "Weighted kNN model\n",
      "k = 1, metric: cosine\n",
      "[====================] 100%\n",
      "NE centroid + words kNN similarity model\n",
      "k = 10, metric: dot_prod\n",
      "[====================] 100%\n",
      "F1 scores: {'ne_centroid': 0.7465940054495913, 'ne_nearest': 0.48951048951048953, 'weighted_kNN': 0.8224299065420559, 'centroid_kNN': 0.851764705882353, 'svm': 0.8619047619047618}\n",
      "Sample 7\n",
      "Train\n",
      "NE centroid similarity model\n",
      "NE nearest similarity model\n",
      "SVM classifier model\n",
      "Weighted kNN model\n",
      "k = 1, metric: cosine\n",
      "[====================] 100%\n",
      "NE centroid + words kNN similarity model\n",
      "k = 10, metric: dot_prod\n",
      "[====================] 100%\n",
      "F1 scores: {'ne_centroid': 0.7759036144578314, 'ne_nearest': 0.13824884792626727, 'weighted_kNN': 0.7853881278538813, 'centroid_kNN': 0.8306264501160093, 'svm': 0.8063063063063063}\n",
      "Sample 8\n",
      "Train\n",
      "NE centroid similarity model\n",
      "NE nearest similarity model\n",
      "SVM classifier model\n",
      "Weighted kNN model\n",
      "k = 1, metric: cosine\n",
      "[====================] 100%\n",
      "NE centroid + words kNN similarity model\n",
      "k = 10, metric: dot_prod\n",
      "[====================] 100%\n",
      "F1 scores: {'ne_centroid': 0.8318181818181819, 'ne_nearest': 0.0881057268722467, 'weighted_kNN': 0.8289473684210527, 'centroid_kNN': 0.8888888888888888, 'svm': 0.8883928571428572}\n",
      "Sample 9\n",
      "Train\n",
      "NE centroid similarity model\n",
      "NE nearest similarity model\n",
      "SVM classifier model\n",
      "Weighted kNN model\n",
      "k = 1, metric: cosine\n",
      "[====================] 100%\n",
      "NE centroid + words kNN similarity model\n",
      "k = 10, metric: dot_prod\n",
      "[====================] 100%\n",
      "F1 scores: {'ne_centroid': 0.703601108033241, 'ne_nearest': 0.2541806020066889, 'weighted_kNN': 0.7780040733197556, 'centroid_kNN': 0.8606965174129353, 'svm': 0.8779342723004694}\n",
      "Sample 10\n",
      "Train\n",
      "NE centroid similarity model\n",
      "NE nearest similarity model\n",
      "SVM classifier model\n",
      "Weighted kNN model\n",
      "k = 1, metric: cosine\n",
      "[====================] 100%\n",
      "NE centroid + words kNN similarity model\n",
      "k = 10, metric: dot_prod\n",
      "[====================] 100%\n",
      "F1 scores: {'ne_centroid': 0.32, 'ne_nearest': 0.17793594306049823, 'weighted_kNN': 0.7510373443983402, 'centroid_kNN': 0.7990970654627539, 'svm': 0.7567567567567567}\n",
      "ne_centroid F1: mean = 0.6787592793841294 std = 0.14154181589026135\n",
      "ne_nearest F1: mean = 0.17732605026027323 std = 0.11654790584840595\n",
      "weighted_kNN F1: mean = 0.7983368434631155 std = 0.03200151865763959\n",
      "centroid_kNN F1: mean = 0.846977948251074 std = 0.02325558556726703\n",
      "svm F1: mean = 0.8529531302464154 std = 0.039754344130874274\n",
      "++++++++ Number of example sentences: 7 ++++++++\n",
      "Sample 1\n",
      "Train\n",
      "NE centroid similarity model\n",
      "NE nearest similarity model\n",
      "SVM classifier model\n",
      "Weighted kNN model\n",
      "k = 1, metric: cosine\n",
      "[====================] 100%\n",
      "NE centroid + words kNN similarity model\n",
      "k = 10, metric: dot_prod\n",
      "[====================] 100%\n",
      "F1 scores: {'ne_centroid': 0.815668202764977, 'ne_nearest': 0.035398230088495575, 'weighted_kNN': 0.8009259259259259, 'centroid_kNN': 0.8571428571428571, 'svm': 0.8440366972477064}\n",
      "Sample 2\n",
      "Train\n",
      "NE centroid similarity model\n",
      "NE nearest similarity model\n",
      "SVM classifier model\n",
      "Weighted kNN model\n",
      "k = 1, metric: cosine\n",
      "[====================] 100%\n",
      "NE centroid + words kNN similarity model\n",
      "k = 10, metric: dot_prod\n",
      "[====================] 100%\n",
      "F1 scores: {'ne_centroid': 0.7696629213483147, 'ne_nearest': 0.34749034749034746, 'weighted_kNN': 0.8434343434343434, 'centroid_kNN': 0.8523676880222841, 'svm': 0.8435013262599469}\n",
      "Sample 3\n",
      "Train\n",
      "NE centroid similarity model\n",
      "NE nearest similarity model\n",
      "SVM classifier model\n",
      "Weighted kNN model\n",
      "k = 1, metric: cosine\n",
      "[====================] 100%\n",
      "NE centroid + words kNN similarity model\n",
      "k = 10, metric: dot_prod\n",
      "[====================] 100%\n",
      "F1 scores: {'ne_centroid': 0.7048458149779736, 'ne_nearest': 0.3769230769230769, 'weighted_kNN': 0.8, 'centroid_kNN': 0.8282352941176471, 'svm': 0.836027713625866}\n",
      "Sample 4\n",
      "Train\n",
      "NE centroid similarity model\n",
      "NE nearest similarity model\n",
      "SVM classifier model\n",
      "Weighted kNN model\n",
      "k = 1, metric: cosine\n",
      "[====================] 100%\n",
      "NE centroid + words kNN similarity model\n",
      "k = 10, metric: dot_prod\n",
      "[====================] 100%\n",
      "F1 scores: {'ne_centroid': 0.7365853658536584, 'ne_nearest': 0.17228464419475656, 'weighted_kNN': 0.8445378151260504, 'centroid_kNN': 0.8607068607068608, 'svm': 0.8686440677966102}\n",
      "Sample 5\n",
      "Train\n",
      "NE centroid similarity model\n",
      "NE nearest similarity model\n",
      "SVM classifier model\n",
      "Weighted kNN model\n",
      "k = 1, metric: cosine\n",
      "[====================] 100%\n",
      "NE centroid + words kNN similarity model\n",
      "k = 10, metric: dot_prod\n",
      "[====================] 100%\n",
      "F1 scores: {'ne_centroid': 0.7574931880108992, 'ne_nearest': 0.2362204724409449, 'weighted_kNN': 0.792079207920792, 'centroid_kNN': 0.8671679197994987, 'svm': 0.865}\n",
      "Sample 6\n",
      "Train\n",
      "NE centroid similarity model\n",
      "NE nearest similarity model\n",
      "SVM classifier model\n",
      "Weighted kNN model\n",
      "k = 1, metric: cosine\n",
      "[====================] 100%\n",
      "NE centroid + words kNN similarity model\n",
      "k = 10, metric: dot_prod\n",
      "[====================] 100%\n",
      "F1 scores: {'ne_centroid': 0.7055961070559611, 'ne_nearest': 0.08284023668639053, 'weighted_kNN': 0.7910447761194029, 'centroid_kNN': 0.7841409691629957, 'svm': 0.8214285714285714}\n",
      "Sample 7\n",
      "Train\n",
      "NE centroid similarity model\n",
      "NE nearest similarity model\n",
      "SVM classifier model\n",
      "Weighted kNN model\n",
      "k = 1, metric: cosine\n",
      "[====================] 100%\n",
      "NE centroid + words kNN similarity model\n",
      "k = 10, metric: dot_prod\n",
      "[====================] 100%\n",
      "F1 scores: {'ne_centroid': 0.7735042735042734, 'ne_nearest': 0.19672131147540986, 'weighted_kNN': 0.8329411764705883, 'centroid_kNN': 0.8644859813084113, 'svm': 0.8406466512702079}\n",
      "Sample 8\n",
      "Train\n",
      "NE centroid similarity model\n",
      "NE nearest similarity model\n",
      "SVM classifier model\n",
      "Weighted kNN model\n",
      "k = 1, metric: cosine\n",
      "[====================] 100%\n",
      "NE centroid + words kNN similarity model\n",
      "k = 10, metric: dot_prod\n",
      "[====================] 100%\n",
      "F1 scores: {'ne_centroid': 0.7999999999999999, 'ne_nearest': 0.4176706827309236, 'weighted_kNN': 0.8571428571428571, 'centroid_kNN': 0.8949999999999999, 'svm': 0.9012658227848102}\n",
      "Sample 9\n",
      "Train\n",
      "NE centroid similarity model\n",
      "NE nearest similarity model\n",
      "SVM classifier model\n",
      "Weighted kNN model\n",
      "k = 1, metric: cosine\n",
      "[====================] 100%\n",
      "NE centroid + words kNN similarity model\n",
      "k = 10, metric: dot_prod\n",
      "[====================] 100%\n",
      "F1 scores: {'ne_centroid': 0.5572649572649573, 'ne_nearest': 0.20149253731343283, 'weighted_kNN': 0.7434782608695651, 'centroid_kNN': 0.6646341463414633, 'svm': 0.8018223234624146}\n",
      "Sample 10\n",
      "Train\n",
      "NE centroid similarity model\n",
      "NE nearest similarity model\n",
      "SVM classifier model\n",
      "Weighted kNN model\n",
      "k = 1, metric: cosine\n",
      "[====================] 100%\n",
      "NE centroid + words kNN similarity model\n",
      "k = 10, metric: dot_prod\n",
      "[====================] 100%\n",
      "F1 scores: {'ne_centroid': 0.7389162561576355, 'ne_nearest': 0.2894736842105263, 'weighted_kNN': 0.7876447876447876, 'centroid_kNN': 0.8074534161490683, 'svm': 0.8391304347826087}\n",
      "ne_centroid F1: mean = 0.735953708693865 std = 0.0687711885122001\n",
      "ne_nearest F1: mean = 0.23565152235543046 std = 0.1177472409060768\n",
      "weighted_kNN F1: mean = 0.8093229150654313 std = 0.0329280572304577\n",
      "centroid_kNN F1: mean = 0.8281335132751085 std = 0.062370856811189146\n",
      "svm F1: mean = 0.8461503608658741 std = 0.025823738670926202\n",
      "++++++++ Number of example sentences: 8 ++++++++\n",
      "Sample 1\n",
      "Train\n",
      "NE centroid similarity model\n",
      "NE nearest similarity model\n",
      "SVM classifier model\n",
      "Weighted kNN model\n",
      "k = 1, metric: cosine\n",
      "[====================] 100%\n",
      "NE centroid + words kNN similarity model\n",
      "k = 10, metric: dot_prod\n",
      "[====================] 100%\n",
      "F1 scores: {'ne_centroid': 0.7824267782426778, 'ne_nearest': 0.13076923076923075, 'weighted_kNN': 0.7924528301886793, 'centroid_kNN': 0.8053691275167785, 'svm': 0.8666666666666667}\n",
      "Sample 2\n",
      "Train\n",
      "NE centroid similarity model\n",
      "NE nearest similarity model\n",
      "SVM classifier model\n",
      "Weighted kNN model\n",
      "k = 1, metric: cosine\n",
      "[====================] 100%\n",
      "NE centroid + words kNN similarity model\n",
      "k = 10, metric: dot_prod\n",
      "[====================] 100%\n",
      "F1 scores: {'ne_centroid': 0.558282208588957, 'ne_nearest': 0.28671328671328666, 'weighted_kNN': 0.7896825396825398, 'centroid_kNN': 0.8794642857142857, 'svm': 0.8725701943844493}\n",
      "Sample 3\n",
      "Train\n",
      "NE centroid similarity model\n",
      "NE nearest similarity model\n",
      "SVM classifier model\n",
      "Weighted kNN model\n",
      "k = 1, metric: cosine\n"
     ]
    },
    {
     "name": "stdout",
     "output_type": "stream",
     "text": [
      "[====================] 100%\n",
      "NE centroid + words kNN similarity model\n",
      "k = 10, metric: dot_prod\n",
      "[====================] 100%\n",
      "F1 scores: {'ne_centroid': 0.6183844011142061, 'ne_nearest': 0.1516245487364621, 'weighted_kNN': 0.7240618101545253, 'centroid_kNN': 0.6366559485530546, 'svm': 0.772823779193206}\n",
      "Sample 4\n",
      "Train\n",
      "NE centroid similarity model\n",
      "NE nearest similarity model\n",
      "SVM classifier model\n",
      "Weighted kNN model\n",
      "k = 1, metric: cosine\n",
      "[====================] 100%\n",
      "NE centroid + words kNN similarity model\n",
      "k = 10, metric: dot_prod\n",
      "[====================] 100%\n",
      "F1 scores: {'ne_centroid': 0.7582417582417582, 'ne_nearest': 0.5733788395904437, 'weighted_kNN': 0.8526315789473685, 'centroid_kNN': 0.8804347826086957, 'svm': 0.869109947643979}\n",
      "Sample 5\n",
      "Train\n",
      "NE centroid similarity model\n",
      "NE nearest similarity model\n",
      "SVM classifier model\n",
      "Weighted kNN model\n",
      "k = 1, metric: cosine\n",
      "[====================] 100%\n",
      "NE centroid + words kNN similarity model\n",
      "k = 10, metric: dot_prod\n",
      "[====================] 100%\n",
      "F1 scores: {'ne_centroid': 0.5368731563421829, 'ne_nearest': 0.24734982332155475, 'weighted_kNN': 0.7286527514231499, 'centroid_kNN': 0.8475336322869954, 'svm': 0.8728070175438596}\n",
      "Sample 6\n",
      "Train\n",
      "NE centroid similarity model\n",
      "NE nearest similarity model\n",
      "SVM classifier model\n",
      "Weighted kNN model\n",
      "k = 1, metric: cosine\n",
      "[====================] 100%\n",
      "NE centroid + words kNN similarity model\n",
      "k = 10, metric: dot_prod\n",
      "[====================] 100%\n",
      "F1 scores: {'ne_centroid': 0.7822014051522248, 'ne_nearest': 0.274914089347079, 'weighted_kNN': 0.8220858895705522, 'centroid_kNN': 0.8406466512702079, 'svm': 0.8806941431670281}\n",
      "Sample 7\n",
      "Train\n",
      "NE centroid similarity model\n",
      "NE nearest similarity model\n",
      "SVM classifier model\n",
      "Weighted kNN model\n",
      "k = 1, metric: cosine\n",
      "[====================] 100%\n",
      "NE centroid + words kNN similarity model\n",
      "k = 10, metric: dot_prod\n",
      "[====================] 100%\n",
      "F1 scores: {'ne_centroid': 0.7738693467336683, 'ne_nearest': 0.30344827586206896, 'weighted_kNN': 0.8065173116089613, 'centroid_kNN': 0.85785536159601, 'svm': 0.8237885462555066}\n",
      "Sample 8\n",
      "Train\n",
      "NE centroid similarity model\n",
      "NE nearest similarity model\n",
      "SVM classifier model\n",
      "Weighted kNN model\n",
      "k = 1, metric: cosine\n",
      "[====================] 100%\n",
      "NE centroid + words kNN similarity model\n",
      "k = 10, metric: dot_prod\n",
      "[====================] 100%\n",
      "F1 scores: {'ne_centroid': 0.7259953161592506, 'ne_nearest': 0.2, 'weighted_kNN': 0.8082474226804124, 'centroid_kNN': 0.8641975308641975, 'svm': 0.8681818181818182}\n",
      "Sample 9\n",
      "Train\n",
      "NE centroid similarity model\n",
      "NE nearest similarity model\n",
      "SVM classifier model\n",
      "Weighted kNN model\n",
      "k = 1, metric: cosine\n",
      "[====================] 100%\n",
      "NE centroid + words kNN similarity model\n",
      "k = 10, metric: dot_prod\n",
      "[====================] 100%\n",
      "F1 scores: {'ne_centroid': 0.7394636015325672, 'ne_nearest': 0.2053231939163498, 'weighted_kNN': 0.868995633187773, 'centroid_kNN': 0.9090909090909092, 'svm': 0.8923076923076922}\n",
      "Sample 10\n",
      "Train\n",
      "NE centroid similarity model\n",
      "NE nearest similarity model\n",
      "SVM classifier model\n",
      "Weighted kNN model\n",
      "k = 1, metric: cosine\n",
      "[====================] 100%\n",
      "NE centroid + words kNN similarity model\n",
      "k = 10, metric: dot_prod\n",
      "[====================] 100%\n",
      "F1 scores: {'ne_centroid': 0.8043956043956043, 'ne_nearest': 0.2578125, 'weighted_kNN': 0.8528784648187632, 'centroid_kNN': 0.8844444444444445, 'svm': 0.8758169934640524}\n",
      "ne_centroid F1: mean = 0.7080133576503098 std = 0.09393873992823039\n",
      "ne_nearest F1: mean = 0.2631333788256476 std = 0.11667565911541918\n",
      "weighted_kNN F1: mean = 0.8046206232262725 std = 0.04661742283602781\n",
      "centroid_kNN F1: mean = 0.8405692673945578 std = 0.07310788739775337\n",
      "svm F1: mean = 0.8594766798808259 std = 0.03338688854534576\n",
      "++++++++ Number of example sentences: 9 ++++++++\n",
      "Sample 1\n",
      "Train\n",
      "NE centroid similarity model\n",
      "NE nearest similarity model\n",
      "SVM classifier model\n",
      "Weighted kNN model\n",
      "k = 1, metric: cosine\n",
      "[====================] 100%\n",
      "NE centroid + words kNN similarity model\n",
      "k = 10, metric: dot_prod\n",
      "[====================] 100%\n",
      "F1 scores: {'ne_centroid': 0.6548672566371682, 'ne_nearest': 0.1314878892733564, 'weighted_kNN': 0.6505050505050506, 'centroid_kNN': 0.7956403269754769, 'svm': 0.8468468468468469}\n",
      "Sample 2\n",
      "Train\n",
      "NE centroid similarity model\n",
      "NE nearest similarity model\n",
      "SVM classifier model\n",
      "Weighted kNN model\n",
      "k = 1, metric: cosine\n",
      "[====================] 100%\n",
      "NE centroid + words kNN similarity model\n",
      "k = 10, metric: dot_prod\n",
      "[====================] 100%\n",
      "F1 scores: {'ne_centroid': 0.7291139240506329, 'ne_nearest': 0.12987012987012989, 'weighted_kNN': 0.8057553956834532, 'centroid_kNN': 0.8749999999999999, 'svm': 0.8826291079812207}\n",
      "Sample 3\n",
      "Train\n",
      "NE centroid similarity model\n",
      "NE nearest similarity model\n",
      "SVM classifier model\n",
      "Weighted kNN model\n",
      "k = 1, metric: cosine\n",
      "[====================] 100%\n",
      "NE centroid + words kNN similarity model\n",
      "k = 10, metric: dot_prod\n",
      "[====================] 100%\n",
      "F1 scores: {'ne_centroid': 0.8165374677002584, 'ne_nearest': 0.20425531914893616, 'weighted_kNN': 0.8198433420365536, 'centroid_kNN': 0.8826530612244897, 'svm': 0.8792270531400966}\n",
      "Sample 4\n",
      "Train\n",
      "NE centroid similarity model\n",
      "NE nearest similarity model\n",
      "SVM classifier model\n",
      "Weighted kNN model\n",
      "k = 1, metric: cosine\n",
      "[====================] 100%\n",
      "NE centroid + words kNN similarity model\n",
      "k = 10, metric: dot_prod\n",
      "[====================] 100%\n",
      "F1 scores: {'ne_centroid': 0.7826086956521738, 'ne_nearest': 0.24603174603174605, 'weighted_kNN': 0.8385542168674699, 'centroid_kNN': 0.8468899521531101, 'svm': 0.8689655172413794}\n",
      "Sample 5\n",
      "Train\n",
      "NE centroid similarity model\n",
      "NE nearest similarity model\n",
      "SVM classifier model\n",
      "Weighted kNN model\n",
      "k = 1, metric: cosine\n",
      "[====================] 100%\n",
      "NE centroid + words kNN similarity model\n",
      "k = 10, metric: dot_prod\n",
      "[====================] 100%\n",
      "F1 scores: {'ne_centroid': 0.48591549295774655, 'ne_nearest': 0.16379310344827586, 'weighted_kNN': 0.8220551378446116, 'centroid_kNN': 0.8099547511312216, 'svm': 0.8695652173913043}\n",
      "Sample 6\n",
      "Train\n",
      "NE centroid similarity model\n",
      "NE nearest similarity model\n",
      "SVM classifier model\n",
      "Weighted kNN model\n",
      "k = 1, metric: cosine\n",
      "[====================] 100%\n",
      "NE centroid + words kNN similarity model\n",
      "k = 10, metric: dot_prod\n",
      "[====================] 100%\n",
      "F1 scores: {'ne_centroid': 0.6806526806526806, 'ne_nearest': 0.24475524475524474, 'weighted_kNN': 0.7366167023554603, 'centroid_kNN': 0.8608247422680413, 'svm': 0.8678304239401496}\n",
      "Sample 7\n",
      "Train\n",
      "NE centroid similarity model\n",
      "NE nearest similarity model\n",
      "SVM classifier model\n",
      "Weighted kNN model\n",
      "k = 1, metric: cosine\n",
      "[====================] 100%\n",
      "NE centroid + words kNN similarity model\n",
      "k = 10, metric: dot_prod\n",
      "[====================] 100%\n",
      "F1 scores: {'ne_centroid': 0.8232758620689654, 'ne_nearest': 0.29757785467128023, 'weighted_kNN': 0.8418891170431212, 'centroid_kNN': 0.8672985781990522, 'svm': 0.8986784140969163}\n",
      "Sample 8\n",
      "Train\n",
      "NE centroid similarity model\n",
      "NE nearest similarity model\n",
      "SVM classifier model\n",
      "Weighted kNN model\n",
      "k = 1, metric: cosine\n",
      "[====================] 100%\n",
      "NE centroid + words kNN similarity model\n",
      "k = 10, metric: dot_prod\n",
      "[====================] 100%\n",
      "F1 scores: {'ne_centroid': 0.7749999999999999, 'ne_nearest': 0.25660377358490566, 'weighted_kNN': 0.8008130081300813, 'centroid_kNN': 0.880597014925373, 'svm': 0.8559139784946237}\n",
      "Sample 9\n",
      "Train\n",
      "NE centroid similarity model\n",
      "NE nearest similarity model\n",
      "SVM classifier model\n",
      "Weighted kNN model\n",
      "k = 1, metric: cosine\n",
      "[====================] 100%\n",
      "NE centroid + words kNN similarity model\n",
      "k = 10, metric: dot_prod\n",
      "[====================] 100%\n",
      "F1 scores: {'ne_centroid': 0.736842105263158, 'ne_nearest': 0.15165876777251183, 'weighted_kNN': 0.8043478260869564, 'centroid_kNN': 0.8870056497175142, 'svm': 0.8347338935574229}\n",
      "Sample 10\n",
      "Train\n",
      "NE centroid similarity model\n",
      "NE nearest similarity model\n",
      "SVM classifier model\n",
      "Weighted kNN model\n",
      "k = 1, metric: cosine\n",
      "[====================] 100%\n",
      "NE centroid + words kNN similarity model\n",
      "k = 10, metric: dot_prod\n",
      "[====================] 100%\n",
      "F1 scores: {'ne_centroid': 0.6004056795131847, 'ne_nearest': 0.2196078431372549, 'weighted_kNN': 0.7019607843137253, 'centroid_kNN': 0.8315217391304348, 'svm': 0.7782426778242679}\n",
      "ne_centroid F1: mean = 0.7085219164495968 std = 0.10043322904120673\n",
      "ne_nearest F1: mean = 0.20456416716936415 std = 0.055046852415029844\n",
      "weighted_kNN F1: mean = 0.7822340580866483 std = 0.06082399648436759\n",
      "centroid_kNN F1: mean = 0.8537385815724713 std = 0.030303759341864252\n",
      "svm F1: mean = 0.8582633130514228 std = 0.03176970459087468\n",
      "++++++++ Number of example sentences: 10 ++++++++\n",
      "Sample 1\n",
      "Train\n"
     ]
    },
    {
     "name": "stdout",
     "output_type": "stream",
     "text": [
      "NE centroid similarity model\n",
      "NE nearest similarity model\n",
      "SVM classifier model\n",
      "Weighted kNN model\n",
      "k = 1, metric: cosine\n",
      "[====================] 100%\n",
      "NE centroid + words kNN similarity model\n",
      "k = 10, metric: dot_prod\n",
      "[====================] 100%\n",
      "F1 scores: {'ne_centroid': 0.7934272300469484, 'ne_nearest': 0.24031007751937986, 'weighted_kNN': 0.8733624454148471, 'centroid_kNN': 0.9095477386934674, 'svm': 0.8516129032258065}\n",
      "Sample 2\n",
      "Train\n",
      "NE centroid similarity model\n",
      "NE nearest similarity model\n",
      "SVM classifier model\n",
      "Weighted kNN model\n",
      "k = 1, metric: cosine\n",
      "[====================] 100%\n",
      "NE centroid + words kNN similarity model\n",
      "k = 10, metric: dot_prod\n",
      "[====================] 100%\n",
      "F1 scores: {'ne_centroid': 0.7052631578947368, 'ne_nearest': 0.22388059701492538, 'weighted_kNN': 0.8232662192393735, 'centroid_kNN': 0.7763496143958869, 'svm': 0.8644859813084111}\n",
      "Sample 3\n",
      "Train\n",
      "NE centroid similarity model\n",
      "NE nearest similarity model\n",
      "SVM classifier model\n",
      "Weighted kNN model\n",
      "k = 1, metric: cosine\n",
      "[====================] 100%\n",
      "NE centroid + words kNN similarity model\n",
      "k = 10, metric: dot_prod\n",
      "[====================] 100%\n",
      "F1 scores: {'ne_centroid': 0.7757009345794392, 'ne_nearest': 0.22745098039215686, 'weighted_kNN': 0.8256880733944955, 'centroid_kNN': 0.8293963254593175, 'svm': 0.8683602771362586}\n",
      "Sample 4\n",
      "Train\n",
      "NE centroid similarity model\n",
      "NE nearest similarity model\n",
      "SVM classifier model\n",
      "Weighted kNN model\n",
      "k = 1, metric: cosine\n",
      "[====================] 100%\n",
      "NE centroid + words kNN similarity model\n",
      "k = 10, metric: dot_prod\n",
      "[====================] 100%\n",
      "F1 scores: {'ne_centroid': 0.8279569892473119, 'ne_nearest': 0.19130434782608693, 'weighted_kNN': 0.8426666666666666, 'centroid_kNN': 0.8319559228650137, 'svm': 0.8771084337349397}\n",
      "Sample 5\n",
      "Train\n",
      "NE centroid similarity model\n",
      "NE nearest similarity model\n",
      "SVM classifier model\n",
      "Weighted kNN model\n",
      "k = 1, metric: cosine\n",
      "[====================] 100%\n",
      "NE centroid + words kNN similarity model\n",
      "k = 10, metric: dot_prod\n",
      "[====================] 100%\n",
      "F1 scores: {'ne_centroid': 0.7568807339449541, 'ne_nearest': 0.2736842105263158, 'weighted_kNN': 0.8297872340425533, 'centroid_kNN': 0.8134715025906736, 'svm': 0.8771929824561403}\n",
      "Sample 6\n",
      "Train\n",
      "NE centroid similarity model\n",
      "NE nearest similarity model\n",
      "SVM classifier model\n",
      "Weighted kNN model\n",
      "k = 1, metric: cosine\n",
      "[====================] 100%\n",
      "NE centroid + words kNN similarity model\n",
      "k = 10, metric: dot_prod\n",
      "[====================] 100%\n",
      "F1 scores: {'ne_centroid': 0.7575057736720554, 'ne_nearest': 0.22727272727272724, 'weighted_kNN': 0.8381374722838137, 'centroid_kNN': 0.7943661971830986, 'svm': 0.8867924528301887}\n",
      "Sample 7\n",
      "Train\n",
      "NE centroid similarity model\n",
      "NE nearest similarity model\n",
      "SVM classifier model\n",
      "Weighted kNN model\n",
      "k = 1, metric: cosine\n",
      "[====================] 100%\n",
      "NE centroid + words kNN similarity model\n",
      "k = 10, metric: dot_prod\n",
      "[====================] 100%\n",
      "F1 scores: {'ne_centroid': 0.7858823529411765, 'ne_nearest': 0.42611683848797255, 'weighted_kNN': 0.8597701149425286, 'centroid_kNN': 0.8471177944862155, 'svm': 0.8699551569506726}\n",
      "Sample 8\n",
      "Train\n",
      "NE centroid similarity model\n",
      "NE nearest similarity model\n",
      "SVM classifier model\n",
      "Weighted kNN model\n",
      "k = 1, metric: cosine\n",
      "[====================] 100%\n",
      "NE centroid + words kNN similarity model\n",
      "k = 10, metric: dot_prod\n",
      "[====================] 100%\n",
      "F1 scores: {'ne_centroid': 0.7281323877068558, 'ne_nearest': 0.36942675159235666, 'weighted_kNN': 0.8185328185328186, 'centroid_kNN': 0.8577878103837471, 'svm': 0.8336594911937377}\n",
      "Sample 9\n",
      "Train\n",
      "NE centroid similarity model\n",
      "NE nearest similarity model\n",
      "SVM classifier model\n",
      "Weighted kNN model\n",
      "k = 1, metric: cosine\n",
      "[====================] 100%\n",
      "NE centroid + words kNN similarity model\n",
      "k = 10, metric: dot_prod\n",
      "[====================] 100%\n",
      "F1 scores: {'ne_centroid': 0.7636363636363636, 'ne_nearest': 0.09859154929577466, 'weighted_kNN': 0.8472222222222223, 'centroid_kNN': 0.8693467336683417, 'svm': 0.8679245283018868}\n",
      "Sample 10\n",
      "Train\n",
      "NE centroid similarity model\n",
      "NE nearest similarity model\n",
      "SVM classifier model\n",
      "Weighted kNN model\n",
      "k = 1, metric: cosine\n",
      "[====================] 100%\n",
      "NE centroid + words kNN similarity model\n",
      "k = 10, metric: dot_prod\n",
      "[====================] 100%\n",
      "F1 scores: {'ne_centroid': 0.775599128540305, 'ne_nearest': 0.23404255319148937, 'weighted_kNN': 0.7615384615384616, 'centroid_kNN': 0.8443496801705757, 'svm': 0.8198019801980198}\n",
      "ne_centroid F1: mean = 0.7669985052210148 std = 0.032320783433662764\n",
      "ne_nearest F1: mean = 0.2512080633119185 std = 0.08616941517255007\n",
      "weighted_kNN F1: mean = 0.831997172827778 std = 0.028517367592312506\n",
      "centroid_kNN F1: mean = 0.8373689319896338 std = 0.036096543148070565\n",
      "svm F1: mean = 0.8616894187336064 std = 0.019772605989020565\n"
     ]
    }
   ],
   "source": [
    "from collections import defaultdict\n",
    "f1_scores = {}\n",
    "print('NE type: {}'.format(NE_TYPE))\n",
    "dataset = filter_dataset_by_ne_types(dataset_orig, NE_TYPE)\n",
    "for n_ex in N_EXAMPLES:\n",
    "    print('++++++++ Number of example sentences: {} ++++++++'.format(n_ex))\n",
    "    f1_scores[n_ex] = {}\n",
    "    for model in MODELS:\n",
    "        f1_scores[n_ex][model] = {'values':[]}\n",
    "    for idx_sample in range(N_SAMPLES):\n",
    "        print('Sample {}'.format(idx_sample+1))\n",
    "        tokens_train,tags_train = get_data_sample(dataset['train'], n_ex)\n",
    "        tokens_test,tags_test = get_data_sample(dataset['test'], N_TEST_SENTENCES)\n",
    "        y_test = np.array([1 if t == 'T' else 0 for seq in tags_test for t in seq])\n",
    "        ner_bin_clf = FewshotNerBinaryClassifier(embedder)\n",
    "        ner_bin_clf.train_on_batch(tokens_train, tags_train)\n",
    "        results = ner_bin_clf.predict(tokens_test, MODELS, MODEL_PARAMS)\n",
    "        pred_avg = np.zeros(y_test.size)\n",
    "        n_models_avg = 0\n",
    "        for model in MODELS:\n",
    "            pred = results[model]['pred']\n",
    "            if model in ['ne_centroid', 'weighted_kNN', 'centroid_kNN', 'svm']:   \n",
    "                pred_avg += pred\n",
    "                n_models_avg += 1\n",
    "            f1 = f1_score(y_test, pred)\n",
    "            f1_scores[n_ex][model]['values'].append(f1)\n",
    "        pred_avg /= n_models_avg\n",
    "        \n",
    "        cur_f1_scores_dict = {k: f1_scores[n_ex][k]['values'][-1] for k in f1_scores[n_ex].keys()}\n",
    "        print('F1 scores: {}'.format(cur_f1_scores_dict))\n",
    "    for model in MODELS:\n",
    "        f1_scores[n_ex][model]['mean'] = np.mean(f1_scores[n_ex][model]['values'])\n",
    "        f1_scores[n_ex][model]['std'] = np.std(f1_scores[n_ex][model]['values'])\n",
    "        print('{} F1: mean = {} std = {}'.format(model, f1_scores[n_ex][model]['mean'], f1_scores[n_ex][model]['std']))"
   ]
  },
  {
   "cell_type": "code",
   "execution_count": 7,
   "metadata": {},
   "outputs": [],
   "source": [
    "f1_by_model = {}\n",
    "for n_ex, results in f1_scores.items():\n",
    "    for model in results.keys():\n",
    "        if not f1_by_model.get(model):  \n",
    "            f1_by_model[model] = []\n",
    "        f1_by_model[model].append(results[model]['mean'])"
   ]
  },
  {
   "cell_type": "code",
   "execution_count": 14,
   "metadata": {},
   "outputs": [
    {
     "data": {
      "text/plain": [
       "Text(0.5,1,'Average F1 scores')"
      ]
     },
     "execution_count": 14,
     "metadata": {},
     "output_type": "execute_result"
    },
    {
     "data": {
      "image/png": "[encoded data removed]",
      "text/plain": [
       "<Figure size 432x288 with 1 Axes>"
      ]
     },
     "metadata": {},
     "output_type": "display_data"
    }
   ],
   "source": [
    "markers = ['^', 'x', 'v', 'o', 's']\n",
    "fig = plt.figure()\n",
    "i = 0\n",
    "for model, f1_scores_list in f1_by_model.items():\n",
    "    ax = plt.plot(N_EXAMPLES, f1_scores_list, marker=markers[i], label=model)\n",
    "    i += 1\n",
    "plt.grid()\n",
    "plt.xticks(N_EXAMPLES)\n",
    "plt.xlabel('# examples')\n",
    "plt.ylabel('F1 score')\n",
    "plt.legend()\n",
    "plt.title('Average F1 scores')"
   ]
  },
  {
   "cell_type": "markdown",
   "metadata": {},
   "source": [
    "### Print results"
   ]
  },
  {
   "cell_type": "code",
   "execution_count": null,
   "metadata": {},
   "outputs": [],
   "source": []
  }
 ],
 "metadata": {
  "kernelspec": {
   "display_name": "Python 3",
   "language": "python",
   "name": "python3"
  },
  "language_info": {
   "codemirror_mode": {
    "name": "ipython",
    "version": 3
   },
   "file_extension": ".py",
   "mimetype": "text/x-python",
   "name": "python",
   "nbconvert_exporter": "python",
   "pygments_lexer": "ipython3",
   "version": "3.6.5"
  }
 },
 "nbformat": 4,
 "nbformat_minor": 2
}
