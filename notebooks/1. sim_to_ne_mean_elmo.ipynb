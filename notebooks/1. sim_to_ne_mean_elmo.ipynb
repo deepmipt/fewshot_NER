{
 "cells": [
  {
   "cell_type": "code",
   "execution_count": 1,
   "metadata": {},
   "outputs": [
    {
     "name": "stderr",
     "output_type": "stream",
     "text": [
      "/home/kostrovskiy/prog/AI/NLP/DeepPavlov/env/lib/python3.6/site-packages/h5py/__init__.py:36: FutureWarning: Conversion of the second argument of issubdtype from `float` to `np.floating` is deprecated. In future, it will be treated as `np.float64 == np.dtype(float).type`.\n",
      "  from ._conv import register_converters as _register_converters\n",
      "Using TensorFlow backend.\n",
      "[nltk_data] Downloading package punkt to\n",
      "[nltk_data]     /home/kostrovskiy/nltk_data...\n",
      "[nltk_data]   Package punkt is already up-to-date!\n",
      "[nltk_data] Downloading package stopwords to\n",
      "[nltk_data]     /home/kostrovskiy/nltk_data...\n",
      "[nltk_data]   Package stopwords is already up-to-date!\n",
      "[nltk_data] Downloading package perluniprops to\n",
      "[nltk_data]     /home/kostrovskiy/nltk_data...\n",
      "[nltk_data]   Package perluniprops is already up-to-date!\n",
      "[nltk_data] Downloading package nonbreaking_prefixes to\n",
      "[nltk_data]     /home/kostrovskiy/nltk_data...\n",
      "[nltk_data]   Package nonbreaking_prefixes is already up-to-date!\n",
      "2018-08-01 23:38:46.406 DEBUG in 'gensim.models.doc2vec'['doc2vec'] at line 73: Fast version of gensim.models.doc2vec is being used\n",
      "2018-08-01 23:38:46.422 INFO in 'summa.preprocessing.cleaner'['textcleaner'] at line 20: 'pattern' package not found; tag filters are not available for English\n",
      "2018-08-01 23:38:58.946 DEBUG in 'matplotlib.backends'['__init__'] at line 90: backend module://ipykernel.pylab.backend_inline version unknown\n"
     ]
    }
   ],
   "source": [
    "import copy\n",
    "import os\n",
    "import numpy as np\n",
    "import matplotlib.pyplot as plt\n",
    "import tensorflow as tf\n",
    "import tensorflow_hub as hub\n",
    "import deeppavlov\n",
    "from deeppavlov.dataset_readers.ontonotes_reader import OntonotesReader\n",
    "from deeppavlov.models.preprocessors.capitalization import CapitalizationPreprocessor\n",
    "from deeppavlov.models.embedders.glove_embedder import GloVeEmbedder"
   ]
  },
  {
   "cell_type": "code",
   "execution_count": 67,
   "metadata": {},
   "outputs": [],
   "source": [
    "#Supress default INFO logging\n",
    "# not working :(\n",
    "import logging\n",
    "logger = logging.getLogger()\n",
    "logger.setLevel(logging.CRITICAL)\n",
    "os.environ['TF_CPP_MIN_LOG_LEVEL'] = '3'"
   ]
  },
  {
   "cell_type": "markdown",
   "metadata": {},
   "source": [
    "### Read data"
   ]
  },
  {
   "cell_type": "code",
   "execution_count": 68,
   "metadata": {},
   "outputs": [
    {
     "name": "stdout",
     "output_type": "stream",
     "text": [
      "dict_keys(['train', 'valid', 'test'])\n",
      "Num of train sentences: 75187\n",
      "Num of test sentences: 9479\n"
     ]
    }
   ],
   "source": [
    "reader = OntonotesReader()\n",
    "dataset = reader.read(data_path='data/')\n",
    "print(dataset.keys())\n",
    "print('Num of train sentences: {}'.format(len(dataset['train'])))\n",
    "print('Num of test sentences: {}'.format(len(dataset['test'])))"
   ]
  },
  {
   "cell_type": "markdown",
   "metadata": {},
   "source": [
    "#### Select few examples randomly"
   ]
  },
  {
   "cell_type": "code",
   "execution_count": 69,
   "metadata": {},
   "outputs": [],
   "source": [
    "def split_examples(examples: list):\n",
    "    tokens = []\n",
    "    tags = []\n",
    "    for ex in examples:\n",
    "        tokens.append(ex[0])\n",
    "        tags.append(ex[1])\n",
    "    return tokens, tags"
   ]
  },
  {
   "cell_type": "code",
   "execution_count": 70,
   "metadata": {},
   "outputs": [
    {
     "name": "stdout",
     "output_type": "stream",
     "text": [
      "[(['Standing', 'tall', 'on', 'Taihang', 'Mountain', 'is', 'the', 'Monument', 'to', 'the', 'Hundred', 'Regiments', 'Offensive', '.'], ['O', 'O', 'O', 'B-LOC', 'I-LOC', 'O', 'B-WORK_OF_ART', 'I-WORK_OF_ART', 'I-WORK_OF_ART', 'I-WORK_OF_ART', 'I-WORK_OF_ART', 'I-WORK_OF_ART', 'I-WORK_OF_ART', 'O']), (['It', 'is', 'composed', 'of', 'a', 'primary', 'stele', ',', 'secondary', 'steles', ',', 'a', 'huge', 'round', 'sculpture', 'and', 'beacon', 'tower', ',', 'and', 'the', 'Great', 'Wall', ',', 'among', 'other', 'things', '.'], ['O', 'O', 'O', 'O', 'O', 'O', 'O', 'O', 'O', 'O', 'O', 'O', 'O', 'O', 'O', 'O', 'O', 'O', 'O', 'O', 'B-WORK_OF_ART', 'I-WORK_OF_ART', 'I-WORK_OF_ART', 'O', 'O', 'O', 'O', 'O'])]\n",
      "[['Standing', 'tall', 'on', 'Taihang', 'Mountain', 'is', 'the', 'Monument', 'to', 'the', 'Hundred', 'Regiments', 'Offensive', '.'], ['It', 'is', 'composed', 'of', 'a', 'primary', 'stele', ',', 'secondary', 'steles', ',', 'a', 'huge', 'round', 'sculpture', 'and', 'beacon', 'tower', ',', 'and', 'the', 'Great', 'Wall', ',', 'among', 'other', 'things', '.']]\n",
      "[['O', 'O', 'O', 'B-LOC', 'I-LOC', 'O', 'B-WORK_OF_ART', 'I-WORK_OF_ART', 'I-WORK_OF_ART', 'I-WORK_OF_ART', 'I-WORK_OF_ART', 'I-WORK_OF_ART', 'I-WORK_OF_ART', 'O'], ['O', 'O', 'O', 'O', 'O', 'O', 'O', 'O', 'O', 'O', 'O', 'O', 'O', 'O', 'O', 'O', 'O', 'O', 'O', 'O', 'B-WORK_OF_ART', 'I-WORK_OF_ART', 'I-WORK_OF_ART', 'O', 'O', 'O', 'O', 'O']]\n"
     ]
    }
   ],
   "source": [
    "n_examples = 10\n",
    "# np.random.seed(12)\n",
    "# indices = np.random.choice(len(dataset['train']), size=n_examples)\n",
    "indices = (3,4)\n",
    "# indices = (10,20,30,40,50,61,72,83,94,105)\n",
    "examples = [dataset['train'][i] for i in indices]\n",
    "print(examples)\n",
    "tokens,tags = split_examples(examples)\n",
    "print(tokens)\n",
    "print(tags)"
   ]
  },
  {
   "cell_type": "markdown",
   "metadata": {},
   "source": [
    "### Convert tags to binary"
   ]
  },
  {
   "cell_type": "code",
   "execution_count": 66,
   "metadata": {},
   "outputs": [
    {
     "name": "stdout",
     "output_type": "stream",
     "text": [
      "[['O', 'O', 'O', 'T', 'T', 'O', 'T', 'T', 'T', 'T', 'T', 'T', 'T', 'O'], ['O', 'O', 'O', 'O', 'O', 'O', 'O', 'O', 'O', 'O', 'O', 'O', 'O', 'O', 'O', 'O', 'O', 'O', 'O', 'O', 'T', 'T', 'T', 'O', 'O', 'O', 'O', 'O']]\n"
     ]
    }
   ],
   "source": [
    "def tags2binary(tags):\n",
    "    tags = copy.deepcopy(tags)\n",
    "    for seq in tags:\n",
    "        for i in range(len(seq)):\n",
    "            if seq[i] != 'O':\n",
    "                seq[i] = 'T'\n",
    "    return tags\n",
    "\n",
    "tags = tags2binary(tags)\n",
    "print(tags)      "
   ]
  },
  {
   "cell_type": "markdown",
   "metadata": {},
   "source": [
    "### Elmo embedder"
   ]
  },
  {
   "cell_type": "code",
   "execution_count": 6,
   "metadata": {},
   "outputs": [],
   "source": [
    "class ElmoEmbedder():\n",
    "    def __init__(self):\n",
    "        self.elmo = hub.Module(\"https://tfhub.dev/google/elmo/2\", trainable=True)\n",
    "        sess = tf.Session()\n",
    "        sess.run(tf.global_variables_initializer())\n",
    "        self.sess = sess\n",
    "\n",
    "    def get_tokens_embeddings(self, tokens_input: list, tokens_length:list=None):\n",
    "        if not tokens_length:\n",
    "            if isinstance(tokens_input[0], list):\n",
    "                tokens_length = [len(seq) for seq in tokens_input]\n",
    "            else:\n",
    "                tokens_length = len(tokens_input)\n",
    "        # print('tokens_length = {}'.format(tokens_length))\n",
    "        embeddings = self.elmo(\n",
    "                        inputs={\n",
    "                            \"tokens\": tokens_input,\n",
    "                            \"sequence_len\": tokens_length\n",
    "                        },\n",
    "                        signature=\"tokens\",\n",
    "                        as_dict=True)[\"elmo\"]\n",
    "        embeddings = self.sess.run([embeddings])\n",
    "        return embeddings[0]"
   ]
  },
  {
   "cell_type": "markdown",
   "metadata": {},
   "source": [
    "### Add padding to tokens"
   ]
  },
  {
   "cell_type": "code",
   "execution_count": 7,
   "metadata": {},
   "outputs": [],
   "source": [
    "def add_padding(tokens:list):\n",
    "    if isinstance(tokens[0], str):\n",
    "        return tokens, len(tokens)\n",
    "    elif isinstance(tokens[0], list):\n",
    "        tokens = copy.deepcopy(tokens)\n",
    "        max_len = 0\n",
    "        for seq in tokens:\n",
    "            if len(seq) > max_len:\n",
    "                max_len = len(seq)\n",
    "        tokens_length = []\n",
    "        for seq in tokens:\n",
    "            tokens_length.append(len(seq))\n",
    "            i = len(seq)\n",
    "            while i < max_len:\n",
    "                seq.append('')\n",
    "                i += 1\n",
    "        return tokens, tokens_length\n",
    "    else:\n",
    "        raise Exception('tokens should be either list of strings or list of lists of strings')"
   ]
  },
  {
   "cell_type": "markdown",
   "metadata": {},
   "source": [
    "### Transform tokens to lower case"
   ]
  },
  {
   "cell_type": "code",
   "execution_count": 8,
   "metadata": {},
   "outputs": [],
   "source": [
    "def to_lower_case(tokens:list):\n",
    "    tokens_lower = []\n",
    "    for seq in tokens:\n",
    "        tokens_lower.append([])\n",
    "        for token in seq:\n",
    "            tokens_lower[-1].append(token.lower())\n",
    "    print(tokens_lower)\n",
    "    return tokens_lower"
   ]
  },
  {
   "cell_type": "markdown",
   "metadata": {},
   "source": [
    "### Test embedders"
   ]
  },
  {
   "cell_type": "code",
   "execution_count": 11,
   "metadata": {},
   "outputs": [],
   "source": [
    "# elmo = ElmoEmbedder()\n",
    "# tokens_input, tokens_length = add_padding(tokens)\n",
    "# embeddings = elmo.get_tokens_embeddings(tokens_input, tokens_length)\n",
    "# print('Embeddings: {}'.format(embeddings))\n",
    "# print('Embeddings shape: {}'.format(embeddings.shape))\n",
    "# del embeddings"
   ]
  },
  {
   "cell_type": "code",
   "execution_count": 12,
   "metadata": {
    "scrolled": true
   },
   "outputs": [],
   "source": [
    "# glove = GloVeEmbedder('embeddings/glove.6B/glove.6B.100d.txt', pad_zero=True)\n",
    "# embed = glove(tokens)\n",
    "# print(len(embed[0]))\n",
    "# print(len(embed[1]))"
   ]
  },
  {
   "cell_type": "code",
   "execution_count": 13,
   "metadata": {},
   "outputs": [],
   "source": [
    "# cap_prep = CapitalizationPreprocessor(pad_zeros=False)\n",
    "# cap_prep(tokens)"
   ]
  },
  {
   "cell_type": "markdown",
   "metadata": {},
   "source": [
    "### Main embedder class. Concatenates different embeddings"
   ]
  },
  {
   "cell_type": "code",
   "execution_count": 14,
   "metadata": {},
   "outputs": [],
   "source": [
    "def get_tokens_len(tokens):\n",
    "    if isinstance(tokens[0], str):\n",
    "        tokens = [tokens]\n",
    "    return [len(seq) for seq in tokens]"
   ]
  },
  {
   "cell_type": "code",
   "execution_count": 30,
   "metadata": {},
   "outputs": [],
   "source": [
    "class CompositeEmbedder():\n",
    "    def __init__(self, use_elmo=True, elmo_scale=1., use_cap_feat=False, use_glove=False):\n",
    "        self.use_elmo = use_elmo\n",
    "        self.elmo_scale = elmo_scale\n",
    "        self.use_cap_feat = use_cap_feat\n",
    "        self.use_glove = use_glove\n",
    "        if self.use_elmo:\n",
    "            self.elmo = ElmoEmbedder()\n",
    "        if self.use_cap_feat:\n",
    "            self.cap_prep = CapitalizationPreprocessor()\n",
    "        if self.use_glove:\n",
    "            self.glove = GloVeEmbedder('embeddings/glove.6B/glove.6B.100d.txt', pad_zero=True)\n",
    "        \n",
    "    def embed(self, tokens: list):\n",
    "        if isinstance(tokens[0], str):\n",
    "            tokens = [tokens]\n",
    "        # Get ELMo embeddings\n",
    "        if self.use_elmo:\n",
    "            tokens_input, tokens_length = add_padding(tokens)\n",
    "            print(tokens_length)\n",
    "            embeddings = self.elmo.get_tokens_embeddings(tokens_input, tokens_length)\n",
    "            embeddings *= self.elmo_scale\n",
    "            embed_size = embeddings.shape[-1]\n",
    "            print(embeddings.shape)\n",
    "            print(embed_size)\n",
    "\n",
    "        # Use capitalization features\n",
    "        if self.use_cap_feat:\n",
    "            print('Use capitalization features')\n",
    "            cap_features = self.cap_prep(tokens)\n",
    "    #         print(cap_features)\n",
    "            print(cap_features.shape)\n",
    "            embeddings = np.concatenate((embeddings, cap_features), axis=2)\n",
    "            embed_size = embeddings.shape[-1]\n",
    "            print(embeddings.shape)\n",
    "\n",
    "        # Use GloVe embeddings\n",
    "        if self.use_glove:\n",
    "            print('Use GloVe')\n",
    "            \n",
    "            glove_embed = self.glove(to_lower_case(tokens))\n",
    "            glove_embed = np.array(glove_embed)\n",
    "            if not self.use_elmo:\n",
    "                embeddings = glove_embed\n",
    "            else: \n",
    "                embeddings = np.concatenate((embeddings, glove_embed), axis=2)\n",
    "            embed_size = embeddings.shape[-1]\n",
    "            print(embeddings.shape)\n",
    "        \n",
    "        return embeddings"
   ]
  },
  {
   "cell_type": "markdown",
   "metadata": {},
   "source": [
    "#### Calculate tokens similarities to the tag prototype in the space of ELMo embeddings "
   ]
  },
  {
   "cell_type": "code",
   "execution_count": 31,
   "metadata": {},
   "outputs": [],
   "source": [
    "def calc_sim(token_vec, ne_prototype)->dict:\n",
    "    sim = {}\n",
    "    sim['euc_dist'] = np.linalg.norm(token_vec - ne_prototype)\n",
    "    sim['dot_prod'] = np.dot(token_vec, ne_prototype)\n",
    "    sim['cosine'] = np.dot(token_vec, ne_prototype)/(np.linalg.norm(token_vec)*np.linalg.norm(ne_prototype))\n",
    "    return sim"
   ]
  },
  {
   "cell_type": "code",
   "execution_count": 32,
   "metadata": {},
   "outputs": [],
   "source": [
    "def calc_sim_batch(tokens: list, embeddings: np.ndarray, ne_prototype: np.ndarray)->list:\n",
    "    sim_list = []\n",
    "    tokens_length = get_tokens_len(tokens)\n",
    "    for i in range(len(tokens_length)):\n",
    "        sim_list.append([])\n",
    "        for j in range(tokens_length[i]):\n",
    "            token_vec = embeddings[i,j,:]\n",
    "            sim_list[i].append(calc_sim(token_vec, ne_prototype))\n",
    "    return sim_list"
   ]
  },
  {
   "cell_type": "code",
   "execution_count": 33,
   "metadata": {},
   "outputs": [],
   "source": [
    "def estimate_sim_to_ne_prototype(tokens: list, tags: list, embedder: CompositeEmbedder):\n",
    "    # Calculate embeddings\n",
    "    embeddings = embedder.embed(tokens)\n",
    "    \n",
    "    # Calculate average vector for ne-tags\n",
    "    embed_size = embeddings.shape[-1]\n",
    "    ne_prototype = np.zeros((embed_size,))\n",
    "    tokens_length = get_tokens_len(tokens)\n",
    "    n_ne_tags = 0\n",
    "    for i in range(len(tokens_length)):\n",
    "        for j in range(tokens_length[i]):\n",
    "            if tags[i][j] == 'T':\n",
    "                ne_prototype += embeddings[i,j,:].reshape((embed_size,))\n",
    "                n_ne_tags += 1\n",
    "    ne_prototype /= n_ne_tags\n",
    "    print('ne mean vector: {}'.format(ne_prototype))\n",
    "    \n",
    "    # Calculate similarities\n",
    "    sim_list = calc_sim_batch(tokens, embeddings, ne_prototype)\n",
    "            \n",
    "    return sim_list, embeddings, tokens_length, ne_prototype"
   ]
  },
  {
   "cell_type": "code",
   "execution_count": 34,
   "metadata": {},
   "outputs": [
    {
     "name": "stdout",
     "output_type": "stream",
     "text": [
      "INFO:tensorflow:Initialize variable module_2/aggregation/scaling:0 from checkpoint b'/tmp/tfhub_modules/9bb74bc86f9caffc8c47dd7b33ec4bb354d9602d/variables/variables' with aggregation/scaling\n"
     ]
    },
    {
     "name": "stderr",
     "output_type": "stream",
     "text": [
      "2018-08-01 23:47:48.994 INFO in 'tensorflow'['tf_logging'] at line 116: Initialize variable module_2/aggregation/scaling:0 from checkpoint b'/tmp/tfhub_modules/9bb74bc86f9caffc8c47dd7b33ec4bb354d9602d/variables/variables' with aggregation/scaling\n"
     ]
    },
    {
     "name": "stdout",
     "output_type": "stream",
     "text": [
      "INFO:tensorflow:Initialize variable module_2/aggregation/weights:0 from checkpoint b'/tmp/tfhub_modules/9bb74bc86f9caffc8c47dd7b33ec4bb354d9602d/variables/variables' with aggregation/weights\n"
     ]
    },
    {
     "name": "stderr",
     "output_type": "stream",
     "text": [
      "2018-08-01 23:47:49.1 INFO in 'tensorflow'['tf_logging'] at line 116: Initialize variable module_2/aggregation/weights:0 from checkpoint b'/tmp/tfhub_modules/9bb74bc86f9caffc8c47dd7b33ec4bb354d9602d/variables/variables' with aggregation/weights\n"
     ]
    },
    {
     "name": "stdout",
     "output_type": "stream",
     "text": [
      "INFO:tensorflow:Initialize variable module_2/bilm/CNN/W_cnn_0:0 from checkpoint b'/tmp/tfhub_modules/9bb74bc86f9caffc8c47dd7b33ec4bb354d9602d/variables/variables' with bilm/CNN/W_cnn_0\n"
     ]
    },
    {
     "name": "stderr",
     "output_type": "stream",
     "text": [
      "2018-08-01 23:47:49.7 INFO in 'tensorflow'['tf_logging'] at line 116: Initialize variable module_2/bilm/CNN/W_cnn_0:0 from checkpoint b'/tmp/tfhub_modules/9bb74bc86f9caffc8c47dd7b33ec4bb354d9602d/variables/variables' with bilm/CNN/W_cnn_0\n"
     ]
    },
    {
     "name": "stdout",
     "output_type": "stream",
     "text": [
      "INFO:tensorflow:Initialize variable module_2/bilm/CNN/W_cnn_1:0 from checkpoint b'/tmp/tfhub_modules/9bb74bc86f9caffc8c47dd7b33ec4bb354d9602d/variables/variables' with bilm/CNN/W_cnn_1\n"
     ]
    },
    {
     "name": "stderr",
     "output_type": "stream",
     "text": [
      "2018-08-01 23:47:49.14 INFO in 'tensorflow'['tf_logging'] at line 116: Initialize variable module_2/bilm/CNN/W_cnn_1:0 from checkpoint b'/tmp/tfhub_modules/9bb74bc86f9caffc8c47dd7b33ec4bb354d9602d/variables/variables' with bilm/CNN/W_cnn_1\n"
     ]
    },
    {
     "name": "stdout",
     "output_type": "stream",
     "text": [
      "INFO:tensorflow:Initialize variable module_2/bilm/CNN/W_cnn_2:0 from checkpoint b'/tmp/tfhub_modules/9bb74bc86f9caffc8c47dd7b33ec4bb354d9602d/variables/variables' with bilm/CNN/W_cnn_2\n"
     ]
    },
    {
     "name": "stderr",
     "output_type": "stream",
     "text": [
      "2018-08-01 23:47:49.20 INFO in 'tensorflow'['tf_logging'] at line 116: Initialize variable module_2/bilm/CNN/W_cnn_2:0 from checkpoint b'/tmp/tfhub_modules/9bb74bc86f9caffc8c47dd7b33ec4bb354d9602d/variables/variables' with bilm/CNN/W_cnn_2\n"
     ]
    },
    {
     "name": "stdout",
     "output_type": "stream",
     "text": [
      "INFO:tensorflow:Initialize variable module_2/bilm/CNN/W_cnn_3:0 from checkpoint b'/tmp/tfhub_modules/9bb74bc86f9caffc8c47dd7b33ec4bb354d9602d/variables/variables' with bilm/CNN/W_cnn_3\n"
     ]
    },
    {
     "name": "stderr",
     "output_type": "stream",
     "text": [
      "2018-08-01 23:47:49.29 INFO in 'tensorflow'['tf_logging'] at line 116: Initialize variable module_2/bilm/CNN/W_cnn_3:0 from checkpoint b'/tmp/tfhub_modules/9bb74bc86f9caffc8c47dd7b33ec4bb354d9602d/variables/variables' with bilm/CNN/W_cnn_3\n"
     ]
    },
    {
     "name": "stdout",
     "output_type": "stream",
     "text": [
      "INFO:tensorflow:Initialize variable module_2/bilm/CNN/W_cnn_4:0 from checkpoint b'/tmp/tfhub_modules/9bb74bc86f9caffc8c47dd7b33ec4bb354d9602d/variables/variables' with bilm/CNN/W_cnn_4\n"
     ]
    },
    {
     "name": "stderr",
     "output_type": "stream",
     "text": [
      "2018-08-01 23:47:49.36 INFO in 'tensorflow'['tf_logging'] at line 116: Initialize variable module_2/bilm/CNN/W_cnn_4:0 from checkpoint b'/tmp/tfhub_modules/9bb74bc86f9caffc8c47dd7b33ec4bb354d9602d/variables/variables' with bilm/CNN/W_cnn_4\n"
     ]
    },
    {
     "name": "stdout",
     "output_type": "stream",
     "text": [
      "INFO:tensorflow:Initialize variable module_2/bilm/CNN/W_cnn_5:0 from checkpoint b'/tmp/tfhub_modules/9bb74bc86f9caffc8c47dd7b33ec4bb354d9602d/variables/variables' with bilm/CNN/W_cnn_5\n"
     ]
    },
    {
     "name": "stderr",
     "output_type": "stream",
     "text": [
      "2018-08-01 23:47:49.42 INFO in 'tensorflow'['tf_logging'] at line 116: Initialize variable module_2/bilm/CNN/W_cnn_5:0 from checkpoint b'/tmp/tfhub_modules/9bb74bc86f9caffc8c47dd7b33ec4bb354d9602d/variables/variables' with bilm/CNN/W_cnn_5\n"
     ]
    },
    {
     "name": "stdout",
     "output_type": "stream",
     "text": [
      "INFO:tensorflow:Initialize variable module_2/bilm/CNN/W_cnn_6:0 from checkpoint b'/tmp/tfhub_modules/9bb74bc86f9caffc8c47dd7b33ec4bb354d9602d/variables/variables' with bilm/CNN/W_cnn_6\n"
     ]
    },
    {
     "name": "stderr",
     "output_type": "stream",
     "text": [
      "2018-08-01 23:47:49.49 INFO in 'tensorflow'['tf_logging'] at line 116: Initialize variable module_2/bilm/CNN/W_cnn_6:0 from checkpoint b'/tmp/tfhub_modules/9bb74bc86f9caffc8c47dd7b33ec4bb354d9602d/variables/variables' with bilm/CNN/W_cnn_6\n"
     ]
    },
    {
     "name": "stdout",
     "output_type": "stream",
     "text": [
      "INFO:tensorflow:Initialize variable module_2/bilm/CNN/b_cnn_0:0 from checkpoint b'/tmp/tfhub_modules/9bb74bc86f9caffc8c47dd7b33ec4bb354d9602d/variables/variables' with bilm/CNN/b_cnn_0\n"
     ]
    },
    {
     "name": "stderr",
     "output_type": "stream",
     "text": [
      "2018-08-01 23:47:49.56 INFO in 'tensorflow'['tf_logging'] at line 116: Initialize variable module_2/bilm/CNN/b_cnn_0:0 from checkpoint b'/tmp/tfhub_modules/9bb74bc86f9caffc8c47dd7b33ec4bb354d9602d/variables/variables' with bilm/CNN/b_cnn_0\n"
     ]
    },
    {
     "name": "stdout",
     "output_type": "stream",
     "text": [
      "INFO:tensorflow:Initialize variable module_2/bilm/CNN/b_cnn_1:0 from checkpoint b'/tmp/tfhub_modules/9bb74bc86f9caffc8c47dd7b33ec4bb354d9602d/variables/variables' with bilm/CNN/b_cnn_1\n"
     ]
    },
    {
     "name": "stderr",
     "output_type": "stream",
     "text": [
      "2018-08-01 23:47:49.62 INFO in 'tensorflow'['tf_logging'] at line 116: Initialize variable module_2/bilm/CNN/b_cnn_1:0 from checkpoint b'/tmp/tfhub_modules/9bb74bc86f9caffc8c47dd7b33ec4bb354d9602d/variables/variables' with bilm/CNN/b_cnn_1\n"
     ]
    },
    {
     "name": "stdout",
     "output_type": "stream",
     "text": [
      "INFO:tensorflow:Initialize variable module_2/bilm/CNN/b_cnn_2:0 from checkpoint b'/tmp/tfhub_modules/9bb74bc86f9caffc8c47dd7b33ec4bb354d9602d/variables/variables' with bilm/CNN/b_cnn_2\n"
     ]
    },
    {
     "name": "stderr",
     "output_type": "stream",
     "text": [
      "2018-08-01 23:47:49.68 INFO in 'tensorflow'['tf_logging'] at line 116: Initialize variable module_2/bilm/CNN/b_cnn_2:0 from checkpoint b'/tmp/tfhub_modules/9bb74bc86f9caffc8c47dd7b33ec4bb354d9602d/variables/variables' with bilm/CNN/b_cnn_2\n"
     ]
    },
    {
     "name": "stdout",
     "output_type": "stream",
     "text": [
      "INFO:tensorflow:Initialize variable module_2/bilm/CNN/b_cnn_3:0 from checkpoint b'/tmp/tfhub_modules/9bb74bc86f9caffc8c47dd7b33ec4bb354d9602d/variables/variables' with bilm/CNN/b_cnn_3\n"
     ]
    },
    {
     "name": "stderr",
     "output_type": "stream",
     "text": [
      "2018-08-01 23:47:49.76 INFO in 'tensorflow'['tf_logging'] at line 116: Initialize variable module_2/bilm/CNN/b_cnn_3:0 from checkpoint b'/tmp/tfhub_modules/9bb74bc86f9caffc8c47dd7b33ec4bb354d9602d/variables/variables' with bilm/CNN/b_cnn_3\n"
     ]
    },
    {
     "name": "stdout",
     "output_type": "stream",
     "text": [
      "INFO:tensorflow:Initialize variable module_2/bilm/CNN/b_cnn_4:0 from checkpoint b'/tmp/tfhub_modules/9bb74bc86f9caffc8c47dd7b33ec4bb354d9602d/variables/variables' with bilm/CNN/b_cnn_4\n"
     ]
    },
    {
     "name": "stderr",
     "output_type": "stream",
     "text": [
      "2018-08-01 23:47:49.81 INFO in 'tensorflow'['tf_logging'] at line 116: Initialize variable module_2/bilm/CNN/b_cnn_4:0 from checkpoint b'/tmp/tfhub_modules/9bb74bc86f9caffc8c47dd7b33ec4bb354d9602d/variables/variables' with bilm/CNN/b_cnn_4\n"
     ]
    },
    {
     "name": "stdout",
     "output_type": "stream",
     "text": [
      "INFO:tensorflow:Initialize variable module_2/bilm/CNN/b_cnn_5:0 from checkpoint b'/tmp/tfhub_modules/9bb74bc86f9caffc8c47dd7b33ec4bb354d9602d/variables/variables' with bilm/CNN/b_cnn_5\n"
     ]
    },
    {
     "name": "stderr",
     "output_type": "stream",
     "text": [
      "2018-08-01 23:47:49.87 INFO in 'tensorflow'['tf_logging'] at line 116: Initialize variable module_2/bilm/CNN/b_cnn_5:0 from checkpoint b'/tmp/tfhub_modules/9bb74bc86f9caffc8c47dd7b33ec4bb354d9602d/variables/variables' with bilm/CNN/b_cnn_5\n"
     ]
    },
    {
     "name": "stdout",
     "output_type": "stream",
     "text": [
      "INFO:tensorflow:Initialize variable module_2/bilm/CNN/b_cnn_6:0 from checkpoint b'/tmp/tfhub_modules/9bb74bc86f9caffc8c47dd7b33ec4bb354d9602d/variables/variables' with bilm/CNN/b_cnn_6\n"
     ]
    },
    {
     "name": "stderr",
     "output_type": "stream",
     "text": [
      "2018-08-01 23:47:49.93 INFO in 'tensorflow'['tf_logging'] at line 116: Initialize variable module_2/bilm/CNN/b_cnn_6:0 from checkpoint b'/tmp/tfhub_modules/9bb74bc86f9caffc8c47dd7b33ec4bb354d9602d/variables/variables' with bilm/CNN/b_cnn_6\n"
     ]
    },
    {
     "name": "stdout",
     "output_type": "stream",
     "text": [
      "INFO:tensorflow:Initialize variable module_2/bilm/CNN_high_0/W_carry:0 from checkpoint b'/tmp/tfhub_modules/9bb74bc86f9caffc8c47dd7b33ec4bb354d9602d/variables/variables' with bilm/CNN_high_0/W_carry\n"
     ]
    },
    {
     "name": "stderr",
     "output_type": "stream",
     "text": [
      "2018-08-01 23:47:49.99 INFO in 'tensorflow'['tf_logging'] at line 116: Initialize variable module_2/bilm/CNN_high_0/W_carry:0 from checkpoint b'/tmp/tfhub_modules/9bb74bc86f9caffc8c47dd7b33ec4bb354d9602d/variables/variables' with bilm/CNN_high_0/W_carry\n"
     ]
    },
    {
     "name": "stdout",
     "output_type": "stream",
     "text": [
      "INFO:tensorflow:Initialize variable module_2/bilm/CNN_high_0/W_transform:0 from checkpoint b'/tmp/tfhub_modules/9bb74bc86f9caffc8c47dd7b33ec4bb354d9602d/variables/variables' with bilm/CNN_high_0/W_transform\n"
     ]
    },
    {
     "name": "stderr",
     "output_type": "stream",
     "text": [
      "2018-08-01 23:47:49.107 INFO in 'tensorflow'['tf_logging'] at line 116: Initialize variable module_2/bilm/CNN_high_0/W_transform:0 from checkpoint b'/tmp/tfhub_modules/9bb74bc86f9caffc8c47dd7b33ec4bb354d9602d/variables/variables' with bilm/CNN_high_0/W_transform\n"
     ]
    },
    {
     "name": "stdout",
     "output_type": "stream",
     "text": [
      "INFO:tensorflow:Initialize variable module_2/bilm/CNN_high_0/b_carry:0 from checkpoint b'/tmp/tfhub_modules/9bb74bc86f9caffc8c47dd7b33ec4bb354d9602d/variables/variables' with bilm/CNN_high_0/b_carry\n"
     ]
    },
    {
     "name": "stderr",
     "output_type": "stream",
     "text": [
      "2018-08-01 23:47:49.114 INFO in 'tensorflow'['tf_logging'] at line 116: Initialize variable module_2/bilm/CNN_high_0/b_carry:0 from checkpoint b'/tmp/tfhub_modules/9bb74bc86f9caffc8c47dd7b33ec4bb354d9602d/variables/variables' with bilm/CNN_high_0/b_carry\n"
     ]
    },
    {
     "name": "stdout",
     "output_type": "stream",
     "text": [
      "INFO:tensorflow:Initialize variable module_2/bilm/CNN_high_0/b_transform:0 from checkpoint b'/tmp/tfhub_modules/9bb74bc86f9caffc8c47dd7b33ec4bb354d9602d/variables/variables' with bilm/CNN_high_0/b_transform\n"
     ]
    },
    {
     "name": "stderr",
     "output_type": "stream",
     "text": [
      "2018-08-01 23:47:49.122 INFO in 'tensorflow'['tf_logging'] at line 116: Initialize variable module_2/bilm/CNN_high_0/b_transform:0 from checkpoint b'/tmp/tfhub_modules/9bb74bc86f9caffc8c47dd7b33ec4bb354d9602d/variables/variables' with bilm/CNN_high_0/b_transform\n"
     ]
    },
    {
     "name": "stdout",
     "output_type": "stream",
     "text": [
      "INFO:tensorflow:Initialize variable module_2/bilm/CNN_high_1/W_carry:0 from checkpoint b'/tmp/tfhub_modules/9bb74bc86f9caffc8c47dd7b33ec4bb354d9602d/variables/variables' with bilm/CNN_high_1/W_carry\n"
     ]
    },
    {
     "name": "stderr",
     "output_type": "stream",
     "text": [
      "2018-08-01 23:47:49.132 INFO in 'tensorflow'['tf_logging'] at line 116: Initialize variable module_2/bilm/CNN_high_1/W_carry:0 from checkpoint b'/tmp/tfhub_modules/9bb74bc86f9caffc8c47dd7b33ec4bb354d9602d/variables/variables' with bilm/CNN_high_1/W_carry\n"
     ]
    },
    {
     "name": "stdout",
     "output_type": "stream",
     "text": [
      "INFO:tensorflow:Initialize variable module_2/bilm/CNN_high_1/W_transform:0 from checkpoint b'/tmp/tfhub_modules/9bb74bc86f9caffc8c47dd7b33ec4bb354d9602d/variables/variables' with bilm/CNN_high_1/W_transform\n"
     ]
    },
    {
     "name": "stderr",
     "output_type": "stream",
     "text": [
      "2018-08-01 23:47:49.140 INFO in 'tensorflow'['tf_logging'] at line 116: Initialize variable module_2/bilm/CNN_high_1/W_transform:0 from checkpoint b'/tmp/tfhub_modules/9bb74bc86f9caffc8c47dd7b33ec4bb354d9602d/variables/variables' with bilm/CNN_high_1/W_transform\n"
     ]
    },
    {
     "name": "stdout",
     "output_type": "stream",
     "text": [
      "INFO:tensorflow:Initialize variable module_2/bilm/CNN_high_1/b_carry:0 from checkpoint b'/tmp/tfhub_modules/9bb74bc86f9caffc8c47dd7b33ec4bb354d9602d/variables/variables' with bilm/CNN_high_1/b_carry\n"
     ]
    },
    {
     "name": "stderr",
     "output_type": "stream",
     "text": [
      "2018-08-01 23:47:49.149 INFO in 'tensorflow'['tf_logging'] at line 116: Initialize variable module_2/bilm/CNN_high_1/b_carry:0 from checkpoint b'/tmp/tfhub_modules/9bb74bc86f9caffc8c47dd7b33ec4bb354d9602d/variables/variables' with bilm/CNN_high_1/b_carry\n"
     ]
    },
    {
     "name": "stdout",
     "output_type": "stream",
     "text": [
      "INFO:tensorflow:Initialize variable module_2/bilm/CNN_high_1/b_transform:0 from checkpoint b'/tmp/tfhub_modules/9bb74bc86f9caffc8c47dd7b33ec4bb354d9602d/variables/variables' with bilm/CNN_high_1/b_transform\n"
     ]
    },
    {
     "name": "stderr",
     "output_type": "stream",
     "text": [
      "2018-08-01 23:47:49.156 INFO in 'tensorflow'['tf_logging'] at line 116: Initialize variable module_2/bilm/CNN_high_1/b_transform:0 from checkpoint b'/tmp/tfhub_modules/9bb74bc86f9caffc8c47dd7b33ec4bb354d9602d/variables/variables' with bilm/CNN_high_1/b_transform\n"
     ]
    },
    {
     "name": "stdout",
     "output_type": "stream",
     "text": [
      "INFO:tensorflow:Initialize variable module_2/bilm/CNN_proj/W_proj:0 from checkpoint b'/tmp/tfhub_modules/9bb74bc86f9caffc8c47dd7b33ec4bb354d9602d/variables/variables' with bilm/CNN_proj/W_proj\n"
     ]
    },
    {
     "name": "stderr",
     "output_type": "stream",
     "text": [
      "2018-08-01 23:47:49.163 INFO in 'tensorflow'['tf_logging'] at line 116: Initialize variable module_2/bilm/CNN_proj/W_proj:0 from checkpoint b'/tmp/tfhub_modules/9bb74bc86f9caffc8c47dd7b33ec4bb354d9602d/variables/variables' with bilm/CNN_proj/W_proj\n"
     ]
    },
    {
     "name": "stdout",
     "output_type": "stream",
     "text": [
      "INFO:tensorflow:Initialize variable module_2/bilm/CNN_proj/b_proj:0 from checkpoint b'/tmp/tfhub_modules/9bb74bc86f9caffc8c47dd7b33ec4bb354d9602d/variables/variables' with bilm/CNN_proj/b_proj\n"
     ]
    },
    {
     "name": "stderr",
     "output_type": "stream",
     "text": [
      "2018-08-01 23:47:49.169 INFO in 'tensorflow'['tf_logging'] at line 116: Initialize variable module_2/bilm/CNN_proj/b_proj:0 from checkpoint b'/tmp/tfhub_modules/9bb74bc86f9caffc8c47dd7b33ec4bb354d9602d/variables/variables' with bilm/CNN_proj/b_proj\n"
     ]
    },
    {
     "name": "stdout",
     "output_type": "stream",
     "text": [
      "INFO:tensorflow:Initialize variable module_2/bilm/RNN_0/RNN/MultiRNNCell/Cell0/rnn/lstm_cell/bias:0 from checkpoint b'/tmp/tfhub_modules/9bb74bc86f9caffc8c47dd7b33ec4bb354d9602d/variables/variables' with bilm/RNN_0/RNN/MultiRNNCell/Cell0/rnn/lstm_cell/bias\n"
     ]
    },
    {
     "name": "stderr",
     "output_type": "stream",
     "text": [
      "2018-08-01 23:47:49.177 INFO in 'tensorflow'['tf_logging'] at line 116: Initialize variable module_2/bilm/RNN_0/RNN/MultiRNNCell/Cell0/rnn/lstm_cell/bias:0 from checkpoint b'/tmp/tfhub_modules/9bb74bc86f9caffc8c47dd7b33ec4bb354d9602d/variables/variables' with bilm/RNN_0/RNN/MultiRNNCell/Cell0/rnn/lstm_cell/bias\n"
     ]
    },
    {
     "name": "stdout",
     "output_type": "stream",
     "text": [
      "INFO:tensorflow:Initialize variable module_2/bilm/RNN_0/RNN/MultiRNNCell/Cell0/rnn/lstm_cell/kernel:0 from checkpoint b'/tmp/tfhub_modules/9bb74bc86f9caffc8c47dd7b33ec4bb354d9602d/variables/variables' with bilm/RNN_0/RNN/MultiRNNCell/Cell0/rnn/lstm_cell/kernel\n"
     ]
    },
    {
     "name": "stderr",
     "output_type": "stream",
     "text": [
      "2018-08-01 23:47:49.183 INFO in 'tensorflow'['tf_logging'] at line 116: Initialize variable module_2/bilm/RNN_0/RNN/MultiRNNCell/Cell0/rnn/lstm_cell/kernel:0 from checkpoint b'/tmp/tfhub_modules/9bb74bc86f9caffc8c47dd7b33ec4bb354d9602d/variables/variables' with bilm/RNN_0/RNN/MultiRNNCell/Cell0/rnn/lstm_cell/kernel\n"
     ]
    },
    {
     "name": "stdout",
     "output_type": "stream",
     "text": [
      "INFO:tensorflow:Initialize variable module_2/bilm/RNN_0/RNN/MultiRNNCell/Cell0/rnn/lstm_cell/projection/kernel:0 from checkpoint b'/tmp/tfhub_modules/9bb74bc86f9caffc8c47dd7b33ec4bb354d9602d/variables/variables' with bilm/RNN_0/RNN/MultiRNNCell/Cell0/rnn/lstm_cell/projection/kernel\n"
     ]
    },
    {
     "name": "stderr",
     "output_type": "stream",
     "text": [
      "2018-08-01 23:47:49.189 INFO in 'tensorflow'['tf_logging'] at line 116: Initialize variable module_2/bilm/RNN_0/RNN/MultiRNNCell/Cell0/rnn/lstm_cell/projection/kernel:0 from checkpoint b'/tmp/tfhub_modules/9bb74bc86f9caffc8c47dd7b33ec4bb354d9602d/variables/variables' with bilm/RNN_0/RNN/MultiRNNCell/Cell0/rnn/lstm_cell/projection/kernel\n"
     ]
    },
    {
     "name": "stdout",
     "output_type": "stream",
     "text": [
      "INFO:tensorflow:Initialize variable module_2/bilm/RNN_0/RNN/MultiRNNCell/Cell1/rnn/lstm_cell/bias:0 from checkpoint b'/tmp/tfhub_modules/9bb74bc86f9caffc8c47dd7b33ec4bb354d9602d/variables/variables' with bilm/RNN_0/RNN/MultiRNNCell/Cell1/rnn/lstm_cell/bias\n"
     ]
    },
    {
     "name": "stderr",
     "output_type": "stream",
     "text": [
      "2018-08-01 23:47:49.195 INFO in 'tensorflow'['tf_logging'] at line 116: Initialize variable module_2/bilm/RNN_0/RNN/MultiRNNCell/Cell1/rnn/lstm_cell/bias:0 from checkpoint b'/tmp/tfhub_modules/9bb74bc86f9caffc8c47dd7b33ec4bb354d9602d/variables/variables' with bilm/RNN_0/RNN/MultiRNNCell/Cell1/rnn/lstm_cell/bias\n"
     ]
    },
    {
     "name": "stdout",
     "output_type": "stream",
     "text": [
      "INFO:tensorflow:Initialize variable module_2/bilm/RNN_0/RNN/MultiRNNCell/Cell1/rnn/lstm_cell/kernel:0 from checkpoint b'/tmp/tfhub_modules/9bb74bc86f9caffc8c47dd7b33ec4bb354d9602d/variables/variables' with bilm/RNN_0/RNN/MultiRNNCell/Cell1/rnn/lstm_cell/kernel\n"
     ]
    },
    {
     "name": "stderr",
     "output_type": "stream",
     "text": [
      "2018-08-01 23:47:49.202 INFO in 'tensorflow'['tf_logging'] at line 116: Initialize variable module_2/bilm/RNN_0/RNN/MultiRNNCell/Cell1/rnn/lstm_cell/kernel:0 from checkpoint b'/tmp/tfhub_modules/9bb74bc86f9caffc8c47dd7b33ec4bb354d9602d/variables/variables' with bilm/RNN_0/RNN/MultiRNNCell/Cell1/rnn/lstm_cell/kernel\n"
     ]
    },
    {
     "name": "stdout",
     "output_type": "stream",
     "text": [
      "INFO:tensorflow:Initialize variable module_2/bilm/RNN_0/RNN/MultiRNNCell/Cell1/rnn/lstm_cell/projection/kernel:0 from checkpoint b'/tmp/tfhub_modules/9bb74bc86f9caffc8c47dd7b33ec4bb354d9602d/variables/variables' with bilm/RNN_0/RNN/MultiRNNCell/Cell1/rnn/lstm_cell/projection/kernel\n"
     ]
    },
    {
     "name": "stderr",
     "output_type": "stream",
     "text": [
      "2018-08-01 23:47:49.209 INFO in 'tensorflow'['tf_logging'] at line 116: Initialize variable module_2/bilm/RNN_0/RNN/MultiRNNCell/Cell1/rnn/lstm_cell/projection/kernel:0 from checkpoint b'/tmp/tfhub_modules/9bb74bc86f9caffc8c47dd7b33ec4bb354d9602d/variables/variables' with bilm/RNN_0/RNN/MultiRNNCell/Cell1/rnn/lstm_cell/projection/kernel\n"
     ]
    },
    {
     "name": "stdout",
     "output_type": "stream",
     "text": [
      "INFO:tensorflow:Initialize variable module_2/bilm/RNN_1/RNN/MultiRNNCell/Cell0/rnn/lstm_cell/bias:0 from checkpoint b'/tmp/tfhub_modules/9bb74bc86f9caffc8c47dd7b33ec4bb354d9602d/variables/variables' with bilm/RNN_1/RNN/MultiRNNCell/Cell0/rnn/lstm_cell/bias\n"
     ]
    },
    {
     "name": "stderr",
     "output_type": "stream",
     "text": [
      "2018-08-01 23:47:49.215 INFO in 'tensorflow'['tf_logging'] at line 116: Initialize variable module_2/bilm/RNN_1/RNN/MultiRNNCell/Cell0/rnn/lstm_cell/bias:0 from checkpoint b'/tmp/tfhub_modules/9bb74bc86f9caffc8c47dd7b33ec4bb354d9602d/variables/variables' with bilm/RNN_1/RNN/MultiRNNCell/Cell0/rnn/lstm_cell/bias\n"
     ]
    },
    {
     "name": "stdout",
     "output_type": "stream",
     "text": [
      "INFO:tensorflow:Initialize variable module_2/bilm/RNN_1/RNN/MultiRNNCell/Cell0/rnn/lstm_cell/kernel:0 from checkpoint b'/tmp/tfhub_modules/9bb74bc86f9caffc8c47dd7b33ec4bb354d9602d/variables/variables' with bilm/RNN_1/RNN/MultiRNNCell/Cell0/rnn/lstm_cell/kernel\n"
     ]
    },
    {
     "name": "stderr",
     "output_type": "stream",
     "text": [
      "2018-08-01 23:47:49.221 INFO in 'tensorflow'['tf_logging'] at line 116: Initialize variable module_2/bilm/RNN_1/RNN/MultiRNNCell/Cell0/rnn/lstm_cell/kernel:0 from checkpoint b'/tmp/tfhub_modules/9bb74bc86f9caffc8c47dd7b33ec4bb354d9602d/variables/variables' with bilm/RNN_1/RNN/MultiRNNCell/Cell0/rnn/lstm_cell/kernel\n"
     ]
    },
    {
     "name": "stdout",
     "output_type": "stream",
     "text": [
      "INFO:tensorflow:Initialize variable module_2/bilm/RNN_1/RNN/MultiRNNCell/Cell0/rnn/lstm_cell/projection/kernel:0 from checkpoint b'/tmp/tfhub_modules/9bb74bc86f9caffc8c47dd7b33ec4bb354d9602d/variables/variables' with bilm/RNN_1/RNN/MultiRNNCell/Cell0/rnn/lstm_cell/projection/kernel\n"
     ]
    },
    {
     "name": "stderr",
     "output_type": "stream",
     "text": [
      "2018-08-01 23:47:49.227 INFO in 'tensorflow'['tf_logging'] at line 116: Initialize variable module_2/bilm/RNN_1/RNN/MultiRNNCell/Cell0/rnn/lstm_cell/projection/kernel:0 from checkpoint b'/tmp/tfhub_modules/9bb74bc86f9caffc8c47dd7b33ec4bb354d9602d/variables/variables' with bilm/RNN_1/RNN/MultiRNNCell/Cell0/rnn/lstm_cell/projection/kernel\n"
     ]
    },
    {
     "name": "stdout",
     "output_type": "stream",
     "text": [
      "INFO:tensorflow:Initialize variable module_2/bilm/RNN_1/RNN/MultiRNNCell/Cell1/rnn/lstm_cell/bias:0 from checkpoint b'/tmp/tfhub_modules/9bb74bc86f9caffc8c47dd7b33ec4bb354d9602d/variables/variables' with bilm/RNN_1/RNN/MultiRNNCell/Cell1/rnn/lstm_cell/bias\n"
     ]
    },
    {
     "name": "stderr",
     "output_type": "stream",
     "text": [
      "2018-08-01 23:47:49.234 INFO in 'tensorflow'['tf_logging'] at line 116: Initialize variable module_2/bilm/RNN_1/RNN/MultiRNNCell/Cell1/rnn/lstm_cell/bias:0 from checkpoint b'/tmp/tfhub_modules/9bb74bc86f9caffc8c47dd7b33ec4bb354d9602d/variables/variables' with bilm/RNN_1/RNN/MultiRNNCell/Cell1/rnn/lstm_cell/bias\n"
     ]
    },
    {
     "name": "stdout",
     "output_type": "stream",
     "text": [
      "INFO:tensorflow:Initialize variable module_2/bilm/RNN_1/RNN/MultiRNNCell/Cell1/rnn/lstm_cell/kernel:0 from checkpoint b'/tmp/tfhub_modules/9bb74bc86f9caffc8c47dd7b33ec4bb354d9602d/variables/variables' with bilm/RNN_1/RNN/MultiRNNCell/Cell1/rnn/lstm_cell/kernel\n"
     ]
    },
    {
     "name": "stderr",
     "output_type": "stream",
     "text": [
      "2018-08-01 23:47:49.241 INFO in 'tensorflow'['tf_logging'] at line 116: Initialize variable module_2/bilm/RNN_1/RNN/MultiRNNCell/Cell1/rnn/lstm_cell/kernel:0 from checkpoint b'/tmp/tfhub_modules/9bb74bc86f9caffc8c47dd7b33ec4bb354d9602d/variables/variables' with bilm/RNN_1/RNN/MultiRNNCell/Cell1/rnn/lstm_cell/kernel\n"
     ]
    },
    {
     "name": "stdout",
     "output_type": "stream",
     "text": [
      "INFO:tensorflow:Initialize variable module_2/bilm/RNN_1/RNN/MultiRNNCell/Cell1/rnn/lstm_cell/projection/kernel:0 from checkpoint b'/tmp/tfhub_modules/9bb74bc86f9caffc8c47dd7b33ec4bb354d9602d/variables/variables' with bilm/RNN_1/RNN/MultiRNNCell/Cell1/rnn/lstm_cell/projection/kernel\n"
     ]
    },
    {
     "name": "stderr",
     "output_type": "stream",
     "text": [
      "2018-08-01 23:47:49.248 INFO in 'tensorflow'['tf_logging'] at line 116: Initialize variable module_2/bilm/RNN_1/RNN/MultiRNNCell/Cell1/rnn/lstm_cell/projection/kernel:0 from checkpoint b'/tmp/tfhub_modules/9bb74bc86f9caffc8c47dd7b33ec4bb354d9602d/variables/variables' with bilm/RNN_1/RNN/MultiRNNCell/Cell1/rnn/lstm_cell/projection/kernel\n"
     ]
    },
    {
     "name": "stdout",
     "output_type": "stream",
     "text": [
      "INFO:tensorflow:Initialize variable module_2/bilm/char_embed:0 from checkpoint b'/tmp/tfhub_modules/9bb74bc86f9caffc8c47dd7b33ec4bb354d9602d/variables/variables' with bilm/char_embed\n"
     ]
    },
    {
     "name": "stderr",
     "output_type": "stream",
     "text": [
      "2018-08-01 23:47:49.253 INFO in 'tensorflow'['tf_logging'] at line 116: Initialize variable module_2/bilm/char_embed:0 from checkpoint b'/tmp/tfhub_modules/9bb74bc86f9caffc8c47dd7b33ec4bb354d9602d/variables/variables' with bilm/char_embed\n"
     ]
    }
   ],
   "source": [
    "embedder = CompositeEmbedder(use_elmo=True, elmo_scale=1, use_cap_feat=True, use_glove=True)"
   ]
  },
  {
   "cell_type": "code",
   "execution_count": 35,
   "metadata": {},
   "outputs": [
    {
     "name": "stdout",
     "output_type": "stream",
     "text": [
      "[14, 28]\n",
      "(2, 28, 1024)\n",
      "1024\n",
      "Use capitalization features\n",
      "(2, 28, 4)\n",
      "(2, 28, 1028)\n",
      "Use GloVe\n",
      "[['standing', 'tall', 'on', 'taihang', 'mountain', 'is', 'the', 'monument', 'to', 'the', 'hundred', 'regiments', 'offensive', '.'], ['it', 'is', 'composed', 'of', 'a', 'primary', 'stele', ',', 'secondary', 'steles', ',', 'a', 'huge', 'round', 'sculpture', 'and', 'beacon', 'tower', ',', 'and', 'the', 'great', 'wall', ',', 'among', 'other', 'things', '.']]\n",
      "(2, 28, 1128)\n",
      "ne mean vector: [-0.13697986 -0.02443596 -0.183432   ... -0.20988     0.43461599\n",
      "  0.22691433]\n",
      "Distances of token vectors to ne prototype: [[{'euc_dist': 17.853013562487345, 'dot_prod': 62.95430820293746, 'cosine': 0.3279110174907391}, {'euc_dist': 17.583414672166892, 'dot_prod': 51.47898400401348, 'cosine': 0.2822041801877988}, {'euc_dist': 14.293457865681205, 'dot_prod': 52.251479808178125, 'cosine': 0.35318168636958763}, {'euc_dist': 16.89811740422804, 'dot_prod': 108.10636830273414, 'cosine': 0.5204032540764532}, {'euc_dist': 15.31151196300865, 'dot_prod': 116.97815771553931, 'cosine': 0.588749832149641}, {'euc_dist': 12.816818648493909, 'dot_prod': 62.21906671683592, 'cosine': 0.4435995266791212}, {'euc_dist': 10.74760610916626, 'dot_prod': 95.78917861116649, 'cosine': 0.6502810086619085}, {'euc_dist': 13.759700654451304, 'dot_prod': 132.6752950910556, 'cosine': 0.68092080057007}, {'euc_dist': 12.884445125043234, 'dot_prod': 89.52580663725777, 'cosine': 0.5564629262983002}, {'euc_dist': 10.87408274244721, 'dot_prod': 106.19298264211218, 'cosine': 0.6813226217622512}, {'euc_dist': 17.080404056101163, 'dot_prod': 140.05053186491506, 'cosine': 0.6208954743072131}, {'euc_dist': 15.485765499584678, 'dot_prod': 110.75128016063256, 'cosine': 0.5630079679805173}, {'euc_dist': 15.851210251768109, 'dot_prod': 104.22922485215281, 'cosine': 0.5310584199025521}, {'euc_dist': 15.222188670141142, 'dot_prod': 39.28977059147624, 'cosine': 0.26458018611633954}], [{'euc_dist': 15.223561170677266, 'dot_prod': 55.21719324692502, 'cosine': 0.3453280726451586}, {'euc_dist': 14.665943156489217, 'dot_prod': 36.640654961088664, 'cosine': 0.26148212962076745}, {'euc_dist': 16.86864287992488, 'dot_prod': 36.579807138603705, 'cosine': 0.2214811169191811}, {'euc_dist': 15.353556920652352, 'dot_prod': 35.502091335301685, 'cosine': 0.24122861152911756}, {'euc_dist': 14.369644789605493, 'dot_prod': 45.75300252739768, 'cosine': 0.3180364577568356}, {'euc_dist': 16.15655534427635, 'dot_prod': 44.452680848326686, 'cosine': 0.2734769876788533}, {'euc_dist': 15.49143804519561, 'dot_prod': 44.38899087148759, 'cosine': 0.2860100870039673}, {'euc_dist': 14.327946412608425, 'dot_prod': 41.0737542439264, 'cosine': 0.29388963328453055}, {'euc_dist': 15.063630235855161, 'dot_prod': 49.66365539263653, 'cosine': 0.32185894065938764}, {'euc_dist': 15.49367439523129, 'dot_prod': 45.582255904879815, 'cosine': 0.2920622932169772}, {'euc_dist': 13.516165222881755, 'dot_prod': 43.914830132879345, 'cosine': 0.33038617435189466}, {'euc_dist': 14.240956928024652, 'dot_prod': 53.89195615049141, 'cosine': 0.36264588824042676}, {'euc_dist': 14.853151783392638, 'dot_prod': 60.14774989812223, 'cosine': 0.3772054324574279}, {'euc_dist': 16.205151784587528, 'dot_prod': 61.597946419195694, 'cosine': 0.35343965126796334}, {'euc_dist': 16.624693226829173, 'dot_prod': 63.36893834730236, 'cosine': 0.3526901467219392}, {'euc_dist': 14.824800429061744, 'dot_prod': 51.28707275386961, 'cosine': 0.33541480905579457}, {'euc_dist': 16.602238572572194, 'dot_prod': 54.62391429389194, 'cosine': 0.3139485852554449}, {'euc_dist': 16.964834462249726, 'dot_prod': 69.14660605619078, 'cosine': 0.3705835984808969}, {'euc_dist': 13.192342972772622, 'dot_prod': 49.58268446520977, 'cosine': 0.36993992280030613}, {'euc_dist': 13.271421768097875, 'dot_prod': 54.26542317296289, 'cosine': 0.3913554826959897}, {'euc_dist': 11.467633551941042, 'dot_prod': 79.56679585088324, 'cosine': 0.5642383271205985}, {'euc_dist': 15.43973826898038, 'dot_prod': 120.63963252445888, 'cosine': 0.5978488159805457}, {'euc_dist': 15.205123508266405, 'dot_prod': 118.08026829791316, 'cosine': 0.595163648573983}, {'euc_dist': 13.378655614276505, 'dot_prod': 48.78695911280582, 'cosine': 0.36030906294080206}, {'euc_dist': 17.021292492686523, 'dot_prod': 45.02793570817713, 'cosine': 0.26123369553141473}, {'euc_dist': 16.70370806459563, 'dot_prod': 57.87267013787046, 'cosine': 0.3267968520562961}, {'euc_dist': 16.297005181786627, 'dot_prod': 49.74002457706737, 'cosine': 0.29678128579885166}, {'euc_dist': 15.545627476429772, 'dot_prod': 38.546728177474066, 'cosine': 0.2542534602894663}]]\n"
     ]
    }
   ],
   "source": [
    "sims_ne, embeddings, tokens_length, ne_prototype = estimate_sim_to_ne_prototype(tokens, tags, embedder)\n",
    "print('Distances of token vectors to ne prototype: {}'.format(sims_ne))"
   ]
  },
  {
   "cell_type": "markdown",
   "metadata": {},
   "source": [
    "#### Flatten arrays"
   ]
  },
  {
   "cell_type": "code",
   "execution_count": 36,
   "metadata": {},
   "outputs": [],
   "source": [
    "def flatten(emdebbings, tokens_length, tags, sim_list):\n",
    "    emdebbings_flat = []\n",
    "    tags_flat = []\n",
    "    sims_flat = {'euc_dist': [], 'dot_prod': [], 'cosine': []}\n",
    "    for i in range(len(tokens_length)):\n",
    "        for j in range(tokens_length[i]):\n",
    "            emdebbings_flat.append(embeddings[i,j,:])\n",
    "            tags_flat.append(1 if tags[i][j] == 'T' else 0)\n",
    "            for sim_type in ['euc_dist', 'dot_prod', 'cosine']:\n",
    "                sims_flat[sim_type].append(sim_list[i][j][sim_type])\n",
    "    emdebbings_flat = np.array(emdebbings_flat)\n",
    "    tags_flat = np.array(tags_flat)\n",
    "    for sim_type in ['euc_dist', 'dot_prod', 'cosine']:\n",
    "        sims_flat[sim_type] = np.array(sims_flat[sim_type])\n",
    "    return emdebbings_flat, tags_flat, sims_flat"
   ]
  },
  {
   "cell_type": "code",
   "execution_count": 37,
   "metadata": {},
   "outputs": [
    {
     "name": "stdout",
     "output_type": "stream",
     "text": [
      "(42, 1128)\n",
      "(42,)\n",
      "dict_keys(['euc_dist', 'dot_prod', 'cosine'])\n",
      "(42,)\n"
     ]
    }
   ],
   "source": [
    "emdebbings_flat, tags_flat, sims_flat = flatten(embeddings, tokens_length, tags, sims_ne)\n",
    "print(emdebbings_flat.shape)\n",
    "print(tags_flat.shape)\n",
    "print(sims_flat.keys())\n",
    "print(sims_flat['cosine'].shape)"
   ]
  },
  {
   "cell_type": "code",
   "execution_count": 38,
   "metadata": {},
   "outputs": [
    {
     "name": "stdout",
     "output_type": "stream",
     "text": [
      "TOKEN   \tEUC_DIST\tDOT_PROD\tCOSINE_SIM\tTAG     \n",
      "Standing\t17.853  \t62.954  \t0.328   \tO       \n",
      "tall    \t17.583  \t51.479  \t0.282   \tO       \n",
      "on      \t14.293  \t52.251  \t0.353   \tO       \n",
      "Taihang \t16.898  \t108.106 \t0.520   \tT       \n",
      "Mountain\t15.312  \t116.978 \t0.589   \tT       \n",
      "is      \t12.817  \t62.219  \t0.444   \tO       \n",
      "the     \t10.748  \t95.789  \t0.650   \tT       \n",
      "Monument\t13.760  \t132.675 \t0.681   \tT       \n",
      "to      \t12.884  \t89.526  \t0.556   \tT       \n",
      "the     \t10.874  \t106.193 \t0.681   \tT       \n",
      "Hundred \t17.080  \t140.051 \t0.621   \tT       \n",
      "Regiments\t15.486  \t110.751 \t0.563   \tT       \n",
      "Offensive\t15.851  \t104.229 \t0.531   \tT       \n",
      ".       \t15.222  \t39.290  \t0.265   \tO       \n",
      "It      \t15.224  \t55.217  \t0.345   \tO       \n",
      "is      \t14.666  \t36.641  \t0.261   \tO       \n",
      "composed\t16.869  \t36.580  \t0.221   \tO       \n",
      "of      \t15.354  \t35.502  \t0.241   \tO       \n",
      "a       \t14.370  \t45.753  \t0.318   \tO       \n",
      "primary \t16.157  \t44.453  \t0.273   \tO       \n",
      "stele   \t15.491  \t44.389  \t0.286   \tO       \n",
      ",       \t14.328  \t41.074  \t0.294   \tO       \n",
      "secondary\t15.064  \t49.664  \t0.322   \tO       \n",
      "steles  \t15.494  \t45.582  \t0.292   \tO       \n",
      ",       \t13.516  \t43.915  \t0.330   \tO       \n",
      "a       \t14.241  \t53.892  \t0.363   \tO       \n",
      "huge    \t14.853  \t60.148  \t0.377   \tO       \n",
      "round   \t16.205  \t61.598  \t0.353   \tO       \n",
      "sculpture\t16.625  \t63.369  \t0.353   \tO       \n",
      "and     \t14.825  \t51.287  \t0.335   \tO       \n",
      "beacon  \t16.602  \t54.624  \t0.314   \tO       \n",
      "tower   \t16.965  \t69.147  \t0.371   \tO       \n",
      ",       \t13.192  \t49.583  \t0.370   \tO       \n",
      "and     \t13.271  \t54.265  \t0.391   \tO       \n",
      "the     \t11.468  \t79.567  \t0.564   \tT       \n",
      "Great   \t15.440  \t120.640 \t0.598   \tT       \n",
      "Wall    \t15.205  \t118.080 \t0.595   \tT       \n",
      ",       \t13.379  \t48.787  \t0.360   \tO       \n",
      "among   \t17.021  \t45.028  \t0.261   \tO       \n",
      "other   \t16.704  \t57.873  \t0.327   \tO       \n",
      "things  \t16.297  \t49.740  \t0.297   \tO       \n",
      ".       \t15.546  \t38.547  \t0.254   \tO       \n"
     ]
    }
   ],
   "source": [
    "print('{:<8s}\\t{:<8s}\\t{:<8s}\\t{:<8s}\\t{:<8s}'.format('TOKEN', 'EUC_DIST', 'DOT_PROD', 'COSINE_SIM', 'TAG'))\n",
    "for i in range(len(tokens)):\n",
    "    for j in range(len(tokens[i])):\n",
    "        print('{:<8s}\\t{:<8.3f}\\t{:<8.3f}\\t{:<8.3f}\\t{:<8s}'.format(tokens[i][j], sims_ne[i][j]['euc_dist'], sims_ne[i][j]['dot_prod'], sims_ne[i][j]['cosine'], tags[i][j]))"
   ]
  },
  {
   "cell_type": "markdown",
   "metadata": {},
   "source": [
    "### Calculate some metrics"
   ]
  },
  {
   "cell_type": "code",
   "execution_count": 39,
   "metadata": {
    "scrolled": true
   },
   "outputs": [
    {
     "name": "stdout",
     "output_type": "stream",
     "text": [
      "Cosine similarity:\n",
      "NE\tmin=0.520\tmax=0.681\n",
      "words\tmin=0.221\tmax=0.444\n"
     ]
    }
   ],
   "source": [
    "ne_cosine_sim_min = np.min(sims_flat['cosine'][tags_flat == 1])\n",
    "ne_cosine_sim_max = np.max(sims_flat['cosine'][tags_flat == 1])\n",
    "words_cosine_sim_min = np.min(sims_flat['cosine'][tags_flat == 0])\n",
    "words_cosine_sim_max = np.max(sims_flat['cosine'][tags_flat == 0])\n",
    "print('Cosine similarity:')\n",
    "print('NE\\tmin={:.3f}\\tmax={:.3f}'.format(ne_cosine_sim_min, ne_cosine_sim_max))\n",
    "print('words\\tmin={:.3f}\\tmax={:.3f}'.format(words_cosine_sim_min, words_cosine_sim_max))"
   ]
  },
  {
   "cell_type": "markdown",
   "metadata": {},
   "source": [
    "### Embeddings visualisation"
   ]
  },
  {
   "cell_type": "code",
   "execution_count": 40,
   "metadata": {},
   "outputs": [
    {
     "name": "stdout",
     "output_type": "stream",
     "text": [
      "(42, 42)\n"
     ]
    }
   ],
   "source": [
    "from sklearn.manifold import TSNE\n",
    "from sklearn.decomposition import PCA\n",
    "emdebbings_flat_red = PCA(n_components=50).fit_transform(emdebbings_flat)\n",
    "print(emdebbings_flat_red.shape)\n",
    "tsne = TSNE(n_components=2, method='exact', init='pca')\n",
    "embeddings_2d = tsne.fit_transform(emdebbings_flat)\n",
    "# ne_prototype_2d = tsne.fit_transform(ne_prototype)"
   ]
  },
  {
   "cell_type": "code",
   "execution_count": 42,
   "metadata": {},
   "outputs": [
    {
     "name": "stdout",
     "output_type": "stream",
     "text": [
      "(42, 2)\n"
     ]
    },
    {
     "data": {
      "text/plain": [
       "<matplotlib.legend.Legend at 0x7f83866f6d68>"
      ]
     },
     "execution_count": 42,
     "metadata": {},
     "output_type": "execute_result"
    },
    {
     "data": {
      "image/png": "[encoded data removed]",
      "text/plain": [
       "<Figure size 432x288 with 1 Axes>"
      ]
     },
     "metadata": {},
     "output_type": "display_data"
    }
   ],
   "source": [
    "print(embeddings_2d.shape)\n",
    "plt.scatter(embeddings_2d[tags_flat == 1, 0],embeddings_2d[tags_flat == 1, 1], c='r', label='Named entities')\n",
    "plt.scatter(embeddings_2d[tags_flat == 0, 0],embeddings_2d[tags_flat == 0, 1], c='g', label='Casual words')\n",
    "# plt.scatter(ne_prototype_2d[0], ne_prototype_2d[1], c='g', marker='+', label='NE prototype')\n",
    "plt.legend()"
   ]
  },
  {
   "cell_type": "markdown",
   "metadata": {},
   "source": [
    "### Test model"
   ]
  },
  {
   "cell_type": "code",
   "execution_count": 71,
   "metadata": {},
   "outputs": [
    {
     "name": "stdout",
     "output_type": "stream",
     "text": [
      "[(['Dear', 'viewers', ',', 'the', 'China', 'News', 'program', 'will', 'end', 'here', '.'], ['O', 'O', 'O', 'O', 'B-ORG', 'I-ORG', 'O', 'O', 'O', 'O', 'O']), (['This', 'is', 'Xu', 'Li', '.'], ['O', 'O', 'B-PERSON', 'I-PERSON', 'O']), (['Thank', 'you', 'everyone', 'for', 'watching', '.'], ['O', 'O', 'O', 'O', 'O', 'O']), (['Coming', 'up', 'is', 'the', 'Focus', 'Today', 'program', 'hosted', 'by', 'Wang', 'Shilin', '.'], ['O', 'O', 'O', 'O', 'B-ORG', 'I-ORG', 'O', 'O', 'O', 'B-PERSON', 'I-PERSON', 'O']), (['Good-bye', ',', 'dear', 'viewers', '.'], ['O', 'O', 'O', 'O', 'O'])]\n",
      "[['Dear', 'viewers', ',', 'the', 'China', 'News', 'program', 'will', 'end', 'here', '.'], ['This', 'is', 'Xu', 'Li', '.'], ['Thank', 'you', 'everyone', 'for', 'watching', '.'], ['Coming', 'up', 'is', 'the', 'Focus', 'Today', 'program', 'hosted', 'by', 'Wang', 'Shilin', '.'], ['Good-bye', ',', 'dear', 'viewers', '.']]\n",
      "[['O', 'O', 'O', 'O', 'B-ORG', 'I-ORG', 'O', 'O', 'O', 'O', 'O'], ['O', 'O', 'B-PERSON', 'I-PERSON', 'O'], ['O', 'O', 'O', 'O', 'O', 'O'], ['O', 'O', 'O', 'O', 'B-ORG', 'I-ORG', 'O', 'O', 'O', 'B-PERSON', 'I-PERSON', 'O'], ['O', 'O', 'O', 'O', 'O']]\n"
     ]
    }
   ],
   "source": [
    "test_sentences = dataset['test'][3:8]\n",
    "print(test_sentences)\n",
    "tokens_test, tags_test = split_examples(test_sentences)\n",
    "print(tokens_test)\n",
    "print(tags_test)"
   ]
  },
  {
   "cell_type": "code",
   "execution_count": 72,
   "metadata": {},
   "outputs": [],
   "source": [
    "def infer_tags(tokens: len, ne_prototype: np.ndarray, embedder: CompositeEmbedder):\n",
    "    if isinstance(tokens[0], str):\n",
    "        tokens = [tokens]\n",
    "    \n",
    "    tokens_length = get_tokens_len(tokens)\n",
    "    print(tokens_length)\n",
    "    \n",
    "    # Calculate embeddings\n",
    "    embeddings = embedder.embed(tokens)\n",
    "    \n",
    "    # Calculate similarities\n",
    "    sim_list = calc_sim_batch(tokens, embeddings, ne_prototype)\n",
    "    \n",
    "    threshold = 0.5\n",
    "    tags = [['T' if sim_list[i][j]['cosine'] > threshold else 'O' for j in range(tokens_length[i])] for i in range(len(tokens_length))]\n",
    "    print(tags)\n",
    "    print(len(tags))\n",
    "    return tags, sim_list"
   ]
  },
  {
   "cell_type": "code",
   "execution_count": 73,
   "metadata": {},
   "outputs": [
    {
     "name": "stdout",
     "output_type": "stream",
     "text": [
      "[11, 5, 6, 12, 5]\n",
      "[11, 5, 6, 12, 5]\n",
      "(5, 12, 1024)\n",
      "1024\n",
      "Use capitalization features\n",
      "(5, 12, 4)\n",
      "(5, 12, 1028)\n",
      "Use GloVe\n",
      "[['dear', 'viewers', ',', 'the', 'china', 'news', 'program', 'will', 'end', 'here', '.'], ['this', 'is', 'xu', 'li', '.'], ['thank', 'you', 'everyone', 'for', 'watching', '.'], ['coming', 'up', 'is', 'the', 'focus', 'today', 'program', 'hosted', 'by', 'wang', 'shilin', '.'], ['good-bye', ',', 'dear', 'viewers', '.']]\n",
      "(5, 12, 1128)\n",
      "[['O', 'O', 'O', 'O', 'O', 'O', 'O', 'O', 'O', 'O', 'O'], ['O', 'O', 'O', 'O', 'O'], ['O', 'O', 'O', 'O', 'O', 'O'], ['O', 'O', 'O', 'O', 'O', 'O', 'O', 'O', 'O', 'O', 'O', 'O'], ['O', 'O', 'O', 'O', 'O']]\n",
      "5\n",
      "[[{'euc_dist': 19.81533195169285, 'dot_prod': 43.99112333294333, 'cosine': 0.21772083474121598}, {'euc_dist': 18.824018580150977, 'dot_prod': 28.241798357007095, 'cosine': 0.15515582799497402}, {'euc_dist': 14.617330913171882, 'dot_prod': 32.22320573361427, 'cosine': 0.23687855255588186}, {'euc_dist': 13.624608680618486, 'dot_prod': 51.4670616366187, 'cosine': 0.36709049389461335}, {'euc_dist': 16.431239556091644, 'dot_prod': 65.26618679235429, 'cosine': 0.364872857017399}, {'euc_dist': 19.234674965088153, 'dot_prod': 61.15027026767121, 'cosine': 0.2979975331235317}, {'euc_dist': 15.97279996913599, 'dot_prod': 39.43124804080156, 'cosine': 0.2510794696697243}, {'euc_dist': 15.765818347604867, 'dot_prod': 29.823906455812562, 'cosine': 0.20189141954018586}, {'euc_dist': 17.656393496156248, 'dot_prod': 39.18289700617932, 'cosine': 0.2230873007047123}, {'euc_dist': 15.347916732922505, 'dot_prod': 39.56805008080989, 'cosine': 0.26357172314518734}, {'euc_dist': 15.626620775695514, 'dot_prod': 35.30576335144428, 'cosine': 0.23511751046753696}], [{'euc_dist': 15.496164477464834, 'dot_prod': 50.71563419214688, 'cosine': 0.3176060540785146}, {'euc_dist': 15.388368921533083, 'dot_prod': 32.96831422559379, 'cosine': 0.22632578858210836}, {'euc_dist': 19.207003192563885, 'dot_prod': 50.83149827289449, 'cosine': 0.2550618464657748}, {'euc_dist': 18.414760297582625, 'dot_prod': 47.725592209450156, 'cosine': 0.2524238979856928}, {'euc_dist': 15.321502795962564, 'dot_prod': 35.68309347014135, 'cosine': 0.24284262912970062}], [{'euc_dist': 19.18453108208014, 'dot_prod': 41.98038989467946, 'cosine': 0.21629405125304144}, {'euc_dist': 17.967069758524513, 'dot_prod': 39.03586058941144, 'cosine': 0.21809266895516827}, {'euc_dist': 17.78585985813869, 'dot_prod': 35.76818947051508, 'cosine': 0.20446584005636556}, {'euc_dist': 17.069774614882974, 'dot_prod': 27.562364199713922, 'cosine': 0.17079524616294117}, {'euc_dist': 18.165749854782433, 'dot_prod': 22.751003752253656, 'cosine': 0.13305346416549343}, {'euc_dist': 16.143193018338845, 'dot_prod': 32.66779390503211, 'cosine': 0.21186077441220583}], [{'euc_dist': 19.377419960963124, 'dot_prod': 47.28226319090143, 'cosine': 0.2374248824200844}, {'euc_dist': 18.055031785154352, 'dot_prod': 40.29478329029081, 'cosine': 0.22295591290980857}, {'euc_dist': 14.91433335463085, 'dot_prod': 32.36836852584663, 'cosine': 0.23177347789173447}, {'euc_dist': 13.304631711184877, 'dot_prod': 51.89527954800601, 'cosine': 0.37847039677580974}, {'euc_dist': 18.964714844999506, 'dot_prod': 53.398873420518974, 'cosine': 0.26948695259820327}, {'euc_dist': 18.750244916358056, 'dot_prod': 59.645307358396735, 'cosine': 0.29916716292405743}, {'euc_dist': 16.732289894494006, 'dot_prod': 33.57332308282872, 'cosine': 0.2077733538591809}, {'euc_dist': 18.935804046373676, 'dot_prod': 22.02085394326143, 'cosine': 0.12266789768438795}, {'euc_dist': 15.498291360672026, 'dot_prod': 34.77418443547213, 'cosine': 0.23449391623201213}, {'euc_dist': 18.82815150095735, 'dot_prod': 45.1135544797302, 'cosine': 0.23495277267230544}, {'euc_dist': 16.296554937099536, 'dot_prod': 43.07622395800688, 'cosine': 0.2640246884023007}, {'euc_dist': 15.477363905563909, 'dot_prod': 32.77814902820505, 'cosine': 0.22364992518952234}], [{'euc_dist': 16.235081836310393, 'dot_prod': 46.07238466815659, 'cosine': 0.2800833593257047}, {'euc_dist': 14.231423511496585, 'dot_prod': 30.546179978321636, 'cosine': 0.23491369057226363}, {'euc_dist': 19.207782921985086, 'dot_prod': 31.792928858915715, 'cosine': 0.1686836211645423}, {'euc_dist': 18.489236026164726, 'dot_prod': 24.63573802509154, 'cosine': 0.1400110749418415}, {'euc_dist': 15.881952714179306, 'dot_prod': 32.033641590725395, 'cosine': 0.2125487089435256}]]\n"
     ]
    }
   ],
   "source": [
    "tags_test_pred, sim_list = infer_tags(tokens_test, ne_prototype, embedder)\n",
    "print(sim_list)"
   ]
  },
  {
   "cell_type": "code",
   "execution_count": null,
   "metadata": {},
   "outputs": [],
   "source": []
  }
 ],
 "metadata": {
  "kernelspec": {
   "display_name": "Python 3",
   "language": "python",
   "name": "python3"
  },
  "language_info": {
   "codemirror_mode": {
    "name": "ipython",
    "version": 3
   },
   "file_extension": ".py",
   "mimetype": "text/x-python",
   "name": "python",
   "nbconvert_exporter": "python",
   "pygments_lexer": "ipython3",
   "version": "3.6.5"
  }
 },
 "nbformat": 4,
 "nbformat_minor": 2
}
